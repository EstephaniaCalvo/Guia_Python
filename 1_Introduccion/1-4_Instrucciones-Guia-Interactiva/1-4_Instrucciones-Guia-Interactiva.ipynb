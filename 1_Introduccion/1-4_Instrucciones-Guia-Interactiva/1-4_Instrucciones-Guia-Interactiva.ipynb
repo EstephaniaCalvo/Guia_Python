{
 "cells": [
  {
   "cell_type": "markdown",
   "metadata": {},
   "source": [
    "# 1. Introducción"
   ]
  },
  {
   "cell_type": "markdown",
   "metadata": {},
   "source": [
    "---\n",
    "### `*`[1.1. Presentación](../1_Introduccion.ipynb#1.1_Presentacion) <!--(https://mybinder.org/Introduccion)-->  \n",
    "### `*`[1.2. Instalación](../1_Introduccion.ipynb#1.2_Instalacion) <!--(https://mybinder.org/Introduccion)-->   \n",
    "### `*` [1.3. Algunos IDE](../1-3_Algunos-IDE/1-3-1_IDLE/1-3-1_IDLE.ipynb#1.3_Algunos-IDE) <!--(https://mybinder.org/Algunos-IDE/JupyterLab)-->  \n",
    ">`*`[1.3.1. IDLE](../1-3_Algunos-IDE/1-3-1_IDLE/1-3-1_IDLE.ipynb#1.3.1_IDLE) <!--(https://mybinder.org/Algunos-IDE/JupyterLab)-->   \n",
    "`*`[1.3.2. Spyder](../1-3_Algunos-IDE/1-3-2_Spyder/1-3-2_Spyder.ipynb#1.3.2_Spyder) <!--(https://mybinder.org/Algunos-IDE/Spyder)-->  \n",
    "`*`[1.3.3. JupyterLab](../1-3_Algunos-IDE/1-3-3_JupyterLab/1-3-3_JupyterLab.ipynb#1.3.3_JupyterLab) <!--(https://mybinder.org/Algunos-IDE/Jupyter)-->  \n",
    "\n",
    "### [1.4. Instrucciones Guía Interactiva](#1.4_Insutrucciones-Guia-Interactiva)\n",
    ">[1.4.1. Opciones principales](#1.4.1_Opciones)  \n",
    "[1.4.2. Tipos de Bloques](#1.4.2_Tipos-de-bloques)  \n",
    "[1.4.3. Descargas](#1.4.3_Descargas)  \n",
    "\n",
    "---"
   ]
  },
  {
   "cell_type": "markdown",
   "metadata": {},
   "source": [
    "## 1.4 Instrucciones Guía Interactiva <a id='1.4_Insutrucciones-Guia-Interactiva'></a>"
   ]
  },
  {
   "cell_type": "markdown",
   "metadata": {},
   "source": [
    "Esta guía es una colección de Notebooks de JupyterLab, almacenadas en un repositorio en Github, y convertidas a un entorno interactivo a través de Binder, por lo cual, el menú tiene prácticamente las mismas opciones que un Notebook normal de Jupyter, como se vio en el apartado 1.3.3 JupyterLab, y adicionalmente tiene un link para visitar el repositorio, y copiar el link de la página.\n",
    "\n",
    "![Fig-1_Menú-Binder](Fig-1_Menu-Binder.jpg \"Figura 1: Menú Binder\")\n",
    "\n",
    "###### *Figura 1: Menú Binder*"
   ]
  },
  {
   "cell_type": "markdown",
   "metadata": {},
   "source": [
    "#### 1.4.1. Opciones principales <a id='1.4.1_Opciones'></a>"
   ]
  },
  {
   "cell_type": "markdown",
   "metadata": {},
   "source": [
    "| **OPCIÓN** |  | **DESCRIPCIÓN** |\n",
    "| :--------: | :-------: |:------- |\n",
    "|![Fig-2_Ejecutar](Fig-2_Ejecutar.jpg)| |Ejecutar bloque de código (Ctrl+Enter)|\n",
    "|![Fig-3_Insertar](Fig-3_Insertar.jpg)| |Insertar bloque de código|\n",
    "|![Fig-4_Restaurar](Fig-4_Restaurar.jpg)| |Restaurar el Kernel|"
   ]
  },
  {
   "cell_type": "markdown",
   "metadata": {},
   "source": [
    "#### 1.4.2. Tipos de Bloques <a id='1.4.2_Tipos-de-bloques'></a>"
   ]
  },
  {
   "cell_type": "markdown",
   "metadata": {},
   "source": [
    "La guía tiene tres tipos de bloques:\n",
    "1. Texto: Bloque en markdown. (No modificar)\n",
    "2. Ejemplos: Bloque de código. (No modificar)\n",
    "3. Consolas vacías: Bloque de código. (Modificar)\n",
    "\n",
    "Todos los bloques se pueden modificar, pero no tiene sentido modificar los dos primeros, ya que, se estaría cambiando el contenido de la guía, para experimentar modificando los ejemplos, y hacer los ejercicios propuestos están las consolas vacías, que se presentan a lo largo de la guía, o ser insertadas en el notebook si se considera necesario.\n",
    "\n",
    "#### - Recomendaciones\n",
    "\n",
    "- Revise en la esquina superior derecha que el Kernel de Python 3 este activado.\n",
    "- Ejecutar los ejemplos: Al encontrarse con un ejemplo ejecútelo.\n",
    "- **No** nombrar variables igual que las creadas en el notebook: Se puede generar un conflicto, recuerde que los bloques de código no son independientes, es decir, que hay que hacer de cuenta que están escritos en solo documento.py.\n",
    "- Evitar copiar y pegar código: La mejor manera de aprender un lenguaje de programación es escribiéndolo, por lo tanto, no es aconsejable reciclar código.\n",
    "- En caso modificar o eliminar accidentalmente un bloque, vuelva a cargar la página."
   ]
  },
  {
   "cell_type": "markdown",
   "metadata": {},
   "source": [
    "#### 1.4.3. Descargas<a id='1.4.3_Descargas'></a>"
   ]
  },
  {
   "cell_type": "markdown",
   "metadata": {},
   "source": [
    "En el caso de que no pueda acceder al contenido Online, la guía también tiene una versión interactiva descargable, y una versión en PDF. \n",
    " - `*` [Versión descargable]() `*`\n",
    " - `*` [Versión en PDF]() `*`"
   ]
  },
  {
   "cell_type": "markdown",
   "metadata": {},
   "source": [
    "Pasar los ejemplos en las conslas y ejecutarlos, indicar que el código que debe ir en la cosola es el que el que esta entre *( \\```python)* y *( \\```)*\n",
    "\n",
    "Decir aquí en Juypyter que a diferencia del Shell, aquí se deben utilizar print para imiprimir los resultados.\n",
    "\n",
    "Hablar de los mini ejercicios, ejemplos, y su diferencia con los ejemplos o ejercicios.\n",
    "\n",
    "Hacer una listado de ejemplos y ejercicios.\n",
    "\n",
    "Siempre hay un menú de la sección en la parte de arraiba de las notebook\n",
    "\n",
    "Usar Gift"
   ]
  },
  {
   "cell_type": "markdown",
   "metadata": {},
   "source": [
    "| `*` [**Anteriror**](../1-3_Algunos-IDE/1-3-1_IDLE//1-3-1_IDLE.ipynb#1-3_Algunos-IDE) <!--(https://mybinder.org/Algunos-IDE/Jupyter)--> | - | `*` [**Siguiente**](../../2_Elementos-Basicos/2_Elementos-Basicos.ipynb#2_Elementos-Basicos) <!--(https://mybinder.org/)--> |\n",
    "| :--------: | :-------: | :--------: |"
   ]
  },
  {
   "cell_type": "markdown",
   "metadata": {},
   "source": [
    "| `*`[**Home**](../../Home_Pequena_Guia_Python.ipynb#Home)<!--(https://mybinder.org/Home)--> |\n",
    "| :--------: |"
   ]
  }
 ],
 "metadata": {
  "kernelspec": {
   "display_name": "Python 3",
   "language": "python",
   "name": "python3"
  },
  "language_info": {
   "codemirror_mode": {
    "name": "ipython",
    "version": 3
   },
   "file_extension": ".py",
   "mimetype": "text/x-python",
   "name": "python",
   "nbconvert_exporter": "python",
   "pygments_lexer": "ipython3",
   "version": "3.7.4"
  }
 },
 "nbformat": 4,
 "nbformat_minor": 4
}
