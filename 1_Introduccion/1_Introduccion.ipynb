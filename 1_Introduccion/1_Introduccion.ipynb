{
 "cells": [
  {
   "cell_type": "markdown",
   "metadata": {},
   "source": [
    "# 1. Introducción <a id='1_Introduccion'></a>"
   ]
  },
  {
   "cell_type": "markdown",
   "metadata": {},
   "source": [
    "---\n",
    "### [1.1. Presentación](#1.1_Presentacion)  \n",
    "### [1.2. Instalación](#1.2_Instalacion)  \n",
    ">[Opción 1: Python](#Opcion-1_Python)  \n",
    "[Opción 2: Anaconda](#Opcion-2_Anaconda)  \n",
    "\n",
    "### `*`[1.3. Algunos IDE](1-3_Algunos-IDE/1-3-1_IDLE/1-3-1_IDLE.ipynb#1.3_Algunos-IDE) <!--(https://mybinder.org/Algunos-IDE/IDLE)-->  \n",
    ">`*`[1.3.1. IDLE](1-3_Algunos-IDE/1-3-1_IDLE/1-3-1_IDLE.ipynb#1.3.1_IDLE) <!--(https://mybinder.org/Algunos-IDE/IDLE)-->   \n",
    "`*`[1.3.2. Spyder](1-3_Algunos-IDE/1-3-2_Spyder/1-3-2_Spyder.ipynb#1.3.2_Spyder) <!--(https://mybinder.org/Algunos-IDE/Spyder)-->  \n",
    "`*`[1.3.3. JupyterLab](1-3_Algunos-IDE/1-3-3_JupyterLab/1-3-3_JupyterLab.ipynb#1.3.3_JupyterLab) <!--(https://mybinder.org/Algunos-IDE/JupyterLab)-->  \n",
    "\n",
    "### `*`[1.4. Instrucciones Guía Interactiva](1-4_Instrucciones-Guia-Interactiva/1-4_Instrucciones-Guia-Interactiva.ipynb#1.4_Insutrucciones-Guia-Interactiva) <!--(https://mybinder.org/Instrucciones)-->\n",
    "---"
   ]
  },
  {
   "cell_type": "markdown",
   "metadata": {},
   "source": [
    "## 1.1. Presentación <a id='1.1_Presentacion'></a>"
   ]
  },
  {
   "cell_type": "markdown",
   "metadata": {},
   "source": [
    "La presente guía esta creada a partir de la Pequeña Guía de Python Versión 0.5, del profesor Leonardo Rivera Cadavid y usada en el curso de Implementación de algoritmos de Ingeniería industrial, en la Universidad del Valle,  Cali, Colombia, 2017.\n",
    "\n",
    "El objetivo principal es ayudar a una rápida familiarización con el lenguaje Python, el programa de desarrollo IDLE que viene incluido con este, el administrador de paquetes Anaconda y algunas de las aplicaciones incluidas allí, con el fin de apoyar  la `*`[***Guía de implementación de algoritmos de ingeniería industrial***](https//Guia \"Ir a la Guía de implementación de algoritmos de ingeniería industrial\")`*` de la Universidad valle, Cali, Colombia. \n",
    "\n",
    "Para mayor información sobre el lenguaje, su historia, su filosofía y su creador lo invito a consultar recursos como:\n",
    "\n",
    " > https://en.wikipedia.org/wiki/Python_(programming_language)  \n",
    "https://www.python.org/about/  \n",
    "https://docs.anaconda.com  "
   ]
  },
  {
   "cell_type": "markdown",
   "metadata": {},
   "source": [
    "## 1.2. Instalación <a id='1.2_Instalacion'></a>"
   ]
  },
  {
   "cell_type": "markdown",
   "metadata": {},
   "source": [
    "Para poder empezar a programar con el lenguaje Python, se debe descargar un intérprete del lenguaje y un IDE (Integrated Development Environment, Entorno Integrado de Desarrollo), a continuación, se mostrarán dos formas comunes para hacerlo.\n",
    "\n",
    "###### **Nota:** Recomiendo instalar el administrador de paquetes Anaconda, porque no hay necesidad de instalar módulos aparte."
   ]
  },
  {
   "cell_type": "markdown",
   "metadata": {},
   "source": [
    "### Opción 1: Python <a id='Opcion-1_Python'></a>"
   ]
  },
  {
   "cell_type": "markdown",
   "metadata": {},
   "source": [
    "#### - Contenido:  \n",
    "- Interprete del lenguaje\n",
    "- IDLE: Programa nativo para escribir código.\n",
    "\n",
    "###### **Nota:** IDLE es considerado como un IDE, sin embargo, no lo considero un entorno sofisticado como Spyder o JupyterLab, de todas maneras, es un programa liviano, amigable y fácil de usar.\n",
    "\n",
    "#### - Instalación \n",
    "\n",
    "Para ver los archivos y las instrucciones de instalación del intérprete de Python 3 ingrese [aquí](www.python.org/downloads/ \"www.python.org/downloads/\"). \n",
    "\n",
    "Por favor sigan las instrucciones para su respectivo sistema operativo. Hay versiones para Windows, Mac OS X y todos los sabores de Linux.\n",
    "\n",
    "En este momento la versión vigente es la 3.8.0. Verá que en muchos casos aún ofrecen instaladores y otros recursos para Python 2.7. La razón es que existen muchos programas escritos en versiones anteriores, entonces aún se presta soporte para ellas. Sin embargo, el desarrollo y soporte para Python 2.7 se detendrá paulatinamente, y todos los sistemas migrarán a la versión más actualizada. **Por ello para el desarrollo de la guía utilizaremos Python 3.x**.\n",
    "\n",
    "Tenga en cuenta que la instalación de esta opción es más rápida que la opción 2, sin embargo, solo tendrá preinstalados los módulos básicos, así que en el momento de ser requeridos otros módulos, estos deberán ser instalados por medio del administrador de paquetes **pip**, cuyo método es diferente en cada sistema operativo, en esta guía solamente se explicarán los pasos para la [instalación en **Windows** y en **Linux**](1-3_Algunos-IDE/1-3-1_IDLE/1-3-1_IDLE.ipynb#1.3.1.4_Instalacion-de-Modulos \"Ir al apartado de Instalación de módulos\")"
   ]
  },
  {
   "cell_type": "markdown",
   "metadata": {},
   "source": [
    "### Opción 2: Anaconda **(Recomendada)** <a id='Opcion-2_Anaconda'></a>"
   ]
  },
  {
   "cell_type": "markdown",
   "metadata": {},
   "source": [
    "#### - ¿Qué es?\n",
    "\n",
    "Anaconda es un administrador gratuito de paquetes y de entornos, y una distribución de data science de Python y R con una colección de más de 1,500+ paquetes de código abierto. Su instalación es fácil, y ofrece soporte comunitario gratuito.\n",
    "\n",
    "#### - Contenido:\n",
    "\n",
    "- Interprete de lenguaje Pyhon. \n",
    "- Anaconda Navigator: GUI (Graphical User Interface - Interfaz Gráfica de Usuario).\n",
    "- Más de 250 paquetes preinstalados\n",
    "\n",
    "###### **Nota:** Los paquetes preinstalados en para la versión actual en Windows los puede encontrar [aquí](https://docs.anaconda.com/anaconda/packages/py3.7_win-64/ \"Ir a la documentación oficial de Anaconda\")\n",
    "- Jupyter Notebook\n",
    "- JupyterLab\n",
    "- Spyder\n",
    "- Otras herramientas que **No** se utilizarán en la guía, como Glueviz, Orange 3, RStudio y VS Code.\n",
    "\n",
    "#### - Instalación \n",
    "\n",
    "Para ver los archivos y las instrucciones de instalación de Anaconda para los diferentes sistemas operativos ingrese [aquí](https://www.anaconda.com/distribution/ \"https://www.anaconda.com/distribution/\"). \n",
    "\n",
    "En este momento la versión vigente es la 2019.10 para Python 3.7"
   ]
  },
  {
   "cell_type": "markdown",
   "metadata": {},
   "source": [
    "| `*`[**Home**](../Home_Pequena_Guia_Python.ipynb#Home)<!--(https://mybinder.org/Home)--> | - | `*`[**Siguiente**](1-3_Algunos-IDE/1-3-1_IDLE/1-3-1_IDLE.ipynb#1.3_Algunos-IDE)<!--(https://mybinder.org/v2/gh/EstephaniaCalvo/Pequena-Guia-Python/Home?filepath=1-Introduccion%2F1-2-1%20IDLE%2F1-3-1_IDLE.ipynb)--> |\n",
    "| :--------: | :-------: | :--------: |"
   ]
  }
 ],
 "metadata": {
  "kernelspec": {
   "display_name": "Python 3",
   "language": "python",
   "name": "python3"
  },
  "language_info": {
   "codemirror_mode": {
    "name": "ipython",
    "version": 3
   },
   "file_extension": ".py",
   "mimetype": "text/x-python",
   "name": "python",
   "nbconvert_exporter": "python",
   "pygments_lexer": "ipython3",
   "version": "3.7.4"
  }
 },
 "nbformat": 4,
 "nbformat_minor": 4
}
