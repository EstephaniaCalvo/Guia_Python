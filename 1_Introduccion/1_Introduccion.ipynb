{
 "cells": [
  {
   "cell_type": "markdown",
   "metadata": {},
   "source": [
    "![Fig3_Encabezado.png](../Fig3_Encabezado.png)\n",
    "\n",
    "---------------------"
   ]
  },
  {
   "cell_type": "markdown",
   "metadata": {},
   "source": [
    "# 1. Introducción <a id='1_Introduccion'></a>"
   ]
  },
  {
   "cell_type": "markdown",
   "metadata": {},
   "source": [
    "### [1.1. Presentación](#1.1_Presentacion)  \n",
    "### [1.2. Instalación](#1.2_Instalacion)  \n",
    ">[Opción 1: Python](#Opcion-1_Python)  \n",
    "[Opción 2: Anaconda](#Opcion-2_Anaconda)  \n",
    "\n",
    "### [1.3. Algunos IDE](1_3_Algunos_IDE/1_3_1_IDLE/1_3_1_IDLE.ipynb#1.3_Algunos-IDE) <!--(https://mybinder.org/Algunos-IDE/IDLE)-->  \n",
    ">[1.3.1. IDLE](1_3_Algunos_IDE/1_3_1_IDLE/1_3_1_IDLE.ipynb#IDLE) <!--(https://mybinder.org/Algunos-IDE/IDLE)-->   \n",
    "[1.3.2. JupyterLab](1_3_Algunos_IDE/1_3_2_JupyterLab/1_3_2_JupyterLab.ipynb#1.3.2_JupyterLab) <!--(https://mybinder.org/Algunos-IDE/JupyterLab)-->  \n",
    "\n",
    "### [1.4. Instrucciones Guía Interactiva](1_4_Instrucciones_Guia_Interactiva/1_4_Instrucciones_Guia_Interactiva.ipynb#1.4_Insutrucciones-Guia-Interactiva) <!--(https://mybinder.org/Instrucciones)-->"
   ]
  },
  {
   "cell_type": "markdown",
   "metadata": {},
   "source": [
    "---\n",
    "\n",
    "## **1.1. Presentación** <a id='1.1_Presentacion'></a>"
   ]
  },
  {
   "cell_type": "markdown",
   "metadata": {},
   "source": [
    "Esta guía es una herramienta para la Escuela de Ingeniería Industrial de la Universidad del Valle para apoyarla en el cumplimiento de su objetivo de desarrollar la competencia de programación en los estudiantes de pregrado.    \n",
    "\n",
    "Está diseñada para guiar al estudiante en el proceso de la implementación computacional de diez algoritmos explicados en diferentes materias y semestres, con el fin de que durante la carrera tenga varios proyectos donde deba programar e integrar esta habilidad con lo aprendido en las asignaturas profesionales obligatorias y su contexto.   \n",
    "\n",
    "Para implementar y estructurar los algoritmos la guía utiliza como base el lenguaje de programación Python y el paradigma de programación imperativo por bloques. Se escogió este lenguaje porque es fácil de aprender en poco tiempo y principalmente porque el estudiante lo utilizó en la asignatura de Algoritmia y Programación en segundo semestre. Igualmente, el paradigma fue escogido por el motivo anterior y finalmente se escogió una implementación por bloques porque de esta forma el algoritmo se puede dividir en problemas más pequeños facilitando el proceso de programación. \n",
    "\n",
    "\n",
    "#### **Estructura**\n",
    "\n",
    "La guía está dividida en dos partes principales:\n",
    "\n",
    "- **Parte 1 / Guía de Python:** (Capítulos 2 al 9)\n",
    "\n",
    "    Es un manual de consulta donde se explican y muestran con ejemplos interactivos todos los componentes del lenguaje que el estudiante debe conocer para implementar los algoritmos. Comprende desde los elementos básicos como el manejo de variables, operadores aritméticos, estructuras de decisión y repetición hasta lectura / escritura de archivos y manejo de módulos. \n",
    "    \n",
    "    Esta parte de la guía se basa en la Pequeña Guía de Python Versión 0.5, del profesor Leonardo Rivera Cadavid y usada en el curso de Implementación de Algoritmos de Ingeniería Industrial, en la Universidad del Valle, Cali, Colombia, 2017.\n",
    "    \n",
    "- **Parte 2 - Laboratorios:** (Capítulo 10)\n",
    "\n",
    "    Son las guías de implementación de los algoritmos, cada una de ellas contiene:\n",
    "    \n",
    "    - **Descripción:** Descripción breve del algoritmo que es y para que se suele usar normalmente.      \n",
    "    - **Ejemplo:** Ejemplo que se puede realizar a mano o en Excel para que el estudiante se familiarice y aprenda cada paso del algoritmo.      \n",
    "    - **Análisis del problema:** Análisis detallado para hacer implementación del algoritmo, objetivo, análisis de entradas, salidas y proceso.       \n",
    "    - **Plantilla:** Es un conjunto de páginas donde se estructura en el algoritmo en (Importe de módulos / Funciones auxiliares / Programa principal), donde el estudiante tiene las instrucciones y el espacio para programar. La plantilla es el espacio donde el estudiante puede realizar todo el proceso de implementación del algoritmo, y una vez llena lo puede pasar en limpio al archivo ‘ .py ‘ (Script de Python).        \n",
    "    \n",
    "        Cada función auxiliar es un bloque, por lo que cada una tiene una página por aparte que contiene:   \n",
    "        \n",
    "        - **Objetivo:** Explicación breve de lo que debe hacer la función.     \n",
    "        - **Análisis de entrada:** Listado con los ejemplos de cada entrada que debe recibe la función.     \n",
    "        - **Análisis de salidas:** Listado con los ejemplos de cada salida que debe retornar la función, según las entradas mostradas anteriormente.     \n",
    "        - **Espacio para programar:** Celda para programar en Python.     \n",
    "        - **Material de apoyo:** Links a secciones específicas de la Guía de Python, donde encontrará ejemplos para poder programar la función.     \n",
    "        \n",
    "    - **Práctica:** Caso práctico donde se presenta un problema en contexto al estudiante donde debe hacer uso del programa que realizó para obtener rápidamente unos resultados y hacer un análisis de ellos integrando los conceptos aprendidos en la carrera.   \n",
    "\n",
    "La guía está implementada en el entorno de desarrollo de JupyterLab para tener:\n",
    "\n",
    "- **Ejemplos interactivos:** El estudiante además de ver el código de los ejemplos los puede correr, modificar, experimentar con ellos y ver los resultados, de esta manera se facilita la comprensión de la lógica, la sintaxis y la función del elemento que se esté explicando.\n",
    "\n",
    "- **Implementación guiada:** Para implementar el algoritmo el estudiante debe seguir el flujo y las indicaciones de la plantilla que se enlaza con la Guía de Python, realizando todo el proceso de implementación en la misma guía.\n",
    "\n",
    "Por lo anterior la guía esta subida en Binder y se puede abrir en un entorno completamente online en cualquier computadora que tenga buena conexión, sin embargo, lo más recomendable es [descargarla](1_4_Instrucciones_Guia_Interactiva/1_4_Instrucciones_Guia_Interactiva.ipynb#Descarga \"Ir a las instrucciones para descargar la guía\"), pero previamente se debe tener instalado Python y JupyterLab como se explica en la siguiente sección."
   ]
  },
  {
   "cell_type": "markdown",
   "metadata": {},
   "source": [
    "<a id='Instalacion'></a>\n",
    "## **1.2. Instalación de Python** <a id='1.2_Instalacion'></a>"
   ]
  },
  {
   "cell_type": "markdown",
   "metadata": {},
   "source": [
    "Para poder empezar a programar con el lenguaje Python, se debe descargar un intérprete del lenguaje y un IDE (Integrated Development Environment / Entorno Integrado de Desarrollo), a continuación, se mostrarán las dos formas más comunes para hacerlo.\n",
    "\n",
    "###### **Nota:** Se recomienda instalar el administrador de paquetes y entornos Anaconda como índica la opción 2, porque con el no hay necesidad de instalar módulos aparte."
   ]
  },
  {
   "cell_type": "markdown",
   "metadata": {},
   "source": [
    "## Opción 1: Python <a id='Opcion-1_Python'></a>"
   ]
  },
  {
   "cell_type": "markdown",
   "metadata": {},
   "source": [
    "#### - Contenido:  \n",
    "- Interprete del lenguaje\n",
    "- IDLE: Programa nativo para escribir código.\n",
    "\n",
    "###### **Nota:** IDLE es considerado como un IDE, sin embargo, no es un entorno sofisticado como Spyder o JupyterLab, de todas maneras, es un programa liviano, amigable y fácil de usar.\n",
    "\n",
    "#### - Instalación \n",
    "\n",
    "Para ver los archivos y las instrucciones de instalación del intérprete de Python 3 hay que ingresar [aquí](https://www.python.org/downloads/ \"ir a la página de descargas de Python\") y seguir las instrucciones según el sistema operativo que se tenga instalado. Hay versiones para Windows, Mac OS X y Linux.\n",
    "\n",
    "En este momento la versión vigente es la 3.8.0, en muchos casos aún ofrecen instaladores y otros recursos para Python 2.7. La razón es que existen muchos programas escritos en versiones anteriores, entonces aún se presta soporte para ellas. Sin embargo, el desarrollo y soporte para Python 2.7 se detendrá paulatinamente, y todos los sistemas migrarán a la versión más actualizada. **Por ello para el desarrollo de la guía se utilizará Python 3.x**.\n",
    "\n",
    "Hay que tener en cuenta que la instalación de esta opción es más rápida que la opción 2, sin embargo, solo se tendrá preinstalados los módulos de la [libreria estándar](../9_Modulos/9_Modulos_y_Paquetes.ipynb#9.3_Libreria-Estandar \"Ir al apartado 9.3. Libreria Estandar\"), así que en el momento de ser requeridos otros módulos como numpy, matplotlib y pandas, estos deberán ser instalados por medio del administrador de paquetes **pip**.\n",
    "\n",
    "En esta guía se explicarán los pasos para la [instalación de paquetes](../9_Modulos/9_Modulos_y_Paquetes.ipynb#9.4.1_Instalacion-de-Paquetes \"Ir al apartado 9.4.1. Instalacion de Paquetes\") en Windows y también será necesario instalar JupyterLab por aparte con **pip** como se explica [aquí](1_3_Algunos_IDE/1_3_2_JupyterLab/1_3_2_JupyterLab.ipynb#instalacion \"Ir al apartado de instalación del subcapítulo JupyterLab\")."
   ]
  },
  {
   "cell_type": "markdown",
   "metadata": {},
   "source": [
    "## Opción 2: Anaconda **(Recomendada)** <a id='Opcion-2_Anaconda'></a>"
   ]
  },
  {
   "cell_type": "markdown",
   "metadata": {},
   "source": [
    "#### - ¿Qué es?\n",
    "\n",
    "Anaconda es un administrador gratuito de paquetes y de entornos, y una distribución de Data Science de Python y R con una colección de más de 1,500 paquetes de código abierto. Su instalación es fácil, y ofrece soporte comunitario gratuito.\n",
    "\n",
    "#### - Contenido:\n",
    "\n",
    "- Interprete de lenguaje Pyhon. \n",
    "- Anaconda Navigator: GUI (Graphical User Interface - Interfaz Gráfica de Usuario).\n",
    "- Más de 250 paquetes preinstalados\n",
    "- Jupyter Notebook\n",
    "- JupyterLab\n",
    "- Spyder\n",
    "- Otras herramientas que **No** se utilizarán en la guía, como Glueviz, Orange 3, RStudio y VS Code.\n",
    "\n",
    "###### **Nota:** Los paquetes preinstalados para la versión actual en Windows se pueden encontrar [aquí](https://docs.anaconda.com/anaconda/packages/py3.7_win-64/ \"Ir a la documentación oficial de Anaconda\")\n",
    "\n",
    "#### - Instalación \n",
    "\n",
    "Para ver los archivos y las instrucciones de instalación de Anaconda para los diferentes sistemas operativos se debe ingresar [aquí](https://www.anaconda.com/distribution/ \"https://www.anaconda.com/distribution/\"). \n",
    "\n",
    "En este momento la versión vigente es la 2019.10 para Python 3.7"
   ]
  },
  {
   "cell_type": "markdown",
   "metadata": {},
   "source": [
    "-----"
   ]
  },
  {
   "cell_type": "markdown",
   "metadata": {},
   "source": [
    "| [**Home**](../Home.ipynb#Home)<!--(https://mybinder.org/Home)--> | - | [**Siguiente**](1_3_Algunos_IDE/1_3_1_IDLE/1_3_1_IDLE.ipynb#1.3_Algunos-IDE)<!--(https://mybinder.org/v2/gh/EstephaniaCalvo/Pequena-Guia-Python/Home?filepath=1-Introduccion%2F1-2-1%20IDLE%2F1-3-1_IDLE.ipynb)--> |\n",
    "| :--------: | :-------: | :--------: |"
   ]
  }
 ],
 "metadata": {
  "kernelspec": {
   "display_name": "Python 3",
   "language": "python",
   "name": "python3"
  },
  "language_info": {
   "codemirror_mode": {
    "name": "ipython",
    "version": 3
   },
   "file_extension": ".py",
   "mimetype": "text/x-python",
   "name": "python",
   "nbconvert_exporter": "python",
   "pygments_lexer": "ipython3",
   "version": "3.7.4"
  }
 },
 "nbformat": 4,
 "nbformat_minor": 4
}
