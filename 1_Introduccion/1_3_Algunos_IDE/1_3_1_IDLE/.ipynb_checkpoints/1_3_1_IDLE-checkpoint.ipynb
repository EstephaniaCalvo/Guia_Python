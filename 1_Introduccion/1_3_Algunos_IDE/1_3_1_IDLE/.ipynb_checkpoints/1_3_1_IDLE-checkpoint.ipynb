{
 "cells": [
  {
   "cell_type": "markdown",
   "metadata": {},
   "source": [
    "## **1.3. Algunos IDE** <a id='1.3_Algunos-IDE'></a>"
   ]
  },
  {
   "cell_type": "markdown",
   "metadata": {},
   "source": [
    "---\n",
    "[1.3.1. IDLE](#1.3.1_IDLE)\n",
    ">[1.3.1.1. Configuración Básica](#1.3.1.1_Configuracion-Basica)  \n",
    "[1.3.1.2. Entorno Interactivo (Shell)](#1.3.1.2_Entorno-Interactivo)  \n",
    "[1.3.1.3. Editor de Código](#1.3.1.3_Editor-de-Codigo)  \n",
    "[1.3.1.4. Ejecutar el Código](#1.3.1.4_Ejecutar-el-Codigo)    \n",
    "[1.3.1.5. Instalación de Módulos](#1.3.1.5_Instalacion-de-Modulos)   \n",
    "\n",
    "[1.3.2. Spyder](../1_3_2_JupyterLab/1_3_2_JupyterLab.ipynb#1.3.2_Jupyter) <!--(https://mybinder.org/Algunos-IDE/Spyder)--> "
   ]
  },
  {
   "cell_type": "markdown",
   "metadata": {},
   "source": [
    "---\n",
    "\n",
    "El escoger un entorno de trabajo depende de las necesidades, recursos y gustos, por ejemplo, yo empecé con IDLE y con él aprendí las bases de Python, luego me pasé a Spyder cuando tuve proyectos más grandes, sin embargo, para esta guía usé JupyterLab.  \n",
    "\n",
    "A continuación, se introducirán algunos IDE, sus ventajas y desventajas para realizar los ejercicios de esta guía, sin embargo, cabe resaltar que esta es sólo una pincelada de todas sus funciones, y también que hay gran cantidad de IDE que no mencionaré ya que nunca he trabajado con ellos."
   ]
  },
  {
   "cell_type": "markdown",
   "metadata": {},
   "source": [
    "## 1.3.1 IDLE <a id='1.3.1_IDLE'></a>"
   ]
  },
  {
   "cell_type": "markdown",
   "metadata": {},
   "source": [
    "Una vez instalado IDLE, este se ubicará donde ustedes le indiquen en el proceso de instalación. \n",
    "\n",
    "Al abrirlo podremos ver la ventana principal de IDLE, como se muestra en la *Figura 1*. Como pueden ver es una interfaz muy sencilla y no tiene todos los botones, opciones, ventanas divididas y otras características de los IDE más sofisticados, como veremos más adelante.\n",
    "\n",
    "![Fig1_Shell_IDLE](Fig1_Shell_IDLE.jpg \"Figura 1: Ventana principal del IDLE\")\n",
    "\n",
    "###### *Figura 1: Ventana principal del IDLE*\n",
    "\n",
    "Los tres “signos de mayor” (>>>) que se ven en la última línea son el prompt. IDLE nos presenta un entorno interactivo, lo que quiere decir que no es necesario que tengamos escrito un archivo aparte con nuestro código para empezar a experimentar con Python."
   ]
  },
  {
   "cell_type": "markdown",
   "metadata": {},
   "source": [
    "### 1.3.1.1. Configuración Básica <a id='1.3.1.1_Configuracion-Basica'></a>"
   ]
  },
  {
   "cell_type": "markdown",
   "metadata": {},
   "source": [
    "Si queremos configurar aspectos de interacción con IDLE, lo podemos hacer en el menú **Options/Configure IDLE**. En la *Figura 2* se muestra la ventana de configuración. \n",
    "\n",
    "Tres recomendaciones:\n",
    "\n",
    "1. Utilicen un tipo de letra (Font) que sea no proporcional (monospaced), donde cada letra ocupa el mismo espacio. Tipos como Courier, Courier New, Terminal y muchos terminados en “Mono” (Liberation Mono, Ubuntu Mono) son adecuados. Depende de las preferencias personales.\n",
    "\n",
    "2. Recomiendo usar un tema oscuro, y aumentar el tamaño de la letra a 11 o 12 puntos, debido a que no desgasta tanto la vista al momento de trabajar por un tiempo prolongado.\n",
    "\n",
    "3. Mantengan la [indentación](../../../3_Estructuras_Logicas/3_Estructuras_Logicas.ipynb#3.1.1.1_Indentacion \"¿Por qué la identación en Python es muy importante?\") estándar en cuatro espacios. Más adelante será claro por qué esto es buena idea en Python.\n",
    "\n",
    "**Nota:** La primeras dos recomendaciones aplican para la configuración de cualquier IDE, y la última para cualquiera con el que se vaya usar Python.\n",
    "    \n",
    "![Fig2_Configuracion_Shell_IDLE](Fig2_Configuracion_Shell_IDLE.jpg \"Figura 2: Configuración del IDLE\")\n",
    "\n",
    "###### *Figura 2: Configuración del IDLE*"
   ]
  },
  {
   "cell_type": "markdown",
   "metadata": {},
   "source": [
    "### 1.3.1.2. Entorno Interactivo (Shell) <a id='1.3.1.2_Entorno-Interactivo'></a>"
   ]
  },
  {
   "cell_type": "markdown",
   "metadata": {},
   "source": [
    "Como les decía, IDLE es interactivo. Eso quiere decir que podemos usar comandos de Python directamente en la ventana. Por ejemplo, en la Figura 3 podemos ver como asigno el valor 3 a la variable `a`, 4 a la variable `b`, y luego asigno a la variable `c` la multiplicación de `a*b` y si invoco el nombre de una variable `c` y oprimo <Enter> veré en pantalla su valor actual.\n",
    "\n",
    "![Fig3_Interaccion_Shell_IDLE](Fig3_Interaccion_Shell_IDLE.gif)\n",
    "\n",
    "###### *Figura 3: Ejemplo interacción en el Shell*"
   ]
  },
  {
   "cell_type": "markdown",
   "metadata": {},
   "source": [
    "### 1.3.1.3. Editor de Código <a id='1.3.1.3_Editor-de-Codigo'></a>"
   ]
  },
  {
   "cell_type": "markdown",
   "metadata": {},
   "source": [
    "En nuestro caso el Shell nos va a servir para hacer ensayos, hacer consultas con el comando `help`, y ejecutar programas, sin embargo, cuando vayamos a escribir programas debemos abrir un documento .py en blanco (*Figura 4*), para esto debemos ir a **File/New File** (**Ctrl+N**).\n",
    "    \n",
    "![Fig4_Hola_Mundo_IDLE](Fig4_Hola_Mundo_IDLE.jpg \"Figura 4: Hola mundo en IDLE\")\n",
    "\n",
    "###### *Figura 4: Hola mundo en IDLE*  \n",
    "###### Descargar: [Programa 0 - Hola-mundo-IDLE.py](http://localhost:8888/files/Documents/GitHub/Pequena-Guia-Python/1-Introduccion/1-3-1%20IDLE/Pgr-0_Hola-Mundo-IDLE.py?_xsrf=2%7Ccd28966d%7Cdfd2972442343649119a1aa2c6f9590a%7C1571969686)\n",
    "\n",
    "### 1.3.1.4. Ejecutar el Código <a id='1.3.1.4_Ejecutar-el-Codigo'></a>\n",
    "\n",
    "Para ejecutar el programa, primero hay que guardarlo y luego dirigirse a **Run/Run Module** o solo oprimir **F5**, y el programa será ejecutado en el Shell, como se ve en la *Figura 5*.\n",
    "\n",
    "![Fig5_Ejecucion_Hola_Mundo_IDLE](Fig5_Ejecucion_Hola_Mundo_IDLE.jpg \"Figura 5: Ejecución Hola mundo en IDLE\")\n",
    "\n",
    "###### *Figura 5: Ejecución Hola mundo en IDLE*"
   ]
  },
  {
   "cell_type": "markdown",
   "metadata": {},
   "source": [
    "### 1.3.1.5. Instalación de Módulos <a id='1.3.1.5_Instalacion-de-Modulos'></a>"
   ]
  },
  {
   "cell_type": "markdown",
   "metadata": {},
   "source": [
    "Para poder utilizar módulos de terceros estos deben ser instalados, [aquí](../../../9_Modulos/9_Modulos_y_Paquetes.ipynb#9_Modulos_y_Paquetes#9.4.1_Instalación-de-Paquetes) puede encontrar las instrucciones para hacerlo en el sistema operativo Windows."
   ]
  },
  {
   "cell_type": "markdown",
   "metadata": {},
   "source": [
    "-----"
   ]
  },
  {
   "cell_type": "markdown",
   "metadata": {},
   "source": [
    "| [**Anteriror**](../../1_Introduccion.ipynb#1_Introduccion) <!--(https://mybinder.org/Introduccion)--> | - | [**Siguiente**](../1_3_2_JupyterLab/1_3_2_JupyterLab.ipynb#1.3.2_Jupyter) <!--(https://mybinder.org/Algunos-IDE/Spyder)--> |\n",
    "| :--------: | :-------: | :--------: |"
   ]
  },
  {
   "cell_type": "markdown",
   "metadata": {},
   "source": [
    "| [**Home**](../../../Home.ipynb#Home)<!--(https://mybinder.org/Home)--> |\n",
    "| :--------: |"
   ]
  }
 ],
 "metadata": {
  "kernelspec": {
   "display_name": "Python 3",
   "language": "python",
   "name": "python3"
  },
  "language_info": {
   "codemirror_mode": {
    "name": "ipython",
    "version": 3
   },
   "file_extension": ".py",
   "mimetype": "text/x-python",
   "name": "python",
   "nbconvert_exporter": "python",
   "pygments_lexer": "ipython3",
   "version": "3.7.4"
  }
 },
 "nbformat": 4,
 "nbformat_minor": 4
}
