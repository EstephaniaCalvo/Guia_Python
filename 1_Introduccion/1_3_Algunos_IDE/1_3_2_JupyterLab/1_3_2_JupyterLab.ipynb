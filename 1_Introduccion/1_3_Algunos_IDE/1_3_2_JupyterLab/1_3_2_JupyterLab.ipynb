{
 "cells": [
  {
   "cell_type": "markdown",
   "metadata": {},
   "source": [
    "## 1.3.2. JupyterLab <a id='1.3.2_JupyterLab'></a>"
   ]
  },
  {
   "cell_type": "markdown",
   "metadata": {},
   "source": [
    "---\n",
    "[1.3.2.1. Interfáz](#1.3.2.1_Interfaz)  \n",
    "[1.3.2.2. Jupyter Notebooks](#1.3.2.2_Jupyter_Notebooks)    \n",
    "[1.3.2.3. Celdas de Código](#1.3.2.3_Celdas_de_Codigo)  "
   ]
  },
  {
   "cell_type": "markdown",
   "metadata": {},
   "source": [
    "---\n",
    "JupyterLab es IDE basado en web para manipular Jupyter notebooks, código, y datos, viene preinstlado en el administrador de entornos y paquetes Anaconda, [aquí](https://jupyter.org/ \"Ir a la página oficial de Jupyter\") puede entrar a la página oficial de Jupyter.\n",
    "\n",
    "### 1.3.2.1. Interfáz\n",
    "\n",
    "Como es basado en Web JupyterLab se abre en el navegador, su una interfaz tiene muchos más detalles que la de [IDLE](../1_3_1_IDLE/1_3_1_IDLE.ipynb \"Ir al apartado 1.3.1. IDLE\"), para ver su guía oficial ingrese [aquí](https://jupyterlab.readthedocs.io/en/latest/user/interface.html \"Ir a la guía oficial de la interfaz de Jupyter.\"). A continuación se mostrarán sus partes principales.\n",
    "\n",
    "![interfaz1.png](Imagenes/interfaz1.png \"Ejemplo: Interfáz de JupyterLab\")\n",
    "\n",
    "1. **Menú:** Es lo que está señalado en cuadro verde, con este menú se puede interactuar con la pestaña que esté activa, y la configuración de la interfaz en general.\n",
    "\n",
    "2. **Barra izquierda:** Es la barra que está en el recuadro azul, por defecto viene abierta si quiere ocultarla vaya a **View/Show Left Sidebar/**. Contiene varias opciones, sin embargo, para la guía solo es necesario conocer dos: \n",
    "    - **Barra de navegación**: Tiene el símbolo de la carpeta y sierve para navegar por los directorios.\n",
    "    - **Barra de terminales y kernels**: Está justo abajo de la barra de navegación y con ella se puede cerrar las seciones los kernels de los notebooks, consolas y terminales que han sido abiertos.\n",
    "    ![interfaz2](Imagenes/Interfaz2.png \"Ver la interfaz de la brra de terminales y kernels\")\n",
    "\n",
    "3. **Mesa de trabajo:** Es es espacio donde se abren las petañas de los documentos con los que se van a trabajar y está señalado con rojo, como puede ver puede contener varias pestañas a la vez, según la diposición que haya elegido el usuario, para organizar una pestañas solo debe arrastrarla hasta el lugar donde quiera ponerla.\n",
    "    Jupyter soporta la visualizacion de varios archivos, algunos de ellos son: \n",
    "    - **Jupyter Notebooks:** Documento .ipynb\n",
    "    - **Consolas:** En la guía se utlizarán como si fueran el Shell de IDLE.\n",
    "    - **Terminales:** Simbolo del sistema.\n",
    "    - **Imágenes:** Archivos .png, .jpg. .gif.\n",
    "    - **Archivos de texto plano:** .txt, .md(makrdow)\n",
    "    \n",
    "    Además de los documentos también contiene el Laucher, donde están todos los documentos y/o apliciones que se puede crear o abrir."
   ]
  },
  {
   "cell_type": "markdown",
   "metadata": {},
   "source": [
    "### 1.3.2.2. Jupyter Notebooks <a id='1.3.2.2_Jupyter_Notebooks'></a>\n",
    "\n",
    "Es un documento que permite insteractuar con celdas de código para correr el lenguaje indicado y con celdas de texto plano escrito con Markdown, ampliamente usado en ciencias de datos y el mundo académico por las claras ventajas que presenta al compartir y visualizar proyectos con código en vivo. La extención de este tipo de doucmentos es .ipynb\n",
    "\n",
    "Si está en la versión interactiva de la guía, usted se encuentra ahora en un notebook, para abrir uno nuevo diríjase a la carpeta donde quiere crearlo con el navegador de archivos, después abrálo con el Laucher o vaya a **File/New/Notebook**, selecciones Python 3 como Kernel, por defecto se creará una celda de código.\n",
    "\n",
    "Antes de ver las opciones para interactuar con las celdas, hay que concer la diferencia entre estar afuera o adentro de una celda. \n",
    "\n",
    "**Adentro:** Para entrar a una celda solamente de clik dentro de ella.\n",
    "![Celda1](Imagenes/Celda1.png \"Estar adentro de una celda\")\n",
    "\n",
    "\n",
    "**Afuera:** Para salir de una celda de click entre la barra azul y el recuardro de la celda.\n",
    "\n",
    "![Celda2](Imagenes/Celda2.png \"Estar adentro de una celda\")\n",
    "\n",
    "Estos son los atajos de teclado que funcionan cuando se está afuera de celda.\n",
    "\n",
    "- **A :** Crear una celda nueva arriba de la posición acutual\n",
    "- **B :** Crear una celda nueva abajo de la posición acutual\n",
    "- **M :** Convertir a celda Markdonw\n",
    "- **Y :** Convertir a celda de código\n",
    "- **DD :** Borrar una celda\n",
    "- **Shift + M :** Juntar dos celdas \n",
    "- **C :** Copiar\n",
    "- **X :** Cortar\n",
    "- **V :** Pegar\n",
    "- **Z :** Revertir\n",
    "- **Shit + Z :** Devolver\n",
    "\n",
    "Cuando está en una celda use estos atajos:\n",
    "\n",
    "- **Ctrl + C :** Copiar\n",
    "- **Ctrl + X :** Cortar\n",
    "- **Ctrl + V :** Pegar\n",
    "- **Ctrl + Z :** Revertir\n",
    "- **Ctrl + Y :** Devolver\n",
    "- **Ctrl + Shift + - :** Dividir celda\n",
    "- **Ctrl + Enter :** Correr la celda\n",
    "- **Ctrl + Shift + Enter :** Correr la celda y avanzar."
   ]
  },
  {
   "cell_type": "markdown",
   "metadata": {},
   "source": [
    "### 1.3.2.3. Celdas de Código <a id='1.3.2.3_Celdas_de_Codigo'></a>\n",
    "\n",
    "Las celdas de código funcionan como si fueran una consola o un editor de código, solo puenden ejecutarse si el kernel es Python 3, las funciones de este están en el **Menú/Kernel**, para seleccionarlo vaya a la esquina izquierda del notebook y de clik al lado del círculo y seleccione Python.\n",
    "\n",
    "Los atajos de teclado para interactuar con el son:\n",
    "\n",
    "- **|| :** Interrumpir.\n",
    "- **00 :** Restaurar\n",
    "\n",
    "Otras opciones importante son: \n",
    "- **Limpiar salidas:** Click derecho/Clear outputs.\n",
    "- **Limpiar todoas las salidas:** Clik derecho/Clear all outputs.\n",
    "\n",
    "Las celdas de código de un notebook están enlazadas por ejemplo, ejecute las siguientes celdas en orden, y luego restaure el kernel y ejecutelas en desorden, muy probablemente le saldrá NameError porque una de las variables no ha sido inicializada, para regresar al estado inicial, restuare el kernel y limpie todos las salidas."
   ]
  },
  {
   "cell_type": "code",
   "execution_count": null,
   "metadata": {},
   "outputs": [],
   "source": [
    "a=345"
   ]
  },
  {
   "cell_type": "code",
   "execution_count": null,
   "metadata": {},
   "outputs": [],
   "source": [
    "b=876"
   ]
  },
  {
   "cell_type": "code",
   "execution_count": null,
   "metadata": {},
   "outputs": [],
   "source": [
    "c=b-a\n",
    "c"
   ]
  },
  {
   "cell_type": "markdown",
   "metadata": {},
   "source": [
    "Tambien se puede escribir todo como si fuera un son lo bloque de código:"
   ]
  },
  {
   "cell_type": "code",
   "execution_count": null,
   "metadata": {},
   "outputs": [],
   "source": [
    "x=3\n",
    "y=9\n",
    "z=y-x\n",
    "z"
   ]
  },
  {
   "cell_type": "markdown",
   "metadata": {},
   "source": [
    "Al estár conectadas es como si fuera un solo código:"
   ]
  },
  {
   "cell_type": "code",
   "execution_count": null,
   "metadata": {},
   "outputs": [],
   "source": [
    "print(\"a:\",a)\n",
    "print(\"b:\",b)\n",
    "print(\"c:\",c)\n",
    "print(\"x:\",x)\n",
    "print(\"y:\",y)\n",
    "print(\"z:\",z)"
   ]
  },
  {
   "cell_type": "markdown",
   "metadata": {},
   "source": [
    "-----"
   ]
  },
  {
   "cell_type": "markdown",
   "metadata": {},
   "source": [
    "| [**Anteriror**](../1_3_1_IDLE/1_3_1_IDLE.ipynb#1.3.1_IDLE) <!--(https://mybinder.org/Algunos-IDE/Spyder)--> | - | [**Siguiente**](../../1_4_Instrucciones_Guia_Interactiva/1_4_Instrucciones_Guia_Interactiva.ipynb#1.4_Insutrucciones-Guia-Interactiva) <!--(https://mybinder.org/Instrucciones)--> |\n",
    "| :--------: | :-------: | :--------: |"
   ]
  },
  {
   "cell_type": "markdown",
   "metadata": {},
   "source": [
    "| [**Home**](../../../Home.ipynb#Home)<!--(https://mybinder.org/Home)--> |\n",
    "| :--------: |"
   ]
  }
 ],
 "metadata": {
  "kernelspec": {
   "display_name": "Python 3",
   "language": "python",
   "name": "python3"
  },
  "language_info": {
   "codemirror_mode": {
    "name": "ipython",
    "version": 3
   },
   "file_extension": ".py",
   "mimetype": "text/x-python",
   "name": "python",
   "nbconvert_exporter": "python",
   "pygments_lexer": "ipython3",
   "version": "3.7.4"
  }
 },
 "nbformat": 4,
 "nbformat_minor": 4
}
