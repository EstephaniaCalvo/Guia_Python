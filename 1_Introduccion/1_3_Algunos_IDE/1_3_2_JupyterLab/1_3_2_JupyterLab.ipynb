{
 "cells": [
  {
   "cell_type": "markdown",
   "metadata": {},
   "source": [
    "![Fig3_Encabezado.png](../../../Fig3_Encabezado.png)\n",
    "\n",
    "---------------------"
   ]
  },
  {
   "cell_type": "markdown",
   "metadata": {},
   "source": [
    "## 1.3.2. JupyterLab <a id='1.3.2_JupyterLab'></a>"
   ]
  },
  {
   "cell_type": "markdown",
   "metadata": {},
   "source": [
    "[1.3.2.1. Interfáz](#1.3.2.1_Interfaz)  \n",
    "[1.3.2.2. Jupyter Notebooks](#1.3.2.2_Jupyter_Notebooks)    \n",
    "[1.3.2.3. Celdas de Código](#1.3.2.3_Celdas_de_Codigo)  \n",
    "[1.3.2.4. Intalación](#1.3.2.4_Intalacion)   "
   ]
  },
  {
   "cell_type": "markdown",
   "metadata": {},
   "source": [
    "---\n",
    "[JupyterLab](https://jupyter.org/ \"Ir a la página oficial de Jupyter\") es IDE basado en web para manipular Jupyter notebooks, código, y datos, viene preinstalado en el administrador de entornos y paquetes Anaconda.\n",
    "\n",
    "### 1.3.2.1. Interfaz <a id='1.3.2.1_Interfaz'></a>\n",
    "\n",
    "Como es basado en Web, [JupyterLab](https://jupyterlab.readthedocs.io/en/latest/user/interface.html \"Ir a la guía oficial de la interfaz de Jupyter.\") se abre en el navegador como Google Chrome o Mozilla, como se muestra en la siguiente imagen su interfaz tiene muchos más detalles que la del [IDLE](../1_3_1_IDLE/1_3_1_IDLE.ipynb \"Ir al apartado 1.3.1. IDLE\") de Python.\n",
    "\n",
    "![interfaz1.png](Imagenes/interfaz1.png \"Ejemplo: Interfaz de JupyterLab\")\n",
    "\n",
    "1. **Menú:** Es lo que está señalado en cuadro verde, con este menú se puede interactuar con la pestaña que esté activa, y la configuración de la interfaz en general.\n",
    "\n",
    "2. **Barra izquierda:** Es la barra que está en el recuadro azul, por defecto viene abierta si quiere ocultarla vaya a **View/Show Left Sidebar/**. Contiene varias opciones, sin embargo, para la guía solo es necesario conocer dos: \n",
    "    - **Barra de navegación**: Tiene el símbolo de la carpeta y sirve para navegar por los directorios.\n",
    "    - **Barra de terminales y kernels**: Está justo abajo de la barra de navegación y con ella se puede cerrar los kernels de los notebooks, consolas y terminales que han sido abiertos. Lo más recomendable es cerrar los kernels de las pestañas con las ya no se esté trabajando para evitar sobrecargar el sistema.\n",
    "    ![interfaz2](Imagenes/Interfaz2.png \"Ver la interfaz de la barra de terminales y kernels\")\n",
    "\n",
    "3. **Mesa de trabajo:** Es el espacio donde se abren las pestañas de los documentos con los que se van a trabajar y está señalado con rojo. Puede contener varias pestañas a la vez, según la disposición que haya elegido el usuario, para organizar una pestaña solo debe arrastrarla hasta el lugar donde quiera ponerla.\n",
    "    Jupyter soporta la visualización de varios archivos, algunos de ellos son: \n",
    "    - **Jupyter Notebooks:** Documento .ipynb\n",
    "    - **Consolas:** En la guía se utlizarán como si fueran el Shell de IDLE.\n",
    "    - **Terminales:** Simbolo del sistema.\n",
    "    - **Imágenes:** Archivos .png, .jpg. .gif.\n",
    "    - **Archivos de texto plano:** Admite extenciones .txt, .md(makrdow)\n",
    "    \n",
    "    Además de los documentos la mesa de trabajo también contiene el Laucher (la primera pestaña de la izquierda), donde están todos los documentos y/o aplicaciones que se puede crear."
   ]
  },
  {
   "cell_type": "markdown",
   "metadata": {},
   "source": [
    "<a id='comandos'></a>\n",
    "### 1.3.2.2. Jupyter Notebooks <a id='1.3.2.2_Jupyter_Notebooks'></a>\n",
    "\n",
    "Es un documento con extensión `.ipynb` que permite interactuar con celdas de código para correr el lenguaje indicado y con celdas de texto plano escrito con Markdown. Es ampliamente usado en ciencias de datos y el mundo académico por las claras ventajas que presenta para compartir y visualizar proyectos con código abierto y en vivo.\n",
    "\n",
    "Por ejemplo, esta guía un conjunto de notebooks guardados en un sistema de directorios en los cuales se almacena los archivos de cada capítulo. \n",
    "\n",
    "Para abrir un notebook nuevo hay que dirigirse a la carpeta donde se quiere crear con la barra de navegación, ir a la pestaña del Laucher y escoger la opción notebook o ir a **File/New/Notebook**, por último, se debe seleccionar Python 3 como Kernel y por defecto se creará una celda de código.\n",
    "\n",
    "Antes de ver las opciones para interactuar con las celdas, hay que conocer la diferencia entre estar afuera o adentro de una celda. \n",
    "\n",
    "**Adentro:** Para entrar a una celda solamente se da click dentro de ella o se oprime < Enter >.\n",
    "![Celda1](Imagenes/Celda1.png \"Estar adentro de una celda\")\n",
    "\n",
    "Cuando se está adentro de una celda se pueden usar estos atajos:\n",
    "\n",
    "- **Ctrl + C :** Copiar\n",
    "- **Ctrl + X :** Cortar\n",
    "- **Ctrl + V :** Pegar\n",
    "- **Ctrl + Z :** Revertir\n",
    "- **Ctrl + Y :** Devolver\n",
    "- **Ctrl + Shift + - :** Dividir celda\n",
    "- **Ctrl + Enter :** Correr la celda\n",
    "- **Ctrl + Shift + Enter :** Correr la celda y avanzar.\n",
    "\n",
    "**Afuera:** Para salir de una celda de click entre la barra azul y el recuadro de la celda.\n",
    "\n",
    "![Celda2](Imagenes/Celda2.png \"Estar adentro de una celda\")\n",
    "\n",
    "Estos son los atajos de teclado que funcionan cuando se está afuera de la celda.\n",
    "\n",
    "- **A :** Crear una celda nueva arriba de la posición actual\n",
    "- **B :** Crear una celda nueva abajo de la posición actual\n",
    "- **M :** Convertir celda de código a celda Markdonw\n",
    "- **Y :** Convertir a celda de código\n",
    "- **DD :** Borrar una celda\n",
    "- **Shift + M :** Juntar dos celdas \n",
    "- **C :** Copiar toda la celda\n",
    "- **X :** Cortar toda la celda\n",
    "- **V :** Pegar una celda\n",
    "- **Z :** Revertir cambios en las celdas.\n",
    "- **Shit + Z :** Devolver cambios en las celdas."
   ]
  },
  {
   "cell_type": "markdown",
   "metadata": {},
   "source": [
    "### 1.3.2.3. Celdas de Código <a id='1.3.2.3_Celdas_de_Codigo'></a>\n",
    "\n",
    "Las celdas de código funcionan como si fueran una consola o un editor de código. Solo pueden ejecutarse si el kernel es Python 3, las funciones del kernel están en el **Menú/Kernel**, sin embargo, una manera alternativa de seleccionar el kernel es ir a la esquina superior derecha del notebook y de click al lado del círculo y escoger Python.\n",
    "\n",
    "Los atajos de teclado para interactuar con el son:\n",
    "\n",
    "- **|| :** Interrumpir.\n",
    "- **00 :** Restaurar\n",
    "\n",
    "Otras opciones importantes son: \n",
    "- **Limpiar salidas:** Click derecho/Clear outputs.\n",
    "- **Limpiar todas las salidas:** Click derecho/Clear all outputs.\n",
    "\n",
    "Las celdas de código de un notebook están enlazadas, por ejemplo, ejecute las siguientes celdas en el orden en que se presentan, vea los resultados, después restaure el kernel l y ejecútelas en desorden, muy probablemente le retornará NameError porque una de las variables no ha sido inicializada. Para regresar al estado inicial, restaure el kernel y limpie todas las salidas."
   ]
  },
  {
   "cell_type": "code",
   "execution_count": null,
   "metadata": {},
   "outputs": [],
   "source": [
    "a=345"
   ]
  },
  {
   "cell_type": "code",
   "execution_count": null,
   "metadata": {},
   "outputs": [],
   "source": [
    "b=876"
   ]
  },
  {
   "cell_type": "code",
   "execution_count": null,
   "metadata": {},
   "outputs": [],
   "source": [
    "c=b-a\n",
    "c"
   ]
  },
  {
   "cell_type": "markdown",
   "metadata": {},
   "source": [
    "También se puede escribir todo como si fuera un son lo bloque de código:"
   ]
  },
  {
   "cell_type": "code",
   "execution_count": null,
   "metadata": {},
   "outputs": [],
   "source": [
    "x=3\n",
    "y=9\n",
    "z=y-x\n",
    "z"
   ]
  },
  {
   "cell_type": "markdown",
   "metadata": {},
   "source": [
    "Al estar conectadas es como si fueran un solo código:"
   ]
  },
  {
   "cell_type": "code",
   "execution_count": null,
   "metadata": {},
   "outputs": [],
   "source": [
    "print(\"a:\",a)\n",
    "print(\"b:\",b)\n",
    "print(\"c:\",c)\n",
    "print(\"x:\",x)\n",
    "print(\"y:\",y)\n",
    "print(\"z:\",z)"
   ]
  },
  {
   "cell_type": "markdown",
   "metadata": {},
   "source": [
    "Al igual que con IDLE para escribir un programa lo más recomendable es escribirlo en un archivo `.py` y si se requiere ejecutar en Jupyter se puede hacer importándolo como un módulo. A continuación, se muestra como ejecutar el programa [Hola_Usuario.py](Hola_Usuario.py \"Ir al archivo del programa\")."
   ]
  },
  {
   "cell_type": "code",
   "execution_count": null,
   "metadata": {},
   "outputs": [],
   "source": [
    "import Hola_Usuario\n",
    "\n",
    "nombre=input(\"Por favor ingrese su nombre:\\n\")\n",
    "\n",
    "Hola_Usuario.main(nombre)"
   ]
  },
  {
   "cell_type": "markdown",
   "metadata": {},
   "source": [
    "<a id='instalacion'></a>\n",
    "### 1.3.2.4. Instalación <a id='1.3.2.4_Intalacion'></a>\n",
    "\n",
    "JupyterLab viene preinstalado con el administrador de paquetes y entornos [Anaconda](../../1_Introduccion.ipynb#Opcion-2_Anaconda \"Ir al apartado de instalación de Anaconda\"). Sin embargo, si solo se tiene instalado [Python](../../1_Introduccion.ipynb#Opcion-1_Python \"Ir al apartado de instalación de Python\") se debe instalar a través del instalador de paquetes pip como si fuera un módulo usando el comando ***' pip install jupyterlab '***, [aquí](../../../9_Modulos/9_Modulos_y_Paquetes.ipynb#9.4.1_Instalacion-de-Paquetes \"Ir al apartado 9.4.1. Instalación de Paquetes\") se encuentran el paso a paso para instalar módulos y paquetes con pip.\n",
    "\n",
    "Una vez instalado, para abrirlo solo basta con [abrir la terminal](../../../9_Modulos/9_Modulos_y_Paquetes.ipynb#Terminal \"Ir al paso a paso para abrir una terminal en Windows\") de comandos y escribir ***' jupyter lab '***. Tenga en cuenta que mientras esté trabajando no debe cerrar la terminal con la que abrió el programa.\n",
    "\n",
    "**Nota:** [Aquí](https://jupyter.org/install.html \"Ir a la página oficial de la instalación de Jupyter\") puede encontrar la instalación para Conda y Voilà."
   ]
  },
  {
   "cell_type": "markdown",
   "metadata": {},
   "source": [
    "-----"
   ]
  },
  {
   "cell_type": "markdown",
   "metadata": {},
   "source": [
    "| [**Anteriror**](../1_3_1_IDLE/1_3_1_IDLE.ipynb#1.3.1_IDLE) <!--(https://mybinder.org/Algunos-IDE/Spyder)--> | - | [**Siguiente**](../../1_4_Instrucciones_Guia_Interactiva/1_4_Instrucciones_Guia_Interactiva.ipynb#1.4_Insutrucciones-Guia-Interactiva) <!--(https://mybinder.org/Instrucciones)--> |\n",
    "| :--------: | :-------: | :--------: |"
   ]
  },
  {
   "cell_type": "markdown",
   "metadata": {},
   "source": [
    "| [**Home**](../../../Home.ipynb#Home)<!--(https://mybinder.org/Home)--> |\n",
    "| :--------: |"
   ]
  }
 ],
 "metadata": {
  "kernelspec": {
   "display_name": "Python 3",
   "language": "python",
   "name": "python3"
  },
  "language_info": {
   "codemirror_mode": {
    "name": "ipython",
    "version": 3
   },
   "file_extension": ".py",
   "mimetype": "text/x-python",
   "name": "python",
   "nbconvert_exporter": "python",
   "pygments_lexer": "ipython3",
   "version": "3.7.4"
  }
 },
 "nbformat": 4,
 "nbformat_minor": 4
}
