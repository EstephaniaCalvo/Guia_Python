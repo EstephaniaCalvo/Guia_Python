{
 "cells": [
  {
   "cell_type": "markdown",
   "metadata": {},
   "source": [
    "# 1. Introducción"
   ]
  },
  {
   "cell_type": "markdown",
   "metadata": {},
   "source": [
    "---\n",
    "### `*`[1.1. Presentación](../../1_Introduccion.ipynb#1.1_Presentacion) <!--(https://mybinder.org/Introduccion)-->  \n",
    "### `*`[1.2. Instalación](../../1_Introduccion.ipynb#1.2_Instalacion) <!--(https://mybinder.org/Introduccion)-->   \n",
    "### `*` [1.3. Algunos IDE](../1-3-1_IDLE/1-3-1_IDLE.ipynb#1.3_Algunos-IDE) <!--(https://mybinder.org/Algunos-IDE/JupyterLab)-->  \n",
    ">`*`[1.3.1. IDLE](../1-3-1_IDLE/1-3-1_IDLE.ipynb#1.3.1_IDLE) <!--(https://mybinder.org/Algunos-IDE/JupyterLab)-->   \n",
    "`*`[1.3.2. Spyder](../1-3-2_Spyder/1-3-2_Spyder.ipynb#1.3.2_Spyder) <!--(https://mybinder.org/Algunos-IDE/Spyder)-->  \n",
    "[1.3.3. JupyterLab](#1.3.3_JupyterLab)\n",
    ">>[1.3.3.1. Configuración Básica](#1.3.3.1_Configuracion-Basica)  \n",
    "[1.3.3.2. Consolas Interactivas](#1.3.3.2_Consolas-Interactivas)  \n",
    "[1.3.3.3. Editor de Código](#1.3.3.3_Editor-de-Codigo)   \n",
    "\n",
    "### `*`[1.4. Instrucciones Guía Interactiva](../../1-4_Instrucciones-Guia-Interactiva/1-4_Instrucciones-Guia-Interactiva.ipynb#1.4_Insutrucciones-Guia-Interactiva) <!--(https://mybinder.org/Instrucciones)-->\n",
    "\n",
    "---"
   ]
  },
  {
   "cell_type": "markdown",
   "metadata": {},
   "source": [
    "## 1.3.3 JupyterLab <a id='1.3.3_JupyterLab'></a>"
   ]
  },
  {
   "cell_type": "markdown",
   "metadata": {},
   "source": [
    "### 1.3.3.1. Configuración Básica <a id='1.3.3.1_Configuracion-Basica'></a>"
   ]
  },
  {
   "cell_type": "markdown",
   "metadata": {},
   "source": [
    "### 1.3.3.2. Consolas Interactivas <a id='1.3.3.2_Consolas-Interactivas'></a>"
   ]
  },
  {
   "cell_type": "markdown",
   "metadata": {},
   "source": [
    "### 1.3.3.3. Editor de Código <a id='1.3.3.3_Editor-de-Codigo'></a>"
   ]
  },
  {
   "cell_type": "markdown",
   "metadata": {},
   "source": [
    "| `*` [**Anteriror**](../1-3-2_Spyder/1-3-2_Spyder.ipynb#1.3.2_Spyder) <!--(https://mybinder.org/Algunos-IDE/Spyder)--> | - | `*` [**Siguiente**](../../1-4_Instrucciones-Guia-Interactiva/1-4_Instrucciones-Guia-Interactiva.ipynb#1.4_Insutrucciones-Guia-Interactiva) <!--(https://mybinder.org/Instrucciones)--> |\n",
    "| :--------: | :-------: | :--------: |"
   ]
  },
  {
   "cell_type": "markdown",
   "metadata": {},
   "source": [
    "| `*`[**Home**](../../../Home_Pequena_Guia_Python.ipynb#Home)<!--(https://mybinder.org/Home)--> |\n",
    "| :--------: |"
   ]
  }
 ],
 "metadata": {
  "kernelspec": {
   "display_name": "Python 3",
   "language": "python",
   "name": "python3"
  },
  "language_info": {
   "codemirror_mode": {
    "name": "ipython",
    "version": 3
   },
   "file_extension": ".py",
   "mimetype": "text/x-python",
   "name": "python",
   "nbconvert_exporter": "python",
   "pygments_lexer": "ipython3",
   "version": "3.7.4"
  }
 },
 "nbformat": 4,
 "nbformat_minor": 4
}
