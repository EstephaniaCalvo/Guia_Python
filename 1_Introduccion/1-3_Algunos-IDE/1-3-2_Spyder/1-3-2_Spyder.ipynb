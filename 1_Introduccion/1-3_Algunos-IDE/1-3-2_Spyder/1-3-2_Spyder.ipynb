{
 "cells": [
  {
   "cell_type": "markdown",
   "metadata": {},
   "source": [
    "# 1. Introducción"
   ]
  },
  {
   "cell_type": "markdown",
   "metadata": {},
   "source": [
    "---\n",
    "### `*`[1.1. Presentación](../../1_Introduccion.ipynb#1.1_Presentacion) <!--(https://mybinder.org/Introduccion)-->  \n",
    "### `*`[1.2. Instalación](../../1_Introduccion.ipynb#1.2_Instalacion) <!--(https://mybinder.org/Introduccion)-->   \n",
    "### `*` [1.3. Algunos IDE](../1-3-1_IDLE/1-3-1_IDLE.ipynb#1.3_Algunos-IDE) <!--(https://mybinder.org/Algunos-IDE/JupyterLab)-->  \n",
    ">`*`[1.3.1. IDLE](../1-3-1_IDLE/1-3-1_IDLE.ipynb#1.3.1_IDLE) <!--(https://mybinder.org/Algunos-IDE/JupyterLab)-->  \n",
    "[1.3.2. Spyder](#1.3.2_Spyder)  \n",
    ">>[1.3.2.1. Configuración Básica](#1.3.2.1_Configuracion-Basica)  \n",
    "[1.3.2.2. Consola Interactiva](#1.3.2.2_Consola-Interactiva)  \n",
    "[1.3.2.3. Editor de Código](#1.3.2.3_Editor-de-Codigo)  \n",
    "\n",
    ">`*`[1.3.3. Jupyter](../1-3-3_JupyterLab/1-3-3_JupyterLab.ipynb#1.3.3_JupyterLab) <!--(https://mybinder.org/Algunos-IDE/JupyterLab)-->  \n",
    "\n",
    "### `*`[1.4. Instrucciones Guía Interactiva](../../1-4_Instrucciones-Guia-Interactiva/1-4_Instrucciones-Guia-Interactiva.ipynb#1.4_Insutrucciones-Guia-Interactiva) <!--(https://mybinder.org/Instrucciones)-->\n",
    "\n",
    "---"
   ]
  },
  {
   "cell_type": "markdown",
   "metadata": {},
   "source": [
    "## 1.3.2 Spyder <a id='1.3.2_Spyder'></a>"
   ]
  },
  {
   "cell_type": "markdown",
   "metadata": {},
   "source": [
    "### 1.3.2.1. Configuración Básica <a id='1.3.2.1_Configuracion-Basica'></a>"
   ]
  },
  {
   "cell_type": "markdown",
   "metadata": {},
   "source": [
    "### 1.3.2.2. Consola Interactiva <a id='1.3.2.2_Consola-Interactiva'></a>"
   ]
  },
  {
   "cell_type": "markdown",
   "metadata": {},
   "source": [
    "### 1.3.2.3. Editor de Código <a id='1.3.2.3_Editor-de-Codigo'></a>"
   ]
  },
  {
   "cell_type": "markdown",
   "metadata": {},
   "source": [
    "| `*` [**Anteriror**](../1-3-1_IDLE/1-3-1_IDLE.ipynb#1-3-1_IDLE)`*` <!--(https://mybinder.org/Algunos-IDE/JupyterLab)-->  | - | `*` [**Siguiente**](../1-3-3_JupyterLab/1-3-3_JupyterLab.ipynb#1.3.3_JupyterLab) <!--(https://mybinder.org/Algunos-IDE/JupyterLab)-->  |\n",
    "| :--------: | :-------: | :--------: |"
   ]
  },
  {
   "cell_type": "markdown",
   "metadata": {},
   "source": [
    "| `*`[**Home**](../../../Home_Pequena_Guia_Python.ipynb#Home)<!--(https://mybinder.org/Home)--> |\n",
    "| :--------: |"
   ]
  }
 ],
 "metadata": {
  "kernelspec": {
   "display_name": "Python 3",
   "language": "python",
   "name": "python3"
  },
  "language_info": {
   "codemirror_mode": {
    "name": "ipython",
    "version": 3
   },
   "file_extension": ".py",
   "mimetype": "text/x-python",
   "name": "python",
   "nbconvert_exporter": "python",
   "pygments_lexer": "ipython3",
   "version": "3.7.4"
  }
 },
 "nbformat": 4,
 "nbformat_minor": 4
}
