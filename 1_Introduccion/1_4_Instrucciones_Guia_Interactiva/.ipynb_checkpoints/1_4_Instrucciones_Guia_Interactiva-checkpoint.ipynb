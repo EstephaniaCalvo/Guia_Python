{
 "cells": [
  {
   "cell_type": "markdown",
   "metadata": {},
   "source": [
    "![Fig3_Encabezado.png](../../Fig3_Encabezado.png)\n",
    "\n",
    "---------------------"
   ]
  },
  {
   "cell_type": "markdown",
   "metadata": {},
   "source": [
    "## **1.4 Instrucciones Guía Interactiva** <a id='1.4_Insutrucciones-Guia-Interactiva'></a>"
   ]
  },
  {
   "cell_type": "markdown",
   "metadata": {},
   "source": [
    "[1.4.1. Opciones principales](#1.4.1_Opciones)  \n",
    "[1.4.2. Tipos de Bloques](#1.4.2_Tipos-de-bloques)  \n",
    "[1.4.3. Descargas](#1.4.3_Descargas)  "
   ]
  },
  {
   "cell_type": "markdown",
   "metadata": {},
   "source": [
    "---"
   ]
  },
  {
   "cell_type": "markdown",
   "metadata": {},
   "source": [
    "La versión online de la guía interactiva es una colección de Notebooks de JupyterLab, almacenadas en un repositorio en Github, y desplegadas en un entorno online a través de Binder, por lo cual, el menú y la interfaz es igual a la mostrada en la sección anterior [1.3.2 JupyterLab](../1_3_Algunos_IDE/1_3_2_JupyterLab/1_3_2_JupyterLab.ipynb#1.3.2_JupyterLab) sólo que adicionalmente tiene los botones:\n",
    "\n",
    "1. Descargar el notebook.\n",
    "2. Guardar en almacenamiento del navegador.\n",
    "3. Restaurar notebook desde el almacenamiento del navegador. \n",
    "4. Ver repositorio en GitHub\n",
    "5. Link de Binder del notebook.\n",
    "\n",
    "![Fig1_Menu_Binder](Fig1_Menu_Binder.jpg \"Figura 1: Menú Binder\")\n",
    "\n",
    "###### *Figura 1: Menú Binder*"
   ]
  },
  {
   "cell_type": "markdown",
   "metadata": {},
   "source": [
    "#### 1.4.1. Opciones principales <a id='1.4.1_Opciones'></a>"
   ]
  },
  {
   "cell_type": "markdown",
   "metadata": {},
   "source": [
    "| **OPCIÓN** |  | **DESCRIPCIÓN** |\n",
    "| :--------: | :-------: |:------- |\n",
    "|![Fig5_Guardar](Fig5_Guardar.jpg)| |Guardar notebook **(Ctrl + S)**|\n",
    "|![Fig3_Insertar](Fig3_Insertar.jpg)| |Insertar bloque de código **(A)** o **(B)**|\n",
    "|![Fig2_Ejecutar](Fig2_Ejecutar.jpg)| |Ejecutar bloque de código **(Ctrl + Enter)**|\n",
    "|![Fig4_Restaurar](Fig4_Restaurar.jpg)| |Restaurar el Kernel **(00)**|"
   ]
  },
  {
   "cell_type": "markdown",
   "metadata": {},
   "source": [
    "#### 1.4.2. Tipos de Celdas - Bloques <a id='1.4.2_Tipos-de-bloques'></a>"
   ]
  },
  {
   "cell_type": "markdown",
   "metadata": {},
   "source": [
    "La guía tiene tres tipos de celdas o bloques:\n",
    "1. Bloque de Texto: Celda en markdown, donde se encuentra la explicación de cada elemento. **No se debe modificar**.\n",
    "2. Bloque de Ejemplos: Celda con el código del ejemplo editado con markdown. **No se debe modificar**.\n",
    "3. Consolas vacías: Celda de código vacías para que el estudiante pase, modifique, ejecute y experimente con el código del ejemplo.**Para modificar**.\n",
    "\n",
    "Todos los bloques se pueden modificar, pero no tiene sentido modificar los dos primeros, ya que, se estaría cambiando el contenido de la guía, para experimentar modificando los ejemplos propuestos están las consolas vacías, que se presentan a lo largo de la guía, o que pueden ser insertadas en el notebook si el usuario lo considera necesario.\n",
    "\n",
    "#### - Recomendaciones\n",
    "\n",
    "- Revisar el Kernel: Comprobar que en la esquina superior derecha el Kernel de Python 3 este activado y si no lo está activarlo.\n",
    "- Ejecutar los ejemplos: Al encontrarse con un ejemplo escríbalo en la celda de código en lugar de copiarlo y pegarlo, ejecútelo y vea los resultados originales, luego restaure el kernel, modifique el ejemplo y analice los nuevos resultados obtenidos.\n",
    "- **No** nombrar variables igual que las creadas en el notebook: Se puede generar un conflicto, recuerde que los bloques de código no son independientes y hay que proceder como si fueran un único archivo `.py`.\n",
    "- Evitar copiar y pegar código: La mejor manera de aprender un lenguaje de programación es escribiéndolo, por lo tanto, no es aconsejable reciclar código.\n",
    "- En caso modificar o eliminar accidentalmente un bloque usar el comando Z para retroceder como se explica en el [apartado anterior](../1_3_Algunos_IDE/1_3_2_JupyterLab/1_3_2_JupyterLab.ipynb#comandos \"Ir al sección de comandos de Jupyter Notebooks\n",
    " \n",
    " del apartado de 1.3.2 JupyterLab.\"), o restaurar el notebook desde el almacenamiento del navegador.\n",
    "- **Si se encuentra en el entorno online, guardar y descargar el notebook cada vez que se haga una modificación o un avance importante.** De lo contario es muy probable que pierda su trabajo."
   ]
  },
  {
   "cell_type": "markdown",
   "metadata": {},
   "source": [
    "<a id='Descarga'></a>\n",
    "#### 1.4.3. Descargas <a id='1.4.3_Descargas'></a>"
   ]
  },
  {
   "cell_type": "markdown",
   "metadata": {},
   "source": [
    "Para descargar la guía siga los siguientes pasos: \n",
    "\n",
    "1. Diríjase al repositorio de la guía en GuitHub: https://github.com/EstephaniaCalvo/Guia_Python.git\n",
    "2. Ubique el botón ' clone or download' y descargue la guía como un zip.\n",
    "\n",
    "![Fig6_Descargar.jpg](Fig6_Descargar.jpg \"Botón 'clone or download'\")\n",
    "\n",
    "###### **Nota:** Previamente debe instalarse Anaconda o Python y JupyterLab, como se explica [aquí](../1_Introduccion.ipynb#Instalacion).\n",
    "\n",
    "<!-- - **Versión en PDF:** También existe una versión **no interactiva** en PDF, la cual puede ser descargada [aquí]( Guia_Implementacion_Algoritmos_Ing_Industrial.PDF \"Descargar la versión en PDF de la Guía de Implementación de Algoritmos de Ingeniería Industrial\") -->"
   ]
  },
  {
   "cell_type": "markdown",
   "metadata": {},
   "source": [
    "| [**Anteriror**](../1_3_Algunos_IDE/1_3_1_IDLE/1_3_1_IDLE.ipynb#1.3_Algunos_IDE) <!--(https://mybinder.org/Algunos-IDE/Jupyter)--> | - | [**Siguiente**](../../2_Elementos_Basicos/2_Elementos_Basicos.ipynb#2_Elementos-Basicos) <!--(https://mybinder.org/)--> |\n",
    "| :--------: | :-------: | :--------: |"
   ]
  },
  {
   "cell_type": "markdown",
   "metadata": {},
   "source": [
    "| [**Home**](../../Home.ipynb#Home)<!--(https://mybinder.org/Home)--> |\n",
    "| :--------: |"
   ]
  }
 ],
 "metadata": {
  "kernelspec": {
   "display_name": "Python 3",
   "language": "python",
   "name": "python3"
  },
  "language_info": {
   "codemirror_mode": {
    "name": "ipython",
    "version": 3
   },
   "file_extension": ".py",
   "mimetype": "text/x-python",
   "name": "python",
   "nbconvert_exporter": "python",
   "pygments_lexer": "ipython3",
   "version": "3.7.4"
  }
 },
 "nbformat": 4,
 "nbformat_minor": 4
}
