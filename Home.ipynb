{
 "cells": [
  {
   "cell_type": "markdown",
   "metadata": {},
   "source": [
    "![Fig3_Encabezado.png](Fig3_Encabezado.png)\n",
    "\n",
    "---------------------"
   ]
  },
  {
   "cell_type": "markdown",
   "metadata": {},
   "source": [
    "<a id='Home'><a/>\n",
    "![Fig2_Titulo](Fig2_Titulo.jpg \"Figura 2: Guía de Python Versión 1.0\")\n",
    "    \n",
    "----"
   ]
  },
  {
   "cell_type": "markdown",
   "metadata": {},
   "source": [
    "## [**1. Introducción**](1_Introduccion/1_Introduccion.ipynb#1_Introduccion) <!--()-->    "
   ]
  },
  {
   "cell_type": "markdown",
   "metadata": {},
   "source": [
    "#### [1.1. Presentación](1_Introduccion/1_Introduccion.ipynb#1.1_Presentacion) <!--()-->  \n",
    "#### [1.2. Instalación](1_Introduccion/1_Introduccion.ipynb#1.2_Instalacion) <!--()-->    \n",
    "#### [1.3. Algunos IDE](1_Introduccion/1_3_Algunos_IDE/1_3_1_IDLE/1_3_1_IDLE.ipynb#1.3_Algunos_IDE) <!--()--> \n",
    ">[1.3.1. IDLE](1_Introduccion/1_3_Algunos_IDE/1_3_1_IDLE/1_3_1_IDLE.ipynb#1.3.1_IDLE) <!--()-->  \n",
    "[1.3.2. Jupyter](1_Introduccion/1_3_Algunos_IDE/1_3_2_JupyterLab/1_3_2_JupyterLab.ipynb#1.3.2_JupyterLab) <!--()-->  \n",
    "\n",
    "#### [1.4 Instrucciones Guía Interactiva](1_Introduccion/1_4_Instrucciones_Guia_Interactiva/1_4_Instrucciones_Guia_Interactiva.ipynb#1.4_Insutrucciones-Guia-Interactiva) <!--()-->  "
   ]
  },
  {
   "cell_type": "markdown",
   "metadata": {},
   "source": [
    "## [**2. Elementos Básicos**](2_Elementos_Basicos/2_Elementos_Basicos.ipynb#2_Elementos-Basicos) <!--()-->"
   ]
  },
  {
   "cell_type": "markdown",
   "metadata": {},
   "source": [
    "#### [2.1 Variables](2_Elementos_Basicos/2_Elementos_Basicos.ipynb#2.1_Variables)  <!--()-->  \n",
    "#### [2.2 Operadores Aritméticos](2_Elementos_Basicos/2_Elementos_Basicos.ipynb#2.2_Operadores-Aritmeticos) <!--()-->  \n",
    "#### [2.3 Ayuda y Directorio](2_Elementos_Basicos/2_Elementos_Basicos.ipynb#2.3_Ayuda-y-Directorio) <!--()-->  \n",
    "#### [2.4 Programas en Python](2_Elementos_Basicos/2_4_Programas_en_Python/2_4_Programas_en_Python.ipynb#2-4_Programas-en-Python) <!--()-->  \n",
    ">[2.4.1 Análisis del Problema](2_Elementos_Basicos/2_4_Programas_en_Python/2_4_Programas_en_Python.ipynb#2.4.1_Analsis) <!--()-->  \n",
    "[2.4.2 Código en Python](2_Elementos_Basicos/2_4_Programas_en_Python/2_4_Programas_en_Python.ipynb#2.4.2_Codigo-en-Python) <!--()-->  "
   ]
  },
  {
   "cell_type": "markdown",
   "metadata": {},
   "source": [
    "## [**3. Estructuras Lógicas**](3_Estructuras_Logicas/3_Estructuras_Logicas.ipynb#3_Estructuras-Logicas) <!--()-->  "
   ]
  },
  {
   "cell_type": "markdown",
   "metadata": {},
   "source": [
    "#### [3.1 Estructuras de Decisión](3_Estructuras_Logicas/3_Estructuras_Logicas.ipynb#3.1_Estructuras-de-Decision) <!--()--> \n",
    ">[3.1.1. Bloque if](3_Estructuras_Logicas/3_Estructuras_Logicas.ipynb#Min-eje_Bloque-if)  <!--()-->   \n",
    "[3.1.2. Bloque if - else](3_Estructuras_Logicas/3_Estructuras_Logicas.ipynb#Min-eje_Bloque-if-else)  <!--()-->   \n",
    "[3.1.3. Bloque if - elif - else](3_Estructuras_Logicas/3_Estructuras_Logicas.ipynb#Min-eje_Bloque-if-elif-else)  <!--()-->   \n",
    "#### [3.2 Operadores](3_Estructuras_Logicas/3_Estructuras_Logicas.ipynb#3.2_Operaradores) <!--()-->"
   ]
  },
  {
   "cell_type": "markdown",
   "metadata": {},
   "source": [
    "## [**4. Bucles e Iterables**](4_Bucles_e_Iterables/4_Bucles_e_Iterables.ipynb#4_Bucles-e-Iterables) <!--()-->"
   ]
  },
  {
   "cell_type": "markdown",
   "metadata": {},
   "source": [
    "#### [4.1. Iterables](4_Bucles_e_Iterables/4_Bucles_e_Iterables.ipynb#4.1_Iterables) <!--()-->   \n",
    "#### [4.2. Estructuras de Repetición](4_Bucles_e_Iterables/4_Bucles_e_Iterables.ipynb#4.2_Estructuras-de-Repeticion) <!--()-->  \n",
    ">[4.2.1. Bloque for](4_Bucles_e_Iterables/4_Bucles_e_Iterables.ipynb#4.2.1_Bloque-for) <!--()-->  \n",
    "[4.2.2. Bloque while](4_Bucles_e_Iterables/4_Bucles_e_Iterables.ipynb#4.2.2_Bloque-while) <!--()-->  \n",
    "[4.2.3. Controladores de Bucles](4_Bucles_e_Iterables/4_Bucles_e_Iterables.ipynb#4.2.3_Controladores-de-Bucles) <!--()-->  "
   ]
  },
  {
   "cell_type": "markdown",
   "metadata": {},
   "source": [
    "## [**5. Estructuras de Datos Básicas**](5_Estructura_de_Datos/5_Estructura_de_Datos.ipynb#5_Estructura-de-Datos-Basicas) <!--()-->"
   ]
  },
  {
   "cell_type": "markdown",
   "metadata": {},
   "source": [
    "#### [5.1. Listas](5_Estructura_de_Datos/5_Estructura_de_Datos.ipynb#5.1_Listas) <!--()-->   \n",
    ">[5.1.1. Métodos de las Listas](5_Estructura_de_Datos/5_Estructura_de_Datos.ipynb#5.1.1_Metodos-de-las-Listas) <!--()-->  \n",
    "[5.1.2. Operaciones](5_Estructura_de_Datos/5_Estructura_de_Datos.ipynb#5.1.2_Operaciones) <!--()-->  \n",
    "[5.1.3. Listas Anidadas](5_Estructura_de_Datos/5_Estructura_de_Datos.ipynb#5.1.3_Listas-Anidadas) <!--()-->  \n",
    "#### [5.2. Tuplas](5_Estructura_de_Datos/5_Estructura_de_Datos.ipynb#5.2_Tuplas) <!--()-->   \n",
    "#### [5.3. Diccionarios](5_Estructura_de_Datos/5_Estructura_de_Datos.ipynb#5.3_Diccionarios)    "
   ]
  },
  {
   "cell_type": "markdown",
   "metadata": {},
   "source": [
    "## [**6. Funciones**](6_Funciones/6_Funciones.ipynb#6_Funciones) <!--()-->"
   ]
  },
  {
   "cell_type": "markdown",
   "metadata": {},
   "source": [
    "#### [6.1. Declaración](6_Funciones/6_Funciones.ipynb#6.1_declaracion)   \n",
    ">[6.1.1. Tipos de Declaración](6_Funciones/6_Funciones.ipynb#6.1.1_tipos-de-Declaracion)  \n",
    "[6.1.2. Función Lambda](6_Funciones/6_Funciones.ipynb#6.1.2_Funcion-Lamda)   \n",
    "[6.1.3. Documentación](6_Funciones/6_Funciones.ipynb#6.1.3_Documentacion)\n",
    "#### [6.2. Argumentos](#6.2_Argumentos)  \n",
    ">[6.2.1. Argumentos Obligatorios](6_Funciones/6_Funciones.ipynb#6.2.1_Argumentos-Obligatorios)  \n",
    "[6.2.2. Argumentos Opcionales](6_Funciones/6_Funciones.ipynb#6.2.2_Argumentos-Opcionales)\n",
    "#### [6.3. Funciones Recursivas](6_Funciones/6_Funciones.ipynb#6.3_Funciones-Recursivas)   \n",
    "#### [6.4. Validaciones](6_Funciones/6_Funciones.ipynb#6.4.2_Validacion_de_Entradas)   \n",
    ">[6.4.1. Excepciones](6_Funciones/6_Funciones.ipynb#6.4.1_Excepciones)    \n",
    "[6.4.2. Validación de Entradas](6_Funciones/6_Funciones.ipynb#6.4.2_Validacion_de_Entradas)  "
   ]
  },
  {
   "cell_type": "markdown",
   "metadata": {},
   "source": [
    "## [**7. Lectura y Escritura de Archivos**](7_Lectura_y_Escritura/7_Lectura_y_Escritura.ipynb#7_Lectura_y_Escritura) <!--()-->"
   ]
  },
  {
   "cell_type": "markdown",
   "metadata": {},
   "source": [
    "#### [7.1. Lectura](7_Lectura_y_Escritura/7_Lectura_y_Escritura.ipynb#7.1_Lectura)   \n",
    ">[7.1.1. Ubicación de Archivos](7_Lectura_y_Escritura/7_Lectura_y_Escritura.ipynb#7.1.1_Ubicacion-de-Archivos)    \n",
    "[7.1.2. Almacenar Datos](7_Lectura_y_Escritura/7_Lectura_y_Escritura.ipynb#7.1.2_Almacenar-Datas)   \n",
    "#### [7.2. Escritura](7_Lectura_y_Escritura/7_Lectura_y_Escritura.ipynb#7.2_Escritura)    \n",
    ">[7.2.1. Crear Carpetas](7_Lectura_y_Escritura/7_Lectura_y_Escritura.ipynb#7.2.1_Crear-Carpetas)\n",
    "#### [7.3. Crear Archivos .xlsx](7_Lectura_y_Escritura/7_Lectura_y_Escritura.ipynb#7.3_Archivos-xlsx)  \n",
    ">[7.3.1. Crear los DataFrames](7_Lectura_y_Escritura/7_Lectura_y_Escritura.ipynb#7.3.1_Crear-los-DataFrames)    \n",
    "[7.3.2. Crear y Editar el Documento](7_Lectura_y_Escritura/7_Lectura_y_Escritura.ipynb#7.3.2_Crear-y-Editar-el-Documento)     \n",
    "[7.3.3. Aplicar Títulos y Formatos](7_Lectura_y_Escritura/7_Lectura_y_Escritura.ipynb#7.3.3_Aplicar-Títulos-y-Formatos)  "
   ]
  },
  {
   "cell_type": "markdown",
   "metadata": {},
   "source": [
    "## [**8. Gráficos**](8_Graficos/8_Graficos.ipynb#8_Graficos) <!--()-->"
   ]
  },
  {
   "cell_type": "markdown",
   "metadata": {},
   "source": [
    "### [8.1. Gráficos 2D](8_Graficos/8_Graficos.ipynb#8.1_Graficos_2D)\n",
    ">[8.1.1. Propiedades Líneas 2D](8_Graficos/8_Graficos.ipynb#8.1.1_Lineas_2D)    \n",
    "[8.1.2. Modificadores de Estílo](8_Graficos/8_Graficos.ipynb#8.1.2_Modificadores-de-Estilo)    \n",
    "[8.1.3. Líneas y Disperción](8_Graficos/8_Graficos.ipynb#8.1.3_Lineas_y_Dispercion)   \n",
    "[8.1.4. Histograma](8_Graficos/8_Graficos.ipynb#8.1.4_Histograma) "
   ]
  },
  {
   "cell_type": "markdown",
   "metadata": {},
   "source": [
    "## [**9. Módulos y Paquetes**](9_Modulos/9_Modulos_y_Paquetes.ipynb#9_Modulos_y_Paquetes) <!--()-->"
   ]
  },
  {
   "cell_type": "markdown",
   "metadata": {},
   "source": [
    "#### [9.1. Módulos](9_Modulos/9_Modulos_y_Paquetes.ipynb#9.1_Modulos)   \n",
    ">[9.1.1. Importar Módulos](9_Modulos/9_Modulos_y_Paquetes.ipynb#9.1.1_Importar-Modulos)      \n",
    "\n",
    "#### [9.2. Paquetes](9_Modulos/9_Modulos_y_Paquetes.ipynb#9.2_Paquetes)   \n",
    ">[9.2.1. Importar Paquetes](9_Modulos/9_Modulos_y_Paquetes.ipynb#9.2.1_Importar-Paquetes)     \n",
    "\n",
    "#### [9.3. Librería Estándar](9_Modulos/9_Modulos_y_Paquetes.ipynb#9.3_Libreria-Estandar)  \n",
    "\n",
    "#### [9.4. Paquetes de Terceros](9_Modulos/9_Modulos_y_Paquetes.ipynb#9.4_Paqutes-de-Terceros)   \n",
    ">[9.4.1. Instalación de Paquetes](9_Modulos/9_Modulos_y_Paquetes.ipynb#9.4.1_Instalacion-de-Paquetes)   \n",
    "[9.4.2. Instalación de pip](9_Modulos/9_Modulos_y_Paquetes.ipynb#9.4.2_Instalacion_de_pip)   "
   ]
  },
  {
   "cell_type": "markdown",
   "metadata": {},
   "source": [
    "## [**10. Laboratorios**](10_Laboratorios/10_Laboratorios.ipynb#10_Laboratorios)\n",
    "#### Quinto semestre:\n",
    "- [Algoritmo Dijkstra - Ruta más corta](10_Laboratorios/Dijkstra/Dijkstra.ipynb)\n",
    "- [MST - Minimun Spanning Tree](10_Laboratorios/MST/MST.ipynb)\n",
    "- [RPW - Ranked Positional Weight](10_Laboratorios/RPW/RPW.ipynb)\n",
    "\n",
    "#### Sexto semestre:\n",
    "- [AHP - Analytic Hierarchy Process](10_Laboratorios/AHP/AHP.ipynb)\n",
    "- [Detección Proceso Fuera de Control](10_Laboratorios/Deteccion_FControl/Deteccion_FControl.ipynb)\n",
    "- [Gráficos de Control](10_Laboratorios/Graficos_de_Control/Graficos_de_Control.ipynb)\n",
    "- [Tabla de Frecuencias](10_Laboratorios/Tabla_de_Frecuencias/Tabla_de_Frecuencias.ipynb)   \n",
    "\n",
    "#### Octavo semestre:\n",
    "- [BOA - Binary Ordering Algorithm](10_Laboratorios/BOA/BOA.ipynb)\n",
    "- [Minimax Rectilíneo - Facility Location](10_Laboratorios/Minimax_Rectilineo/Minimax_Rectilineo.ipynb)  \n",
    "- [Minisum Rectilíneo - Facility Location](10_Laboratorios/Minisum_Rectilineo/Minisum_Rectilineo.ipynb)"
   ]
  }
 ],
 "metadata": {
  "kernelspec": {
   "display_name": "Python 3",
   "language": "python",
   "name": "python3"
  },
  "language_info": {
   "codemirror_mode": {
    "name": "ipython",
    "version": 3
   },
   "file_extension": ".py",
   "mimetype": "text/x-python",
   "name": "python",
   "nbconvert_exporter": "python",
   "pygments_lexer": "ipython3",
   "version": "3.7.4"
  }
 },
 "nbformat": 4,
 "nbformat_minor": 4
}
