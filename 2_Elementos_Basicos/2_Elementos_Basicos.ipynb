{
 "cells": [
  {
   "cell_type": "markdown",
   "metadata": {},
   "source": [
    "<a id='2_Elementos-Basicos'></a>\n",
    "# 2. Elementos Básicos"
   ]
  },
  {
   "cell_type": "markdown",
   "metadata": {},
   "source": [
    "---\n",
    "### [2.1 Variables](#2.1_Variables)  \n",
    ">[2.1.1. Tipos de Variables](#2.1.1_Tipos-de-Variables)  \n",
    ">>[2.1.1.1 Conversión de variables](#2.1.1.1_Conversion-de-variables)    \n",
    "[2.1.1.2 Tipos de objetos](#2.1.1.2_Tipos-de-objetos)  \n",
    "\n",
    ">[2.1.2. Creación de Variables](#2.1.2_Creacion-de-Variables)  \n",
    "[2.1.3. Ingreso de Datos](#2.1.3_Ingreso-de-Datos)  \n",
    "\n",
    "### [2.2 Operadores Aritméticos](#2.2_Operadores-Aritmeticos)  \n",
    "### [2.3 Ayuda y Directorio](#2.3_Ayuda-y-Directorio)  \n",
    "### [2.4 Programas en Python](2_4_Programas_en_Python/2_4_Programas_en_Python.ipynb#2-4_Programas-en-Python) <!--(https://mybinder.org/)-->  \n",
    ">[2.4.1 Análisis del Problema](2_4_Programas_en_Python/2_4_Programas_en_Python.ipynb#2.4.1_Analsis) <!--(https://mybinder.org/)-->  \n",
    "[2.4.2 Código en Python](2_4_Programas_en_Python/2_4_Programas_en_Python.ipynb#2.4.2_Codigo-en-Python) <!--(https://mybinder.org/)-->  \n",
    "\n",
    "---"
   ]
  },
  {
   "cell_type": "markdown",
   "metadata": {},
   "source": [
    "## **2.1  Variables** <a id='2.1_Variables'></a>"
   ]
  },
  {
   "cell_type": "markdown",
   "metadata": {},
   "source": [
    "Las \"Variables\" en Python tienen un manejo diferente a comparación de otros lenguajes como Java, C o Visual Basic, lo cual puede generar confusiones para quienes lo ignoran, y originar malas prácticas que en algunos casos generan errores en el código, si bien estas diferencias no deberían constituir una cuestión fundamental para el desarrollo de la guía, considero conveniente mencionarlas.\n",
    "\n",
    "**1. Python es un lenguaje de tipado dinámico:** <a id='Tipado-dinamico'></a>  \n",
    "\n",
    "Los lenguajes de programación convencionales permiten almacenar datos en la memoria del sistema, a través de las variables que son como una especie de \"contenedores\" donde se guarda información; se dece que los lenguajes son estáticos o de tipado estático, cuando los contenedores son rígidos, sólo tienen una forma en particular y sólo pueden almacenar un tipo de dato, mientras que los lenguajes dinámicos o de tipado dinámico usan contenedores flexibles que se adecuan a la forma del tipo de dato, Python es de este último tipo.\n",
    "\n",
    "**2. Python entiende las \"Variables\" de otra manera:** <a id='Entiende-las-variables'></a>  \n",
    "\n",
    "En Python todo es un objeto, los números, las cadenas, las clases, las listas, los módulos, las funciones, las variables etc, y como se verá [aquí](#Min-eje_Tipos-de-objetos 'Mini_Ejemplo: Tipos de objetos') cada objeto está a asociado a un tipo o clase.\n",
    "\n",
    "Por lo anterior, la forma en la que Python entiende las \"variables\" es un tanto diferente respecto de otros lenguajes, ya que, en lugar de verlas como \"contenedores\", las ve como \"etiquetas\" asociadas a un valor (objeto en ejecución) determinado, cuya función es, identificar, o referenciar un objeto en específico.\n",
    "\n",
    "**3. Python es un lenguaje fuertemente tipado:** <a id='Fuertemente-tipado'></a>  \n",
    "\n",
    "También puede decir de tipado fuerte, o tipado.\n",
    "\n",
    "Esto significa que en Python el tipo de variable (objeto), no cambian repentinamente y estos cambios requieren una [conversión](#2.1.1.1_Conversion-de-variables '2.1.1.1 Conversión de variables') explicita, por lo cual no se puede hacer operaciones entre variables de tipos diferentes (objetos de tipo de diferentes), igual que como en las matemáticas no se puede sumar peras con manzanas, por ejemplo en Python no se puede operar cadenas con números, aunque estas contengan números. "
   ]
  },
  {
   "cell_type": "markdown",
   "metadata": {},
   "source": [
    "## 2.1.1. Tipos de Variables <a id='2.1.1_Tipos-de-Variables'></a>"
   ]
  },
  {
   "cell_type": "markdown",
   "metadata": {},
   "source": [
    "Para averiguar el tipo de una variable se usa el comando `type()`, y entre los paréntesis se pone la variable que se quiera consultar.\n",
    "\n",
    "Existen varios tipos de variables, pero la básicas son las [numéricas](#Variables-numericas), de [texto](#Variables-de-texto) y [vacías](#Variables-vacias).\n",
    "###### **Nota:** Hay otros tipos de variables adicionales que veremos más adelante.\n",
    "\n",
    "#### a. Variables numéricas <a id='Variables-numericas'></a>\n",
    "\n",
    "Son números enteros, reales, y complejos, aquí veremos los dos primeros.\n",
    "\n",
    "- **Enteros / Integer / `int`** <a id='Min-eje_Variables-int'></a>\n",
    "\n",
    "~~~python\n",
    "# Mini_Ejemplo: Variables int\n",
    "\n",
    "A=3253 \n",
    "a=(-932)\n",
    "op_1=A+a\n",
    "\n",
    "print(\"89 es un objeto tipo:\", type(- 89))\n",
    "print(\"1000003 es un objeto tipo:\", type(1000003))\n",
    "print(\"A es una variable tipo: \",type(A))\n",
    "print(\"a es una variable tipo: \",type(a))\n",
    "print(\"op_1=\",op_1,\" (una operación entre dos enteros) es una variable tipo: \",type(op_1))\n",
    "~~~  "
   ]
  },
  {
   "cell_type": "code",
   "execution_count": null,
   "metadata": {},
   "outputs": [],
   "source": [
    "# Pase aquí el mini ejemplo anterior"
   ]
  },
  {
   "cell_type": "markdown",
   "metadata": {},
   "source": [
    "- **Reales / Float / `float`** <a id='Min-eje_Variables-float'></a>\n",
    "\n",
    "~~~python\n",
    "# Mini_Ejemplo: Variables float\n",
    "\n",
    "Á=0.00004829\n",
    "á=-4.99900\n",
    "B=567887998*Á\n",
    "b=á/Á\n",
    "\n",
    "print(\"345.0 es un objeto tipo:\", type(345.0))\n",
    "print(\"Á es una variable tipo: \",type(Á))\n",
    "print(\"Á es una variable tipo: \",type(á))\n",
    "print(\"B=\",B,\" (una operación entre un entero y un real) es una variable tipo: \",type(B))\n",
    "print(\"b=\",b,\" (una operación entre dos float) es una variable tipo: \",type(b))\n",
    "~~~"
   ]
  },
  {
   "cell_type": "code",
   "execution_count": null,
   "metadata": {},
   "outputs": [],
   "source": [
    "# Pase aquí el mini ejemplo anterior"
   ]
  },
  {
   "cell_type": "markdown",
   "metadata": {},
   "source": [
    "#### b. Variables de texto <a id='Variables-de-texto'></a>\n",
    "\n",
    "Son cadenas de texto de uno más caracteres delimitadas por comillas dobles ( \" \" ) o simples ( ' ' ).\n",
    "\n",
    "- **Cadenas / String / `str`** <a id='Min-eje_Variables-str'></a>\n",
    "\n",
    "~~~python\n",
    "# Mini_Ejemplo: Variables str\n",
    "\n",
    "Letra=\"y\" \n",
    "Espacio=\" \"\n",
    "Palabra=\"Murciélagos\"\n",
    "Número=\"1.83\"\n",
    "Frase_corta='búhos son animales nocturnos'\n",
    "SumaCadenas=Palabra+Espacio+Letra+Espacio+Frase_corta\n",
    "\n",
    "print(\"Juanito Alcachofa 34 años ;)\", type(“Juanito Alcachofa 34 años ;)”))\n",
    "print(\"La variable Letra=\",Letra,\"es una variable tipo: \",type(Letra))\n",
    "print(\"La variable Espacio=\",Espacio,\"es una variable tipo: \",type(Espacio))\n",
    "print(\"La variable Palabra=\",Palabra,\"es una variable tipo: \",type(Palabra))\n",
    "print(\"La variable Número=\",Número,\"es una variable tipo: \",type(Número))\n",
    "print(\"La variable Frase_corta=\",Frase_corta,\"es una variable tipo: \",type(Frase_corta))\n",
    "\n",
    "print(\"La variable SumaCadenas=\",SumaCadenas,\" (una 'suma' o concatenación de cadenas) es una variable tipo: \",type(SumaCadenas))\n",
    "~~~"
   ]
  },
  {
   "cell_type": "code",
   "execution_count": null,
   "metadata": {},
   "outputs": [],
   "source": [
    "# Pase aquí el mini ejemplo anterior"
   ]
  },
  {
   "cell_type": "markdown",
   "metadata": {},
   "source": [
    "#### c. Variables vacías <a id='Variables-vacias'></a>\n",
    "En algunos casos tal vez encuentre necesario crear una variable vacía y posteriormente asignarle un valor, para esto se utiliza la palabra reservada `None`.\n",
    "<a id='Min-eje_Variables-vacias'></a>\n",
    "\n",
    "~~~python\n",
    "# Mini_Ejemplo: Variables vacías\n",
    "\n",
    "Variable_vacia=None #Sería como una etiqueta que por el momento no la hemos asignado a nada.\n",
    "print(\"La variable Variable_vacia es una variable tipo: \",type(Variable_vacia))\n",
    "~~~"
   ]
  },
  {
   "cell_type": "code",
   "execution_count": null,
   "metadata": {},
   "outputs": [],
   "source": [
    "# Pase aquí el mini ejemplo anterior"
   ]
  },
  {
   "cell_type": "markdown",
   "metadata": {},
   "source": [
    "### 2.1.1.1 Conversión de variables <a id='2.1.1.1_Conversion-de-variables'></a>\n",
    "\n",
    "Es muy normal tener que convertir un tipo de variable a otro, en este apartado veremos las conversiones más comunes, más adelante veremos otras. \n",
    "\n",
    "- Toda variable puede convertirse a una cadena de texto con el comando `str()`, poniendo entre paréntesis la variable que se quiera convertir: <a id='Min-eje_Conversion-a-str'></a>\n",
    "\n",
    "~~~python\n",
    "# Mini_Ejemplo: Conversión a str \n",
    "\n",
    "edad=57\n",
    "estatura= 1.83\n",
    "EDAD=str(edad)\n",
    "ESTATURA=str(estatura)\n",
    "\n",
    "print(\"La variable edad es tipo: \",type(edad))\n",
    "print(\"La variable EDAD que es la conversión de 'edad' es tipo: \",type(EDAD))\n",
    "\n",
    "print(\"La variable estatura es tipo: \",type(estatura))\n",
    "print(\"La variable ESTATURA que es la conversión de 'estatura' es tipo: \",type(EDAD))\n",
    "~~~"
   ]
  },
  {
   "cell_type": "code",
   "execution_count": null,
   "metadata": {},
   "outputs": [],
   "source": [
    "# Pase aquí el mini ejemplo anterior"
   ]
  },
  {
   "cell_type": "markdown",
   "metadata": {},
   "source": [
    "- Si tenemos un número como una cadena de texto, este se puede convertir en integer o float si es decimal, con los comandos `float()`, o `int()`, de esta manera se puede usar para realizar [operaciones aritméticas](#2.2_Operadore_aritmeticos \"ir al apartado de operadores aritméticos\") <a id='Min-eje_str-a-numero'></a>\n",
    "\n",
    "~~~python\n",
    "# Mini_Ejemplo: Conversión str a número\n",
    "\n",
    "n=\"3.456\"\n",
    "print(\"La variable n es tipo: \",type(n))\n",
    "print('Ahora se va a convertir la variable a float)\n",
    "n=float(n) # También se puede crear una variable nueva que almacene la conversión, como en el ejemplo anterior.\n",
    "print(\"La variable n ahora es tipo: \",type(n))\n",
    "~~~"
   ]
  },
  {
   "cell_type": "code",
   "execution_count": null,
   "metadata": {},
   "outputs": [],
   "source": [
    "# Pase aquí el mini ejemplo anterior"
   ]
  },
  {
   "cell_type": "markdown",
   "metadata": {},
   "source": [
    "Si se intenta convertir una cadena de un número decimal a entero, arrojará *value error*.\n",
    "<a id='Min-eje_str-decimal-a-int'></a>\n",
    "\n",
    "~~~python\n",
    "# Mini_Ejemplo: Error conversión str(decimal) a int\n",
    "\n",
    "cad_decimal=\"3.456\"\n",
    "entero=int(cad_decimal)\n",
    "\">>> ValueError: invalid literal for int() with base 10: '3.456'\"\n",
    "~~~"
   ]
  },
  {
   "cell_type": "markdown",
   "metadata": {},
   "source": [
    "- Si se intenta convertir un decimal a entero se quitará la parte decimal del número. **Ojo: No se redondea**, solo se elimina la parte decimal. <a id='Min-eje_float-a-int'></a>\n",
    "\n",
    "~~~python\n",
    "# Mini_Ejemplo: Conversión float a int\n",
    "\n",
    "decimal_1=19.9999999\n",
    "entero_1=int(decimal_1)\n",
    "print(decimal_1,\"convertido a entero es igual a: \",entero_1)\n",
    "~~~"
   ]
  },
  {
   "cell_type": "code",
   "execution_count": null,
   "metadata": {},
   "outputs": [],
   "source": [
    "# Pase aquí el mini ejemplo anterior"
   ]
  },
  {
   "cell_type": "markdown",
   "metadata": {},
   "source": [
    "- Si se intenta convertir una palabra a un número arrojará *value error*. <a id='Min-eje_str-texto-a-numero'></a>\n",
    "\n",
    "~~~python\n",
    "# Mini_Ejemplo: Error conversión str(texto) a int o float\n",
    "\n",
    "cadena_1=\"Obrigada\"\n",
    "entero_2=int(cadena_1)\n",
    "\">>> ValueError: invalid literal for int() with base 10: 'Obrigada'\"\n",
    "\n",
    "cadena_2=\"Hola en alemán es Hallo\"\n",
    "decimal_2=float(cadena_2)\n",
    "\">>>ValueError: invalid literal for int() with base 10: 'Hola en alemán es Hallo'\"\n",
    "~~~"
   ]
  },
  {
   "cell_type": "markdown",
   "metadata": {},
   "source": [
    "### 2.1.1.2 Tipos de objetos <a id='2.1.1.2_Tipos-de-objetos'></a>\n",
    "\n",
    "Como se mencionó anteriormente en Python sus objetos están asociados a un tipo o clase, el siguiente ejemplo muestra el tipo de algunos de estos.<a id='Min-eje_Tipos-de-objetos'></a>\n",
    "    \n",
    "~~~python\n",
    "# Mini_Ejemplo: Tipos de objetos\n",
    "\n",
    "import math ## Para el ejemplo necesitamos importar un módulo\n",
    "    \n",
    "## Para el ejemplo necesitamos crear una función\n",
    "def f():\n",
    "    return None\n",
    "\n",
    "## Esta es una lista con algunos objetos de Python\n",
    "lista=[479,int,type,\"cadena\",str,math,print,True,f,str.isnumeric,math.pi,[1,\"9\"],object,help,list,None]\n",
    "\n",
    "## Por cada elemento en la lista imprima su tipo.\n",
    "for i in lista:\n",
    "    print(i,\" es un objeto tipo: \",type(i),\"\\n\")\n",
    "~~~"
   ]
  },
  {
   "cell_type": "code",
   "execution_count": null,
   "metadata": {},
   "outputs": [],
   "source": [
    "# Pase aquí el mini ejemplo anterior"
   ]
  },
  {
   "cell_type": "markdown",
   "metadata": {},
   "source": [
    "## 2.1.2. Creación de Variables <a id='2.1.2_Creacion-de-Variables'></a>"
   ]
  },
  {
   "cell_type": "markdown",
   "metadata": {},
   "source": [
    "Para crear una variable tenga en cuenta: \n",
    "\n",
    "- Como Python es un [lenguaje de tipado dinámico](#Tipado-dinamico 'Qué significa que Python es un lenguaje de tipado dinámico') no se declara el tipo de variable antes de asignarle un valor, solamente se le asigna y ya.\n",
    "\n",
    "- **No utilice** palabras reservadas del sistema para nombrar variables, por ejemplo, int, list, print ... normalmente son las palabras que al escribirlas en un editor de Python cambian de color automáticamente.\n",
    "\n",
    "- Para Python es diferente mayúsculas y minúsculas, y toma en cuenta el uso de caracteres con tilde, por lo tanto, las variables A, Á, a y á, son diferentes. \n",
    "\n",
    "- Recomiendo no usar variables con tilde, porque se presta para tener un *NameError*.  \n",
    "\n",
    "- Al nombrar una variable no se puede usar espacios si necesita separadores use guion bajo, guion sencillo o una combinación de minúsculas y mayúsculas.\n",
    "\n",
    "- El decimal en Python se representa con el punto ( . ), si se usa coma ( , ) arrojará *sintaxis error*.\n",
    "\n",
    "- Python no distingue entre el uso de comillas dobles \" \" o sencillas ' ', pero si se quiere que un string tenga comillas dobles se debe crea con comillas simples. <a id='Min-eje_Cadenas-con-comillas'></a>\n",
    "\n",
    "~~~python\n",
    "# Mini_Ejemplo: Cadenas con comillas\n",
    "\n",
    "cadena_dobles='\"Esta cadena contiene comillas dobles, para hacerla se crearon con comillas simples\"'\n",
    "cadena_simples=\"'Esta cadena contiene comillas simples, para hacerla se crearon con comillas dobles'\"\n",
    "~~~"
   ]
  },
  {
   "cell_type": "code",
   "execution_count": null,
   "metadata": {},
   "outputs": [],
   "source": [
    "# Pase aquí el mini ejemplo anterior"
   ]
  },
  {
   "cell_type": "markdown",
   "metadata": {},
   "source": [
    "- También es posible asignar varias variables en una sola línea, no importa que cada variable sea de un tipo diferente.<a id='Min-eje_Asignacion-de-variables'></a>\n",
    "\n",
    "~~~python\n",
    "# Mini_Ejemplo: Asignación de variables\n",
    "                                                                                                           \n",
    "Nombre, Edad, Estatura = \"Julián\", 29, Número*100\n",
    "print(Nombre,\" tiene \"+str(Edad)+\" años y mide \"+str(Estatura)+\" cm.\")\n",
    "~~~"
   ]
  },
  {
   "cell_type": "code",
   "execution_count": null,
   "metadata": {},
   "outputs": [],
   "source": [
    "# Pase aquí el mini ejemplo anterior"
   ]
  },
  {
   "cell_type": "markdown",
   "metadata": {},
   "source": [
    "<a id='2.1.3_Ingreso-de-Datos'></a>\n",
    "## 2.1.3. Ingreso de Datos"
   ]
  },
  {
   "cell_type": "markdown",
   "metadata": {},
   "source": [
    "Lo más común es que los valores de las variables, sean ingresados por el usuario, leyendo un archivo de texto, lo cual se explicará en el [capítulo 7](../7_Lectura_y_Escritura/7_Lectura_y_Escritura.ipynb#7_Lectura_y_Escritura).\n",
    "\n",
    "Por medio de `input()` se solicita al usuario el ingreso de datos, tenga en cuenta que el valor ingresado es un tipo de dato *string*, por lo tanto, si se pretende realizar operaciones aritméticas con estos datos, se debe realizar una conversión a *integer* o *float*. <a id='Min-eje_Ingreso-de-datos'></a>\n",
    "\n",
    "```python\n",
    "# Mini_Ejemplo: Ingreso de datos por el usuario\n",
    "\n",
    "Usuario, Impar, Par=input(\"Por favor escriba su nombre\"), input(\"Por favor digite un número impar\"), input(\"Por favor digite un número par\")\n",
    "\n",
    "print(Usuario+\" ha escogido los números \"+Impar+\" y \"+Par)\n",
    "\n",
    "print(\"Impar y Par es una variable tipo: \"+str(type(Impar)))\n",
    "```"
   ]
  },
  {
   "cell_type": "code",
   "execution_count": null,
   "metadata": {},
   "outputs": [],
   "source": [
    "# Pase aquí el mini ejemplo anterior"
   ]
  },
  {
   "cell_type": "markdown",
   "metadata": {},
   "source": [
    "Como puede comprobar, en el mini ejemplo anterior, el usuario puede ingresar cualquier valor, hasta letras y el programa va a seguir corriendo, aunque estos datos sean incorrectos, para que no pase esto el apartado [6.4. Validaciones](../6_Funciones/6_Funciones.ipynb#6.4_Validaciones) contiene algunos ejemplos de cómo validar las entradas del usuario."
   ]
  },
  {
   "cell_type": "markdown",
   "metadata": {},
   "source": [
    "<a id='2.2_Operadores-Aritmeticos'></a>\n",
    "## **2.2 Operadores Aritméticos**"
   ]
  },
  {
   "cell_type": "markdown",
   "metadata": {},
   "source": [
    "| OPERADOR | DESCRIPCIÓN |\n",
    "| :--------: | :-------: |\n",
    "| + | Suma |\n",
    "| - | Resta |\n",
    "| * | Multiplicación |\n",
    "| / | División |\n",
    "| % | Módulo |\n",
    "| ** | Potenciación |\n",
    "| // | División entera |\n",
    "\n",
    "<a id='Min-eje_Operaciones-aritmeticas'></a>\n",
    "\n",
    "~~~python\n",
    "# Mini_Ejemplo: Operaciones aritméticas\n",
    "\n",
    "## Escoger dos números aleatorios\n",
    "import random\n",
    "x, y=random.randint(1,10),random.randint(1,10)\n",
    "\n",
    "## Operaciones aritméticas\n",
    "\n",
    "suma=x+y\n",
    "resta=x-y\n",
    "multiplicacion=x*y\n",
    "division=x/y\n",
    "modulo=x%y\n",
    "potenciacion=x**y\n",
    "div_entera=x//y\n",
    "\n",
    "## Imprimir los resultados.\n",
    "\n",
    "Operaciones=[[\"Suma\",\"+\",suma],[\"Resta\",\"-\",resta],[\"Multiplicación\",\"*\",multiplicacion],[\"División\",\"/\",division],[\"Módulo\",\"%\",modulo],[\"Potenciación\",\"**\",potenciacion],[\"División entera\",\"//\",div_entera]]\n",
    "\n",
    "print(\"El número 1 es igual a: \",x)\n",
    "print(\"El número 2 es igual a: \",y)\n",
    "\n",
    "for i in Operaciones:\n",
    "    print(\"\\n\",i[0],\":\",x,i[1],y,\"=\",i[2])\n",
    "~~~"
   ]
  },
  {
   "cell_type": "code",
   "execution_count": 11,
   "metadata": {},
   "outputs": [],
   "source": [
    "# Pase aquí el mini ejemplo anterior"
   ]
  },
  {
   "cell_type": "markdown",
   "metadata": {},
   "source": [
    "- En el caso de las variables string, se pueden usar la suma para concatenar cadeneas, como en el [Mini_Ejemplo: Variables str](#Min-eje_Variables-str) con la variable SumaCadenas.\n",
    "###### **Ojo:** La suma solo puede ser cadenas con cadenas, no cadenas con número ya que esto último nos arrojaría [Type error](#Min-eje_Error-operaciones-con-cadenas \"Mini_Ejemplo:Error operaciones con cadenas \")  \n",
    "\n",
    "\n",
    "- También se puede usar la multipilicación para repetir las cadenas, tantas veces se indique.\n",
    "\n",
    "Ingrese el siguiente código en la consola y compruebe el resultado.\n",
    "<a id=\"Min-eje_Multiplicacion-de-cadenas\"></a>\n",
    "\n",
    "~~~python\n",
    "# Mini_Ejemplo: Multiplicación de cadenas\n",
    "\n",
    "palabra_1=input(\"Ingrese la palabra o texto que quiera repetir\")\n",
    "mult_cadena=palabra_1*4\n",
    "print(mult_cadena)\n",
    "~~~"
   ]
  },
  {
   "cell_type": "code",
   "execution_count": null,
   "metadata": {
    "scrolled": true
   },
   "outputs": [],
   "source": [
    "# Pase aquí el mini ejemplo anterior"
   ]
  },
  {
   "cell_type": "markdown",
   "metadata": {},
   "source": [
    "- Si se intenta realizar operaciones diferentes a una suma entre cadenas o multiplicación, arrojará *Type Error*.\n",
    "<a id=\"Min-eje_Error-operaciones-con-cadenas\"></a>\n",
    "\n",
    "~~~python\n",
    "# Mini_Ejemplo: Error operaciones con cadenas\n",
    "\n",
    "palabra_2=input(\"Cadena\")\n",
    "resta_cadena=palabra_2-9\n",
    "print(resta_cadena)\n",
    "\n",
    "\">>> TypeError: unsupported operand type(s) for -: 'str' and 'int'\"\n",
    "~~~"
   ]
  },
  {
   "cell_type": "markdown",
   "metadata": {},
   "source": [
    "## **2.3 Ayuda y Directorio** <a id='2.3_Ayuda-y-Directorio'></a>"
   ]
  },
  {
   "cell_type": "markdown",
   "metadata": {},
   "source": [
    "Hay dos comandos que son muy útiles `help()` y `dir()`.\n",
    "\n",
    "Si se necesita buscar ayuda sobre alguna palabra clave, método o tipo de variable se puede usar help(asunto) y se presentará la documentación que tenga disponible al respecto. \n",
    "\n",
    "Para practicar, por favor corra en la consola el siguiente comando:`help (str)`, de esa forma obtendrán la documentación de ayuda sobre las variables de texto (string)"
   ]
  },
  {
   "cell_type": "code",
   "execution_count": null,
   "metadata": {
    "scrolled": true
   },
   "outputs": [],
   "source": [
    "## Escriba aquí:"
   ]
  },
  {
   "cell_type": "markdown",
   "metadata": {},
   "source": [
    "De igual manera, la opción `dir()` presenta una **lista de los métodos disponibles** para un determinado tipo de variable. \n",
    "\n",
    "Practique con el siguiente comando: `dir(str)`"
   ]
  },
  {
   "cell_type": "code",
   "execution_count": null,
   "metadata": {
    "scrolled": true
   },
   "outputs": [],
   "source": [
    "## Escriba aquí:"
   ]
  },
  {
   "cell_type": "markdown",
   "metadata": {},
   "source": [
    "Finalmente para obtener mayor información sobre la funcionalidad, parámetros y resultados de un método determinado, se puede usar el comando `help(objeto.método)`  \n",
    "\n",
    "Por ejemplo, si se escribe en la consola `help(str.isnumeric)`, el resultado que arroja es: \n",
    "~~~python\n",
    "Help on method_descriptor:\n",
    "\n",
    "isnumeric(self, /)\n",
    "    Return True if the string is a numeric string, False otherwise.\n",
    "    \n",
    "    A string is numeric if all characters in the string are numeric and there is at\n",
    "    least one character in the string.\n",
    "~~~\n",
    "\n",
    "Para probar el método `isnumeric` escriba en la consola: <a id='Min-eje_Metodo-isnumeric'></a>\n",
    "\n",
    "~~~python\n",
    "# Mini_Ejemplo: Método isnumeric\n",
    "                                                            \n",
    "print(\"492\".isnumeric())\n",
    "print(\"Texto\".isnumeric())\n",
    "~~~"
   ]
  },
  {
   "cell_type": "code",
   "execution_count": 1,
   "metadata": {
    "scrolled": true
   },
   "outputs": [],
   "source": [
    "# Pase aquí el mini ejemplo anterior"
   ]
  },
  {
   "cell_type": "markdown",
   "metadata": {},
   "source": [
    "### Métodos Variable String <a id='Min-ejercicio_Metodos-variable-string'></a>"
   ]
  },
  {
   "cell_type": "markdown",
   "metadata": {},
   "source": [
    "Con el comando help o con el método que prefiera, investigue para sirven las siguientes funciones y pruébelas en la siguiente variable:\n",
    "\n",
    "~~~python\n",
    "ME2=\"God, grant me the serenity to accept the things I cannot change,\\nCourage to change the things I can,\\nAnd wisdom to know the difference.\"\n",
    "~~~\n",
    "- lower\n",
    "- upper\n",
    "- capitalize\n",
    "- split\n",
    "- splitlines"
   ]
  },
  {
   "cell_type": "code",
   "execution_count": 3,
   "metadata": {
    "scrolled": true
   },
   "outputs": [],
   "source": [
    "# Resuelva aquí el mini ejercicio anterior"
   ]
  },
  {
   "cell_type": "markdown",
   "metadata": {},
   "source": [
    "---"
   ]
  },
  {
   "cell_type": "markdown",
   "metadata": {},
   "source": [
    "| [***Anterior***](../1_Introduccion/1_Introduccion.ipynb#1_Introduccion) <!--(https://mybinder.org/Introducción)--> | - | [***Siguiente***](2_4_Programas_en_Python/2_4_Programas_en_Python.ipynb/#2-4_Programas-en-Python) <!--(https://www.python.org/Programas-en-Python)--> |\n",
    "| :--------: | :-------: | :--------: |"
   ]
  },
  {
   "cell_type": "markdown",
   "metadata": {},
   "source": [
    "| [**Home**](../Home.ipynb#Home)<!--(https://mybinder.org/Home)--> |\n",
    "| :--------: |"
   ]
  }
 ],
 "metadata": {
  "kernelspec": {
   "display_name": "Python 3",
   "language": "python",
   "name": "python3"
  },
  "language_info": {
   "codemirror_mode": {
    "name": "ipython",
    "version": 3
   },
   "file_extension": ".py",
   "mimetype": "text/x-python",
   "name": "python",
   "nbconvert_exporter": "python",
   "pygments_lexer": "ipython3",
   "version": "3.7.4"
  }
 },
 "nbformat": 4,
 "nbformat_minor": 4
}
