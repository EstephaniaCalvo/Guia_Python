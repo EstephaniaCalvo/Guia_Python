{
 "cells": [
  {
   "cell_type": "markdown",
   "metadata": {},
   "source": [
    "![Fig3_Encabezado.png](../../Fig3_Encabezado.png)\n",
    "\n",
    "---------------------"
   ]
  },
  {
   "cell_type": "markdown",
   "metadata": {},
   "source": [
    "## **2.4. Programas en Python** <a id='2-4_Programas-en-Python'></a>"
   ]
  },
  {
   "cell_type": "markdown",
   "metadata": {},
   "source": [
    "[2.4.1 Análisis del Problema y Planteamiento del Algoritmo](#2.4.1_Analsis)\n",
    "> [2.4.1.1. Objetivo](#2.4.1.1_Objetivo)  \n",
    "[2.4.1.2. Entradas](#2.4.1.2_Entradas)  \n",
    "[2.4.1.3. Salidas](#2.4.1.3_Salidas)  \n",
    "[2.4.1.4. Algoritmo](#2.4.1.4_Algoritmo)  \n",
    "[2.4.1.5. Pseudocódigo](#2.4.1.5_Pseudocodigo)  \n",
    "\n",
    "[2.4.2 Código en Python](#2.4.2_Codigo-en-Python)  \n",
    "> [2.4.2.1. Import Statements](#2.4.2.1_Import-Statements)  \n",
    "[2.4.2.2. Helper Functions](#2.4.2.2_Helper-Functions)      \n",
    "[2.4.2.3_Main Program](#2.4.2.3_Main-Program)  \n",
    "[2.4.2.4. Ejecutar](#2.4.2.4_Ejecutar)  "
   ]
  },
  {
   "cell_type": "markdown",
   "metadata": {},
   "source": [
    "---\n",
    "\n",
    "Este apartado va a estar dividido en dos partes principales, la primera es el análisis del problema y la otra es cómo escribir un programa en Python, sin embargo, es necesario tener claro los conceptos de algoritmos y programación en el contexto de la guía.\n",
    "\n",
    "> \"**Programming** is the process of taking an algorithm and encoding it into a notation, a programming language, so that it can be executed by a computer.\" [(Miller & Ranum, 2013)](https://runestone.academy/runestone/books/published/pythonds/index.html 'Miller, B & Ranum D. (2018). Problem Solving with Algorithms and Data Structures using Python')\n",
    ">###### (Programar es el proceso de tomar un algoritmo y codificarlo en una notación (un lenguaje de programación), para que este pueda ser ejecutado en un computador)  \n",
    "\n",
    "\n",
    "> \"**Algorithms** describe the solution to a problem in terms of the data needed to represent the problem instance and the set of steps necessary to produce the intended result.\" [(Miller & Ranum, 2013)](https://runestone.academy/runestone/books/published/pythonds/index.html 'Miller, B & Ranum D. (2018). Problem Solving with Algorithms and Data Structures using Python')\n",
    ">###### (Los algoritmos describen la solución de un problema en términos de los datos necesarios para representar la instancia del problema y el conjunto de pasos necesarios para conseguir el resultado deseado)  \n",
    "\n",
    "En resumen, para efectos prácticos de esta guía Python es solo un lenguaje de programación, es decir, un lenguaje común entre el programador y la computadora, con el cual se escriben las instrucciones para que puedan ser ejecutadas. Al conjunto de aquellas instrucciones se les llama algoritmo y al proceso de escribirlo con Python se le llama programar."
   ]
  },
  {
   "cell_type": "markdown",
   "metadata": {},
   "source": [
    "<a id='Analsis'><a/>\n",
    "## 2.4.1 Análisis del Problema <a id='2.4.1_Analsis'><a/>"
   ]
  },
  {
   "cell_type": "markdown",
   "metadata": {},
   "source": [
    "Antes empezar a programar se recomienda realizar un análisis previo del problema que permita esquematizarlo en términos de objetivo, entradas, salidas, y proceso (algoritmo), con el fin de tener una guía estructurada que facilite la programación ya sea con Python o con otro lenguaje.\n",
    "\n",
    "A continuación se describirá cada paso del análisis de un programa sencillo que calcule raíces cuadradas y una recopilación de [preguntas guía](#Preguntas-guia \"Ir al apartado de preguntas guía\") que serán de ayuda en esta etapa."
   ]
  },
  {
   "cell_type": "markdown",
   "metadata": {},
   "source": [
    "### 2.4.1.1. Objetivo <a id='2.4.1.1_Objetivo'></a>\n",
    "Definir cuál es el propósito del programa, es decir, \"se necesita un programa para que resuelva tal problema o haga tal cosa\", además es recomendable describir el tipo de interacción con el usuario.\n",
    "\n",
    ">***Ej:*** Se requiere un programa para calcular la raíz cuadrada de varios números, donde el usuario indica las veces que quiere hacer la operación y los números a operar, y una vez terminados los cálculos se despida."
   ]
  },
  {
   "cell_type": "markdown",
   "metadata": {},
   "source": [
    "### 2.4.1.2. Entradas <a id='2.4.1.2_Entradas'></a>\n",
    "\n",
    "Definir qué información se ingresará al programa, en que tipo de variable y [estructura de datos](../5_Estructura_de_Datos/5_Estructura_de_Datos.ipynb#5_Estructura-de-Datos-Basicas) debe almacenarse para ser procesada adecuadamente. Se debe tener en cuenta que normalmente la información ingresa como texto y si es necesario debe convertirse a `integer` o `float`.\n",
    "\n",
    "También es recomendable en esta etapa definir los nombres que las variables van a tener en el código.\n",
    "\n",
    ">***Ej:*** \n",
    "1. Cantidad de cálculos= `veces` - str\n",
    "2. Número a operar= `num` - str"
   ]
  },
  {
   "cell_type": "markdown",
   "metadata": {},
   "source": [
    "### 2.4.1.3. Salidas <a id='2.4.1.3_Salidas'></a>\n",
    "Definir según el objetivo que salidas se deben mostrar, y/o guardarse, y en qué tipo de formato deben presentarse o almacenarse. \n",
    "\n",
    "Igual que en las entradas sugiero que sean establecidos los nombres que tendrán las salidas en el código.\n",
    "\n",
    ">***Ej:*** \n",
    " 1. Mensaje 1: \"CÁLCULO DE RAÍCES CUADRADAS\" - str\n",
    " 2. Mensaje 2: \"La raíz cuadrada de num es `raiz`\" - str\n",
    " 3. Mensaje 3: \"Hemos terminado. Adios\" - str\n",
    " \n",
    " ###### **Nota:** Al ser un programa sencillo la única variable de salida como tal es `raiz`, sin embargo, personalmente me gusta incluir los mensajes que se le muestran al usuario."
   ]
  },
  {
   "cell_type": "markdown",
   "metadata": {},
   "source": [
    "### 2.4.1.4. Algoritmo <a id='2.4.1.4_Algoritmo'></a>\n",
    "\n",
    "Definir los pasos y cálculos necesarios para resolver el problema, es decir, para convertir las salidas en entradas. (Este es el algoritmo)\n",
    "\n",
    ">**Ej:**\n",
    "1. Mostrar el nombre del programa\n",
    "2. Pedir la cantidad de veces\n",
    "3. Pedir el número para operar\n",
    "4. Hacer el cálculo de la raíz\n",
    "5. Mostrar el resultado\n",
    "    - Repetir paso 3, 4, 5 la cantidad de veces indicada.\n",
    "6. Despedirse.\n",
    "\n",
    "\n",
    "###### **Nota:** En el análisis de problema de los ejemplos, el algoritmo estará includio en el psudocódigo."
   ]
  },
  {
   "cell_type": "markdown",
   "metadata": {},
   "source": [
    "### 2.4.1.5. Pseudocódigo <a id='2.4.1.5_Pseudocodigo'></a>\n",
    "\n",
    "El pseudocódigo es la secuencia de pasos detallados del algoritmo escrito en términos cercanos al lenguaje de programación. Caulquier persona con el contexto puede entenderlo, ya que, es casi como el código pero sin la sintaxis del lenguaje.\n",
    "\n",
    "Una de las grandes ventajas de Python, es que, si se realiza bien el pseudocódigo el programa es prácticamente igual solo que en inglés. \n",
    "\n",
    "Para hacer el pseudocódigo se debe:\n",
    "\n",
    "- Definir el o los tipos de [estructura de datos](../../5_Estructura_de_Datos/5_Estructura_de_Datos.ipynb#5_Estructura-de-Datos-Basicas \"Ir al capítulo 5 Estructuras de Datos Básicas\") con la que se va a almacenar y organizar la información, por ejemplo, variables individuales, listas, listas anidadas, diccionarios, tuplas, matrices, etc.\n",
    "\n",
    "- Definir las variables auxiliares que resultan de los pasos del algoritmo con su correspondiente tipo de objeto.\n",
    "\n",
    "###### **Nota:** Las variables de operación, son las variables internas con las cuales vamos a realizar las operaciones del algoritmo, hay casos en las que estas son las mismas que las de entrada.\n",
    "\n",
    "- Definir en detalle los pasos y cálculos necesarios para resolver el problema como se hará en el código, hay que ser lo más específico posible, porque estas son las instrucciones que después va a recibir la computadora. \n",
    "\n",
    "Para realizar esta etapa es conveniente estructurar el programa en varias secciones como se propone a continuación."
   ]
  },
  {
   "cell_type": "markdown",
   "metadata": {},
   "source": [
    "#### Estructura del programa <a id='Estructura'></a>\n",
    "\n",
    "Existen muchas maneras de estructurar un programa que dependen del tipo de programa y hasta del lenguaje que se esté usando. En esta guía se usará la siguiente estructura, ya que, para el tipo de algorimos que se van a implementar facilita el proceso de escritura, lectura, pruebas y depuración del código.\n",
    "\n",
    "~~~python\n",
    "\n",
    "# -2. Importar de módulos / Import Statements   \n",
    "# -1. Definir de funciones auxiliares/ Helper Functions    \n",
    "# 0. Programa principal / Main program     \n",
    "\n",
    "        ## 1. Ingreso - lectura y almacenamiento de datos\n",
    "        ## 2. Procesamiento o caja negra. (Los pasos del algoritmo)\n",
    "        ## ...\n",
    "        ## n. Mostrar / Almacenar resultados.  \n",
    "        \n",
    "#(n+1). Ejecutar.\n",
    "\n",
    "~~~\n",
    "\n",
    "###### **Nota:** Cuando se manejan bucles donde haya interacción con el usuario, se suele presentar una mezcla entre las secciones del programa principal, como verá en el siguiente ejemplo, pero la lógica es la misma, primero se piden los datos, luego se procesan y por úlitmo se muestran o almacenan los resultados."
   ]
  },
  {
   "cell_type": "markdown",
   "metadata": {},
   "source": [
    ">**Ej:**\n",
    "\n",
    "~~~python\n",
    "\"\"\"\n",
    "-2. Importar math.\n",
    "\n",
    "-1. Crear función para calcular raíz= raiz_cuadrada\n",
    "\n",
    "0. Definir programa principal. \n",
    "\n",
    "    1. Imprimir: Mensaje 1.\n",
    "    2.Ingresar veces.\n",
    "    3. Convertir veces a integer= times\n",
    "    4. Ingresar num y calcular raíz.\n",
    "    \n",
    "    Por cada vez en times haga:\n",
    "        4.1 Ingresar num.\n",
    "        4.2 Convertir num a float= numero.\n",
    "        4.3 Calcular raíz= raiz_cuadrada(numero)\n",
    "        4.4 Imprimir: Mensaje 2.\n",
    "        \n",
    "    5. Imprimir: Mensaje 3. \n",
    "    \n",
    "6. Ejecutar programa principal. \n",
    "\"\"\"\n",
    "~~~"
   ]
  },
  {
   "cell_type": "markdown",
   "metadata": {},
   "source": [
    "#### - Preguntas guía <a id='Preguntas-guia'></a>\n",
    "\n",
    "Estas son algunas preguntas guía que es bueno tener en cuenta para realizar un análisis completo.\n",
    "\n",
    "- ¿Es un programa personal o lo usará alguien más?: De esto depende que tan detalladas deben ser las instrucciones, el nivel de validación de datos o si es necesaria una interfaz. (esta última no está en el alcance de la guía).  \n",
    "\n",
    "- ¿Cómo se van a ingresar los datos de entrada?: Se debe definir si las entradas van a ser digitadas por el usuario, si se van a extraer de una base de datos o de un archivo ya existente. \n",
    "\n",
    "- Si los datos se van a extraer de un archivo, ¿El archivo debe tener un formato en especial?: Es importante conocer la estructura del archivo que se va a leer, ya que, si no tiene un formato estándar el programa deberá reconocer y organizar los datos para luego procesarlos.\n",
    "\n",
    "- ¿Cómo se van a almacenar los datos?: En que estructura de datos se van a organizar los datos de entrada como listas, diccionarios, matrices, conjuntos, arboles, listas inmutables... etc.\n",
    "\n",
    "- ¿Las salidas van a ser utilizadas para un cálculo posterior, se deben almacenar o solo hay que conocerlos?: Hay que saber en qué tipo de archivo es el más apropiado para mostrar y/o guardar los resultados.   "
   ]
  },
  {
   "cell_type": "markdown",
   "metadata": {},
   "source": [
    "<a id='CodigoPython'></a>\n",
    "## 2.4.2 Código en Python <a id='2.4.2_Codigo-en-Python'></a>"
   ]
  },
  {
   "cell_type": "markdown",
   "metadata": {},
   "source": [
    "Los programas en Python son archivos de texto plano que se graban con la extensión .py. Pueden crearse desde cualquier editor de texto plano como Bloc de notas, pero los IDE para Python tienen varias funcionalidades que facilitan escribir el código, como se describen en el apartado [1.3. Algunos IDE](../../1_Introduccion/1_3_Algunos_IDE/1_3_1_IDLE/1_3_1_IDLE.ipynb#1.3_Algunos-IDE).\n",
    "\n",
    "Al momento de enfrentar un problema moderadamente complejo se debe:\n",
    "\n",
    "- Tener por lo menos un ejercicio pequeño resuelto o un set de datos de prueba, para verificar los resultados de bloques importantes del código cómo las funciones auxiliares y/o para hacer pruebas unitarias.\n",
    "\n",
    "- Nombrar las variables de tal manera que sean explicativas por sí mismas y usar un estándar, con el fin de mejorar la legibilidad y la lectura del código. Por ejemplo:\n",
    "    - Usar sólo minúsculas y separar por guiones bajos: edad_pensionados\n",
    "    - Usar Mayúsculas para separar: edadPensionados\n",
    "\n",
    "- Hacer uso de los comentarios para explicar y documentar los bloques importantes o que puedan ser complejos. Una de las características de un buen código es que se pueda entender y retomar fácilmente. Esto es crucial si se está trabajando con un equipo. \n",
    "\n",
    "- Si no se tiene idea de cómo abordar el problema, plantear el algoritmo o programar alguna parte en específico, la forma más rápida de encontrar la solución es googlearlo o postearlo en algún foro de la comunidad como en [Stack Overflow](https://stackoverflow.com/ \"ir a Stack Overflow\")\n",
    "\n",
    "###### **Nota:** Una de las grandes ventajas de Python es que tiene una comunidad cooperativa enorme trabajando en proyectos de código abierto y bastante activa en foros.\n",
    "\n",
    "A continuación, está el ejemplo del código de la Calculadora de raíces cuadradas que muestra cómo pasar del [pseudocódigo](#2.4.1.5_Pseudocodigo \"Ir al apartado del pseudocódigo\") al código en Python y explica las partes más importantes."
   ]
  },
  {
   "cell_type": "markdown",
   "metadata": {},
   "source": [
    "### Ejemplo 1: Calculadora de raíces. <a id='Ejemplo-1_Calculadora-de-raices'></a>"
   ]
  },
  {
   "cell_type": "markdown",
   "metadata": {},
   "source": [
    "~~~python\n",
    "# Ejemplo1_Calculadora_de_raices.py\n",
    "\n",
    "# By Leonardo Rivera\n",
    "\n",
    "## -2. IMPORT STATEMENTS:\n",
    "import math\n",
    "\n",
    "## -1. HELPER FUNCTIONS:\n",
    "\n",
    "def raiz_cuadrada(n):\n",
    "    raiz=math.sqrt(n)\n",
    "\n",
    "    return raiz\n",
    "\n",
    "## 0. MAIN PROGRAM\n",
    "\n",
    "def main():\n",
    "    print(\"CÁLCULO DE RAÍCES CUADRADAS\") # 1\n",
    "    veces= input(\"Cuántas raíces cuadradas va a calcular: \") # 2\n",
    "    times= int(veces) # 3\n",
    "    \n",
    "    #4\n",
    "    for j in range (times):\n",
    "        num=input(\"Dígame el número: \")# 4.1\n",
    "        numero= float(num)# 4.2\n",
    "        raiz= raiz_cuadrada(numero) #4.3\n",
    "        print(\"La raíz cuadrada de \",numero,\" es:\",raiz) #4.4\n",
    "        \n",
    "    print(\"Hemos terminado. Adiós\") #5\n",
    "\n",
    "## 6. EJECUTAR:\n",
    "if __name__=='__main__':\n",
    "    main() \n",
    "~~~\n",
    "###### [Ejemplo-1_Calculadora de raíces.py](Ejemplo1_Calculadora_de_raices.py \"Ver Ejemplo-1: Calculadora de raíces\")"
   ]
  },
  {
   "cell_type": "code",
   "execution_count": 1,
   "metadata": {},
   "outputs": [],
   "source": [
    "# Pase aquí el Ejemplo_1"
   ]
  },
  {
   "cell_type": "markdown",
   "metadata": {},
   "source": [
    "### 2.4.2.1. Import Statements  <a id='2.4.2.1_Import-Statements'></a>\n",
    "En muchas ocasiones será necesario importar [módulos](9_Modulos/9_Modulos_y_Paquetes.ipynb#9_Modulos_y_Paquetes \"Ir al capítulo 9. Módulos.\") del lenguaje que no se ejecutan por defecto. En este ejemplo se usa el módulo `math`, que tiene funciones matemáticas más allá de las más básicas como la raíz cuadrada. \n",
    "\n",
    "Como práctica en el siguiente bloque ejecute los siguientes comandos para ver los métodos que el módulo `math` conitene y la [ayuda](../../2_Elementos_Basicos/2_Elementos_Basicos.ipynb#2.3_Ayuda-y-Directorio \"Ir al apartado 2.3 Ayuda y Directorio\") para la función de la raíz cuadrada.  \n",
    "\n",
    "```python\n",
    ">>> import math\n",
    ">>> dir(math)\n",
    ">>> help(math.sqrt)\n",
    "```"
   ]
  },
  {
   "cell_type": "code",
   "execution_count": 7,
   "metadata": {},
   "outputs": [],
   "source": [
    "## Escriba aquí:"
   ]
  },
  {
   "cell_type": "markdown",
   "metadata": {},
   "source": [
    "### 2.4.2.2. Helper Functions  <a id='2.4.2.2_Helper-Functions'></a>\n",
    "En esta sección se ubica todas las [funciones](../../6_Funciones/6_Funciones.ipynb#6_Funciones \"Ir al capítulo 6. Funciones\") que harán tareas específicas del programa y que luego se ejecutarán en el cuerpo principal. En este ejemplo se tiene la función `raiz_cuadrada` que toma como entrada el parámetro `number` (un número), calcula la raíz cuadrada y devuelve como resultado la variable raiz.  \n",
    "~~~python\n",
    "def raiz_cuadrada(number):\n",
    "    raiz = math.sqrt(number)\n",
    "\n",
    "    return raiz \n",
    "~~~\n",
    "La primera línea de la función inicia con la palabra clave `def` (quiere decir que se va a definir la función), seguida del nombre de la función y paréntesis. Dentro de los paréntesis se especifica los parámetros de la función, es decir, los valores que debe recibir para hacer su tarea. Si **no** son necesarios los parámetros los paréntesis estarán vacíos ( ). Se termina la primera línea con `:`\n",
    "\n",
    "La segunda línea está [indentada](../../3_Estructuras_Logicas/3_Estructuras_Logicas.ipynb#Indentacion \"¿Por qué la identación en Python es muy importante?\") cuatro espacios y es la que ejecuta la operación matemática. A la variable `raíz` se le asigna la raíz cuadrada de `number`.\n",
    "\n",
    "La última línea empieza con la palabra clave `return`. En esta se especifica que la función retornará el valor de la variable `raíz` a la parte del programa que la haya ejecutado."
   ]
  },
  {
   "cell_type": "markdown",
   "metadata": {},
   "source": [
    "### 2.4.2.3_Main Program  <a id='2.4.2.3_Main-Program'></a>\n",
    "En esta sección se desarrolla el flujo del programa principal, es decir, es la que controla el orden de toda la ejecución.\n",
    "\n",
    "Siguiendo la ejecución del programa:\n",
    "\n",
    "- La primera acción es presentar en pantalla el anuncio *'CALCULO DE RAICES CUADRADAS'*.    \n",
    "- La segunda línea toma en la variable `veces` el valor que el usuario digite, después de presentar en pantalla la pregunta: *'Cuantas raíces cuadradas va a calcular?:'*.    \n",
    "- Como el valor almacenado en la variable `veces` es una variable de texto en la siguiente línea se convierte ese valor en un número entero y se almacena en la variable `times`.   \n",
    "- Justo después está un [bloque de repetición for](../../4_Bucles_e_Iterables/4_Bucles_e_Iterables.ipynb#4.2.1_Bloque-for) que usa la variable `times` para indicarle al ciclo cuantas veces se debe ejecutar. Al igual que en la función todo el bloque de instrucciones que deben repetirse en el cíclo está indentado cuatro espacios debajo de la palabra clave for.    \n",
    "\n",
    "De aquí en adelante se puede entender fácilmente qué hace el resto del programa."
   ]
  },
  {
   "cell_type": "markdown",
   "metadata": {},
   "source": [
    "<a id='2.4.2.4_Ejecutar'></a>\n",
    "### 2.4.2.4. Ejecutar\n",
    "\n",
    "En esta sección se declara que al ejecutar el archivo **Ejemplo-1_Calculadora-de-raices** la función que controlará la ejecución de todo el archivo será main, es decir, el programa principal."
   ]
  },
  {
   "cell_type": "markdown",
   "metadata": {},
   "source": [
    "____"
   ]
  },
  {
   "cell_type": "markdown",
   "metadata": {},
   "source": [
    "| [***Anterior***](../2_Elementos_Basicos.ipynb#2_Elementos-Basicos) <!--(https://mybinder.org/Introducción)--> | - | [***Siguiente***](../../3_Estructuras_Logicas/3_Estructuras_Logicas.ipynb#3_Estructuras-Logicas) <!--(https://www.python.org/Programas-en-Python)--> |\n",
    "| :--------: | :-------: | :--------: |"
   ]
  },
  {
   "cell_type": "markdown",
   "metadata": {},
   "source": [
    "| [**Home**](../../Home.ipynb#Home)<!--(https://mybinder.org/Home)--> |\n",
    "| :--------: |"
   ]
  }
 ],
 "metadata": {
  "kernelspec": {
   "display_name": "Python 3",
   "language": "python",
   "name": "python3"
  },
  "language_info": {
   "codemirror_mode": {
    "name": "ipython",
    "version": 3
   },
   "file_extension": ".py",
   "mimetype": "text/x-python",
   "name": "python",
   "nbconvert_exporter": "python",
   "pygments_lexer": "ipython3",
   "version": "3.7.4"
  }
 },
 "nbformat": 4,
 "nbformat_minor": 4
}
