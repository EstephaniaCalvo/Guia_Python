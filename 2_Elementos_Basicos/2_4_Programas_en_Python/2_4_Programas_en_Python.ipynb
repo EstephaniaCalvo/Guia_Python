{
 "cells": [
  {
   "cell_type": "markdown",
   "metadata": {},
   "source": [
    "## **2.4. Programas en Python** <a id='2-4_Programas-en-Python'></a>"
   ]
  },
  {
   "cell_type": "markdown",
   "metadata": {},
   "source": [
    "---\n",
    "[2.4.1 Análisis del Problema y Planteamiento del Algoritmo](#2.4.1_Analsis)\n",
    "> [2.4.1.1. Objetivo](#2.4.1.1_Objetivo)  \n",
    "[2.4.1.2. Entradas](#2.4.1.2_Entradas)  \n",
    "[2.4.1.3. Salidas](#2.4.1.3_Salidas)  \n",
    "[2.4.1.4. Algoritmo](#2.4.1.4_Algoritmo)  \n",
    "[2.4.1.5. Pseudocódigo](#2.4.1.5_Pseudocodigo)  \n",
    "\n",
    "[2.4.2 Código en Python](#2.4.2_Codigo-en-Python)  \n",
    "> [2.4.2.1. Import Statements](#2.4.2.1_Import-Statements)  \n",
    "[2.4.2.2. Helper Functions](#2.4.2.2_Helper-Functions)      \n",
    "[2.4.2.3_Main Program](#2.4.2.3_Main-Program)  \n",
    "[2.4.2.4. Ejecutar](#2.4.2.4_Ejecutar)  "
   ]
  },
  {
   "cell_type": "markdown",
   "metadata": {},
   "source": [
    "---\n",
    "\n",
    "Este apartado va a estar dividido en dos partes principales, la primera es el análisis del problema y la otra es cómo escribir un programa en Python, sin embargo, es necesario tener claro los conceptos de algoritmos y programación en el cotexto de la guía.\n",
    "\n",
    "> **Programming** is the process of taking an algorithm and encoding it into a notation, a programming language, so that it can be executed by a computer. [(Miller & Ranum, 2018)](https://runestone.academy/runestone/books/published/pythonds/index.html 'Miller, B & Ranum D. (2018). Problem Solving with Algorithms and Data Structures using Python')\n",
    ">###### (Programar es el proceso de tomar un algoritmo y codificarlo en una notación (un lenguaje de programación), para que este pueda ser ejecutado en un computador)  \n",
    "\n",
    "\n",
    "> **Algorithms** describe the solution to a problem in terms of the data needed to represent the problem instance and the set of steps necessary to produce the intended result. [(Miller & Ranum, 2018)](https://runestone.academy/runestone/books/published/pythonds/index.html 'Miller, B & Ranum D. (2018). Problem Solving with Algorithms and Data Structures using Python')\n",
    ">###### (Los algoritmos describen la solución de un problema en términos de los datos necesarios para representar la instancia del problema y el conjunto de pasos necesarios para conseguir el resultado deseado)  \n",
    "\n",
    "En resumen, para efectos prácticos de esta guía, Python es solo un lenguaje de programación, es decir, un lenguaje común entre el programador y la computadora, con el cual se escriben las instrucciones para que puedan ser ejecutadas; al conjunto de aquellas instrucciones lo llamamos algoritmo y al proceso de escribirlo con Python lo llamamos programar."
   ]
  },
  {
   "cell_type": "markdown",
   "metadata": {},
   "source": [
    "## 2.4.1 Análisis del Problema <a id='2.4.1_Analsis'><a/>"
   ]
  },
  {
   "cell_type": "markdown",
   "metadata": {},
   "source": [
    "Antes empezar a programar se recomienda realizar un análisis previo del problema que permita esquematizarlo, en términos de objetivo, entradas, salidas, y algoritmo, con el fin de tener una guía estructurada que facilite la programación ya sea con Python o con otro lenguaje.\n",
    "\n",
    "A continuación se describirá cada paso del análisis de un programa sencillo que calcule raíces cuadradas y una recopilación de [preguntas guía](#Preguntas-guia \"Ir al apartado de preguntas guía\") que serán de ayuda en esta estapa.\n",
    "\n",
    "###### **Nota:** Por fines didácticos y por buenas prácticas de documentación, cada ejemplo tendrá un análisis, aunque no tengan un nivel de complejidad que lo amerite."
   ]
  },
  {
   "cell_type": "markdown",
   "metadata": {},
   "source": [
    "### 2.4.1.1. Objetivo <a id='2.4.1.1_Objetivo'></a>\n",
    "Definir cuál es el propósito del programa, es decir, \"se necesita un programa para que resuelva tal problema o haga tal cosa\", además es recomendable describir el tipo de interacción con el usuario.\n",
    "\n",
    ">***Ej:*** Se requiere un programa para calcular la raíz cuadrada de varios números, donde el usuario indica las veces que quiere hacer la operación y los números a operar, y una vez terminados los cálculos se despida."
   ]
  },
  {
   "cell_type": "markdown",
   "metadata": {},
   "source": [
    "### 2.4.1.2. Entradas <a id='2.4.1.2_Entradas'></a>\n",
    "\n",
    "Definir que información se ingresará al programa y en que tipo de variable debe almacenarse para ser procesada adecuadamente, tenga en cuenta que, normalmente la información ingresa como texto, pero para procesarse se deben cambiar a `integer` o `float`.\n",
    "\n",
    "También es recomendable en esta estapa defnir los nombres que estas variables van a tener en el código.\n",
    "\n",
    ">***Ej:*** \n",
    "1. Cantidad de cálculos= `veces` - str\n",
    "2. Número a operar= `num` - str"
   ]
  },
  {
   "cell_type": "markdown",
   "metadata": {},
   "source": [
    "### 2.4.1.3. Salidas <a id='2.4.1.3_Salidas'></a>\n",
    "Definir según el objetivo que salidas se deben mostrar, y/o guardarse, y en qué tipo de formato deben presentarse o almacenarse. \n",
    "\n",
    "Igual que en las entradas sugiero que sean establecidos los nombres que tendrán las salidas en el código.\n",
    "\n",
    ">***Ej:*** \n",
    " 1. Mensaje 1: \"CÁLCULO DE RAÍCES CUADRADAS\" - str\n",
    " 2. Mensaje 2: \"La raíz cuadrada de num es `raiz`\" - str\n",
    " 3. Mensaje 3: \"Hemos terminado. Adios\" - str\n",
    " \n",
    " ###### **Nota:** Al ser un programa sencillo la única variable de salida como tal es `raiz`, sin embargo, personalmente me gusta incluir los mensajes que se le muestran al usuario."
   ]
  },
  {
   "cell_type": "markdown",
   "metadata": {},
   "source": [
    "### 2.4.1.4. Algoritmo <a id='2.4.1.4_Algoritmo'></a>\n",
    "\n",
    "Definir los pasos y cálculos necesarios para resolver el problema, es decir, para convertir las salidas en entradas. (Este es el algoritmo)\n",
    "\n",
    ">**Ej:**\n",
    "1. Mostrar el nombre del programa\n",
    "2. Pedir la cantidad de veces\n",
    "3. Pedir el número para operar\n",
    "4. Hacer el cálculo de la raíz\n",
    "5. Mostrar el resultado\n",
    "    - Repetir paso 3, 4, 5 la cantidad de veces indicada.\n",
    "6. Despedirse.\n",
    "\n",
    "\n",
    "###### **Nota:** En el análisis de problema de los ejemplos, el algoritmo estará includio en el psudocódigo."
   ]
  },
  {
   "cell_type": "markdown",
   "metadata": {},
   "source": [
    "### 2.4.1.5. Pseudocódigo <a id='2.4.1.5_Pseudocodigo'></a>\n",
    "\n",
    "El pseudocódigo es la secuencia de pasos detallados donde adecuamos el algoritmo a términos cercanos al lenguaje de programación que vayamos a utilizar, pero que cualquier persona lo pueda entender, es casi como un código, pero sin sintaxi del lenguaje.\n",
    "\n",
    "Una de las grandes ventajas de Python, es que, si hemos realizado bien el pseudocódigo, el programa es prácticamente igual, solo que en inglés. \n",
    "\n",
    "Para hacer el pseudocódigo se debe:\n",
    "\n",
    "- Definir el o los tipos de estructura de datos donde vamos a almacenar la información, por ejemplo, variables individuales, listas, listas anidadas, diccionarios, tuplas, matrices...\n",
    "\n",
    "- Definir las variables de operación con su respectivo tipo, y con las variables de entrada y salida, en caso de no haberlo hecho en los pasos anteriores.\n",
    "\n",
    "###### **Nota:** Las variables de operación, son las variables internas con las cuales vamos a realizar las operaciones del algoritmo, hay casos en las que estas son las mismas que las de entrada.\n",
    "\n",
    "- Definir pasos y cálculos necesarios para resolver el problema como lo haríamos en el código, recuerde que se debe ser lo más específico posible, porque estas son las instrucciones que va a recibir la computadora, para realizar esta etapa es conveniente estructurar el programa en varias secciones, como se propone mas adelante.\n",
    "\n",
    ">**Ej:**\n",
    "```python\n",
    "\"\"\"\n",
    "-2. Importar math.\n",
    "-1. Crear función para calcular raíz= raiz_cuadrada\n",
    "0. Definir programa principal. \n",
    "    1. Imprimir: Mensaje 1.\n",
    "    2.Ingresar veces.\n",
    "    3. Convertir veces a integer= times\n",
    "    4. Ingresar num y calcular raíz.\n",
    "    Por cada vez en times haga:\n",
    "        4.1 Ingresar num.\n",
    "        4.2 Convertir num a float= numero.\n",
    "        4.3 Calcular raíz= raiz_cuadrada(numero)\n",
    "        4.4 Imprimir: Mensaje 2.\n",
    "    5. Imprimir: Mensaje 3. \n",
    "6. Ejecutar programa principal. \n",
    "\"\"\"\n",
    "```"
   ]
  },
  {
   "cell_type": "markdown",
   "metadata": {},
   "source": [
    "#### - Estructura del programa <a id='Estructura'></a>\n",
    "\n",
    "Normalmente estructuro el programa en los siguientes pasos, aunque claramente no es una camisa de fuerza y puede cambiar dependiendo del tipo de programa, me gusta organizar las secciones de esta manera, ya que, me facilita el proceso de lectura, pruebas y depuración del código.\n",
    "\n",
    "-2. Importar de módulos / Import Statements\n",
    "-1. Definir de funciones auxiliares/ Helper Functions\n",
    "0. Programa principal / Main program\n",
    "\n",
    "        1. Ingreso - lectura y almacenamiento de datos\n",
    "        2. Procesamiento o caja negra. (Los pasos del algoritmo)\n",
    "            ...\n",
    "            n. Impresión- almacenamiento de resultados.  \n",
    "        \n",
    "(n+1). Ejecutar.\n",
    "\n",
    "###### **Nota:** Cuando se manejan bucles donde haya interacción con el usuario, se suele presentar una mezcla entre las partes del programa principal, como vio en ejemplo."
   ]
  },
  {
   "cell_type": "markdown",
   "metadata": {},
   "source": [
    "#### - Preguntas guía <a id='Preguntas-guia'></a>\n",
    "\n",
    "Estas son algunas preguntas guía que es bueno tener en cuenta para realizar un análisis completo.\n",
    "\n",
    "- ¿Cómo se van a ingresar los datos de entrada?: Si estos van a ser digitados hay que tener la opción de corregir los datos ingresados, o si se van a extraer de una base de datos o de un archivo ya existente, para lo cual hay que tener en cuenta la el tipo de archivo y su ubicación.   \n",
    "\n",
    "- ¿Es un programa personal o lo usará alguien más?: De esto depende que tan detalladas deben ser las instrucciones, el nivel de validación de datos o si es necesaria una interfaz (esta últimas no está en el alcance de la guía).  \n",
    "\n",
    "- ¿Las salidas van a ser utilizados para un cálculo posterior, se deben almacenar, o solo hay que conocerlos?: Hay que saber en qué tipo de archivo es más eficiente que se guarden los resultados.   \n",
    "\n",
    "- ¿Cómo se van a almacenar los datos en una lista de listas o en listas por separado?  \n",
    "\n",
    "- ¿El archivo que contiene los datos debe tener un formato en especial?: Es importante conocer la estructura del archivo que se va a manejar, ya que, si no tiene un formato estándar el programa deberá reconocer y organizar los datos para luego procesarlos."
   ]
  },
  {
   "cell_type": "markdown",
   "metadata": {},
   "source": [
    "## 2.4.2 Código en Python <a id='2.4.2_Codigo-en-Python'></a>"
   ]
  },
  {
   "cell_type": "markdown",
   "metadata": {},
   "source": [
    "Los programas en Python son archivos de texto plano, que se graban con la extensión .py. Estos programas pueden crearse desde cualquier editor de texto plano, pero los IDE para Python tienen tiene varias funcionalidades que facilitan escribir código con este lenguaje, como se describen en el apartado `*`[1.3. Algunos IDE](../../1_Introduccion/1-3_Algunos-IDE/1-3-1_IDLE/1-3-1_IDLE.ipynb#1.3_Algunos-IDE).\n",
    "\n",
    "Al momento de enfrentarnos con un problema complejo, se debe tener en cuenta que:\n",
    "\n",
    "- Tener un ejercicio pequeño ya resuelto, para crear un set de datos de prueba y poder verificar los resultados a medida que terminemos una sección grande, creemos funciones auxiliares, o para hacer pruebas unitarias con el módulo unittest.\n",
    "\n",
    "- Bautizar las variables de tal manera que sean explicativas por sí mismas, y usar un estándar para bautizarlas, con el fin de mejorar la legibilidad del código y en caso de que se quiera publicar en un foro lo mejor es nombrar las variables en inglés.\n",
    "\n",
    "- Hacer uso de los comentarios, sobretodo explicando bloques de código que puedan ser complejos, recuerde que un buen código es el que se puede leer fácilmente, sobre todo cuando lo retomamos después de un tiempo o cuando es un proyecto colaborativo.\n",
    "\n",
    "- Si no tenemos idea de cómo abordar el problema, plantear el algoritmo o alguna parte en específico del código, la forma más rápida es plantearle la duda a google y si no hay nada relacionado, postearlo en un foro.\n",
    "\n",
    "###### **Nota:** Una de las grandes ventajas de Python es que tiene una comunidad cooperativa enorme trabajando en proyectos open source y activa en foros.\n",
    "\n",
    "A continuación, se muestra el código de la Calculadora de raíces cuadradas, en cual veremos cómo pasar del [pseudocódigo](#2.4.1.5_Pseudocodigo \"Ir al apartado del pseudocódigo\") al código en Python, y se explicarán cada uno de las secciones."
   ]
  },
  {
   "cell_type": "markdown",
   "metadata": {},
   "source": [
    "### Ejemplo 1: Calculadora de raíces. <a id='Ejemplo-1_Calculadora-de-raices'></a>"
   ]
  },
  {
   "cell_type": "markdown",
   "metadata": {},
   "source": [
    "~~~python\n",
    "# Ejemplo1_Calculadora_de_raices.py\n",
    "\n",
    "# By Leonardo Rivera\n",
    "\n",
    "## -2. IMPORT STATEMENTS:\n",
    "import math\n",
    "\n",
    "## -1. HELPER FUNCTIONS:\n",
    "\n",
    "def raiz_cuadrada(n):\n",
    "    raiz=math.sqrt(n)\n",
    "\n",
    "    return raiz\n",
    "\n",
    "## 0. MAIN PROGRAM\n",
    "\n",
    "def main():\n",
    "    print(\"CÁLCULO DE RAÍCES CUADRADAS\") # 1\n",
    "    veces= input(\"Cuántas raíces cuadradas va a calcular: \") # 2\n",
    "    times= int(veces) # 3\n",
    "    \n",
    "    #4\n",
    "    for j in range (times):\n",
    "        num=input(\"Dígame el número: \")# 4.1\n",
    "        numero= float(num)# 4.2\n",
    "        raiz= raiz_cuadrada(numero) #4.3\n",
    "        print(\"La raíz cuadrada de \",numero,\" es:\",raiz) #4.4\n",
    "        \n",
    "    print(\"Hemos terminado. Adiós\") #5\n",
    "\n",
    "## 6. EJECUTAR:\n",
    "if __name__=='__main__':\n",
    "    main() \n",
    "~~~\n",
    "###### Descargar `*` [Ejemplo-1_Calculadora de raíces.py](http://localhost:8888/lab/tree/Documents/GitHub/Pequena-Guia-Python/2_Elementos-Basicos/2-4_Programas-en-Python/Ejemplo-1_Calculadora-de-raices.py \"Descargar Ejemplo-1: Calculadora de raíces\")`*`"
   ]
  },
  {
   "cell_type": "code",
   "execution_count": 1,
   "metadata": {},
   "outputs": [],
   "source": [
    "# Pase aquí el Ejemplo_1"
   ]
  },
  {
   "cell_type": "markdown",
   "metadata": {},
   "source": [
    "### 2.4.2.1. Import Statements  <a id='2.4.2.1_Import-Statements'></a>\n",
    "En muchas ocasiones necesitaremos importar módulos del lenguaje que no se ejecutan por defecto. En este ejemplo usamos el módulo `math`, que tiene funciones matemáticas más allá de las más básicas como la raíz cuadrada. \n",
    "\n",
    "Como práctica, en la siguiente bloque ejecute los siguientes comandos, para ver los métodos que el módulo `math` nos aporta y la [ayuda](../../2_Elementos_Basicos/2_Elementos_Basicos.ipynb#2.3_Ayuda-y-Directorio \"Ir al apartado 2.3 Ayuda y Directorio\") para la función de la raíz cuadrada.  \n",
    "\n",
    "```python\n",
    ">>> import math\n",
    ">>> dir(math)\n",
    ">>> help(math.sqrt)\n",
    "```"
   ]
  },
  {
   "cell_type": "code",
   "execution_count": 7,
   "metadata": {},
   "outputs": [],
   "source": [
    "## Escriba aquí:\n"
   ]
  },
  {
   "cell_type": "markdown",
   "metadata": {},
   "source": [
    "### 2.4.2.2. Helper Functions  <a id='2.4.2.2_Helper-Functions'></a>\n",
    "En esta sección ubicamos todas las funciones que harán tareas específicas para el cuerpo principal del programa. En este caso tenemos una función, que toma como entrada el parámetro `n` y devuelve como resultado la variable raiz que ha sido calculada.  \n",
    "~~~python\n",
    "def raiz_cuadrada(number):\n",
    "    raiz = math.sqrt(number)\n",
    "\n",
    "    return raiz \n",
    "~~~\n",
    "La primera línea de la función inicia con la palabra clave `def` (quiere decir que vamos a definir la función), seguida del nombre de la función y paréntesis. Dentro de los paréntesis especificamos los parámetros de la función, es decir, los valores que debe recibir para hacer su tarea. Si **no** son necesarios los parámetros, los paréntesis estarán vacíos ( ). Terminamos la primera línea con `:`\n",
    "\n",
    "La segunda línea está [indentada](../../3_Estructuras_Logicas/3_Estructuras_Logicas.ipynb#3.1.1.1_Indentacion \"¿Por qué la identación en Python es muy importante?\") cuatro espacios, y es la que ejecuta la operación matemática. A la variable `raíz` le asignamos la raíz cuadrada de number.\n",
    "\n",
    "La última línea empieza con la palabra clave `return`. En esta especificamos que la función retornará el valor de la variable `raíz` a la parte del programa que la haya llamado."
   ]
  },
  {
   "cell_type": "markdown",
   "metadata": {},
   "source": [
    "### 2.4.2.3_Main Program  <a id='2.4.2.3_Main-Program'></a>\n",
    "En esta sección se desarrolla el flujo del programa principal. Cuando se ejecute el programa, es esta la sección que controla toda la ejecución.\n",
    "\n",
    "Siguiendo la ejecución de nuestro pequeño programa de ejemplo, la primera acción es presentar en pantalla el anuncio *'CALCULO DE RAICES CUADRADAS'*. La segunda línea toma en la variable `veces` el valor que el usuario digite, después de presentar en pantalla la pregunta: *'Cuantas raíces cuadradas va a calcular?:'*. Como el valor almacenado en la variable `veces` es una variable de texto en la siguiente línea convertimos ese valor en un número entero y lo almacenamos en la variable `times`.\n",
    "\n",
    "Justo después encontramos un `*`[bloque de repetición for]()`*`, en el que usamos la variable `times` para indicarle al ciclo cuantas veces se debe ejecutar. Observemos que todo el bloque de instrucciones que deben repetirse bajo el control del for está indentado cuatro espacios debajo de la palabra clave for. \n",
    "\n",
    "De aquí en adelante ustedes pueden descifrar fácilmente qué hace el resto del programa."
   ]
  },
  {
   "cell_type": "markdown",
   "metadata": {},
   "source": [
    "<a id='2.4.2.4_Ejecutar'></a>\n",
    "### 2.4.2.4. Ejecutar\n",
    "\n",
    "En esta sección declaramos que al ejecutar el archivo **Ejemplo-1_Calculadora-de-raices**, la función que controlará la ejecución de todo el archivo será aquella cuyo nombre sea main, es decir, el programa principal."
   ]
  },
  {
   "cell_type": "markdown",
   "metadata": {},
   "source": [
    "____"
   ]
  },
  {
   "cell_type": "markdown",
   "metadata": {},
   "source": [
    "| [***Anterior***](../2_Elementos_Basicos.ipynb#2_Elementos-Basicos) <!--(https://mybinder.org/Introducción)--> | - | [***Siguiente***](../../3_Estructuras_Logicas/3_Estructuras_Logicas.ipynb#3_Estructuras-Logicas) <!--(https://www.python.org/Programas-en-Python)--> |\n",
    "| :--------: | :-------: | :--------: |"
   ]
  },
  {
   "cell_type": "markdown",
   "metadata": {},
   "source": [
    "| [**Home**](../../Home.ipynb#Home)<!--(https://mybinder.org/Home)--> |\n",
    "| :--------: |"
   ]
  }
 ],
 "metadata": {
  "kernelspec": {
   "display_name": "Python 3",
   "language": "python",
   "name": "python3"
  },
  "language_info": {
   "codemirror_mode": {
    "name": "ipython",
    "version": 3
   },
   "file_extension": ".py",
   "mimetype": "text/x-python",
   "name": "python",
   "nbconvert_exporter": "python",
   "pygments_lexer": "ipython3",
   "version": "3.7.4"
  }
 },
 "nbformat": 4,
 "nbformat_minor": 4
}
