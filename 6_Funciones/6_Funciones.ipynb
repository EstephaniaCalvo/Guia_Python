{
 "cells": [
  {
   "cell_type": "markdown",
   "metadata": {},
   "source": [
    "# 6. Funciones <a id='6_Funciones'></a>"
   ]
  },
  {
   "cell_type": "markdown",
   "metadata": {},
   "source": [
    "---\n",
    "### [6.1. ](#6.1_xxx)   \n",
    ">[](#)  \n",
    ">>[](#)  "
   ]
  },
  {
   "cell_type": "markdown",
   "metadata": {},
   "source": [
    "---"
   ]
  },
  {
   "cell_type": "markdown",
   "metadata": {},
   "source": [
    "## **6.1. Listas** <a id='5.1_Listas'></a>  \n",
    "Mi tipo . <a id='Min-eje_Lista'></a>\n",
    "\n",
    "~~~python\n",
    "# Mini_Ejemplo: Lista\n",
    "\n",
    "Lista=[\"1\",2,3.4,\"cinco\",print,True,None,[4,\"Toro\"]]\n",
    "\n",
    "for i in Lista:\n",
    "    print(type(i))\n",
    "~~~"
   ]
  },
  {
   "cell_type": "code",
   "execution_count": null,
   "metadata": {},
   "outputs": [],
   "source": [
    "# Pase aquí el mini ejemplo anterior"
   ]
  },
  {
   "cell_type": "markdown",
   "metadata": {},
   "source": [
    "## 5.1.1. Métodos de las Listas <a id='5.1.1_Metodos-de-las-Listas'></a>\n",
    "Al ser un iterable como un string, en las listas el [manejo de los índices](../4_Bucles-e-Iterables/4_Bucles-e-Iterables.ipynb#4.1.2_Indices \"Ir al apartado 4.1.2_Índices\") y los [métodos báiscos](../4_Bucles-e-Iterables/4_Bucles-e-Iterables.ipynb#4.1.1_Metodos-Basicos \"Ir al apartado 4.1.1 Metodos Básicos\") que vimos en el capitulo anterior (`len`, `count`, e `index`) son iguales, sin embargo, una de las grandes ventajas que tienen las listas es que son objetos mutables, es decir, que podemos cambiar, adicionar, eliminar y ordenar sus elementos, en los siguientes puntos veremos los métodos que permiten hacerlo. <a id='Min-eje_Cambio-de-Elementos'></a>\n",
    "\n",
    "~~~python\n",
    "# Mini_Ejemplo: Cambio de Elementos.\n",
    "\n",
    "cad_enteros=[\"1\",\"2\",\"3\",\"4\",\"5\"]\n",
    "\n",
    "for i in range(len(cad_enteros)):\n",
    "    cad_enteros[i]=str(int(cad_enteros[i])+1)+\" gatos\"\n",
    "    \n",
    "print(cad_enteros)\n",
    "~~~"
   ]
  },
  {
   "cell_type": "code",
   "execution_count": null,
   "metadata": {},
   "outputs": [],
   "source": [
    "# Pase aquí el mini ejemplo anterior"
   ]
  },
  {
   "cell_type": "markdown",
   "metadata": {},
   "source": [
    "### 5.1.1.1. Métodos de Adición <a id='#5.1.1.1_Metodos-de-Adicion'></a>\n",
    "- **Append:** <a id='Min-eje_append'></a>\n",
    "Con este método podemos agregar un elemento al final de la lista, así sea una lista vacía.\n",
    "\n",
    "~~~python\n",
    "# Mini_Ejemplo: append\n",
    "\n",
    "impares=[]\n",
    "\n",
    "for i in range(1,100,2):\n",
    "    impares.append(i)\n",
    "    \n",
    "print(impares)\n",
    "~~~"
   ]
  },
  {
   "cell_type": "code",
   "execution_count": null,
   "metadata": {},
   "outputs": [],
   "source": [
    "# Pase aquí el mini ejemplo anterior"
   ]
  },
  {
   "cell_type": "markdown",
   "metadata": {},
   "source": [
    "- **Extend:** <a id='Min-eje_extend'></a>\n",
    " Este método agrega los elementos de una lista, al final de otra. el siguiente ejemplo muestra como agregamos a lista_a cada uno de los elementos de la lista_b.\n",
    " \n",
    "~~~python\n",
    "# Mini_Ejemplo: extend\n",
    "\n",
    "lista_a=[1,2,3]\n",
    "lista_b=[\"a\",\"b\",\"c\"]\n",
    "\n",
    "lista_a.extend(lista_b)\n",
    "\n",
    "print(lista_a)\n",
    "~~~"
   ]
  },
  {
   "cell_type": "code",
   "execution_count": null,
   "metadata": {},
   "outputs": [],
   "source": [
    "# Pase aquí el mini ejemplo anterior"
   ]
  },
  {
   "cell_type": "markdown",
   "metadata": {},
   "source": [
    "###### **Ojo:** Si se usa el método append en ejemplo anterior, se agregaría la lista_b como un elemento en la lista_a. <a id='Min-eje_append-Lista'></a>\n",
    " \n",
    "~~~python\n",
    "# Mini_Ejemplo: append Lista\n",
    "\n",
    "lista_a=[1,2,3]\n",
    "lista_b=[\"a\",\"b\",\"c\"]\n",
    "\n",
    "lista_a.append(lista_b)\n",
    "\n",
    "print(lista_a)\n",
    "~~~"
   ]
  },
  {
   "cell_type": "code",
   "execution_count": null,
   "metadata": {},
   "outputs": [],
   "source": [
    "# Pase aquí el mini ejemplo anterior"
   ]
  },
  {
   "cell_type": "markdown",
   "metadata": {},
   "source": [
    "- **Insert:** <a id='Min-eje_insert'></a>\n",
    "Con este método podemos agregar a una lista en una posición específica un elemento. Hay que tener especial cuidado con este método ya que requiere tener un correcto [manejo de los índices](../4_Bucles-e-Iterables/4_Bucles-e-Iterables.ipynb#4.1.2_Indices \"Ir al apartado 4.1.2_Índices\") para no obtener un [error de indexación.](../4_Bucles-e-Iterables/4_Bucles-e-Iterables.ipynb#Min-eje_Error-de-Indexacion \"Ir al Mini_Ejemplo: Error de Indexación\")\n",
    "\n",
    "~~~python\n",
    "# Mini_Ejemplo: insert\n",
    "\n",
    "lista=[1,5]\n",
    "\n",
    "lista.insert(1,3) #Insertar en la posición 2, el elmento 1.5. (Recuerde que el índice de la posición 2 es 1).\n",
    "\n",
    "print(lista)\n",
    "~~~"
   ]
  },
  {
   "cell_type": "code",
   "execution_count": null,
   "metadata": {},
   "outputs": [],
   "source": [
    "# Pase aquí el mini ejemplo anterior"
   ]
  },
  {
   "cell_type": "markdown",
   "metadata": {},
   "source": [
    "### 5.1.1.2. Métodos de Eliminación <a id='#5.1.1.2_Metodos-de-Eliminacion'></a>"
   ]
  },
  {
   "cell_type": "markdown",
   "metadata": {},
   "source": [
    "- **pop:**<a id='Min-eje_pop-con-indices'></a>\n",
    "Con este método podemos eliminar un elemento indicando el índice de este, si no se define el índice por defecto se eliminará el último elemento, además de eliminar también guarda en memoria el elemento eliminado, por lo cual si lo necesitamos lo podemos guardar en una variable.\n",
    "\n",
    "~~~python\n",
    "# Mini_Ejemplo: pop\n",
    "\n",
    "lista_a=[1,2,3,4,5,6]\n",
    "\n",
    "for i in range(len(lista_a)):\n",
    "    eliminado_a=lista_a.pop()\n",
    "    print(\"El elemento eliminado No.\",i+1,\" es:\",eliminado_a,\"y ahora la lista_a es:\",lista_a,\"\\n\")\n",
    "~~~"
   ]
  },
  {
   "cell_type": "code",
   "execution_count": null,
   "metadata": {},
   "outputs": [],
   "source": [
    "# Pase aquí el mini ejemplo anterior"
   ]
  },
  {
   "cell_type": "markdown",
   "metadata": {},
   "source": [
    "<a id='Min-eje_pop-con-indices'></a>\n",
    "Al igual que con el método insert se debe tener un buen [manejo de los índices](../4_Bucles-e-Iterables/4_Bucles-e-Iterables.ipynb#4.1.2_Indices \"Ir al apartado 4.1.2_Índices\") para no tener un [error de indexación.](../4_Bucles-e-Iterables/4_Bucles-e-Iterables.ipynb#Min-eje_Error-de-Indexacion \"Ir al Mini_Ejemplo: Error de Indexación\") \n",
    "\n",
    "Se debe tener en cuenta que si elimina un elemento diferente al úlitmo, los índices de la lista van a cambiar, por ejemplo, el siugiente mini ejemplo muestra como eliminar los elementos en las posiciones impares de la lista_b inicial, es decir, los elementos 1, 3, y 5, con los índices [0], [1], [3] respectivamente, sin embargo, como veremos estos índices cambiaran una vez se empiecen a eliminar los elementos.\n",
    "\n",
    "~~~python\n",
    "# Mini_Ejemplo: pop con índices\n",
    "\n",
    "lista_b=[1,2,3,4,5,6]\n",
    "j=0\n",
    "while j<=len(lista_b)/2:\n",
    "    eliminado_b=lista_b.pop(j)\n",
    "    print(\"Se ha eliminado el elemento\",eliminado_b,\"con índice\",j)\n",
    "    print(\"Ahora la lista_b es:\",lista_b,\"y sus nuevos índices son\",list(range(len(lista_b))),\"respectivamente\\n\")\n",
    "    j+=1\n",
    "~~~"
   ]
  },
  {
   "cell_type": "code",
   "execution_count": null,
   "metadata": {},
   "outputs": [],
   "source": [
    "# Pase aquí el mini ejemplo anterior"
   ]
  },
  {
   "cell_type": "markdown",
   "metadata": {},
   "source": [
    "- **remove:**<a id='Min-eje_remove'></a>\n",
    "Con este método podemos eliminar el elemento que indiquemos de la lista, en el siguiente Mini_Ejemplo vamos a leminar todos los elemento diferentes a un entero.\n",
    "\n",
    "~~~python\n",
    "# Mini_Ejemplo: remove\n",
    "\n",
    "lista_c=[\"Gatos\",2,9,3.1,0,\"Perros\"]\n",
    "\n",
    "for i in lista_c:\n",
    "    if type(i)!=int:\n",
    "        print(\"El elemento\",i,\"será eliminado \\n\")\n",
    "        lista_c.remove(i)\n",
    "print(\"Ahora lista_c es:\", lista_c)\n",
    "~~~"
   ]
  },
  {
   "cell_type": "code",
   "execution_count": null,
   "metadata": {},
   "outputs": [],
   "source": [
    "# Pase aquí el mini ejemplo anterior"
   ]
  },
  {
   "cell_type": "markdown",
   "metadata": {},
   "source": [
    "Si indicamos un elemento que **no está** en la lista nos va a arrojar un Value Error. <a id='Min-eje_remove-ValueError'></a>\n",
    "~~~python\n",
    "# Mini_Ejemplo: remove ValueError\n",
    "\n",
    "lista_c=[\"Gatos\",2,9,3.1,0,\"Perros\"]\n",
    "\n",
    "lista_c.remove(10000)\n",
    "\n",
    "\">>> ValueError: list.remove(x): x not in list\"\n",
    "~~~"
   ]
  },
  {
   "cell_type": "markdown",
   "metadata": {},
   "source": [
    "- **clear:**<a id='Min-eje_clear'></a>\n",
    "Este método elimina todos los elementos de la lista.\n",
    "\n",
    "~~~python\n",
    "# Mini_Ejemplo: clear\n",
    "\n",
    "Lista=[\"1\",2,3.4,\"cinco\",print,True,None,[4,\"Toro\"]]\n",
    "\n",
    "Lista.clear()\n",
    "\n",
    "print(\"Ahora Lista es:\", Lista)\n",
    "~~~"
   ]
  },
  {
   "cell_type": "code",
   "execution_count": null,
   "metadata": {},
   "outputs": [],
   "source": [
    "# Pase aquí el mini ejemplo anterior"
   ]
  },
  {
   "cell_type": "markdown",
   "metadata": {},
   "source": [
    "### 5.1.1.3. Métodos de Orden <a id='#5.1.1.3_Metodos-de-Orden'></a>"
   ]
  },
  {
   "cell_type": "markdown",
   "metadata": {},
   "source": [
    "- **reverse:**<a id='Min-eje_reverse'></a>\n",
    "Este método modifica la lista y presenta sus elementos en orden invertido.\n",
    "\n",
    "~~~python\n",
    "# Mini_Ejemplo: reverse\n",
    "\n",
    "Lista=[\"1\",2,3.4,\"cinco\",print,True,None,[4,\"Toro\"]]\n",
    "\n",
    "Lista.reverse()\n",
    "\n",
    "print(\"Ahora Lista es:\", Lista)\n",
    "~~~"
   ]
  },
  {
   "cell_type": "code",
   "execution_count": null,
   "metadata": {},
   "outputs": [],
   "source": [
    "# Pase aquí el mini ejemplo anterior"
   ]
  },
  {
   "cell_type": "markdown",
   "metadata": {},
   "source": [
    "- **sort:**<a id='Min-eje_sort'></a>\n",
    "Este método ordena de forma ascendente los elementos de la lista, tiene dos parámetros `key` el cual veremos al [Ordenar una \"Matriz\"](#Min-eje_Ordenar-una-Matriz \"Ir al sección\") y `reverse`, que nos sirve cuando deseamos ordenar los elementos de forma descendente.\n",
    "\n",
    "~~~python\n",
    "# Mini_Ejemplo: sort\n",
    "\n",
    "lista_d=[1000, 23, 12, 987, 9.76, 51, 0.98]\n",
    "lista_e=[\"g\",\"z\",\"m\",\"2\",\"a\",\"0\",\",\",]\n",
    "\n",
    "lista_d.sort()\n",
    "lista_e.sort(reverse=True)\n",
    "\n",
    "print(\"Ahora lista_d esta ordenada y es:\", lista_d)\n",
    "print(\"Ahora lista_e esta ordenada de forma descendente y es:\", lista_e)\n",
    "~~~"
   ]
  },
  {
   "cell_type": "code",
   "execution_count": null,
   "metadata": {},
   "outputs": [],
   "source": [
    "# Pase aquí el mini ejemplo anterior"
   ]
  },
  {
   "cell_type": "markdown",
   "metadata": {},
   "source": [
    "Aunque las listas pueden tener elemento de tipos diferentes, el metodo sort no puede ordenar una lista que tenga una mezcla de datos numéricos y de texto, si lo intentamos nos arrojará un TypeError. <a id='Min-eje_sort-TypeError'></a>\n",
    "\n",
    "~~~python\n",
    "# Mini_Ejemplo: sort TypeError\n",
    "\n",
    "lista_e=[\"1\",2,\"5\",3,4]\n",
    "\n",
    "lista_e.sort()\n",
    "\n",
    "print(\"Ahora Lista es:\", lista_e)\n",
    "\n",
    "\"TypeError: '<' not supported between instances of 'int' and 'str'\"\n",
    "~~~"
   ]
  },
  {
   "cell_type": "markdown",
   "metadata": {},
   "source": [
    "- **sorted:**<a id='Min-eje_sorted'></a>\n",
    "Esta función realiza una copia de la lista indicada con sus elementos ordenados en una nueva variable, sin modificar la lista original.\n",
    "\n",
    "Como muestra el siguiente Mini_Ejemplo, si esto lo intamos hacer con el método `.sort`, modificará la lista original, y no guardará la lista ordenada en la nueva variable.\n",
    "\n",
    "~~~python\n",
    "# Mini_Ejemplo: sorted\n",
    "\n",
    "original_1=[1000, 23, 12, 987, 9.76, 51, 0.98]\n",
    "original_2=[\"g\",\"z\",\"m\",\"2\",\"a\",\"0\",\",\",]\n",
    "\n",
    "copia_1=original_1.sort()\n",
    "copia_2=sorted(original_2)\n",
    "\n",
    "print(\"Ahora original_1 es:\", original_1)\n",
    "print(\"copia_1 es:\",copia_1,\"\\n\")\n",
    "\n",
    "print(\"original_2 es:\", original_2)\n",
    "print(\"copia_2 es:\",copia_2)\n",
    "~~~"
   ]
  },
  {
   "cell_type": "code",
   "execution_count": null,
   "metadata": {},
   "outputs": [],
   "source": [
    "# Pase aquí el mini ejemplo anterior"
   ]
  },
  {
   "cell_type": "markdown",
   "metadata": {},
   "source": [
    "### 5.1.1.4. Otros Métodos <a id='#5.1.1.4_Otros-Métodos'></a>"
   ]
  },
  {
   "cell_type": "markdown",
   "metadata": {},
   "source": [
    "- **copy:**<a id='Min-eje_copy'></a>\n",
    "Este método realiza una copia de la lista indicada en una nueva variable.\n",
    "\n",
    "Esto es muy importante, porque con las listas podemos incurrir en el error de duplicar una variable, es decir, etiquetar dos veces un mismo objeto, como se explicó en las sección de los [operadores de identidad](../3_Estructuras-Logicas/3_Estructuras-Logicas.ipynb/#Min-eje_Operadores-de-Identidad).\n",
    "\n",
    "Como veremos en el siguiente ejemplo, al modificar copia_real no se modifica el original, pero si al modificar la copia_falsa el original sufrirá los mismos cambios.\n",
    "\n",
    "~~~python\n",
    "# Mini_Ejemplo: copy\n",
    "\n",
    "original=[\"1\",2,3.4,\"cinco\"]\n",
    "copia_real=original.copy()\n",
    "copia_falsa=original\n",
    "\n",
    "print(\"Este es la lista original\",original)\n",
    "print(\"Esta es la lista copia\",copia_real)\n",
    "print(\"Esta es la lista copia\",copia_falsa,\"\\n\")\n",
    "\n",
    "copia_real.append(\"cambio_1\")\n",
    "print(\"Ahora copia_real es:\",copia_real)\n",
    "print(\"Y la lista original es:\",original,\"\\n\")\n",
    "\n",
    "copia_falsa.append(\"camibo_2\")\n",
    "print(\"Ahora copia_real es:\",copia_falsa)\n",
    "print(\"Y la lista original es:\",original,\"\\n\")\n",
    "~~~"
   ]
  },
  {
   "cell_type": "code",
   "execution_count": 23,
   "metadata": {},
   "outputs": [],
   "source": [
    "# Pase aquí el mini ejemplo anterior"
   ]
  },
  {
   "cell_type": "markdown",
   "metadata": {},
   "source": [
    "## 5.1.2. Operaciones <a id='5.1.2_Operaciones'></a>\n",
    "\n",
    "A continuación veremos como retornar el máximo, el mínimo, y la sumatoria de una lista compuesta por datos numéricos, estas operaciones funcionan igual en las [tuplas](#5.2_Tuplas \"Ir al apartado 5.2 Tuplas\") que veremos más adelante."
   ]
  },
  {
   "cell_type": "markdown",
   "metadata": {},
   "source": [
    "### 5.1.2.1. Máximo y Mínimo <a id='5.1.2.1_Máximo-y-Mínimo'></a>\n",
    "Podemos averiguar cual es el valor máximo y mínimo, con las palabras reservadas `max` y `min`. <a id='Min-eje_Maximo-y-Minimo'></a>\n",
    "\n",
    "~~~python\n",
    "# Mini_Ejemplo: Máximo y Mínimo\n",
    "\n",
    "edades=[23,73,74,18,17,59]\n",
    "\n",
    "edad_maxima=max(edades)\n",
    "edad_minima=min(edades)\n",
    "\n",
    "print(\"La edad máxima es:\",edad_maxima)\n",
    "print(\"La edad mínima es:\",edad_minima)\n",
    "~~~"
   ]
  },
  {
   "cell_type": "code",
   "execution_count": null,
   "metadata": {},
   "outputs": [],
   "source": [
    "# Pase aquí el mini ejemplo anterior"
   ]
  },
  {
   "cell_type": "markdown",
   "metadata": {},
   "source": [
    "### 5.1.2.2. Sumatorias <a id='5.1.2.2_Sumatorias'></a>\n",
    "Con la palabra reservada `sum` podemos hacer la sumatoria de los elementos de una lista.<a id='Min-eje_Sumatoria'></a>\n",
    "\n",
    "~~~python\n",
    "# Mini_Ejemplo: Sumatoria\n",
    "\n",
    "ingresos=[12.4,30.9,10.5,100,8.5]\n",
    "\n",
    "ingresos_totales=sum(ingresos)\n",
    "\n",
    "print(\"Los ingresos totales son:\",ingresos_totales)\n",
    "~~~"
   ]
  },
  {
   "cell_type": "code",
   "execution_count": null,
   "metadata": {},
   "outputs": [],
   "source": [
    "# Pase aquí el mini ejemplo anterior"
   ]
  },
  {
   "cell_type": "markdown",
   "metadata": {},
   "source": [
    "## 5.1.3. Listas Anidadas <a id='5.1.3_Listas-Anidadas'></a>\n",
    "\n",
    "Las lista anidadas, son listas dentro de listas, esta estructura es especialmente útil porque con ella podemos emular la estructrura de una matríz, pirámide, un árbol ... Lo cual nos ayuda mucho en el momento de organizar los datos.\n",
    "\n",
    "### 5.1.3.1. Matrices <a id='5.1.3.1_Matrices'></a>\n",
    "\n",
    "Una \"matríz\" es una lista anidada, donde las filas son la cantidad de sublistas y las columnas son la cantidad de elementos de las sublistas, es importante que todas las sublistas tengan la misma cantidad de elementos, este es el tipo de lista anidada que más utilizaremos.\n",
    "\n",
    "###### **Nota:** Si necesitamos tener una matriz aritmética, para sumarla, restarla, sacar su determinante, su matriz inversa o su transpuesta, lo mejor es crear con el módulo matématico como `[numpy](#)` un array y operarlo.\n",
    "\n",
    "#### **Coordenadas (x,y) =**\n",
    "\\begin{bmatrix}\n",
    " 0 & 0 \\\\ \n",
    " 1 & 2 \\\\\n",
    " 2 & 4 \\\\\n",
    " 3 & 6\n",
    "\\end{bmatrix}\n",
    "\n",
    "- Por ejemplo, la matriz anterior se puede representar en una lista anidada asi:\n",
    "~~~python\n",
    "coordenadas_x_y=[[0,0],[1,2],[2,4],[3,6]]\n",
    "~~~\n",
    "o así\n",
    "~~~python\n",
    "coordenadas_x_y=[[0,0],\n",
    "                 [1,2],\n",
    "                 [2,4],\n",
    "                 [3,6]]\n",
    "~~~\n",
    "\n",
    "- **Recorrer una Matriz:** <a id='Min-eje_Recorrer-una-Matriz'></a>\n",
    "Para esto hace falta usar dos for anidados, el primero recorre la lista principal con las sublistas, y el segundo recorre los elementos de cada sublistas.\n",
    "\n",
    "~~~python\n",
    "# Mini_Ejemplo: Recorrer-una-Matriz\n",
    "\n",
    "coordenadas_x_y=[[0,0],[1,2],[2,4],[3,6]]\n",
    "\n",
    "for i in coordenadas_x_y:\n",
    "    print(\"Aquí entramos al elemento\",i,\"y esta sublista tiene los elementos:\")\n",
    "    for j in i:\n",
    "        print(j,\"\\n\")\n",
    "~~~"
   ]
  },
  {
   "cell_type": "code",
   "execution_count": null,
   "metadata": {},
   "outputs": [],
   "source": [
    "# Pase aquí el mini ejemplo anterior"
   ]
  },
  {
   "cell_type": "markdown",
   "metadata": {},
   "source": [
    "- **Llenar una Matriz:** <a id='Min-eje_Llenar-una-Matriz'></a>\n",
    "\n",
    "El siguiente ejemplo muestra como crear una matriz que guarde los valores de eseta función, y=x^2, para x=0 hata x=10.\n",
    "\n",
    "~~~python\n",
    "# Mini_Ejemplo: Llenar-una-Matriz\n",
    "\n",
    "coordenadas_x_y=[]\n",
    "\n",
    "for i in range(11):\n",
    "    coordenadas_x_y.append([i,i**2])\n",
    "    \n",
    "print(coordenadas_x_y)\n",
    "~~~"
   ]
  },
  {
   "cell_type": "code",
   "execution_count": null,
   "metadata": {},
   "outputs": [],
   "source": [
    "# Pase aquí el mini ejemplo anterior"
   ]
  },
  {
   "cell_type": "markdown",
   "metadata": {},
   "source": [
    "- **Ordenar una Matriz:** <a id='Min-eje_Ordenar-una-Matriz'></a>\n",
    "\n",
    "Si utilizamos el método [.sort()](#Min-eje_sort \"Ir al ejemplo del metodo sort\") que vimos en el apartado anterior, este organizará los elementos de la lista principal por la primera \"columna\",es decir, por el indice[0] de las sublistas.\n",
    "\n",
    "Para organizarla por una columna diferente a la primera debemos hacer uso del parámetro key y la función `[lambda](#)`\n",
    "\n",
    "~~~python\n",
    "# Mini_Ejemplo: Ordenar-una-Matriz\n",
    "\n",
    "matriz=[[4,7,6],\n",
    "        [1,2,8],\n",
    "        [5,3,9]]\n",
    "\n",
    "print(\"Esta es la matriz original\\n\",matriz,\"\\n\")\n",
    "\n",
    "matriz.sort()\n",
    "print(\"Este es orden que da por defecto el método .sort(), es decir por la primera columna\\n\",matriz,\"\\n\")\n",
    "\n",
    "matriz.sort(key=lambda columna: columna[1])\n",
    "print(\"Esta es la matriz ordenada por la segunda columna:\\n\",matriz,\"\\n\")\n",
    "\n",
    "matriz.sort(key=lambda columna: columna[2])\n",
    "print(\"Esta es la matriz ordenada por la tercera columna:\\n\",matriz,\"\\n\")\n",
    "\n",
    "\n",
    "~~~"
   ]
  },
  {
   "cell_type": "code",
   "execution_count": null,
   "metadata": {},
   "outputs": [],
   "source": [
    "# Pase aquí el mini ejemplo anterior"
   ]
  },
  {
   "cell_type": "markdown",
   "metadata": {},
   "source": [
    "### 5.1.3.2 Lista de Orden n <a id='5.1.3.2_Listas-de-Orden-n'></a>\n",
    "\n",
    "En esta guía vamos etiquetar las listas segun el nivel en el que se encuentren, por lo tanto vamos a tener listas de primer, segundo, tercer, cuarto, quinto orden ...\n",
    "\n",
    "- Lista de primer orden: Es la lista principal y **no está** contenidad en ninguna otra lista. `[1,2,3,4,5]`\n",
    "- Lista de segundo orden: Es una lista que está en un lista. `[[1,2,3],[\"a\",\"b\",\"c\"],[\"uno\",\"dos\",\"tres\"]]`\n",
    "- Lista de tercer orden: Es una lista que está en una lista de segundo orden, es decir, una lista que está en una lista que está en una lista. \n",
    "~~~\n",
    "[\n",
    "[[1,2,3,4],[\"uno\",\"dos\",\"tres\",\"cuatro\"]], \n",
    "[[a,b,c],[\"araña\",\"buho\",\"cabra\"]],\n",
    "[[0,1,10,11],[0,1,2,3]]\n",
    "]\n",
    "~~~\n",
    "- Es la misma idea para las listas de n orden.\n",
    "\n",
    "### 5.1.3.3 Índices en Listas Anidadas <a id='5.1.3.3_Indices-en-Listas-Anidadas'></a>\n",
    "\n",
    "El manejo de los índices en estas listas es multiple, por ejemplo si tenemos una lista de segundo orden necesitaremos dos, uno para cada lista, [a][b], siendo [a] el índice de los elementos de la lista principal y [b] el índice de los elementos de las sublistas.\n",
    "\n",
    "De forma análoga, para una lista de tercer orden se necesitan tres índices [a][b][c], de igual manera con las de n orden. <a id='Min-eje_Indices-en-Listas-Anidadas'></a>\n",
    "\n",
    "~~~python\n",
    "# Mini_Ejemplo: Índices en Listas Anidadas.\n",
    "\n",
    "coordenadas_x_y=[[0,0],\n",
    "                 [1,2],\n",
    "                 [2,4],\n",
    "                 [3,6]]\n",
    "\n",
    "print(\"coordenadas_x_y=\",coordenadas_x_y,\"\\n\")\n",
    "print(\"El elemento\",coordenadas_x_y[2][1],\"tiene índice [2][1]\")\n",
    "~~~"
   ]
  },
  {
   "cell_type": "code",
   "execution_count": null,
   "metadata": {},
   "outputs": [],
   "source": [
    "# Pase aquí el mini ejemplo anterior"
   ]
  },
  {
   "cell_type": "markdown",
   "metadata": {},
   "source": [
    "### 5.1.3.4 Árboles <a id='5.1.3.4_Arboles'></a>\n",
    "\n",
    "Con las listas de orden n se pueden crear esctructuras como árboles o pirámides, el siguiente Mini_Ejemplo muestra una estructura, con listas de cuarto orden, con la cual se emula una estructura de árbol, con la información de tres personas, como muestra el siguiente diagrama.\n",
    "![Fig1_Arbol](Fig1_Arbol.png \"Figura 1: Estructura de 'Árbol'\")\n",
    "\n",
    "El siguiente Mini_Ejemplo muestra como recuperar por medio de los índices los elementos, y hacer una comparación entre ellos.\n",
    "\n",
    "~~~python\n",
    "# Mini_Ejemplo: Índices en Listas de CuartoOrden\n",
    "\n",
    "personas=[\n",
    "    [\"Mauricio\",28,[\"azul\",73,\"tigres\",[[\"Alemania\",[\"Berlín\",\"Hamburgo\",\"Múnich\"]],[\"Escocia\",[\"Edimburgo\",\"Glasgow\",\"Inverness\"]]]]],\n",
    "    \n",
    "    [\"Juliana\",45,[\"azul\",8,\"delfines\",[[\"Rumania\",[\"Bucarest\",\"Timișoara\",\"Cluj-Napoca\"]],[\"Turquía\",[\"Estambul\",\"Éfeso\",\"Antalya\"]]]]],\n",
    "    \n",
    "    [\"Roberto\",18,[\"negro\",0,\"pandas rojos\",[[\"Indonesia\",[\"Yogyakarta\",\"Macasar\",\"Surabaya\"]],[\"Japón\",[\"Sapporo\",\"Nagoya\",\"Yokohama\"]]]]]\n",
    "]\n",
    "   \n",
    "elemento_recuperado=personas[1][2][3][1][1][1]\n",
    "print(\"El índice de\",elemento_recuperado,\"es [1][2][3][1][1][1]\\n\")\n",
    "\n",
    "if personas[0][2][0]==personas[1][2][0]:\n",
    "    print(\"El color favorito de\",personas[0][0],\"y\",personas[1][0],\"es el mismo.\\n\")\n",
    "\n",
    "for i in personas:\n",
    "    nombre=i[0]\n",
    "    edad=i[1]\n",
    "    color=i[2][0]\n",
    "    numero=i[2][1]\n",
    "    animales=i[2][2]\n",
    "    pais_1=i[2][3][0][0]\n",
    "    ciudad_1_pais_1=i[2][3][0][1][0]\n",
    "    ciudad_2_pais_1=i[2][3][0][1][1]\n",
    "    ciudad_3_pais_1=i[2][3][0][1][2]\n",
    "    pais_2=i[2][3][1][0]\n",
    "    ciudad_1_pais_2=i[2][3][1][1][0]\n",
    "    ciudad_2_pais_2=i[2][3][1][1][1]\n",
    "    ciudad_3_pais_2=i[2][3][1][1][2]\n",
    "    \n",
    "    print(nombre,\"tiene\",edad,\"años y le gusta el \"+str(color)+\", su número favorito es\",numero,\"y sus animales favoritos son los\", animales)\n",
    "    \n",
    "    print(\"Quiere viajar a\",pais_1,\"y conocer\",str(ciudad_1_pais_1)+\", \"+str(ciudad_2_pais_1)+\" y \"+str(ciudad_3_pais_1)+\".\")\n",
    "    \n",
    "    print(\"También quiere ir a\",pais_2,\"y conocer\",str(ciudad_1_pais_2)+\", \"+str(ciudad_2_pais_2)+\" y \"+str(ciudad_3_pais_2)+\".\\n\")\n",
    "~~~"
   ]
  },
  {
   "cell_type": "code",
   "execution_count": null,
   "metadata": {},
   "outputs": [],
   "source": [
    "# Pase aquí el mini ejemplo anterior"
   ]
  },
  {
   "cell_type": "markdown",
   "metadata": {},
   "source": [
    "___"
   ]
  },
  {
   "cell_type": "markdown",
   "metadata": {},
   "source": [
    "| [***Anterior***](../5_Estructura_de_Datos/5_Estructura_de_Datos.ipynb#5_Estructura-de-Datos-Basicas) <!--(https://mybinder.org/Introducción)--> | - | [***Siguiente***](../7_Lectura_y_Escritura/7_Lectura_y_Escritura.ipynb#7_Lectura_y_Escritura) <!--(https://www.python.org/Programas-en-Python)--> |\n",
    "| :--------: | :-------: | :--------: |"
   ]
  },
  {
   "cell_type": "markdown",
   "metadata": {},
   "source": [
    "| [**Home**](../Home.ipynb#Home)<!--(https://mybinder.org/Home)--> |\n",
    "| :--------: |"
   ]
  }
 ],
 "metadata": {
  "kernelspec": {
   "display_name": "Python 3",
   "language": "python",
   "name": "python3"
  },
  "language_info": {
   "codemirror_mode": {
    "name": "ipython",
    "version": 3
   },
   "file_extension": ".py",
   "mimetype": "text/x-python",
   "name": "python",
   "nbconvert_exporter": "python",
   "pygments_lexer": "ipython3",
   "version": "3.7.4"
  }
 },
 "nbformat": 4,
 "nbformat_minor": 4
}
