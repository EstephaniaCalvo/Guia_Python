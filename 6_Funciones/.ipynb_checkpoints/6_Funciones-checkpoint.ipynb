{
 "cells": [
  {
   "cell_type": "markdown",
   "metadata": {},
   "source": [
    "# 6. Funciones <a id='6_Funciones'></a>"
   ]
  },
  {
   "cell_type": "markdown",
   "metadata": {},
   "source": [
    "---\n",
    "### [6.1. Declaración](#6.1_Declaracion)   \n",
    ">[6.1.1. Tipos de Declarción](#6.1.1_Tipos_de_Declaracion)      \n",
    "[6.1.2. Funcion Lambda](#6.1.2_Funcion_Lambda)      \n",
    "[6.1.3. Documentación](#6.1.3_Documentacion)   \n",
    "\n",
    "     \n",
    "### [6.2. Argumentos](#6.2_Argumentos)        \n",
    ">[6.2.1. Argumentos Obligatorios](#6.2.1_Argumentos_Obligatorios)  \n",
    "[6.2.2. Argumentos Opcionales](#6.2.2_Argumentos_Opcionales)  \n",
    "\n",
    "### [6.3. Funciones Recursivas](#6.3_Funciones_Recursivas)     \n",
    "\n",
    "### [6.4. Validaciones](#6.4_Validaciones)  \n",
    "> [6.4.1. Execpciones](#6.4.1_Excepciones)   \n",
    "[6.4.2. Validación de Entradas](#6.4.2_Validacion_de_entradas)       "
   ]
  },
  {
   "cell_type": "markdown",
   "metadata": {},
   "source": [
    "---"
   ]
  },
  {
   "cell_type": "markdown",
   "metadata": {},
   "source": [
    "## **6.1. Declaración** <a id='6.1_Declaracion'></a>  \n",
    "Para declarar una función en Python se ha uso de la palabra de reservada `def` seguida del nombre y los argumentos entre paréntesis, al igual que con otras estructuras los dos puntos indican que las instrucciones siguientes que estén indentadas hacen parte de la función, por último, se emplea la palabra `return` para indicar la salida de esta.\n",
    "\n",
    "~~~python\n",
    "def nombre_funcion(argumento_1, ..., argumento_n):\n",
    "    indicación_1\n",
    "    indicación_2\n",
    "    ...\n",
    "    indicación_n\n",
    "    \n",
    "    return salida\n",
    "~~~"
   ]
  },
  {
   "cell_type": "markdown",
   "metadata": {},
   "source": [
    "## 6.1.1. Tipos de Declaración <a id='6.1.1_Tipos_de_Declaracion'></a>   \n",
    "Las funciones pueden ser clasificadas según la existencia de sus entradas y salidas, debido a que tanto los argumentos como la el retorno son opcionales. A continuación, se mostrarán los cuatro tipos de declaraciones.\n",
    "\n",
    "- **Función completa:** Es la que comparte un mayor parecido al concepto matemático de función, debido a que tiene unas entradas (argumentos), las transforma (con las indicaciones) y devuelve un resultado (salida), normalmente este resultado luego será usado en el código por lo cual se guarda en una variable. Este tipo de declaración se usa por ejemplo en las funciones de lectura y almacenamiento de datos y en las funciones de los módulos.\n",
    "\n",
    "~~~python\n",
    "# Declaración\n",
    "\n",
    "def tri_cua_per(x,y):\n",
    "    \"Devuelve el trinomio cuadrado perfecto, de los números indicados\"\n",
    "    resultado=(x**2)+(2*x*y)+(y**2)\n",
    "    \n",
    "    return resultado\n",
    "   \n",
    "# Uso\n",
    "num_1=int(input(\"Por favor ingrese un número: \"))\n",
    "num_2=int(input(\"Por favor ingrese otro número: \"))\n",
    "\n",
    "trinomio=tri_cua_per(num_1,num_2)\n",
    "\n",
    "print(\"El trinomio cuadrado perfecto de\",num_1,\"y\",num_2,\"es: \",trinomio)\n",
    "\n",
    "~~~"
   ]
  },
  {
   "cell_type": "code",
   "execution_count": null,
   "metadata": {},
   "outputs": [],
   "source": [
    "# Pase el código anterior aquí."
   ]
  },
  {
   "cell_type": "markdown",
   "metadata": {},
   "source": [
    "- **Función sin salidas:** Esta función toma los argumentos de entrada y realiza una transformación de estas pero no devuelve ningún objeto, normalmente es empleada para mostrar objetos o guardar archivos.\n",
    "\n",
    "~~~python\n",
    "# Declaración\n",
    "\n",
    "def tri_cua_per(x,y):\n",
    "    \"Devuelve un mensaje con el trinomio cuadrado perfecto, de los números indicados\"\n",
    "    \n",
    "    resultado=(x**2)+(2*x*y)+(y**2)\n",
    "    print(\"El trinomio cuadrado perfecto de\",x,\"y\",y,\"es: \",resultado)\n",
    "    \n",
    "    return None # Si esta línea no está escrita el intérprete de Python hará de cuenta que si lo está.\n",
    "   \n",
    "# Uso\n",
    "num_1=int(input(\"Por favor ingrese un número: \"))\n",
    "num_2=int(input(\"Por favor ingrese otro número: \"))\n",
    "\n",
    "tri_cua_per(num_1,num_2)\n",
    "~~~"
   ]
  },
  {
   "cell_type": "code",
   "execution_count": null,
   "metadata": {},
   "outputs": [],
   "source": [
    "# Pase el código anterior aquí."
   ]
  },
  {
   "cell_type": "markdown",
   "metadata": {},
   "source": [
    "- **Función sin entradas:** Este tipo de función en lugar tomar sus entrada con los argumentos utiliza variables globales (variables que ya existen en código donde se va a usar la función), o puede pedir directamente las entradas al usuario con `input`, al igual que una función completa su salida puede ser guardada en una variable aparte para ser utilizada posteriormente. Algunas funciones de validación usan esta forma de declaración.\n",
    "\n",
    "**La función usando variables globales sería así:**\n",
    "    \n",
    "~~~python\n",
    "# Declaración\n",
    "\n",
    "def tri_cua_per():\n",
    "    \"Devuelve el trinomio cuadrado perfecto de las variables num_1 y num_2\"\n",
    "    \n",
    "    resultado=(num_1+num_2)**2\n",
    "    \n",
    "    return resultado\n",
    "   \n",
    "# Uso\n",
    "\n",
    "num_1=int(input(\"Por favor ingrese un número: \"))\n",
    "num_2=int(input(\"Por favor ingrese otro número: \"))\n",
    "trinomio=tri_cua_per()\n",
    "\n",
    "print(\"El trinomio cuadrado perfecto de\",num_1,\"y\",num_2,\"es: \",trinomio)\n",
    "~~~"
   ]
  },
  {
   "cell_type": "code",
   "execution_count": null,
   "metadata": {},
   "outputs": [],
   "source": [
    "# Pase el código anterior aquí."
   ]
  },
  {
   "cell_type": "markdown",
   "metadata": {},
   "source": [
    "**La función pidiendo directamente las entradas seria así:**\n",
    "\n",
    "~~~python\n",
    "# Declaración\n",
    "\n",
    "def tri_cua_per():\n",
    "    \"Pide dos números y los devuelve junto con su trinomio cuadrado perfecto\"\n",
    "    \n",
    "    x=int(input(\"Por favor ingrese un número: \"))\n",
    "    y=int(input(\"Por favor ingrese otro número: \"))\n",
    "    resultado=(x+y)**2\n",
    "    \n",
    "    return (x,y,resultado) # Se devuleve una tupla\n",
    "   \n",
    "# Uso\n",
    "\n",
    "num_1,num_2,trinomio=tri_cua_per() # Aquí se abre la tupla asignando una variable a cada elemento.\n",
    "print(\"El trinomio cuadrado perfecto de\",num_1,\"y\",num_2,\"es: \",trinomio)\n",
    "~~~"
   ]
  },
  {
   "cell_type": "code",
   "execution_count": null,
   "metadata": {},
   "outputs": [],
   "source": [
    "# Pase el código anterior aquí."
   ]
  },
  {
   "cell_type": "markdown",
   "metadata": {},
   "source": [
    "- En el ejemplo anterior las variables 'x' y 'y' tienen que devolverse como salida y almacenarse en las variables num_1 y num_2 porque son variables locales de la función, por lo cual, no existen en otra parte del código y son utilizadas fuera de la función al correr el código mostrará NameError. <a id='Min-eje_Varaibles_Locales'></a>\n",
    " \n",
    "~~~python\n",
    "# Mini_Ejemplo: Variables locales\n",
    "\n",
    "def tri_cua_per():\n",
    "    \"Pide dos números y los devuelve junto con su trinomio cuadrado perfecto\"\n",
    "    \n",
    "    x=int(input(\"Por favor ingrese un número: \"))\n",
    "    y=int(input(\"Por favor ingrese otro número: \"))\n",
    "    resultado=(x+y)**2\n",
    "    \n",
    "    return (resultado) # Se devuelve una tupla\n",
    "   \n",
    "# Uso\n",
    "\n",
    "trinomio=tri_cua_per()\n",
    "print(\"El trinomio cuadrado perfecto de\",x,\"y\",y,\"es: \",trinomio)\n",
    "\n",
    ">>> \"NameError: name 'x' is not defined\"\n",
    "~~~"
   ]
  },
  {
   "cell_type": "markdown",
   "metadata": {},
   "source": [
    "- **Función sin entradas ni salidas:** Esta tipo de declaración es una mezcla de las dos anteriores, ya que, sus entradas la pide directamente al usuario o usa variables globales y sus salidas solo pueden mostradas o guardadas en un archivo. La función de este tipo más conocida es la función del programa principal [main( )](../2_Elementos_Basicos/2_4_Programas_en_Python/2_4_Programas_en_Python.ipynb#2.4.2.3_Main-Program \"Ir a la descripción de una función main()\").\n",
    "\n",
    "\n",
    "~~~python\n",
    "# Declaración\n",
    "\n",
    "def tri_cua_per():\n",
    "    \"Pide dos números y devuelve un mensaje con su trinomio cuadrado perfecto\"\n",
    "    \n",
    "    x=int(input(\"Por favor ingrese un número: \"))\n",
    "    y=int(input(\"Por favor ingrese otro número: \"))\n",
    "    \n",
    "    resultado=(x+y)**2\n",
    "    print(\"El trinomio cuadrado perfecto de\",x,\"y\",y,\"es: \",resultado)\n",
    "   \n",
    "    \n",
    "    return None # Si esta línea no está escrita el intérprete de Python hará de cuenta que si lo está.\n",
    "   \n",
    "# Uso\n",
    "\n",
    "tri_cua_per()\n",
    "~~~"
   ]
  },
  {
   "cell_type": "code",
   "execution_count": null,
   "metadata": {},
   "outputs": [],
   "source": [
    "# Pase el código anterior aquí."
   ]
  },
  {
   "cell_type": "markdown",
   "metadata": {},
   "source": [
    "## 6.1.2. Función Lambda <a id='6.1.2_Funcion_Lambda'></a>    "
   ]
  },
  {
   "cell_type": "markdown",
   "metadata": {},
   "source": [
    "La función lambda permite definir pequeñas funciones de una sola línea directamente en el código que va a hacer uso de ella. \n",
    "\n",
    "Toda función lambda se puede expresar como una función convencional, pero no toda función convencional se puede expresar como una función lambda.\n",
    "\n",
    "La sintaxis para crear una función de este tipo es:\n",
    "~~~python\n",
    "Nombre= lambda <parámetros>:<indicación>\n",
    "~~~\n",
    "\n",
    "La función tri_cua_per completa vista en apartado anterior se puede escribir como función lambda.<a id='Min-eje_Funcion_Lambda'></a>\n",
    " \n",
    "~~~python\n",
    "# Mini_Ejemplo: Función Lambda\n",
    "\n",
    "# Declaración\n",
    "\n",
    "tri_cua_per = lambda x,y: (x+y)**2\n",
    "\n",
    "# Uso\n",
    "\n",
    "num_1=int(input(\"Por favor ingrese un número: \"))\n",
    "num_2=int(input(\"Por favor ingrese otro número: \"))\n",
    "\n",
    "trinomio=tri_cua_per(num_1,num_2)\n",
    "\n",
    "print(\"El trinomio cuadrado perfecto de\",num_1,\"y\",num_2,\"es: \",trinomio)\n",
    "~~~"
   ]
  },
  {
   "cell_type": "code",
   "execution_count": null,
   "metadata": {},
   "outputs": [],
   "source": [
    "# Pase aquí el mini ejemplo anterior"
   ]
  },
  {
   "cell_type": "markdown",
   "metadata": {},
   "source": [
    "## 6.1.3. Documentación <a id='6.1.3_Documentacion'></a>  \n",
    "\n",
    "Documentar una función es importante para facilitar la lectura de código y al momento de crear y utilizar funciones de [módulos propios](../9_Modulos/9_Modulos.ipynb#xxxx \"Ir al apartado de módulos propios\"). Para hacerlo se debe escribir en la primera línea de la función una descripción de lo que hace, las entradas que requiere y las salidas regresa, haciendo uso de las comillas simples, dobles o triples, dependiendo de qué tan grande sea la descripción.\n",
    "\n",
    "Como se vio en capítulos anteriores para ver la documentación de un objeto se usa la función `help`.\n",
    "\n",
    "~~~python\n",
    "\n",
    "def dif_cua (x,y):\n",
    "    \"Devuelve la diferencia de cuadrados de los números indicados\"\n",
    "    resultado=(x**2)-(y**2)\n",
    "    \n",
    "    return resultado\n",
    "\n",
    "help(dif_cua)\n",
    "~~~"
   ]
  },
  {
   "cell_type": "code",
   "execution_count": null,
   "metadata": {},
   "outputs": [],
   "source": [
    "# Pase el código anterior aquí."
   ]
  },
  {
   "cell_type": "markdown",
   "metadata": {},
   "source": [
    "## **6.2. Argumentos** <a id='6.2_Argumentos'></a> \n",
    "Una función puede tener dos tipos de argumentos: obligatorios y opcionales. A continuación, se mostrarán las características de cada uno.\n",
    "\n",
    "##  6.2.1. Argumentos Obligatorios <a id='6.2.1_Argumentos_Obligatorios'></a>\n",
    "\n",
    "Como su nombre lo dice son argumentos que deben ser ingresados obligatoriamente en la función para que esta pueda ejecutarse, de lo contrario aparecerá un error. La característica más importante es que deben ser inicializados en el mismo orden en que fueron declarados, de lo contrario, se pueden tener resultados indeseados o errores al correr el código.\n",
    "\n",
    "~~~python\n",
    "# Declaración\n",
    "\n",
    "def resta(n1,n2):\n",
    "    \"Devuelve la resta de n1-n2\"\n",
    " \n",
    "    return n1-n2\n",
    "\n",
    "print(\"Inicialización correcta\\n\")\n",
    "print(\"923 - 45 es:\",resta(923,45))\n",
    "\n",
    "print(\"\\nInicialización incorrecta\\n\")\n",
    "print(\"923 - 45 es:\",resta(45,923))\n",
    "~~~"
   ]
  },
  {
   "cell_type": "code",
   "execution_count": null,
   "metadata": {},
   "outputs": [],
   "source": [
    "# Pase el código anterior aquí."
   ]
  },
  {
   "cell_type": "markdown",
   "metadata": {},
   "source": [
    "~~~python\n",
    "# Declaración\n",
    "\n",
    "def peso(nombre,p_real,p_meta):\n",
    "    \"Devuelve un mensaje al usuario diciéndole cuanto tiene que bajar o subir para llegar a su peso meta en Kg\"\n",
    "    \n",
    "    brecha=p_real-p_meta\n",
    "    \n",
    "    if brecha<0:\n",
    "        print(nombre+\": Debe subir\",brecha,\"Kg para llegar a los\", p_meta,\"Kg\")\n",
    "    elif brecha==0:\n",
    "        print(\"Felicitaciones ha cumplido su meta de peso\")\n",
    "    else:\n",
    "        print(nombre+\": Debe bajar\",brecha,\"Kg para llegar a los\", p_meta,\"Kg\")\n",
    " \n",
    "    return None\n",
    "\n",
    "print(\"Inicialización correcta\\n\")\n",
    "peso(\"Julian\",95,80)\n",
    "~~~"
   ]
  },
  {
   "cell_type": "code",
   "execution_count": null,
   "metadata": {},
   "outputs": [],
   "source": [
    "# Pase el código anterior aquí."
   ]
  },
  {
   "cell_type": "markdown",
   "metadata": {},
   "source": [
    "<a id='Min-eje_O_I_de_Argumentos'></a>\n",
    " \n",
    "~~~python\n",
    "# Mini_Ejemplo: Orden Incorrecto de Argumentos\n",
    "\n",
    "# Declaración\n",
    "\n",
    "def peso(nombre,p_real,p_meta):\n",
    "    \"Devuelve un mensaje al usuario diciéndole cuanto tiene que bajar o subir para llegar a su peso meta en Kg\"\n",
    "    \n",
    "    brecha=p_real-p_meta\n",
    "    \n",
    "    if brecha<0:\n",
    "        print(nombre+\": Debe subir\",brecha,\"Kg para llegar a los\", p_meta,\"Kg\")\n",
    "    elif brecha==0:\n",
    "        print(\"Felicitaciones ha cumplido su meta de peso\")\n",
    "    else:\n",
    "        print(nombre+\": Debe bajar\",brecha,\"Kg para llegar a los\", p_meta,\"Kg\")\n",
    " \n",
    "    return None\n",
    "\n",
    "print(\"\\nInicialización incorrecta\\n\")\n",
    "peso(45,\"Alicia\",50)\n",
    "\n",
    ">>> \"TypeError: unsupported operand type(s) for -: 'str' and 'int'\"\n",
    "~~~"
   ]
  },
  {
   "cell_type": "markdown",
   "metadata": {},
   "source": [
    "##  6.2.2. Argumentos Opcionales <a id='6.2.2_Argumentos_Opcionales'></a>\n",
    "\n",
    "Son argumentos que pueden ser inicializados o no al usar la función, porque se les asignó un valor predeterminado al momento de declarar la función y si no son indicados la función operará con estos valores. \n",
    "\n",
    "Si la función tiene los dos tipos de argumentos, los obligatorios siempre deben ir primero que los opcionales, además estos últimos, aunque tienen la característica de que se pueden inicializar según su posición también se puede hacer por asignación directa con su nombre lo que permite una inicialización diferente al orden preestablecido.\n",
    "\n",
    "En el siguiente Mini_Ejemplo los argumento menor, n y menor son opcionales. <a id='Min-eje_Argumentos_Opcionales_1'></a>\n",
    " \n",
    "~~~python\n",
    "# Mini_Ejemplo: Argumentos Opcionales 1\n",
    "\n",
    "import random\n",
    "\n",
    "def l_aleatorios(mayor,menor=1,n=10,nd=2):\n",
    "    \"\"\"\n",
    "    Devuelve una lista de n números aleatorios entre el rango indicado, \n",
    "    se debe ingresar obligatoriamente número mayor del rango, por defecto el número menor es 1,\n",
    "    la cantidad de números es 10 y el número de decimales es 2.\n",
    "    \"\"\"\n",
    "    \n",
    "    d=10**nd\n",
    "    aleatorios=[]\n",
    "    for i in range(n):\n",
    "        aleatorios.append(random.randint(menor*d,mayor*d)/d)\n",
    " \n",
    "    return aleatorios\n",
    "\n",
    "lista_aleatoria=l_aleatorios(100)\n",
    "print(\"La lista de números aleatorios es: \",lista_aleatoria)\n",
    "~~~"
   ]
  },
  {
   "cell_type": "code",
   "execution_count": null,
   "metadata": {},
   "outputs": [],
   "source": [
    "# Pase aquí el mini ejemplo anterior"
   ]
  },
  {
   "cell_type": "markdown",
   "metadata": {},
   "source": [
    "<a id='Min-eje_Argumentos_Opcionales_2'></a>\n",
    " \n",
    "~~~python\n",
    "# Mini_Ejemplo: Argumentos Opcionales 2\n",
    "\n",
    "import random\n",
    "\n",
    "def l_aleatorios(mayor,menor=1,n=10,nd=2):\n",
    "    \"\"\"\n",
    "    Devuelve una lista de n números aleatorios entre el rango indicado, \n",
    "    se debe ingresar obligatoriamente número mayor del rango, por defecto el número menor es 1,\n",
    "    la cantidad de números es 10 y el número de decimales es 2.\n",
    "    \"\"\"\n",
    "\n",
    "    d=10**nd\n",
    "    aleatorios=[]\n",
    "    for i in range(n):\n",
    "        aleatorios.append(random.randint(menor*d,mayor*d)/d)\n",
    "\n",
    "    return aleatorios\n",
    "\n",
    "lista_aleatoria=l_aleatorios(4000,900,nd=4,n=15)\n",
    "print(\"La lista de números aleatorios es: \",lista_aleatoria)\n",
    "~~~"
   ]
  },
  {
   "cell_type": "code",
   "execution_count": null,
   "metadata": {},
   "outputs": [],
   "source": [
    "# Pase aquí el mini ejemplo anterior"
   ]
  },
  {
   "cell_type": "markdown",
   "metadata": {},
   "source": [
    "## **6.3. Funciones Recursivas** <a id='6.3_Funciones_Recursivas'></a>  \n",
    "\n",
    "Las funciones recursivas son las que se utilizan a si mismas, funcionando como un estructura de repetición, sin embargo, se debe poner especial atención en el diseño para que deje de ejecutarse cuando sea necesario, de lo contrario, el programa podría entrar en [bucle infinito](../4_Bucles_e_Iterables/4_Bucles_e_Iterables.ipynb#4.2.2.3_Bucles-Infinitos \"Ir al apartado 4.2.2.3. Bucles Infinitos\") como sucede con el ciclo while.\n",
    "\n",
    "A continuación se muestra una función recursiva para calcular el n_avo Fibonacci solicitado por el usuario, como se vio en el [Mini_Ejemplo](../4_Bucles_e_Iterables/4_Bucles_e_Iterables.ipynb#Min-eje_Acumulador \"Ir al Mini_Ejemplo del capítulo 4\") de la Sucesión de Fibonacci del capítulo 4. <a id='Min-eje_Funcion_Recursiva'></a>\n",
    " \n",
    "~~~python\n",
    "# Mini_Ejemplo: Función Recursiva\n",
    "\n",
    "# Declaración\n",
    "\n",
    "def s_fibonacci (sucesion=[],n=100):\n",
    "    if len(sucesion)==0:\n",
    "        sucesion.extend([[0,0],[1,1]])\n",
    "        print(\"El fibonacci No.0 es 0\\n\\nEl fibonacci No.1 es 1\\n\")\n",
    "  \n",
    "    if (len(sucesion)<=n):\n",
    "        fibonacci=sucesion[-2][1]+sucesion[-1][1]\n",
    "        sucesion.append([sucesion[-1][0]+1,fibonacci])\n",
    "        print(\"El fibonacci No.\"+str(sucesion[-1][0])+\" es\", fibonacci,\"\\n\")\n",
    "        s_fibonacci(sucesion,n)\n",
    "\n",
    "#Usar\n",
    "n_avo=input(\"Por favor ingrese el n-avo Fibonacci hasta donde quiere calcular la sucesión, debe ser mayor a 0\\n\")\n",
    "\n",
    "if n_avo.isnumeric() and n_avo!=\"0\":\n",
    "    s_fibonacci(n=int(n_avo))\n",
    "else:\n",
    "    print(\"No ha ingresado un número válido, por defecto se mostrará hasta el Fibonacci No. 100\\n\")\n",
    "    s_fibonacci()\n",
    "~~~"
   ]
  },
  {
   "cell_type": "code",
   "execution_count": null,
   "metadata": {},
   "outputs": [],
   "source": [
    "# Pase aquí el mini ejemplo anterior"
   ]
  },
  {
   "cell_type": "markdown",
   "metadata": {},
   "source": [
    "## **6.4. Validaciones** <a id='6.4_Validaciones'></a> \n",
    "Las validaciones son funciones que ayudan a que el programa detecte errores potenciales en el momento en el que usuario ingrese los datos, asegurándose que el ingreso sea correcto para el desarrollo normal del programa.\n",
    "\n",
    "Antes de ver como es la estructura general de una función de validación se deben conocer las excepciones, las cuales se explicarán a continuación.\n",
    "\n",
    "## 6.4.1. Excepciones <a id='6.4.1_Excepciones'></a> \n",
    "\n",
    "Las excepciones son una herramienta de Python para detectar algunos errores, por ejemplo, cuando un bloque de código detecta un error lanza una excepción asociada a este y espera a que otro bloque la capture y la maneje, si este último no existe el programa deja de ejecutarse y muestra un mensaje de error con la excepción lanzada.\n",
    "\n",
    "Hay excepciones que tienen que ver con la forma de escribir código, como **SintaxisError** o **IndentationError**, sin embargo, estas tienen que ver más con el lenguaje de programación y errores del desarrollador, por lo cual no se van a tratar demasiado a fondo en esta guía.\n",
    "\n",
    "A continuación, hay una lista de las excepciones más comunes con las que se puede encontrar desarrollando esta guía, una breve descripción de cuando son lanzadas y algunos ejemplos.\n",
    "\n",
    "- **AssertionError:** Es lanzado cuando se utiliza assert y la expresión lógica que evalúa arroja False, el uso de assert se verá más adelante en el apartado de [pruebas unitarias](#6.5_Pruebas_Unitarias \"Ir al apartado de pruebas unitarias\").\n",
    "\n",
    "~~~python\n",
    "assert 1==\"Gatos\" | assert \"4.5\".isnumeric() | assert 10 in (9,8,3,2)\n",
    "\n",
    "~~~\n",
    "\n",
    "- **AttributeError:** Se presenta cuando se usa un método que no le pertenece a un objeto.\n",
    "\n",
    "~~~python\n",
    "(4,7,8.1,\"Perros\").append(\"Laura\") | [\"Luis\",\"Lorena\",\"Lola\",\"Lucas\"].isalpha() | {\"Color\":\"Negro\",\"Opacidad\":0.3}.sort()\n",
    "~~~\n",
    "\n",
    "- **IndexError:** Como se vio en [capítulo 4](../4_Bucles_e_Iterables/4_Bucles_e_Iterables.ipynb#Min-eje_Error-de-Indexacion), este error se da porque se utiliza un índice que no existe en un iterable, es decir un índice mayor o igual a tamaño de este.\n",
    "\n",
    "~~~python\n",
    "tupla= (4,7,8.1,\"Perros\")\n",
    "\n",
    "tupla[len(tupla)] | tupla[11] | tupla[-6] |\n",
    "~~~\n",
    "\n",
    "- **ImportError:** Ocurre cuando se importa un módulo que no existe o que no se ha instalado.\n",
    "\n",
    "~~~python\n",
    "import NUMPY | import stadistics | import plt |\n",
    "~~~\n",
    "\n",
    "- **KeyError:** Se muestra cuando se intenta acceder a un elemento de un diccionario con una calve que no existe.\n",
    "\n",
    "~~~python\n",
    "diccionario={\"Color\":\"Negro\",\"Opacidad\":0.3}\n",
    "\n",
    "diccionario[\"opacidad\"] | diccionario[\"cantidad\"] | diccionario[\"relleno\"] \n",
    "~~~\n",
    "\n",
    "- **NameError:** Aparece cuando se utiliza un objeto que no existe o variable local fuera de su bloque como se vio en el [Mini_Ejemplo Variables Locales](#Min-eje_Varaibles_Locales \"Ir al Mini_Ejemplo\") del apartado 6.1.1.\n",
    "\n",
    "~~~python\n",
    "c=100+a | len(l) | f_fantasma(98) | diccionario={\"Color\":Negro,\"Opacidad\":0.3}\n",
    "~~~\n",
    "- **TypeError:** Es mostrado cuando el tipo de objeto empelado en una función o en una operación no es compatible con esta, como se mostró en el [Mini_Ejemplo](#Min-eje_O_I_de_Argumentos \"Ir al Mini_Ejemplo\") del apartado anterior 6.2.1.\n",
    "\n",
    "~~~python\n",
    "len(9) | \"Animales\"/2 | [2,3]-[4,3] | range(4.5) | float(3,4) | sorted([1,3,9,\"cadena\",\"c\"])\n",
    "~~~\n",
    "- **VlaueError:** Es mostrado cuando el valor del objeto usado en una función o en una operación no es válido a pesar de que su tipo si lo sea. \n",
    "\n",
    "~~~python\n",
    "int(\"2.9\") | float(\"3,4\") | float(\"cadena\") | \n",
    "~~~\n",
    "- **ZeroDivisionError:** Se genera cuando se divide un número entre 0.\n",
    "\n",
    "~~~python\n",
    "67/0 | 0.000438/0 |\n",
    "~~~\n",
    "\n",
    "\n",
    "## 6.4.2. Validación de Entradas <a id='6.4.2_Validacion_de_entradas'></a> \n",
    "\n",
    "La estructura básica de una función de validación de entradas es:\n",
    "\n",
    "~~~python\n",
    "def validacion ():\n",
    "    # Intentar ejecutar el bloque que puede generar un error\n",
    "    try:\n",
    "        Instrucciones que pueden generar un error\n",
    "        ...\n",
    "        return salidas\n",
    "    \n",
    "    # Verificar si ha lanzado una excepción\n",
    "    except (excepción_1, excepción_2):\n",
    "        Instrucciones si se lanzó una excepción\n",
    "        ...\n",
    "        validacion()\n",
    "~~~\n",
    "\n",
    "Si no se tiene claro que excepción puede arrojar el bloque, entonces se utiliza la palabra reservada `exception` para cubrir todas las excepciones estándar de Python.\n",
    "\n",
    "A continuación, se muestran algunos ejemplos de validación de entradas.\n",
    "\n",
    "- **Validación Números Enteros** <a id='Min-eje_V_Numeros_Enteros'></a>\n",
    "\n",
    "~~~python\n",
    "# Min_Ejemplo: Validación Números Enteros\n",
    "\n",
    "def v_num_entero(mensaje):\n",
    "    \"Pide un número entero mostrando el mensaje indicado, hasta que el valor ingresado sea válido\"\n",
    "    \n",
    "    try:\n",
    "        num=int(input(mensaje))\n",
    "        print(\"El valor ingresado es correcto, muchas gracias.\")\n",
    "        return num\n",
    "    except(ValueError):\n",
    "        print(\"\"\"\n",
    "        \\n------------------------------------------------------------------\\n\n",
    "        Ha ingresado un valor inválido vuelva a intentarlo.\n",
    "        \\n------------------------------------------------------------------\\n\n",
    "        \"\"\")\n",
    "        return v_num_entero(mensaje)\n",
    "    \n",
    "m=\"Por favor ingrese su edad en años: \"\n",
    "\n",
    "edad=v_num_entero(m)\n",
    "~~~"
   ]
  },
  {
   "cell_type": "code",
   "execution_count": null,
   "metadata": {},
   "outputs": [],
   "source": [
    "# Pase aquí el mini ejemplo anterior"
   ]
  },
  {
   "cell_type": "markdown",
   "metadata": {},
   "source": [
    "- **Validación Números Decimales** <a id='Min-eje_V_Numeros_Decimales'></a>\n",
    "\n",
    "~~~python\n",
    "# Min_Ejemplo: Validación Números Decimales\n",
    "\n",
    "def v_num_decimal(mensaje):\n",
    "    \"Pide un número decimal mostrando el mensaje indicado, hasta que el valor ingresado sea válido\"\n",
    "    \n",
    "    try:\n",
    "        num=input(mensaje)\n",
    "        num=float(num)\n",
    "        print(\"\\nEl valor ingresado es correcto, muchas gracias.\")\n",
    "        return num\n",
    "    except(ValueError):\n",
    "        print(\"\"\"\n",
    "        \\n------------------------------------------------------------------\\n\n",
    "        Ha ingresado un valor inválido vuelva a intentarlo.\n",
    "        \\n------------------------------------------------------------------\n",
    "        \"\"\")\n",
    "        \n",
    "        indice=num.index(\",\")\n",
    "        \n",
    "        if num[:indice].isnumeric() and num[indice+1:].isnumeric():\n",
    "            print(\"\"\"\n",
    "        Recuerde que el decimal se índica con punto ( . ).\n",
    "        \\n------------------------------------------------------------------\\n\n",
    "        \"\"\")\n",
    "        \n",
    "        return v_num_decimal(mensaje)\n",
    "    \n",
    "m=\"Por favor ingrese su estatura en metros, por ejemplo, 1.70: \"\n",
    "\n",
    "estatura=v_num_decimal(m)\n",
    "~~~"
   ]
  },
  {
   "cell_type": "code",
   "execution_count": 22,
   "metadata": {},
   "outputs": [],
   "source": [
    "# Pase aquí el mini ejemplo anterior"
   ]
  },
  {
   "cell_type": "markdown",
   "metadata": {},
   "source": [
    "- **Validación de Rangos** <a id='Min-eje_V_Rangos'></a>\n",
    "\n",
    "Como se ve en siguiente ejemplo, para lanzar una excepción del sistema cuando cumplen ciertas condiciones se usa la palabra reservada `raise`, indicando el nombre de la excepción y si se requiere entre paréntesis se puede poner un mensaje, indicando el error, para que se muestre en caso de que la excepción no sea capturada por un bloque de código.\n",
    "\n",
    "~~~python\n",
    "# Min_Ejemplo: Validación de Rangos\n",
    "\n",
    "def v_rango(mensaje,minimo,maximo):\n",
    "    \"Pide un número dentro de un rango según el mensaje indicado, hasta que el valor ingresado sea válido\"\n",
    "    \n",
    "    lineas=(\"\\n------------------------------------------------------------------\\n\")\n",
    "    try:\n",
    "        num=input(mensaje)\n",
    "        num=float(num)\n",
    "        try:    \n",
    "            if not minimo<=num<=maximo:\n",
    "                raise ValueError() \n",
    "            print(\"\\nEl valor ingresado es correcto, muchas gracias.\")\n",
    "\n",
    "        except(ValueError):\n",
    "            print(lineas+\"Recuerde ingresar un valor dentro del rango indicado.\"+lineas)\n",
    "    \n",
    "            return v_rango(mensaje,minimo,maximo)\n",
    "        \n",
    "    except(ValueError):\n",
    "        print(lineas+\"No ingresado un valor inválido vuelva a intentarlo\"+lineas)\n",
    "        \n",
    "        return v_rango(mensjae)\n",
    "    \n",
    "minimo= 100\n",
    "maximo= 190\n",
    "m=\"Por favor ingrese un número entre \"+str(minimo)+\" y \"+str(maximo)+\": \"\n",
    "\n",
    "valor=v_rango(m, minimo, maximo)\n",
    "~~~"
   ]
  },
  {
   "cell_type": "code",
   "execution_count": 21,
   "metadata": {},
   "outputs": [],
   "source": [
    "# Pase aquí el mini ejemplo anterior"
   ]
  },
  {
   "cell_type": "markdown",
   "metadata": {},
   "source": [
    "___"
   ]
  },
  {
   "cell_type": "markdown",
   "metadata": {},
   "source": [
    "| [***Anterior***](../5_Estructura_de_Datos/5_Estructura_de_Datos.ipynb#5_Estructura-de-Datos-Basicas) <!--(https://mybinder.org/Introducción)--> | - | [***Siguiente***](../7_Lectura_y_Escritura/7_Lectura_y_Escritura.ipynb#7_Lectura_y_Escritura) <!--(https://www.python.org/Programas-en-Python)--> |\n",
    "| :--------: | :-------: | :--------: |"
   ]
  },
  {
   "cell_type": "markdown",
   "metadata": {},
   "source": [
    "| [**Home**](../Home.ipynb#Home)<!--(https://mybinder.org/Home)--> |\n",
    "| :--------: |"
   ]
  }
 ],
 "metadata": {
  "kernelspec": {
   "display_name": "Python 3",
   "language": "python",
   "name": "python3"
  },
  "language_info": {
   "codemirror_mode": {
    "name": "ipython",
    "version": 3
   },
   "file_extension": ".py",
   "mimetype": "text/x-python",
   "name": "python",
   "nbconvert_exporter": "python",
   "pygments_lexer": "ipython3",
   "version": "3.7.4"
  }
 },
 "nbformat": 4,
 "nbformat_minor": 4
}
