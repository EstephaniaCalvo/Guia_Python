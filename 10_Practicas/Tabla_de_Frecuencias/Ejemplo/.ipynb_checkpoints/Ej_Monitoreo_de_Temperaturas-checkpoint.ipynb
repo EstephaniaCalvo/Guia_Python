{
 "cells": [
  {
   "cell_type": "markdown",
   "metadata": {},
   "source": [
    "<a id='ejemplo'></a>\n",
    "# **Ejemplo:** Monitoreo de temperatura"
   ]
  },
  {
   "cell_type": "markdown",
   "metadata": {},
   "source": [
    "Debido a continuos problemas presentados la producción del producto con código CTG3465, se decide analizar el comportamiento de las temperaturas en el Tanque A usado para en proceso de mezcla, ya que:\n",
    "- Los componentes químicos usados se degradan (se dañan) si se alcanza una temperatura mayor a 90°C, al ocurrir esto la mezcla debe ser desechada, y se debe comenzar el todo el proceso de nuevo.\n",
    "- Los componentes no se disuelven correctamente a una temperatura menor a 50°C, lo que genera una retraso en la mezcla, ya que, se debe dejar más tiempo en agitación.\n",
    "- La mezcla no se puede llenar a una temperatura mayor de 10°C por seguridad del trabajador, por lo cual, la mezcla es enfriada antes del llenado, entre más caliente esté la mézcla mas tiempo lleva enfriarla.\n",
    "\n",
    "Los parámetros críticos establacidos en el procedimeinto son:\n",
    "- Temperatura para adición de componentes < 90°C\n",
    "- Temperatura para llenado < 41°C\n",
    "\n",
    "Los rangos operación recomendados en el procedimiento son:\n",
    "- Temperatura para adición de componentes: (70°C +/- 15°C)\n",
    "- Temperatura para llenado: (31°C +/- 5°C)\n",
    "\n",
    "Para el análisis los datos son extraidos de los registros de producción de los ultimos dos años la temperatura del tanque al momento de adicionar componentes y antes de empezar el llenado y son guardos en los siguientes archivos.\n",
    "\n",
    "- [Ej_Temp_Ad.txt:](Ej_Temp_Ad.txt) Registro de la temperatura antes de adicionar componentes.  \n",
    "- [Ej_Temp_Llen.txt:](Ej_Temp_Llen.txt) Registro de la temperatura antes del llenado. \n",
    "\n",
    "El analísta de calidad decide usar una tabla frecuencias con su histograma y las medidas de centramiento y dispersión de cada etapa para  hacer el análisis, para lo cual define que le número de clases adecuado es 7 para ambos casos, y que la temperatura anterior al llenado debe estar representada en azul. ([Ver archivo de entradas](Ej_Entradas.txt \"Ir al archivo de entradas\"))\n",
    "\n",
    "Para hacerlo hace uso del [programa Tabla_de_frecuencias](#programa_t_f \"Ir al programa\"), el cual guardará en la carpeta Resultados los siguientes documentos:\n",
    "1. Resultados_Ej_Temp_Ad.xlsx: Archivo de excel con la tabla de frecuencias, las medidas de centramiento y dispersión, para los datos de Temp_Ad.    \n",
    "2. Resultados_Ej_Temp_Llen.xlsx: Archivo de excel con la tabla de frecuencias, las medidas de centramiento y dispersión, para los datos de Temp_Llen.   \n",
    "3. Histograma de Ej_Temp_Ad.png: Imagen del histograma de los de los datos de Temp_Ad.     \n",
    "4. Histograma de Ej_Temp_Llen.png Imagen del histograma de los de los datos de Temp_Llen.   \n",
    "5. Histograma comparativo.png: Imagen del histograma comparativo de los datos Temp_Ad y Temp_Llen.\n",
    "\n",
    "###### Nota: Todas las salidas se encuentran en la carpeta Ej_Salidas."
   ]
  },
  {
   "cell_type": "markdown",
   "metadata": {},
   "source": [
    "---\n",
    "## Informe"
   ]
  },
  {
   "cell_type": "markdown",
   "metadata": {},
   "source": [
    "Análise los resultados obtenidos con el programa y escriba sus conclusiones [aqui](#conclusiones). Las siguientes preguntas le ayudarán a anlizar el caso, sin embargo hay muchos otros puntos sobre los que puede llegar a concluir.\n",
    "\n",
    "**Preguntas guía**\n",
    "- ¿Las tempertaturas cumplen con los rangos de operación del procedimiento?\n",
    "- ¿La temperatura es segura para el personal de llenado?\n",
    "- ¿Se ha desechado producto a causa de la degradación de componentes?\n",
    "- ¿La eficiencia de la mezcla se ha visto afectada por la temperatura de adición de componentes?"
   ]
  },
  {
   "cell_type": "markdown",
   "metadata": {},
   "source": [
    "<a id=\"programa_t_f\"></a>\n",
    "## Programa: Tabla_de_frecuencias"
   ]
  },
  {
   "cell_type": "markdown",
   "metadata": {},
   "source": [
    "#### Instrucciones\n",
    "\n",
    "1. Ejecute la siguiente celda.\n",
    "2. Escriba Ej_Entradas.txt y oprima Enter.\n",
    "3. Revise la carpeta \"Resultados\" en la misma ubicación del programa.\n",
    "\n",
    "###### Nota: Si considera conveniente, puede cambiar el número de clases y colores en el archivo [Ej_Entradas.txt](Ej_Entradas.txt \"Ir al archivo de entradas\")"
   ]
  },
  {
   "cell_type": "code",
   "execution_count": null,
   "metadata": {},
   "outputs": [],
   "source": [
    "import sys\n",
    "sys.path.append(\"..\")\n",
    "\n",
    "import Programa.Tabla_de_frecuencias\n",
    "Programa.Tabla_de_frecuencias.main()"
   ]
  },
  {
   "cell_type": "markdown",
   "metadata": {},
   "source": [
    "<a id='conclusiones'></a>\n",
    "## Conclusiones \n",
    "*Escriba aquí las conclusiones del análisis basado en los resultados obtenidos*"
   ]
  },
  {
   "cell_type": "markdown",
   "metadata": {},
   "source": [
    "---\n",
    "| [**Atrás**](../Tabla_de_frecuencias.ipynb \"Ir a la página del programa Tabla_de_frecuencias\")| - | [**Siguiente**](../Practica/Practica_TF.ipynb \"Ir a la página de la práctica de la Tabla de frecuencias\")|\n",
    "| :--------: | :-------: | :--------: |"
   ]
  }
 ],
 "metadata": {
  "kernelspec": {
   "display_name": "Python 3",
   "language": "python",
   "name": "python3"
  },
  "language_info": {
   "codemirror_mode": {
    "name": "ipython",
    "version": 3
   },
   "file_extension": ".py",
   "mimetype": "text/x-python",
   "name": "python",
   "nbconvert_exporter": "python",
   "pygments_lexer": "ipython3",
   "version": "3.7.4"
  }
 },
 "nbformat": 4,
 "nbformat_minor": 4
}
