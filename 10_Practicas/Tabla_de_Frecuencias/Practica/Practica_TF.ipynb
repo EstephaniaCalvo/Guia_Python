{
 "cells": [
  {
   "cell_type": "markdown",
   "metadata": {},
   "source": [
    "<a id='practica'></a>\n",
    "# **Práctica:** Peso por fuera de límites."
   ]
  },
  {
   "cell_type": "markdown",
   "metadata": {},
   "source": [
    "En la empresa Azuvalle S.A.S, se han presentado reclamos del producto de azúcar morena en la presentación de 500g, por tener un peso inferior. A pesar de que los límites de control de la empresa son (505g +/- 10g), en la producción de los lotes afectados no se presentaron fueran de límites.\n",
    "\n",
    "Lo primero en lo que se pensó es que la balanza de la línea tinia un daño, sin embargo, mantenimiento y metrología concluyeron que no presentaba ningun problema. Por lo tanto, fue devuelta a la línea de producción y se calibró tal como indica el procedimiento, esta calibración se debe hacer antes de cada producción, cambio de turno, o después de su instalación en una línea.\n",
    "\n",
    "Ahora se piensa que no se está cumpliendo con el procedimeiento y/o que hay una indebida manipulación de la balanza, por lo cual se realiza un muestreo con el mismo personal y en los mismo turnos en los que se realizaron los lotes defectuosos.\n",
    "\n",
    "Para realizar la investigación se ha tomado un registro doble del peso de 90 bolsas (uno en la balanza digital integrada en la línea, y otro en una balanza del laboratorio), durante 8 días repartidas en partes iguales en los tres turnos de trabajo, y seleccionadas aleatoriamente de la línea. En el turno 3 se asignó a un supervisor para verificar la ejecución de cada paso del procedimiento.\n",
    "\n",
    "Los datos se guardaron en los siguientes archivos:\n",
    "\n",
    "- T1-B1.txt: Bolsa tomadas en el primer turno pesadas con la balanza de la línea.  \n",
    "- T1-B2.txt: Bolsa tomadas en el primer turno pesadas con la balanza del laboratorio.  \n",
    "\n",
    "\n",
    "- T2-B1.txt: Bolsa tomadas en el segundo turno pesadas con la balanza de la línea.\n",
    "- T2-B2.txt: Bolsa tomadas en el segundo turno pesadas con la balanza del laboratorio.  \n",
    "\n",
    "\n",
    "- T3-B1.txt: Bolsa tomadas en el tercer turno pesadas con la balanza de la línea.\n",
    "- T3-B2.txt: Bolsa tomadas en el tercer turno pesadas con la balanza del laboratorio.  \n",
    "\n",
    "Como analista de calidad compare y analice estadísticamente los pesos de las dos balanzas en cada turno, y después proponga las posibles causas del fuera de límite. Haga uso del programa [Tabla_de_Frecuencias](#programa \"Ir al programa\") para obtener los siguientes resultados para cada turno:\n",
    "\n",
    "1. Resultados_Ti-B1.xlsx   \n",
    "2. Resultados_Ti-B2.xlsx\n",
    "3. Histograma de Ti-B1.png  \n",
    "4. Histograma de Ti-B2.png \n",
    "5. Histograma comparativo.png"
   ]
  },
  {
   "cell_type": "markdown",
   "metadata": {},
   "source": [
    "---\n",
    "## Informe"
   ]
  },
  {
   "cell_type": "markdown",
   "metadata": {},
   "source": [
    "Análise los resultados obtenidos con el [programa](#programa \"Ir a la sección del programa\") y escriba sus conclusiones [aqui](#conclusiones). Las siguientes preguntas le ayudarán a anlizar el caso, sin embargo hay muchos otros puntos sobre los que puede llegar a concluir.\n",
    "\n",
    "**Preguntas guía**\n",
    "- ¿Las mediciones de la dos balanzas concuerdan?\n",
    "- ¿Hay evidencia para concluir que no se está siguiendo el procedimiento?\n",
    "    - Si es así, ¿Que parte del procedimiento podría no estarse cumpliendo correctamente?\n",
    "    - ¿Que estrátegia recomienda para solucionar este problema?\n",
    "- ¿Que turno está generando los reclamos?"
   ]
  },
  {
   "cell_type": "markdown",
   "metadata": {},
   "source": [
    "<a id='conclusiones'></a>\n",
    "## Conclusiones \n",
    "*Escriba aquí las conclusiones del análisis basado en los resultados obtenidos*"
   ]
  },
  {
   "cell_type": "markdown",
   "metadata": {},
   "source": [
    "<a id=\"programa\"></a>\n",
    "## Programa: Tabla_de_frecuencias"
   ]
  },
  {
   "cell_type": "markdown",
   "metadata": {},
   "source": [
    "#### **Instrucciones**\n",
    "\n",
    "1. Llenar la [plantilla](Programa/Plantilla_TF.ipynb) del programa.\n",
    "2. Crear los archivos de entradas, con los archivos de datos, números de clase y colores a usar.\n",
    "3. Ejecutar el programa en la siguiente celda."
   ]
  },
  {
   "cell_type": "code",
   "execution_count": null,
   "metadata": {},
   "outputs": [],
   "source": [
    "from Programa.Tabla_de_Frecuencias import main()\n",
    "main()"
   ]
  },
  {
   "cell_type": "markdown",
   "metadata": {},
   "source": [
    "---\n",
    "| [**Atrás**](../Ejemplo/Ej_Monitoreo_de_Temperaturas.ipynb \"Ir al Ejemplo Monitoreo de temperatura\")| - | [**Siguiente**](Plantilla/Plantilla_TF.ipynb \"Ir a la página de la práctica de la Tabla de frecuencias\")|\n",
    "| :--------: | :-------: | :--------: |"
   ]
  }
 ],
 "metadata": {
  "kernelspec": {
   "display_name": "Python 3",
   "language": "python",
   "name": "python3"
  },
  "language_info": {
   "codemirror_mode": {
    "name": "ipython",
    "version": 3
   },
   "file_extension": ".py",
   "mimetype": "text/x-python",
   "name": "python",
   "nbconvert_exporter": "python",
   "pygments_lexer": "ipython3",
   "version": "3.7.4"
  }
 },
 "nbformat": 4,
 "nbformat_minor": 4
}
