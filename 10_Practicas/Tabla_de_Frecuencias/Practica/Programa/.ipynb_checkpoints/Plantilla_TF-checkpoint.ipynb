{
 "cells": [
  {
   "cell_type": "markdown",
   "metadata": {},
   "source": [
    "# **Tabla de Frecuencias**"
   ]
  },
  {
   "cell_type": "markdown",
   "metadata": {},
   "source": [
    "## **Análisis**"
   ]
  },
  {
   "cell_type": "markdown",
   "metadata": {},
   "source": [
    "- ### Objetivo\n",
    "Hacer un programa que, al ingresar uno o varios archivos de datos, asociados a un numero de clase, y a un color, calcule y guarde para cada paquete de datos, las medidas de centramiento y dispersión, la tabla de frecuencias, y su histograma.\n",
    "\n",
    "- ### Entradas\n",
    "    **0. Entradas:** Archivo de texto.txt con la información de las entradas del programa.   \n",
    "    **1. Datos:** Archivos de texto.txt, con los datos que se quieren analizar.    \n",
    "    **2. Número de clases:** La cantidad de clases en las que se van a dividir los datos.   \n",
    "    **3. Color del histograma:** El color para graficar el histograma.   \n",
    "\n",
    "- ### Salidas\n",
    "    **0. Carpeta resultados:** Carpeta en la misma ubicación del programa llamada \"Resultados\" para almacenar los resultados del programa.   \n",
    "    **1. Resultados:** Archivo de excel .xls que debe contener la tabla de frecuencias, las medidas de centramiento y dispersión, en hojas separadas, debe guardarse en la carpeta \"Resultados\".    \n",
    "    **2. Histograma:** Imagen .png, con el histograma, debe guardarse en la carpeta \"Resultados\".       \n",
    "    **3. Histograma comparativo:** Imagen .png, con el histograma comparativo si ingresó más de un archivo de datos, debe guardarse en la carpeta \"Resultados\".\n",
    "\n",
    "- ### Algoritmo\n",
    "    0. Pedir y leer archivo de entradas.\n",
    "    1. Leer y almacenar los datos.\n",
    "    2. Calcular las medidas de centramiento y dispersión (media, mediana, moda, desviación estándar para una muestra, rango y varianza)\n",
    "    3. Crear la tabla de frecuencias  \n",
    "        3.1. Definir las clases    \n",
    "        3.2. Calcular las frecuencias (absoluta, absoluta acumulada, relativa, relativa acumulada)    \n",
    "    4. Crear y guardar el archivo.xlc con los resultados.\n",
    "    5. Crear y guardar el histograma.\n",
    "    6. Crear y guardar el histograma comparativo, si hay mas de un archivo de datos."
   ]
  },
  {
   "cell_type": "markdown",
   "metadata": {},
   "source": [
    "## **Instrucciones del programa**"
   ]
  },
  {
   "cell_type": "markdown",
   "metadata": {},
   "source": [
    "*Escriba aquí las instrucciones de uso para el programa*"
   ]
  },
  {
   "cell_type": "markdown",
   "metadata": {},
   "source": [
    "## **Plantilla / Codigo**"
   ]
  },
  {
   "cell_type": "code",
   "execution_count": null,
   "metadata": {},
   "outputs": [],
   "source": [
    "# Título: Tabla de Frecuencias\n",
    "## Autor:"
   ]
  },
  {
   "cell_type": "markdown",
   "metadata": {},
   "source": [
    "### **-2. Importar módulos**"
   ]
  },
  {
   "cell_type": "code",
   "execution_count": null,
   "metadata": {},
   "outputs": [],
   "source": [
    "# Importe aquí todos los módulos que necesite"
   ]
  },
  {
   "cell_type": "markdown",
   "metadata": {},
   "source": [
    "### **-1. Funciones auxiliares**"
   ]
  },
  {
   "cell_type": "markdown",
   "metadata": {},
   "source": [
    "<a id='lectura_entradas'></a>\n",
    "#### a. Leer y almacenar datos ([lectura_entradas](F_Auxiliares/_a_lectura_entradas.ipynb \"Ir a la plantilla de lectura_entradas\"))"
   ]
  },
  {
   "cell_type": "code",
   "execution_count": null,
   "metadata": {},
   "outputs": [],
   "source": [
    "# Escriba aquí el codigo"
   ]
  },
  {
   "cell_type": "markdown",
   "metadata": {},
   "source": [
    "<a id='lectura_datos'></a>\n",
    "#### b. Leer y almacenar datos ([lectura_datos](F_Auxiliares/_b_lectura_datos.ipynb \"Ir a la plantilla de lectura_datos\"))"
   ]
  },
  {
   "cell_type": "code",
   "execution_count": null,
   "metadata": {},
   "outputs": [],
   "source": [
    "# Escriba aquí el codigo"
   ]
  },
  {
   "cell_type": "markdown",
   "metadata": {},
   "source": [
    "<a id='medidas'></a>\n",
    "#### c. Calcular las medidas de centramiento y dispersión ([medidas](F_Auxiliares/_c_medidas.ipynb \"Ir a la plantilla de medidas\"))"
   ]
  },
  {
   "cell_type": "code",
   "execution_count": null,
   "metadata": {},
   "outputs": [],
   "source": [
    "# Escriba aquí el codigo"
   ]
  },
  {
   "cell_type": "markdown",
   "metadata": {},
   "source": [
    "<a id='clases'></a>\n",
    "#### d. Definir las clases ([clases](F_Auxiliares/_d_clases.ipynb \"Ir a la plantilla de clases\"))"
   ]
  },
  {
   "cell_type": "code",
   "execution_count": null,
   "metadata": {},
   "outputs": [],
   "source": [
    "# Escriba aquí el codigo"
   ]
  },
  {
   "cell_type": "markdown",
   "metadata": {},
   "source": [
    "<a id='resultados'></a>\n",
    "#### e. Calcular las frecuencias ([frecuencias](F_Auxiliares/_e_frecuencias.ipynb \"Ir a la plantilla de frecuencias\"))"
   ]
  },
  {
   "cell_type": "code",
   "execution_count": null,
   "metadata": {},
   "outputs": [],
   "source": [
    "# Escriba aquí el codigo"
   ]
  },
  {
   "cell_type": "markdown",
   "metadata": {},
   "source": [
    "<a id='resultados'></a>\n",
    "#### f. Guardar archivo de resultados.xlsx ([resultados](F_Auxiliares/_f_resultados.ipynb \"Ir a la plantilla de resultados\"))"
   ]
  },
  {
   "cell_type": "code",
   "execution_count": null,
   "metadata": {},
   "outputs": [],
   "source": [
    "# Escriba aquí el codigo"
   ]
  },
  {
   "cell_type": "markdown",
   "metadata": {},
   "source": [
    "<a id='histograma'></a>\n",
    "#### g. Hacer el histograma ([histograma](F_Auxiliares/_g_histograma.ipynb \"Ir a la plantilla de histograma\"))"
   ]
  },
  {
   "cell_type": "code",
   "execution_count": null,
   "metadata": {},
   "outputs": [],
   "source": [
    "# Escriba aquí el codigo"
   ]
  },
  {
   "cell_type": "markdown",
   "metadata": {},
   "source": [
    "<a id='hist_comparativo'></a>\n",
    "#### h. Hacer el histograma comparativo ([hist_comparativo](F_Auxiliares/_f_hist_comparativo.ipynb \"Ir a la plantilla de hist_comparativo\"))"
   ]
  },
  {
   "cell_type": "code",
   "execution_count": null,
   "metadata": {},
   "outputs": [],
   "source": [
    "# Escriba aquí el codigo"
   ]
  },
  {
   "cell_type": "markdown",
   "metadata": {},
   "source": [
    "### **0. Programa principal**"
   ]
  },
  {
   "cell_type": "code",
   "execution_count": null,
   "metadata": {},
   "outputs": [],
   "source": [
    "def main():\n",
    "    \n",
    "    \"0. Pedir y leer archivo de entradas\"\n",
    "    # Ingresar archivo de entrada.\n",
    "    # Leer el archivo de entradas\n",
    "    # Extraer lista de archivos, lista de numeros de clase, y colores.\n",
    "    # Crear una lista vacía para almacenar las listas de datos.\n",
    "    \n",
    "    \"Realizar el algoritmo de tabla de frecuencias e histograma\"\n",
    "    # Por cada archivo de entradas haga:\n",
    "    \n",
    "        # Crear variable para almacenar el nombre del archivo actual.\n",
    "        # Crear variable para almacenar el número de clase actual.\n",
    "        \n",
    "        \"1. Leer y almacenar los datos.\"\n",
    "        # Leer y almacenar datos.\n",
    "        \n",
    "        \"2. Calcular las medidas de centramiento y dispersión\"\n",
    "        # Calcular y almacenar las resultados de las medidas.\n",
    "        # Extraer el rango.\n",
    "        \n",
    "        \"3. Crear la tabla de frecuencias\"  \n",
    "        \"3.1. Definir las clases\"\n",
    "        # Calcular y almacenar las clases.\n",
    "        \"3.2. Calcular las frecuencias\"\n",
    "        # Calcular y almacenar las frecuencias.\n",
    "        # Extraer la frecuencia absoluta.\n",
    "        \n",
    "        \"4. Crear y guardar el archivo.xlc con los resultados\"\n",
    "        # Crear y guardar el archivo de Resultados_Archivo.xlsx.\n",
    "        \n",
    "        \"5. Crear y guardar el histograma\"\n",
    "        # Crear, mostrar y guardar la imagen Histograma de Archivo.png.\n",
    "    \n",
    "    \"6. Crear y guardar histograma comparativo\"\n",
    "    # Si hay más de un archivo de datos:\n",
    "        # Crear, mostrar y guardar histograma comparativo\n",
    "        \n",
    "if __name__=='__main__':\n",
    "    main()"
   ]
  }
 ],
 "metadata": {
  "kernelspec": {
   "display_name": "Python 3",
   "language": "python",
   "name": "python3"
  },
  "language_info": {
   "codemirror_mode": {
    "name": "ipython",
    "version": 3
   },
   "file_extension": ".py",
   "mimetype": "text/x-python",
   "name": "python",
   "nbconvert_exporter": "python",
   "pygments_lexer": "ipython3",
   "version": "3.7.4"
  }
 },
 "nbformat": 4,
 "nbformat_minor": 4
}
