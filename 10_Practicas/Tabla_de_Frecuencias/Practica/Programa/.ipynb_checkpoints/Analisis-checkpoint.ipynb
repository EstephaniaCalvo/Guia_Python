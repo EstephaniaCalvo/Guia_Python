{
 "cells": [
  {
   "cell_type": "markdown",
   "metadata": {},
   "source": [
    "# **Análisis - Tabla de Frecuencias**\n",
    "\n",
    "- ### Objetivo\n",
    "Hacer un programa que, al ingresar uno o varios archivos de datos, asociados a un numero de clase, y a un color, calcule y guarde para cada paquete de datos las medidas de centramiento y dispersión, la tabla de frecuencias, y su histograma.\n",
    "\n",
    "- ### Entradas\n",
    "    **0. Entradas:** Archivo de texto.txt con la información de las entradas del programa.   \n",
    "    **1. Datos:** Archivos de texto.txt, con los datos que se quieren analizar.    \n",
    "    **2. Número de clases:** La cantidad de clases en las que se van a dividir los datos.   \n",
    "    **3. Color del histograma:** El color para graficar el histograma.   \n",
    "\n",
    "- ### Salidas\n",
    "    **0. Carpeta Resultados:** Carpeta en la misma ubicación del programa llamada \"Resultados\" para almacenar los resultados del programa.   \n",
    "    **1. Resultados:** Archivo de excel .xls que debe contener la tabla de frecuencias, las medidas de centramiento y dispersión, en hojas separadas, debe guardarse en la carpeta \"Resultados\".    \n",
    "    **2. Histograma:** Imagen .png, con el histograma, debe guardarse en la carpeta \"Resultados\".       \n",
    "    **3. Histograma comparativo:** Imagen .png, con el histograma comparativo si ingresó más de un archivo de datos, debe guardarse en la carpeta \"Resultados\".\n",
    "\n",
    "- ### Algoritmo\n",
    "    0. Pedir y leer archivo de entradas.\n",
    "    1. Leer y almacenar los datos.\n",
    "    2. Calcular las medidas de centramiento y dispersión (media, mediana, moda, desviación estándar para una muestra, rango y varianza)\n",
    "    3. Crear la tabla de frecuencias  \n",
    "        3.1. Definir las clases    \n",
    "        3.2. Calcular las frecuencias (absoluta, absoluta acumulada, relativa, relativa acumulada)    \n",
    "    4. Crear y guardar el archivo.xlc con los resultados.\n",
    "    5. Crear y guardar el histograma.\n",
    "    6. Crear y guardar el histograma comparativo, si hay más de un archivo de datos."
   ]
  }
 ],
 "metadata": {
  "kernelspec": {
   "display_name": "Python 3",
   "language": "python",
   "name": "python3"
  },
  "language_info": {
   "codemirror_mode": {
    "name": "ipython",
    "version": 3
   },
   "file_extension": ".py",
   "mimetype": "text/x-python",
   "name": "python",
   "nbconvert_exporter": "python",
   "pygments_lexer": "ipython3",
   "version": "3.7.4"
  }
 },
 "nbformat": 4,
 "nbformat_minor": 4
}
