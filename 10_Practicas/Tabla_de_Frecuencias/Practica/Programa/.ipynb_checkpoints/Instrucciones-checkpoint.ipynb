{
 "cells": [
  {
   "cell_type": "markdown",
   "metadata": {},
   "source": [
    "# **Instrucciones - Tabla de Frecuencias** <a id='instrucciones'></a>"
   ]
  },
  {
   "cell_type": "markdown",
   "metadata": {},
   "source": [
    "- **Probar el programa con los datos de ejemplo:**\n",
    "\n",
    "1. Abra el programa Tabla_de_frecuencias.py.  \n",
    "(Si está en el notebook del programa, de click [aquí](#programa \"Ir al programa\") y ejecute la celda del programa.)\n",
    "2. Escriba Ej_Entradas.txt y oprima Enter.\n",
    "3. Una vez el programa se haya cerrado el programa, los resultados estarán guardados en la carpeta \"Resultados\" en la misma ubicación del programa.\n",
    "\n",
    "- **Ejecutar el programa con datos propios:**\n",
    "\n",
    "1. Asegúrese de tener en la misma ubicación del programa o del notebook por lo menos:\n",
    "    - Archivo de entradas: Un archivo de texto con las entradas, tome como guía la estructura de Ej_Entradas.txt.\n",
    "    - Archivo de datos: El archivo de texto con los datos referenciado en el archivo de entradas, tome como guía la estructura de Ej_1.Temp_Ad.txt o Ej_2.Tem_Llen.txt.\n",
    "3. Si desea que el color del histograma sea aleatorio en lugar de escribir un color, escriba \"a\".\n",
    "4. Si ya existe una carpeta \"Resultados\" y desea conservarla, cámbiele el nombre o cámbiela de ubicación para no perder su contenido.\n",
    "5. Abra el programa Tabla_de_frecuencias.py\n",
    "(Si está en el notebook del programa, de click [aquí](#programa \"Ir al programa\") y ejecute la celda del programa.)\n",
    "6. Escriba el nombre del archivo donde están las entradas.\n",
    "7. Una vez el programa se haya cerrado el programa, los resultados estarán guardados en la carpeta \"Resultados\" en la misma ubicación del programa o del notebook.\n",
    "\n",
    "- **Evitar errores:**\n",
    "\n",
    "Para que el programa no presente errores al ejecutarse tenga en cuenta:\n",
    "\n",
    "#### 1. Archivo de entradas \n",
    "###### (Ver archivo Ej_Entradas.txt)\n",
    "\n",
    "- El archivo de entradas, debe tener en cada línea y separado por punto y coma ';' la siguiente información:\n",
    "    1. El nombre del archivo de datos con la extensión .txt\n",
    "    2. El número de clases para calcular la tabla de frecuencias.\n",
    "    3. El color para graficar el histograma.    \n",
    "- No debe tener rótulos (la primera línea tiene el primer conjunto de datos).   \n",
    "- Al final no debe haber ningún salto de línea (la última línea tiene el último conjunto de entradas). \n",
    "\n",
    "**Por ejemplo:**  \n",
    "Archivo_1.txt;9;blue   \n",
    "Archivo_2.txt;10;a\n",
    "\n",
    "#### 2. Archivo de datos ingresado:\n",
    "###### (Ver archivo Ej_1.Temp_Ad.txt o Ej_2.Tem_Llen.txt)\n",
    "- Debe ser un archivo en de texto. (.txt)\n",
    "- Debe estar ubicado en la misma ruta (carpeta) del programa.\n",
    "- Los datos deben estar organizados en un vector (un solo dato en cada línea, formando una columna de datos).\n",
    "- No debe tener rótulos. (La primera línea debe tener el primer dato).\n",
    "- Si hay decimales estos deben ser indicados con punto \".\".\n",
    "- Todos los datos deben tener la misma cantidad de decimales.\n",
    "- No deben existir filas vacías, ni saltos de línea al final (la última fila debe tener el último dato).\n",
    "\n",
    "#### 3. El número de clases ingresado \n",
    "- Debe ser un número entero.\n",
    "\n",
    "#### 4. Colores del histograma\n",
    "- Si desea que los colores sean aleatorios, en vez de un color, escriba \"a\".\n",
    "- Puede usar los colores compatibles con las paletas de Matplotlib, como los de la siguiente lista, https://matplotlib.org/3.1.1/gallery/color/named_colors.html.\n",
    "\n",
    "#### 3. Resultados.\n",
    "- En la ruta del programa no debe existir una carpeta llamada 'Resultados' antes de ejecutarlo, si existe los archivos que contengan pueden ser reemplazados."
   ]
  }
 ],
 "metadata": {
  "kernelspec": {
   "display_name": "Python 3",
   "language": "python",
   "name": "python3"
  },
  "language_info": {
   "codemirror_mode": {
    "name": "ipython",
    "version": 3
   },
   "file_extension": ".py",
   "mimetype": "text/x-python",
   "name": "python",
   "nbconvert_exporter": "python",
   "pygments_lexer": "ipython3",
   "version": "3.7.4"
  }
 },
 "nbformat": 4,
 "nbformat_minor": 4
}
