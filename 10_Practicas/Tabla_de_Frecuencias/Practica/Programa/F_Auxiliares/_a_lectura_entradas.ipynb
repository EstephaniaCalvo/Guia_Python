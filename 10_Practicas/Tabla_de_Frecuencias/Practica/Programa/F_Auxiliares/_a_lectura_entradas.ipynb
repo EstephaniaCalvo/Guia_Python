{
 "cells": [
  {
   "cell_type": "markdown",
   "metadata": {},
   "source": [
    "## a. Leer y almacenar datos (lectura_entradas)"
   ]
  },
  {
   "cell_type": "markdown",
   "metadata": {},
   "source": [
    "- #### **Objetivo :** \n",
    "    Almacenar el contendio del [archivo de entradas](Ej_Entradas.txt \"Ver archivo de entradas\") en una lista de archivos, lista de números de clases y lista de colores. Si el color indicado es 'a' el programa debe escoger el color de forma aleatoría."
   ]
  },
  {
   "cell_type": "markdown",
   "metadata": {},
   "source": [
    "- #### **Entradas :** \n",
    "~~~python\n",
    "archivo_entradas='Ej_Entradas.txt'\n",
    "~~~"
   ]
  },
  {
   "cell_type": "markdown",
   "metadata": {},
   "source": [
    "- #### **Salidas :** \n",
    "~~~python\n",
    "l_archivos= ['Ej_1.Temp_Ad.txt', 'Ej_2.Temp_Llen.txt']   \n",
    "l_k= [7, 7] \n",
    "l_colores=['teal', 'dodgerblue']  \n",
    "~~~"
   ]
  },
  {
   "cell_type": "markdown",
   "metadata": {},
   "source": [
    "- #### **Codigo :** \n",
    "Complete la función para convertir las entradas en las salidas, ingrese al [material de apoyo](#material \"Ir al material de apoyo\") para ver los ejemplos que lo pueden guiar, una vez terminada ejecutela y puruebela [aquí](#prueba)."
   ]
  },
  {
   "cell_type": "code",
   "execution_count": null,
   "metadata": {},
   "outputs": [],
   "source": [
    "# Importar aquí los módulos necesarios\n",
    "\n",
    "# a. Leer y almacenar archivo de entradas\n",
    "def lectura_entradas (archivo_entradas): \n",
    "    \"\"\"\n",
    "    Almacenar el contendio del [archivo de entradas](Ej_Entradas.txt \"Ver archivo de entradas\") \n",
    "    en una lista de archivos, lista de números de clases y lista de colores. \n",
    "    Si el color indicado es 'a' el programa debe escoger el color de forma aleatoría.\n",
    "    \"\"\"\n",
    "    \n",
    "    # Lista de colores\n",
    "    c=['aquamarine', 'bisque', 'blue', 'blueviolet', 'brown', 'burlywood', 'chartreuse', 'chocolate', 'coral', 'cornflowerblue', 'crimson', 'cyan', 'dgreen', 'lightblue', 'lightcoral', 'lightgreen', 'lightgrey', 'lightpink', 'lightsalmon', 'lightseagreen', 'lightslategrey', 'lime', 'limegreen', 'magenta', 'maroon', 'mediumaquamarine', 'mediumblue', 'mediumorchid', 'mediumpurple', 'mediumseagreen', 'mediumslateblue', 'mediumspringgreen', 'mediumturquoise', 'mediumvioletred', 'midnightblue', 'moccasin', 'navajowhite', 'navy', 'olive', 'olivedrab', 'orange', 'orangered', 'orchid', 'palegoldenrod', 'palegreen', 'paleturquoise', 'palevioletred', 'peachpuff', 'peru', 'pink', 'plum', 'purple', 'rebeccapurple', 'red', 'rosybrown', 'royalblue', 'saddlebrown', 'salmon', 'sandybrown', 'seagreen', 'sienna', 'skyblue', 'slateblue', 'slategrey', 'springgreen', 'steelblue', 'tan', 'teal', 'thistle', 'tomato', 'turquoise', 'violet', 'wheat', 'yellow', 'yellowgreen']\n",
    "    \n",
    "    # Escriba aquí el código:\n",
    "    \n",
    "    return (l_archivos,l_k,l_colores)"
   ]
  },
  {
   "cell_type": "markdown",
   "metadata": {},
   "source": [
    "- #### **Prueba :** <a id='prueba'></a>\n",
    "Ejecute la siguiente celda para probar la función, si es correcta, pásela [aquí](../Tabla_de_Frecuencias.py)"
   ]
  },
  {
   "cell_type": "code",
   "execution_count": null,
   "metadata": {},
   "outputs": [],
   "source": [
    "import sys\n",
    "sys.path.append(\"../Testing\")\n",
    "from testing_TF import test_lectura_entradas\n",
    "\n",
    "test_lectura_entradas(lectura_entradas)"
   ]
  },
  {
   "cell_type": "markdown",
   "metadata": {},
   "source": [
    "## Material de Apoyo <a id='material'></a>"
   ]
  },
  {
   "cell_type": "markdown",
   "metadata": {},
   "source": [
    "- [Almacenamiento en listas aparte](../../../../../7_Lectura_y_Escritura/7_Lectura_y_Escritura.ipynb#Min-eje_A_Archivo_i3.txt \"Ir al capitulo de Lectura de archivos\")\n",
    "- [Lectura de bases de datos](../../../../../7_Lectura_y_Escritura/7_Lectura_y_Escritura.ipynb#Min-eje_A_B_Datos.txt \"Ir al capitulo de Lectura de archivos\")\n",
    "- [Manejo de listas y tuplas](../../../../../5_Estructura_de_Datos/5_Estructura_de_Datos.ipynb#5_Estructura-de-Datos-Basicas \"Ir al capitulo de Estructuras de datos\")\n",
    "- [Módulo random](../../../../../9_Modulos/9_Modulos_y_Paquetes.ipynb#9.3_Libreria-Estandar \"Ir al capitulo de Estructuras de datos\")"
   ]
  },
  {
   "cell_type": "markdown",
   "metadata": {},
   "source": [
    "---\n",
    "| [**Atrás**](../Plantilla_TF.ipynb \"Volver a la plantilla del programa principal\")|\n",
    "| :--------: |"
   ]
  }
 ],
 "metadata": {
  "kernelspec": {
   "display_name": "Python 3",
   "language": "python",
   "name": "python3"
  },
  "language_info": {
   "codemirror_mode": {
    "name": "ipython",
    "version": 3
   },
   "file_extension": ".py",
   "mimetype": "text/x-python",
   "name": "python",
   "nbconvert_exporter": "python",
   "pygments_lexer": "ipython3",
   "version": "3.7.4"
  }
 },
 "nbformat": 4,
 "nbformat_minor": 4
}
