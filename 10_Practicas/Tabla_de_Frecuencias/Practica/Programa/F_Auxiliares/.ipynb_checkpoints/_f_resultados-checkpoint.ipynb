{
 "cells": [
  {
   "cell_type": "markdown",
   "metadata": {},
   "source": [
    "## f. Guardar archivo de resultados.xlsx\n",
    "\n",
    "- #### **Objetivos :** \n",
    "    1. Almacenar las medidas de centramiento y dispersión en la hoja 1, y la tabla de frecuencias en la hoja 2 de un archivo xlsx.\n",
    "    2. Crear la carpeta Resultados\n",
    "    3. Guardar archivo.xlsx en la carpeta anterior\n",
    "    \n",
    "    Tenga en cuenta que: \n",
    "    - El archivo debe tener el nombre del archivo de datos sin la extensión .txt.\n",
    "    - Las hojas 1 y 2 deben tener el nombre de \"Medidas\" y \"Tabla de frecuencias\" respectivamente.\n",
    "    - Cada hoja debe tener un enunciado \"Medidas\" y \"Tabla de frecuencias\" según corresponda, con tamaño de letra tamaño 16 y en negrita.\n",
    "    - Las medidas, la frecuencia relativa y relativa acumulada deben tener solo un decimal más que los datos originales."
   ]
  },
  {
   "cell_type": "markdown",
   "metadata": {},
   "source": [
    "- #### **Entradas :** "
   ]
  },
  {
   "cell_type": "code",
   "execution_count": null,
   "metadata": {},
   "outputs": [],
   "source": [
    "# 1. i_clases: Lista de los intérvalos de clase guardadas en tuplas.\n",
    "r_clases=[(38.79, 47.34), (47.34, 55.89), (55.89, 64.43), (64.43, 72.98), (72.98, 81.52), (81.52, 90.07), (90.07, 98.61)]\n",
    "# 2. tabla: Tupla con las listas de las frecuencias (absoluta, relativa, absoluta acumulada, relativa acumulada.\n",
    "tabla= ([8, 48, 164, 233, 180, 72, 15], [0.011111111111111112, 0.06666666666666667, 0.22777777777777777, 0.3236111111111111, 0.25, 0.1, 0.020833333333333332], [8, 56, 220, 453, 633, 705, 720], [0.011111111111111112, 0.07777777777777778, 0.3055555555555556, 0.6291666666666667, 0.8791666666666667, 0.9791666666666666, 1.0])\n",
    "# 3. r_medidas: Tupla con los resultados de las medidas de centramiento y dispersión\n",
    "r_medidas= (69.67333333333333, 69.8, 66.0, 10.011088983849813, 59.8, 100.2219026425591)\n",
    "# 4. archivo: Nombre del archivo de datos\n",
    "archivo='Ej_Temp_Ad.txt'"
   ]
  },
  {
   "cell_type": "markdown",
   "metadata": {},
   "source": [
    "- #### **Salidas :** \n",
    "\n",
    "**1. Resultados_Archivo.xlsx:** Archivo de excel con los resultados de las medidas de centramiento y dispersión en la hoja 1, y la tabla de frecuencias en la hoja 2.\n",
    "\n",
    "- #### **Código :** \n",
    "Complete la función para convertir las entradas en las salidas, ingrese al [material de apoyo](#material \"Ir al material de apoyo\") para ver los ejemplos que lo pueden guiar, una vez terminada ejecútela y compare sus resultados con las salidas del [ejemplo](../../../Ejemplo/Ej_Monitoreo_de_Temperaturas.ipynb)."
   ]
  },
  {
   "cell_type": "code",
   "execution_count": null,
   "metadata": {},
   "outputs": [],
   "source": [
    "# Importar aquí los módulos necesarios\n",
    "\n",
    "# f. Guardar archivo de resultados.xlsx\n",
    "def resultados (clases,tabla,r_medidas,archivo): \n",
    "    \"\"\"\n",
    "    Crear y guardar el archivo.xls con los resultados del pograma en la carpeta Resultados.\n",
    "    \"\"\"\n",
    "    # Escriba aquí el código:\n",
    "    \n",
    "    return None "
   ]
  },
  {
   "cell_type": "markdown",
   "metadata": {},
   "source": [
    "- #### **Prueba :** <a id='prueba'></a>\n",
    "Ejecute la celda de entradas y luego la siguiente celda, finalmente compruebe si la carpeta Resultados con el archivo Resultados_Ej_Temp_Ad.xlsx fueron creados correctamente, si es así pase la función [aquí](../Tabla_de_Frecuencias.py)"
   ]
  },
  {
   "cell_type": "code",
   "execution_count": null,
   "metadata": {},
   "outputs": [],
   "source": [
    "# Prueba de salidas\n",
    "resultados (r_clases,tabla,r_medidas,archivo)"
   ]
  },
  {
   "cell_type": "markdown",
   "metadata": {},
   "source": [
    "## Material de Apoyo <a id='material'></a>"
   ]
  },
  {
   "cell_type": "markdown",
   "metadata": {},
   "source": [
    "- [Archivos.xlsx](../../../../../7_Lectura_y_Escritura/7_Lectura_y_Escritura.ipynb#Min-eje_Archivo.xlsx \"Ir al Mini_Ejemplo de creación de archivos en Excel.\")\n",
    "- [Crear carpetas](../../../../../7_Lectura_y_Escritura/7_Lectura_y_Escritura.ipynb#Min-eje_C_Carpeta_Ejemplo.txt \"Ir al Mini_Ejmplo de creación de carpetas.\")"
   ]
  },
  {
   "cell_type": "markdown",
   "metadata": {},
   "source": [
    "---\n",
    "| [**Atrás**](../Plantilla_TF.ipynb \"Volver a la plantilla del programa principal\")|\n",
    "| :--------: |"
   ]
  }
 ],
 "metadata": {
  "kernelspec": {
   "display_name": "Python 3",
   "language": "python",
   "name": "python3"
  },
  "language_info": {
   "codemirror_mode": {
    "name": "ipython",
    "version": 3
   },
   "file_extension": ".py",
   "mimetype": "text/x-python",
   "name": "python",
   "nbconvert_exporter": "python",
   "pygments_lexer": "ipython3",
   "version": "3.7.4"
  }
 },
 "nbformat": 4,
 "nbformat_minor": 4
}
