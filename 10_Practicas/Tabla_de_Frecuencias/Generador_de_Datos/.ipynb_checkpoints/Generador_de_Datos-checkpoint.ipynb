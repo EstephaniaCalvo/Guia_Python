{
 "cells": [
  {
   "cell_type": "markdown",
   "metadata": {},
   "source": [
    "# Generación de datos aleatorios"
   ]
  },
  {
   "cell_type": "markdown",
   "metadata": {},
   "source": [
    "## Generación de datos aletorios por frecuencia\n",
    "Genera datos aleatorios a partir de un valor maximo y mínimo, las frecuencias, y el número de decimales indicado.\n",
    "\n",
    "**Por ejemplo:**\n",
    "Si se desea tener un archivo llamado Datos_1.txt, de valores aleatorios con dos decimales, entre 1 y 10 repartidos en 5 frecuencias (10,20,30,45,25).\n",
    "\n",
    "Se debe ingresar:\n",
    "- Nombre = Datos_1.txt\n",
    "- Valor máximo= 1  \n",
    "- Valor mínmo= 10  \n",
    "- Número de dicimales= 2  \n",
    "- Frecuencia 1 = 10   \n",
    "- Frecuencia 2 = 20  \n",
    "- Frecuencia 3 = 30  \n",
    "- Frecuencia 4 = 45  \n",
    "- Frecuencia 5 = 25  "
   ]
  },
  {
   "cell_type": "code",
   "execution_count": 2,
   "metadata": {},
   "outputs": [
    {
     "name": "stdin",
     "output_type": "stream",
     "text": [
      "Por favor ingrese el nombre del archivo de datos con la extensión .txt, por ejemplo: Datos_1.txt:\n",
      " Ej_Temp_Ad1.txt\n",
      "Por favor ingrese el dato menor:  38\n",
      "Por favor ingrese el dato mayor:  80\n",
      "\n",
      "Ingrese el número de decimales que deben tener los datos:  1\n",
      "\n",
      "Por favor ingrese la frecuencia de la clase No.1\n",
      "Si no desea ingresar más frecuencias oprima Enter\n",
      " 8\n"
     ]
    },
    {
     "name": "stdout",
     "output_type": "stream",
     "text": [
      "Puede ingresar 41 frecuencias más\n"
     ]
    },
    {
     "name": "stdin",
     "output_type": "stream",
     "text": [
      "\n",
      "Por favor ingrese la frecuencia de la clase No.1\n",
      "Si no desea ingresar más frecuencias oprima Enter\n",
      " 48\n"
     ]
    },
    {
     "name": "stdout",
     "output_type": "stream",
     "text": [
      "Puede ingresar 40 frecuencias más\n"
     ]
    },
    {
     "name": "stdin",
     "output_type": "stream",
     "text": [
      "\n",
      "Por favor ingrese la frecuencia de la clase No.1\n",
      "Si no desea ingresar más frecuencias oprima Enter\n",
      " 164\n"
     ]
    },
    {
     "name": "stdout",
     "output_type": "stream",
     "text": [
      "Puede ingresar 39 frecuencias más\n"
     ]
    },
    {
     "name": "stdin",
     "output_type": "stream",
     "text": [
      "\n",
      "Por favor ingrese la frecuencia de la clase No.1\n",
      "Si no desea ingresar más frecuencias oprima Enter\n",
      " 233\n"
     ]
    },
    {
     "name": "stdout",
     "output_type": "stream",
     "text": [
      "Puede ingresar 38 frecuencias más\n"
     ]
    },
    {
     "name": "stdin",
     "output_type": "stream",
     "text": [
      "\n",
      "Por favor ingrese la frecuencia de la clase No.1\n",
      "Si no desea ingresar más frecuencias oprima Enter\n",
      " 180\n"
     ]
    },
    {
     "name": "stdout",
     "output_type": "stream",
     "text": [
      "Puede ingresar 37 frecuencias más\n"
     ]
    },
    {
     "name": "stdin",
     "output_type": "stream",
     "text": [
      "\n",
      "Por favor ingrese la frecuencia de la clase No.1\n",
      "Si no desea ingresar más frecuencias oprima Enter\n",
      " 72\n"
     ]
    },
    {
     "name": "stdout",
     "output_type": "stream",
     "text": [
      "Puede ingresar 36 frecuencias más\n"
     ]
    },
    {
     "name": "stdin",
     "output_type": "stream",
     "text": [
      "\n",
      "Por favor ingrese la frecuencia de la clase No.1\n",
      "Si no desea ingresar más frecuencias oprima Enter\n",
      " 15\n"
     ]
    },
    {
     "name": "stdout",
     "output_type": "stream",
     "text": [
      "Puede ingresar 35 frecuencias más\n"
     ]
    },
    {
     "name": "stdin",
     "output_type": "stream",
     "text": [
      "\n",
      "Por favor ingrese la frecuencia de la clase No.1\n",
      "Si no desea ingresar más frecuencias oprima Enter\n",
      " \n"
     ]
    },
    {
     "data": {
      "text/plain": [
       "()"
      ]
     },
     "execution_count": 2,
     "metadata": {},
     "output_type": "execute_result"
    }
   ],
   "source": [
    "import Gen_data_tf\n",
    "from Gen_data_tf import G_frecuencia\n",
    "nombre=input(\"Por favor ingrese el nombre del archivo de datos con la extensión .txt, por ejemplo: Datos_1.txt:\\n\")\n",
    "G_frecuencia(nombre)"
   ]
  },
  {
   "cell_type": "code",
   "execution_count": 3,
   "metadata": {},
   "outputs": [],
   "source": [
    "# r_i=[]\n",
    "# for i in intervalos:\n",
    "#     r_i.append((i[0]/1000,i[1]/1000))\n",
    "# print(r_i)"
   ]
  },
  {
   "cell_type": "markdown",
   "metadata": {},
   "source": [
    "## Generación de datos aleatorios normales\n",
    "Genera datos aleatorios normales a partir de la media, la desviación estándar, el número de dato y el número de decimales indicados.\n",
    "\n",
    "**Por ejemplo:**\n",
    "Si se desea tener un archivo llamado D_normales.txt, de 500 valores aleatorios con tres decimales, y con de distribución normal de media 100 y desviación estandar 15. \n",
    "\n",
    "Se debe ingresar:\n",
    "- Nombre = D_normales.txt  \n",
    "- Número de datos= 500   \n",
    "- Número de dicimales= 3  \n",
    "- Media= 100  \n",
    "- Desviación estandar= 15   "
   ]
  },
  {
   "cell_type": "code",
   "execution_count": null,
   "metadata": {},
   "outputs": [],
   "source": [
    "import Gen_data_tf\n",
    "from Gen_data_tf import G_normal\n",
    "nombre=input(\"Por favor ingrese el nombre del archivo de datos con la extensión .txt, por ejemplo: Datos_1.txt:\\n\")\n",
    "G_normal(nombre)"
   ]
  }
 ],
 "metadata": {
  "kernelspec": {
   "display_name": "Python 3",
   "language": "python",
   "name": "python3"
  },
  "language_info": {
   "codemirror_mode": {
    "name": "ipython",
    "version": 3
   },
   "file_extension": ".py",
   "mimetype": "text/x-python",
   "name": "python",
   "nbconvert_exporter": "python",
   "pygments_lexer": "ipython3",
   "version": "3.7.4"
  }
 },
 "nbformat": 4,
 "nbformat_minor": 4
}
