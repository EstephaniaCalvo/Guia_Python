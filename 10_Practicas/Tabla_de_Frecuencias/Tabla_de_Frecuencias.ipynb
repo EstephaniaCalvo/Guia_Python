{
 "cells": [
  {
   "cell_type": "markdown",
   "metadata": {},
   "source": [
    "# **Tabla de Frecuencias**"
   ]
  },
  {
   "cell_type": "markdown",
   "metadata": {},
   "source": [
    "Es una herramienta de la estadística descriptiva que permite organizar un conjunto de datos o muestra, mediante la distribución de sus frecuencias absoluta y relativa, de variables cuantitativas como cualitativas ordinales, así como también para datos individuales o agrupados.\n",
    "\n",
    "El análisis de una tabla de frecuencias se puede apoyar en su histograma y en las medidas de centramiento y dispersión de la muestra.\n",
    "\n",
    "Las medidas de centramiento más utilizadas son la media, la mediana y la moda, está última puede ser múltiple como muestra el siguiente ejemplo, y las medidas de dispersión más utilizadas son la desviación estándar, el rango, y la varianza.\n",
    "\n",
    "### **Ejemplo**\n",
    "- #### Tabla de frecuencias\n",
    "![Tabla de frecuencias](Descripcion/Tabla.jpg \"Imagen Tabla de frecuencias\") \n",
    "- #### Medidas de centramiento\n",
    "![Medidas](Descripcion/Medidas.jpg \"Imagen Medidas\")  \n",
    "- #### Histograma\n",
    "![Histograma](Descripcion/Histograma.png \"Imagen Histograma\")  "
   ]
  },
  {
   "cell_type": "markdown",
   "metadata": {},
   "source": [
    "## **Índice**\n",
    "\n",
    "- [Ejemplo: Monitoreo de temperatura](Ejemplo/Ej_Monitoreo_de_Temperaturas.ipynb#Ejemplo \"Ir al ejemplo\")\n",
    "- [Práctica](Practica/Practica_TF.ipynb)\n",
    "- [Análisis del problema](Practica/Programa/Analisis.ipynb \"Ir al análisis del problema\")\n",
    "- [Instrucciones del programa](Practica/Programa/Instrucciones.ipynb \"Ir a las instrucciones del programa\")\n",
    "- [Código del Programa](Practica/Programa/Tabla_de_Frecuencias.py \"Ir a archivo del programa\") "
   ]
  }
 ],
 "metadata": {
  "kernelspec": {
   "display_name": "Python 3",
   "language": "python",
   "name": "python3"
  },
  "language_info": {
   "codemirror_mode": {
    "name": "ipython",
    "version": 3
   },
   "file_extension": ".py",
   "mimetype": "text/x-python",
   "name": "python",
   "nbconvert_exporter": "python",
   "pygments_lexer": "ipython3",
   "version": "3.7.4"
  }
 },
 "nbformat": 4,
 "nbformat_minor": 4
}
