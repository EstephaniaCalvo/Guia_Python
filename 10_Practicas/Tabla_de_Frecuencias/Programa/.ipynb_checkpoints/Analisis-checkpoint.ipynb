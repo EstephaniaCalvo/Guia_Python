{
 "cells": [
  {
   "cell_type": "markdown",
   "metadata": {},
   "source": [
    "# **Análisis - Tabla de Frecuencias**\n",
    "\n",
    "- ### Objetivo\n",
    "Hacer un programa que al ingresar uno o varios archivos de datos, asociados a un numero de clase, y a un color, organizados en un archivo de entradas, calcule para cada paquete de datos las medidas de centramiento, las de dispersión y la tabla de frecuencias, genere un archivo de excel con los resultados anteriores y guarde el histograma.\n",
    "\n",
    "**Notas:** \n",
    "- En caso de que sean más de 1 paquete de datos guarde el histograma comparativo.\n",
    "- Si existe una moda múltiple el programa debe poner en una lista todas las modas encontradas.\n",
    "- Si el color índicado es 'a' el programa debe escoger un color aleatorio.\n",
    "\n",
    "- ### Entradas\n",
    "    **0.** [Entradas:](../Ejemplo/Ej_TF.txt \"Ver archivo del ejemplo\") Archivo de texto.txt con los nombres de los archivos de datos, el número de clase de la tabla de frecuencias y el color del histograma.   \n",
    "    **1. Datos:** Archivos de texto.txt, con los datos que se quieren analizar. (Ver [Datos_1](../Ejemplo/Ej_TF_Datos_1.txt \"Ver archivo de ejemplo\") y [Datos_2](../Ejemplo/Ej_TF_Datos_2.txt \"Ver archivo de ejemplo\") del ejemplo)    \n",
    "    **2. Número de clases:** La cantidad de clases en las que se van a dividir los datos.   \n",
    "    **3.** [Color del histograma:](https://matplotlib.org/3.1.1/gallery/color/named_colors.html \"Ver paletas de colores\") El color para graficar el histograma.   \n",
    "\n",
    "- ### Salidas\n",
    "    **0. Carpeta Resultados:** Carpeta en la misma ubicación del programa llamada \"Resultados\" para almacenar los resultados del programa.   \n",
    "    \n",
    "    **1. Resultados.xlsx:** Archivos de excel para cada set de datos que deben contener la tabla de frecuencias, las medidas de centramiento y dispersión en hojas separadas. (Ver archivos en la carpeta resultados del ejemplo)   \n",
    "    \n",
    "    **2.** Histograma: Imagenes .png, con el histograma de cada set de datos. (Ver histogramas de ejemplo [Hist_1](../Ejemplo/Resultados/Histograma_de_Ej_TF_Datos_1.png), [Hist_2](../Ejemplo/Resultados/Histograma_de_Ej_TF_Datos_2.png))                      \n",
    "    \n",
    "    **3.** [Histograma Comparativo:](../Ejemplo/Resultados/Histograma_Comparativo_de_Ej_TF.png) Imagen .png, con el histograma comparativo de los set de datos.  \n",
    "\n",
    "- ### Algoritmo\n",
    "    0. Pedir y leer archivo de entradas.\n",
    "    1. Leer y almacenar los datos.\n",
    "    2. Calcular las medidas de centramiento y dispersión (media, mediana, moda, desviación estándar para una muestra, rango y varianza)\n",
    "    3. Crear la tabla de frecuencias  \n",
    "        3.1. Definir las clases    \n",
    "        3.2. Calcular las frecuencias (absoluta, absoluta acumulada, relativa, relativa acumulada)    \n",
    "    4. Crear y guardar el archivo.xlc con los resultados.\n",
    "    5. Crear y guardar el histograma.\n",
    "    6. Crear y guardar el histograma comparativo, si hay más de un archivo de datos."
   ]
  },
  {
   "cell_type": "markdown",
   "metadata": {},
   "source": [
    "---\n",
    "| [**Home**](../Tabla_de_Frecuencias.ipynb \"Ir a la página principal del algoritmo\")|\n",
    "| :--------: |"
   ]
  }
 ],
 "metadata": {
  "kernelspec": {
   "display_name": "Python 3",
   "language": "python",
   "name": "python3"
  },
  "language_info": {
   "codemirror_mode": {
    "name": "ipython",
    "version": 3
   },
   "file_extension": ".py",
   "mimetype": "text/x-python",
   "name": "python",
   "nbconvert_exporter": "python",
   "pygments_lexer": "ipython3",
   "version": "3.7.4"
  }
 },
 "nbformat": 4,
 "nbformat_minor": 4
}
