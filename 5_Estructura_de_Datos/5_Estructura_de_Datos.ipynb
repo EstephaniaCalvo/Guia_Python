{
 "cells": [
  {
   "cell_type": "markdown",
   "metadata": {},
   "source": [
    "![Fig3_Encabezado.png](../Fig3_Encabezado.png)\n",
    "\n",
    "---------------------"
   ]
  },
  {
   "cell_type": "markdown",
   "metadata": {},
   "source": [
    "# 5. Estructuras de Datos Básicas <a id='5_Estructura-de-Datos-Basicas'></a>"
   ]
  },
  {
   "cell_type": "markdown",
   "metadata": {},
   "source": [
    "### [5.1. Listas](#5.1_Listas)   \n",
    ">[5.1.1. Métodos de las Listas](#5.1.1_Metodos-de-las-Listas)  \n",
    ">>[5.1.1.1. Métodos de Adición](#5.1.1.1_Metodos-de-Adicion)  \n",
    "[5.1.1.2. Métodos de Eliminación](#5.1.1.2_Metodos-de-Eliminacion)  \n",
    "[5.1.1.3. Métodos de Orden](#5.1.1.3_Metodos-de-Orden)  \n",
    "[5.1.1.4. Otros Métodos](#5.1.1.4_Otros-Métodos)  \n",
    "\n",
    ">[5.1.2. Operaciones](#5.1.2_Operaciones)\n",
    ">> [5.1.2.1. Máximo y Mínimo](#5.1.2.1_Máximo-y-Mínimo)  \n",
    "[5.1.2.2. Sumatorias](#5.1.2.2_Sumatorias)  \n",
    "\n",
    ">[5.1.3. Listas Anidadas](#5.1.3_Listas-Anidadas)  \n",
    ">> [5.1.3.1. Matrices](#5.1.3.1_Matrices)  \n",
    "[5.1.3.2 Lista de Orden n](#5.1.3.2_Listas-de-Orden-n)  \n",
    "[5.1.3.3 Índices en Listas Anidadas](#5.1.3.3_Indices-en-Listas-Anidadas)  \n",
    "[5.1.3.4 Árboles](#5.1.3.4_Arboles)  \n",
    "\n",
    ">[5.1.4. List Comprenhension](#5.1.4_List-Comprenhension)  \n",
    "\n",
    "### [5.2. Tuplas](#5.2_Tuplas)   \n",
    ">[5.2.1. Conversión a Lista](#5.2.1_Conversion-a-Lista)\n",
    "\n",
    "### [5.3. Diccionarios](#5.3_Diccionarios)   \n",
    ">[5.3.1. Métodos de los Diccionarios](#5.3.1_Metodos-de-los-Diccionarios)  \n",
    "\n",
    "### [5.4. Conjuntos](#5.4_Conjuntos)  "
   ]
  },
  {
   "cell_type": "markdown",
   "metadata": {},
   "source": [
    "---"
   ]
  },
  {
   "cell_type": "markdown",
   "metadata": {},
   "source": [
    "<a id='CapListas'></a>  \n",
    "\n",
    "## **5.1. Listas** <a id='5.1_Listas'></a>  \n",
    "Uno de los tipos de dato más útiles en Python son las listas `list`. Como se mencionó en el capítulo anterior es un objeto iterable similar al array que se usa en otros lenguajes, pero tiene algunas características que hacen que su uso sea muy práctico y flexible.\n",
    "\n",
    "Una lista se crea usando corchetes `[ ]` y separando los elementos por comas. Cada elemento de una lista puede ser de cualquier tipo de dato así sea diferente al de los otros elementos. <a id='Min-eje_Lista'></a>\n",
    "\n",
    "~~~python\n",
    "# Mini_Ejemplo: Lista\n",
    "\n",
    "Lista=[\"1\",2,3.4,\"cinco\",print,True,None,[4,\"Toro\"]]\n",
    "\n",
    "for i in Lista:\n",
    "    print(type(i))\n",
    "~~~"
   ]
  },
  {
   "cell_type": "code",
   "execution_count": null,
   "metadata": {},
   "outputs": [],
   "source": [
    "# Pase aquí el mini ejemplo anterior"
   ]
  },
  {
   "cell_type": "markdown",
   "metadata": {},
   "source": [
    "<a id='Listas'></a>\n",
    "## 5.1.1. Métodos de las Listas <a id='5.1.1_Metodos-de-las-Listas'></a>\n",
    "Al ser un iterable como un string en las listas el [manejo de los índices](../4_Bucles_e_Iterables/4_Bucles_e_Iterables.ipynb#Indices \"Ir al apartado 4.1.2_Índices\") y los [métodos báiscos](../4_Bucles_e_Iterables/4_Bucles_e_Iterables.ipynb#Metodos-Basicos \"Ir al apartado 4.1.1 Metodos Básicos\") que se vieron en el capítulo anterior (`len`, `count`, e `index`)  se comportan igual, sin embargo, las listas son objetos mutables, es decir, que se pueden cambiar, adicionando, eliminando y ordenando sus elementos. En los siguientes apartados se enseñarán los métodos que permiten modificarlas. <a id='Min-eje_Cambio-de-Elementos'></a>\n",
    "\n",
    "~~~python\n",
    "# Mini_Ejemplo: Cambio de Elementos.\n",
    "\n",
    "cad_enteros=[\"1\",\"2\",\"3\",\"4\",\"5\"]\n",
    "\n",
    "for i in range(len(cad_enteros)):\n",
    "    cad_enteros[i]=str(int(cad_enteros[i])+1)+\" gatos\"\n",
    "    \n",
    "print(cad_enteros)\n",
    "~~~"
   ]
  },
  {
   "cell_type": "code",
   "execution_count": null,
   "metadata": {},
   "outputs": [],
   "source": [
    "# Pase aquí el mini ejemplo anterior"
   ]
  },
  {
   "cell_type": "markdown",
   "metadata": {},
   "source": [
    "### 5.1.1.1. Métodos de Adición <a id='5.1.1.1_Metodos-de-Adicion'></a>\n",
    "- **Append:** <a id='Min-eje_append'></a>\n",
    "Con este método se puede agregar un elemento al final de la lista así sea una lista vacía.\n",
    "\n",
    "~~~python\n",
    "# Mini_Ejemplo: append\n",
    "\n",
    "impares=[]\n",
    "\n",
    "for i in range(1,100,2):\n",
    "    impares.append(i)\n",
    "    \n",
    "print(impares)\n",
    "~~~"
   ]
  },
  {
   "cell_type": "code",
   "execution_count": null,
   "metadata": {},
   "outputs": [],
   "source": [
    "# Pase aquí el mini ejemplo anterior"
   ]
  },
  {
   "cell_type": "markdown",
   "metadata": {},
   "source": [
    "- **Extend:** <a id='Min-eje_extend'></a>\n",
    " Este método agrega los elementos de una lista al final de otra. El siguiente Mini_ejemplo muestra como se agreaga a la `lista_a` cada uno de los elementos de la `lista_b`.\n",
    " \n",
    "~~~python\n",
    "# Mini_Ejemplo: extend\n",
    "\n",
    "lista_a=[1,2,3]\n",
    "lista_b=[\"a\",\"b\",\"c\"]\n",
    "\n",
    "lista_a.extend(lista_b)\n",
    "\n",
    "print(lista_a)\n",
    "~~~"
   ]
  },
  {
   "cell_type": "code",
   "execution_count": null,
   "metadata": {},
   "outputs": [],
   "source": [
    "# Pase aquí el mini ejemplo anterior"
   ]
  },
  {
   "cell_type": "markdown",
   "metadata": {},
   "source": [
    "###### **Ojo:** Si se usa el método `append` en Mini_ejemplo anterior se agregaría la `lista_b` como un elemento en la `lista_a`. <a id='Min-eje_append-Lista'></a>\n",
    " \n",
    "~~~python\n",
    "# Mini_Ejemplo: append Lista\n",
    "\n",
    "lista_a=[1,2,3]\n",
    "lista_b=[\"a\",\"b\",\"c\"]\n",
    "\n",
    "lista_a.append(lista_b)\n",
    "\n",
    "print(lista_a)\n",
    "~~~"
   ]
  },
  {
   "cell_type": "code",
   "execution_count": null,
   "metadata": {},
   "outputs": [],
   "source": [
    "# Pase aquí el mini ejemplo anterior"
   ]
  },
  {
   "cell_type": "markdown",
   "metadata": {},
   "source": [
    "- **Insert:** <a id='Min-eje_insert'></a>\n",
    "Con este método es posible agregar un elemento a una lista en una posición específica. Hay que tener especial cuidado con este método ya que requiere tener un correcto [manejo de los índices](../4_Bucles_e_Iterables/4_Bucles_e_Iterables.ipynb#Indices \"Ir al apartado 4.1.2_Índices\") para no obtener un error de indexación.\n",
    "\n",
    "~~~python\n",
    "# Mini_Ejemplo: insert\n",
    "\n",
    "lista=[1,5]\n",
    "\n",
    "lista.insert(1,3) #Insertar en la posición 2, el elmento 1.5. (Recuerde que el índice de la posición 2 es 1).\n",
    "\n",
    "print(lista)\n",
    "~~~"
   ]
  },
  {
   "cell_type": "code",
   "execution_count": null,
   "metadata": {},
   "outputs": [],
   "source": [
    "# Pase aquí el mini ejemplo anterior"
   ]
  },
  {
   "cell_type": "markdown",
   "metadata": {},
   "source": [
    "### 5.1.1.2. Métodos de Eliminación <a id='5.1.1.2_Metodos-de-Eliminacion'></a>"
   ]
  },
  {
   "cell_type": "markdown",
   "metadata": {},
   "source": [
    "- **pop:**<a id='Min-eje_pop-con-indices'></a>\n",
    "Este método elimina un elemento indicando el índice de este, si no se define el índice por defecto se eliminará el último elemento, además de eliminar también guarda en memoria el elemento eliminado, por lo cual si se necesita es posible guardarlos en una variable.\n",
    "\n",
    "~~~python\n",
    "# Mini_Ejemplo: pop\n",
    "\n",
    "lista_a=[1,2,3,4,5,6]\n",
    "\n",
    "for i in range(len(lista_a)):\n",
    "    eliminado_a=lista_a.pop()\n",
    "    print(\"El elemento eliminado No.\",i+1,\" es:\",eliminado_a,\"y ahora la lista_a es:\",lista_a,\"\\n\")\n",
    "~~~"
   ]
  },
  {
   "cell_type": "code",
   "execution_count": null,
   "metadata": {},
   "outputs": [],
   "source": [
    "# Pase aquí el mini ejemplo anterior"
   ]
  },
  {
   "cell_type": "markdown",
   "metadata": {},
   "source": [
    "<a id='Min-eje_pop-con-indices'></a>\n",
    "Al igual que con el método insert se debe tener un buen [manejo de los índices](../4_Bucles_e_Iterables/4_Bucles_e_Iterables.ipynb#Indices \"Ir al apartado 4.1.2_Índices\") para no obtener un error de indexación.\n",
    "\n",
    "Si elimina un elemento diferente al último los índices de la lista van a cambiar. Por ejemplo, el siguiente Mini_ejemplo muestra como eliminar los elementos en las posiciones impares de la `lista_b inicial`, es decir, los elementos 1, 3, y 5, con los índices [0], [1], [3] respectivamente, sin embargo, estos índices cambiaran una vez se empiecen a eliminar los elementos.\n",
    "\n",
    "~~~python\n",
    "# Mini_Ejemplo: pop con índices\n",
    "\n",
    "lista_b=[1,2,3,4,5,6]\n",
    "j=0\n",
    "while j<=len(lista_b)/2:\n",
    "    eliminado_b=lista_b.pop(j)\n",
    "    print(\"Se ha eliminado el elemento\",eliminado_b,\"con índice\",j)\n",
    "    print(\"Ahora la lista_b es:\",lista_b,\"y sus nuevos índices son\",list(range(len(lista_b))),\"respectivamente\\n\")\n",
    "    j+=1\n",
    "~~~"
   ]
  },
  {
   "cell_type": "code",
   "execution_count": null,
   "metadata": {},
   "outputs": [],
   "source": [
    "# Pase aquí el mini ejemplo anterior"
   ]
  },
  {
   "cell_type": "markdown",
   "metadata": {},
   "source": [
    "- **remove:**<a id='Min-eje_remove'></a>\n",
    "Con este método se puede eliminar el elemento que se indique de la lista. En el siguiente Mini_Ejemplo se van a eliminar todos los elementos diferentes a un entero.\n",
    "\n",
    "~~~python\n",
    "# Mini_Ejemplo: remove\n",
    "\n",
    "lista_c=[\"Gatos\",2,9,3.1,0,\"Perros\"]\n",
    "\n",
    "for i in lista_c:\n",
    "    if type(i)!=int:\n",
    "        print(\"El elemento\",i,\"será eliminado \\n\")\n",
    "        lista_c.remove(i)\n",
    "print(\"Ahora lista_c es:\", lista_c)\n",
    "~~~"
   ]
  },
  {
   "cell_type": "code",
   "execution_count": null,
   "metadata": {},
   "outputs": [],
   "source": [
    "# Pase aquí el mini ejemplo anterior"
   ]
  },
  {
   "cell_type": "markdown",
   "metadata": {},
   "source": [
    "Si se indica un elemento que **no está** en la lista retornará un Value Error. <a id='Min-eje_remove-ValueError'></a>\n",
    "~~~python\n",
    "# Mini_Ejemplo: remove ValueError\n",
    "\n",
    "lista_c=[\"Gatos\",2,9,3.1,0,\"Perros\"]\n",
    "\n",
    "lista_c.remove(10000)\n",
    "\n",
    "\">>> ValueError: list.remove(x): x not in list\"\n",
    "~~~"
   ]
  },
  {
   "cell_type": "markdown",
   "metadata": {},
   "source": [
    "- **clear:**<a id='Min-eje_clear'></a>\n",
    "Este método elimina todos los elementos de la lista.\n",
    "\n",
    "~~~python\n",
    "# Mini_Ejemplo: clear\n",
    "\n",
    "Lista=[\"1\",2,3.4,\"cinco\",print,True,None,[4,\"Toro\"]]\n",
    "\n",
    "Lista.clear()\n",
    "\n",
    "print(\"Ahora Lista es:\", Lista)\n",
    "~~~"
   ]
  },
  {
   "cell_type": "code",
   "execution_count": null,
   "metadata": {},
   "outputs": [],
   "source": [
    "# Pase aquí el mini ejemplo anterior"
   ]
  },
  {
   "cell_type": "markdown",
   "metadata": {},
   "source": [
    "<a id='Orden'></a>\n",
    "### 5.1.1.3. Métodos de Orden <a id='5.1.1.3_Metodos-de-Orden'></a>"
   ]
  },
  {
   "cell_type": "markdown",
   "metadata": {},
   "source": [
    "- **reverse:**<a id='Min-eje_reverse'></a>\n",
    "Este método modifica la lista y presenta sus elementos en orden invertido.\n",
    "\n",
    "~~~python\n",
    "# Mini_Ejemplo: reverse\n",
    "\n",
    "Lista=[\"1\",2,3.4,\"cinco\",print,True,None,[4,\"Toro\"]]\n",
    "\n",
    "Lista.reverse()\n",
    "\n",
    "print(\"Ahora Lista es:\", Lista)\n",
    "~~~"
   ]
  },
  {
   "cell_type": "code",
   "execution_count": null,
   "metadata": {},
   "outputs": [],
   "source": [
    "# Pase aquí el mini ejemplo anterior"
   ]
  },
  {
   "cell_type": "markdown",
   "metadata": {},
   "source": [
    "- **sort:**<a id='Min-eje_sort'></a>\n",
    "Este método ordena de forma ascendente los elementos de la lista. Tiene dos parámetros `key` el cual se verá al [Ordenar una \"Matriz\"](#Min-eje_Ordenar-una-Matriz \"Ir al sección\") y `reverse`, que sirve cuando se desea ordenar los elementos de forma descendente.\n",
    "\n",
    "~~~python\n",
    "# Mini_Ejemplo: sort\n",
    "\n",
    "lista_d=[1000, 23, 12, 987, 9.76, 51, 0.98]\n",
    "lista_e=[\"g\",\"z\",\"m\",\"2\",\"a\",\"0\",\",\",]\n",
    "\n",
    "lista_d.sort()\n",
    "lista_e.sort(reverse=True)\n",
    "\n",
    "print(\"Ahora lista_d esta ordenada y es:\", lista_d)\n",
    "print(\"Ahora lista_e esta ordenada de forma descendente y es:\", lista_e)\n",
    "~~~"
   ]
  },
  {
   "cell_type": "code",
   "execution_count": null,
   "metadata": {},
   "outputs": [],
   "source": [
    "# Pase aquí el mini ejemplo anterior"
   ]
  },
  {
   "cell_type": "markdown",
   "metadata": {},
   "source": [
    "Aunque las listas pueden tener elemento de tipos diferentes, el metodo sort no puede ordenar una lista que tenga una mezcla de datos numéricos y de texto, si se intenta arrojará un TypeError. <a id='Min-eje_sort-TypeError'></a>\n",
    "\n",
    "~~~python\n",
    "# Mini_Ejemplo: sort TypeError\n",
    "\n",
    "lista_e=[\"1\",2,\"5\",3,4]\n",
    "\n",
    "lista_e.sort()\n",
    "\n",
    "print(\"Ahora Lista es:\", lista_e)\n",
    "\n",
    "\"TypeError: '<' not supported between instances of 'int' and 'str'\"\n",
    "~~~"
   ]
  },
  {
   "cell_type": "markdown",
   "metadata": {},
   "source": [
    "- **sorted:**<a id='Min-eje_sorted'></a>\n",
    "Esta función realiza una copia de la lista ordenada en una nueva variable sin modificar la lista original.\n",
    "\n",
    "Como muestra el siguiente Mini_Ejemplo, si se intenta hacer con el método `.sort` modificará la lista original y no guardará la lista ordenada en la nueva variable.\n",
    "\n",
    "~~~python\n",
    "# Mini_Ejemplo: sorted\n",
    "\n",
    "original_1=[1000, 23, 12, 987, 9.76, 51, 0.98]\n",
    "original_2=[\"g\",\"z\",\"m\",\"2\",\"a\",\"0\",\",\",]\n",
    "\n",
    "copia_1=original_1.sort()\n",
    "copia_2=sorted(original_2)\n",
    "\n",
    "print(\"Ahora original_1 es:\", original_1)\n",
    "print(\"copia_1 es:\",copia_1,\"\\n\")\n",
    "\n",
    "print(\"original_2 es:\", original_2)\n",
    "print(\"copia_2 es:\",copia_2)\n",
    "~~~"
   ]
  },
  {
   "cell_type": "code",
   "execution_count": null,
   "metadata": {},
   "outputs": [],
   "source": [
    "# Pase aquí el mini ejemplo anterior"
   ]
  },
  {
   "cell_type": "markdown",
   "metadata": {},
   "source": [
    "### 5.1.1.4. Otros Métodos <a id='5.1.1.4_Otros-Métodos'></a>"
   ]
  },
  {
   "cell_type": "markdown",
   "metadata": {},
   "source": [
    "- **copy:**<a id='Min-eje_copy'></a>\n",
    "Este método realiza una copia de la lista indicada en una nueva variable.\n",
    "\n",
    "Esto es muy importante, porque con las listas se puede incurrir en el error de duplicar una variable, es decir, etiquetar dos veces un mismo objeto, como se explicó en la sección de los [operadores de identidad](../3_Estructuras_Logicas/3_Estructuras_Logicas.ipynb/#Min-eje_Operadores-de-Identidad).\n",
    "\n",
    "Como se verá en el siguiente ejemplo, al modificar `copia_real` no se modifica el original, pero si se modifica `copia_falsa` la lista original sufrirá los mismos cambios.\n",
    "\n",
    "~~~python\n",
    "# Mini_Ejemplo: copy\n",
    "\n",
    "original=[\"1\",2,3.4,\"cinco\"]\n",
    "copia_real=original.copy()\n",
    "copia_falsa=original\n",
    "\n",
    "print(\"Este es la lista original\",original)\n",
    "print(\"Esta es la lista copia\",copia_real)\n",
    "print(\"Esta es la lista copia\",copia_falsa,\"\\n\")\n",
    "\n",
    "copia_real.append(\"cambio_1\")\n",
    "print(\"Ahora copia_real es:\",copia_real)\n",
    "print(\"Y la lista original es:\",original,\"\\n\")\n",
    "\n",
    "copia_falsa.append(\"camibo_2\")\n",
    "print(\"Ahora copia_real es:\",copia_falsa)\n",
    "print(\"Y la lista original es:\",original,\"\\n\")\n",
    "~~~"
   ]
  },
  {
   "cell_type": "code",
   "execution_count": null,
   "metadata": {},
   "outputs": [],
   "source": [
    "# Pase aquí el mini ejemplo anterior"
   ]
  },
  {
   "cell_type": "markdown",
   "metadata": {},
   "source": [
    "<a id='Operaciones'></a>\n",
    "\n",
    "## 5.1.2. Operaciones <a id='5.1.2_Operaciones'></a>\n",
    "\n",
    "A continuación, se mostrará como retornar el máximo, el mínimo, y la sumatoria de una lista compuesta por datos numéricos. Estas operaciones también se pueden realizar con las [tuplas](#5.2_Tuplas \"Ir al apartado 5.2 Tuplas\") que se explicarán más adelante."
   ]
  },
  {
   "cell_type": "markdown",
   "metadata": {},
   "source": [
    "### 5.1.2.1. Máximo y Mínimo <a id='5.1.2.1_Máximo-y-Mínimo'></a>\n",
    "Se puede averiguar cual es el valor máximo y mínimo, con las palabras reservadas `max` y `min`. <a id='Min-eje_Maximo-y-Minimo'></a>\n",
    "\n",
    "~~~python\n",
    "# Mini_Ejemplo: Máximo y Mínimo\n",
    "\n",
    "edades=[23,73,74,18,17,59]\n",
    "\n",
    "edad_maxima=max(edades)\n",
    "edad_minima=min(edades)\n",
    "\n",
    "print(\"La edad máxima es:\",edad_maxima)\n",
    "print(\"La edad mínima es:\",edad_minima)\n",
    "~~~"
   ]
  },
  {
   "cell_type": "code",
   "execution_count": null,
   "metadata": {},
   "outputs": [],
   "source": [
    "# Pase aquí el mini ejemplo anterior"
   ]
  },
  {
   "cell_type": "markdown",
   "metadata": {},
   "source": [
    "### 5.1.2.2. Sumatorias <a id='5.1.2.2_Sumatorias'></a>\n",
    "Con la palabra reservada `sum` se puede hacer la sumatoria de los elementos de una lista.<a id='Min-eje_Sumatoria'></a>\n",
    "\n",
    "~~~python\n",
    "# Mini_Ejemplo: Sumatoria\n",
    "\n",
    "ingresos=[12.4,30.9,10.5,100,8.5]\n",
    "\n",
    "ingresos_totales=sum(ingresos)\n",
    "\n",
    "print(\"Los ingresos totales son:\",ingresos_totales)\n",
    "~~~"
   ]
  },
  {
   "cell_type": "code",
   "execution_count": null,
   "metadata": {},
   "outputs": [],
   "source": [
    "# Pase aquí el mini ejemplo anterior"
   ]
  },
  {
   "cell_type": "markdown",
   "metadata": {},
   "source": [
    "<a id='Anidadas'></a>\n",
    "## 5.1.3. Listas Anidadas <a id='5.1.3_Listas-Anidadas'></a>\n",
    "\n",
    "Las listas anidadas son listas dentro de listas. Esta estructura es especialmente útil porque con ella es posible emular la estructura de una matriz, pirámide, un árbol, etc, lo cual ayuda mucho en el momento de organizar los datos.\n",
    "\n",
    "### 5.1.3.1. Matrices <a id='5.1.3.1_Matrices'></a>\n",
    "\n",
    "Una \"matriz\" es una lista anidada donde las filas son la cantidad de sublistas y las columnas son la cantidad de elementos de las sublistas. Es importante que todas las sublistas tengan la misma cantidad de elementos. \n",
    "\n",
    "###### **Nota:** Si se necesita tener una matriz para operarla matemáticamente (sumarla, restarla, sacar su determinante, su matriz inversa o su transpuesta), lo mejor es crearla con un módulo matemático como [numpy](../9_Modulos/9_Modulos_y_Paquetes.ipynb#numpy \"Ir al apartado de numpy del capítulo 9. Módulos y Paquetes\").\n",
    "\n",
    "$Coordenadas (x,y)=\\begin{pmatrix}\n",
    " 0 & 0 \\\\ \n",
    " 1 & 2 \\\\\n",
    " 2 & 4 \\\\\n",
    " 3 & 6\n",
    "\\end{pmatrix}$\n",
    "\n",
    "- Por ejemplo, la matriz anterior se puede representar en una lista anidada así:\n",
    "~~~python\n",
    "coordenadas_x_y=[[0,0],[1,2],[2,4],[3,6]]\n",
    "~~~\n",
    "o así\n",
    "~~~python\n",
    "coordenadas_x_y=[[0,0],\n",
    "                 [1,2],\n",
    "                 [2,4],\n",
    "                 [3,6]]\n",
    "~~~\n",
    "\n",
    "- **Recorrer una Matriz:** <a id='Min-eje_Recorrer-una-Matriz'></a>\n",
    "Para esto hace falta usar dos for anidados, el primero recorre la lista principal con las sublistas, y el segundo recorre los elementos de cada sublistas.\n",
    "\n",
    "~~~python\n",
    "# Mini_Ejemplo: Recorrer-una-Matriz\n",
    "\n",
    "coordenadas_x_y=[[0,0],[1,2],[2,4],[3,6]]\n",
    "\n",
    "for i in coordenadas_x_y:\n",
    "    print(\"Aquí entramos al elemento\",i,\"y esta sublista tiene los elementos:\")\n",
    "    for j in i:\n",
    "        print(j,\"\\n\")\n",
    "~~~"
   ]
  },
  {
   "cell_type": "code",
   "execution_count": null,
   "metadata": {},
   "outputs": [],
   "source": [
    "# Pase aquí el mini ejemplo anterior"
   ]
  },
  {
   "cell_type": "markdown",
   "metadata": {},
   "source": [
    "- **Llenar una Matriz:** <a id='Min-eje_Llenar-una-Matriz'></a>\n",
    "\n",
    "El siguiente ejemplo muestra cómo crear una matriz que guarde los valores de esta función, y=x^2, para x=0 hata x=10.\n",
    "\n",
    "~~~python\n",
    "# Mini_Ejemplo: Llenar-una-Matriz\n",
    "\n",
    "coordenadas_x_y=[]\n",
    "\n",
    "for i in range(11):\n",
    "    coordenadas_x_y.append([i,i**2])\n",
    "    \n",
    "print(coordenadas_x_y)\n",
    "~~~"
   ]
  },
  {
   "cell_type": "code",
   "execution_count": null,
   "metadata": {},
   "outputs": [],
   "source": [
    "# Pase aquí el mini ejemplo anterior"
   ]
  },
  {
   "cell_type": "markdown",
   "metadata": {},
   "source": [
    "- **Ordenar una Matriz:** <a id='Min-eje_Ordenar-una-Matriz'></a>\n",
    "\n",
    "Si se emplea el método [.sort()](#Min-eje_sort \"Ir al ejemplo del metodo sort\") del apartado anterior, las sublistas quedarán organizadas de acuerdo a su primer elemento. Para organizarla por una columna diferente hay que usar el parámetro key y la función [Lambda](../6_Funciones/6_Funciones.ipynb#Lambda).\n",
    "\n",
    "~~~python\n",
    "# Mini_Ejemplo: Ordenar-una-Matriz\n",
    "\n",
    "matriz=[[4,7,6],\n",
    "        [1,2,8],\n",
    "        [5,3,9]]\n",
    "\n",
    "print(\"Esta es la matriz original\\n\",matriz,\"\\n\")\n",
    "\n",
    "matriz.sort()\n",
    "print(\"Este es orden que da por defecto el método .sort(), es decir por la primera columna\\n\",matriz,\"\\n\")\n",
    "\n",
    "matriz.sort(key=lambda columna: columna[1])\n",
    "print(\"Esta es la matriz ordenada por la segunda columna:\\n\",matriz,\"\\n\")\n",
    "\n",
    "matriz.sort(key=lambda columna: columna[2])\n",
    "print(\"Esta es la matriz ordenada por la tercera columna:\\n\",matriz,\"\\n\")\n",
    "~~~"
   ]
  },
  {
   "cell_type": "code",
   "execution_count": null,
   "metadata": {},
   "outputs": [],
   "source": [
    "# Pase aquí el mini ejemplo anterior"
   ]
  },
  {
   "cell_type": "markdown",
   "metadata": {},
   "source": [
    "### 5.1.3.2 Lista de Orden n <a id='5.1.3.2_Listas-de-Orden-n'></a>\n",
    "\n",
    "Se puede etiquetar las listas según el nivel en el que se encuentren, por lo tanto, habrá listas de primer, segundo, tercer, cuarto, quinto orden ...\n",
    "\n",
    "- Lista de primer orden: Es la lista principal y **no está** contenida en ninguna otra lista. `[1,2,3,4,5]`\n",
    "- Lista de segundo orden: Es una lista que está en una lista. `[[1,2,3],[\"a\",\"b\",\"c\"],[\"uno\",\"dos\",\"tres\"]]`\n",
    "- Lista de tercer orden: Es una lista que está en una lista de segundo orden, es decir, una lista que está en una lista que está en una lista. \n",
    "~~~\n",
    "[\n",
    "[[1,2,3,4],[\"uno\",\"dos\",\"tres\",\"cuatro\"]], \n",
    "[[a,b,c],[\"araña\",\"buho\",\"cabra\"]],\n",
    "[[0,1,10,11],[0,1,2,3]]\n",
    "]\n",
    "~~~\n",
    "- Es la misma idea para las listas de n orden.\n",
    "\n",
    "### 5.1.3.3 Índices en Listas Anidadas <a id='5.1.3.3_Indices-en-Listas-Anidadas'></a>\n",
    "\n",
    "El manejo de los índices en estas listas es múltiple, por ejemplo, si se tiene una lista de segundo orden se necesitaran dos, uno para cada lista, [a][b], siendo [a] el índice de los elementos de la lista principal y [b] el índice de los elementos de las sublistas.\n",
    "\n",
    "De forma análoga, para una lista de tercer orden se necesitan tres índices [a][b][c], de igual manera con las de n orden. <a id='Min-eje_Indices-en-Listas-Anidadas'></a>\n",
    "\n",
    "~~~python\n",
    "# Mini_Ejemplo: Índices en Listas Anidadas.\n",
    "\n",
    "coordenadas_x_y=[[0,0],\n",
    "                 [1,2],\n",
    "                 [2,4],\n",
    "                 [3,6]]\n",
    "\n",
    "print(\"coordenadas_x_y=\",coordenadas_x_y,\"\\n\")\n",
    "print(\"El elemento\",coordenadas_x_y[2][1],\"tiene índice [2][1]\")\n",
    "~~~"
   ]
  },
  {
   "cell_type": "code",
   "execution_count": null,
   "metadata": {},
   "outputs": [],
   "source": [
    "# Pase aquí el mini ejemplo anterior"
   ]
  },
  {
   "cell_type": "markdown",
   "metadata": {},
   "source": [
    "<a id='Arboles'></a>\n",
    "### 5.1.3.4 Árboles <a id='5.1.3.4_Arboles'></a>\n",
    "\n",
    "Con las listas de orden n se pueden crear estructuras como árboles o pirámides. El siguiente Mini_Ejemplo contiene una estructura con listas de cuarto orden, con la cual se emula una estructura de árbol, para almacenar la información de tres personas como muestra el siguiente diagrama.\n",
    "![Fig1_Arbol](Fig1_Arbol.png \"Figura 1: Estructura de 'Árbol'\")\n",
    "\n",
    "El siguiente Mini_Ejemplo muestra como recuperar por medio de los índices los elementos, y hacer una comparación entre ellos.\n",
    "\n",
    "~~~python\n",
    "# Mini_Ejemplo: Índices en Listas de CuartoOrden\n",
    "\n",
    "personas=[\n",
    "    [\"Mauricio\",28,[\"azul\",73,\"tigres\",[[\"Alemania\",[\"Berlín\",\"Hamburgo\",\"Múnich\"]],[\"Escocia\",[\"Edimburgo\",\"Glasgow\",\"Inverness\"]]]]],\n",
    "    \n",
    "    [\"Juliana\",45,[\"azul\",8,\"delfines\",[[\"Rumania\",[\"Bucarest\",\"Timișoara\",\"Cluj-Napoca\"]],[\"Turquía\",[\"Estambul\",\"Éfeso\",\"Antalya\"]]]]],\n",
    "    \n",
    "    [\"Roberto\",18,[\"negro\",0,\"pandas rojos\",[[\"Indonesia\",[\"Yogyakarta\",\"Macasar\",\"Surabaya\"]],[\"Japón\",[\"Sapporo\",\"Nagoya\",\"Yokohama\"]]]]]\n",
    "]\n",
    "   \n",
    "elemento_recuperado=personas[1][2][3][1][1][1]\n",
    "print(\"El índice de\",elemento_recuperado,\"es [1][2][3][1][1][1]\\n\")\n",
    "\n",
    "if personas[0][2][0]==personas[1][2][0]:\n",
    "    print(\"El color favorito de\",personas[0][0],\"y\",personas[1][0],\"es el mismo.\\n\")\n",
    "\n",
    "for i in personas:\n",
    "    nombre=i[0]\n",
    "    edad=i[1]\n",
    "    color=i[2][0]\n",
    "    numero=i[2][1]\n",
    "    animales=i[2][2]\n",
    "    pais_1=i[2][3][0][0]\n",
    "    ciudad_1_pais_1=i[2][3][0][1][0]\n",
    "    ciudad_2_pais_1=i[2][3][0][1][1]\n",
    "    ciudad_3_pais_1=i[2][3][0][1][2]\n",
    "    pais_2=i[2][3][1][0]\n",
    "    ciudad_1_pais_2=i[2][3][1][1][0]\n",
    "    ciudad_2_pais_2=i[2][3][1][1][1]\n",
    "    ciudad_3_pais_2=i[2][3][1][1][2]\n",
    "    \n",
    "    print(nombre,\"tiene\",edad,\"años y le gusta el \"+str(color)+\", su número favorito es\",numero,\"y sus animales favoritos son los\", animales)\n",
    "    \n",
    "    print(\"Quiere viajar a\",pais_1,\"y conocer\",str(ciudad_1_pais_1)+\", \"+str(ciudad_2_pais_1)+\" y \"+str(ciudad_3_pais_1)+\".\")\n",
    "    \n",
    "    print(\"También quiere ir a\",pais_2,\"y conocer\",str(ciudad_1_pais_2)+\", \"+str(ciudad_2_pais_2)+\" y \"+str(ciudad_3_pais_2)+\".\\n\")\n",
    "~~~"
   ]
  },
  {
   "cell_type": "code",
   "execution_count": null,
   "metadata": {},
   "outputs": [],
   "source": [
    "# Pase aquí el mini ejemplo anterior"
   ]
  },
  {
   "cell_type": "markdown",
   "metadata": {},
   "source": [
    "<a id='Comprenhension'></a>\n",
    "\n",
    "## 5.1.4. List Comprenhesion <a id='5.1.4_List-Comprenhension'></a>\n",
    "\n",
    "Es una alternativa sintáctica para crear listas en una sola línea. Funciona para crear listas simples que no necesitan de condicionales para ser creadas y operara listas rápidamente.\n",
    "\n",
    "~~~python\n",
    "# Mini_Ejemplo: List Comprenhension.\n",
    "\n",
    "## Crearción tradicional.\n",
    "\n",
    "lista_normal=[]\n",
    "\n",
    "for i in range(1, 10):\n",
    "    lista_normal.append(i**3)\n",
    "    \n",
    "\n",
    "## Creación con list comprenhension.\n",
    "lista_rapida=[i**3 for i in range(1,10)]\n",
    "\n",
    "print(\"La lista creada de la forma tradicional es:\\n\",lista_normal)\n",
    "print(\"\\nLa lista creada con List Comprenhension es:\\n\",lista_rapida)\n",
    "~~~"
   ]
  },
  {
   "cell_type": "code",
   "execution_count": null,
   "metadata": {},
   "outputs": [],
   "source": [
    "# Pase aquí el mini ejemplo anterior"
   ]
  },
  {
   "cell_type": "markdown",
   "metadata": {},
   "source": [
    "- **Crear una Matriz:** <a id='Min-eje_List_Comprenhension_Matriz'></a>\n",
    "\n",
    "    El siguiente Mini_Ejemplo muestra como crear una matriz con List Comprenhension.\n",
    "\n",
    "~~~python\n",
    "# Mini_Ejemplo: Matriz con List Comprenhension.\n",
    "\n",
    "## Crearción tradicional.\n",
    "\n",
    "matriz_normal=[]\n",
    "\n",
    "for i in range(3):\n",
    "    sublista=[]\n",
    "    \n",
    "    for j in range(5):\n",
    "        sublista.append(round(j+i/7,2))\n",
    "        \n",
    "    matriz_normal.append(sublista)\n",
    "    \n",
    "## Creación con list comprenhension.\n",
    "\n",
    "matriz_rapida=[[ round(j+i/7,2) for j in range(5)] for i in range(3)]\n",
    "\n",
    "print(\"La matriz creada de la forma tradicional es:\\n\", matriz_normal)\n",
    "print(\"\\nLa matriz creada con List Comprenhension es:\\n\", matriz_rapida)\n",
    "\n",
    "~~~"
   ]
  },
  {
   "cell_type": "code",
   "execution_count": null,
   "metadata": {},
   "outputs": [],
   "source": [
    "# Pase aquí el mini ejemplo anterior"
   ]
  },
  {
   "cell_type": "markdown",
   "metadata": {},
   "source": [
    "- **Trasponer matriz:** <a id='Min-eje_List_Comprenhension_Matriz'></a>\n",
    "\n",
    "    El siguiente Mini_Ejemplo muestra como transponer una matriz con List Comprenhension.\n",
    "\n",
    "~~~python\n",
    "# Mini_Ejemplo: Transponer con List Comprenhension.\n",
    "\n",
    "matriz=[[1, 2, 3],\n",
    "        [\"a\", \"b\", \"c\"]]\n",
    "\n",
    "col=len(matriz[0]) # Columnas de la matriz\n",
    "fil=len(matriz) # Filas de la matriz\n",
    "\n",
    "matriz_transpuesta=[[matriz[j][i] for j in range(fil)] for i in range(col)]\n",
    "\n",
    "print(\"La matriz transpuesta de\", matriz, \"es:\\n\", matriz_transpuesta)\n",
    "~~~"
   ]
  },
  {
   "cell_type": "code",
   "execution_count": null,
   "metadata": {},
   "outputs": [],
   "source": [
    "# Pase aquí el mini ejemplo anterior"
   ]
  },
  {
   "cell_type": "markdown",
   "metadata": {},
   "source": [
    "<a id='Tuplas'></a>\n",
    "\n",
    "## **5.2. Tuplas** <a id='5.2_Tuplas'></a>"
   ]
  },
  {
   "cell_type": "markdown",
   "metadata": {},
   "source": [
    "Es una estructura de datos inmutable al igual que las cadenas, es decir, que no pueden ser modificadas después de creadas. A pesar de que no se pueden aplicar la mayoría de los métodos de las listas, cada elemento de una tupla puede ser cualquier tipo de objeto y simular otras estructuras con listas o tuplas anidadas.\n",
    "\n",
    "Una tupla se crea usando paréntesis `( )` y separando los elementos por comas.\n",
    "\n",
    "~~~python\n",
    "tupla = (\"1\",2,3.4,\"cinco\",print,True,None,[4,\"Toro\"],(5,\"Loros\"))\n",
    "~~~\n",
    "\n",
    "- Una de las cosas más comunes que se hacen con las tuplas es y listas es asignarle una variable a cada uno de sus elementos.\n",
    "\n",
    "~~~python\n",
    "# Mini_Ejemplo: Abrir Tuplas.\n",
    "\n",
    "tupla=([1,3,5,7,9,11],(2,4,6,8,10,12))\n",
    "x,y=tupla\n",
    "print(x)\n",
    "print(y)\n",
    "~~~"
   ]
  },
  {
   "cell_type": "code",
   "execution_count": null,
   "metadata": {},
   "outputs": [],
   "source": [
    "# Pase aquí el mini ejemplo anterior"
   ]
  },
  {
   "cell_type": "markdown",
   "metadata": {},
   "source": [
    "## 5.2.1. Conversión Lista <--> Tupla <a id='5.2.1_Conversion-a-Lista'></a>\n",
    "Para convertir un objeto en una lista se va a usar la función `list()`, y para convertirlo en una tupla `tuple()` <a id='Min-eje_Conversion-Lista-Tupla'></a>\n",
    "\n",
    "~~~python\n",
    "#Mini_Ejemplo: Conversión-Lista-Tupla\n",
    "\n",
    "numeros=(1,2,3,4)\n",
    "vocales=[\"a\",\"i\",\"u\",\"e\",\"o\"]\n",
    "\n",
    "print(\"El objeto numeros\",numeros,\"es de tipo\",type(numeros))\n",
    "print(\"El objeto vocales\",vocales,\"es de tipo\",type(vocales),\"\\n\")\n",
    "\n",
    "numeros=list(numeros)\n",
    "vocales=tuple(vocales)\n",
    "\n",
    "print(\"Ahora el objeto numeros\",numeros,\"es de tipo\",type(numeros))\n",
    "print(\"Ahora el objeto vocales\",vocales,\"es de tipo\",type(vocales))\n",
    "~~~"
   ]
  },
  {
   "cell_type": "code",
   "execution_count": null,
   "metadata": {},
   "outputs": [],
   "source": [
    "# Pase aquí el mini ejemplo anterior"
   ]
  },
  {
   "cell_type": "markdown",
   "metadata": {},
   "source": [
    "<a id='Diccionarios'></a>\n",
    "## **5.3. Diccionarios** <a id='5.3_Diccionarios'></a>\n",
    "Al igual que las lista es una estructura de datos mutable que puede almacenar cualquier tipo de objeto. En lo que se diferencia es en la manera de acceder a sus elementos, ya que, no es por medio de índices sino de claves `key`, haciendo que cada elemento de un diccionario se una pareja clave: valor.\n",
    "\n",
    "Un diccionario se crea usando llaves `{ }`, que contienen las parejas de claves y valores separadas por comas. Las claves deben ser un objeto inmutable como una cadena o una tupla y no pueden estar repetidas.\n",
    "\n",
    "En el siguiente ejemplo muestra cómo crear, recuperar un elemento y recorrer un diccionario. <a id='Min-eje_Diccionarios'></a>\n",
    "\n",
    "~~~python\n",
    "# Mini_Ejemplo: Diccionarios\n",
    "\n",
    "diccionario={'animal':'mariquita','clase':'insecto','color':{'cantidad':2,'colores':('rojo','negro')}}\n",
    "\n",
    "print(\"Para recuperar el elemento\",diccionario['clase'],\"debemos usar la calve 'clase'\\n\")\n",
    "\n",
    "for i in diccionario:\n",
    "    print(i, diccionario[i])\n",
    "~~~"
   ]
  },
  {
   "cell_type": "code",
   "execution_count": null,
   "metadata": {},
   "outputs": [],
   "source": [
    "# Pase aquí el mini ejemplo anterior"
   ]
  },
  {
   "cell_type": "markdown",
   "metadata": {},
   "source": [
    "<a id='MDic'></a>\n",
    "<a id='5.3.1_Metodos-de-los-Diccionarios'></a>\n",
    "## 5.3.1. Métodos de los Diccionarios \n",
    "A continuación, están los métodos principales de los diccionarios. \n",
    "\n",
    "- **dict( ):** <a id='Min-eje_dic'></a>\n",
    "Es una función que recibe como parámetro una representación de un diccionario y si es válida devuelve un diccionario de datos.\n",
    "\n",
    "~~~python\n",
    "# Mini_Ejemplo: dict( )\n",
    "\n",
    "diccionario=dict(marca=\"Asus\",colores=[\"plata\",\"negro\"], puerto_HDM=True)\n",
    "print(diccionario)\n",
    "~~~"
   ]
  },
  {
   "cell_type": "code",
   "execution_count": null,
   "metadata": {},
   "outputs": [],
   "source": [
    "# Pase aquí el mini ejemplo anterior"
   ]
  },
  {
   "cell_type": "markdown",
   "metadata": {},
   "source": [
    "- **zip( ):** <a id='Min-eje_zip'></a>\n",
    "Es una función devuelve una representación de un diccionario, recibe como parámetros dos iterables, el primero es el conjunto de calves y el segundo el conjunto de valores. La representación puede ser convertida a diccionario con el método `.dict()` como se mostró en el Mini_Ejemplo anterior.\n",
    "\n",
    "###### **Nota:** El primer iterable tiene que ser inmutable.\n",
    "\n",
    "~~~python\n",
    "# Mini_Ejemplo: zip()\n",
    "\n",
    "claves=(\"coordenada_x\",\"coordenada_y\",\"coordenada_z\")\n",
    "valores=[[0,1,2,3,4],[5,7,9,11,13],[0,0,1,1,2,2]]\n",
    "\n",
    "diccionario=dict(zip(claves, valores))\n",
    "print(diccionario)\n",
    "~~~"
   ]
  },
  {
   "cell_type": "code",
   "execution_count": null,
   "metadata": {},
   "outputs": [],
   "source": [
    "# Pase aquí el mini ejemplo anterior"
   ]
  },
  {
   "cell_type": "markdown",
   "metadata": {},
   "source": [
    "- **setdefault( ):** <a id='Min-eje_setdefault'></a>\n",
    "Al igual que el método `.append()` en las listas este método agrega una pareja clave-valor a un diccionario.\n",
    "\n",
    "~~~python\n",
    "# Mini_Ejemplo: setdefault( )\n",
    "\n",
    "diccionario={}\n",
    "print(\"diccionario:\",diccionario,\"\\n\")\n",
    "\n",
    "parejas=[\n",
    "    [\"biblioteca\",(\"Mario Carvjal\",\"Antio José Escobar\")],\n",
    "    [\"comuna\",(\"17\",\"8\")],\n",
    "    [\"comentarios_google\",[37,3]]\n",
    "]\n",
    "\n",
    "for i in parejas:\n",
    "    diccionario.setdefault(i[0],i[1])\n",
    "    \n",
    "print(\"Ahora el diccionario es:\",diccionario,\"\\n\")\n",
    "~~~"
   ]
  },
  {
   "cell_type": "code",
   "execution_count": null,
   "metadata": {},
   "outputs": [],
   "source": [
    "# Pase aquí el mini ejemplo anterior"
   ]
  },
  {
   "cell_type": "markdown",
   "metadata": {},
   "source": [
    "- **pop( ):** <a id='Min-eje_pop'></a>\n",
    "Al igual que en las listas con este método elimina una pareja clave-valor indicando la clave del elemento a eliminar, sin embargo, en los diccionarios si no se especifica la clave, al correrlo arrojará *TypeError: pop expected at least 1 arguments, got 0*.\n",
    "\n",
    "~~~python\n",
    "# Mini_Ejemplo: pop( )\n",
    "\n",
    "diccionario={'nombre':\"Adrian\",'turno':(\"A\",\"B\",\"C\"),'horas_extras':2.5}\n",
    "print(\"diccionario:\",diccionario,\"\\n\")\n",
    "\n",
    "diccionario.pop('turno')\n",
    "\n",
    "print(\"Ahora el diccionario es:\",diccionario,\"\\n\")\n",
    "\n",
    "claves=list(diccionario.keys())\n",
    "\n",
    "for i in claves:\n",
    "    diccionario.pop(i)\n",
    "    \n",
    "print(\"Ahora el diccionario es:\",diccionario,\"\\n\")\n",
    "~~~"
   ]
  },
  {
   "cell_type": "code",
   "execution_count": null,
   "metadata": {},
   "outputs": [],
   "source": [
    "# Pase aquí el mini ejemplo anterior"
   ]
  },
  {
   "cell_type": "markdown",
   "metadata": {},
   "source": [
    "- **items( ):** <a id='Min-eje_items'></a>\n",
    "Es un método que convierte diccionario en un tipo de objeto llamado `dict_items` que es similar a una lista donde cada pareja calve-elemento es una tupla, sin embargo, si se modifica el diccionario automáticamente también se modificará la lista de items, como si los dos objetos estuvieran enlazados.\n",
    "\n",
    "~~~python\n",
    "# Mini_Ejemplo: items()\n",
    "\n",
    "diccionario={'nombre':\"Adrian\",'turno':(\"A\",\"B\",\"C\"),'horas_extras':2.5}\n",
    "print(\"El diccionario es:\",diccionario,\"\\n\")\n",
    "\n",
    "lista_items=diccionario.items()\n",
    "print(\"La 'lista' de items es:\",lista_items,\"y es objeto tipo\",type(lista_items),\"\\n\")\n",
    "\n",
    "for i in lista_items:\n",
    "    print(i)\n",
    "    \n",
    "diccionario.pop('horas_extras')\n",
    "\n",
    "print(\"\\n\")\n",
    "print(\"Ahora el diccionario es:\",diccionario)\n",
    "print(\"Ahora la 'lista' de items es:\",lista_items)\n",
    "~~~"
   ]
  },
  {
   "cell_type": "code",
   "execution_count": null,
   "metadata": {},
   "outputs": [],
   "source": [
    "# Pase aquí el mini ejemplo anterior"
   ]
  },
  {
   "cell_type": "markdown",
   "metadata": {},
   "source": [
    "- **keys( ):** <a id='Min-eje_keys'></a>\n",
    "Es un método que devuelve un objeto tipo `dict_keys` que es similar a una lista con las claves de un diccionario, pero que está enlazada con el diccionario.\n",
    "\n",
    "~~~python\n",
    "# Mini_Ejemplo: keys( )\n",
    "\n",
    "diccionario={'nombre':\"Adrian\",'turno':(\"A\",\"B\",\"C\"),'horas_extras':2.5}\n",
    "print(\"diccionario:\",diccionario,\"\\n\")\n",
    "\n",
    "lista_claves=diccionario.keys()\n",
    "print(\"La 'lista' de las claves del diccionario es:\",lista_claves,\"\\n\")\n",
    "\n",
    "for i in lista_claves:\n",
    "    print(i)\n",
    "    \n",
    "diccionario.pop('horas_extras')\n",
    "\n",
    "print(\"\\n\")\n",
    "print(\"Ahora el diccionario es:\",diccionario)\n",
    "print(\"Ahora la 'lista' de items es:\",lista_claves)\n",
    "~~~"
   ]
  },
  {
   "cell_type": "code",
   "execution_count": null,
   "metadata": {},
   "outputs": [],
   "source": [
    "# Pase aquí el mini ejemplo anterior"
   ]
  },
  {
   "cell_type": "markdown",
   "metadata": {},
   "source": [
    "- **values( ):** <a id='Min-eje_values'></a>\n",
    "Es un método que devuelve un objeto tipo `dict_values` que es similar a una lista con los elementos de un diccionario, pero que está enlazada al diccionario.\n",
    "\n",
    "~~~python\n",
    "# Mini_Ejemplo: values( )\n",
    "\n",
    "diccionario={'nombre':\"Adrian\",'turno':(\"A\",\"B\",\"C\"),'horas_extras':2.5}\n",
    "print(\"diccionario:\",diccionario,\"\\n\")\n",
    "\n",
    "lista_values=diccionario.values()\n",
    "print(\"La 'lista' de los elementos del diccionario es:\",lista_values,\"\\n\")\n",
    "\n",
    "for i in lista_values:\n",
    "    print(i)\n",
    "    \n",
    "diccionario.pop('turno')\n",
    "\n",
    "print(\"\\n\")\n",
    "print(\"Ahora el diccionario es:\",diccionario)\n",
    "print(\"Ahora la 'lista' de items es:\",lista_values)\n",
    "~~~"
   ]
  },
  {
   "cell_type": "code",
   "execution_count": null,
   "metadata": {},
   "outputs": [],
   "source": [
    "# Pase aquí el mini ejemplo anterior"
   ]
  },
  {
   "cell_type": "markdown",
   "metadata": {},
   "source": [
    "- **update( ):** <a id='Min-eje_update'></a>\n",
    "\n",
    "Este método compara las parejas clave-valor de dos diccionarios y actualiza los valores de las claves comunes entre los dos, en caso de haber claves nuevas el método las agrega al diccionario base.\n",
    "\n",
    "~~~python\n",
    "# Mini_Ejemplo: update( )\n",
    "\n",
    "diccionario_base={'nombre':\"Adrian\",'turno':(\"A\",\"B\",\"C\"),'horas_extras':2.5}\n",
    "\n",
    "diccionario_modificado={'nombre':\"Adrian\",'turno':(\"A\",\"B\",\"C\"),'horas_extras':3,'dias_incapacidad':1}\n",
    "\n",
    "print(\"El diccionario base es:\",diccionario_base,\"\\n\")\n",
    "print(\"La modificación es:\",diccionario_modificado,\"\\n\")\n",
    "\n",
    "diccionario_base.update(diccionario_modificado)\n",
    "\n",
    "print(\"El diccionario actualizado es:\",diccionario_base,\"\\n\")\n",
    "~~~"
   ]
  },
  {
   "cell_type": "code",
   "execution_count": null,
   "metadata": {},
   "outputs": [],
   "source": [
    "# Pase aquí el mini ejemplo anterior"
   ]
  },
  {
   "cell_type": "markdown",
   "metadata": {},
   "source": [
    "<a id='Sets'></a>\n",
    "## **5.4. Conjuntos** <a id='5.4_Conjuntos'></a>\n",
    "\n",
    "Los conjuntos o sets son estructuras de datos en los que se puede almacenar elementos únicos, es decir, un conjunto no puede tener un elemento más de una vez. Al igual que las listas pueden contener diferentes tipos de objetos juntos con tal de que sean inmutables, es decir, no puede contener listas, diccionarios u otros sets. \n",
    "\n",
    "Al igual que con los diccionarios los sets se crean con corchetes, lo que los diferencia es el uso de puntos. En el siguiente ejemplo muestra cómo crea un set desde 0 y otro a partir de una lista. <a id='Min-eje_Sets'></a>\n",
    "\n",
    "Una característica importante de los conjuntos es que no se pueden iterar, es decir, no se pueden recorrer con un cíclo for ni se puede recuperar alguno de sus elementos con índices, generando un ' TypeError: 'set' object is not subscriptable ' si se intenta.\n",
    "\n",
    "###### **Nota:** Para el desarrollo de la guía solo es necesario saber cómo convertir una lista a un set, por lo tanto, si necesita conocer sus métodos y funciones diríjase a la documentación [aquí](https://docs.python.org/3/tutorial/datastructures.html#sets).\n",
    "\n",
    "~~~python\n",
    "# Mini_Ejemplo: Sets\n",
    "\n",
    "set_1={'mariquita', 'insecto', 2, True, list, (6, 4)}\n",
    "\n",
    "print(\"El set no. 1 es:\",set_1, \"no necesariamente tiene el mismo orden en el que se creó\\n\")\n",
    "\n",
    "lista=[1, 2, 1, 3, 1, 4, 2, 3, 4, 5, 6]\n",
    "\n",
    "set_2=set(lista)\n",
    "\n",
    "print(\"La lista\",str(lista),\"cuando se convierte a set, no tiene elementos repetidos\", set_2,\"\\n\")\n",
    "\n",
    "~~~"
   ]
  },
  {
   "cell_type": "code",
   "execution_count": null,
   "metadata": {},
   "outputs": [],
   "source": [
    "# Pase aquí el mini ejemplo anterior"
   ]
  },
  {
   "cell_type": "markdown",
   "metadata": {},
   "source": [
    "___"
   ]
  },
  {
   "cell_type": "markdown",
   "metadata": {},
   "source": [
    "| [***Anterior***](../4_Bucles_e_Iterables/4_Bucles_e_Iterables.ipynb#4_Bucles-e-Iterables) <!--(https://mybinder.org/Introducción)--> | - | [***Siguiente***](../6_Funciones/6_Funciones.ipynb#6_Funciones) <!--(https://www.python.org/Programas-en-Python)--> |\n",
    "| :--------: | :-------: | :--------: |"
   ]
  },
  {
   "cell_type": "markdown",
   "metadata": {},
   "source": [
    "| [**Home**](../Home.ipynb#Home)<!--(https://mybinder.org/Home)--> |\n",
    "| :--------: |"
   ]
  }
 ],
 "metadata": {
  "kernelspec": {
   "display_name": "Python 3",
   "language": "python",
   "name": "python3"
  },
  "language_info": {
   "codemirror_mode": {
    "name": "ipython",
    "version": 3
   },
   "file_extension": ".py",
   "mimetype": "text/x-python",
   "name": "python",
   "nbconvert_exporter": "python",
   "pygments_lexer": "ipython3",
   "version": "3.7.4"
  }
 },
 "nbformat": 4,
 "nbformat_minor": 4
}
