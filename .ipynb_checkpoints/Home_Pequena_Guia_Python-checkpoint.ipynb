{
 "cells": [
  {
   "cell_type": "markdown",
   "metadata": {},
   "source": [
    "<a id='Home'><a/>\n",
    "![Fig-2_Título](Fig-2_Titulo.jpg \"Figura 3: Pequeña Guía de Python Versión 1.0\")"
   ]
  },
  {
   "cell_type": "markdown",
   "metadata": {},
   "source": [
    "## `*` [1. Introducción](1_Introduccion/1_Introduccion.ipynb#1_Introduccion) <!--(https://mybinder.org/v2/gh/EstephaniaCalvo/Pequena-Guia-Python/Home?filepath=1-Introduccion%2F1-Introducci%C3%B3n.ipynb)-->    \n",
    "#### `*` [1.1. Presentación](1_Introduccion/1_Introduccion.ipynb#1.1_Presentacion) <!--(https://mybinder.org/v2/gh/EstephaniaCalvo/Pequena-Guia-Python/Home?filepath=1-Introduccion%2F1-Introducci%C3%B3n.ipynb)-->  \n",
    "#### `*`[1.2. Instalación](1_Introduccion/1_Introduccion.ipynb#1.2_Instalacion) <!--(https://mybinder.org/v2/gh/EstephaniaCalvo/Pequena-Guia-Python/Home?filepath=1-Introduccion%2F1-Introducci%C3%B3n.ipynb)-->    \n",
    "#### `*`[1.3. Algunos IDE](1_Introduccion/1-3_Algunos-IDE/1-3-1_IDLE/1-3-1_IDLE.ipynb#1.3_Algunos-IDE) <!--(https://mybinder.org/v2/gh/EstephaniaCalvo/Pequena-Guia-Python/Home?filepath=1-Introduccion%2F1-2-1%20IDLE%2F1-3-1_IDLE.ipynb)-->  \n",
    ">`*`[1.3.1. IDLE](1_Introduccion/1-3_Algunos-IDE/1-3-1_IDLE/1-3-1_IDLE.ipynb#1.3.1_IDLE) <!--(https://mybinder.org/v2/gh/EstephaniaCalvo/Pequena-Guia-Python/Home?filepath=1-Introduccion%2F1-2-1%20IDLE%2F1-3-1_IDLE.ipynb)-->  \n",
    "`*`[1.3.2. Spyder](1_Introduccion/1-3_Algunos-IDE/1-3-2_Spyder/1-3-2_Spyder.ipynb#1.3.2_Spyder) <!--(https://mybinder.org/)-->  \n",
    "`*`[1.3.3. Jupyter](1_Introduccion/1-3_Algunos-IDE/1-3-3_JupyterLab/1-3-3_JupyterLab.ipynb#1.3.3_JupyterLab) <!--(https://mybinder.org/)-->  \n",
    "\n",
    "#### `*`[1.4 Instrucciones Guía Interactiva](1_Introduccion/1-4_Instrucciones-Guia-Interactiva/1-4_Instrucciones-Guia-Interactiva.ipynb#1.4_Insutrucciones-Guia-Interactiva) <!--(https://mybinder.org/)-->  \n",
    "        \n",
    "## `*`[2. Elementos Básicos](2_Elementos-Basicos/2_Elementos-Basicos.ipynb#2_Elementos-Basicos) <!--(https://mybinder.org/)-->  \n",
    "#### `*`[2.1 Variables](2_Elementos-Basicos/2_Elementos-Basicos.ipynb#2.1_Variables)  <!--(https://mybinder.org/)-->  \n",
    "#### `*`[2.2 Operadores Aritméticos](2_Elementos-Basicos/2_Elementos-Basicos.ipynb#2.2_Operadores-Aritmeticos) <!--(https://mybinder.org/)-->  \n",
    "#### `*`[2.3 Ayuda y Directorio](2_Elementos-Basicos/2_Elementos-Basicos.ipynb#2.3_Ayuda-y-Directorio) <!--(https://mybinder.org/)-->  \n",
    "#### `*`[2.4 Programas en Python](2_Elementos-Basicos/2-4_Programas-en-Python/2-4_Programas-en-Python.ipynb#2-4_Programas-en-Python) <!--(https://mybinder.org/)-->  \n",
    ">`*`[2.4.1 Análisis del Problema](2_Elementos-Basicos/2-4_Programas-en-Python/2-4_Programas-en-Python.ipynb#2.4.1_Analsis) <!--(https://mybinder.org/)-->  \n",
    "`*`[2.4.2 Código en Python](2_Elementos-Basicos/2-4_Programas-en-Python/2-4_Programas-en-Python.ipynb#2.4.2_Codigo-en-Python) <!--(https://mybinder.org/)-->  \n",
    "\n",
    "## `*`[3. Estrucutras Lógicas](3_Estructuras-Logicas/3_Estructuras_Logicas.ipynb#3_Estructuras-Logicas) <!--(https://mybinder.org/)-->  \n",
    "#### `*`[3.1 Estructuras de Decisión](3_Estructuras-Logicas/3_Estructuras_Logicas.ipynb#3.1_Estructuras-de-Decision) <!--(https://mybinder.org/)--> \n",
    ">`*`[3.1.1. Bloque if](3_Estructuras-Logicas/3_Estructuras_Logicas.ipynb#Min-eje_Bloque-if)  <!--(https://mybinder.org/)-->   \n",
    "`*`[3.1.2. Bloque if - else](3_Estructuras-Logicas/3_Estructuras_Logicas.ipynb#Min-eje_Bloque-if-else)  <!--(https://mybinder.org/)-->   \n",
    "`*`[3.1.3. Bloque if - elif - else](3_Estructuras-Logicas/3_Estructuras_Logicas.ipynb#Min-eje_Bloque-if-elif-else)  <!--(https://mybinder.org/)-->   \n",
    "#### `*`[3.2 Operadores](3_Estructuras-Logicas/3_Estructuras_Logicas.ipynb#3.2_Operaradores) <!--(https://mybinder.org/)-->\n",
    "\n",
    "## `*`[4. Bucles e Iterables](4_Bucles-e-Iterables/4_Bucles-e-Iterables.ipynb#4_Bucles-e-Iterables) <!--(https://mybinder.org/)-->\n",
    "#### `*`[4.1. Iterables](4_Bucles-e-Iterables/4_Bucles-e-Iterables.ipynb#4.1_Iterables) <!--(https://mybinder.org/)-->   \n",
    "#### `*`[4.2. Estructuras de Repetición](4_Bucles-e-Iterables/4_Bucles-e-Iterables.ipynb#4.2_Estructuras-de-Repeticion) <!--(https://mybinder.org/)-->  \n",
    ">`*`[4.2.1. Bloque for](4_Bucles-e-Iterables/4_Bucles-e-Iterables.ipynb#4.2.1_Bloque-for) <!--(https://mybinder.org/)-->  \n",
    "`*`[4.2.2. Bloque while](4_Bucles-e-Iterables/4_Bucles-e-Iterables.ipynb#4.2.2_Bloque-while) <!--(https://mybinder.org/)-->  \n",
    "`*`[4.2.3. Controladores de Bucles](4_Bucles-e-Iterables/4_Bucles-e-Iterables.ipynb#4.2.3_Controladores-de-Bucles) <!--(https://mybinder.org/)-->  \n",
    "\n",
    "## `*`[5. Estructura de Datos Básicas](5_Estructura-de-Datos-Basicas/5_Estructura-de-Datos-Basicas.ipynb#5_Estructura-de-Datos-Basicas) <!--(https://mybinder.org/)-->\n",
    "#### `*`[5.1. Listas](5_Estructura-de-Datos-Basicas/5_Estructura-de-Datos-Basicas.ipynb#5.1_Listas) <!--(https://mybinder.org/)-->   \n",
    ">`*`[5.1.1. Métodos de las Listas](5_Estructura-de-Datos-Basicas/5_Estructura-de-Datos-Basicas.ipynb#5.1.1_Metodos-de-las-Listas) <!--(https://mybinder.org/)-->  \n",
    "`*`[5.1.2. Operaciones](5_Estructura-de-Datos-Basicas/5_Estructura-de-Datos-Basicas.ipynb#5.1.2_Operaciones) <!--(https://mybinder.org/)-->  \n",
    "`*`[5.1.3. Listas Anidadas](5_Estructura-de-Datos-Basicas/5_Estructura-de-Datos-Basicas.ipynb#5.1.3_Listas-Anidadas) <!--(https://mybinder.org/)-->  \n",
    "#### `*`[5.2. Tuplas](5_Estructura-de-Datos-Basicas/5_Estructura-de-Datos-Basicas.ipynb#5.2_Tuplas) <!--(https://mybinder.org/)-->   \n",
    "#### `*`[5.3. Diccionarios](5_Estructura-de-Datos-Basicas/5_Estructura-de-Datos-Basicas.ipynb#5.3_Diccionarios)   \n",
    "--- \n"
   ]
  },
  {
   "cell_type": "markdown",
   "metadata": {},
   "source": []
  },
  {
   "cell_type": "markdown",
   "metadata": {},
   "source": [
    "\n",
    "| ![Fig-1_Logo-Univalle](Fig-1_Logo-Univalle.gif \"Figura 1: Logo Universidad del Valle, Cali, Colombia\") | | | | **Estephania Calvo Carvajal** <br> estephania.calvo@correounivalle.edu.co </br>|\n",
    "| :--------: |:--------: |:--------: |:--------: |:--------: |"
   ]
  }
 ],
 "metadata": {
  "kernelspec": {
   "display_name": "Python 3",
   "language": "python",
   "name": "python3"
  },
  "language_info": {
   "codemirror_mode": {
    "name": "ipython",
    "version": 3
   },
   "file_extension": ".py",
   "mimetype": "text/x-python",
   "name": "python",
   "nbconvert_exporter": "python",
   "pygments_lexer": "ipython3",
   "version": "3.7.4"
  }
 },
 "nbformat": 4,
 "nbformat_minor": 4
}
