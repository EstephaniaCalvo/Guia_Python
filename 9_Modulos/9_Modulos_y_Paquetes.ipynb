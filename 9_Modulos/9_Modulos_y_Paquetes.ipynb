{
 "cells": [
  {
   "cell_type": "markdown",
   "metadata": {},
   "source": [
    "# 9. Módulos y Paquetes <a id='9_Modulos_y_Paquetes'></a>"
   ]
  },
  {
   "cell_type": "markdown",
   "metadata": {},
   "source": [
    "---\n",
    "#### [9.1. Módulos](#9.1_Modulos)   \n",
    ">[9.1.1. Importar Módulos](#9.1.1_Importar-Modulos)      \n",
    "\n",
    "#### [9.2. Paquetes](#9.2_Paquetes)   \n",
    ">[9.2.1. Importar Paquetes](#9.2.1_Importar-Paquetes)     \n",
    "\n",
    "#### [9.3. Librería Estándar](#9.3_Libreria-Estandar)  \n",
    "\n",
    "#### [9.4. Paquetes de Terceros](#9.4_Paqutes-de-Terceros)   \n",
    ">[9.4.1. Instalación de Paquetes](#9.4.1_Instalación-de-Paquetes)   \n",
    "[9.4.2. Paquetes de SciPy](#9.4.2_Paquetes-de-SciPy)  "
   ]
  },
  {
   "cell_type": "markdown",
   "metadata": {},
   "source": [
    "---"
   ]
  },
  {
   "cell_type": "markdown",
   "metadata": {},
   "source": [
    "## **8.1. Gráficos 2D** <a id='8.1_Graficos_2D'></a>  "
   ]
  },
  {
   "cell_type": "code",
   "execution_count": null,
   "metadata": {},
   "outputs": [],
   "source": [
    "# Pase aquí el mini ejemplo anterior, una vez ejecutado busque en la carpeta del notebook la imagen."
   ]
  },
  {
   "cell_type": "markdown",
   "metadata": {},
   "source": [
    "## 8.1.1. Propiedades Líneas 2D <a id='8.1.1_Lineas_2D'></a>   \n",
    "    \n",
    "<a id='Min-eje_Linea_2D'></a>\n",
    "\n",
    "~~~python\n",
    "# Mini_Ejemplo: Linea_2D\n",
    "\n",
    "~~~"
   ]
  },
  {
   "cell_type": "code",
   "execution_count": null,
   "metadata": {},
   "outputs": [],
   "source": [
    "# Pase aquí el mini ejemplo anterior"
   ]
  },
  {
   "cell_type": "code",
   "execution_count": null,
   "metadata": {},
   "outputs": [],
   "source": [
    "# Pase el código anterior aquí"
   ]
  },
  {
   "cell_type": "markdown",
   "metadata": {},
   "source": [
    "___"
   ]
  },
  {
   "cell_type": "markdown",
   "metadata": {},
   "source": [
    "| [***Anterior***](../7_Lectura_y_Escritura/7_Lectura_y_Escritura.ipynb#7_Lectura_y_Escritura) <!--(https://mybinder.org/Introducción)--> | - | [***Siguiente***](../8_Graficos/8_Graficos.ipynb#8_Graficos) <!--(https://www.python.org/Programas-en-Python)--> |\n",
    "| :--------: | :-------: | :--------: |"
   ]
  },
  {
   "cell_type": "markdown",
   "metadata": {},
   "source": [
    "| [**Home**](../Home.ipynb#Home)<!--(https://mybinder.org/Home)--> |\n",
    "| :--------: |"
   ]
  }
 ],
 "metadata": {
  "kernelspec": {
   "display_name": "Python 3",
   "language": "python",
   "name": "python3"
  },
  "language_info": {
   "codemirror_mode": {
    "name": "ipython",
    "version": 3
   },
   "file_extension": ".py",
   "mimetype": "text/x-python",
   "name": "python",
   "nbconvert_exporter": "python",
   "pygments_lexer": "ipython3",
   "version": "3.7.4"
  }
 },
 "nbformat": 4,
 "nbformat_minor": 4
}
