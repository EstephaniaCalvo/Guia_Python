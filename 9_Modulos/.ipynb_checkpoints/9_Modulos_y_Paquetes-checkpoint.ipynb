{
 "cells": [
  {
   "cell_type": "markdown",
   "metadata": {},
   "source": [
    "# 9. Módulos y Paquetes <a id='9_Modulos_y_Paquetes'></a>"
   ]
  },
  {
   "cell_type": "markdown",
   "metadata": {},
   "source": [
    "---\n",
    "#### [9.1. Módulos](#9.1_Modulos)   \n",
    ">[9.1.1. Importar Módulos](#9.1.1_Importar-Modulos)      \n",
    "\n",
    "#### [9.2. Paquetes](#9.2_Paquetes)   \n",
    ">[9.2.1. Importar Paquetes](#9.2.1_Importar-Paquetes)     \n",
    "\n",
    "#### [9.3. Librería Estándar](#9.3_Libreria-Estandar)  \n",
    "\n",
    "#### [9.4. Paquetes de Terceros](#9.4_Paqutes-de-Terceros)   \n",
    ">[9.4.1. Instalación de Paquetes](#9.4.1_Instalacion-de-Paquetes)   \n",
    "[9.4.2. Paquetes de SciPy](#9.4.2_Paquetes-de-SciPy)  "
   ]
  },
  {
   "cell_type": "markdown",
   "metadata": {},
   "source": [
    "---"
   ]
  },
  {
   "cell_type": "markdown",
   "metadata": {},
   "source": [
    "## **9.1. Módulos** <a id='9.1_Modulos'></a>   \n",
    "Los módulos son archivos de Python que almacenan diferentes objetos principalmente funciones, clases, constantes y excepciones, para que pueden ser accedidos y usados en otro archivo, en capítulos anteriores ya se han empleado algunos de ellos, como pyplot, pandas, random, math, etc.\n",
    "\n",
    "Se pueden clasificar en tres tipos dependiendo su origen como: \n",
    "\n",
    "- [**Módulos de la librería estándar:**](#9.3_Libreria-Estandar \"Ir al apartado de Librería Estándar\") Son una gran cantidad de módulos que vienen preinstalados con Python, [aquí]( https://docs.python.org/3/library/index.html \"Ir a la documentación de la librería estándar\") puede encontrar el listado de ellos.\n",
    "- [**Módulos de terceros:**](#9.4_Paqutes-de-Terceros \"Ir al apartado de Paquetes de Terceros\") Es una cantidad aún mayor de módulos creados por la comunidad en Python, los más utilizados de ellos vienen preinstalados con Anaconda, [aquí]() puede encontrar los módulos que vienen con Anaconda, y [aquí](https://pypi.org/ \"Ir al Python Package Index\") un buscador de paquetes creados por la comunidad.\n",
    "- **Módulos propios: ** Son los módulos creados por el desarrollador para uso propio, aunque naturalmente pude compartirlo con la comunidad.\n",
    "\n",
    "Entre las principales ventajas de usar módulos están:\n",
    "\n",
    "- **Legibilidad y depuración:** Con los módulos se puede dividir un código muy extenso en partes más pequeñas y manejables las cuales son más sencillas de leer, entender, y depurar.\n",
    "- **Reusabilidad:** Todos los objetos que se tengan guardados en un módulo se pueden volver a utilizar en diferentes proyectos, por lo tanto no hay necesidad de crear desde cero todo el código, por ejemplo, no hay necesidad de crear una función factorial con un for sabiendo que el módulo math ya tiene una.\n",
    "\n",
    "## 9.1.1. Importar Módulos <a id='9.1.1_Importar-Modulos'></a>  \n",
    "\n",
    "Existen dos formas de importar un módulo y acceder a sus objetos.\n",
    "\n",
    "**a. Importar el módulo completo**: Se importa con la palabra reservada `import` y los objetos se deben llamar con el nombre del módulo como prefijo, algunas veces el importe se hace con un alias\n",
    "\n",
    "~~~python\n",
    "import math\n",
    "print(help(math.factorial))\n",
    "print(help(math.sqrt))\n",
    "\n",
    "import numpy as np\n",
    "help(np.arange)\n",
    "~~~"
   ]
  },
  {
   "cell_type": "code",
   "execution_count": null,
   "metadata": {},
   "outputs": [],
   "source": [
    "# Pase el código anterior aquí"
   ]
  },
  {
   "cell_type": "markdown",
   "metadata": {},
   "source": [
    "**b. Importar solo objeto**: Con las palabras reservadas `import` y `from`, con esta forma los objetos **no** se llaman con el nombre del módulo como prefijo.\n",
    "\n",
    "~~~python\n",
    "from math import factorial, sqrt\n",
    "print(help(factorial))\n",
    "print(help(sqrt))\n",
    "\n",
    "from numpy import arange\n",
    "help(arange)\n",
    "~~~"
   ]
  },
  {
   "cell_type": "code",
   "execution_count": null,
   "metadata": {},
   "outputs": [],
   "source": [
    "# Pase el código anterior aquí"
   ]
  },
  {
   "cell_type": "markdown",
   "metadata": {},
   "source": [
    "## **9.2. Paquetes** <a id='9.2_Paquetes'></a> \n",
    "Los paquetes son carpetas que almacenan varios módulos y hasta otros paquetes, volviéndose así un sistema de directorios para organizar los archivos de los módulos. Para que Python interprete que la carpeta es un módulo esta debe tener el archivo **\\_\\_init__.py**, el cual para el desarrollo de la guía basta con que esté en blanco, para conocer más sobre este archivo ingrese [aquí](https://docs.python.org/3/tutorial/modules.html#packages \"Ir a la documentación oficial\")\n",
    "\n",
    "Cuando el paquete es muy grande y tiene módulos relacionados entre sí para un área en específico se les llama ecosistema, por ejemplo, [SciPy](https://www.scipy.org/ \"Ir a la página oficial de SciPy\") es un ecosistema para matemáticas, ciencias e ingeniería.\n",
    "\n",
    "## 9.2.1. Importar Módulos de Diferentes Paquetes <a id='9.2.1_Importar-Paquetes'></a>  \n",
    "\n",
    "Al igual que sucede con los archivos, para importar un paquete propio hay que tener en cuenta su [ubicación](../7_Lectura_y_Escritura/7_Lectura_y_Escritura.ipynb#7.1.1_Ubicacion-de-Archivos \"Ir al apartado 7.1.1. Ubicación de Archivos\"), y usar el paquete sys para acceder a ella.\n",
    "\n",
    "Suponga que se tiene la siguiente estructura de paquetes:\n",
    "\n",
    "~~~\n",
    "Carpeta_superior_1\n",
    "    |-- __init__.py\n",
    "    |-- Mod_s1.py\n",
    "    |-- 9_Modulos_y_Paquetes/\n",
    "        |-- __init__.py\n",
    "        |-- validaciones.py\n",
    "        |-- Estadistica\n",
    "            |-- __init__.py\n",
    "            |-- descriptiva.py\n",
    "            |-- graficos.py\n",
    "            |-- aleatorios.py          \n",
    "~~~\n",
    "\n",
    "**Módulo en nivel superior**\n",
    "Para importar un módulo que está en una ubicación superior, por ejemplo, si se quiere importar Mod_s1 en [aleatorios.py](Estadistica/aleatorios.py \"Ir al archivo\") la ruta que se debe usar es **\". . / . . /\"**. \n",
    "\n",
    "- Para importar en aleatorios.py el módulo [validaciones](validaciones.py \"Ir al archivo\") la ruta es **\". . /\"**\n",
    "\n",
    "~~~python\n",
    "import sys\n",
    "ruta=\"../\"\n",
    "sys.path.append(ruta)\n",
    "\n",
    "import validaciones\n",
    "dir(validaciones)\n",
    "\n",
    "from validaciones import v_num_entero\n",
    "help(v_num_entero)\n",
    "~~~\n",
    "\n",
    "**Módulo en nivel inferior**\n",
    "Para importar un módulo que está en una ubicación inferior, por ejemplo, si se quiere importar [graficos](Estadistica/graficos.py \"Ir al archivo\") en Mod_s1.py la ruta que se debe usar es **\"9_Modulos_y_Paquetes/Estadistica\"**.\n",
    "\n",
    "- Para importar [descriptiva](Estadistica/descriptiva.py \"Ir al archivo\") en validaciones.py la ruta es **\"Estadistica/\"**.\n",
    "\n",
    "~~~python\n",
    "import sys\n",
    "ruta=\"Estadistica/\"\n",
    "sys.path.append(ruta)\n",
    "\n",
    "import descriptiva\n",
    "dir(descriptiva)\n",
    "~~~"
   ]
  },
  {
   "cell_type": "code",
   "execution_count": null,
   "metadata": {},
   "outputs": [],
   "source": [
    "# Pase el código anterior aquí"
   ]
  },
  {
   "cell_type": "markdown",
   "metadata": {},
   "source": [
    "#### Mini_Ejemplo: Usar Módulos Propios\n",
    "<a id='Min-eje_Modulos_Propios'></a>\n",
    "\n",
    "~~~python\n",
    "# Mini_Ejemplo: Usar Módulos Propios\n",
    "\n",
    "from validaciones import v_num_decimal, v_num_entero\n",
    "\n",
    "import sys\n",
    "ruta=\"Estadistica/\"\n",
    "sys.path.append(ruta)\n",
    "\n",
    "import descriptiva\n",
    "from aleatorios import normales\n",
    "import graficos\n",
    "\n",
    "media=v_num_decimal(\"Por favor ingrese la media: \")\n",
    "desv_est=v_num_decimal(\"Por favor ingrese la desviación estándar: \")\n",
    "\n",
    "datos=normales(media,desv_est)\n",
    "\n",
    "d_media, mediana, moda= descriptiva.centramiento(datos)\n",
    "\n",
    "m_dispercion= descriptiva.dispercion(datos)\n",
    "\n",
    "rango=m_dispercion[0]\n",
    "desviacion=m_dispercion[1] \n",
    "varianza=m_dispercion[3] \n",
    "\n",
    "print(\"\\nLas medidas de los datos son:\\n\")\n",
    "print(\"Media:\",round(d_media,2))\n",
    "print(\"Moda\",moda)\n",
    "print(\"Mediana:\",round(mediana,2))\n",
    "print(\"Rango:\",round(rango,2))\n",
    "print(\"Desviación Estándar\",round(desviacion,2))\n",
    "print(\"Varianza:\",round(varianza,2),\"\\n\")\n",
    "\n",
    "graficos.h_comparativo([\"Histograma\",\"H.Acumulativo\"],[datos,datos],[5,5],[\"h\",\"ha\"],[\"\",\"\"])\n",
    "~~~"
   ]
  },
  {
   "cell_type": "code",
   "execution_count": null,
   "metadata": {},
   "outputs": [],
   "source": [
    "# Pase aquí el mini ejemplo anterior"
   ]
  },
  {
   "cell_type": "markdown",
   "metadata": {},
   "source": [
    "## **9.3. Librería Estándar** <a id='9.3_Libreria-Estandar'></a>   \n",
    "\n",
    "Para el desarrollo de la guía hay que tener en cuenta los siguientes módulos de la librería estándar.\n",
    "\n",
    "- [**math**:](https://docs.python.org/3/library/math.html \"Ir a la documentación oficial del módulo\") Contiene funciones y constantes matemáticas:\n",
    "\n",
    "~~~python\n",
    "import math\n",
    "dir(math)\n",
    "~~~"
   ]
  },
  {
   "cell_type": "code",
   "execution_count": null,
   "metadata": {},
   "outputs": [],
   "source": [
    "# Pase el código anterior aquí"
   ]
  },
  {
   "cell_type": "markdown",
   "metadata": {},
   "source": [
    "- [**random**:](https://docs.python.org/3/library/random.html \"Ir a la documentación oficial del módulo\") Está compuesto por funciones para generar números aleatorios, con distribuciones de probabilidad o escoger aleatoriamente entre un conjunto de opciones, entre otros.\n",
    "\n",
    "~~~python\n",
    "import random\n",
    "dir(random)\n",
    "~~~"
   ]
  },
  {
   "cell_type": "code",
   "execution_count": null,
   "metadata": {},
   "outputs": [],
   "source": [
    "# Pase el código anterior aquí"
   ]
  },
  {
   "cell_type": "markdown",
   "metadata": {},
   "source": [
    "- [**os**:](https://docs.python.org/3/library/os.html \"Ir a la documentación oficial del módulo\") Con el se puede interactuar con las funciones del sistema operativo, (como en la terminal). En la guía es usado para interactuar con sistemas de directorios, por ejemplo, [crear una carpeta](../7_Lectura_y_Escritura/7_Lectura_y_Escritura.ipynb#7.2.1_Crear-Carpetas \"Ir al apartado 7.2.1 Crear Carpetas\")\n",
    "\n",
    "~~~python\n",
    "import os\n",
    "dir(os)\n",
    "~~~"
   ]
  },
  {
   "cell_type": "code",
   "execution_count": null,
   "metadata": {},
   "outputs": [],
   "source": [
    "# Pase el código anterior aquí"
   ]
  },
  {
   "cell_type": "markdown",
   "metadata": {},
   "source": [
    "- [**statistics**:](https://docs.python.org/3/library/statistics.html \"Ir a la documentación oficial del módulo\") Contiene las funciones estadísticas básicas de medidas de centra miento y dispersión. \n",
    "\n",
    "~~~python\n",
    "import statistics\n",
    "dir(statistics)\n",
    "~~~"
   ]
  },
  {
   "cell_type": "code",
   "execution_count": null,
   "metadata": {},
   "outputs": [],
   "source": [
    "# Pase el código anterior aquí"
   ]
  },
  {
   "cell_type": "markdown",
   "metadata": {},
   "source": [
    "- [**sys**:](https://docs.python.org/3/library/sys.html \"Ir a la documentación oficial del módulo\") Contiene funciones para interactuar con variables y funciones usadas o mantenidas por el intérprete he interprete. En la guía será usado para acceder a las rutas de paquetes.\n",
    "\n",
    "~~~python\n",
    "import sys\n",
    "dir(sys)\n",
    "~~~"
   ]
  },
  {
   "cell_type": "code",
   "execution_count": null,
   "metadata": {},
   "outputs": [],
   "source": [
    "# Pase el código anterior aquí"
   ]
  },
  {
   "cell_type": "markdown",
   "metadata": {},
   "source": [
    "## **9.4. Paquetes de Terceros** <a id='9.4_Paqutes-de-Terceros'></a>  \n",
    "Como se mencionó anteriormente hay una enorme cantidad de módulos realizados por terceros en proyectos open-source, para poder acceder a ellos se deben descargar e instalar previamente, a continuación, se explicarán los pasos para hacerlo en el sistema operativo Windows.\n",
    "\n",
    "## 9.4.1. Instalación de Paquetes <a id='9.4.1_Instalacion-de-Paquetes'></a>   \n",
    "La instalación de un paquete o de un módulo se hace por medio del instalador de paquetes [pip](https://pip.pypa.io/en/stable/ \"Ir a la documentación oficial de pip\").\n",
    "\n",
    "------\n",
    "#### 1. Verificar si tiene instalado pip:\n",
    "------\n",
    "**1a. Abrir la terminal de comandos**: Busque 'cmd' en el menú de inicio y abra la aplicación 'símbolo del sistema', u oprima tecla Windows + R y escriba 'cmd'. \n",
    "\n",
    "![Install_1a.png](Instalacion/Install_1a.png \"Abrir Terminal\")\n",
    "\n",
    "**1b.** En caso de tener Anaconda Busque 'Anaconda Prompt'.\n",
    "\n",
    "![Install_1b.png](Instalacion/Install_1b.png \"Abrir Anaconda Prompt\")\n",
    "\n",
    "**2. Buscar la versión de pip**: En la terminal o en Anaconda Prompt escriba 'pip -V'\n",
    "\n",
    "- **Si pip está instalado se mostrará un mensaje diciéndole cual es la versión**\n",
    "![Install_2a.png](Instalacion/Install_2a.png \"Versión de pip\")\n",
    "\n",
    "- **Si pip no está instalado se mostrará el siguiente mensaje, de ser el caso [aquí](#) se explica cómo instalarlo.**\n",
    "![Install_2b.png](Instalacion/Install_2b.png \"pip no está instalado\")"
   ]
  },
  {
   "cell_type": "markdown",
   "metadata": {},
   "source": [
    "------\n",
    "#### 2. Instalar un paquete o modulo:\n",
    "------\n",
    "**1.** Si pip está instalado escriba el comando pip Install y el nombre del módulo necesite, por ejemplo:\n",
    "\n",
    "![Install_1.png](Instalacion/Install_1.png \"Abrir Terminal\")"
   ]
  },
  {
   "cell_type": "markdown",
   "metadata": {},
   "source": [
    "## 9.4.2. Instalación de pip <a id='9.4.2_Instalacion_de_pip'></a> \n",
    "\n",
    "------\n",
    "#### 1. Abrir el archivo get-pip.py\n",
    "------\n",
    "![Install_p1.png](Instalacion/Install_p1.png \"Abrir get-pip.py\")\n",
    "\n",
    "------\n",
    "#### 2. Guardar el archivo como get-pip.py\n",
    "------\n",
    "![Install_p2.png](Instalacion/Install_p2.png \"Guardar get-pip.py\")\n",
    "\n",
    "------\n",
    "#### 3. Ejecutar el archivo\n",
    "------\n",
    "Ejecute el archivo desde la terminar o con su IDE preferido, [aquí](../1_Introduccion/1_3_Algunos_IDE/1_3_1_IDLE/1_3_1_IDLE.ipynb \"Ir a apartado 1.3.1.4. Ejecutar el Código\") se explica cómo ejecutar códigos con IDLE."
   ]
  },
  {
   "cell_type": "markdown",
   "metadata": {},
   "source": [
    "___"
   ]
  },
  {
   "cell_type": "markdown",
   "metadata": {},
   "source": [
    "| [***Anterior***](../8_Graficos/8_Graficos.ipynb#8_Graficos) <!--(https://mybinder.org/Introducción)--> | - | [***Siguiente***](../10_Practicas/10_Practicas.ipynb#10_Practicas) <!--(https://www.python.org/Programas-en-Python)--> |\n",
    "| :--------: | :-------: | :--------: |"
   ]
  },
  {
   "cell_type": "markdown",
   "metadata": {},
   "source": [
    "| [**Home**](../Home.ipynb#Home)<!--(https://mybinder.org/Home)--> |\n",
    "| :--------: |"
   ]
  }
 ],
 "metadata": {
  "kernelspec": {
   "display_name": "Python 3",
   "language": "python",
   "name": "python3"
  },
  "language_info": {
   "codemirror_mode": {
    "name": "ipython",
    "version": 3
   },
   "file_extension": ".py",
   "mimetype": "text/x-python",
   "name": "python",
   "nbconvert_exporter": "python",
   "pygments_lexer": "ipython3",
   "version": "3.7.4"
  }
 },
 "nbformat": 4,
 "nbformat_minor": 4
}
