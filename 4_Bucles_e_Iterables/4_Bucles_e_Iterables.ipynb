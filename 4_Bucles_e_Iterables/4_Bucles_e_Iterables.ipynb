{
 "cells": [
  {
   "cell_type": "markdown",
   "metadata": {},
   "source": [
    "<a id='4_Bucles-e-Iterables'></a>\n",
    "# 4. Bucles e Iterables"
   ]
  },
  {
   "cell_type": "markdown",
   "metadata": {},
   "source": [
    "---\n",
    "### [4.1. Iterables](#4.1_Iterables)   \n",
    ">[4.1.1. Métodos Básicos](#4.1.1_Metodos-Basicos)  \n",
    "[4.1.2. índices](#4.1.2_Indices)  \n",
    "### [4.2. Estructuras de Repetición](#4.2_Estructuras-de-Repeticion)  \n",
    ">[4.2.1. Bloque for](#4.2.1_Bloque-for)  \n",
    ">>[4.2.1.1. Recorrer un Iterable](#4.2.1.1_Recorrer-un-Iterable)  \n",
    "[4.2.1.2. Recorrido con Índices](#4.2.1.2_Recorrido-con-Indices)  \n",
    "[4.2.1.3. Contador Condicional](#4.2.1.3_Contador-Condicional)  \n",
    "[4.2.1.4. Acumulador](#4.2.1.4_Acumulador)  \n",
    "\n",
    ">[4.2.2. Bloque while](#4.2.2_Bloque-while)  \n",
    ">>[4.2.2.1. Contadores no Líneales](#4.2.2.1_Contadores-no-Lineales)  \n",
    "[4.2.2.2. Ejecucion por Evento](4.2.2.2_Ejecucion-por-Evento)  \n",
    "[4.2.2.3. Bucles Infinitos](4.2.2.3_Bucles-Infinitos)\n",
    "\n",
    ">[4.2.3. Controladores de Bucles](#4.2.3_Controladores-de-Bucles)"
   ]
  },
  {
   "cell_type": "markdown",
   "metadata": {},
   "source": [
    "---\n",
    "\n",
    "## **4.1. Iterables** <a id='4.1_Iterables'></a>"
   ]
  },
  {
   "cell_type": "markdown",
   "metadata": {},
   "source": [
    "Un iterable es un objeto que es capaz de retornar sus elementos uno a la vez, es un tipo de dato cuyo manejo es especialmente útil y poderoso en Python.\n",
    "\n",
    "En general, los iterables son aquellos tipos de datos que pueden contener varios elementos, y se llaman así porque Python incorpora funciones que permiten ejecutar operaciones sobre cada uno de los sus elementos con mucha facilidad, por ejemplo, se puede retornar o modificar cada uno de sus elementos con un [cíclo for](#4.2.1_Bloque-for \"Ir al apartado del bloque for\") como veremos más adelante. \n",
    "\n",
    "Los iterables que mas se van a usar en la guía son las variables tipo [string *str*](../2_Elementos_Basicos/2_Elementos_Basicos.ipynb#Variables-de-texto), y las [listas *list*](../5_Estructura_de_Datos/5_Estructura_de_Datos.ipynb#5.1_Listas) que se verán en el siguiente capítulo."
   ]
  },
  {
   "cell_type": "markdown",
   "metadata": {},
   "source": [
    "## 4.1.1. Métodos Básicos <a id=\"4.1.1_Metodos-Basicos\"></a>\n",
    "\n",
    "A continuación están los métodos básicos para interactuar con cualquier iterable, [len( )](#Min-eje_Metodo-len), [count( )](#Min-eje_Metodo-count), e [index( )](#Min-eje_Metodo-index), en este caso se aplicarán a cadenas."
   ]
  },
  {
   "cell_type": "markdown",
   "metadata": {},
   "source": [
    "#### a. Método *len( )*  <a id='Min-eje_Metodo-len'></a>\n",
    "Este método nos muestra la longitud del iterable, es decir, la cantidad de elementos que tiene.\n",
    "~~~python\n",
    "# Mini_Ejemplo: Método len()\n",
    "\n",
    "## Ingresos de datos:\n",
    "cadena=input(\"Por favor, ingrese cualquier cadena\")\n",
    "\n",
    "## Contar los elementos:\n",
    "cantidad=len(cadena)\n",
    "\n",
    "## Imprimir resultado:\n",
    "print(\"La cantidad de elementos que tiene la cadena ingresada '\",cadena,\"' es:\",cantidad)\n",
    "~~~"
   ]
  },
  {
   "cell_type": "code",
   "execution_count": null,
   "metadata": {},
   "outputs": [],
   "source": [
    "# Pase aquí el mini ejemplo anterior"
   ]
  },
  {
   "cell_type": "markdown",
   "metadata": {},
   "source": [
    "#### b. Método *.count( )* <a id='Min-eje_Metodo-count'></a>\n",
    "Este método nos muestra la frecuencia de un elemento en un iterable, es decir, la cantidad de veces que se encuentra un elemento en el iterable. \n",
    "~~~python\n",
    "# Min_Ejemplo: Método count()\n",
    "\n",
    "## Ingreso de datos:\n",
    "palabra=\"interdisciplinariedad\"\n",
    "print(\"La palabra disponible para hacer la consulta es: '\",palabra,\"'.\\n\")\n",
    "letra=input(\"Por favor, ingrese en minúscula la letra que a la quiera consultar su frecuencia.\\n\")\n",
    "\n",
    "\n",
    "## Pequeña validación de datos:\n",
    "if ((letra not in palabra) and (len(letra)==1)):\n",
    "    import random\n",
    "    letra=random.choice(palabra)\n",
    "    print(\"Lo sentimos, no ha ingresado un valor inválido, el programa usará:\",letra,\"\\n\")\n",
    "\n",
    "## Evaluación del índice:\n",
    "veces=palabra.count(letra)\n",
    "\n",
    "## Impresión de resultados:\n",
    "print(\"La cantidad de veces que esta la letra '\",letra,\"' en la palabra '\",palabra,\"' es:\", veces)\n",
    "~~~"
   ]
  },
  {
   "cell_type": "code",
   "execution_count": null,
   "metadata": {},
   "outputs": [],
   "source": [
    "# Pase aquí el mini ejemplo anterior"
   ]
  },
  {
   "cell_type": "markdown",
   "metadata": {},
   "source": [
    "#### c. Método *.index( )* <a id='Min-eje_Metodo-index'></a>\n",
    "Con este método se puede solicitar la posición de un elemento en un iterable, si hay elementos repetidos arrojará el índice del que se encuentra más a la izquierda. \n",
    "~~~python\n",
    "# Mini_Ejemplo: Método index \n",
    "\n",
    "## Ingreso de datos:\n",
    "palabra=\"centrifugados\"\n",
    "print(\"La palabra disponible para hacer la consulta es: '\",palabra,\"'.\\n\")\n",
    "letra=input(\"Por favor, ingrese en minúscula la letra a la cual quiera consultarle su posición.\\n\")\n",
    "\n",
    "## Pequeña validación de datos:\n",
    "if ((letra not in palabra) and (len(letra)==1)):\n",
    "    import random\n",
    "    letra=random.choice(palabra)\n",
    "    print(\"Lo sentimos, no ha ingresado un valor inválido, el programa usará:\",letra,\"\\n\")\n",
    "\n",
    "## Evaluación del índice:\n",
    "indice=palabra.index(letra)\n",
    "\n",
    "## Impresión de resultados:\n",
    "print(\"La posición de la letra '\",letra,\"' es:\", indice)\n",
    "~~~"
   ]
  },
  {
   "cell_type": "code",
   "execution_count": null,
   "metadata": {},
   "outputs": [],
   "source": [
    "# Pase aquí el mini ejemplo anterior"
   ]
  },
  {
   "cell_type": "markdown",
   "metadata": {},
   "source": [
    "## 4.1.2. Índices <a id=\"4.1.2_Indices\"></a>\n",
    "\n",
    "- **Retornar Valores:**\n",
    "Es posible acceder a cualquier elemento de un iterable si conocemos su posición o índice, es vital recordar que la indexación en Python **empieza en cero**, esto quiere decir que el primer elemento tiene índice cero. <a id=\"Min-eje_Indices\"></a>\n",
    "\n",
    "~~~python\n",
    "# Mini_Ejemplo: Índices\n",
    "\n",
    "## Ingreso de datos:\n",
    "palabra=input(\"Por favor, ingrese una palabra de más de tres letras:\\n\")\n",
    "\n",
    "## Pequeña validación de datos:\n",
    "if not((palabra.isalpha()) and (len(palabra)>3)):\n",
    "    palabra= 'electroencefalografista'\n",
    "    print(\"Lo sentimos, no ha ingresado una palabra válida, el programa usará:\\n\",palabra,\"\\n\")\n",
    "    \n",
    "## Asignación de resultados:\n",
    "resultado_1=palabra[0]\n",
    "resultado_2=palabra[1]\n",
    "resultado_3=palabra[2]\n",
    "\n",
    "## Impresión de resultados:\n",
    "print(\"El primer elemento del iterable es: '\",resultado_1,\"' y su índice es 0.\\n\")\n",
    "print(\"El segundo elemento del iterable es: '\",resultado_2,\"' y su índice es 1.\\n\")\n",
    "print(\"El tercer elemento del iterable es: '\",resultado_3,\"' y su índice es 2.\\n\") \n",
    "~~~"
   ]
  },
  {
   "cell_type": "code",
   "execution_count": null,
   "metadata": {},
   "outputs": [],
   "source": [
    "# Pase aquí el mini ejemplo anterior"
   ]
  },
  {
   "cell_type": "markdown",
   "metadata": {},
   "source": [
    "- **Índices negativos:** <a id=\"Min-eje_Indices-negativos\"></a>\n",
    "Las posiciones en un iterable también pueden ser representadas con número negativos, como si se cambiára de punto de referencia al último elemento y las posiciones se contáran hacia atrás, esta indexación **empieza en -1**.  \n",
    "\n",
    "~~~python\n",
    "# Mini_Ejemplo: Índices negativos\n",
    "\n",
    "## Ingreso de datos:\n",
    "palabra=input(\"Por favor, ingrese una palabra de más de tres letras:\\n\")\n",
    "\n",
    "## Pequeña validación de datos: \n",
    "if not((palabra.isalpha()) and (len(palabra)>3)):\n",
    "    palabra= 'electroencefalografísta'\n",
    "    print(\"Lo sentimos, no ha ingresado una palabra válida, el programa usará:\",palabra,\"\\n\")\n",
    "    \n",
    "## Asignación de resultados:\n",
    "resultado_1=palabra[-1]\n",
    "resultado_2=palabra[-2]\n",
    "resultado_3=palabra[-3]\n",
    "    \n",
    "## Impresión de resultados: \n",
    "print(\"El último elemento del iterable es: '\",resultado_1,\"' y su índice es -1.\\n\")\n",
    "print(\"El penúltimo elemento del iterable es: '\",resultado_2,\"' y su índice es -2.\\n\")\n",
    "print(\"El antepenúltimo elemento del iterable es: '\",resultado_3,\"' y su índice es -3.\\n\")\n",
    "~~~"
   ]
  },
  {
   "cell_type": "code",
   "execution_count": null,
   "metadata": {},
   "outputs": [],
   "source": [
    "# Pase aquí el mini ejemplo anterior"
   ]
  },
  {
   "cell_type": "markdown",
   "metadata": {},
   "source": [
    "- **Secciones:** <a id=\"Min-eje_Secciones\"></a>\n",
    "También se puede acceder a través de los índices a secciones de un iterable, para esto se deben indicar la posición inicial y final+1 de la sección. \n",
    "\n",
    "~~~python\n",
    "# Mini_Ejemplo: Secciones\n",
    "\n",
    "## Ingreso de datos:\n",
    "palabra=input(\"Por favor, ingrese una palabra de más de seis letras:\\n\")\n",
    "\n",
    "## Pequeña validación de datos:\n",
    "if not((palabra.isalpha()) and (len(palabra)>3)):\n",
    "    palabra= 'electroencefalografísta'\n",
    "    print(\"Lo sentimos, no ha ingresado una palabra válida, el programa usará:\",palabra,\"\\n\")\n",
    "    \n",
    "## Asignación de resultados:\n",
    "resultado_1=palabra[0:4]\n",
    "resultado_2=palabra[:4]\n",
    "resultado_3=palabra[:-3]\n",
    "resultado_4=palabra[2:5]\n",
    "resultado_5=palabra[1:]\n",
    "resultado_6=palabra[-5:]\n",
    "    \n",
    "## Impresión de resultados:\n",
    "print(\"Los primeros cuatro elementos del iterable son: '\",resultado_1,\"' es decir, los elementos que están desde la posición 0 y antes de la 4.\\n\")\n",
    "\n",
    "print(\"Lo anterior también se puede decir: Los elementos que están antes del quinto elemento son: '\",resultado_2,\"' es decir, los elementos que están antes de la posición 4.\\n\")\n",
    "\n",
    "print(\"Los elementos que están antes del antepenúltimo elemento son: '\",resultado_3,\"' es decir, los elementos que están antes de la posición -3.\\n\")\n",
    "\n",
    "print(\"Los elementos que están desde el tercer elemento hasta el quinto son: '\", resultado_4,\"' es decir, los elementos que están desde la posición 2 y antes de la posición 5.\\n\")\n",
    "\n",
    "print(\"Los elementos que están después del segundo elemento son: '\", resultado_5,\"' es decir, los elementos que están desde la posición 1 en adelante.\\n\")\n",
    "\n",
    "print(\"Los últimos 5 elementos son:'\", resultado_6,\"' es decir, los elementos que están desde la posición -5 en adelante.\\n\")\n",
    "~~~"
   ]
  },
  {
   "cell_type": "code",
   "execution_count": null,
   "metadata": {},
   "outputs": [],
   "source": [
    "# Pase aquí el mini ejemplo anterior"
   ]
  },
  {
   "cell_type": "markdown",
   "metadata": {},
   "source": [
    "- **Error de Indexación:**<a id='Min-eje_Error-de-Indexacion'></a>\n",
    "Si se intenta acceder a una posición que no existe al correr el código arrojará.\n",
    "\n",
    "~~~python\n",
    "# Mini_Ejemplo: Error de Indexación\n",
    "\n",
    "iterable=\"01234567\"\n",
    "indice=iterable[8]\n",
    "\n",
    "\">>> IndexError: string index out of range\"\n",
    "~~~"
   ]
  },
  {
   "cell_type": "markdown",
   "metadata": {},
   "source": [
    "## **4.2. Estructuras de Repetición** <a id='4.2_Estructuras-de-Repeticion'></a>"
   ]
  },
  {
   "cell_type": "markdown",
   "metadata": {},
   "source": [
    "Las estructuras de repetición son un tipo de estructura de control, usada para repetir un conjunto de instrucciones durante una cantidad de ciclos determinada o hasta que una condición no se cumpla, normalmente son llamados bloques de repetición, bucles o ciclos.\n",
    "\n",
    "El Bloque for y el Bloque while son las principales estructuras de repetición, y muchas veces pueden ser usadas cualquiera de las dos para crear un ciclo en específico, sin embargo, hay varias diferencias entre ellos.\n",
    "\n",
    "###### **Ojo:** Al igual que con las estructuras de decisión, la indentación es crucial para que el código corra correctamente."
   ]
  },
  {
   "cell_type": "markdown",
   "metadata": {},
   "source": [
    "## 4.2.1. Bloque for <a id='4.2.1_Bloque-for'></a>"
   ]
  },
  {
   "cell_type": "markdown",
   "metadata": {},
   "source": [
    "La ejecución de este ciclo siempre va a depender de un iterable, hay diferentes maneras en que se usa un ciclo for, a continuación, se mostrarán algunas de ellas.\n",
    "\n",
    "### 4.2.1.1 Recorrer un Iterable <a id='4.2.1.1_Recorrer-un-Iterable'></a>\n",
    "El bloque for se puede usar para para recorrer e interactuar con los elementos de un iterable, normalmente se lee: *por cada elemento en un iterable realice las siguientes instrucciones:*.<a id='Min-eje_Recorrer-un-iterable'></a>\n",
    "\n",
    "~~~python\n",
    "# Mini_Ejemplo: Recorrer un iterable\n",
    "iterable=\"cadena\"\n",
    "\n",
    "for elemento in iterable:\n",
    "    \"Aquí van las instrucciones a realizar\"\n",
    "    print(elemento.upper())\n",
    "\n",
    "print(\"Aquí ya salimos del bloque\")\n",
    "~~~"
   ]
  },
  {
   "cell_type": "code",
   "execution_count": null,
   "metadata": {},
   "outputs": [],
   "source": [
    "# Pase aquí el mini ejemplo anterior"
   ]
  },
  {
   "cell_type": "markdown",
   "metadata": {},
   "source": [
    "### 4.2.1.2 Recorrido con Índices <a id=\"4.2.1.2_Recorrido-con-Indices\"></a>\n",
    "Es muy útil cuando se necesita interactuar con dos iterables a la vez, es muy importante que estos sean del mismo tamaño, porque se puede tener un ciclo incompleto o que al correrlo arroje [index error](Min-eje_Error-de-Indexacion \"Ir al apartado error de indexación\").\n",
    "\n",
    "Para esto se debe usar la función `range(k)`\n",
    "\n",
    "- **Función range:** <a id=\"Min-eje_Funcion-range\"></a>\n",
    "Los parámetros de esta función son (start, stop, step), el tercero es opcional, por ejemplo si las entradas son (j,k,n), retornará una lista inmutable de números desde (j) hasta (k-1), saltando de (n) en (n). Si sólo se ingresa un valor la función tomará las entradas por defecto como (0,k)\n",
    "\n",
    "~~~python\n",
    "# Mini_Ejemplo Función range\n",
    "\n",
    "print(\"Rango a: 1,11,2\")\n",
    "for i in range(1,11,2):\n",
    "    print(i)\n",
    "\n",
    "print(\"Rango b: 1,11\")\n",
    "for i in range(1,11):\n",
    "    print(i)\n",
    "\n",
    "print(\"Rango c: 11\")\n",
    "for i in range(11):\n",
    "    print(i)\n",
    "\n",
    "print(\"Rango d: -2,2\")\n",
    "for i in range (-2,2):\n",
    "    print(i)\n",
    "~~~"
   ]
  },
  {
   "cell_type": "code",
   "execution_count": null,
   "metadata": {},
   "outputs": [],
   "source": [
    "# Pase aquí el mini ejemplo anterior"
   ]
  },
  {
   "cell_type": "markdown",
   "metadata": {},
   "source": [
    "En el siguiente se verá cómo crear una cadena, fusionando dos cadenas predefinidas intercalando sus elementos.<a id=\"Min-eje_Recorrido-con-Indices\"></a>\n",
    "\n",
    "~~~python\n",
    "# Mini_Ejemplo: Recorrido con Índices\n",
    "\n",
    "consonantes=\"TYT\" #Iterable 1\n",
    "vocales=\"OOA\" #Iterable 2\n",
    "resultado=\"\" # Se crea una cadena vacía para acumular resultados internos.\n",
    "rango_indices=range(len(consonantes)) # Se crea el rango para los índices = 0 hasta (tamaño de consonantes)-1\n",
    "\n",
    "for i in rango_indices:\n",
    "    print(\"Esta es la vez No.\",i+1,\"en la que entramos al ciclo, el índice actual es:\",i,\"\\n\")\n",
    "    resultado_interno=consonantes[i]+vocales[i] # Concatenar los elementos de mismo índice de vocales y consonante\n",
    "    print(\"Resultado interno=\",resultado_interno)\n",
    "    resultado=resultado+resultado_interno # Acumular los resultados internos\n",
    "    print(\"Resultado acumulado=\",resultado,\"\\n\\n\")\n",
    "\n",
    "print(\"El resultado final=\",resultado)\n",
    "~~~"
   ]
  },
  {
   "cell_type": "code",
   "execution_count": null,
   "metadata": {},
   "outputs": [],
   "source": [
    "# Pase aquí el mini ejemplo anterior"
   ]
  },
  {
   "cell_type": "markdown",
   "metadata": {},
   "source": [
    "### 4.2.1.3 Contador Condicional <a id=\"4.2.1.3_Contador-Condicional\"></a>\n",
    "Es usado cuando se necesita contar la cantidad de elementos de un iterable que cumplen con una condición.\n",
    "\n",
    "Como el contador es una variable acumulativa, será de gran ayuda conocer los operadores de asignación.\n",
    "\n",
    "- **Operadores de asignación: **\n",
    "Estos operadores son muy útiles para abreviar operaciones sobre la misma variable.\n",
    "\n",
    "|Operador|Descripción|Operación|Descripción|\n",
    "|:--------:|:--------:|:--------:|:--------:|\n",
    "|=|Igualdad|/=|c/=3(c=c/3)|\n",
    "|+=|c+=1 (c=c+1)|%=|c%=4 (c=c%4)|\n",
    "|-.=|c-=1 (c=c-1)|\\**\\=|c\\*\\*\\=2(c=c\\*\\*2\\)|\n",
    "|*=|c\\*=2 (c=c*2)|//=|c//=5 (c=c//5)|\n",
    "\n",
    "El siguiente Mini_ejemplo cuenta cuantos números primos hay entre 1 y 100. Si desea imprimir la lista de los números identificados, como primos o no, deshabilite los comentarios. <a id=\"Min-eje_Contador-Condicional\"></a>\n",
    "\n",
    "~~~python\n",
    "# Mini_Ejemplo: Contador Condicional (Números primos hasta el 100)\n",
    "\n",
    "rango=range(1,101) # Se crea el rango de 1 hasta 100\n",
    "contador=0\n",
    "\n",
    "for i in rango:\n",
    "    if i!=1 and ((i in (2,3,5,7))or not((i%2==0) or (i%3==0) or (i%5==0) or (i%7==0))):\n",
    "#         print(i,\"es primo\")\n",
    "        contador+=1 #contador=contador+1\n",
    "#     else:\n",
    "#         print(i,\"no es primo\")\n",
    "\n",
    "print(\"\\nLa cantidad de números primos que hay hasta 100 es:\",contador)\n",
    "~~~"
   ]
  },
  {
   "cell_type": "code",
   "execution_count": null,
   "metadata": {},
   "outputs": [],
   "source": [
    "# Pase aquí el mini ejemplo anterior"
   ]
  },
  {
   "cell_type": "markdown",
   "metadata": {},
   "source": [
    "### 4.2.1.4 Acumulador <a id='4.2.1.4_Acumulador'></a>\n",
    "Este ciclo tambien se puede utilizar para acumular en una variable los resultados de cada cíclo, sobretodo cuando se necesita interactuar con los resultados de cíclos anteriores y se debe crear una variable que haga el papel de memoria.\n",
    "\n",
    "En el siguiente ejemplo se va a guardar en un string la secesión de Fibonacci hasta el n-avo valor, el cual es ingresado por el usuario.<a id=\"Min-eje_Acumulador\"></a>\n",
    "\n",
    "La suseción de fibonacci $(x_n)$ está descrita por la siguiente formula: $x_1=1,\\quad x_2=1,\\quad x_n=x_{n-1}+x_{n-2}\\;\\;(n>2)$, es decir, $(x_n)$ es igual, a la suma de los dos $(x_n)$ anteriores, por lo tanto la lógica que siguió fue la siguiente:  \n",
    "\n",
    "Sea:  \n",
    "nuevo_fibonacci= $(x_n)$  \n",
    "fibonacci_actual= $x_{n-1}$   \n",
    "fibonacci anterior= $x_{n-2}$   \n",
    "\n",
    "~~~\n",
    "Crear una la lista de 1 hasta el n-avo Fibonacci.\n",
    "\n",
    "Para cada n evaluar:\n",
    "\n",
    "    Si n es 1:\n",
    "        El fibonacci actual es 0 \n",
    "        Y el anterior es 1.   \n",
    "        \n",
    "    Si es diferentes de 1 entonces:\n",
    "        El nuevo fibonacci es el actual + el anterior\n",
    "        (Después de calculado el nuevo fibonacci)\n",
    "        El fibonacci actual se convierte en el anteriror. \n",
    "        Y el nuevo fibonacci se convierte en el actual. \n",
    "~~~\n",
    "\n",
    "~~~python\n",
    "# Mini_Ejemplo: Acumulador (Sucesión de Fibonacci)\n",
    "\n",
    "#Ingresar datos\n",
    "n_avo=input(\"Por favor ingrese el n-avo Fibonacci hasta donde quiere calcular la sucesión\\n\")\n",
    "sucesion=\"\"\n",
    "\n",
    "## Peuqeña validación de datos:\n",
    "if not n_avo.isnumeric():\n",
    "    n_avo=100\n",
    "    print(\"Ha ingresado un valor inválido, el programa ha defino que el n-avo Fibonacci será:\",n)\n",
    "\n",
    "## Conversión:\n",
    "n_avo=int(n_avo)\n",
    "\n",
    "## Crear rango:\n",
    "rango=range(1,n_avo+1) #creamos el rango para que empiece en 1 y termine en n.\n",
    "\n",
    "for i in rango:\n",
    "    # Si es el Fibonacci no. 1 entonces:\n",
    "    if i==1:\n",
    "        #El fibonacci anterior es igual 0 y el actual es igual 1\n",
    "        fibonacci_anterior=0\n",
    "        fibonacci=1\n",
    "    else: #si no\n",
    "        #El nuevo fibonacci es igual alactual mas el anterior.\n",
    "        nuevo_fibonacci=fibonacci+fibonacci_anterior\n",
    "        fibonacci_anterior=fibonacci\n",
    "        fibonacci=nuevo_fibonacci\n",
    "    final=\",\\n\" if i!=n_avo else \".\"\n",
    "    sucesion=sucesion+\"Fibonacci No.\"+str(i)+\"= \"+str(fibonacci)+final\n",
    "    \n",
    "print(\"La sucesión Fibonacci hasta el índice 100 es:\")\n",
    "print(sucesion)\n",
    "~~~"
   ]
  },
  {
   "cell_type": "code",
   "execution_count": null,
   "metadata": {},
   "outputs": [],
   "source": [
    "# Pase aquí el mini ejemplo anterior"
   ]
  },
  {
   "cell_type": "markdown",
   "metadata": {},
   "source": [
    "## 4.2.2. Bloque while <a id='4.2.2_Bloque-while'></a>\n",
    "\n",
    "Este bloque ejecuta las instrucciones que contiene mientras se cumpla la condición a la que esté sujeto, cuando esta condición deja de ser verdadera se pasa al siguiente bloque del código.\n",
    "\n",
    "Como se verá más adelante este bloque es muy útil cuando no se tine predefino la cantidad de iteraciones a realizar, y normalmente se lee: *Mientras se cumpla la condición x haga:*\n",
    "\n",
    "A continuación, están algunas formas de usar este bloque.\n",
    "\n",
    "### 4.2.2.1. Contadores no Lineales. <a id='4.2.2.1_Contadores-no-Lineales'></a>\n",
    "\n",
    "En el siguiente ejemplo, el usuario tiene 5 intentos para adivinar un número, así que puede haber hasta 5 interacciones, pero no se sabe exactamente cuántas, ya que, el usuario puede adivinar en la oportunidad 1,2,3 o 4, por lo tanto, lo más común es usar un bloque while, ya que, para hacerlo con un bloque for habría que usar el [controlador break](#4.2.3_Controladores-de-Bucles \"Ir al apartado de controladores de bucles\") que se explicará más adelante. <a id='Min-eje_Contadores-no-Lineales'></a>\n",
    "\n",
    "~~~python\n",
    "# Mini_Ejemplo: Contadores no lineales\n",
    "\n",
    "## Ingreso datos:\n",
    "import random\n",
    "numero=str(random.randint(1,10))\n",
    "intentos=1\n",
    "print(\"Adivina el número entre 1 y 10, cuenta con 5 intentos\")\n",
    "\n",
    "\n",
    "while intentos<=5: \n",
    "    num_usuario=input(\"Ingrese un número.\")\n",
    "    \n",
    "    if num_usuario==numero:\n",
    "        print(\"!Has adivinado, felicitaciones!\")\n",
    "        intentos=5\n",
    "    elif intentos==4:\n",
    "        print(\"Fallaste, ya solo te queda una oportunidad.\")\n",
    "    elif intentos==5:\n",
    "        print(\"Fallaste de nuevo, el número era\",numero)\n",
    "    else:\n",
    "        print(\"El número no es\",num_usuario,\"vuelve a intentarlo.\")\n",
    "    \n",
    "    intentos+=1\n",
    "    \n",
    "print(\"Terminamos de jugar, !gracias!\")\n",
    "~~~"
   ]
  },
  {
   "cell_type": "code",
   "execution_count": null,
   "metadata": {},
   "outputs": [],
   "source": [
    "# Pase aquí el mini ejemplo anterior"
   ]
  },
  {
   "cell_type": "markdown",
   "metadata": {},
   "source": [
    "### 4.2.2.2 Ejecución por Evento <a id='4.2.2.2_Ejecución-por-Evento'></a>\n",
    "Cuando se necesita que se cumpla cierta condición para poder continuar, se crea un ciclo while, como muestra el siguiente mini_ejemplo no se pode seguir hasta que no se ingrese un número entero. <a id='Min-eje_Ejecución-por-Evento'></a>\n",
    "\n",
    "~~~python\n",
    "# Mini_Ejemplo: Ejecución por Evento (Pequeña validación de datos)\n",
    "\n",
    "numero=input(\"Por favor, ingrese un número entero:\")\n",
    "         \n",
    "while not(numero.isnumeric()):\n",
    "    numero=input(\"No ha ingresado un número entero, por favor vuelva a intentarlo\")\n",
    "    \n",
    "print(\"Gracias por ingresar un número válido\")\n",
    "~~~"
   ]
  },
  {
   "cell_type": "code",
   "execution_count": null,
   "metadata": {},
   "outputs": [],
   "source": [
    "# Pase aquí el mini ejemplo anterior"
   ]
  },
  {
   "cell_type": "markdown",
   "metadata": {},
   "source": [
    "### 4.2.2.3 Bucles Infinitos <a id='4.2.2.3_Bucles-Infinitos'></a>\n",
    "Como se vió el ciclo while a diferencia del ciclo for no requiere tener definida la cantidad de iteraciones, y se puede repetir un bloque hasta o mientras que  se cumpla una condición como vimos en ejemplo anterior, por lo cual, es posible tener un ciclo infinito si esta condición nunca se llega a cumplir, por lo tanto, el programa nunca dejará de ejecutarse.\n",
    "\n",
    "Por ejemplo si ejecuta el siguiente Mini_Ejemplo en una consola está no dejará de ejecutarse hasta que la reinicie con ( ctrl + L + C ) o se acabe la memoria.  \n",
    "\n",
    "~~~python\n",
    "# Mini_Ejemplo: Bucle infinito (Factorial infinito)\n",
    "numero=1\n",
    "factorial=1\n",
    "while numero>=1:\n",
    "    factorial*=numero\n",
    "    print(factorial,\"\\n\")\n",
    "    numero+=1\n",
    "~~~\n",
    "![Fig1_Bucle_Infinito](Fig1_Bucle_Infinito.gif)"
   ]
  },
  {
   "cell_type": "markdown",
   "metadata": {},
   "source": [
    "## 4.2.3. Controladores de Bucles <a id='4.2.3_Controladores-de-Bucles'></a>\n",
    "Las palabras reservadas `Break` y `Continue`, son instrucciones que modifican el flujo de una estructura de repetición.\n",
    "- **Break:** Se utiliza para salir de un bucle si se cumple una condición.\n",
    "- **Continue:** Con esta instrucción se puede saltar una parte del bucle si se cumple una condición.  \n",
    "\n",
    "En la guía no se va hacer mucho uso de ellos, sin embargo, el siguiente ejemplo muestra cómo hacer el [Mini_Ejemplo Contadores no Lineales](#Min-eje_Contadores-no-Lineales), con un bloque for haciendo uso de la instrucción break. <a id='Min-eje_Break'></a>\n",
    "\n",
    "~~~python\n",
    "# Mini_Ejemplo: Break (Adivinar un número con for)\n",
    "\n",
    "## Ingreso datos:\n",
    "import random\n",
    "numero=str(random.randint(1,10))\n",
    "numero=str(4)\n",
    "print(\"Adivina el número entre 1 y 10, cuenta con 5 intentos\")\n",
    "\n",
    "for i in range(5):\n",
    "    num_usuario=input(\"Ingrese un número\")\n",
    "    if num_usuario==numero:\n",
    "        print(\"!Has adivinado, felicitaciones!\")\n",
    "        break\n",
    "    elif i==3:\n",
    "        print(\"Fallaste, ya solo te queda una oportunidad.\")\n",
    "    elif i==4:\n",
    "        print(\"Fallaste de nuevo, el número era\",numero)\n",
    "    else:\n",
    "        print(\"El número no es\",num_usuario,\"vuelve a intentarlo.\")\n",
    "        \n",
    "print(\"Terminamos de jugar, !gracias!\")\n",
    "~~~"
   ]
  },
  {
   "cell_type": "code",
   "execution_count": null,
   "metadata": {},
   "outputs": [],
   "source": [
    "# Pase aquí el mini ejemplo anterior"
   ]
  },
  {
   "cell_type": "markdown",
   "metadata": {},
   "source": [
    "_____"
   ]
  },
  {
   "cell_type": "markdown",
   "metadata": {},
   "source": [
    "| [***Anterior***](../3_Estructuras_Logicas/3_Estructuras_Logicas.ipynb#3_Estructuras-Logicas) <!--(https://mybinder.org/Introducción)--> | - | [***Siguiente***](../5_Estructura_de_Datos/5_Estructura_de_Datos.ipynb#5_Estructura-de-Datos-Basicas) <!--(https://www.python.org/Programas-en-Python)--> |\n",
    "| :--------: | :-------: | :--------: |"
   ]
  },
  {
   "cell_type": "markdown",
   "metadata": {},
   "source": [
    "| [**Home**](../Home.ipynb#Home)<!--(https://mybinder.org/Home)--> |\n",
    "| :--------: |"
   ]
  }
 ],
 "metadata": {
  "kernelspec": {
   "display_name": "Python 3",
   "language": "python",
   "name": "python3"
  },
  "language_info": {
   "codemirror_mode": {
    "name": "ipython",
    "version": 3
   },
   "file_extension": ".py",
   "mimetype": "text/x-python",
   "name": "python",
   "nbconvert_exporter": "python",
   "pygments_lexer": "ipython3",
   "version": "3.7.4"
  }
 },
 "nbformat": 4,
 "nbformat_minor": 4
}
