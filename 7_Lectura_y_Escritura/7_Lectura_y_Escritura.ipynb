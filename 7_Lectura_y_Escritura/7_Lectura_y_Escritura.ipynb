{
 "cells": [
  {
   "cell_type": "markdown",
   "metadata": {},
   "source": [
    "# 7. Lectura y Escritura <a id='7_Lectura_y_Escritura'></a>"
   ]
  },
  {
   "cell_type": "markdown",
   "metadata": {},
   "source": [
    "---\n",
    "### [6.1. Declaración](#6.1_Declaracion)   \n",
    ">[6.1.1. Tipos de Funciones](#6.1.1_Tipos_de_Funciones)      \n",
    "[6.1.2. Funcion Lambda](#6.1.2_Funcion_Lambda)      \n",
    "[6.1.3. Documentación](#6.1.3_Documentacion)   \n",
    "\n",
    "\n",
    "\n",
    "#### [7.1. Lectura](#7.1_Lectura)   \n",
    ">[7.1.1. Ubicación de Archivos](7-Lectura_y_Escritura/7-Lectura_y_Escritura.ipynb#7.1.1_Ubicacion-de-Archivos)    \n",
    "[7.1.2. Almacenar Datos](7-Lectura_y_Escritura/7-Lectura_y_Escritura.ipynb#7.1.2_Almacenar-Datas)   \n",
    "#### [7.2. Escritura](7-Lectura_y_Escritura/7-Lectura_y_Escritura.ipynb#7.2_Escritura)    \n",
    ">>[7.2.1. Crear Carpetas](7-Lectura_y_Escritura/7-Lectura_y_Escritura.ipynb#7.2.1_Crear-Carpetas)\n",
    "#### [7.3. Crear Archivos .xlsx](7-Lectura_y_Escritura/7-Lectura_y_Escritura.ipynb#7.3_Archivos-xlsx)  \n",
    ">[7.3.1. Crear los DataFrames](7-Lectura_y_Escritura/7-Lectura_y_Escritura.ipynb#7.3.1_Crear-los-DataFrames)    \n",
    "[7.3.2. Crear y Editar el Documento](7-Lectura_y_Escritura/7-Lectura_y_Escritura.ipynb#7.3.2_Crear-y-Editar-el-Documento)     \n",
    "[7.3.3. Aplicar Títulos y Formatos](7-Lectura_y_Escritura/7-Lectura_y_Escritura.ipynb#7.3.3_Aplicar-Títulos-y-Formatos)  \n",
    "     "
   ]
  },
  {
   "cell_type": "markdown",
   "metadata": {},
   "source": [
    "---"
   ]
  },
  {
   "cell_type": "markdown",
   "metadata": {},
   "source": [
    "## **6.1. Declaración** <a id='6.1_Declaracion'></a>  \n",
    "Para declarar una función en Python se ha uso de la palabra de reservada `def` seguida del nombre y los argumentos entre paréntesis, al igual que con otras estructuras los dos puntos indican que las instrucciónes siguientes que estén indentadas hacen parte de la función, por ultimo se emplea la palabra `return` para indicar la salida de esta.\n",
    "\n",
    "~~~python\n",
    "def nombre_funcion(argumento_1, ..., argumento_n):\n",
    "    indicación_1\n",
    "    indicación_2\n",
    "    ...\n",
    "    indicación_n\n",
    "    \n",
    "    return salida\n",
    "~~~"
   ]
  },
  {
   "cell_type": "markdown",
   "metadata": {},
   "source": [
    "## 6.1.1. Tipos de Funciones <a id='6.1.1_Tipos_de_Funciones'></a>   \n",
    "Las funciones pueden ser clasificadas según la existencia de sus entradas y salidas, debido a que tanto los arumentos como la el retorno son opcionales. A continuación se mostraran los cuatro tipos de declaraciones.\n",
    "\n",
    "- **Función completa:** Es la que comparte un mayor parecido al concepto matemático de función, debido a que tiene unas entradas (argumentos), las transforma (con las indicaciones) y devuelve un resultado (salida), normalmente este resultado luego será usado en el código por lo cual se guarda en una variable. Este tipo de declaración se usa por ejemplo en las funciones de lectura y almacenamiento de datos y la funciones de módulos.\n",
    "\n",
    "~~~python\n",
    "# Declaración\n",
    "\n",
    "def tri_cua_per(x,y):\n",
    "    \"Devuelve el trinomio cuadrado perfecto, de los números indicados\"\n",
    "    resultado=(x**2)+(2*x*y)+(y**2)\n",
    "    \n",
    "    return resultado\n",
    "   \n",
    "# Uso\n",
    "num_1=int(input(\"Por favor ingrese un número: \"))\n",
    "num_2=int(input(\"Por favor ingrese otro número: \"))\n",
    "\n",
    "trinomio=tri_cua_per(num_1,num_2)\n",
    "\n",
    "print(\"El trinomio cuadrado perfecto de\",num_1,\"y\",num_2,\"es: \",trinomio)\n",
    "\n",
    "~~~"
   ]
  },
  {
   "cell_type": "code",
   "execution_count": null,
   "metadata": {},
   "outputs": [],
   "source": [
    "# Pase el código anterior aquí."
   ]
  },
  {
   "cell_type": "markdown",
   "metadata": {},
   "source": [
    "- **Función sin salidas:** Esta función toma los argumentos de entrada y realiza una transformación de estas pero no devuelve ningun objeto, normalmente es empleada para mostrar objetos o guardar archivos.\n",
    "\n",
    "~~~python\n",
    "# Declaración\n",
    "\n",
    "def tri_cua_per(x,y):\n",
    "    \"Devuelve un mensaje con el trinomio cuadrado perfecto, de los números indicados\"\n",
    "    \n",
    "    resultado=(x**2)+(2*x*y)+(y**2)\n",
    "    print(\"El trinomio cuadrado perfecto de\",x,\"y\",y,\"es: \",resultado)\n",
    "    \n",
    "    return None # Si esta línea no está escrita el interprete de Python hará de cuenta que si lo está.\n",
    "   \n",
    "# Uso\n",
    "num_1=int(input(\"Por favor ingrese un número: \"))\n",
    "num_2=int(input(\"Por favor ingrese otro número: \"))\n",
    "\n",
    "tri_cua_per(num_1,num_2)\n",
    "~~~"
   ]
  },
  {
   "cell_type": "code",
   "execution_count": null,
   "metadata": {},
   "outputs": [],
   "source": [
    "# Pase el código anterior aquí."
   ]
  },
  {
   "cell_type": "markdown",
   "metadata": {},
   "source": [
    "- **Función sin entradas:** Este tipo de función en lugar tomar sus entrada con los argumentos utiliza variables globales (variables que ya existen en código donde se va a usar la función), o puede pedir directamente las entradas al usuario con `input`, al igual que una función completa su salida puede ser guardada en una variable aparte para ser utilizada posteriromente. Algunas funciones de validación usan esta forma de declaración.\n",
    "\n",
    "**La función usando variables globales sería asi:**\n",
    "    \n",
    "~~~python\n",
    "# Declaración\n",
    "\n",
    "def tri_cua_per():\n",
    "    \"Devuelve el trinomio cuadrado perfecto de las varaibles num_1 y num_2\"\n",
    "    \n",
    "    resultado=(num_1+num_2)**2\n",
    "    \n",
    "    return resultado\n",
    "   \n",
    "# Uso\n",
    "\n",
    "num_1=int(input(\"Por favor ingrese un número: \"))\n",
    "num_2=int(input(\"Por favor ingrese otro número: \"))\n",
    "trinomio=tri_cua_per()\n",
    "\n",
    "print(\"El trinomio cuadrado perfecto de\",num_1,\"y\",num_2,\"es: \",trinomio)\n",
    "~~~"
   ]
  },
  {
   "cell_type": "code",
   "execution_count": null,
   "metadata": {},
   "outputs": [],
   "source": [
    "# Pase el código anterior aquí."
   ]
  },
  {
   "cell_type": "markdown",
   "metadata": {},
   "source": [
    "**La función pidiendo directamente las entradas seria así:**\n",
    "\n",
    "~~~python\n",
    "# Declaración\n",
    "\n",
    "def tri_cua_per():\n",
    "    \"Pide dos números y los devuelve junto con su trinomio cuadrado perfecto\"\n",
    "    \n",
    "    x=int(input(\"Por favor ingrese un número: \"))\n",
    "    y=int(input(\"Por favor ingrese otro número: \"))\n",
    "    resultado=(x+y)**2\n",
    "    \n",
    "    return (x,y,resultado) # Se devuleve una tupla\n",
    "   \n",
    "# Uso\n",
    "\n",
    "num_1,num_2,trinomio=tri_cua_per() # Aquí se abre la tupla asignando una variable a cada elemento.\n",
    "print(\"El trinomio cuadrado perfecto de\",num_1,\"y\",num_2,\"es: \",trinomio)\n",
    "~~~"
   ]
  },
  {
   "cell_type": "code",
   "execution_count": null,
   "metadata": {},
   "outputs": [],
   "source": [
    "# Pase el código anterior aquí."
   ]
  },
  {
   "cell_type": "markdown",
   "metadata": {},
   "source": [
    "- En el ejemplo anterior las variables 'x' y 'y' tienen que devolverse como salida y almacenarce en las variables num_1 y num_2 porque son varaibles locales de la función, por lo cual, no existen en otra parte del código y son utilizadas fuera de la función al correr el código mostrará NameError. <a id='Min-eje_Varaibles_Locales'></a>\n",
    " \n",
    "~~~python\n",
    "# Mini_Ejemplo: Variables locales\n",
    "\n",
    "def tri_cua_per():\n",
    "    \"Pide dos números y los devuelve junto con su trinomio cuadrado perfecto\"\n",
    "    \n",
    "    x=int(input(\"Por favor ingrese un número: \"))\n",
    "    y=int(input(\"Por favor ingrese otro número: \"))\n",
    "    resultado=(x+y)**2\n",
    "    \n",
    "    return (resultado) # Se devuleve una tupla\n",
    "   \n",
    "# Uso\n",
    "\n",
    "trinomio=tri_cua_per()\n",
    "print(\"El trinomio cuadrado perfecto de\",x,\"y\",y,\"es: \",trinomio)\n",
    "\n",
    ">>> \"NameError: name 'x' is not defined\"\n",
    "~~~\n"
   ]
  },
  {
   "cell_type": "markdown",
   "metadata": {},
   "source": [
    "- **Función sin entradas ni salidas:** Esta tipo de declaración es una mezcla de las dos anteriores, ya que, sus entradas la pide directamente al usuario o usa variables globales y sus salidas solo pueden mostradas o guardadas en un arachivo. La función de este tipo más conocida es la función del programa principal `main( )`.\n",
    "\n",
    "\n",
    "~~~python\n",
    "# Declaración\n",
    "\n",
    "def tri_cua_per():\n",
    "    \"Pide dos números y devuelve un mensaje con su trinomio cuadrado perfecto\"\n",
    "    \n",
    "    x=int(input(\"Por favor ingrese un número: \"))\n",
    "    y=int(input(\"Por favor ingrese otro número: \"))\n",
    "    \n",
    "    resultado=(x+y)**2\n",
    "    print(\"El trinomio cuadrado perfecto de\",x,\"y\",y,\"es: \",resultado)\n",
    "   \n",
    "    \n",
    "    return None # Si esta línea no está escrita el interprete de Python hará de cuenta que si lo está.\n",
    "   \n",
    "# Uso\n",
    "\n",
    "tri_cua_per()\n",
    "~~~"
   ]
  },
  {
   "cell_type": "code",
   "execution_count": null,
   "metadata": {},
   "outputs": [],
   "source": [
    "# Pase el código anterior aquí."
   ]
  },
  {
   "cell_type": "markdown",
   "metadata": {},
   "source": [
    "## 6.1.2. Funcion Lambda <a id='6.1.2_Funcion_Lambda'></a>    "
   ]
  },
  {
   "cell_type": "markdown",
   "metadata": {},
   "source": [
    "La función lambda permite definir pequeñas funciones de una sola línea directamente en el código que va a hacer uso de ella. \n",
    "\n",
    "Toda función lambda se puede expresar como una función convencional, pero no toda función convencional se puede expresar como una función lambda.\n",
    "\n",
    "La sintaxis para crear una función de este tipo es:\n",
    "~~~python\n",
    "Nombre= lambda <parámetros>:<indicación>\n",
    "~~~\n",
    "\n",
    "La función tri_cua_per completa vista en apartado anterior se puede escribir como función lambda.<a id='Min-eje_Funcion_Lambda'></a>\n",
    " \n",
    "~~~python\n",
    "# Mini_Ejemplo: Función Lambda\n",
    "\n",
    "# Declaración\n",
    "\n",
    "tri_cua_per = lambda x,y: (x+y)**2\n",
    "\n",
    "# Uso\n",
    "\n",
    "num_1=int(input(\"Por favor ingrese un número: \"))\n",
    "num_2=int(input(\"Por favor ingrese otro número: \"))\n",
    "\n",
    "trinomio=tri_cua_per(num_1,num_2)\n",
    "\n",
    "print(\"El trinomio cuadrado perfecto de\",num_1,\"y\",num_2,\"es: \",trinomio)\n",
    "\n",
    "~~~"
   ]
  },
  {
   "cell_type": "code",
   "execution_count": null,
   "metadata": {},
   "outputs": [],
   "source": [
    "# Pase aquí el mini ejemplo anterior"
   ]
  },
  {
   "cell_type": "markdown",
   "metadata": {},
   "source": [
    "## 6.1.3. Documentación <a id='6.1.3_Documentacion'></a>  \n",
    "\n",
    "Documentar una función es importante para facilitar la lectura de código y al momento de crear y utilizar funciones de [módulos propios](../9_Modulos/9_Modulos.ipynb#xxxx \"Ir al apartado de módulos propios\"). Para hacerlo se debe escribir en la primera línea de la función una descripción del lo que hace, las entradas que requiere y las salidas regresa, haciendo uso de las comillas simples, dobles o triples, dependiendo de que tan grande sea la descripción.\n",
    "\n",
    "Como se vió en capítulos anteriores para ver la documentación de un objeto se usa la función `help`.\n",
    "\n",
    "~~~python\n",
    "\n",
    "def dif_cua (x,y):\n",
    "    \"Devuelve la diferencia de cuadrados de los números indicados\"\n",
    "    resultado=(x**2)-(y**2)\n",
    "    \n",
    "    return resultado\n",
    "\n",
    "help(dif_cua)\n",
    "~~~"
   ]
  },
  {
   "cell_type": "code",
   "execution_count": null,
   "metadata": {},
   "outputs": [],
   "source": [
    "# Pase el código anterior aquí."
   ]
  },
  {
   "cell_type": "markdown",
   "metadata": {},
   "source": [
    "## **6.2. Argumentos** <a id='6.2_Argumentos'></a> \n",
    "Una función puede tener dos tipos de argumentos: obligatorios y opcionales. A continuaicón se mostrarán las características de cada uno.\n",
    "\n",
    "##  6.2.1. Argumentos Obligatorios <a id='6.2.1_Argumentos_Obligatorios'></a>\n",
    "\n",
    "Como su nombre lo dice son argumentos que deben ser ingresados obligatoriamente en la función para que esta pueda ejecutarse, de lo contrario aparecerá un error. La caracteristica mas importante es que deben ser inicializados en el mismo orden en que fueron declarados, de lo contrario, se pueden tener resultados indeseados o errores al correr el código.\n",
    "\n",
    "~~~python\n",
    "# Declaración\n",
    "\n",
    "def resta(n1,n2):\n",
    "    \"Devuelve la resta de n1-n2\"\n",
    " \n",
    "    return n1-n2\n",
    "\n",
    "print(\"Inicialización correcta\\n\")\n",
    "print(\"923 - 45 es:\",resta(923,45))\n",
    "\n",
    "print(\"\\nInicialización incorrecta\\n\")\n",
    "print(\"923 - 45 es:\",resta(45,923))\n",
    "\n",
    "~~~"
   ]
  },
  {
   "cell_type": "code",
   "execution_count": null,
   "metadata": {},
   "outputs": [],
   "source": [
    "# Pase el código anterior aquí."
   ]
  },
  {
   "cell_type": "markdown",
   "metadata": {},
   "source": [
    "~~~python\n",
    "# Declaración\n",
    "\n",
    "def peso(nombre,p_real,p_meta):\n",
    "    \"Devuelve un mensaje al usuario diciendole cuanto tiene que bajar o subir para llegar a su peso meta en Kg\"\n",
    "    \n",
    "    brecha=p_real-p_meta\n",
    "    \n",
    "    if brecha<0:\n",
    "        print(nombre+\": Debe subir\",brecha,\"Kg para llegar a los\", p_meta,\"Kg\")\n",
    "    elif brecha==0:\n",
    "        print(\"Felicitaciones ha cumplido su meta de peso\")\n",
    "    else:\n",
    "        print(nombre+\": Debe bajar\",brecha,\"Kg para llegar a los\", p_meta,\"Kg\")\n",
    " \n",
    "    return None\n",
    "\n",
    "print(\"Inicialización correcta\\n\")\n",
    "peso(\"Julian\",95,80)\n",
    "\n",
    "~~~"
   ]
  },
  {
   "cell_type": "code",
   "execution_count": null,
   "metadata": {},
   "outputs": [],
   "source": [
    "# Pase el código anterior aquí."
   ]
  },
  {
   "cell_type": "markdown",
   "metadata": {},
   "source": [
    "<a id='Min-eje_O_I_de_Argumentos'></a>\n",
    " \n",
    "~~~python\n",
    "# Mini_Ejemplo: Orden Incorrecto de Argumentos\n",
    "\n",
    "# Declaración\n",
    "\n",
    "def peso(nombre,p_real,p_meta):\n",
    "    \"Devuelve un mensaje al usuario diciendole cuanto tiene que bajar o subir para llegar a su peso meta en Kg\"\n",
    "    \n",
    "    brecha=p_real-p_meta\n",
    "    \n",
    "    if brecha<0:\n",
    "        print(nombre+\": Debe subir\",brecha,\"Kg para llegar a los\", p_meta,\"Kg\")\n",
    "    elif brecha==0:\n",
    "        print(\"Felicitaciones ha cumplido su meta de peso\")\n",
    "    else:\n",
    "        print(nombre+\": Debe bajar\",brecha,\"Kg para llegar a los\", p_meta,\"Kg\")\n",
    " \n",
    "    return None\n",
    "\n",
    "print(\"\\nInicialización incorrecta\\n\")\n",
    "peso(45,\"Alicia\",50)\n",
    "\n",
    ">>> \"TypeError: unsupported operand type(s) for -: 'str' and 'int'\"\n",
    "\n",
    "~~~"
   ]
  },
  {
   "cell_type": "markdown",
   "metadata": {},
   "source": [
    "##  6.2.2. Argumentos Opcionales <a id='6.2.2_Argumentos_Opcionales'></a>\n",
    "\n",
    "Son argumentos que pueden ser inicializados o no al usar la función, porque se les asignó un valor predeterminado al momento de declarar la función y si no son indicados la función operará con estos valores. \n",
    "\n",
    "Si la función tiene los dos tipos de argumentos, los obligatorios simpre deben ir primero que los opcionales, además estos últimos aunque tienen la caracteristica de que se pueden inicilizar segun su posición también se puede hacer por asignación directa con su nombre lo que permite una inicalización diferente al orden preestablecido.\n",
    "\n",
    "En el siguiente Mini_Ejemplo los argumento menor, n y menor son opcionales. <a id='Min-eje_Argumentos_Opcionales_1'></a>\n",
    " \n",
    "~~~python\n",
    "# Mini_Ejemplo: Argumentos Opcionales 1\n",
    "\n",
    "import random\n",
    "\n",
    "def l_aleatorios(mayor,menor=1,n=10,nd=2):\n",
    "    \"\"\"\n",
    "    Devuelve una lista de n números aleatorios entre el rango indicado, \n",
    "    se debe ingresar obligatoriamente número mayor del rango, por defecto el número menor es 1,\n",
    "    la cantidad de números es 10 y el número de decimales es 2.\n",
    "    \"\"\"\n",
    "    \n",
    "    d=10**nd\n",
    "    aleatorios=[]\n",
    "    for i in range(n):\n",
    "        aleatorios.append(random.randint(menor*d,mayor*d)/d)\n",
    " \n",
    "    return aleatorios\n",
    "\n",
    "lista_aleatoria=l_aleatorios(100)\n",
    "print(\"La lista de números aleatorios es: \",lista_aleatoria)\n",
    "~~~"
   ]
  },
  {
   "cell_type": "code",
   "execution_count": null,
   "metadata": {},
   "outputs": [],
   "source": [
    "# Pase aquí el mini ejemplo anterior"
   ]
  },
  {
   "cell_type": "markdown",
   "metadata": {},
   "source": [
    "<a id='Min-eje_Argumentos_Opcionales_2'></a>\n",
    " \n",
    "~~~python\n",
    "# Mini_Ejemplo: Argumentos Opcionales 2\n",
    "\n",
    "import random\n",
    "\n",
    "def l_aleatorios(mayor,menor=1,n=10,nd=2):\n",
    "    \"\"\"\n",
    "    Devuelve una lista de n números aleatorios entre el rango indicado, \n",
    "    se debe ingresar obligatoriamente número mayor del rango, por defecto el número menor es 1,\n",
    "    la cantidad de números es 10 y el número de decimales es 2.\n",
    "    \"\"\"\n",
    "\n",
    "    d=10**nd\n",
    "    aleatorios=[]\n",
    "    for i in range(n):\n",
    "        aleatorios.append(random.randint(menor*d,mayor*d)/d)\n",
    "\n",
    "    return aleatorios\n",
    "\n",
    "lista_aleatoria=l_aleatorios(4000,900,nd=4,n=15)\n",
    "print(\"La lista de números aleatorios es: \",lista_aleatoria)\n",
    "~~~"
   ]
  },
  {
   "cell_type": "code",
   "execution_count": null,
   "metadata": {},
   "outputs": [],
   "source": [
    "# Pase aquí el mini ejemplo anterior"
   ]
  },
  {
   "cell_type": "markdown",
   "metadata": {},
   "source": [
    "___"
   ]
  },
  {
   "cell_type": "markdown",
   "metadata": {},
   "source": [
    "| [***Anterior***](../6_Funciones/6_Funciones.ipynb#6_Funciones) <!--(https://mybinder.org/Introducción)--> | - | [***Siguiente***](../8_Graficos/8_Graficos.ipynb#8_Graficos) <!--(https://www.python.org/Programas-en-Python)--> |\n",
    "| :--------: | :-------: | :--------: |"
   ]
  },
  {
   "cell_type": "markdown",
   "metadata": {},
   "source": [
    "| [**Home**](../Home.ipynb#Home)<!--(https://mybinder.org/Home)--> |\n",
    "| :--------: |"
   ]
  }
 ],
 "metadata": {
  "kernelspec": {
   "display_name": "Python 3",
   "language": "python",
   "name": "python3"
  },
  "language_info": {
   "codemirror_mode": {
    "name": "ipython",
    "version": 3
   },
   "file_extension": ".py",
   "mimetype": "text/x-python",
   "name": "python",
   "nbconvert_exporter": "python",
   "pygments_lexer": "ipython3",
   "version": "3.7.4"
  }
 },
 "nbformat": 4,
 "nbformat_minor": 4
}
