{
 "cells": [
  {
   "cell_type": "markdown",
   "metadata": {},
   "source": [
    "![Fig3_Encabezado.png](../Fig3_Encabezado.png)\n",
    "\n",
    "---------------------"
   ]
  },
  {
   "cell_type": "markdown",
   "metadata": {},
   "source": [
    "<a id='3_Estructuras-Logicas'></a>\n",
    "# 3. Estrucutras Lógicas"
   ]
  },
  {
   "cell_type": "markdown",
   "metadata": {},
   "source": [
    "### [3.1 Estructuras de Decisión](#3.1_Estructuras-de-Decision)\n",
    ">[3.1.1. Bloque if](#Min-eje_Bloque-if)  \n",
    ">>[3.1.1.1. Indentación](#3.1.1.1_Indentacion)  \n",
    "\n",
    ">[3.1.2. Bloque if - else](#Min-eje_Bloque-if-else)  \n",
    "[3.1.3. Bloque if - elif - else](#Min-eje_Bloque-if-elif-else)  \n",
    "\n",
    "### [3.2 Operadores](#3.2_Operaradores)\n",
    ">[3.2.1. Operadores de Comparación](#Min-eje_Operadores-de-Comparacion)  \n",
    "[3.2.2. Operadores Lógicos](#Min-eje_Operadores-Logicos)  \n",
    "[3.2.3. Operadores de Pertenencia](#Min-eje_Operadores-de-Pertenencia)  \n",
    "[3.2.4. Operadores de Identidad](#Min-eje_Operadores-de-Identidad)  \n",
    "[3.2.5 Métodos is...](#3.2.5_Metodos-is)  "
   ]
  },
  {
   "cell_type": "markdown",
   "metadata": {},
   "source": [
    "---\n",
    "\n",
    "## **3.1 Estructuras de Decisión** <a id='3.1_Estructuras-de-Decision'></a>\n",
    "\n",
    "Son una estructura de control basada en condicionales para tomar decisiones dependiendo del cumplimiento de la o las condiciones establecidas, ya que solo ejecutará las instrucciones indicadas si el resultado de la expresión lógica a la que está sujeta es verdadero.\n",
    "\n",
    "**Variables booleanas:** \n",
    "\n",
    "`True` o `False` son las variables tipo booleano, usadas para evaluar expresiones lógicas:\n",
    "- Si la expresión es verdadera entonces es `True`\n",
    "- Si la expresión es falsa entonces es `false`\n",
    "\n",
    "Todos los objetos en Python tienen un valor booleano:\n",
    "<a id='Min-eje_Booleanos'></a>\n",
    "\n",
    "~~~python\n",
    "# Mini_Ejemplo: Booleanos\n",
    "\n",
    "print(\"El booleano de 4 es: \", bool(4))\n",
    "print(\"El booleano de None es: \", bool(None))\n",
    "print(\"El booleano de str es: \", bool(str))\n",
    "print(\"El booleano de [] es: \", bool([]))\n",
    "print (\"El booleano de 'Nefelibata' es: \", bool(\"Nefelibata\"))\n",
    "print(\"El booleano de 0 es: \", bool(0))\n",
    "\n",
    "print(\"--------------------------------------------------------\")\n",
    "\n",
    "print(\"El booleano de la expresión 10 > 100 es:\", 10 > 100)\n",
    "print(\"El booleano de la expresión '34'.isnumeric() es:\", '34'.isnumeric())\n",
    "print(\"El booleano de la expresión '5' not in 'FIJ5369' es:\", '5' not in 'FIJ5369')\n",
    "print(\"El booleano de la expresión type('590') != type(590) es:\", type('590') != type(590))\n",
    "~~~"
   ]
  },
  {
   "cell_type": "code",
   "execution_count": null,
   "metadata": {},
   "outputs": [],
   "source": [
    "# Pase aquí el mini ejemplo anterior"
   ]
  },
  {
   "cell_type": "markdown",
   "metadata": {},
   "source": [
    "**Tipos de bloque:** \n",
    "\n",
    "- **Bloque if:** Evalúa una condición y ejecuta las instrucciones si esta se cumple, es decir, si tiene un valor True.\n",
    "- **Bloque elif:** Evalúa una nueva condición si las condiciones anteriormente evaluadas no se cumplen.\n",
    "- **Bloque else: No** evalúa condiciones propias, **sólo ejecuta** las instrucciones si no se han cumplido ninguna de las condiciones anteriormente evaluadas con el if o los elif."
   ]
  },
  {
   "cell_type": "markdown",
   "metadata": {},
   "source": [
    "## 3.1.1. Bloque if  <a id='Min-eje_Bloque-if'></a>\n",
    "\n",
    "Evalúa una condición y ejecuta las instrucciones si esta se cumple, es decir, si tiene un valor True.\n",
    "\n",
    "~~~python\n",
    "# Mini_Ejemplo: Bloque if  \n",
    "\n",
    "num=input(\"Ingrese un número entero o decimal y si quiere activar el bloque if ingrese un texto: \\n\")\n",
    "\n",
    "print(\"* Bloque if\\n\")\n",
    "\n",
    "if (num.isalpha()):# Verificamos si es un texto\n",
    "    print(\"**Se ha activado el bloque if\\n\")\n",
    "    num=(input(\"No ha ingresado un número, vuelva a intentarlo\\n\"))\n",
    "    if (num.isalpha()): # Este es un if anidado y verifica si nuevamente ha ingresado el texto.\n",
    "        print(\"Como ha vuelto ingresar un texto, el programa usará aleatoriamente el número: \\n\")\n",
    "        import random# Importamos el módulo random\n",
    "        num=str(random.random()*10) # Un número aleatorio entre 0 y 10\n",
    "        print(num)\n",
    "    \n",
    "print(\"\\n* Ya salimos del bloque if\\n\") \n",
    "~~~"
   ]
  },
  {
   "cell_type": "code",
   "execution_count": null,
   "metadata": {},
   "outputs": [],
   "source": [
    "# Pase aquí el mini ejemplo anterior"
   ]
  },
  {
   "cell_type": "markdown",
   "metadata": {},
   "source": [
    "<a id='Indentacion'></a>\n",
    "### 3.1.1.1 Indentación <a id='3.1.1.1_Indentacion'></a>\n",
    "\n",
    "En Python la indentación o sangría es de vital importancia, ya que, se usa para delimitar los diferentes bloques del programa como [estructuras de decisión](#3.1_Estructuras-de-Decision), [estructuras de repetición](../4_Bucles_e_Iterables/4_Bucles_e_Iterables.ipynb#Repeticion), [funciones](../6_Funciones/6_Funciones.ipynb), entre otros. Si se usa una indentación incorrecta el intérprete de Python no va a saber que instrucción pertenece a cada bloque.\n",
    "\n",
    "Por ejemplo, el Mini_Ejemplo anterior tiene tres bloques anidados (uno dentro de otro), el bloque principal (fondo blanco) con indentación nivel 0, el primer bloque if (fondo rojo) con indentación nivel 1, y el segundo bloque if (cuadro verde) con indentación nivel 2. \n",
    "\n",
    "![Fig1_Indentacion](Fig1_Indentacion.png \"Figura 1: Bloques del Mini_ejemplo: Bloque if indentados gráficamente\")\n",
    "\n",
    "#### Indentación incorrecta\n",
    "\n",
    "Cuando no se indenta correctamente puede ocurrir dos cosas:\n",
    "\n",
    "##### 1. Las instrucciones no se ejecutan correctamente:\n",
    "En el siguiente Mini_Ejemplo la edad faltante solo se debería mostrar si es menor de edad, sin embargo, al ingresar un número mayor o igual a 18 el programa se sigue ejecutando y arroja una edad faltante negativa. <a id='Min-eje_Mala-Indentacion'></a>\n",
    "\n",
    "~~~python\n",
    "# Mini_Ejemplo: Mala Indentación\n",
    "\n",
    "## Ingreso de datos:\n",
    "edad=input(\"Por favor introduzca su edad\")\n",
    "\n",
    "## Pequeña validación de datos:\n",
    "if not(edad.isnumeric()):\n",
    "    import random\n",
    "    edad=random.randint(0,36)\n",
    "    print(\"Ha ingresado un dato inválido, se utilizará la edad:\",edad)\n",
    "\n",
    "edad=int(edad) ## Conversión\n",
    "\n",
    "años_faltantes=18-edad ## Cálculo de años faltantes para ser mayor de edad\n",
    "\n",
    "## Evaluación del condicional e impresión de resultados.\n",
    "if (edad<18):\n",
    "    print(\"La edad debe ser mayor a 7 años\")\n",
    "    \n",
    "print(\"Le faltan\",años_faltantes,\"para ser mayor edad\")\n",
    "~~~"
   ]
  },
  {
   "cell_type": "code",
   "execution_count": null,
   "metadata": {},
   "outputs": [],
   "source": [
    "# Pase aquí el mini ejemplo anterior"
   ]
  },
  {
   "cell_type": "markdown",
   "metadata": {},
   "source": [
    "##### 2. Al ejecutar retorna *Identation Error*: <a id=\"Min-eje_Error-de-Identacion\"></a>\n",
    "\n",
    "~~~python\n",
    "# Mini_Ejemplo: Error de Indentación\n",
    "\n",
    "edad=17\n",
    "estatura=1.63\n",
    "\n",
    "if (edad<=7):\n",
    "    print(\"La edad debe ser mayor a 7 años\")\n",
    "    if (estatura<=1.50):\n",
    "    print(\"La estatura debe de ser mayor de 1.50m\")\n",
    "\n",
    "\">>> IndentationError: unindent does not match any outer indentation level\"\n",
    "~~~"
   ]
  },
  {
   "cell_type": "markdown",
   "metadata": {},
   "source": [
    "## 3.1.2. Bloque if - else <a id='Min-eje_Bloque-if-else'></a>\n",
    "\n",
    "Evalúa una nueva condición si las condiciones anteriormente evaluadas no se cumplen.\n",
    "\n",
    "~~~python\n",
    "# Mini_Ejemplo: Bloque if - else\n",
    "\n",
    "print(\"* Bloque if - else\\n\")\n",
    "\n",
    "if (float(num)%1!=0):#Validamos si es un número decimal\n",
    "    print(\"Este es un número decimal\\n\")\n",
    "else: \n",
    "    print(\"Este número es un enetero\\n\")\n",
    "    \n",
    "print(\"* Aquí se terminó de evaluar el bloque if - else\\n\")\n",
    "    \n",
    "print(\"\\n* Ya salimos del bloque if - else\\n\") \n",
    "~~~\n",
    "###### **Nota:** Para ejecutar este bloque hay que ejecutar el [Mini_Ejemplo:Bloque if](#Min-eje_Bloque-if)"
   ]
  },
  {
   "cell_type": "code",
   "execution_count": null,
   "metadata": {},
   "outputs": [],
   "source": [
    "# Pase aquí el mini ejemplo anterior"
   ]
  },
  {
   "cell_type": "markdown",
   "metadata": {},
   "source": [
    "## 3.1.3. Bloque if - elif - else <a id='Min-eje_Bloque-if-elif-else'></a>\n",
    "\n",
    "No** evalúa condiciones propias, **sólo ejecuta** las instrucciones si no se han cumplido ninguna de las condiciones anteriormente evaluadas con el if o los elif.\n",
    "\n",
    "~~~python\n",
    "# Mini_Ejemplo: Bloque if - elif - else\n",
    "\n",
    "num=input(\"Por favor ingrese un número entero entre 1 y 6\\n\")\n",
    "\n",
    "print(\"\"\"* Bloque if - elif - else\"\"\")\n",
    "\n",
    "if (num.isalpha()):\n",
    "    print(\"Ha Ingresado un texto, vuelva a intentarlo\\n\")\n",
    "elif((float(num)%1)!=0):# Si no es un texto validamos si es un número decimal\n",
    "    print(\"Ha ingresado un numero decimal, vuelva a intentarlo con un entero\\n\")\n",
    "elif(float(num)<1):# Si no es un texto ni un decimal validamos si es menor que 1.\n",
    "    print(num+\" es un número menor que 1, vuelva a interalo\\n\")\n",
    "elif(float(num)>6):# Si no es un texto ni un decimal, y no es menor que 1, validamos si es mayor a 6\n",
    "    print(num+\" es un número mayor que 6, vuelva a intentarlo\\n\")    \n",
    "else:#Si no es ninguna de las anteriores (texto,decimal,menor a 1, mayor a 6)\n",
    "    print(\"Ha ingresado un número válido, muchas gracias\\n\")\n",
    "    \n",
    "print(\"* Aquí se terminó de evaluar el bloque if - elif - else\") \n",
    "~~~"
   ]
  },
  {
   "cell_type": "code",
   "execution_count": null,
   "metadata": {},
   "outputs": [],
   "source": [
    "# Pase aquí el mini ejemplo anterior"
   ]
  },
  {
   "cell_type": "markdown",
   "metadata": {},
   "source": [
    "## **3.2 Operadores** <a id='3.2_Operaradores'></a>"
   ]
  },
  {
   "cell_type": "markdown",
   "metadata": {},
   "source": [
    "<a id='Comparacion'></a> \n",
    "## 3.2.1. Operadores de Comparación <a id='Min-eje_Operadores-de-Comparacion'></a> \n",
    "\n",
    "| OPERADOR | DESCRIPCIÓN |\n",
    "| :--------: | :-------: |\n",
    "| == | Igual que |\n",
    "| != | Diferente que |\n",
    "| > | Mayor que |\n",
    "| < | Menor que |\n",
    "| >= | Mayor o igual que |\n",
    "| <= | Menor o igual que |\n",
    "\n",
    "~~~python\n",
    "# Mini_Ejemplo: Operadores de Comparación\n",
    "\n",
    "## Ingreso de datos:\n",
    "import random\n",
    "num1=random.randint(0,1000)\n",
    "num2=input(\"Por favor ingrese un número\\n\")\n",
    "\n",
    "## Pequeña validación de datos:\n",
    "if num2.isalpha():\n",
    "    num2=random.randint(0,1000)\n",
    "    print(\"Ha ingresado un texto!\\nEl número será escogido por el programa:\\nNúmero= \",num2)\n",
    "\n",
    "## Conversión:\n",
    "num2=float(num2)   \n",
    "\n",
    "## Operaciones de comparación:\n",
    "igual=num1==num2\n",
    "diferente=num1!=num2\n",
    "mayor=num1>num2\n",
    "menor=num1<num2\n",
    "mayor_igual=num1>=num2\n",
    "menor_igual=num1<=num2\n",
    "\n",
    "## Imprimir los resultados:\n",
    "comparaciones=[[igual,\" == \"],[diferente,\" != \"],[mayor,\" > \"],[menor,\" < \"],[mayor_igual,\" >= \"],[menor_igual,\" <= \"]]\n",
    "\n",
    "print(\"Los resultados de las comparaciones son las siguientes\")\n",
    "for i in comparaciones:\n",
    "    print(num1,i[1],num2,\": \",i[0])\n",
    "~~~"
   ]
  },
  {
   "cell_type": "code",
   "execution_count": null,
   "metadata": {},
   "outputs": [],
   "source": [
    "# Pase aquí el mini ejemplo anterior"
   ]
  },
  {
   "cell_type": "markdown",
   "metadata": {},
   "source": [
    "## 3.2.2. Operadores Lógicos <a id='Min-eje_Operadores-Logicos'></a>\n",
    "\n",
    "| OPERADOR | DESCRIPCIÓN | VALOR DE VERDAD |\n",
    "| :--------: | :------- | :-------|\n",
    "| and | Une dos condiciones | Es verdadero cuando todas las condiciones son verdaderas y es falso cuando alguna de las condiciones es falsa |\n",
    "| or | Excluye las condiciones | Es verdadero cuando alguna de las condiciones o todas son verdaderas y es falso cuando las todas son falsas|\n",
    "| not | Niega una condición | Es verdadero cuando la condición es falsa y es falso cuando la condición es verdadera|\n",
    "\n",
    "~~~python\n",
    "# Mini_Ejemplo: Operadores Lógicos\n",
    "\n",
    "## Ingreso de datos:\n",
    "import random\n",
    "num3=input(\"Por favor ingrese un número entero entre 1 y 6 o un decimal entre 0 y 1\\n\")\n",
    "\n",
    "## Pequeña validación de datos:\n",
    "if (num3.isalpha()):\n",
    "    a, b=random.randint(1,6),random.random()\n",
    "    num3=random.choice([a,b])\n",
    "    print(\"Ha ingresado un texto!\\nEl número será escogido por el programa:\\nNúmero= \",num3) \n",
    "    \n",
    "## Conversión:\n",
    "num3=float(num3)\n",
    "\n",
    "## La siguiente condición se cumple si el numero ingresado no es un decimal y está entre 1 y 6 ó es un numero decimal menor que 1.\n",
    "if( (not(num3%1!=0) and 1<=num3<=6) or (num3%1!=0 and num3<1)):\n",
    "    print(\"Ha ingresado un número válido, muchas gracias\\n\")\n",
    "else:\n",
    "    print(\"Ha ingresado un número inválido, vuelva a intarlo\\n\")\n",
    "~~~"
   ]
  },
  {
   "cell_type": "code",
   "execution_count": null,
   "metadata": {},
   "outputs": [],
   "source": [
    "# Pase aquí el mini ejemplo anterior"
   ]
  },
  {
   "cell_type": "markdown",
   "metadata": {},
   "source": [
    "## 3.2.3. Operadores de Pertenencia <a id='Min-eje_Operadores-de-Pertenencia'></a>\n",
    "\n",
    "| OPERADOR | DESCRIPCIÓN | VALOR DE VERDAD |\n",
    "| :--------: | :------- | :-------|\n",
    "| in | Pertenece a | Es verdadero si se encuentra el objeto señalado en una cadena, lista, tupla...|\n",
    "| not in | No pertenece a | Es verdadero si **no se encuentra** el objeto señalado en una cadena, lista, tupla...|\n",
    "\n",
    "~~~python\n",
    "# Mini_Ejemplo: Operadores de Pertenencia\n",
    "\n",
    "entrada=input(\"Por favor ingrese una cadena de texto que tenga las letras 'c' y 'o' separadas\\n\")\n",
    "\n",
    "## La siguiente condición se cumple si: Se ingresa una cadena que no tenga números, tiene las letras 'c' y 'o', y que no tenga las sílabas \"co\" y \"oc\".\n",
    "\n",
    "if(not(entrada.isalnum()) and (\"c\" in entrada) and (\"o\" in entrada) and (\"co\" not in entrada) and (\"oc\" not in entrada)):\n",
    "    print(\"Ha ingresado una cadena válida, muchas gracias\\n\")\n",
    "else:\n",
    "    print(\"No ha ingresado una cadena válida, vuelva a intentarlo\\n\")\n",
    "~~~"
   ]
  },
  {
   "cell_type": "code",
   "execution_count": null,
   "metadata": {},
   "outputs": [],
   "source": [
    "# Pase aquí el mini ejemplo anterior"
   ]
  },
  {
   "cell_type": "markdown",
   "metadata": {},
   "source": [
    "## 3.2.4. Operadores de Identidad <a id='Min-eje_Operadores-de-Identidad'></a>\n",
    "\n",
    "| OPERADOR | DESCRIPCIÓN | VALOR DE VERDAD |\n",
    "| :--------: | :------- | :-------|\n",
    "| is | Es | Es verdadero si las referencias en ambos lados del operador apuntan al mismo objeto|\n",
    "| not is | Es | Es verdadero si las referencias en ambos lados del operador **no apuntan** al mismo objeto|\n",
    "\n",
    "~~~python\n",
    "# Mini_Ejemplo: Operadores de Identidad\n",
    "\n",
    "objeto_1=[]\n",
    "objeto_2=objeto_1\n",
    "objeto_3=[]\n",
    "\n",
    "## La siguiente condición se cumple si: El objeto 1 y 2 son iguales, y el objeto 1 y 3 son diferentes.\n",
    "\n",
    "if (objeto_1 is objeto_2) and (objeto_1 is not objeto_4):\n",
    "    print(\"Como objeto_1 y objeto_2 son el mismo objeto, si cambiamos objeto_2, automáticamente cambiamos objeto_1\")\n",
    "    objeto_2.append(\"modificación_1\")\n",
    "    print(\"Ahora el objeto_2 es igual a:\",objeto_2)\n",
    "    print(\"Y el objeto_1 es igual a:\",objeto_1,\"\\n\")\n",
    "    \n",
    "    print(\"Igualmente, si modificamos el objeto_1, se modifica el objeto_2\")\n",
    "    objeto_1.append(\"modificación_2\")\n",
    "    print(\"Ahora el objeto_1 es igual a:\",objeto_1)\n",
    "    print(\"Y el objeto_2 es igual a:\",objeto_2,\"\\n\")\n",
    "    \n",
    "    print(\"Y como objeto_3 y objeto_4 no son el mismo objeto, si cambiamos uno de ellos no vamos a cambiar el otro\")\n",
    "    print(\"El objeto_3 sigue siendo una lista vacía\",objeto_3,\", aunque el objeto_1 haya sido modificado 2 veces y ahora es igual a: \",objeto_1)\n",
    "~~~"
   ]
  },
  {
   "cell_type": "code",
   "execution_count": null,
   "metadata": {},
   "outputs": [],
   "source": [
    "# Pase aquí el mini ejemplo anterior"
   ]
  },
  {
   "cell_type": "markdown",
   "metadata": {},
   "source": [
    "Retomando la analogía de las etiquetas mencionada [aquí](../2_Elementos_Basicos/2_Elementos_Basicos.ipynb#Entiende-las-variables \"¿Cómo entiende Python las variables?\"), cuando el operador `is` es verdadero es porque un solo objeto tiene pegadas dos etiquetas (variables), por eso, las dos referencian el mismo objeto y se puede decir que **son** los mismo. Es como si una persona tuviera dos nombres, por ejemplo, Jose Ignacio, entonces si algo le sucede a Jose naturalmente también le sucedió lo mismo a Ignacio. \n",
    "\n",
    "En el caso del objeto 1 y 3, cada etiqueta (variable) `objeto_1` y `objeto_2` referencian dos objetos aparte, aunque estos sean equivalentes. Es como si fueran gemelos, por ejemplo, Miguel y Ángel, si le sucede algo a Miguel no se puede decir con 100% de certeza que sucedió también a Ángel, porque, aunque son iguales no comparten la misma identidad."
   ]
  },
  {
   "cell_type": "markdown",
   "metadata": {},
   "source": [
    "## 3.2.5 Métodos is... <a id=\"3.2.5_Metodos-is\"></a>"
   ]
  },
  {
   "cell_type": "markdown",
   "metadata": {},
   "source": [
    "Como se vio en el apartado [2.3. Ayuda y Directorio](../2_Elementos_Basicos/2_Elementos_Basicos.ipynb#Ayuda-Directorio \"Ir al apartado 2.3. Ayuda y Directorio\"), existen algunas expresiones que arrojan resultados booleanos, como isnumeric( ), y en el [Mini_Ejemplo: Bloque if](\"Min-eje_Bloque-if\") isalpha( ), hay método que empiezan por `is` que suelen comprobar si un objeto pertenece o cumple con determinadas características, y dan como resultado un booleano.\n",
    "\n",
    "Además de los anteriores algunos de estos métodos para las variables str son: isalnum, isascii, isdecimal, isdigit, isidentifier, islower, isprintable, isspace, istitle, isupper, sin embargo, los más utilizados en la guía son isnumeric e isalpha."
   ]
  },
  {
   "cell_type": "markdown",
   "metadata": {},
   "source": [
    "____"
   ]
  },
  {
   "cell_type": "markdown",
   "metadata": {},
   "source": [
    "| [***Anterior***](../2_Elementos_Basicos/2_Elementos_Basicos.ipynb#2_Elementos-Basicos) <!--(https://mybinder.org/Introducción)--> | - | [***Siguiente***](../4_Bucles_e_Iterables/4_Bucles_e_Iterables.ipynb#4_Bucles-e-Iterables) <!--(https://www.python.org/Programas-en-Python)--> |\n",
    "| :--------: | :-------: | :--------: |"
   ]
  },
  {
   "cell_type": "markdown",
   "metadata": {},
   "source": [
    "| [**Home**](../Home.ipynb#Home)<!--(https://mybinder.org/Home)--> |\n",
    "| :--------: |"
   ]
  }
 ],
 "metadata": {
  "kernelspec": {
   "display_name": "Python 3",
   "language": "python",
   "name": "python3"
  },
  "language_info": {
   "codemirror_mode": {
    "name": "ipython",
    "version": 3
   },
   "file_extension": ".py",
   "mimetype": "text/x-python",
   "name": "python",
   "nbconvert_exporter": "python",
   "pygments_lexer": "ipython3",
   "version": "3.7.4"
  }
 },
 "nbformat": 4,
 "nbformat_minor": 4
}
