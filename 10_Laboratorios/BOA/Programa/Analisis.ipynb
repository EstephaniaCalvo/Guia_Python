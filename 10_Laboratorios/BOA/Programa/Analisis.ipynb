{
 "cells": [
  {
   "cell_type": "markdown",
   "metadata": {},
   "source": [
    "# **Análisis - BOA**\n",
    "\n",
    "- ### Objetivo\n",
    "Hacer un programa que al ingresar un archivo con la matriz pieza - máquina y devuleva una matriz con las celdas organizadas en un archivo.xlsx.\n",
    "\n",
    "**Notas:** \n",
    "- En caso de que hayan dos o mas alternativas con el mismo peso, ordenar alfabeticamente.\n",
    "\n",
    "- ### Entradas\n",
    "    **1.** [Matriz:](../Ejemplo/Ej_BOA.txt \"Ver archivo del ejemplo\") Archivo de texto.txt con la matriz pieza - máquina.        \n",
    "   \n",
    "- ### Salidas\n",
    "    **0. Carpeta Resultados:** Carpeta en la misma ubicación del programa llamada \"Resultados\" para almacenar los resultados del programa.   \n",
    "    \n",
    "    **1. Resultados.xlsx:** Archivos de excel con la matriz con las celdas organizadas.\n",
    "    \n",
    "- ### Algoritmo  \n",
    "    1. Pedir y leer archivo con la matriz pieza - máquina.    \n",
    "    2. Generar listas de score para las filas y para las columnas.\n",
    "    3. Mientras la matriz resultado sea diferente en tres iteraciones, haga:\n",
    "        1. Hacer dos veces:\n",
    "            1. Calcular subtotal.\n",
    "            2. Organizar filas de forma descendente según el subtotal.\n",
    "            3. Trasponer la matriz.\n",
    "        2. Comparar matriz de resultados actual (m_actual), con la matriz de resultados anterior (m_anterior). \n",
    "    4. Crear y guardar el archivo.xlsx con los resultados."
   ]
  },
  {
   "cell_type": "markdown",
   "metadata": {},
   "source": [
    "---\n",
    "| [**Home**](../BOA.ipynb \"Ir a la página principal del algoritmo\")|\n",
    "| :--------: |"
   ]
  }
 ],
 "metadata": {
  "kernelspec": {
   "display_name": "Python 3",
   "language": "python",
   "name": "python3"
  },
  "language_info": {
   "codemirror_mode": {
    "name": "ipython",
    "version": 3
   },
   "file_extension": ".py",
   "mimetype": "text/x-python",
   "name": "python",
   "nbconvert_exporter": "python",
   "pygments_lexer": "ipython3",
   "version": "3.7.4"
  }
 },
 "nbformat": 4,
 "nbformat_minor": 4
}
