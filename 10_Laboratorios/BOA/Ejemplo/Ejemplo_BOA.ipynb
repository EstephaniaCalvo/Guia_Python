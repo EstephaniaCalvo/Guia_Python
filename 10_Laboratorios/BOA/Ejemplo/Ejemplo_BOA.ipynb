{
 "cells": [
  {
   "cell_type": "markdown",
   "metadata": {},
   "source": [
    "![Fig3_Encabezado.png](../../../Fig3_Encabezado.png)\n",
    "\n",
    "---"
   ]
  },
  {
   "cell_type": "markdown",
   "metadata": {},
   "source": [
    "## Ejemplo - BOA <a id=\"ejemplo\"></a>"
   ]
  },
  {
   "cell_type": "markdown",
   "metadata": {},
   "source": [
    "Suponga que debe ordenar en una disposición en celdas las máquinas M1, M2, ... ,M11 que realizan las piezas A, B, ... ,H, cuya relación está sintetizada en la siguiente Matriz pieza - máquina y guardada en el archivo [Ej_BOA.txt](Ej_BOA.txt).\n",
    "\n",
    "![matriz](matriz.png \"Ejemplo: Matríz Pieza - Máquina / Fuente: Curso Implementación de Algoritmos de Ingeniería Insdustrial\")"
   ]
  },
  {
   "cell_type": "markdown",
   "metadata": {},
   "source": [
    "- #### **Solución** \n",
    "\n",
    "##### **1.** Calcular esl Subtotal de cada fila, que es igual a la suma producto calculada del score y la sumatoria de cada fila.\n",
    "\n",
    "$Subtotal_i=\\sum{M_i}*Score_i$\n",
    "\n",
    "- Por ejemplo, la suma producto de la pieza '**A**' es: \n",
    "\n",
    "    $Subtotal_1=(1+1+0+1+0+0+0+1+0+1+0+0)*2048=3348$\n",
    "    \n",
    "![subtotal_filas](subtotal_filas.png \"Ejemplo: Cálculo subtotal para las filas / Fuente: Curso Implementación de Algoritmos de Ingeniería Insdustrial\")\n",
    "\n",
    "###### **Nota:** El score suele ser una lista de las potencias de dos, para no manejar números demasiado grandes en los cálculos, sin embargo puede utilizarce cualquier otra base."
   ]
  },
  {
   "cell_type": "markdown",
   "metadata": {},
   "source": [
    "##### **2.** Ordenar las filas de forma ascendente en función del subtotal.\n",
    "\n",
    "![orden_filas](orden_filas.png \"Ejemplo: Ordenar filas / Fuente: Curso Implementación de Algoritmos de Ingeniería Insdustrial\")"
   ]
  },
  {
   "cell_type": "markdown",
   "metadata": {},
   "source": [
    "##### **3.** Calcular esl Subtotal de cada columna: \n",
    "\n",
    "$Subtotal_j=\\sum{P_j}*Score_j$\n",
    "\n",
    "- Por ejemplo, la suma producto de la máquina '**M1**' es: \n",
    "\n",
    "    $Subtotal_1=(1+1+1)*128=224$\n",
    "    \n",
    "![subtotal_col](subtotal_col.png \"Ejemplo: Cálculo subtotal para las columnas / Fuente: Curso Implementación de Algoritmos de Ingeniería Insdustrial\")"
   ]
  },
  {
   "cell_type": "markdown",
   "metadata": {},
   "source": [
    "##### **4.** Ordenar las columnas de forma ascendente en función del subtotal.\n",
    "\n",
    "![orden_col](orden_col.png \"Ejemplo: Ordenar columnas / Fuente: Curso Implementación de Algoritmos de Ingeniería Insdustrial\")"
   ]
  },
  {
   "cell_type": "markdown",
   "metadata": {},
   "source": [
    "##### **5.** Repetir los pasos anteriores hasta que se creen las celdas.\n",
    "\n",
    "![orden_filas](solucion.png \"Ejemplo: Solución / Fuente: Curso Implementación de Algoritmos de Ingeniería Insdustrial\")\n",
    "\n",
    "###### **Nota:** En este caso sólo hizo falta un cíclo para encontrarlas."
   ]
  },
  {
   "cell_type": "markdown",
   "metadata": {},
   "source": [
    "#### Resultados <a id=\"resultados\"></a>\n",
    "\n",
    "1. **Archivos en excel con los resultados:** Abra el archivo Resultados_Ej_BOA.xlsx guardado en la carpeta Resultados."
   ]
  },
  {
   "cell_type": "markdown",
   "metadata": {},
   "source": [
    "---\n",
    "| [**Home**](../BOA.ipynb \"Ir a la página principal del algoritmo\")| - | [**Prácticas**](../Practicas/Practicas_BOA.ipynb \"Ir a la página de la prácticas\")|\n",
    "| :--------: | :-------: | :--------: |"
   ]
  }
 ],
 "metadata": {
  "kernelspec": {
   "display_name": "Python 3",
   "language": "python",
   "name": "python3"
  },
  "language_info": {
   "codemirror_mode": {
    "name": "ipython",
    "version": 3
   },
   "file_extension": ".py",
   "mimetype": "text/x-python",
   "name": "python",
   "nbconvert_exporter": "python",
   "pygments_lexer": "ipython3",
   "version": "3.7.4"
  }
 },
 "nbformat": 4,
 "nbformat_minor": 4
}
