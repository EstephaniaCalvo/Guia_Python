{
 "cells": [
  {
   "cell_type": "markdown",
   "metadata": {},
   "source": [
    "![Fig3_Encabezado.png](../../../../Fig3_Encabezado.png)\n",
    "\n",
    "---"
   ]
  },
  {
   "cell_type": "markdown",
   "metadata": {},
   "source": [
    "## b. Generar los scores (score)\n",
    "\n",
    "- #### **Objetivo :**\n",
    "    Crear una lista de score para las piezas (filas) y otra para las máquinas (columnas), ordenados de forma descendente.\n",
    "    \n",
    "- #### **Entradas :** \n",
    "    **1. l_piezas:** Lista de las piezas.   \n",
    "    **2. l_maquinas:** Lista de las máquinas.   \n",
    "    \n",
    "~~~python\n",
    "l_piezas= ['A', 'B', 'C', 'D', 'E', 'F', 'G', 'H']\n",
    "l_maquinas= ['M1', 'M2', 'M3', 'M4', 'M5', 'M6', 'M7', 'M8', 'M9', 'M10', 'M11', 'M12']\n",
    "~~~\n",
    "\n",
    "- #### **Salidas :** \n",
    "    **1. s_piezas:** Score para las filas.    \n",
    "    **2. s_maquinas:** Score para las columnas.    \n",
    "    \n",
    "~~~python\n",
    "s_piezas=[128, 64, 32, 16, 8, 4, 2, 1]\n",
    "s_maquinas=[2048, 1024, 512, 256, 128, 64, 32, 16, 8, 4, 2, 1]\n",
    "~~~"
   ]
  },
  {
   "cell_type": "markdown",
   "metadata": {},
   "source": [
    "- #### **Código :** \n",
    "Complete la función para convertir las entradas en las salidas e ingrese al [material de apoyo](#material \"Ir al material de apoyo\") para ver los ejemplos que lo pueden guiar. Una vez terminada ejecútela y pruébela, si es correcta pásela [aquí](../../Programa/BOA.py)."
   ]
  },
  {
   "cell_type": "code",
   "execution_count": null,
   "metadata": {},
   "outputs": [],
   "source": [
    "# Importar aquí los módulos necesarios\n",
    "\n",
    "# b. Generar los scores\n",
    "def score (l_piezas, l_maquinas):\n",
    "    \"Genera las listas de score para las piezas (filas) y para las máquinas (columnas).\"\n",
    "    \n",
    "    # Escriba aquí el código:\n",
    "    \n",
    "    return(s_piezas, s_maquinas)"
   ]
  },
  {
   "cell_type": "markdown",
   "metadata": {},
   "source": [
    "## Material de Apoyo <a id='material'></a>"
   ]
  },
  {
   "cell_type": "markdown",
   "metadata": {},
   "source": [
    "- [Manejo de listas](../../../../5_Estructura_de_Datos/5_Estructura_de_Datos.ipynb#Listas \"Ir a la sección Métodos de las listas del capítulo de Estructuras de datos\")"
   ]
  },
  {
   "cell_type": "markdown",
   "metadata": {},
   "source": [
    "---\n",
    "| [**Plantilla pirncipal**](../Plantilla_BOA.ipynb \"Volver a la plantilla del programa principal\")|\n",
    "| :--------: |"
   ]
  }
 ],
 "metadata": {
  "kernelspec": {
   "display_name": "Python 3",
   "language": "python",
   "name": "python3"
  },
  "language_info": {
   "codemirror_mode": {
    "name": "ipython",
    "version": 3
   },
   "file_extension": ".py",
   "mimetype": "text/x-python",
   "name": "python",
   "nbconvert_exporter": "python",
   "pygments_lexer": "ipython3",
   "version": "3.7.4"
  }
 },
 "nbformat": 4,
 "nbformat_minor": 4
}
