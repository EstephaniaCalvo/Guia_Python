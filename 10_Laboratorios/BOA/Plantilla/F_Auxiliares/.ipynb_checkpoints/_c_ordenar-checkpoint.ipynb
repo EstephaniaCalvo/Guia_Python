{
 "cells": [
  {
   "cell_type": "markdown",
   "metadata": {},
   "source": [
    "![Fig3_Encabezado.png](../../../../Fig3_Encabezado.png)\n",
    "\n",
    "---"
   ]
  },
  {
   "cell_type": "markdown",
   "metadata": {},
   "source": [
    "## c. Ordenar la matriz (ordenar)\n",
    "\n",
    "- #### **Objetivo :**\n",
    "    Ordenar las filas y las columnas según el subtotal.\n",
    "    \n",
    "- #### **Entradas :** \n",
    "    **1. l_piezas:** Lista de las piezas.   \n",
    "    **2. l_maquinas:** Lista de las máquinas.    \n",
    "    **3. matriz:** Matriz pieza- máquina.   \n",
    "    **4. s_piezas:** Score para las filas.    \n",
    "    **5. s_maquinas:** Score para las columnas.   \n",
    "    \n",
    "~~~python\n",
    "l_piezas= ['A', 'B', 'C', 'D', 'E', 'F', 'G', 'H']\n",
    "\n",
    "l_maquinas= ['M1', 'M2', 'M3', 'M4', 'M5', 'M6', 'M7', 'M8', 'M9', 'M10', 'M11', 'M12']\n",
    "\n",
    "matriz=[[1, 1, 0, 1, 0, 0, 0, 1, 0, 1, 0, 0],\n",
    "  [0, 0, 1, 0, 0, 1, 0, 0, 1, 0, 0, 1],\n",
    "  [0, 0, 0, 0, 1, 1, 0, 0, 0, 0, 0, 1],\n",
    "  [0, 0, 0, 0, 1, 0, 1, 0, 0, 0, 1, 1],\n",
    "  [1, 0, 0, 1, 0, 0, 0, 1, 0, 0, 0, 0],\n",
    "  [0, 0, 1, 0, 0, 1, 0, 0, 1, 0, 0, 0],\n",
    "  [1, 1, 0, 1, 0, 0, 0, 1, 0, 1, 0, 0],\n",
    "  [0, 0, 0, 0, 0, 0, 1, 0, 0, 0, 1, 1]]\n",
    "\n",
    "s_piezas=[128, 64, 32, 16, 8, 4, 2, 1]\n",
    "\n",
    "s_maquinas=[2048, 1024, 512, 256, 128, 64, 32, 16, 8, 4, 2, 1]\n",
    "~~~\n",
    "\n",
    "- #### **Salidas :** \n",
    "    **1. lp_ord:** Lista de piezas ordenada según subtotal de filas de forma descendente.     \n",
    "    **2. lm_ord:** Lista de máquinas ordenada según subtotal de columnas de forma descendente.     \n",
    "    **3. m_ordenada:** Matriz ordenada según subtotal de filas y columnas de forma descendente.      \n",
    "    \n",
    "~~~python\n",
    "lp_ord=['G', 'A', 'E', 'B', 'F', 'C', 'D', 'H']\n",
    "\n",
    "lm_ord=['M8', 'M4', 'M1', 'M2', 'M10', 'M6', 'M9', 'M3', 'M12', 'M5', 'M7', 'M11']\n",
    "\n",
    "m_ordenada=[[1, 1, 1, 1, 1, 0, 0, 0, 0, 0, 0, 0],\n",
    "  [1, 1, 1, 1, 1, 0, 0, 0, 0, 0, 0, 0],\n",
    "  [1, 1, 1, 0, 0, 0, 0, 0, 0, 0, 0, 0],\n",
    "  [0, 0, 0, 0, 0, 1, 1, 1, 1, 0, 0, 0],\n",
    "  [0, 0, 0, 0, 0, 1, 1, 1, 0, 0, 0, 0],\n",
    "  [0, 0, 0, 0, 0, 1, 0, 0, 1, 1, 0, 0],\n",
    "  [0, 0, 0, 0, 0, 0, 0, 0, 1, 1, 1, 1],\n",
    "  [0, 0, 0, 0, 0, 0, 0, 0, 1, 0, 1, 1]]\n",
    "~~~"
   ]
  },
  {
   "cell_type": "markdown",
   "metadata": {},
   "source": [
    "- #### **Código :** \n",
    "Complete la función para convertir las entradas en las salidas e ingrese al [material de apoyo](#material \"Ir al material de apoyo\") para ver los ejemplos que lo pueden guiar. Una vez terminada ejecútela y pruébela, si es correcta pásela [aquí](../../Programa/BOA.py)."
   ]
  },
  {
   "cell_type": "code",
   "execution_count": null,
   "metadata": {},
   "outputs": [],
   "source": [
    "# Importar aquí los módulos necesarios\n",
    "\n",
    "# c. Ordenar la matriz \n",
    "def ordenar (l_piezas, l_maquinas, matriz, s_piezas, s_maquinas):\n",
    "    \"Ordena las filas y las columnas de una matriz según el subtotal de cada una de ellas.\"\n",
    "    \n",
    "    # Escriba aquí el código:\n",
    "    \n",
    "    return(lp_ord, lm_ord, m_ordenada)"
   ]
  },
  {
   "cell_type": "markdown",
   "metadata": {},
   "source": [
    "## Material de Apoyo <a id='material'></a>"
   ]
  },
  {
   "cell_type": "markdown",
   "metadata": {},
   "source": [
    "- [Manejo de listas](../../../../5_Estructura_de_Datos/5_Estructura_de_Datos.ipynb#Listas \"Ir a la sección Métodos de las listas del capítulo de Estructuras de datos\")\n",
    "\n",
    "- [Estructuras de decisión](../../../../3_Estructuras_Logicas/3_Estructuras_Logicas.ipynb#3_Estructuras_Logicas \"Ir al capítulo de Estructuras de decisión\")\n",
    "\n",
    "- [Cíclo for](../../../../4_Bucles_e_Iterables/4_Bucles_e_Iterables.ipynb#BloqueFor \"Ir a subcapítulo Cíclo For Secciones del capítulo de Bucles e Iterables\")\n",
    "\n",
    "- [Ordenar de listas](../../../../5_Estructura_de_Datos/5_Estructura_de_Datos.ipynb#Orden \"Ir a la sección Métodos de orden de listas del capítulo de Estructuras de datos\")\n"
   ]
  },
  {
   "cell_type": "markdown",
   "metadata": {},
   "source": [
    "---\n",
    "| [**Plantilla pirncipal**](../Plantilla_BOA.ipynb \"Volver a la plantilla del programa principal\")|\n",
    "| :--------: |"
   ]
  }
 ],
 "metadata": {
  "kernelspec": {
   "display_name": "Python 3",
   "language": "python",
   "name": "python3"
  },
  "language_info": {
   "codemirror_mode": {
    "name": "ipython",
    "version": 3
   },
   "file_extension": ".py",
   "mimetype": "text/x-python",
   "name": "python",
   "nbconvert_exporter": "python",
   "pygments_lexer": "ipython3",
   "version": "3.7.4"
  }
 },
 "nbformat": 4,
 "nbformat_minor": 4
}
