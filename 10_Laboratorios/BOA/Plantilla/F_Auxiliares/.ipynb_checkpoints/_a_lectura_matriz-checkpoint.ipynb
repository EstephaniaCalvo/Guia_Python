{
 "cells": [
  {
   "cell_type": "markdown",
   "metadata": {},
   "source": [
    "![Fig3_Encabezado.png](../../../../Fig3_Encabezado.png)\n",
    "\n",
    "---"
   ]
  },
  {
   "cell_type": "markdown",
   "metadata": {},
   "source": [
    "## a. Leer y almacenar la matriz (lectura_matriz)\n",
    "\n",
    "- #### **Objetivo :** \n",
    "    Almacenar el contenido del [archivo](test_1.txt \"Ver archivo de entradas\") con la matriz pieza - máquina en una matriz.\n",
    "\n",
    "- #### **Entradas :** \n",
    "~~~python\n",
    "archivo_matriz='test_1.txt'\n",
    "~~~\n",
    "\n",
    "- #### **Salidas :** \n",
    "~~~python\n",
    "l_piezas= ['A', 'B', 'C', 'D', 'E', 'F', 'G', 'H']\n",
    "l_maquinas= ['M1', 'M2', 'M3', 'M4', 'M5', 'M6', 'M7', 'M8', 'M9', 'M10', 'M11', 'M12']\n",
    "matriz=[[1, 1, 0, 1, 0, 0, 0, 1, 0, 1, 0, 0],\n",
    "  [0, 0, 1, 0, 0, 1, 0, 0, 1, 0, 0, 1],\n",
    "  [0, 0, 0, 0, 1, 1, 0, 0, 0, 0, 0, 1],\n",
    "  [0, 0, 0, 0, 1, 0, 1, 0, 0, 0, 1, 1],\n",
    "  [1, 0, 0, 1, 0, 0, 0, 1, 0, 0, 0, 0],\n",
    "  [0, 0, 1, 0, 0, 1, 0, 0, 1, 0, 0, 0],\n",
    "  [1, 1, 0, 1, 0, 0, 0, 1, 0, 1, 0, 0],\n",
    "  [0, 0, 0, 0, 0, 0, 1, 0, 0, 0, 1, 1]]\n",
    "~~~"
   ]
  },
  {
   "cell_type": "markdown",
   "metadata": {},
   "source": [
    "- #### **Código :** \n",
    "Complete la función para convertir las entradas en las salidas, ingrese al [material de apoyo](#material \"Ir al material de apoyo\") para ver los ejemplos que lo pueden guiar, una vez terminada ejecútela y pruébela, si es correcta pásela [aquí](../../Programa/BOA.py)."
   ]
  },
  {
   "cell_type": "code",
   "execution_count": null,
   "metadata": {},
   "outputs": [],
   "source": [
    "# Importar aquí los módulos necesarios\n",
    "\n",
    "## a. Leer y almacena la matriz\n",
    "def lectura_matriz (archivo_matriz):\n",
    "    \"\"\"\n",
    "    Leer y almarcenar los datos del archivo con la matriz pieza maquina, en una  lista para las piezas, \n",
    "    las maquinas y la matriz relaiconal.\n",
    "    \"\"\"\n",
    "    \n",
    "    # Escriba aquí el código:\n",
    "    \n",
    "    return (l_piezas,l_maquinas,matriz) "
   ]
  },
  {
   "cell_type": "markdown",
   "metadata": {},
   "source": [
    "## Material de Apoyo <a id='material'></a>"
   ]
  },
  {
   "cell_type": "markdown",
   "metadata": {},
   "source": [
    "- [Almacenamiento en listas aparte](../../../../../7_Lectura_y_Escritura/7_Lectura_y_Escritura.ipynb#Min-eje_A_Archivo_i3.txt \"Ir al capítulo de Lectura de archivos\")\n",
    "- [Lectura de bases de datos](../../../../../7_Lectura_y_Escritura/7_Lectura_y_Escritura.ipynb#Min-eje_A_B_Datos.txt \"Ir al capítulo de Lectura de archivos\")\n",
    "- [Manejo de listas y tuplas](../../../../../5_Estructura_de_Datos/5_Estructura_de_Datos.ipynb#5_Estructura-de-Datos-Basicas \"Ir al capítulo de Estructuras de datos\")\n",
    "- [Módulo random](../../../../../9_Modulos/9_Modulos_y_Paquetes.ipynb#9.3_Libreria-Estandar \"Ir al capítulo de Estructuras de datos\")"
   ]
  },
  {
   "cell_type": "markdown",
   "metadata": {},
   "source": [
    "---\n",
    "| [**Plantilla pirncipal**](../Plantilla_BOA.ipynb \"Volver a la plantilla del programa principal\")|\n",
    "| :--------: |"
   ]
  }
 ],
 "metadata": {
  "kernelspec": {
   "display_name": "Python 3",
   "language": "python",
   "name": "python3"
  },
  "language_info": {
   "codemirror_mode": {
    "name": "ipython",
    "version": 3
   },
   "file_extension": ".py",
   "mimetype": "text/x-python",
   "name": "python",
   "nbconvert_exporter": "python",
   "pygments_lexer": "ipython3",
   "version": "3.7.4"
  }
 },
 "nbformat": 4,
 "nbformat_minor": 4
}
