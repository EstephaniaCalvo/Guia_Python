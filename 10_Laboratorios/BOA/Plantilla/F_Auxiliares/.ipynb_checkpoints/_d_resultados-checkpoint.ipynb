{
 "cells": [
  {
   "cell_type": "markdown",
   "metadata": {},
   "source": [
    "## d. Guardar archivo de resultados.xlsx\n",
    "\n",
    "- #### **Objetivos :** \n",
    "    1. Crear la carpeta Resultados    \n",
    "    2. Crear un archivo .xlsx donde esté regisgtrada la matriz con las celdas conformadas.\n",
    "    3. Guardar archivo en la carpeta.\n",
    "    \n",
    "**Tenga en cuenta que:**\n",
    "\n",
    "- El archivo debe tener el nombre del archivo de entradas con la matriz sin la extensión .txt.\n",
    "- La hojas 1 debe tener el nombre de \"Resultados\".\n",
    "- La hoja debe tener como enunciado \"Celdas\", con tamaño de letra tamaño 16 y en negrita."
   ]
  },
  {
   "cell_type": "markdown",
   "metadata": {},
   "source": [
    "- #### **Entradas :** \n",
    "    \n",
    "    **1. lp_ord** Lista de piezas ordenadas.     \n",
    "    **2. lm_ord** Lista de máquinas ordenadas.     \n",
    "    **3. m_ordenada:** Matriz pieza - máquina ordenada.        \n",
    "    **4. archivo:** Archivo con las entradas.     "
   ]
  },
  {
   "cell_type": "code",
   "execution_count": null,
   "metadata": {},
   "outputs": [],
   "source": [
    "# 1. Lista de piezas ordenadas.\n",
    "lp_ord= ['G', 'A', 'E', 'B', 'F', 'C', 'D', 'H']\n",
    "\n",
    "# 2. Lista de máquinas ordenadas.\n",
    "lm_ord= ['M8', 'M4', 'M1', 'M2', 'M10', 'M6', 'M9', 'M3', 'M12', 'M5', 'M7', 'M11']\n",
    "\n",
    "# 3. Matriz pieza - máquina ordenada.\n",
    "m_ordenada= [[1, 1, 1, 1, 1, 0, 0, 0, 0, 0, 0, 0], \n",
    "             [1, 1, 1, 1, 1, 0, 0, 0, 0, 0, 0, 0], \n",
    "             [1, 1, 1, 0, 0, 0, 0, 0, 0, 0, 0, 0], \n",
    "             [0, 0, 0, 0, 0, 1, 1, 1, 1, 0, 0, 0], \n",
    "             [0, 0, 0, 0, 0, 1, 1, 1, 0, 0, 0, 0], \n",
    "             [0, 0, 0, 0, 0, 1, 0, 0, 1, 1, 0, 0], \n",
    "             [0, 0, 0, 0, 0, 0, 0, 0, 1, 1, 1, 1], \n",
    "             [0, 0, 0, 0, 0, 0, 0, 0, 1, 0, 1, 1]]\n",
    "\n",
    "# 4. archivo de entradas\n",
    "archivo_entradas='test_1.txt'"
   ]
  },
  {
   "cell_type": "markdown",
   "metadata": {},
   "source": [
    "- #### **Salidas :** \n",
    "\n",
    "**1. Resultados_Archivo.xlsx:** Archivo de excel con las celdas conformadas."
   ]
  },
  {
   "cell_type": "markdown",
   "metadata": {},
   "source": [
    "- #### **Código :** \n",
    "Complete la función para convertir las entradas en las salidas, ingrese al [material de apoyo](#material \"Ir al material de apoyo\") para ver los ejemplos que lo pueden guiar, una vez terminada ejecútela y compare sus resultados con el archivo R_Prueba_test_1.xlsx ubicado en la carpeta R_Pruebas, si es correcta pásela [aquí](../../Programa/BOA.py)."
   ]
  },
  {
   "cell_type": "code",
   "execution_count": null,
   "metadata": {},
   "outputs": [],
   "source": [
    "# Importar aquí los módulos necesarios\n",
    "\n",
    "# f. Guardar archivo de resultados.xlsx\n",
    "def resultados (lp_ord, lm_ord, m_ordenada, archivo_entradas): \n",
    "    \"\"\"\n",
    "    Crear y guardar el archivo.xls con los resultados del pograma en la carpeta Resultados.\n",
    "    \"\"\"\n",
    "    # Escriba aquí el código:\n",
    "    \n",
    "    return None "
   ]
  },
  {
   "cell_type": "markdown",
   "metadata": {},
   "source": [
    "## Material de Apoyo <a id='material'></a>"
   ]
  },
  {
   "cell_type": "markdown",
   "metadata": {},
   "source": [
    "- [Archivos.xlsx](../../../../../7_Lectura_y_Escritura/7_Lectura_y_Escritura.ipynb#Min-eje_Archivo.xlsx \"Ir al Mini_Ejemplo de creación de archivos en Excel.\")\n",
    "- [Crear carpetas](../../../../../7_Lectura_y_Escritura/7_Lectura_y_Escritura.ipynb#Min-eje_C_Carpeta_Ejemplo.txt \"Ir al Mini_Ejmplo de creación de carpetas.\")"
   ]
  },
  {
   "cell_type": "markdown",
   "metadata": {},
   "source": [
    "---\n",
    "| [**Plantilla principal**](../Plantilla_BOA.ipynb \"Volver a la plantilla del programa principal\")|\n",
    "| :--------: |"
   ]
  }
 ],
 "metadata": {
  "kernelspec": {
   "display_name": "Python 3",
   "language": "python",
   "name": "python3"
  },
  "language_info": {
   "codemirror_mode": {
    "name": "ipython",
    "version": 3
   },
   "file_extension": ".py",
   "mimetype": "text/x-python",
   "name": "python",
   "nbconvert_exporter": "python",
   "pygments_lexer": "ipython3",
   "version": "3.7.4"
  }
 },
 "nbformat": 4,
 "nbformat_minor": 4
}
