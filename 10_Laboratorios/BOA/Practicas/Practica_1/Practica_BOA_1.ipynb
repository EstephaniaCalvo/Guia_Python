{
 "cells": [
  {
   "cell_type": "markdown",
   "metadata": {},
   "source": [
    "![Fig3_Encabezado.png](../../../../Fig3_Encabezado.png)\n",
    "\n",
    "---"
   ]
  },
  {
   "cell_type": "markdown",
   "metadata": {},
   "source": [
    "# **Práctica 1:** Metalmecánica <a id='ejemplo'></a>\n",
    "\n",
    "La empresa Metalmecánica Looha va a trasladar sus instalaciones al parque industrial Zona Franca del Pacífico, por lo cual se quiere aprovechar la reubicación para mejorar la distribución de planta que actualmente es por procesos. \n",
    "\n",
    "Entre los tipos de distribuciones nuevos que quieren evaluar son:\n",
    "- Distribución por producto.\n",
    "- Distribución en celdas de trabajo. \n",
    "\n",
    "Para evaluar la distribución en celdas el Jefe de producción hizo una tabla con las máquinas que se usan para hacer cada pieza de los 30 productos más importantes que se fabrican en la empresa, según una clasificación ABC realizado previamente. \n",
    "\n",
    "| No. | Nombre| Función| Proceso |\n",
    "|:------:|:------|:------|:------|\n",
    "| 1 | Cizalla manual| Corte de lámina pequeñas| Corte |\n",
    "| 2 | Cortadora de plasma| Corte de lámina por plasma| Corte |\n",
    "| 3 | Pantógrafo| Corte de lámina automático| Corte |\n",
    "| 4 | Punzón adora hidráulico| Punzonado de láminas y perfiles| Troquelado |\n",
    "| 5 | Taladro columna| Perforado de lámina| Troquelado |\n",
    "| 6 | Dobladora eléctrica| Doblado de piezas| Conformado |\n",
    "| 7 | Dobladora manual | Doblado de piezas pequeñas| Conformado |\n",
    "| 8 | Presa plegadora| Plegar piezas metálicas| Conformado |\n",
    "| 9 | Roladora| Curvar placas de acero| Conformado |\n",
    "| 10 | Máquina de soldar | Soldura de piezas | Soldadura |\n",
    "| 11 | Fresa Vertical| Desbastado, afinado y acabados| Acabado |\n",
    "| 12 | Pulidora| Pulido de piezas | Acabado |\n",
    "| 13 | Sierra sin fin| Corte de piezas metálicas| Acabado |\n",
    "| 14 | Torno horizontal| Desbastado o acabado | Acabado |\n",
    "| 15 | Prensa| Inserción de componentes| Ensamble |\n",
    "| 16 | Taladro | Armado de piezas | Ensamble |\n",
    "\n",
    "Finalmente, a partir de la tabla anterior y con el listado de piezas creó la matriz relacional de pieza - máquina, guardada en el archivo [Matriz_Looha.txt](Matriz_Looha.txt). Con el [programa BOA](#prog \"Ir al programa\") obtendrá el archivo Resultados_Matriz_Looha.txt con una aproximación de cómo sería la distribución por celdas, guardado en la carpeta Resultados."
   ]
  },
  {
   "cell_type": "markdown",
   "metadata": {},
   "source": [
    "---\n",
    "## Informe"
   ]
  },
  {
   "cell_type": "markdown",
   "metadata": {},
   "source": [
    "Analice los resultados obtenidos con el programa y escriba sus conclusiones [aquí](#conclusiones). Las siguientes preguntas le ayudarán a analizar el caso, sin embargo, hay muchos otros puntos sobre los que puede llegar a concluir.\n",
    "\n",
    "**Preguntas guía**\n",
    "- ¿Es viable tener una distribución por celdas?\n",
    "- ¿Si es viable, considera adecuado tener una distribución por celdas?"
   ]
  },
  {
   "cell_type": "markdown",
   "metadata": {},
   "source": [
    "## Conclusiones <a id='conclusiones'></a>\n",
    "*Escriba aquí las conclusiones del análisis basado en los resultados obtenidos* "
   ]
  },
  {
   "cell_type": "markdown",
   "metadata": {},
   "source": [
    "## Programa: BOA <a id=\"prog\"></a>"
   ]
  },
  {
   "cell_type": "markdown",
   "metadata": {},
   "source": [
    "#### **Instrucciones**\n",
    "\n",
    "1. Lea el [Análisis del problema](../../Programa/Analisis.ipynb)\n",
    "2. Llenar la [plantilla](../../Plantilla/Plantilla_BOA.ipynb) del programa.\n",
    "3. Ejecutar el programa con la siguiente celda."
   ]
  },
  {
   "cell_type": "code",
   "execution_count": null,
   "metadata": {},
   "outputs": [],
   "source": [
    "def p1_BOA():\n",
    "    try:\n",
    "        import os\n",
    "\n",
    "        os.chdir(\"../../Programa\")\n",
    "        from BOA import main\n",
    "        os.chdir(\"../Practicas/Practica_1\")\n",
    "\n",
    "        return main(\"p1\")\n",
    "\n",
    "    except(FileNotFoundError):\n",
    "        return print(\"No se encuentra el archivo Proyectos.txt\")\n",
    "    except(Exception):\n",
    "        return print(\"El programa no se ha podido ejecutar correctamente\")\n",
    "    \n",
    "p1_BOA()"
   ]
  },
  {
   "cell_type": "markdown",
   "metadata": {},
   "source": [
    "---\n",
    "| [**Home**](../../BOA.ipynb \"Ir a la página principal del algoritmo\")| - |[**Prácticas**](../Practicas_BOA.ipynb)| - | [**Plantilla**](../../Plantilla/Plantilla_BOA.ipynb \"Ir a la página de la plantilla\")|\n",
    "| :--------: | :-------: | :--------: | :--------: | :--------: |"
   ]
  }
 ],
 "metadata": {
  "kernelspec": {
   "display_name": "Python 3",
   "language": "python",
   "name": "python3"
  },
  "language_info": {
   "codemirror_mode": {
    "name": "ipython",
    "version": 3
   },
   "file_extension": ".py",
   "mimetype": "text/x-python",
   "name": "python",
   "nbconvert_exporter": "python",
   "pygments_lexer": "ipython3",
   "version": "3.7.4"
  }
 },
 "nbformat": 4,
 "nbformat_minor": 4
}
