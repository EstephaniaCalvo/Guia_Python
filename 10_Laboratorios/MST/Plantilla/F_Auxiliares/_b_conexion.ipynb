{
 "cells": [
  {
   "cell_type": "markdown",
   "metadata": {},
   "source": [
    "![Fig3_Encabezado.png](../../../../Fig3_Encabezado.png)\n",
    "\n",
    "---------------------"
   ]
  },
  {
   "cell_type": "markdown",
   "metadata": {},
   "source": [
    "## b. Buscar y almacenar la conexión más cercana (conexion)\n",
    "\n",
    "- #### **Objetivo :**\n",
    "    Buscar y almacenar las conexiones para recorrer toda la red que sumen una distancia mínima, devolviéndolas en un diccionario y calculando la distancia mínima total.\n",
    "    \n",
    "- #### **Entradas :** \n",
    "    **1. nodos:** Lista de nodos.    \n",
    "    **2. d_conexiones:** Diccionario de conexiones.   \n",
    "    \n",
    "~~~python\n",
    "n_descon= ['O', 'A', 'B', 'C', 'D', 'E', 'F', 'G', 'H', 'T']\n",
    "d_conexiones= {'O': [['A', 'C', 'D'], [5.0, 7.0, 11.0]],\n",
    "  'A': [['O', 'B', 'C'], [5.0, 6.0, 4.0]],\n",
    "  'B': [['A', 'C', 'G', 'A'], [6.0, 9.0, 2.0, 6.0]],\n",
    "  'C': [['A', 'B', 'D'], [4.0, 9.0, 3.0]],\n",
    "  'D': [['O', 'C', 'E'], [11.0, 3.0, 8.0]],\n",
    "  'E': [['D', 'F', 'H'], [8.0, 5.0, 3.0]],\n",
    "  'F': [['E', 'G', 'H'], [5.0, 3.0, 7.0]],\n",
    "  'G': [['B', 'F', 'T'], [2.0, 3.0, 8.0]],\n",
    "  'H': [['E', 'F', 'T'], [3.0, 7.0, 5.0]],\n",
    "  'T': [['B', 'G', 'H'], [6.0, 8.0, 5.0]]}\n",
    "~~~\n",
    "\n",
    "- #### **Salidas :** \n",
    "    **1. lm_conexiones:** Lista con las conexiones que dan una distancia total mínima.    \n",
    "    **2. l_distancias:** Lista con las distancias de las conexiones seleccionadas.     \n",
    "    **3. min_t_distancia:** Distancia total de las conexiones mínimas.    \n",
    "    \n",
    "~~~pytho\n",
    "lm_conexiones= [['O', 'A'],  ['A', 'C'],  ['C', 'D'],  ['A', 'B'],  ['B', 'G'],  ['G', 'F'],  ['F', 'E'],  ['E', 'H'],  ['H', 'T']]\n",
    "\n",
    "l_distancias= [5.0, 4.0, 3.0, 6.0, 2.0, 3.0, 5.0, 3.0, 5.0]\n",
    "\n",
    "min_t_distancia= 36.0\n",
    "~~~"
   ]
  },
  {
   "cell_type": "markdown",
   "metadata": {},
   "source": [
    "- #### **Código :** \n",
    "Complete la función para convertir las entradas en las salidas e ingrese al [material de apoyo](#material \"Ir al material de apoyo\") para ver los ejemplos que lo pueden guiar. Una vez terminada ejecútela y pruébela, si es correcta pásela [aquí](../../Programa/MST.py)."
   ]
  },
  {
   "cell_type": "code",
   "execution_count": null,
   "metadata": {},
   "outputs": [],
   "source": [
    "# Importar aquí los módulos necesarios\n",
    "\n",
    "# b. Buscar y almacenar la conexión más cercana\n",
    "def conexion (l_nodos, d_conexiones, l_conectados=[]):\n",
    "    \"\"\"\n",
    "    Identifica cuales son las conexiones para recorrer toda la red que sumen una distancia mínima, devolviéndolas en un diccionario y calculando la distancia mínima total.\n",
    "    \"\"\"\n",
    "    \n",
    "    # Escriba aquí el código:\n",
    "    \n",
    "    return(lm_conexiones,l_distancias, min_t_distancia)"
   ]
  },
  {
   "cell_type": "markdown",
   "metadata": {},
   "source": [
    "## Material de Apoyo <a id='material'></a>"
   ]
  },
  {
   "cell_type": "markdown",
   "metadata": {},
   "source": [
    "- [Manejo de listas y tuplas](../../../../5_Estructura_de_Datos/5_Estructura_de_Datos.ipynb#5_Estructura-de-Datos-Basicas \"Ir al capítulo de Estructuras de datos\")\n",
    "\n",
    "- [Manejo de diccionarios](../../../../5_Estructura_de_Datos/5_Estructura_de_Datos.ipynb#MDic \"Ir a la sección Diccionarios del capítulo de Estructuras de datos\")\n",
    "\n",
    "- [Cíclo while](../../../../4_Bucles_e_Iterables/4_Bucles_e_Iterables.ipynb#BloqueWhile \"Ir a subcapítulo Cíclo For Secciones del capítulo de Bucles e Iterables\")\n",
    "\n",
    "- [Cíclo for](../../../../4_Bucles_e_Iterables/4_Bucles_e_Iterables.ipynb#BloqueFor \"Ir a subcapítulo Cíclo For Secciones del capítulo de Bucles e Iterables\")\n",
    "\n",
    "- [Estructuras de decisión](../../../../3_Estructuras_Logicas/3_Estructuras_Logicas.ipynb#3_Estructuras_Logicas \"Ir al capítulo de Estructuras de decisión\")"
   ]
  },
  {
   "cell_type": "markdown",
   "metadata": {},
   "source": [
    "---\n",
    "| [**Plantilla pirncipal**](../Plantilla_MST.ipynb \"Volver a la plantilla del programa principal\")|\n",
    "| :--------: |"
   ]
  }
 ],
 "metadata": {
  "kernelspec": {
   "display_name": "Python 3",
   "language": "python",
   "name": "python3"
  },
  "language_info": {
   "codemirror_mode": {
    "name": "ipython",
    "version": 3
   },
   "file_extension": ".py",
   "mimetype": "text/x-python",
   "name": "python",
   "nbconvert_exporter": "python",
   "pygments_lexer": "ipython3",
   "version": "3.7.4"
  }
 },
 "nbformat": 4,
 "nbformat_minor": 4
}
