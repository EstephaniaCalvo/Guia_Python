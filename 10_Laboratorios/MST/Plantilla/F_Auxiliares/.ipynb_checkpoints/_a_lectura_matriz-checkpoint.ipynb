{
 "cells": [
  {
   "cell_type": "markdown",
   "metadata": {},
   "source": [
    "![Fig3_Encabezado.png](../../../../Fig3_Encabezado.png)\n",
    "\n",
    "---------------------"
   ]
  },
  {
   "cell_type": "markdown",
   "metadata": {},
   "source": [
    "## a. Leer y almacenar la matriz (lectura_matriz)\n",
    "\n",
    "- #### **Objetivo :** \n",
    "    Almacenar el contenido del [archivo](test_1.txt \"Ver archivo de entradas\") con la matriz de distancias, devolviendo la lista de nodos y un diccionario de conexiones.\n",
    "\n",
    "- #### **Entradas :** \n",
    "~~~python\n",
    "archivo_matriz='test_1.txt'\n",
    "~~~\n",
    "\n",
    "- #### **Salidas :** \n",
    "    **1. l_nodos:** Lista de nodos.    \n",
    "    **2. d_conexiones:** Diccionario de conexiones.  \n",
    "\n",
    "~~~python\n",
    "l_nodos= ['O', 'A', 'B', 'C', 'D', 'E', 'F', 'G', 'H', 'T']\n",
    "d_conexiones= {'O': [['A', 'C', 'D'], [5.0, 7.0, 11.0]],\n",
    "  'A': [['O', 'B', 'C'], [5.0, 6.0, 4.0]],\n",
    "  'B': [['A', 'C', 'G', 'A'], [6.0, 9.0, 2.0, 6.0]],\n",
    "  'C': [['A', 'B', 'D'], [4.0, 9.0, 3.0]],\n",
    "  'D': [['O', 'C', 'E'], [11.0, 3.0, 8.0]],\n",
    "  'E': [['D', 'F', 'H'], [8.0, 5.0, 3.0]],\n",
    "  'F': [['E', 'G', 'H'], [5.0, 3.0, 7.0]],\n",
    "  'G': [['B', 'F', 'T'], [2.0, 3.0, 8.0]],\n",
    "  'H': [['E', 'F', 'T'], [3.0, 7.0, 5.0]],\n",
    "  'T': [['B', 'G', 'H'], [6.0, 8.0, 5.0]]}\n",
    "~~~"
   ]
  },
  {
   "cell_type": "markdown",
   "metadata": {},
   "source": [
    "- #### **Código :** \n",
    "Complete la función para convertir las entradas en las salidas e ingrese al [material de apoyo](#material \"Ir al material de apoyo\") para ver los ejemplos que lo pueden guiar. Una vez terminada ejecútela y pruébela, si es correcta pásela [aquí](../../Programa/MST.py)."
   ]
  },
  {
   "cell_type": "code",
   "execution_count": null,
   "metadata": {},
   "outputs": [],
   "source": [
    "# Importar aquí los módulos necesarios\n",
    "\n",
    "## a. Leer y almacena la matriz\n",
    "def lectura_matriz (archivo_matriz):\n",
    "    \"\"\"\n",
    "    Leer y almacenar los datos del archivo con la matriz de distancias en una lista de nodos \n",
    "    y en un diccionario de conexiones.\n",
    "    \"\"\"\n",
    "    \n",
    "    # Escriba aquí el código:\n",
    "    \n",
    "    return (l_nodos,d_conexiones)"
   ]
  },
  {
   "cell_type": "markdown",
   "metadata": {},
   "source": [
    "## Material de Apoyo <a id='material'></a>"
   ]
  },
  {
   "cell_type": "markdown",
   "metadata": {},
   "source": [
    "- [Lectura de bases de datos](../../../../7_Lectura_y_Escritura/7_Lectura_y_Escritura.ipynb#ME_BDatos \"Ir al Mini_Ejemplo Almacenar base de datos del capítulo de Lectura de archivos\")\n",
    "\n",
    "- [Almacenamiento de una matriz](../../../../7_Lectura_y_Escritura/7_Lectura_y_Escritura.ipynb#ME_Coordenadas_x_y \"Ir al Mini_Ejemplo A_Coordenadas_x_y.txt del capítulo de Lectura de archivos\")\n",
    "\n",
    "- [Manejo de índices](../../../../4_Bucles_e_Iterables/4_Bucles_e_Iterables.ipynb#Min-eje_Secciones \"Ir al Mini_Ejemplo Secciones del capítulo de Bucles e Iterables\")\n",
    "\n",
    "- [Manejo de listas y tuplas](../../../../5_Estructura_de_Datos/5_Estructura_de_Datos.ipynb#5_Estructura-de-Datos-Basicas \"Ir al capítulo de Estructuras de datos\")\n",
    "\n",
    "- [Manejo de diccionarios](../../../../5_Estructura_de_Datos/5_Estructura_de_Datos.ipynb#MDic \"Ir a la sección Diccionarios del capítulo de Estructuras de datos\")"
   ]
  },
  {
   "cell_type": "markdown",
   "metadata": {},
   "source": [
    "---\n",
    "| [**Plantilla pirncipal**](../Plantilla_MST.ipynb \"Volver a la plantilla del programa principal\")|\n",
    "| :--------: |"
   ]
  }
 ],
 "metadata": {
  "kernelspec": {
   "display_name": "Python 3",
   "language": "python",
   "name": "python3"
  },
  "language_info": {
   "codemirror_mode": {
    "name": "ipython",
    "version": 3
   },
   "file_extension": ".py",
   "mimetype": "text/x-python",
   "name": "python",
   "nbconvert_exporter": "python",
   "pygments_lexer": "ipython3",
   "version": "3.7.4"
  }
 },
 "nbformat": 4,
 "nbformat_minor": 4
}
