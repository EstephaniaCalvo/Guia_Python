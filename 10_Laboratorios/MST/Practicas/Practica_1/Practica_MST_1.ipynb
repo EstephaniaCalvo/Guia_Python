{
 "cells": [
  {
   "cell_type": "markdown",
   "metadata": {},
   "source": [
    "![Fig3_Encabezado.png](../../../../Fig3_Encabezado.png)\n",
    "\n",
    "---------------------"
   ]
  },
  {
   "cell_type": "markdown",
   "metadata": {},
   "source": [
    "# **Práctica 1:** Vias Chari-Baguirmi <a id='ejemplo'></a>\n",
    "\n",
    "El gobierno de la región Chari-Baguirmi de Chad quiere construir un sistema de vías que conecte a sus subprefacturas. \n",
    "\n",
    "La siguiente tabla guardada en el archivo [Red_Chari.txt](Red_Chari.txt) muestra las subprefacturas y las distancias en línea rectra con las subprefaturas colindantes.\n",
    "\n",
    "| Subprefacturas | Bä Illi | Bogomoro | Bousso | Dourbali | Koundoul | Kouno | La Loumia | Linia | Lougoun | Maï Aïch |  Mandélia | Massenya | Mogo |\n",
    "| :---: | :---: | :---: | :---: | :---: | :---: | :---: | :---: | :---: | :---: | :---: |  :---: | :---: | :---: |\n",
    "| Bä Illi| . | . | . | 98 | 80 | . | 123 | 81 | . | 186 | . | . | . |\n",
    "| Bogomoro| . | . | 65 | . | 78 | . | 82 | . | 73 | 70 | . | 40 | 75 |\n",
    "| Bousso| . | 65 | . | 111 | 85 | 54 | . | 44 | . | 55 | 141 | . | .\n",
    "| Dourbali| 98 | . | 111 | . | . | . | 110 | 149 | . | 197 | 128 | . | 168 |\n",
    "| Koundoul| 80 | 78 | 85 | . | . | 129 | 39 | . | . | 56 | 157 | . | . |\n",
    "| Kouno| . | . | 54 | . | 129 | . | 59 | . | 172 | . | 41 | . | 48 |\n",
    "| La Loumia| 123 | 82 | . | 110 | 39 | 59 | . | 79 | 77 | . | 53 |. | 71 |\n",
    "| Linia| 81 | . | 44 | 149 | . | . | 79 | . | 48 | 83 | . | 191 | 102 |\n",
    "| Lougoun| . | 73 | . | . | . | 172 | 77 | 48 | . | 154 | 126 | . | 120 |\n",
    "| Maï Aïche| 186 | 70 | 55 | 197 | 56 | . | .| 83 | 154 | . | 151 | 157 | 116 |\n",
    "| Mandélia| . | . | 141 | 128 | 157 | 41 | 53 | . | 126 | 151 | . |79 | 100 |\n",
    "| Massenya| . | 40 | . | . | . | . | . | 191 | . | 157 | 79 | . | 91 |\n",
    "| Mogo| . | 75 | . | 168 | . | 48 | 71 | 102 | 120 | 116 | 100 | 91 | . |\n",
    "\n",
    "Hay tres constructoras que están en el proceso de licitación, Zeldem.SAS, Sorcam.SA, y Uscranto.SAS. A continuación, se muestra la distancia que tienen la red vial propuesta por cada constructora.\n",
    "\n",
    "| Constructora | Distancia | Ruta |\n",
    "| :----: | :----: | :----: |\n",
    "| Sorcam.SA | 500 | [Koundoul, La Loumia], [La Loumia, Bogomoro], [Bogomoro, Massenya], [Massenya, Kouno], [Kouno, Mandélia], [Mandélia, Bousso], [Bousso, Linia], [Linia, Lougoun], [Lougoun, Mogo], [Mogo, Maï Aïche], [Maï Aïche, Bä Illi], [Bä Illi, Dourbali] |\n",
    "| Uscranto.SAS | 900 | [Ba Illi, Mai Aich], [Koundoul, La Loumia], [La Loumia, Mandelia], [Mandelia, Kouno], [Dourbali, Mogo], [Kouno, Bousso], [Bousso, Linia], [Linia , Lougoun], [Bousso, Mai Aich], [Bousso, Bogomoro], [Bogomoro, Massenya], [Ba Illi, Dourbali] |\n",
    "| Zeldem.SAS | 700 | [Ba Illi, Koundoul], [Koundoul, La Loumia], [La Loumia, Mandelia], [Mandelia, Kouno], [Kouno, Mogo], [Kouno, Bousso], [Bousso, Linia], [Linia , Lougoun], [Bousso, Mai Aich], [Bousso, Bogomoro], [Bogomoro, Massenya], [Ba Illi, Dourbali] |\n",
    "\n",
    "\n",
    "Debido a la disparidad entre las propuestas el equipo encargado de la licitación del proyecto, decide calcular el árbol de expansión mínima de la red y analizar los datos de las constructoras. Para ello emplean el [programa MST](#prog \"Ir al programa\") con el cual obtendrán el archivo Resultados_Red_Chari.txt con las conexiones y la distancia mínima para recorrer toda la red, guardado en la carpeta Resultados."
   ]
  },
  {
   "cell_type": "markdown",
   "metadata": {},
   "source": [
    "---\n",
    "## Informe"
   ]
  },
  {
   "cell_type": "markdown",
   "metadata": {},
   "source": [
    "Analice los resultados obtenidos con el programa y escriba sus conclusiones [aquí](#conclusiones). Las siguientes preguntas le ayudarán a analizar el caso, sin embargo, hay muchos otros puntos sobre los que puede llegar a concluir.\n",
    "\n",
    "**Preguntas guía**\n",
    "- ¿Cuál constructora es la menos confiable para realizar el proyecto?\n",
    "- ¿Alguna constructora propone una ruta óptima?\n",
    "- ¿Alguna constructora propone una distancia óptima?\n",
    "- ¿Con cuál constructora sería más viable realizar el proyecto?"
   ]
  },
  {
   "cell_type": "markdown",
   "metadata": {},
   "source": [
    "## Conclusiones <a id='conclusiones'></a>\n",
    "*Escriba aquí las conclusiones del análisis basado en los resultados obtenidos* "
   ]
  },
  {
   "cell_type": "markdown",
   "metadata": {},
   "source": [
    "## Programa: MST <a id=\"prog\"></a>"
   ]
  },
  {
   "cell_type": "markdown",
   "metadata": {},
   "source": [
    "#### **Instrucciones**\n",
    "\n",
    "1. Lea el [Análisis del problema](../../Programa/Analisis.ipynb)\n",
    "2. Llenar la [plantilla](../../Plantilla/Plantilla_MST.ipynb) del programa.\n",
    "3. Ejecutar el programa con la siguiente celda."
   ]
  },
  {
   "cell_type": "code",
   "execution_count": 3,
   "metadata": {},
   "outputs": [],
   "source": [
    "def p1_MST():\n",
    "    try:\n",
    "        import os\n",
    "\n",
    "        os.chdir(\"../../Programa\")\n",
    "        from MST import main\n",
    "        os.chdir(\"../Practicas/Practica_1\")\n",
    "\n",
    "        return main(\"p1\")\n",
    "\n",
    "    except(FileNotFoundError):\n",
    "        return print(\"No se encuentra el archivo Proyectos.txt\")\n",
    "    except(Exception):\n",
    "        return print(\"El programa no se ha podido ejecutar correctamente\")\n",
    "    \n",
    "p1_MST()"
   ]
  },
  {
   "cell_type": "markdown",
   "metadata": {},
   "source": [
    "---\n",
    "| [**Home**](../../MST.ipynb \"Ir a la página principal del algoritmo\")| - |[**Prácticas**](../Practicas_MST.ipynb)| - | [**Plantilla**](../../Plantilla/Plantilla_MST.ipynb \"Ir a la página de la plantilla\")|\n",
    "| :--------: | :-------: | :--------: | :--------: | :--------: |"
   ]
  }
 ],
 "metadata": {
  "kernelspec": {
   "display_name": "Python 3",
   "language": "python",
   "name": "python3"
  },
  "language_info": {
   "codemirror_mode": {
    "name": "ipython",
    "version": 3
   },
   "file_extension": ".py",
   "mimetype": "text/x-python",
   "name": "python",
   "nbconvert_exporter": "python",
   "pygments_lexer": "ipython3",
   "version": "3.7.4"
  }
 },
 "nbformat": 4,
 "nbformat_minor": 4
}
