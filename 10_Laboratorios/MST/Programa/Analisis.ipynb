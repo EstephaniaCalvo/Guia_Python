{
 "cells": [
  {
   "cell_type": "markdown",
   "metadata": {},
   "source": [
    "![Fig3_Encabezado.png](../../../Fig3_Encabezado.png)\n",
    "\n",
    "---------------------"
   ]
  },
  {
   "cell_type": "markdown",
   "metadata": {},
   "source": [
    "# **Análisis - MST**\n",
    "\n",
    "- ### Objetivo\n",
    "Hacer un programa que al ingresar un archivo con la matriz de distancia entre nodos devuleva la lista de conexiones con distancia mínima para conectar a todos los nodos.\n",
    "\n",
    "**Notas:** \n",
    "- El algoritmo se iniciará con el primer nodo que esté indicado en el arhivo, en el caso del ejemplo es el nodo 'O'.\n",
    "\n",
    "- ### Entradas\n",
    "    **1.** [Matriz:](../Ejemplo/Ej_MST.txt \"Ver archivo del ejemplo\") Archivo de texto.txt con el listado de nodos y la matriz de distancias.    \n",
    "   \n",
    "- ### Salidas\n",
    "    **0. Carpeta Resultados:** Carpeta en la misma ubicación del programa llamada \"Resultados\" para almacenar los resultados del programa.   \n",
    "    \n",
    "    **1. Resultados.xlsx:** Archivos de excel con la lista de conexiones, la distancia entre cada una de ellas y la distancia mínima para conectar toda la red.\n",
    "    \n",
    "- ### Algoritmo  \n",
    "    1. Pedir y leer archivo con la matriz de distancias.    \n",
    "    2. Buscar y almacenar la conexión más cercana\n",
    "        Mientras todos los nodos no estén resueltos:     \n",
    "        2.1. Identificar nodos candidatos.      \n",
    "        2.2. Seleccionar el nodo más cercano.    \n",
    "        2.3. Actualizar datos.    \n",
    "    3. Crear y guardar el archivo.xlsx con los resultados.   "
   ]
  },
  {
   "cell_type": "markdown",
   "metadata": {},
   "source": [
    "---\n",
    "| [**Home**](../BOA.ipynb \"Ir a la página principal del algoritmo\")|\n",
    "| :--------: |"
   ]
  }
 ],
 "metadata": {
  "kernelspec": {
   "display_name": "Python 3",
   "language": "python",
   "name": "python3"
  },
  "language_info": {
   "codemirror_mode": {
    "name": "ipython",
    "version": 3
   },
   "file_extension": ".py",
   "mimetype": "text/x-python",
   "name": "python",
   "nbconvert_exporter": "python",
   "pygments_lexer": "ipython3",
   "version": "3.7.4"
  }
 },
 "nbformat": 4,
 "nbformat_minor": 4
}
