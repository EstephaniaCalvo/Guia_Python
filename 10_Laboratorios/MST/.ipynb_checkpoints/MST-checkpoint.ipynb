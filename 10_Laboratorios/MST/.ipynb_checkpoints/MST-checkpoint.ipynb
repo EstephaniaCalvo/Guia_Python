{
 "cells": [
  {
   "cell_type": "markdown",
   "metadata": {},
   "source": [
    "# **MST - Minimun Spanning Tree**"
   ]
  },
  {
   "cell_type": "markdown",
   "metadata": {},
   "source": [
    "## **Índice**\n",
    "\n",
    "- [Descripción](#descripcion)\n",
    "- [Ejemplo](Ejemplo/Ejemplo_MST.ipynb#ejemplo)\n",
    "- [Análisis del problema](Programa/Analisis.ipynb \"Ir al análisis del problema\")\n",
    "- [Plantilla](Plantilla/Plantilla_MST.ipynb \"Ir a la plantilla del programa\")\n",
    "- [Código del Programa](Programa/MST.py \"Ir a archivo del programa\") \n",
    "- [Prácticas](Practicas/Practicas_MST.ipynb)"
   ]
  },
  {
   "cell_type": "markdown",
   "metadata": {},
   "source": [
    "### **Descripción** <a id=\"descripcion\"></a>"
   ]
  },
  {
   "cell_type": "markdown",
   "metadata": {},
   "source": [
    "Este algoritmo es empleado para econtrar la serie de conexiones que permita elanzar a todos los nodos de una red con una longitud total de arcos mínima, en otras palabras, conecta todos los nodos de una red recorriendo la mínima distancia posible, por lo cual, puede ser empleado en problemas de instalaciones de cables, tuberias, carreteras, ect. "
   ]
  },
  {
   "cell_type": "markdown",
   "metadata": {},
   "source": [
    "### **Programa** <a id=\"programa\"></a>"
   ]
  },
  {
   "cell_type": "code",
   "execution_count": null,
   "metadata": {},
   "outputs": [],
   "source": [
    "try:\n",
    "    import os\n",
    "\n",
    "    os.chdir(\"Programa\")\n",
    "    from MST import main\n",
    "    os.chdir(\"../\")\n",
    "\n",
    "    main()\n",
    "except(FileNotFoundError):\n",
    "    print(\"No se encuentra el archivo indicado.\")\n",
    "except(Exception):\n",
    "    print(\"El programa no se ha podido ejecutar correctamente\")"
   ]
  }
 ],
 "metadata": {
  "kernelspec": {
   "display_name": "Python 3",
   "language": "python",
   "name": "python3"
  },
  "language_info": {
   "codemirror_mode": {
    "name": "ipython",
    "version": 3
   },
   "file_extension": ".py",
   "mimetype": "text/x-python",
   "name": "python",
   "nbconvert_exporter": "python",
   "pygments_lexer": "ipython3",
   "version": "3.7.4"
  }
 },
 "nbformat": 4,
 "nbformat_minor": 4
}
