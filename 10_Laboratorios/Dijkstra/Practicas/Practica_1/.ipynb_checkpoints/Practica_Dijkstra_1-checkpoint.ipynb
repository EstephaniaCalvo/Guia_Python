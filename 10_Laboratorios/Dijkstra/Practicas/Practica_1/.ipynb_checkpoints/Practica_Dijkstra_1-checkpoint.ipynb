{
 "cells": [
  {
   "cell_type": "markdown",
   "metadata": {},
   "source": [
    "![Fig3_Encabezado.png](../../../../Fig3_Encabezado.png)\n",
    "\n",
    "---------------------"
   ]
  },
  {
   "cell_type": "markdown",
   "metadata": {},
   "source": [
    "# **Práctica 1:** Rutas de evacuación <a id='ejemplo'></a>\n",
    "\n",
    "Como parte de la planeación del protocolo de evacuación el área de seguridad y salud en trabajo de la empresa Bayarwa.SAS necesita encontrar la ruta mas corta a los puntos de encuentro y decidir las rutas de evacuación.\n",
    "\n",
    "Para esto han dividido los espacios de la empresa en siete bloques y a su vez an subdividido estos bloques para representar las diferentar áreas. El listado de bloques se muestra junto con el grafo de la red la de empresa.\n",
    "\n",
    "A continuación se midieron la distancia de los recorridos que hay entre cada una de las secciones y las secciones conjuntas, la cules fueron guardadas en los archivos de la carpeta Ruta, por ejemplo, [A1_X1.txt](Ruta/A1_X1.txt) y fueron respresentadas en el siguiente grafo.\n",
    "\n",
    "![grafo_bloques.png](grafo_bloques.png)"
   ]
  },
  {
   "cell_type": "markdown",
   "metadata": {},
   "source": [
    "La primera impresión que tuvo la coordinadora de EHS sobre las rutas es la siguiente realción entre bloques y puntos de encuentro:\n",
    "- Los bloques A y B con el punto de encuentro X1.\n",
    "- El bloque C con el punto de encuentro X2. \n",
    "- Los bloques D y E con el punto de encuentro X1.\n",
    "- El bloque F con el punto de encuentro X4.\n",
    "- El bloque G con el punto de encuentro X3.\n",
    "\n",
    "Para corroborar el punto anteior, calcula la ruta mas corta de cada sección a cada punto de encuentro empleando el [programa Dijkstra](#prog \"Ir al programa\") con el cual obtendrán el archivo Resultados_Si_Xj.txt con la ruta mas corta para cada sección. \n",
    "\n",
    "Donde: \n",
    "- S= Sección\n",
    "- i= Número de la seccción\n",
    "- X= Punto de encuentro\n",
    "- j= Número del punto de encuentro."
   ]
  },
  {
   "cell_type": "markdown",
   "metadata": {},
   "source": [
    "---\n",
    "## Informe"
   ]
  },
  {
   "cell_type": "markdown",
   "metadata": {},
   "source": [
    "Analice los resultados obtenidos con el programa y escriba sus conclusiones [aquí](#conclusiones). Las siguientes preguntas le ayudarán a analizar el caso, sin embargo, hay muchos otros puntos sobre los que puede llegar a concluir.\n",
    "\n",
    "**Preguntas guía**\n",
    "- ¿La coordinadora de EHS estaba en lo correcto?\n",
    "- ¿Alguna sección del bloque B debería ir al punto de encuentro X2?\n",
    "- ¿Como deberian estar organizados lo bloques, para que cada sección sepa cual es su punto de encuentro?"
   ]
  },
  {
   "cell_type": "markdown",
   "metadata": {},
   "source": [
    "## Conclusiones <a id='conclusiones'></a>\n",
    "*Escriba aquí las conclusiones del análisis basado en los resultados obtenidos* "
   ]
  },
  {
   "cell_type": "markdown",
   "metadata": {},
   "source": [
    "## Programa: Dijkstra <a id=\"prog\"></a>"
   ]
  },
  {
   "cell_type": "markdown",
   "metadata": {},
   "source": [
    "#### **Instrucciones**\n",
    "\n",
    "1. Lea el [Análisis del problema](../../Programa/Analisis.ipynb)\n",
    "2. Llenar la [plantilla](../../Plantilla/Plantilla_Dijkstra.ipynb) del programa.\n",
    "3. Ejecutar el programa con la siguiente celda.\n",
    "\n",
    "**Notas:** \n",
    "- Como son 96 archivos de lectura el programa demora unos segundos en correr, asegurese de que halla corrido completamente antes de abrir los archivos resultados.\n",
    "- La carpeta de resultados se creará en la carpeta Ruta."
   ]
  },
  {
   "cell_type": "code",
   "execution_count": 3,
   "metadata": {},
   "outputs": [],
   "source": [
    "def p1_Dijkstra():\n",
    "    try:\n",
    "        import os\n",
    "        os.chdir(\"../../Programa\")\n",
    "        from Dijkstra import main\n",
    "        os.chdir(\"../Practicas/Practica_1/Ruta\")\n",
    "\n",
    "        s=['A1', 'A2', 'A3', 'A4', 'A5', 'B1', 'B2', 'B3', 'B4', 'B5', 'C1', 'C2', 'D1', 'D2', 'E1', 'E2', 'F1', 'F2', 'F3', 'G1', 'G2', 'G3', 'G4', 'G5']\n",
    "        e=['X1','X2','X3', 'X4']\n",
    "\n",
    "        for i in e:\n",
    "            for j in s:\n",
    "                archivo=j+\"_\"+i+\".txt\"\n",
    "                main(archivo)\n",
    "        os.chdir(\"../\")\n",
    "                \n",
    "        return None\n",
    "\n",
    "    except(FileNotFoundError):\n",
    "        return print(\"No se encuentra el archivo\",archivo)\n",
    "    except(Exception):\n",
    "        return print(\"El programa no se ha podido ejecutar correctamente\")\n",
    "    \n",
    "p1_Dijkstra()"
   ]
  },
  {
   "cell_type": "markdown",
   "metadata": {},
   "source": [
    "---\n",
    "| [**Home**](../../Dijkstra.ipynb \"Ir a la página principal del algoritmo\")| - |[**Prácticas**](../Practicas_Dijkstra.ipynb)| - | [**Plantilla**](../../Plantilla/Plantilla_Dijkstra.ipynb \"Ir a la página de la plantilla\")|\n",
    "| :--------: | :-------: | :--------: | :--------: | :--------: |"
   ]
  }
 ],
 "metadata": {
  "kernelspec": {
   "display_name": "Python 3",
   "language": "python",
   "name": "python3"
  },
  "language_info": {
   "codemirror_mode": {
    "name": "ipython",
    "version": 3
   },
   "file_extension": ".py",
   "mimetype": "text/x-python",
   "name": "python",
   "nbconvert_exporter": "python",
   "pygments_lexer": "ipython3",
   "version": "3.7.4"
  }
 },
 "nbformat": 4,
 "nbformat_minor": 4
}
