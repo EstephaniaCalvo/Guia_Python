{
 "cells": [
  {
   "cell_type": "markdown",
   "metadata": {},
   "source": [
    "![Fig3_Encabezado.png](../../../../Fig3_Encabezado.png)\n",
    "\n",
    "---------------------"
   ]
  },
  {
   "cell_type": "markdown",
   "metadata": {},
   "source": [
    "## c. Reconstruir la ruta mas corta (ruta)\n",
    "\n",
    "- #### **Objetivo :**\n",
    "    Reconstruir la ruta mas corta desde el punto de partida hasta el punto de llegada apartir de los nodos resultados.\n",
    "    \n",
    "- #### **Entradas :** \n",
    "    **1. n_resultados:** Diccionario de los nodos seleccionados, con el nodo más cercano y la distancia entre la conexión y la distancia al nodo de origen.    \n",
    "    **2. n_partida:** Nodo de partida.     \n",
    "    **3. n_llegada:** Nodo de llegada.  \n",
    "    \n",
    "~~~python\n",
    "n_partida='O'\n",
    "\n",
    "n_llegada='T'\n",
    "\n",
    "n_resultados={'O': ['O', 0, 0],\n",
    " 'A': ['O', 5.0, 5.0],\n",
    " 'C': ['O', 7.0, 7.0],\n",
    " 'D': ['C', 10.0, 3.0],\n",
    " 'B': ['A', 11.0, 6.0],\n",
    " 'G': ['B', 13.0, 2.0],\n",
    " 'F': ['G', 16.0, 3.0],\n",
    " 'T': ['B', 17.0, 6.0]}\n",
    "~~~\n",
    "\n",
    "- #### **Salidas :** \n",
    "    **1. l_conexiones:** Lista con las conexiones de la ruta.      \n",
    "    **2. lc_distancia:** Lista con las distancias entre las conexiones de la ruta.      \n",
    "    **3. t_distancia:** Distancia total de la ruta.\n",
    "    \n",
    "~~~python\n",
    "l_conexiones= [['O', 'A'], ['A', 'B'], ['B', 'T']]\n",
    "lc_distancia= [5.0, 6.0, 6.0]\n",
    "t_distancia= 17.0\n",
    "~~~"
   ]
  },
  {
   "cell_type": "markdown",
   "metadata": {},
   "source": [
    "- #### **Código :** \n",
    "Complete la función para convertir las entradas en las salidas, ingrese al [material de apoyo](#material \"Ir al material de apoyo\") para ver los ejemplos que lo pueden guiar, una vez terminada ejecútela y pruébela, si es correcta pásela [aquí](../../Programa/Dijkstra.py)."
   ]
  },
  {
   "cell_type": "code",
   "execution_count": null,
   "metadata": {},
   "outputs": [],
   "source": [
    "# Importar aquí los módulos necesarios\n",
    "\n",
    "# c. Reconstruir la ruta mas corta\n",
    "def ruta (n_resultados, n_partida, n_llegada):\n",
    "    \"\"\"\n",
    "    Recontruye la ruta mas corta apartir del diccionario de nodos resueltos y la lista de distancias,\n",
    "    devolveindo en una lista las conexiones de la ruta, una lista con sus respectiva distancias y \n",
    "    la distancia total de la ruta.\n",
    "    \"\"\"\n",
    "    \n",
    "    # Escriba aquí el código:\n",
    "    \n",
    "    return(l_conexiones, lc_distancia, t_distancia)"
   ]
  },
  {
   "cell_type": "markdown",
   "metadata": {},
   "source": [
    "## Material de Apoyo <a id='material'></a>"
   ]
  },
  {
   "cell_type": "markdown",
   "metadata": {},
   "source": [
    "- [Manejo de listas y tuplas](../../../../5_Estructura_de_Datos/5_Estructura_de_Datos.ipynb#5_Estructura-de-Datos-Basicas \"Ir al capítulo de Estructuras de datos\")\n",
    "\n",
    "- [Cíclo while](../../../../4_Bucles_e_Iterables/4_Bucles_e_Iterables.ipynb#BloqueWhile \"Ir a subcapítulo Cíclo For Secciones del capítulo de Bucles e Iterables\")\n"
   ]
  },
  {
   "cell_type": "markdown",
   "metadata": {},
   "source": [
    "---\n",
    "| [**Plantilla pirncipal**](../Plantilla_Dijkstra.ipynb \"Volver a la plantilla del programa principal\")|\n",
    "| :--------: |"
   ]
  }
 ],
 "metadata": {
  "kernelspec": {
   "display_name": "Python 3",
   "language": "python",
   "name": "python3"
  },
  "language_info": {
   "codemirror_mode": {
    "name": "ipython",
    "version": 3
   },
   "file_extension": ".py",
   "mimetype": "text/x-python",
   "name": "python",
   "nbconvert_exporter": "python",
   "pygments_lexer": "ipython3",
   "version": "3.7.4"
  }
 },
 "nbformat": 4,
 "nbformat_minor": 4
}
