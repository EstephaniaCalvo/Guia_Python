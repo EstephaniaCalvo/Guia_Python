{
 "cells": [
  {
   "cell_type": "markdown",
   "metadata": {},
   "source": [
    "![Fig3_Encabezado.png](../../../../Fig3_Encabezado.png)\n",
    "\n",
    "---------------------"
   ]
  },
  {
   "cell_type": "markdown",
   "metadata": {},
   "source": [
    "## b. Buscar y almacenar las conexiones de la ruta (conexion)\n",
    "\n",
    "- #### **Objetivo :**\n",
    "    Bucar y almacenar las conexiones para llegar desde el punto de partida hasta el punto de llegada recorriendo la menor distancia.\n",
    "    \n",
    "- #### **Entradas :** \n",
    "    **1. l_nodos:** Lista de nodos.          \n",
    "    **2. n_partida:** Nodo de partida     \n",
    "    **3. n_llegada:** Nodo de llegada.      \n",
    "    **4. sin_resolver:** Lista de nodos no resueltos.      \n",
    "    **5. d_conexiones:** Diccionario de conexiones.     \n",
    "    \n",
    "~~~python\n",
    "l_nodos= ['O', 'A', 'B', 'C', 'D', 'E', 'F', 'G', 'H', 'T']\n",
    "\n",
    "n_partida='O'\n",
    "\n",
    "n_llegada='T'\n",
    "\n",
    "sin_resolver=['A', 'B', 'C', 'D', 'E', 'F', 'G', 'H', 'T']\n",
    "\n",
    "d_conexiones= {'O': [['A', 'C', 'D'], [5.0, 7.0, 11.0]],\n",
    "  'A': [['O', 'B', 'C'], [5.0, 6.0, 4.0]],\n",
    "  'B': [['A', 'C', 'G', 'T'], [6.0, 9.0, 2.0, 6.0]],\n",
    "  'C': [['O', 'A', 'B', 'D'], [7.0, 4.0, 9.0, 3.0]],\n",
    "  'D': [['O', 'C', 'E'], [11.0, 3.0, 8.0]],\n",
    "  'E': [['D', 'F', 'H'], [8.0, 5.0, 3.0]],\n",
    "  'F': [['E', 'G', 'H'], [5.0, 3.0, 7.0]],\n",
    "  'G': [['B', 'F', 'T'], [2.0, 3.0, 8.0]],\n",
    "  'H': [['E', 'F', 'T'], [3.0, 7.0, 5.0]],\n",
    "  'T': [['B', 'G', 'H'], [6.0, 8.0, 5.0]]}\n",
    "~~~\n",
    "\n",
    "- #### **Salidas :** \n",
    "    **1. n_resultados:** Diccionario de los nodos seleccionados, con el nodo más cercano y la distancia entre la conexión y la distancia al nodo de origen.     \n",
    "    \n",
    "~~~python\n",
    "n_resultados={'O': ['O', 0, 0],\n",
    " 'A': ['O', 5.0, 5.0],\n",
    " 'C': ['O', 7.0, 7.0],\n",
    " 'D': ['C', 10.0, 3.0],\n",
    " 'B': ['A', 11.0, 6.0],\n",
    " 'G': ['B', 13.0, 2.0],\n",
    " 'F': ['G', 16.0, 3.0],\n",
    " 'T': ['B', 17.0, 6.0]}\n",
    "~~~"
   ]
  },
  {
   "cell_type": "markdown",
   "metadata": {},
   "source": [
    "- #### **Código :** \n",
    "Complete la función para convertir las entradas en las salidas, ingrese al [material de apoyo](#material \"Ir al material de apoyo\") para ver los ejemplos que lo pueden guiar, una vez terminada ejecútela y pruébela, si es correcta pásela [aquí](../../Programa/Dijkstra.py)."
   ]
  },
  {
   "cell_type": "code",
   "execution_count": null,
   "metadata": {},
   "outputs": [],
   "source": [
    "# Importar aquí los módulos necesarios\n",
    "\n",
    "# b. Buscar y almacenar las conexiones de la ruta\n",
    "def conexion (l_nodos,n_partida, n_llegada, sin_resolver, d_conexiones):\n",
    "    \"\"\"\n",
    "    Identifica cuales son las conexiones para llegar del punto de origen al punto de llegadas recorriendo la menor distancia y\n",
    "    devolviendolas en un diccionario con la pareja de nodos conectados, la distancia entre ellos y la distancia al nodo de origen.\n",
    "    \"\"\"\n",
    "    \n",
    "    # Escriba aquí el código:\n",
    "    \n",
    "    return(n_resueltos)"
   ]
  },
  {
   "cell_type": "markdown",
   "metadata": {},
   "source": [
    "## Material de Apoyo <a id='material'></a>"
   ]
  },
  {
   "cell_type": "markdown",
   "metadata": {},
   "source": [
    "- [Manejo de listas y tuplas](../../../../5_Estructura_de_Datos/5_Estructura_de_Datos.ipynb#5_Estructura-de-Datos-Basicas \"Ir al capítulo de Estructuras de datos\")\n",
    "\n",
    "- [Manejo de diccionarios](../../../../5_Estructura_de_Datos/5_Estructura_de_Datos.ipynb#MDic \"Ir a la sección Diccionarios del capítulo de Estructuras de datos\")\n",
    "\n",
    "- [Cíclo while](../../../../4_Bucles_e_Iterables/4_Bucles_e_Iterables.ipynb#BloqueWhile \"Ir a subcapítulo Cíclo For Secciones del capítulo de Bucles e Iterables\")\n",
    "\n",
    "- [Cíclo for](../../../../4_Bucles_e_Iterables/4_Bucles_e_Iterables.ipynb#BloqueFor \"Ir a subcapítulo Cíclo For Secciones del capítulo de Bucles e Iterables\")\n",
    "\n",
    "- [Estructuras de decisión](../../../../3_Estructuras_Logicas/3_Estructuras_Logicas.ipynb#3_Estructuras_Logicas \"Ir al capítulo de Estructuras de decisión\")"
   ]
  },
  {
   "cell_type": "markdown",
   "metadata": {},
   "source": [
    "---\n",
    "| [**Plantilla pirncipal**](../Plantilla_Dijkstra.ipynb \"Volver a la plantilla del programa principal\")|\n",
    "| :--------: |"
   ]
  }
 ],
 "metadata": {
  "kernelspec": {
   "display_name": "Python 3",
   "language": "python",
   "name": "python3"
  },
  "language_info": {
   "codemirror_mode": {
    "name": "ipython",
    "version": 3
   },
   "file_extension": ".py",
   "mimetype": "text/x-python",
   "name": "python",
   "nbconvert_exporter": "python",
   "pygments_lexer": "ipython3",
   "version": "3.7.4"
  }
 },
 "nbformat": 4,
 "nbformat_minor": 4
}
