{
 "cells": [
  {
   "cell_type": "markdown",
   "metadata": {},
   "source": [
    "## Plantilla - Dijkstra <a id=\"plantilla\"></a>"
   ]
  },
  {
   "cell_type": "markdown",
   "metadata": {},
   "source": [
    "### **-2. Importar módulos**"
   ]
  },
  {
   "cell_type": "code",
   "execution_count": null,
   "metadata": {},
   "outputs": [],
   "source": [
    "# Importe aquí todos los módulos que necesite"
   ]
  },
  {
   "cell_type": "markdown",
   "metadata": {},
   "source": [
    "### **-1. Funciones auxiliares**"
   ]
  },
  {
   "cell_type": "markdown",
   "metadata": {},
   "source": [
    "<a id='lectura_entradas'></a>\n",
    "#### a. Leer y almacenar la matriz ([lectura_matriz](F_Auxiliares/_a_lectura_matriz.ipynb \"Ir a la plantilla de lectura_matriz\"))"
   ]
  },
  {
   "cell_type": "markdown",
   "metadata": {},
   "source": [
    "<a id='conexiones'></a>\n",
    "#### b. Buscar y almacenar las conexiones de la ruta ([conexiones](F_Auxiliares/_b_conexion.ipynb \"Ir a la plantilla de conexion\"))"
   ]
  },
  {
   "cell_type": "markdown",
   "metadata": {},
   "source": [
    "<a id='ruta'></a>\n",
    "#### c. Reconstruir la ruta mas corta ([ruta](F_Auxiliares/_c_ruta.ipynb \"Ir a la plantilla de ruta\"))"
   ]
  },
  {
   "cell_type": "markdown",
   "metadata": {},
   "source": [
    "<a id='resultados'></a>\n",
    "#### d. Guardar archivo de resultados.xlsx ([resultados](F_Auxiliares/_d_resultados.ipynb \"Ir a la plantilla de resultados\"))"
   ]
  },
  {
   "cell_type": "markdown",
   "metadata": {},
   "source": [
    "### **0. Programa principal** [Dijkstra](../Programa/Dijkstra.py)"
   ]
  },
  {
   "cell_type": "code",
   "execution_count": null,
   "metadata": {},
   "outputs": [],
   "source": [
    "# 0. Programa principal\n",
    "def main(ingreso=1):\n",
    "    \"\"\"\n",
    "    Al ingresar un archivo con la lista de nodos de una red, el nodo de llegada, el nodo de origen y\n",
    "    su matriz de distancia, devuelve un archivo en excel las conexiones de la ruta mas corta entre los dos puntos.\n",
    "    \"\"\"\n",
    "\n",
    "    \"0. Pedir y leer archivo de entradas\"\n",
    "    # Ingresar archivo de entrada.\n",
    "    \n",
    "    if ingreso==1:\n",
    "        a_entradas=input(\"Por favor ingrese el archivo que contiene las entradas, por ejemplo, 'Entradas.txt':\\n\")\n",
    "    elif ingreso==\"e\":\n",
    "        a_entradas=\"Ej_Dijkstra.txt\"\n",
    "    else:\n",
    "        a_entradas=ingreso\n",
    "        \n",
    "    \"1. Leer matriz\"\n",
    "    \n",
    "    \n",
    "    \"2. Buscar y almacenar las conexiones de la ruta.\"\n",
    "    \n",
    "    \n",
    "    \"3. Reconstruir ruta\"\n",
    "    \n",
    "    \n",
    "    \"4. Crear y guardar el archivo.xlsx con los resultados\" \n",
    "    \n",
    "if __name__=='__main__':\n",
    "    main()"
   ]
  },
  {
   "cell_type": "markdown",
   "metadata": {},
   "source": [
    "---\n",
    "| [**Home**](../Dijkstra.ipynb \"Ir a la página principal del algoritmo\")| - | [**Prácticas**](../Practicas/Practicas_Dijkstra.ipynb \"Ir a la página de las prácticas\")|\n",
    "| :--------: | :-------: | :--------: |"
   ]
  }
 ],
 "metadata": {
  "kernelspec": {
   "display_name": "Python 3",
   "language": "python",
   "name": "python3"
  },
  "language_info": {
   "codemirror_mode": {
    "name": "ipython",
    "version": 3
   },
   "file_extension": ".py",
   "mimetype": "text/x-python",
   "name": "python",
   "nbconvert_exporter": "python",
   "pygments_lexer": "ipython3",
   "version": "3.7.4"
  }
 },
 "nbformat": 4,
 "nbformat_minor": 4
}
