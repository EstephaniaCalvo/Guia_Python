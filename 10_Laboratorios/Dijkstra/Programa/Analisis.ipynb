{
 "cells": [
  {
   "cell_type": "markdown",
   "metadata": {},
   "source": [
    "![Fig3_Encabezado.png](../../../Fig3_Encabezado.png)\n",
    "\n",
    "---------------------"
   ]
  },
  {
   "cell_type": "markdown",
   "metadata": {},
   "source": [
    "# **Análisis - Dijkstra**\n",
    "\n",
    "- ### Objetivo\n",
    "Hacer un programa que al ingresar un archivo con la matriz de distancia entre nodos devuelva la ruta más corta entre los puntos indicados.\n",
    "\n",
    "\n",
    "- ### Entradas\n",
    "    **1.** [Matriz:](../Ejemplo/Ej_Dijkstra.txt \"Ver archivo del ejemplo\") Archivo de texto.txt con el listado de nodos, los nodos a conectar y la matriz de distancias.    \n",
    "   \n",
    "- ### Salidas\n",
    "    **0. Carpeta Resultados:** Carpeta en la misma ubicación del programa llamada \"Resultados\" para almacenar los resultados del programa.   \n",
    "    \n",
    "    **1. Resultados.xlsx:** Archivos de Excel con las conexiones de la ruta más corta entre los puntos indicados, cada una con su respectiva distancia. A parte debe tener la distancia total de toda la ruta.\n",
    "    \n",
    "- ### Algoritmo  \n",
    "    1. Pedir y leer archivo con la matriz de distancias.     \n",
    "    2. Buscar y almacenar las conexiones de la ruta:    \n",
    "        Mientras el nodo de llegada no esté resuelto:     \n",
    "        2.1. Identificar nodos candidatos.       \n",
    "        2.2. Escoger nodo más cercando desde el punto de origen.       \n",
    "        2.3. Actualizar datos.     \n",
    "    3. Reconstruir ruta.     \n",
    "    4. Crear y guardar el archivo.xlsx con los resultados."
   ]
  },
  {
   "cell_type": "markdown",
   "metadata": {},
   "source": [
    "---\n",
    "| [**Home**](../Dijkstra.ipynb \"Ir a la página principal del algoritmo\")|\n",
    "| :--------: |"
   ]
  }
 ],
 "metadata": {
  "kernelspec": {
   "display_name": "Python 3",
   "language": "python",
   "name": "python3"
  },
  "language_info": {
   "codemirror_mode": {
    "name": "ipython",
    "version": 3
   },
   "file_extension": ".py",
   "mimetype": "text/x-python",
   "name": "python",
   "nbconvert_exporter": "python",
   "pygments_lexer": "ipython3",
   "version": "3.7.4"
  }
 },
 "nbformat": 4,
 "nbformat_minor": 4
}
