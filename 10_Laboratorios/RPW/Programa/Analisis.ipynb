{
 "cells": [
  {
   "cell_type": "markdown",
   "metadata": {},
   "source": [
    "# **Análisis - RPW**\n",
    "\n",
    "- ### Objetivo\n",
    "Hacer un programa que al ingresar un archivo con el tiempo disponeble y la demanda de un cíclo determinado, las lista de tareas con su tiempo de ejecución y sus precedencias devuelva el conjunto de actividades en las estaciones de trabajo con sus tiempos, para tener una línea balanceada.\n",
    "\n",
    "- ### Entradas\n",
    "    **1.** [EJ_RPW.txt](../Ejemplo/Ej_RPW.txt \"Ver archivo del ejemplo\") Archivo de texto.txt con el tiempo disponeble y la demanda de un cíclo determinado, las lista de tareas con su tiempo de ejecución y sus precedencias.     \n",
    "   \n",
    "- ### Salidas\n",
    "    **0. Carpeta Resultados:** Carpeta en la misma ubicación del programa llamada \"Resultados\" para almacenar los resultados del programa.   \n",
    "    \n",
    "    **1. Resultados.xlsx:** Archivos de excel con la lista de estaciones, las actividades y el timpo de cada una y el tiempo de cíclo.\n",
    "    \n",
    "- ### Algoritmo  \n",
    "    1. Pedir y leer archivo con los datos.       \n",
    "    2. Calcular el tiempo de cíclo.    \n",
    "    3. Calcular el número mínimo de estaciones de trabajo.   \n",
    "    4. Calcular el RPW:\n",
    "        4.1. Calcular PW:\n",
    "            Por cada tarea:    \n",
    "            4.1.1. Hacer el árbol de precedencias.\n",
    "            4.1.2. Calcular el RPW.\n",
    "        4.2. Organizar las actividades según su PW de forma ascendente.      \n",
    "    5. Asignar tareas a las estaciones.     \n",
    "    6. Crear y guardar el archivo.xlsx con los resultados.   "
   ]
  },
  {
   "cell_type": "markdown",
   "metadata": {},
   "source": [
    "---\n",
    "| [**Home**](../RPW.ipynb \"Ir a la página principal del algoritmo\")|\n",
    "| :--------: |"
   ]
  }
 ],
 "metadata": {
  "kernelspec": {
   "display_name": "Python 3",
   "language": "python",
   "name": "python3"
  },
  "language_info": {
   "codemirror_mode": {
    "name": "ipython",
    "version": 3
   },
   "file_extension": ".py",
   "mimetype": "text/x-python",
   "name": "python",
   "nbconvert_exporter": "python",
   "pygments_lexer": "ipython3",
   "version": "3.7.4"
  }
 },
 "nbformat": 4,
 "nbformat_minor": 4
}
