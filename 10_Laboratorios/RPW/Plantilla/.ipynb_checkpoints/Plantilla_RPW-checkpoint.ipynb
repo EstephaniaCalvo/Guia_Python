{
 "cells": [
  {
   "cell_type": "markdown",
   "metadata": {},
   "source": [
    "## Plantilla - RPW <a id=\"plantilla\"></a>"
   ]
  },
  {
   "cell_type": "markdown",
   "metadata": {},
   "source": [
    "### **-2. Importar módulos**"
   ]
  },
  {
   "cell_type": "code",
   "execution_count": null,
   "metadata": {},
   "outputs": [],
   "source": [
    "# Importe aquí todos los módulos que necesite"
   ]
  },
  {
   "cell_type": "markdown",
   "metadata": {},
   "source": [
    "### **-1. Funciones auxiliares**"
   ]
  },
  {
   "cell_type": "markdown",
   "metadata": {},
   "source": [
    "<a id='lectura_entradas'></a>\n",
    "#### a. Leer y almacenar datos ([lectura_datos](F_Auxiliares/_a_lectura_datos.ipynb \"Ir a la plantilla de lectura_matriz\"))"
   ]
  },
  {
   "cell_type": "markdown",
   "metadata": {},
   "source": [
    "<a id='sucesoras'></a>\n",
    "#### b. Identificar sucesoras ([sucesoras](F_Auxiliares/_b_sucesoras.ipynb \"Ir a la plantilla de sucesoras\"))"
   ]
  },
  {
   "cell_type": "markdown",
   "metadata": {},
   "source": [
    "<a id='ruta'></a>\n",
    "#### c. Calcular el rpw ([cal_rpw](F_Auxiliares/_c_cal_rpw.ipynb \"Ir a la plantilla de cal_rpw\"))"
   ]
  },
  {
   "cell_type": "markdown",
   "metadata": {},
   "source": [
    "<a id='ruta'></a>\n",
    "#### d. Organizar las estaciones ([estaciones](F_Auxiliares/_d_estaciones_rpw.ipynb \"Ir a la plantilla de estaciones\"))"
   ]
  },
  {
   "cell_type": "markdown",
   "metadata": {},
   "source": [
    "<a id='resultados'></a>\n",
    "#### e. Guardar archivo de resultados.xlsx ([resultados](F_Auxiliares/_e_resultados.ipynb \"Ir a la plantilla de resultados\"))"
   ]
  },
  {
   "cell_type": "markdown",
   "metadata": {},
   "source": [
    "### **0. Programa principal** [Dijkstra](../Programa/Dijkstra.py)"
   ]
  },
  {
   "cell_type": "code",
   "execution_count": 1,
   "metadata": {},
   "outputs": [],
   "source": [
    "## a. Leer y almacenar datos\n",
    "def lectura_datos (archivo_datos):\n",
    "    \"\"\"\n",
    "    Leer y almarcenar los datos del archivo con los datos de entrada, devolviviendo el \n",
    "    tiempo disponible, la demanda, y el diccionario de actividades.\n",
    "    \"\"\"\n",
    "    \n",
    "    ruta_data=archivo_datos\n",
    "    activ, l_data =[], []\n",
    "    \n",
    "    with open(ruta_data) as file: # Abrir el archivo.\n",
    "        c=0\n",
    "        for i in file: # Por cada elemento del archivo:\n",
    "            \n",
    "            if c==0:\n",
    "                entradas=i.split(\":\") # convertir cada línea en un lista \n",
    "                t_disponible=float(entradas[-1][:-1])\n",
    "                \n",
    "            elif c==1:\n",
    "                entradas=i.split(\":\") # convertir cada línea en un lista \n",
    "                demanda=float(entradas[-1][:-1])\n",
    "                \n",
    "            else:\n",
    "                linea=i.split(\"\\t\")\n",
    "                activ.append(linea[0])\n",
    "                \n",
    "                preced=linea[2].split(\",\")\n",
    "                \n",
    "                if \"\\n\" in preced[-1]:\n",
    "                    preced[-1]=preced[-1][:-1]\n",
    "              \n",
    "                l_data.append([float(linea[1]), preced])\n",
    "              \n",
    "            c+=1      \n",
    "    file.close()\n",
    "    \n",
    "    d_actividades=dict(zip(tuple(activ),l_data))\n",
    "\n",
    "    return (t_disponible, demanda, d_actividades)"
   ]
  },
  {
   "cell_type": "code",
   "execution_count": 2,
   "metadata": {},
   "outputs": [],
   "source": [
    "# Importar aquí los módulos necesarios\n",
    "\n",
    "# b. Identificar sucesoras\n",
    "def sucesoras (act, dict_a, l_suc):\n",
    "    \"\"\"\n",
    "    Identifica todas las actividades sucesoras de la actividad indicada.\n",
    "    \"\"\"\n",
    "    \n",
    "    for i in dict_a:\n",
    "        \n",
    "        if (act in dict_a[i][1]):\n",
    "            l_suc.append(i)            \n",
    "            sucesores(i, dict_a, l_suc)\n",
    "            \n",
    "    l_suc=list(set(l_suc.copy())) \n",
    "    l_suc.sort()\n",
    "    \n",
    "    return l_suc"
   ]
  },
  {
   "cell_type": "code",
   "execution_count": 3,
   "metadata": {},
   "outputs": [],
   "source": [
    "# Importar aquí los módulos necesarios\n",
    "\n",
    "# c. Calcular el rpw\n",
    "def cal_rpw (sucesoras, d_actividades):\n",
    "    \"\"\"\n",
    "    Calcular el rpw a partir de la lista de actividades\n",
    "    sucesoras y el diccionario de actividades.\n",
    "    \"\"\"\n",
    "    \n",
    "    l_pw=[]\n",
    "    \n",
    "    for i in d_actividades:\n",
    "        \n",
    "        # Precedentes\n",
    "        p=[]\n",
    "        for j in sucesoras:\n",
    "            if i in j[1]:\n",
    "                p.append(j[0])\n",
    "        \n",
    "        if len(p)>0:\n",
    "            t=[d_actividades[x][0] for x in p]\n",
    "            tiempos=sum(t)\n",
    "        else:\n",
    "            tiempos=0\n",
    "        pw=d_actividades[i][0]+tiempos\n",
    "        l_pw.append([pw, i, d_actividades[i][0], d_actividades[i][1]])\n",
    "    \n",
    "    l_rpw=sorted(l_pw)\n",
    "    \n",
    "    return l_rpw"
   ]
  },
  {
   "cell_type": "code",
   "execution_count": 4,
   "metadata": {},
   "outputs": [],
   "source": [
    "# Importar aquí los módulos necesarios\n",
    "\n",
    "# d. Organizar estaciones\n",
    "def estaciones (l_rpw, t_ciclo):\n",
    "    \"\"\"\n",
    "    Organiza cada una de las actividades en las estaciones.\n",
    "    \"\"\"\n",
    "    \n",
    "    l_estaciones=[[],[]]\n",
    "    \n",
    "    sin_asignar=l_rpw.copy()\n",
    "    \n",
    "    while len(sin_asignar)>0:\n",
    "        ls_asignar=[x[1] for x in sin_asignar]\n",
    "        t_estacion=0\n",
    "        asignadas=[]\n",
    "        eliminados=[]\n",
    "        for i in sin_asignar:\n",
    "            \n",
    "            n=0\n",
    "            for j in i[3]:\n",
    "                if j in ls_asignar:\n",
    "                    n+=1\n",
    "            \n",
    "            t= t_estacion + i[2]\n",
    "            \n",
    "            if t<=t_ciclo and n==0:\n",
    "                \n",
    "                asignadas.append(i[1])\n",
    "                t_estacion+=i[2]\n",
    "                ls_asignar.remove(i[1])\n",
    "                eliminados.append(i)\n",
    "        \n",
    "        for k in eliminados:\n",
    "            sin_asignar.remove(k)\n",
    "            \n",
    "        l_estaciones[0].append(asignadas)\n",
    "        l_estaciones[1].append(t_estacion)        \n",
    "    \n",
    "    return l_estaciones"
   ]
  },
  {
   "cell_type": "code",
   "execution_count": 5,
   "metadata": {},
   "outputs": [],
   "source": [
    "import os \n",
    "import pandas as pd\n",
    "from math import ceil\n",
    "\n",
    "## e. Guardar archivo de resultados.xlsx\n",
    "def resultados (l_estaciones, t_ciclo, n_estaciones, archivo_entradas):\n",
    "    \"\"\"\n",
    "    Crear y guardar el archivo.xls con los resultados del programa en la carpeta Resultados.\n",
    "    \"\"\"\n",
    "    \n",
    "    # Ubicarse en la ruta de Resultados\n",
    "    if os.path.exists(\"Resultados\")==False: # Si la carpeta \"Resultados\" no existe:\n",
    "        os.mkdir(\"Resultados\") # Crear la carpeta de resultados\n",
    "        \n",
    "    # Crear el DataFrames\n",
    "    \n",
    "    df_resultados= pd.DataFrame(dict(zip((\"Estación\", \"Actividades\", \"Tiempo\"),\n",
    "                                         [[i for i in range(len(l_estaciones[0]))], \n",
    "                                          l_estaciones[0], l_estaciones[1]])))\n",
    "\n",
    "    # Crear el documento\n",
    "    doc=pd.ExcelWriter('Resultados/Resultados_'+archivo_entradas[:-4]+'.xlsx', engine='xlsxwriter')\n",
    "    \n",
    "    ## Escribir resultados\n",
    "    df_resultados.to_excel(doc, sheet_name='Resultados', startrow=6, index=False)\n",
    "\n",
    "    libro=doc.book # Abrir libro\n",
    "    hoja_1=doc.sheets['Resultados'] # Abrir la hoja 1\n",
    "\n",
    "    # Formato\n",
    "    \n",
    "    ancho_1=len(\"No. Estaciones minima\")\n",
    "    ancho_2=len(\"Actividades\")\n",
    "    ancho_3=len(\"Tiempo  \")\n",
    "                                \n",
    "    \n",
    "    hoja_1.set_column('A:A', ancho_1)\n",
    "    hoja_1.set_column('B:B', ancho_2)\n",
    "    hoja_1.set_column('C:C', ancho_3)\n",
    "    \n",
    "    # Formato de títulos\n",
    "    formato_titulo=libro.add_format({'bold': True, 'font_size': 16})\n",
    "    formato_encabezado=libro.add_format({'bold': True})\n",
    "    \n",
    "    ## Escribir los títulos\n",
    "    hoja_1.write(0, 0, 'Estaciones'.capitalize(),formato_titulo)\n",
    "    \n",
    "    ## Escribir t_ciclo\n",
    "    hoja_1.write(2, 0, 'Distancia Total:'.capitalize(), formato_encabezado )\n",
    "    hoja_1.write(2, 1, t_ciclo)\n",
    "    \n",
    "    ## Escribir Número mínimo teórico de estaciones de trabajo.\n",
    "    hoja_1.write(4, 0, 'Estaciones minima:'.capitalize(), formato_encabezado )\n",
    "    hoja_1.write(4, 1, n_estaciones)\n",
    "    \n",
    "    doc.save() ## Guardar documento.\n",
    "    return None"
   ]
  },
  {
   "cell_type": "code",
   "execution_count": 10,
   "metadata": {},
   "outputs": [
    {
     "name": "stdin",
     "output_type": "stream",
     "text": [
      "Por favor ingrese el archivo que contiene las entradas, por ejemplo, 'Entradas.txt':\n",
      " test_1.txt\n"
     ]
    },
    {
     "name": "stdout",
     "output_type": "stream",
     "text": [
      "['A', 'B', 'C', 'D', 'E', 'F', 'G', 'H', 'I']\n"
     ]
    },
    {
     "ename": "TypeError",
     "evalue": "unsupported operand type(s) for +: 'int' and 'str'",
     "output_type": "error",
     "traceback": [
      "\u001b[1;31m---------------------------------------------------------------------------\u001b[0m",
      "\u001b[1;31mTypeError\u001b[0m                                 Traceback (most recent call last)",
      "\u001b[1;32m<ipython-input-10-e775035ef177>\u001b[0m in \u001b[0;36m<module>\u001b[1;34m\u001b[0m\n\u001b[0;32m     42\u001b[0m \u001b[1;33m\u001b[0m\u001b[0m\n\u001b[0;32m     43\u001b[0m \u001b[1;32mif\u001b[0m \u001b[0m__name__\u001b[0m\u001b[1;33m==\u001b[0m\u001b[1;34m'__main__'\u001b[0m\u001b[1;33m:\u001b[0m\u001b[1;33m\u001b[0m\u001b[1;33m\u001b[0m\u001b[0m\n\u001b[1;32m---> 44\u001b[1;33m     \u001b[0mmain\u001b[0m\u001b[1;33m(\u001b[0m\u001b[1;33m)\u001b[0m\u001b[1;33m\u001b[0m\u001b[1;33m\u001b[0m\u001b[0m\n\u001b[0m",
      "\u001b[1;32m<ipython-input-10-e775035ef177>\u001b[0m in \u001b[0;36mmain\u001b[1;34m(ingreso)\u001b[0m\n\u001b[0;32m     24\u001b[0m     \u001b[0mtiempos\u001b[0m\u001b[1;33m=\u001b[0m\u001b[1;33m[\u001b[0m\u001b[0mx\u001b[0m\u001b[1;33m[\u001b[0m\u001b[1;36m0\u001b[0m\u001b[1;33m]\u001b[0m \u001b[1;32mfor\u001b[0m \u001b[0mx\u001b[0m \u001b[1;32min\u001b[0m \u001b[0md_actividades\u001b[0m\u001b[1;33m]\u001b[0m\u001b[1;33m\u001b[0m\u001b[1;33m\u001b[0m\u001b[0m\n\u001b[0;32m     25\u001b[0m     \u001b[0mprint\u001b[0m\u001b[1;33m(\u001b[0m\u001b[0mtiempos\u001b[0m\u001b[1;33m)\u001b[0m\u001b[1;33m\u001b[0m\u001b[1;33m\u001b[0m\u001b[0m\n\u001b[1;32m---> 26\u001b[1;33m     \u001b[0mn_estaciones\u001b[0m\u001b[1;33m=\u001b[0m \u001b[0mceil\u001b[0m\u001b[1;33m(\u001b[0m\u001b[0msum\u001b[0m\u001b[1;33m(\u001b[0m\u001b[0mtiempos\u001b[0m\u001b[1;33m)\u001b[0m\u001b[1;33m/\u001b[0m\u001b[0mt_ciclo\u001b[0m\u001b[1;33m)\u001b[0m\u001b[1;33m\u001b[0m\u001b[1;33m\u001b[0m\u001b[0m\n\u001b[0m\u001b[0;32m     27\u001b[0m \u001b[1;33m\u001b[0m\u001b[0m\n\u001b[0;32m     28\u001b[0m     \u001b[1;34m\"4. Calcular RPW\"\u001b[0m\u001b[1;33m\u001b[0m\u001b[1;33m\u001b[0m\u001b[0m\n",
      "\u001b[1;31mTypeError\u001b[0m: unsupported operand type(s) for +: 'int' and 'str'"
     ]
    }
   ],
   "source": [
    "# 0. Programa principal\n",
    "def main(ingreso=1):\n",
    "    \"\"\"\n",
    "    Al ingresar un archivo con el tiempo disponeble y la demanda de un cíclo determinado, las lista de tareas con su tiempo de ejecución y sus precedencias devuelva el conjunto de actividades en las estaciones de trabajo con sus tiempos, para tener una línea balanceada.\n",
    "    \"\"\"\n",
    "\n",
    "    \"0. Pedir y leer archivo de datos\"\n",
    "    # Ingresar archivo de entrada.\n",
    "    \n",
    "    if ingreso==1:\n",
    "        a_entradas=input(\"Por favor ingrese el archivo que contiene las entradas, por ejemplo, 'Entradas.txt':\\n\")\n",
    "    elif ingreso==\"e\":\n",
    "        a_entradas=\"Ej_RPW.txt\"\n",
    "    else:\n",
    "        a_entradas=ingreso\n",
    "        \n",
    "    \"1. Leer archivo de datos\"\n",
    "    t_disponible, demanda, d_actividades = lectura_datos (a_entradas)\n",
    "    \n",
    "    \"2. Calcular Tiempo de cíclo.\"\n",
    "    t_ciclo= t_disponible/demanda\n",
    "    \n",
    "    \"3. Calcular el número de estaciones de trabajo\"\n",
    "    tiempos=[d_actividades[x][0] for x in d_actividades]\n",
    "    \n",
    "    n_estaciones= ceil(sum(tiempos)/t_ciclo)\n",
    "    \n",
    "    \"4. Calcular RPW\"\n",
    "    \n",
    "    # Identificar sucesores\n",
    "    sucesoras (act, dict_a, l_suc)\n",
    "   \n",
    "    # Calcular el rpw\n",
    "    cal_rpw (sucesoras, d_actividades)\n",
    "    \n",
    "    \"5. Asignar tareas a las estaciones\"\n",
    "    estaciones (l_rpw, t_ciclo)\n",
    "    \n",
    "    \n",
    "    \"6. Crear y guardar el archivo.xlsx con los resultados\"\n",
    "    resultados (l_estaciones, t_ciclo, n_estaciones, a_entradas)  \n",
    "    \n",
    "if __name__=='__main__':\n",
    "    main()"
   ]
  },
  {
   "cell_type": "code",
   "execution_count": null,
   "metadata": {},
   "outputs": [],
   "source": [
    "# 0. Programa principal\n",
    "def main(ingreso=1):\n",
    "    \"\"\"\n",
    "    Al ingresar un archivo con la lista de nodos de una red, el nodo de llegada, el nodo de origen y\n",
    "    su matriz de distancia, devuelve un archivo en excel las conexiones de la ruta mas corta entre los dos puntos.\n",
    "    \"\"\"\n",
    "\n",
    "    \"0. Pedir y leer archivo de entradas\"\n",
    "    # Ingresar archivo de entrada.\n",
    "    \n",
    "    if ingreso==1:\n",
    "        a_entradas=input(\"Por favor ingrese el archivo que contiene las entradas, por ejemplo, 'Entradas.txt':\\n\")\n",
    "    elif ingreso==\"e\":\n",
    "        a_entradas=\"Ej_Dijkstra.txt\"\n",
    "    else:\n",
    "        a_entradas=ingreso\n",
    "        \n",
    "    \"1. Leer matriz\"\n",
    "    \n",
    "    \n",
    "    \"2. Buscar y almacenar las conexiones de la ruta.\"\n",
    "    \n",
    "    \n",
    "    \"3. Reconstruir ruta\"\n",
    "    \n",
    "    \n",
    "    \"4. Crear y guardar el archivo.xlsx con los resultados\" \n",
    "    \n",
    "if __name__=='__main__':\n",
    "    main()"
   ]
  },
  {
   "cell_type": "markdown",
   "metadata": {},
   "source": [
    "---\n",
    "| [**Home**](../RPW.ipynb \"Ir a la página principal del algoritmo\")| - | [**Prácticas**](../Practicas/Practicas_RPW.ipynb \"Ir a la página de las prácticas\")|\n",
    "| :--------: | :-------: | :--------: |"
   ]
  }
 ],
 "metadata": {
  "kernelspec": {
   "display_name": "Python 3",
   "language": "python",
   "name": "python3"
  },
  "language_info": {
   "codemirror_mode": {
    "name": "ipython",
    "version": 3
   },
   "file_extension": ".py",
   "mimetype": "text/x-python",
   "name": "python",
   "nbconvert_exporter": "python",
   "pygments_lexer": "ipython3",
   "version": "3.7.4"
  }
 },
 "nbformat": 4,
 "nbformat_minor": 4
}
