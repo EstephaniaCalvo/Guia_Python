{
 "cells": [
  {
   "cell_type": "markdown",
   "metadata": {},
   "source": [
    "## c. Calcular el rpw (cal_rpw)\n",
    "\n",
    "- #### **Objetivo :**\n",
    "    Identificar todas las actividades sucesoras de la actividad indicada.\n",
    "    \n",
    "- #### **Entradas :**    \n",
    "    **1. l_sucesoras:** Lista con las lista de las actividades sucesoras.   \n",
    "    **2. d_actividades:** Diccionario de actividades.    \n",
    "    \n",
    "~~~python\n",
    "l_sucesoras=[['A', ['B', 'C', 'D', 'E', 'F', 'G', 'H', 'I']], ['B', ['D', 'E', 'H', 'I']], ['C', ['F', 'G', 'I']], ['D', ['H', 'I']], ['E', ['H', 'I']], ['F', ['I']], ['G', ['I']], ['H', ['I']], ['I', []]]\n",
    "\n",
    "d_actividades = {'A': [40.0, ['-']],\n",
    "  'B': [30.0, ['A']],\n",
    "  'C': [50.0, ['A']],\n",
    "  'D': [40.0, ['B']],\n",
    "  'E': [6.0, ['B']],\n",
    "  'F': [25.0, ['C']],\n",
    "  'G': [15.0, ['C']],\n",
    "  'H': [20.0, ['D', 'E']],\n",
    "  'I': [48.0, ['G', 'F', 'H']]}\n",
    "~~~\n",
    "\n",
    "- #### **Salidas :** \n",
    "    **1. l_rpw:** Lista con la lista de actividades ordenadas por su PW, mostrándo el tiempo y todas sus predecesoras.\n",
    "    \n",
    "~~~python\n",
    "l_rpw=[[40.0, 'A', 40.0, ['-']],\n",
    " [70.0, 'B', 30.0, ['A']],\n",
    " [76.0, 'E', 6.0, ['B']],\n",
    " [90.0, 'C', 50.0, ['A']],\n",
    " [105.0, 'G', 15.0, ['C']],\n",
    " [110.0, 'D', 40.0, ['B']],\n",
    " [115.0, 'F', 25.0, ['C']],\n",
    " [136.0, 'H', 20.0, ['D', 'E']],\n",
    " [274.0, 'I', 48.0, ['G', 'F', 'H']]]\n",
    "~~~"
   ]
  },
  {
   "cell_type": "markdown",
   "metadata": {},
   "source": [
    "- #### **Código :** \n",
    "Complete la función para convertir las entradas en las salidas, ingrese al [material de apoyo](#material \"Ir al material de apoyo\") para ver los ejemplos que lo pueden guiar, una vez terminada ejecútela y pruébela, si es correcta pásela [aquí](../../Programa/RPW.py)."
   ]
  },
  {
   "cell_type": "code",
   "execution_count": null,
   "metadata": {},
   "outputs": [],
   "source": [
    "# Importar aquí los módulos necesarios\n",
    "\n",
    "# c. Calcular el rpw\n",
    "def cal_rpw (sucesoras, d_actividades):\n",
    "    \"\"\"\n",
    "    Calcular el rpw a partir de la lista de actividades\n",
    "    sucesoras y el diccionario de actividades.\n",
    "    \"\"\"\n",
    "    \n",
    "    # Escriba aquí el código:\n",
    "    \n",
    "    return l_rpw"
   ]
  },
  {
   "cell_type": "markdown",
   "metadata": {},
   "source": [
    "## Material de Apoyo <a id='material'></a>"
   ]
  },
  {
   "cell_type": "markdown",
   "metadata": {},
   "source": [
    "- [Almacenamiento de datos](../../../../../7_Lectura_y_Escritura/7_Lectura_y_Escritura.ipynb#Min-eje_A_Archivo_i1.txt \"Ir al capítulo de Lectura de archivos\")\n",
    "- [Manejo de listas y tuplas](../../../../../5_Estructura_de_Datos/5_Estructura_de_Datos.ipynb#5_Estructura-de-Datos-Basicas \"Ir al capítulo de Estructuras de datos\")"
   ]
  },
  {
   "cell_type": "markdown",
   "metadata": {},
   "source": [
    "---\n",
    "| [**Plantilla pirncipal**](../Plantilla_RPW.ipynb \"Volver a la plantilla del programa principal\")|\n",
    "| :--------: |"
   ]
  }
 ],
 "metadata": {
  "kernelspec": {
   "display_name": "Python 3",
   "language": "python",
   "name": "python3"
  },
  "language_info": {
   "codemirror_mode": {
    "name": "ipython",
    "version": 3
   },
   "file_extension": ".py",
   "mimetype": "text/x-python",
   "name": "python",
   "nbconvert_exporter": "python",
   "pygments_lexer": "ipython3",
   "version": "3.7.4"
  }
 },
 "nbformat": 4,
 "nbformat_minor": 4
}
