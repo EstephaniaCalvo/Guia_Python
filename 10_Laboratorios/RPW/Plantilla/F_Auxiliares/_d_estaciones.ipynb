{
 "cells": [
  {
   "cell_type": "markdown",
   "metadata": {},
   "source": [
    "## d. Organizar estaciones (estaciones)\n",
    "\n",
    "- #### **Objetivo :**\n",
    "    Organizar cada una de las actividades en las estaciones.\n",
    "    \n",
    "- #### **Entradas :**    \n",
    "    **1. l_rpw:** Lista con la lista de actividades ordenadas por su PW, mostrándo el tiempo y sus predecesoras.  \n",
    "    **2. t_ciclo:** Tiempo de cíclo.    \n",
    "    \n",
    "~~~python\n",
    "l_rpw=[[40.0, 'A', 40.0, ['-']],\n",
    " [70.0, 'B', 30.0, ['A']],\n",
    " [76.0, 'E', 6.0, ['B']],\n",
    " [90.0, 'C', 50.0, ['A']],\n",
    " [105.0, 'G', 15.0, ['C']],\n",
    " [110.0, 'D', 40.0, ['B']],\n",
    " [115.0, 'F', 25.0, ['C']],\n",
    " [136.0, 'H', 20.0, ['D', 'E']],\n",
    " [274.0, 'I', 48.0, ['G', 'F', 'H']]]\n",
    "\n",
    "t_ciclo = 75.0\n",
    "\n",
    "~~~~\n",
    "\n",
    "- #### **Salidas :** \n",
    "    **1. l_estacion:** Lista con la lista de actividades y lista de tiempos por cada estacion.\n",
    "    \n",
    "~~~python\n",
    "l_estaciones=[[['A', 'B'], ['E', 'C', 'G'], ['D', 'F'], ['H', 'I']], [70.0, 71.0, 65.0, 68.0]]\n",
    "~~~"
   ]
  },
  {
   "cell_type": "markdown",
   "metadata": {},
   "source": [
    "- #### **Código :** \n",
    "Complete la función para convertir las entradas en las salidas, ingrese al [material de apoyo](#material \"Ir al material de apoyo\") para ver los ejemplos que lo pueden guiar, una vez terminada ejecútela y pruébela, si es correcta pásela [aquí](../../Programa/RPW.py)."
   ]
  },
  {
   "cell_type": "code",
   "execution_count": null,
   "metadata": {},
   "outputs": [],
   "source": [
    "# Importar aquí los módulos necesarios\n",
    "\n",
    "# d. Organizar estaciones\n",
    "def estaciones (l_rpw, t_ciclo):\n",
    "    \"\"\"\n",
    "    Organiza cada una de las actividades en las estaciones.\n",
    "    \"\"\"\n",
    "    \n",
    "    # Escriba aquí el código:\n",
    "    \n",
    "    return l_estaciones"
   ]
  },
  {
   "cell_type": "markdown",
   "metadata": {},
   "source": [
    "## Material de Apoyo <a id='material'></a>"
   ]
  },
  {
   "cell_type": "markdown",
   "metadata": {},
   "source": [
    "- [Almacenamiento de datos](../../../../../7_Lectura_y_Escritura/7_Lectura_y_Escritura.ipynb#Min-eje_A_Archivo_i1.txt \"Ir al capítulo de Lectura de archivos\")\n",
    "- [Manejo de listas y tuplas](../../../../../5_Estructura_de_Datos/5_Estructura_de_Datos.ipynb#5_Estructura-de-Datos-Basicas \"Ir al capítulo de Estructuras de datos\")"
   ]
  },
  {
   "cell_type": "markdown",
   "metadata": {},
   "source": [
    "---\n",
    "| [**Plantilla pirncipal**](../Plantilla_RPW.ipynb \"Volver a la plantilla del programa principal\")|\n",
    "| :--------: |"
   ]
  }
 ],
 "metadata": {
  "kernelspec": {
   "display_name": "Python 3",
   "language": "python",
   "name": "python3"
  },
  "language_info": {
   "codemirror_mode": {
    "name": "ipython",
    "version": 3
   },
   "file_extension": ".py",
   "mimetype": "text/x-python",
   "name": "python",
   "nbconvert_exporter": "python",
   "pygments_lexer": "ipython3",
   "version": "3.7.4"
  }
 },
 "nbformat": 4,
 "nbformat_minor": 4
}
