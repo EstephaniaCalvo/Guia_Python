{
 "cells": [
  {
   "cell_type": "markdown",
   "metadata": {},
   "source": [
    "![Fig3_Encabezado.png](../../../../Fig3_Encabezado.png)\n",
    "\n",
    "---------------------"
   ]
  },
  {
   "cell_type": "markdown",
   "metadata": {},
   "source": [
    "## a. Leer y almacenar datos (lectura_datos)\n",
    "\n",
    "- #### **Objetivo:** \n",
    "    Almacenar el contenido del [archivo](test_1.txt \"Ver archivo de entradas\") con el tiempo disponible y la demanda de un ciclo determinado, las lista de tareas con su tiempo de ejecución y sus precedencias.\n",
    "\n",
    "- #### **Entradas :** \n",
    "~~~python\n",
    "archivo_datos='test_1.txt'\n",
    "~~~\n",
    "\n",
    "- #### **Salidas :** \n",
    "    **1. t_disponible:** Tiempo disponible en un tiempo determinado.          \n",
    "    **2. demanda:** Demanda en un tiempo determinado.     \n",
    "    **3. d_actividades:** Diccionario de actividades.     \n",
    "    \n",
    "~~~python\n",
    "t_disponible= 36000\n",
    "\n",
    "demanda= 480.0\n",
    "\n",
    "d_actividades = {'A': [40.0, ['-']],\n",
    "  'B': [30.0, ['A']],\n",
    "  'C': [50.0, ['A']],\n",
    "  'D': [40.0, ['B']],\n",
    "  'E': [6.0, ['B']],\n",
    "  'F': [25.0, ['C']],\n",
    "  'G': [15.0, ['C']],\n",
    "  'H': [20.0, ['D', 'E']],\n",
    "  'I': [48.0, ['G', 'F', 'H']]}\n",
    "\n",
    "~~~"
   ]
  },
  {
   "cell_type": "markdown",
   "metadata": {},
   "source": [
    "- #### **Código :** \n",
    "Complete la función para convertir las entradas en las salidas e ingrese al [material de apoyo](#material \"Ir al material de apoyo\") para ver los ejemplos que lo pueden guiar. Una vez terminada ejecútela y pruébela, si es correcta pásela [aquí](../../Programa/RPW.py)."
   ]
  },
  {
   "cell_type": "code",
   "execution_count": null,
   "metadata": {},
   "outputs": [],
   "source": [
    "# Importar aquí los módulos necesarios\n",
    "\n",
    "## a. Leer y almacenar datos\n",
    "def lectura_datos (archivo_datos):\n",
    "    \"\"\"\n",
    "    Leer y almacenar los datos del archivo con los datos de entrada, devolviendo el \n",
    "    tiempo disponible, la demanda, y el diccionario de actividades.\n",
    "    \"\"\"\n",
    "    \n",
    "    # Escriba aquí el código:\n",
    "    \n",
    "    return (t_disponible, demanda, d_actividades)"
   ]
  },
  {
   "cell_type": "markdown",
   "metadata": {},
   "source": [
    "## Material de Apoyo <a id='material'></a>"
   ]
  },
  {
   "cell_type": "markdown",
   "metadata": {},
   "source": [
    "- [Lectura de bases de datos](../../../../7_Lectura_y_Escritura/7_Lectura_y_Escritura.ipynb#ME_BDatos \"Ir al Mini_Ejemplo Almacenar base de datos del capítulo de Lectura de archivos\")\n",
    "\n",
    "- [Almacenamiento de una matriz](../../../../7_Lectura_y_Escritura/7_Lectura_y_Escritura.ipynb#ME_Coordenadas_x_y \"Ir al Mini_Ejemplo A_Coordenadas_x_y.txt del capítulo de Lectura de archivos\")\n",
    "\n",
    "- [Manejo de índices](../../../../4_Bucles_e_Iterables/4_Bucles_e_Iterables.ipynb#Min-eje_Secciones \"Ir al Mini_Ejemplo Secciones del capítulo de Bucles e Iterables\")\n",
    "\n",
    "- [Manejo de listas y tuplas](../../../../5_Estructura_de_Datos/5_Estructura_de_Datos.ipynb#5_Estructura-de-Datos-Basicas \"Ir al capítulo de Estructuras de datos\")\n",
    "\n",
    "- [Manejo de diccionarios](../../../../5_Estructura_de_Datos/5_Estructura_de_Datos.ipynb#MDic \"Ir a la sección Diccionarios del capítulo de Estructuras de datos\")"
   ]
  },
  {
   "cell_type": "markdown",
   "metadata": {},
   "source": [
    "---\n",
    "| [**Plantilla pirncipal**](../Plantilla_RPW.ipynb \"Volver a la plantilla del programa principal\")|\n",
    "| :--------: |"
   ]
  }
 ],
 "metadata": {
  "kernelspec": {
   "display_name": "Python 3",
   "language": "python",
   "name": "python3"
  },
  "language_info": {
   "codemirror_mode": {
    "name": "ipython",
    "version": 3
   },
   "file_extension": ".py",
   "mimetype": "text/x-python",
   "name": "python",
   "nbconvert_exporter": "python",
   "pygments_lexer": "ipython3",
   "version": "3.7.4"
  }
 },
 "nbformat": 4,
 "nbformat_minor": 4
}
