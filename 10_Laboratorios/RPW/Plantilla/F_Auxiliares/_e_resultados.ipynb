{
 "cells": [
  {
   "cell_type": "markdown",
   "metadata": {},
   "source": [
    "![Fig3_Encabezado.png](../../../../Fig3_Encabezado.png)\n",
    "\n",
    "---------------------"
   ]
  },
  {
   "cell_type": "markdown",
   "metadata": {},
   "source": [
    "## e. Guardar archivo de resultados.xlsx\n",
    "\n",
    "- #### **Objetivos :** \n",
    "    1. Crear la carpeta Resultados    \n",
    "    2. Crear un archivo .xlsx donde estén registradas las estaciones de trabajo, el tiempo de cíclo y el número mínimo teórico de estaciones.\n",
    "    3. Guardar archivo en la carpeta.\n",
    "    \n",
    "**Tenga en cuenta que:**\n",
    "\n",
    "- El archivo debe tener el nombre del archivo de datos sin la extensión .txt.\n",
    "- La hojas 1 debe tener el nombre de \"Resultados\".\n",
    "- La hoja debe tener como enunciado \"Estaciones\", con tamaño de letra tamaño 16 y en negrita."
   ]
  },
  {
   "cell_type": "markdown",
   "metadata": {},
   "source": [
    "- #### **Entradas :** \n",
    "    **1. l_estaciones:** Lista con las conexiones de la ruta.      \n",
    "    **2. t_ciclo:** Tiempo de cíclo.      \n",
    "    **3. n_estaciones** Número mínimo teórico de estaciones de trabajo.      \n",
    "    **4. archivo:** Archivo con las entradas.   "
   ]
  },
  {
   "cell_type": "code",
   "execution_count": null,
   "metadata": {},
   "outputs": [],
   "source": [
    "# 1. Lista de estaciones\n",
    "l_estaciones=[[['A', 'B'], ['E', 'C', 'G'], ['D', 'F'], ['H', 'I']], [70.0, 71.0, 65.0, 68.0]]\n",
    "\n",
    "# 2. Tiempo de cíclo. \n",
    "t_ciclo= 75.0\n",
    "\n",
    "# 3. Número mínimo teórico de estaciones de trabajo.\n",
    "n_estaciones= 4\n",
    "\n",
    "# 4. archivo de entradas\n",
    "archivo_entradas='test_1.txt'"
   ]
  },
  {
   "cell_type": "markdown",
   "metadata": {},
   "source": [
    "- #### **Salidas :** \n",
    "\n",
    "**1. Resultados_Archivo.xlsx:** Archivo de excel con las conexiones."
   ]
  },
  {
   "cell_type": "markdown",
   "metadata": {},
   "source": [
    "- #### **Código :** \n",
    "Complete la función para convertir las entradas en las salidas, ingrese al [material de apoyo](#material \"Ir al material de apoyo\") para ver los ejemplos que lo pueden guiar, una vez terminada ejecútela y compare sus resultados con el archivo R_Prueba_test_1.xlsx ubicado en la carpeta R_Pruebas, si es correcta pásela [aquí](../../Programa/RPW.py)."
   ]
  },
  {
   "cell_type": "code",
   "execution_count": null,
   "metadata": {},
   "outputs": [],
   "source": [
    "# Importar aquí los módulos necesarios\n",
    "\n",
    "# d. Guardar archivo de resultados.xlsx\n",
    "def resultados resultados (l_estaciones, t_ciclo, n_estaciones, archivo_entradas):\n",
    "    \"\"\"\n",
    "    Crear y guardar el archivo.xls con los resultados del programa en la carpeta Resultados.\n",
    "    \"\"\"\n",
    "    # Escriba aquí el código:\n",
    "    \n",
    "    return None "
   ]
  },
  {
   "cell_type": "markdown",
   "metadata": {},
   "source": [
    "## Material de Apoyo <a id='material'></a>"
   ]
  },
  {
   "cell_type": "markdown",
   "metadata": {},
   "source": [
    "- [Crear carpetas](../../../../7_Lectura_y_Escritura/7_Lectura_y_Escritura.ipynb#Carpetas \"Ir a la sección Creación de carpetas de carpetas.\")\n",
    "\n",
    "- [Escribir Archivos.xlsx](../../../../7_Lectura_y_Escritura/7_Lectura_y_Escritura.ipynb#xlsx \"Ir a la sección de creación de archivos en Excel.\")"
   ]
  },
  {
   "cell_type": "markdown",
   "metadata": {},
   "source": [
    "---\n",
    "| [**Plantilla principal**](../Plantilla_RPW.ipynb \"Volver a la plantilla del programa principal\")|\n",
    "| :--------: |"
   ]
  }
 ],
 "metadata": {
  "kernelspec": {
   "display_name": "Python 3",
   "language": "python",
   "name": "python3"
  },
  "language_info": {
   "codemirror_mode": {
    "name": "ipython",
    "version": 3
   },
   "file_extension": ".py",
   "mimetype": "text/x-python",
   "name": "python",
   "nbconvert_exporter": "python",
   "pygments_lexer": "ipython3",
   "version": "3.7.4"
  }
 },
 "nbformat": 4,
 "nbformat_minor": 4
}
