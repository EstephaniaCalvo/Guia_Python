{
 "cells": [
  {
   "cell_type": "markdown",
   "metadata": {},
   "source": [
    "## a. Leer y almacenar datos (lectura_datos)\n",
    "\n",
    "- #### **Objetivo :** \n",
    "    Almacenar el contenido del [archivo](test_1.txt \"Ver archivo de entradas\") con el tiempo disponeble y la demanda de un cíclo determinado, las lista de tareas con su tiempo de ejecución y sus precedencias.\n",
    "\n",
    "- #### **Entradas :** \n",
    "~~~python\n",
    "archivo_datos='test_1.txt'\n",
    "~~~\n",
    "\n",
    "- #### **Salidas :** \n",
    "    **1. t_disponible:** Tiempo disponbile en un tiempo determinado.          \n",
    "    **2. demanda:** Demanda en un tiempo determidado.     \n",
    "    **3. d_actividades:** Diccionario de actividades.     \n",
    "    \n",
    "~~~python\n",
    "t_disponible= 36000\n",
    "\n",
    "demanda= 480.0\n",
    "\n",
    "d_actividades = {'A': [40.0, ['-']],\n",
    "  'B': [30.0, ['A']],\n",
    "  'C': [50.0, ['A']],\n",
    "  'D': [40.0, ['B']],\n",
    "  'E': [6.0, ['B']],\n",
    "  'F': [25.0, ['C']],\n",
    "  'G': [15.0, ['C']],\n",
    "  'H': [20.0, ['D', 'E']],\n",
    "  'I': [48.0, ['G', 'F', 'H']]}\n",
    "\n",
    "~~~"
   ]
  },
  {
   "cell_type": "markdown",
   "metadata": {},
   "source": [
    "- #### **Código :** \n",
    "Complete la función para convertir las entradas en las salidas, ingrese al [material de apoyo](#material \"Ir al material de apoyo\") para ver los ejemplos que lo pueden guiar, una vez terminada ejecútela y pruébela, si es correcta pásela [aquí](../../Programa/RPW.py)."
   ]
  },
  {
   "cell_type": "code",
   "execution_count": null,
   "metadata": {},
   "outputs": [],
   "source": [
    "# Importar aquí los módulos necesarios\n",
    "\n",
    "## a. Leer y almacenar datos\n",
    "def lectura_datos (archivo_datos):\n",
    "    \"\"\"\n",
    "    Leer y almarcenar los datos del archivo con los datos de entrada, devolviviendo el \n",
    "    tiempo disponible, la demanda, y el diccionario de actividades.\n",
    "    \"\"\"\n",
    "    \n",
    "    # Escriba aquí el código:\n",
    "    \n",
    "    return (t_disponible, demanda, d_actividades)"
   ]
  },
  {
   "cell_type": "markdown",
   "metadata": {},
   "source": [
    "## Material de Apoyo <a id='material'></a>"
   ]
  },
  {
   "cell_type": "markdown",
   "metadata": {},
   "source": [
    "- [Almacenamiento en listas aparte](../../../../../7_Lectura_y_Escritura/7_Lectura_y_Escritura.ipynb#Min-eje_A_Archivo_i3.txt \"Ir al capítulo de Lectura de archivos\")\n",
    "- [Lectura de bases de datos](../../../../../7_Lectura_y_Escritura/7_Lectura_y_Escritura.ipynb#Min-eje_A_B_Datos.txt \"Ir al capítulo de Lectura de archivos\")\n",
    "- [Manejo de listas y tuplas](../../../../../5_Estructura_de_Datos/5_Estructura_de_Datos.ipynb#5_Estructura-de-Datos-Basicas \"Ir al capítulo de Estructuras de datos\")\n",
    "- [Módulo random](../../../../../9_Modulos/9_Modulos_y_Paquetes.ipynb#9.3_Libreria-Estandar \"Ir al capítulo de Estructuras de datos\")"
   ]
  },
  {
   "cell_type": "markdown",
   "metadata": {},
   "source": [
    "---\n",
    "| [**Plantilla pirncipal**](../Plantilla_RPW.ipynb \"Volver a la plantilla del programa principal\")|\n",
    "| :--------: |"
   ]
  }
 ],
 "metadata": {
  "kernelspec": {
   "display_name": "Python 3",
   "language": "python",
   "name": "python3"
  },
  "language_info": {
   "codemirror_mode": {
    "name": "ipython",
    "version": 3
   },
   "file_extension": ".py",
   "mimetype": "text/x-python",
   "name": "python",
   "nbconvert_exporter": "python",
   "pygments_lexer": "ipython3",
   "version": "3.7.4"
  }
 },
 "nbformat": 4,
 "nbformat_minor": 4
}
