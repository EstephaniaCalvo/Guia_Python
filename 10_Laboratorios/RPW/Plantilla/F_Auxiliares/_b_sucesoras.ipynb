{
 "cells": [
  {
   "cell_type": "markdown",
   "metadata": {},
   "source": [
    "## b. Identificar sucesoras (sucesoras)\n",
    "\n",
    "- #### **Objetivo :**\n",
    "    Identificar todas las actividades sucesoras de la actividad indicada.\n",
    "    \n",
    "- #### **Entradas :** \n",
    "    **1. Act:** Actividad    \n",
    "    **2. d_actividades:** Diccionario de actividades.     \n",
    "    **3. l_suc:** Lista para acumular las actividades sucesoras.    \n",
    "    \n",
    "~~~python\n",
    "act='A'\n",
    "\n",
    "d_actividades = {'A': [40.0, ['-']],\n",
    "  'B': [30.0, ['A']],\n",
    "  'C': [50.0, ['A']],\n",
    "  'D': [40.0, ['B']],\n",
    "  'E': [6.0, ['B']],\n",
    "  'F': [25.0, ['C']],\n",
    "  'G': [15.0, ['C']],\n",
    "  'H': [20.0, ['D', 'E']],\n",
    "  'I': [48.0, ['G', 'F', 'H']]}\n",
    "\n",
    "l_suc=[]\n",
    "~~~\n",
    "\n",
    "- #### **Salidas :** \n",
    "    **1. l_suc:** Lista  de las actividadades sucesoras de la actividad indicada.\n",
    "    \n",
    "~~~python\n",
    "l_suc=['B', 'C', 'D', 'E', 'F', 'G', 'H', 'I']\n",
    "~~~"
   ]
  },
  {
   "cell_type": "markdown",
   "metadata": {},
   "source": [
    "- #### **Código :** \n",
    "Complete la función para convertir las entradas en las salidas, ingrese al [material de apoyo](#material \"Ir al material de apoyo\") para ver los ejemplos que lo pueden guiar, una vez terminada ejecútela y pruébela, si es correcta pásela [aquí](../../Programa/RPW.py)."
   ]
  },
  {
   "cell_type": "code",
   "execution_count": null,
   "metadata": {},
   "outputs": [],
   "source": [
    "# Importar aquí los módulos necesarios\n",
    "\n",
    "# b. Identificar sucesoras\n",
    "def sucesoras (act, dict_a, l_suc):\n",
    "    \"\"\"\n",
    "    Identifica todas las actividades sucesoras de la actividad indicada.\n",
    "    \"\"\"\n",
    "    \n",
    "    # Escriba aquí el código:\n",
    "    \n",
    "    return l_suc"
   ]
  },
  {
   "cell_type": "markdown",
   "metadata": {},
   "source": [
    "## Material de Apoyo <a id='material'></a>"
   ]
  },
  {
   "cell_type": "markdown",
   "metadata": {},
   "source": [
    "- [Almacenamiento de datos](../../../../../7_Lectura_y_Escritura/7_Lectura_y_Escritura.ipynb#Min-eje_A_Archivo_i1.txt \"Ir al capítulo de Lectura de archivos\")\n",
    "- [Manejo de listas y tuplas](../../../../../5_Estructura_de_Datos/5_Estructura_de_Datos.ipynb#5_Estructura-de-Datos-Basicas \"Ir al capítulo de Estructuras de datos\")"
   ]
  },
  {
   "cell_type": "markdown",
   "metadata": {},
   "source": [
    "---\n",
    "| [**Plantilla pirncipal**](../Plantilla_RPW.ipynb \"Volver a la plantilla del programa principal\")|\n",
    "| :--------: |"
   ]
  }
 ],
 "metadata": {
  "kernelspec": {
   "display_name": "Python 3",
   "language": "python",
   "name": "python3"
  },
  "language_info": {
   "codemirror_mode": {
    "name": "ipython",
    "version": 3
   },
   "file_extension": ".py",
   "mimetype": "text/x-python",
   "name": "python",
   "nbconvert_exporter": "python",
   "pygments_lexer": "ipython3",
   "version": "3.7.4"
  }
 },
 "nbformat": 4,
 "nbformat_minor": 4
}
