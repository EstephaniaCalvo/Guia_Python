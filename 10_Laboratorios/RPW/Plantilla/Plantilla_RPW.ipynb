{
 "cells": [
  {
   "cell_type": "markdown",
   "metadata": {},
   "source": [
    "![Fig3_Encabezado.png](../../../Fig3_Encabezado.png)\n",
    "\n",
    "---------------------"
   ]
  },
  {
   "cell_type": "markdown",
   "metadata": {},
   "source": [
    "## Plantilla - RPW <a id=\"plantilla\"></a>"
   ]
  },
  {
   "cell_type": "markdown",
   "metadata": {},
   "source": [
    "### **-2. Importar módulos**"
   ]
  },
  {
   "cell_type": "code",
   "execution_count": null,
   "metadata": {},
   "outputs": [],
   "source": [
    "# Importe aquí todos los módulos que necesite"
   ]
  },
  {
   "cell_type": "markdown",
   "metadata": {},
   "source": [
    "### **-1. Funciones auxiliares**"
   ]
  },
  {
   "cell_type": "markdown",
   "metadata": {},
   "source": [
    "<a id='lectura_entradas'></a>\n",
    "#### a. Leer y almacenar datos ([lectura_datos](F_Auxiliares/_a_lectura_datos.ipynb \"Ir a la plantilla de lectura_matriz\"))"
   ]
  },
  {
   "cell_type": "markdown",
   "metadata": {},
   "source": [
    "<a id='sucesoras'></a>\n",
    "#### b. Identificar sucesoras ([sucesoras](F_Auxiliares/_b_sucesoras.ipynb \"Ir a la plantilla de sucesoras\"))"
   ]
  },
  {
   "cell_type": "markdown",
   "metadata": {},
   "source": [
    "<a id='ruta'></a>\n",
    "#### c. Calcular el rpw ([cal_rpw](F_Auxiliares/_c_cal_rpw.ipynb \"Ir a la plantilla de cal_rpw\"))"
   ]
  },
  {
   "cell_type": "markdown",
   "metadata": {},
   "source": [
    "<a id='ruta'></a>\n",
    "#### d. Organizar las estaciones ([estaciones](F_Auxiliares/_d_estaciones.ipynb \"Ir a la plantilla de estaciones\"))"
   ]
  },
  {
   "cell_type": "markdown",
   "metadata": {},
   "source": [
    "<a id='resultados'></a>\n",
    "#### e. Guardar archivo de resultados.xlsx ([resultados](F_Auxiliares/_e_resultados.ipynb \"Ir a la plantilla de resultados\"))"
   ]
  },
  {
   "cell_type": "markdown",
   "metadata": {},
   "source": [
    "### **0. Programa principal** [RPW](../Programa/RPW.py)"
   ]
  },
  {
   "cell_type": "code",
   "execution_count": null,
   "metadata": {},
   "outputs": [],
   "source": [
    "# 0. Programa principal\n",
    "def main(ingreso=1):\n",
    "    \"\"\"\n",
    "    Al ingresar un archivo con el tiempo disponible y la demanda de un ciclo determinado, las listas de tareas con su tiempo de ejecución y sus precedencias, devuelva el conjunto de actividades en las estaciones de trabajo con sus tiempos, para tener una línea balanceada.\n",
    "    \"\"\"\n",
    "\n",
    "    \"0. Pedir y leer archivo de datos\"\n",
    "    # Ingresar archivo de entrada.\n",
    "    \n",
    "    if ingreso==1:\n",
    "        a_entradas=input(\"Por favor ingrese el archivo que contiene las entradas, por ejemplo, 'Entradas.txt':\\n\")\n",
    "    elif ingreso==\"e\":\n",
    "        a_entradas=\"Ej_RPW.txt\"\n",
    "    else:\n",
    "        a_entradas=ingreso\n",
    "        \n",
    "    \"1. Leer archivo de datos\"\n",
    "    \n",
    "    \"2. Calcular Tiempo de ciclo.\"\n",
    "    \n",
    "    \"3. Calcular el número de estaciones de trabajo\"\n",
    "    \n",
    "    \"4. Calcular RPW\"\n",
    "    \n",
    "    # Identificar sucesores\n",
    "    \n",
    "    # Calcular el rpw\n",
    "    \n",
    "    \"5. Asignar tareas a las estaciones\"\n",
    "    \n",
    "    \"6. Crear y guardar el archivo.xlsx con los resultados\"\n",
    "    \n",
    "    \n",
    "if __name__=='__main__':\n",
    "    main()"
   ]
  },
  {
   "cell_type": "markdown",
   "metadata": {},
   "source": [
    "---\n",
    "| [**Home**](../RPW.ipynb \"Ir a la página principal del algoritmo\")| - | [**Prácticas**](../Practicas/Practicas_RPW.ipynb \"Ir a la página de las prácticas\")|\n",
    "| :--------: | :-------: | :--------: |"
   ]
  }
 ],
 "metadata": {
  "kernelspec": {
   "display_name": "Python 3",
   "language": "python",
   "name": "python3"
  },
  "language_info": {
   "codemirror_mode": {
    "name": "ipython",
    "version": 3
   },
   "file_extension": ".py",
   "mimetype": "text/x-python",
   "name": "python",
   "nbconvert_exporter": "python",
   "pygments_lexer": "ipython3",
   "version": "3.7.4"
  }
 },
 "nbformat": 4,
 "nbformat_minor": 4
}
