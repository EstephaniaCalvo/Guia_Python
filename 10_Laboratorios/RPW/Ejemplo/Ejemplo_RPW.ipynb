{
 "cells": [
  {
   "cell_type": "markdown",
   "metadata": {},
   "source": [
    "## Ejemplo - RPW <a id=\"ejemplo\"></a>"
   ]
  },
  {
   "cell_type": "markdown",
   "metadata": {},
   "source": [
    "- Suponga que estas son las tareas para realizar un producto, se requiere producir 480 und/día y se disponen de 10h/día para hacerlo.\n",
    "\n",
    "|Tarea|$t_i$ (s)|T. Precedente|\n",
    "| :--------: | :--------: | :--------: |\n",
    "|A|40|-|\n",
    "|B|30|A|\n",
    "|C|50|A|\n",
    "|D|40|B|\n",
    "|E|6|B|\n",
    "|F|25|C|\n",
    "|G|15|C|\n",
    "|H|20|D, E|\n",
    "|I|48|G, F, H|\n",
    "\n",
    "Los datos anteriores se encuentran el archivo [Ej_RPW.txt](Ej_RPW.txt)\n",
    "\n",
    "- #### **Solución** \n",
    "\n",
    "Los pasos que se deben seguir para balancear la línea del producto anterior son:\n",
    "\n",
    "**1.Calcular el Tiempo de cíclo en segundos.** \n",
    "\n",
    "$T_{Ciclo}=\\frac{T_{diponible}}{Demanda}=\\frac{(10*3600)}{480}=75s$\n",
    "\n",
    "**2. Calcular el número mínimo teórico de estaciones de trabajo:** \"MET\", sumando el tiempo total de las tareas y dividiéndolo por el tiempo de cíclo.\n",
    "\n",
    "$MET=\\frac{\\sum{t_i}}{T_{Ciclo}}=\\frac{246}{75}=3.6533≈4$\n",
    "\n",
    "- **Ojo:** Debe ser un número entero, si es décimal se debe redondear hacia arriba.\n",
    "\n",
    "**3.Construir el árbol de precedencias:**  usando los datos de la tabla anterior, ubicando en la extrama izquierda las tareas que no tienen predecesoras e ir llenando hacia la derecha.\n",
    "\n",
    "![tareas_1](tareas_1.png \"Diagrama de precedencias\")"
   ]
  },
  {
   "cell_type": "markdown",
   "metadata": {},
   "source": [
    "**4. Calcular el positional weight \"PW\" (peso pocisional) para cada tarea:** sumandole a su tiempo, $t_i$ de todas sus predecesoras.\n",
    "\n",
    "|Tarea|PW (s)|\n",
    "| :--------: | :--------: |\n",
    "|A|40|\n",
    "|B|70|\n",
    "|C|90|\n",
    "|D|110|\n",
    "|E|76|\n",
    "|F|115|\n",
    "|G|105|\n",
    "|H|206|\n",
    "|I|426|\n",
    "\n",
    "\n",
    "|Tarea|$t_i$ (s)|T. Precedente|PW|\n",
    "| :--------: | :--------: | :--------: | :--------: |\n",
    "|A|40|-|40|\n",
    "|B|30|A|70|\n",
    "|C|50|A|90|\n",
    "|D|40|B|110|\n",
    "|E|6|B|76|\n",
    "|F|25|C|115|\n",
    "|G|15|C|105|\n",
    "|H|20|D, E|106|\n",
    "|I|48|G, F, H|274|\n",
    "\n",
    "**5. Organizar las actividades de acuerdo a su PW:**\n",
    "\n",
    "|RPW|Tarea|$t_i$ (s)|T. Precedente|PW|\n",
    "| :--------: | :--------: | :--------: | :--------: | :--------: |\n",
    "|1|A|40|-|40|\n",
    "|2|B|30|A|70|\n",
    "|3|E|6|B|76|\n",
    "|4|C|50|A|90|\n",
    "|6|G|15|C|105|\n",
    "|5|D|40|B|110|\n",
    "|7|F|25|C|115|\n",
    "|8|H|20|D, E|136|\n",
    "|9|I|48|G, F, H|274|"
   ]
  },
  {
   "cell_type": "markdown",
   "metadata": {},
   "source": [
    "**6. Asignar las tareas a las estaciones de trabajo siguiendo el RPW:**\n",
    "Cumpliendo las siguietnes condiciones: \n",
    "- El tiempo de las tareas asignadas a una estación debe ser menor o igual que el tiempo de cíclo, en este caso igual a 75s.\n",
    "- Para asignar una tarea todas sus predecesoras deben estar ya asignadas.\n",
    "\n",
    "|Estación|Tareas|Tiempo total|\n",
    "| :--------: | :--------: | :--------: |\n",
    "|1|A, B|70|\n",
    "|2|E, C, G|71|\n",
    "|3|D, F|65|\n",
    "|4|H, I|68|\n",
    "\n",
    "- **Ojo:** En algunos casos puede que se necesite una estación más.\n",
    "\n",
    "###### **Nota:** El ejemplo anterior fue tomado del vídeo del profesor David de la Peña Esteban de Universidad a Distancia de Madrid, sin embargo, el procedimiento que se explica fue el visto en el curso Implementación de algoritmos de ingeniería industrial de la Universidad del Valle."
   ]
  },
  {
   "cell_type": "markdown",
   "metadata": {},
   "source": [
    "#### Resultados <a id=\"resultados\"></a>\n",
    "\n",
    "1. **Archivos en excel con los resultados:** Abra el archivo Resultados_Ej_RPW.xlsx guardado en la carpeta Resultados."
   ]
  },
  {
   "cell_type": "markdown",
   "metadata": {},
   "source": [
    "---\n",
    "| [**Home**](../RPW.ipynb \"Ir a la página principal del algoritmo\")| - | [**Prácticas**](../Practicas/Practicas_RPW.ipynb \"Ir a la página de la prácticas\")|\n",
    "| :--------: | :-------: | :--------: |"
   ]
  }
 ],
 "metadata": {
  "kernelspec": {
   "display_name": "Python 3",
   "language": "python",
   "name": "python3"
  },
  "language_info": {
   "codemirror_mode": {
    "name": "ipython",
    "version": 3
   },
   "file_extension": ".py",
   "mimetype": "text/x-python",
   "name": "python",
   "nbconvert_exporter": "python",
   "pygments_lexer": "ipython3",
   "version": "3.7.4"
  }
 },
 "nbformat": 4,
 "nbformat_minor": 4
}
