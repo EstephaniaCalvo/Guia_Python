{
 "cells": [
  {
   "cell_type": "markdown",
   "metadata": {},
   "source": [
    "![Fig3_Encabezado.png](../../../../Fig3_Encabezado.png)\n",
    "\n",
    "---------------------"
   ]
  },
  {
   "cell_type": "markdown",
   "metadata": {},
   "source": [
    "# **Práctica 1:** Balance de línea Tekstylia.SAS <a id='ejemplo'></a>\n",
    "\n",
    "Para los próximos 2 años Tekstylia.SAS confeccionadora de cortinas, ropa de cama y tapetes, ha cerrado un contrato con una cadena distribuidora de grandes superficies para suministrar conjuntos de ropa de cama. Se estima que la demanda estaría alrededor de 6000 kits al mes.\n",
    "\n",
    "La línea de producción actualmente está optimizada para la familia de tapetes, sin embargo, debido al gran volumen de producción para cumplir el contrato se debe cambiar el mix de producción y ajustar la línea para realizar conjuntos de ropa de cama.\n",
    "\n",
    "Así que decide primero hacer un balance de línea, para esto recopila todas las actividades necesarias para confeccionar los conjuntos de ropa de cama, los tiempos en que se realizan y la lista de actividades precedentes inmediatas, como muestra la siguiente tabla. \n",
    "###### **Nota:* Esta información está almacenada en el archivo [Tekstylia.txt](Tekstylia.txt).\n",
    "\n",
    "|Tarea|$t_i$ (s)|T. Precedente|\n",
    "| :--------: | :--------: | :--------: |\n",
    "| A | 40 | - |\n",
    "| B | 30 | A |\n",
    "| C | 50 | A |\n",
    "| D | 40 | B |\n",
    "| E | 6 | B,C |\n",
    "| F | 25 | C,A |\n",
    "| G | 15 | C,B,E |\n",
    "| H | 20 | D,E |\n",
    "| I | 48 | G,F |\n",
    "| J | 10 | I,H |\n",
    "\n",
    "El área de producción en la empresa trabaja 2 turnos de 8 horas, con un descanso de 1 hora y dos de 15 minutos, durante 6 días a la semana. Entonces para cumplir con la demanda mensual se deben hacer 100 kits por turno.\n",
    "\n",
    "Finalmente, para balancear la línea emplea el programa RPW con cual obtendrá el archivo Resultados_Tekstylia.xlsx, con las estaciones de trabajo balanceadas."
   ]
  },
  {
   "cell_type": "markdown",
   "metadata": {},
   "source": [
    "---\n",
    "## Informe"
   ]
  },
  {
   "cell_type": "markdown",
   "metadata": {},
   "source": [
    "Analice los resultados obtenidos con el programa y escriba sus conclusiones [aquí](#conclusiones). Las siguientes preguntas le ayudarán a analizar el caso, sin embargo, hay muchos otros puntos sobre los que puede llegar a concluir.\n",
    "\n",
    "**Preguntas guía**\n",
    "- ¿Se cumple con la cantidad mínima de estaciones?\n",
    "- ¿Cuál debe ser la nueva distribución de la línea?"
   ]
  },
  {
   "cell_type": "markdown",
   "metadata": {},
   "source": [
    "## Conclusiones <a id='conclusiones'></a>\n",
    "*Escriba aquí las conclusiones del análisis basado en los resultados obtenidos* "
   ]
  },
  {
   "cell_type": "markdown",
   "metadata": {},
   "source": [
    "## Programa: RPW <a id=\"prog\"></a>"
   ]
  },
  {
   "cell_type": "markdown",
   "metadata": {},
   "source": [
    "#### **Instrucciones**\n",
    "\n",
    "1. Lea el [Análisis del problema](../../Programa/Analisis.ipynb)\n",
    "2. Llenar la [plantilla](../../Plantilla/Plantilla_RPW.ipynb) del programa.\n",
    "3. Ejecutar el programa con la siguiente celda."
   ]
  },
  {
   "cell_type": "code",
   "execution_count": 1,
   "metadata": {},
   "outputs": [],
   "source": [
    "def p1_RPW():\n",
    "    try:\n",
    "        import os\n",
    "\n",
    "        os.chdir(\"../../Programa\")\n",
    "        from RPW import main\n",
    "        os.chdir(\"../Practicas/Practica_1\")\n",
    "\n",
    "        main(\"p1\")\n",
    "\n",
    "    except(FileNotFoundError):\n",
    "        return print(\"No se encuentra el archivo\",archivo)\n",
    "    except(Exception):\n",
    "        return print(\"El programa no se ha podido ejecutar correctamente\")\n",
    "    \n",
    "p1_RPW()"
   ]
  },
  {
   "cell_type": "markdown",
   "metadata": {},
   "source": [
    "---\n",
    "| [**Home**](../../RPW.ipynb \"Ir a la página principal del algoritmo\")| - |[**Prácticas**](../Practicas_RPW.ipynb)| - | [**Plantilla**](../../Plantilla/Plantilla_RPW.ipynb \"Ir a la página de la plantilla\")|\n",
    "| :--------: | :-------: | :--------: | :--------: | :--------: |"
   ]
  }
 ],
 "metadata": {
  "kernelspec": {
   "display_name": "Python 3",
   "language": "python",
   "name": "python3"
  },
  "language_info": {
   "codemirror_mode": {
    "name": "ipython",
    "version": 3
   },
   "file_extension": ".py",
   "mimetype": "text/x-python",
   "name": "python",
   "nbconvert_exporter": "python",
   "pygments_lexer": "ipython3",
   "version": "3.7.4"
  }
 },
 "nbformat": 4,
 "nbformat_minor": 4
}
