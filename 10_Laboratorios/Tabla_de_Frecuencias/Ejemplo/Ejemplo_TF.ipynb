{
 "cells": [
  {
   "cell_type": "markdown",
   "metadata": {},
   "source": [
    "![Fig3_Encabezado.png](../../../Fig3_Encabezado.png)\n",
    "\n",
    "---"
   ]
  },
  {
   "cell_type": "markdown",
   "metadata": {},
   "source": [
    "## Ejemplo - Tabla de Frecuencias <a id=\"ejemplo\"></a>"
   ]
  },
  {
   "cell_type": "markdown",
   "metadata": {},
   "source": [
    "Suponga los siguientes conjunots de datos almacenados en  los archivo [Ej_TF_Datos_1.txt](Ej_TF_Datos_1.txt) y [Ej_TF_Datos_2.txt](Ej_TF_Datos_2.txt).\n",
    "\n",
    "- **Datos 1:**    \n",
    "    ![Datos_1.png](Datos_1.png \"Datos del ejemplo\")\n",
    "    \n",
    "- **Datos 2:**    \n",
    "    ![Datos_2.png](Datos_2.png \"Datos del ejemplo\")"
   ]
  },
  {
   "cell_type": "markdown",
   "metadata": {},
   "source": [
    "- #### **Solución** \n",
    "\n",
    "Siga los siguientes pasos para calcular la tabla de frecuencia de los Datos 1.\n",
    "\n",
    "**1.** Definir las clases:\n",
    "- **1.1.** Calcular el rango: \n",
    "    $R= min(x_j)-min(x_j)$   \n",
    "- **1.2.** Calcular el tamaño de clase: \n",
    "    $t_c=\\frac{R}k$   \n",
    "- **1.3.** Calcular los intervalos de clase:    \n",
    "    $LI_1=min(x_j)$    \n",
    "    $LS_i=LI_i+t_c$    \n",
    "    $LI_i=LS_{-i}$\n",
    "\n",
    "| Límite inferior | Límite superior |\n",
    "|:-------:|:-------:|\n",
    "|-7.72|-3.846|\n",
    "|-3.846|0.028|\n",
    "|0.028|3.903|\n",
    "|3.903|7.777|\n",
    "|7.777|11.652|\n",
    "\n",
    "**2.** Cacluar las frecuencias:\n",
    "- **2.1.** Frecuencia Absoluta:   \n",
    "    $FA_i$: Cantidad de datos que están en el intervalo *i*.\n",
    "    \n",
    "- **2.2.** Frecuencia Absoluta Acumlativa:    \n",
    "    $FAA_i= \\sum_{i=1}^{k} FA_i$   \n",
    "    \n",
    "- **2.3.** Frecuencia Relativa:    \n",
    "    $FR_i= \\frac{FA}n$    \n",
    "    **Nota:** n es el número de datos.\n",
    "    \n",
    "- **2.4.** Frecuencia Relativa Acumlativa:    \n",
    "    $FRA_i= \\sum_{i=1}^{k} FR_i$  \n",
    "    \n",
    "|LI|LS|FA|FAA|FR|FRA|\n",
    "|:-------:|:-------:|:-------:|:-------:|:-------:|:-------:|\n",
    "|-7.72|-3.846|3|0.03|3|0.03|\n",
    "|-3.846|0.028|28|0.28|31|0.31|\n",
    "|0.028|3.903|45|0.45|76|0.76|\n",
    "|3.903|7.777|21|0.21|97|0.97|\n",
    "|7.777|11.652|3|0.03|100|1.00|"
   ]
  },
  {
   "cell_type": "markdown",
   "metadata": {},
   "source": [
    "#### Resultados <a id=\"resultados\"></a>\n",
    "\n",
    "El análisis de una tabla de frecuencias normalmente se complementa con el histograma, las medidas de centramiento (media, moda, mediana) y dispersión (rango, desviación estándar y varianza).\n",
    "\n",
    "1. **Archivos en excel con los resultados:** Abra los archivo Resultados_Ej_TF_Datos_1.xlsx y Resultados_Ej_TF_Datos_2.xlsx guardados en la carpeta resultados.\n",
    "- **Tabla Datos 1**    \n",
    "![tabla_Ej_TF_1.png](tabla_Ej_TF_1.png)\n",
    "\n",
    "- **Medidas Datos 2**    \n",
    "![medidas_Ej_TF_1.png](medidas_Ej_TF_1.png)\n",
    "\n",
    "- **Tabla Datos 2**    \n",
    "![tabla_Ej_TF_2.png](tabla_Ej_TF_2.png)\n",
    "\n",
    "- **Medidas Datos 2**    \n",
    "![medidas_Ej_TF_2.png](medidas_Ej_TF_2.png)\n",
    "\n",
    "2. **Histogramas:**   \n",
    "![Histograma_de_Ej_TF_Datos_1.png](Resultados/Histograma_de_Ej_TF_Datos_1.png)\n",
    "\n",
    "![Histograma_de_Ej_TF_Datos_2.png](Resultados/Histograma_de_Ej_TF_Datos_2.png)\n",
    "\n",
    "3. **Histograma Comparativo**   \n",
    "![Histograma_Comparativo_de_Ej_TF.png](Resultados/Histograma_Comparativo_de_Ej_TF.png)"
   ]
  },
  {
   "cell_type": "markdown",
   "metadata": {},
   "source": [
    "---\n",
    "| [**Home**](../Tabla_de_Frecuencias.ipynb \"Ir a la página principal del algoritmo\")| - | [**Prácticas**](../Practicas/Practicas_TF.ipynb \"Ir a la página de la prácticas\")|\n",
    "| :--------: | :-------: | :--------: |"
   ]
  }
 ],
 "metadata": {
  "kernelspec": {
   "display_name": "Python 3",
   "language": "python",
   "name": "python3"
  },
  "language_info": {
   "codemirror_mode": {
    "name": "ipython",
    "version": 3
   },
   "file_extension": ".py",
   "mimetype": "text/x-python",
   "name": "python",
   "nbconvert_exporter": "python",
   "pygments_lexer": "ipython3",
   "version": "3.7.4"
  }
 },
 "nbformat": 4,
 "nbformat_minor": 4
}
