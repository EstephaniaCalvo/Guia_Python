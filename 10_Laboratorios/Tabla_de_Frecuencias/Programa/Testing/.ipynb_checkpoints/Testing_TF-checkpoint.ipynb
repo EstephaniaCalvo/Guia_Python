{
 "cells": [
  {
   "cell_type": "markdown",
   "metadata": {},
   "source": [
    "# **Testing - Tabla de Frecuencias**"
   ]
  },
  {
   "cell_type": "markdown",
   "metadata": {},
   "source": [
    "Almacene los proyectos de los estudiantes en la carpeta proyectos y ejecute el siguiente bloque.\n",
    "\n",
    "- Tenga en cuenta que para los puntos que se deben evaluar manualmente tiene que entrar a la carpeta de resultados del proyecto correspondiente para revisar el contenido y antes de seguir con la calificación debe cerrar los documentos y carpetas que haya abierto."
   ]
  },
  {
   "cell_type": "code",
   "execution_count": null,
   "metadata": {},
   "outputs": [],
   "source": [
    "##### Calficación Tabla_de_Frecuencias.\n",
    "\n",
    "%matplotlib inline\n",
    "\n",
    "from testing_TF import evaluacion, resultados\n",
    "\n",
    "resultados(evaluacion())"
   ]
  },
  {
   "cell_type": "markdown",
   "metadata": {},
   "source": [
    "---\n",
    "| [**Home**](../../Tabla_de_Frecuencias.ipynb \"Ir a la página principal del algoritmo\")|\n",
    "| :--------: |"
   ]
  }
 ],
 "metadata": {
  "kernelspec": {
   "display_name": "Python 3",
   "language": "python",
   "name": "python3"
  },
  "language_info": {
   "codemirror_mode": {
    "name": "ipython",
    "version": 3
   },
   "file_extension": ".py",
   "mimetype": "text/x-python",
   "name": "python",
   "nbconvert_exporter": "python",
   "pygments_lexer": "ipython3",
   "version": "3.7.4"
  }
 },
 "nbformat": 4,
 "nbformat_minor": 4
}
