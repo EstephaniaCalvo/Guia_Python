{
 "cells": [
  {
   "cell_type": "markdown",
   "metadata": {},
   "source": [
    "![Fig3_Encabezado.png](../../../Fig3_Encabezado.png)\n",
    "\n",
    "---"
   ]
  },
  {
   "cell_type": "markdown",
   "metadata": {},
   "source": [
    "# **Instrucciones - Tabla de Frecuencias** <a id='instrucciones'></a>"
   ]
  },
  {
   "cell_type": "markdown",
   "metadata": {},
   "source": [
    "1. Asegúrese de tener en la misma ubicación del programa o del notebook:\n",
    "    - Archivo de entradas: Un archivo de texto con las entradas. Tome como guía la estructura de [Ej_TF.txt](../Ejemplo/Ej_TF.txt \"Ver archivo de entradas\").\n",
    "    - Archivo de datos: El archivo de texto con los datos referenciado en el archivo de entradas. Tome como guía la estructura de [Ej_TF_Datos_1.txt](../Ejemplo/Ej_TF_Datos_1.txt \"Ver archivo de datos\") o [Ej_TF_Datos_2.txt](../Ejemplo/Ej_TF_Datos_2.txt \"Ver archivo de datos\").\n",
    "3. Si desea que el color del histograma sea aleatorio en lugar de escribir un color, escriba \"a\".\n",
    "4. Si ya existe una carpeta \"Resultados\" y desea conservarla, cámbiele el nombre o cámbiela de ubicación para no perder su contenido.\n",
    "5. Abra el programa Tabla_de_frecuencias.py\n",
    "6. Escriba el nombre del archivo con las entradas.\n",
    "7. Una vez el programa se haya cerrado, los resultados estarán guardados en la carpeta \"Resultados\" en la misma ubicación del programa o del notebook.\n",
    "\n",
    "### **Evitar errores:**\n",
    "\n",
    "Para que el programa no presente errores al ejecutarse tenga en cuenta:\n",
    "\n",
    "#### 1. Archivo de entradas \n",
    "\n",
    "- El archivo de entradas, debe tener en cada línea y separado por punto y coma ';' la siguiente información:\n",
    "    1. El nombre del archivo de datos con la extensión .txt\n",
    "    2. El número de clases para calcular la tabla de frecuencias.\n",
    "    3. El color para graficar el histograma.    \n",
    "- No debe tener rótulos (la primera línea tiene el primer conjunto de datos).   \n",
    "- Al final no debe haber ningún salto de línea (la última línea tiene el último conjunto de entradas). \n",
    "\n",
    "**Por ejemplo:**  \n",
    "Archivo_1.txt;9;blue   \n",
    "Archivo_2.txt;10;a\n",
    "\n",
    "#### 2. Archivo de datos ingresado:\n",
    "\n",
    "- Debe ser un archivo en de texto. (.txt)\n",
    "- Debe estar ubicado en la misma ruta (carpeta) del programa.\n",
    "- Los datos deben estar organizados en un vector (un solo dato en cada línea, formando una columna de datos).\n",
    "- No debe tener rótulos. (La primera línea debe tener el primer dato).\n",
    "- Si hay decimales estos deben ser indicados con punto \".\".\n",
    "- Todos los datos deben tener la misma cantidad de decimales.\n",
    "- No deben existir filas vacías, ni saltos de línea al final (la última fila debe tener el último dato).\n",
    "\n",
    "#### 3. El número de clases ingresado \n",
    "- Debe ser un número entero.\n",
    "\n",
    "#### 4. Colores del histograma\n",
    "- Si desea que los colores sean aleatorios, en vez de un color, escriba \"a\".\n",
    "- Puede usar los colores compatibles con las paletas de Matplotlib, como los de la siguiente lista, https://matplotlib.org/3.1.1/gallery/color/named_colors.html.\n",
    "\n",
    "#### 3. Resultados.\n",
    "- En la ruta del programa no debe existir una carpeta llamada 'Resultados' antes de ejecutarlo, si existe los archivos que contengan pueden ser reemplazados.\n"
   ]
  },
  {
   "cell_type": "markdown",
   "metadata": {},
   "source": [
    "---\n",
    "| [**Home**](../Tabla_de_Frecuencias.ipynb \"Ir a la página principal del algoritmo\")|\n",
    "| :--------: |"
   ]
  }
 ],
 "metadata": {
  "kernelspec": {
   "display_name": "Python 3",
   "language": "python",
   "name": "python3"
  },
  "language_info": {
   "codemirror_mode": {
    "name": "ipython",
    "version": 3
   },
   "file_extension": ".py",
   "mimetype": "text/x-python",
   "name": "python",
   "nbconvert_exporter": "python",
   "pygments_lexer": "ipython3",
   "version": "3.7.4"
  }
 },
 "nbformat": 4,
 "nbformat_minor": 4
}
