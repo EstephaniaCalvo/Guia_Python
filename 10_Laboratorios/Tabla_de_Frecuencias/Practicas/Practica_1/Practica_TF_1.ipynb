{
 "cells": [
  {
   "cell_type": "markdown",
   "metadata": {},
   "source": [
    "![Fig3_Encabezado.png](../../../../Fig3_Encabezado.png)\n",
    "\n",
    "---"
   ]
  },
  {
   "cell_type": "markdown",
   "metadata": {},
   "source": [
    "# **Práctica 1:** Monitoreo de temperatura \n",
    "\n",
    "Debido a continuos problemas presentados la producción del producto con código CTG3465, se decide analizar el comportamiento de las temperaturas en el Tanque A usado para en proceso de mezcla, ya que:\n",
    "- Los componentes químicos usados se degradan (se dañan) si se alcanza una temperatura mayor a 90°C, al ocurrir esto la mezcla debe ser desechada, y se debe comenzar el todo el proceso de nuevo.\n",
    "- Los componentes no se disuelven correctamente a una temperatura menor a 50°C, lo que genera un retraso en la mezcla, ya que, se debe dejar más tiempo en agitación.\n",
    "- La mezcla no se puede llenar a una temperatura mayor de 10°C por seguridad del trabajador, por lo cual, la mezcla es enfriada antes del llenado, entre más caliente esté la mezcla más tiempo lleva enfriarla.\n",
    "\n",
    "Los parámetros críticos establecidos en el procedimiento son:\n",
    "- Temperatura para adición de componentes < 90°C\n",
    "- Temperatura para llenado < 41°C\n",
    "\n",
    "Los rangos operación recomendados en el procedimiento son:\n",
    "- Temperatura para adición de componentes: (70°C +/- 15°C)\n",
    "- Temperatura para llenado: (31°C +/- 5°C)\n",
    "\n",
    "Para el análisis los datos son extraídos de los registros de producción de los últimos dos años la temperatura del tanque al momento de adicionar componentes y antes de empezar el llenado, siendo guardados en los siguientes archivos.\n",
    "\n",
    "- [Temp_Ad.txt:](Temp_Ad.txt) Registro de la temperatura antes de adicionar componentes.  \n",
    "- [Temp_Llen.txt:](Temp_Llen.txt) Registro de la temperatura antes del llenado. \n",
    "\n",
    "El analista de calidad decide usar una tabla frecuencias con su histograma y las medidas de centramiento y dispersión de cada etapa para  hacer el análisis, para lo cual define que le número de clases adecuado es 7 para ambos casos, y quiere que la temperatura anterior al llenado debe estar representada en azul. ([Ver archivo de entradas](Temperaturas.txt \"Ir al archivo de entradas\"))\n",
    "\n",
    "Para hacerlo utiliza el [programa Tabla_de_Frecuencias](#prog \"Ir al programa\"), con el cual obtendrá los siguientes resultados:\n",
    "1. Resultados_Ej_Temp_Ad.xlsx\n",
    "2. Resultados_Ej_Temp_Llen.xlsx\n",
    "3. [Histograma de Temp_Ad.png](Resultados/Histograma_de_Temp_Ad.png)\n",
    "4. [Histograma de Temp_Llen.png](Resultados/Histograma_de_Temp_Llen.png)\n",
    "5. [Histograma Comparativo_de_Temperaturas.png](Resultados/Histograma_Comparativo_de_Temperaturas.png)"
   ]
  },
  {
   "cell_type": "markdown",
   "metadata": {},
   "source": [
    "---\n",
    "## Informe"
   ]
  },
  {
   "cell_type": "markdown",
   "metadata": {},
   "source": [
    "Analice los resultados obtenidos con el programa y escriba sus conclusiones [aquí](#conclusiones). Las siguientes preguntas le ayudarán a analizar el caso, sin embargo, hay muchos otros puntos sobre los que puede llegar a concluir.\n",
    "\n",
    "**Preguntas guía**\n",
    "- ¿Las temperaturas cumplen con los rangos de operación del procedimiento?\n",
    "- ¿La temperatura es segura para el personal de llenado?\n",
    "- ¿Se ha desechado producto a causa de la degradación de componentes?\n",
    "- ¿La eficiencia de la mezcla se ha visto afectada por la temperatura de adición de componentes? "
   ]
  },
  {
   "cell_type": "markdown",
   "metadata": {},
   "source": [
    "## Conclusiones <a id='conclusiones'></a>\n",
    "*Escriba aquí las conclusiones del análisis basado en los resultados obtenidos* "
   ]
  },
  {
   "cell_type": "markdown",
   "metadata": {},
   "source": [
    "## Programa: Tabla_de_frecuencias <a id=\"prog\"></a>"
   ]
  },
  {
   "cell_type": "markdown",
   "metadata": {},
   "source": [
    "#### **Instrucciones**\n",
    "\n",
    "1. Lea el [Análisis del problema](../../Programa/Analisis.ipynb)\n",
    "2. Llenar la [plantilla](../../Plantilla/Plantilla_TF.ipynb) del programa.\n",
    "3. Ejecutar el programa con la siguiente celda."
   ]
  },
  {
   "cell_type": "code",
   "execution_count": null,
   "metadata": {},
   "outputs": [],
   "source": [
    "def p1_MR():\n",
    "    try:\n",
    "        %matplotlib inline\n",
    "        import os\n",
    "\n",
    "        os.chdir(\"../../Programa\")\n",
    "        from Tabla_de_Frecuencias import main\n",
    "        os.chdir(\"../Practicas/Practica_1\")\n",
    "\n",
    "        return main(\"p1\")\n",
    "\n",
    "    except(FileNotFoundError):\n",
    "        return print(\"No se encuentra el archivo Temperaturas\")\n",
    "    except(Exception):\n",
    "        return print(\"El programa no se ha podido ejecutar correctamente\")\n",
    "    \n",
    "p1_MR()"
   ]
  },
  {
   "cell_type": "markdown",
   "metadata": {},
   "source": [
    "---\n",
    "| [**Home**](../../Tabla_de_Frecuencias.ipynb \"Ir a la página principal del algoritmo\")| - |[**Prácticas**](../Practicas_TF.ipynb)| - | [**Plantilla**](../../Plantilla/Plantilla_TF.ipynb \"Ir a la página de la plantilla\")|\n",
    "| :--------: | :-------: | :--------: | :--------: | :--------: |"
   ]
  }
 ],
 "metadata": {
  "kernelspec": {
   "display_name": "Python 3",
   "language": "python",
   "name": "python3"
  },
  "language_info": {
   "codemirror_mode": {
    "name": "ipython",
    "version": 3
   },
   "file_extension": ".py",
   "mimetype": "text/x-python",
   "name": "python",
   "nbconvert_exporter": "python",
   "pygments_lexer": "ipython3",
   "version": "3.7.4"
  }
 },
 "nbformat": 4,
 "nbformat_minor": 4
}
