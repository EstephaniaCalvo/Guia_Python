{
 "cells": [
  {
   "cell_type": "markdown",
   "metadata": {},
   "source": [
    "## h. Hacer el histograma comparativo (hist_comparativo)\n",
    "\n",
    "- #### **Objetivos :** \n",
    "    Si hay más de un conjunto de datos mostrar, crear y guardar un histograma combinado de ellos con los números de clases y colores indicado. \n",
    "\n",
    "**Tenga en cuenta que:**\n",
    "- El color de las barras debe tener una transparencia del 50%.\n",
    "- El histograma debe tener título \"Histograma Comparativo\"\n",
    "- El eje \"x\" y \"y\" deben titularse \"Datos\", \"Frecuencia absoluta\" respectivamente.\n",
    "- El eje \"y\" debe tener una maya principal y una secundaria.\n",
    "- El gráfico debe tener una leyenda ubicada en el mejor lugar posible."
   ]
  },
  {
   "cell_type": "markdown",
   "metadata": {},
   "source": [
    "- #### Entradas:"
   ]
  },
  {
   "cell_type": "code",
   "execution_count": null,
   "metadata": {},
   "outputs": [],
   "source": [
    "# 1. l_data: Lista con las lista de datos convertidos a enteros, de todos los archivos inidcados en el archivo de entrada.\n",
    "l_data=[[0.27, 4.29, -7.72, 2.87, -1.12, -2.6, 2.97, 3.55, 1.81, -1.33, 2.6, 0.93, 5.07, -1.8, 0.52, 2.7, 5.53, 1.2, 6.64, 0.23, 3.71, 3.61, 2.36, 4.01, 2.23, 4.5, 1.5, 2.84, -2.74, -0.56, 1.74, 3.37, 2.98, 5.27, -0.73, -2.34, 1.89, -4.35, 1.2, 4.07, 2.35, 3.76, -0.73, 2.48, -0.25, 2.13, 0.0, 2.95, -1.87, 5.42, 2.95, 1.14, 3.67, -3.81, -3.13, 3.64, 2.46, 4.55, -3.79, -4.41, -0.29, 4.33, 8.78, 0.26, -0.2, -0.39, 0.57, -0.63, 3.62, -3.6, 0.1, 1.55, 8.24, 4.79, -0.11, 4.54, 6.52, 4.57, 4.29, -0.13, 1.67, 2.56, 1.42, -0.14, 6.27, 3.16, -1.13, 3.74, 4.04, -0.27, 1.78, -1.39, 11.65, 2.94, -2.68, -1.85, 4.17, 2.4, 4.85, 4.61],\n",
    "   [1.0, 2.0, 2.0, 3.0, 3.0, 3.0, 4.0, 4.0, 4.0, 4.0, 5.0, 5.0, 5.0, 5.0, 5.0, 6.0, 6.0, 6.0, 6.0, 6.0, 6.0, 7.0, 7.0, 7.0, 7.0, 7.0, 7.0, 7.0]]     \n",
    "\n",
    "# 2. l_k: Lista con los numero de clase indicados en el archivo de entrada.\n",
    "l_k= [5, 7]\n",
    "\n",
    "# 3. l_colores: Lista con los colores indicados en el archivo de entrada o elegidos aleatoriamente según sea el caso.\n",
    "l_colores=['crimson','dodgerblue']\n",
    "\n",
    "# 4. l_archivo: Lista con los archivos de datos indicados en el archivo de entrada.\n",
    "l_archivos= ['test_d1.txt', 'test_d2.txt'] \n",
    "\n",
    "# 5. archivo_entradas: Nombre del archivo de entradas.\n",
    "archivo_entradas='test_2.txt'"
   ]
  },
  {
   "cell_type": "markdown",
   "metadata": {},
   "source": [
    "- #### **Salidas :** \n",
    "\n",
    "    **1. Histograma_Comparativo_de_archivo:** Imagen .png con los histogramas de los set de datos indicados."
   ]
  },
  {
   "cell_type": "markdown",
   "metadata": {},
   "source": [
    "- #### **Código :** \n",
    "Complete la función para convertir las entradas en las salidas, ingrese al [material de apoyo](#material \"Ir al material de apoyo\") para ver los ejemplos que lo pueden guiar, una vez terminada ejecútela y compare sus resultados con el archivo\n",
    "[RP_H_Comparativo_t2.png](R_Pruebas/RP_H_Comparativo_t2.png)."
   ]
  },
  {
   "cell_type": "code",
   "execution_count": null,
   "metadata": {},
   "outputs": [],
   "source": [
    "# Importar aquí los módulos necesarios\n",
    "\n",
    "# h. Hacer el histograma comparativo\n",
    "def hist_comparativo (l_data,l_k,l_colores,l_archivos, archivo_entradas): # Crear la función frecuencias con parámetros de entrada: lista de clases, lista de datos, archivo de datos y color del gráfico.\n",
    "    # Escriba aquí el código:\n",
    "    \n",
    "    return None # No devolver nada"
   ]
  },
  {
   "cell_type": "markdown",
   "metadata": {},
   "source": [
    "- #### **Prueba :** <a id='prueba'></a>\n",
    "Si la carpeta Resultados no existe créela en la misma ubicación de este notebook, luego ejecute la celda de entradas y la siguiente celda, finalmente compruebe si el archivos Histograma_Comparativo_de_test_2.png fue creado correctamente, si es así pase la función [aquí](../../Programa/Tabla_de_Frecuencias.py)"
   ]
  },
  {
   "cell_type": "code",
   "execution_count": null,
   "metadata": {},
   "outputs": [],
   "source": [
    "# Prueba de salidas\n",
    "hist_comparativo (l_data,l_k,l_colores,l_archivos,archivo_entradas)"
   ]
  },
  {
   "cell_type": "markdown",
   "metadata": {},
   "source": [
    "## Material de Apoyo <a id='material'></a>"
   ]
  },
  {
   "cell_type": "markdown",
   "metadata": {},
   "source": [
    "- [Histograma Comparativo](../../../../../8_Graficos/8_Graficos.ipynb#Min-eje_Histograma_Comparativo \"Ir al capítulo de Estructuras de datos\")"
   ]
  },
  {
   "cell_type": "markdown",
   "metadata": {},
   "source": [
    "---\n",
    "| [**Plantilla pirncipal**](../Plantilla_TF.ipynb \"Volver a la plantilla del programa principal\")|\n",
    "| :--------: |"
   ]
  }
 ],
 "metadata": {
  "kernelspec": {
   "display_name": "Python 3",
   "language": "python",
   "name": "python3"
  },
  "language_info": {
   "codemirror_mode": {
    "name": "ipython",
    "version": 3
   },
   "file_extension": ".py",
   "mimetype": "text/x-python",
   "name": "python",
   "nbconvert_exporter": "python",
   "pygments_lexer": "ipython3",
   "version": "3.7.4"
  }
 },
 "nbformat": 4,
 "nbformat_minor": 4
}
