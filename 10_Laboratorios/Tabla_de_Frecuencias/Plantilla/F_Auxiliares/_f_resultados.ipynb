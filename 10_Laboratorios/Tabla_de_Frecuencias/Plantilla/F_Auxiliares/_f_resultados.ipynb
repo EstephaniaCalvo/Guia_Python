{
 "cells": [
  {
   "cell_type": "markdown",
   "metadata": {},
   "source": [
    "![Fig3_Encabezado.png](../../../../Fig3_Encabezado.png)\n",
    "\n",
    "---"
   ]
  },
  {
   "cell_type": "markdown",
   "metadata": {},
   "source": [
    "## f. Guardar archivo de resultados.xlsx\n",
    "\n",
    "- #### **Objetivos :** \n",
    "    1. Crear la carpeta Resultados\n",
    "    2. Para cada set de datos, almacenar las medidas de centramiento y dispersión en la hoja 1, y la tabla de frecuencias en la hoja 2 de un archivo xlsx.\n",
    "    3. Guardar archivo.xlsx en la carpeta.\n",
    "    \n",
    "**Tenga en cuenta que:**\n",
    "\n",
    "- El archivo debe tener el nombre del archivo de datos sin la extensión .txt.\n",
    "- Las hojas 1 y 2 deben tener el nombre de \"Medidas\" y \"Tabla de frecuencias\" respectivamente.\n",
    "- Cada hoja debe tener un enunciado \"Medidas\" y \"Tabla de frecuencias\" según corresponda, con tamaño de letra tamaño 16 y en negrita.\n",
    "- Las medidas, la frecuencia relativa y relativa acumulada deben tener solo un decimal más que los datos originales."
   ]
  },
  {
   "cell_type": "markdown",
   "metadata": {},
   "source": [
    "- #### **Entradas :** "
   ]
  },
  {
   "cell_type": "code",
   "execution_count": 2,
   "metadata": {},
   "outputs": [],
   "source": [
    "# 1. i_clases: Lista de los intérvalos de clase guardadas en tuplas.\n",
    "r_clases=[[-7.72, -3.846], [-3.846, 0.028], [0.028, 3.902], [3.902, 7.776], [7.776, 11.65]]\n",
    "# 2. tabla: Tupla con las listas de las frecuencias (absoluta, relativa, absoluta acumulada, relativa acumulada.\n",
    "tabla= ([3.0, 28.0, 45.0, 21.0, 3.0], [0.03, 0.28, 0.45, 0.21, 0.03], [3.0, 31.0, 76.0, 97.0, 100.0], [0.03, 0.31, 0.76, 0.97, 1.0])\n",
    "# 3. r_medidas: Tupla con los resultados de las medidas de centramiento y dispersión\n",
    "r_medidas= (1.7529, 2.1799999999999997, [-1.8, -0.73, 2.95, 4.29], 3.107965099644148, 19.37, 9.65944706060606)\n",
    "# 4. archivo: Nombre del archivo de datos\n",
    "archivo='test_d1.txt'"
   ]
  },
  {
   "cell_type": "markdown",
   "metadata": {},
   "source": [
    "- #### **Salidas :** \n",
    "\n",
    "**1. Resultados_Archivo.xlsx:** Archivo de excel con los resultados de las medidas de centramiento y dispersión en la hoja 1, y la tabla de frecuencias en la hoja 2."
   ]
  },
  {
   "cell_type": "markdown",
   "metadata": {},
   "source": [
    "- #### **Código :** \n",
    "Complete la función para convertir las entradas en las salidas, ingrese al [material de apoyo](#material \"Ir al material de apoyo\") para ver los ejemplos que lo pueden guiar, una vez terminada ejecútela y compare  el archivo R_Prueba_test_d1.xlsx ubicado en la carpeta R_Pruebas."
   ]
  },
  {
   "cell_type": "code",
   "execution_count": null,
   "metadata": {},
   "outputs": [],
   "source": [
    "# Importar aquí los módulos necesarios\n",
    "\n",
    "# f. Guardar archivo de resultados.xlsx\n",
    "def resultados (clases,tabla,r_medidas,archivo): \n",
    "    \"\"\"\n",
    "    Crear y guardar el archivo.xls con los resultados del pograma en la carpeta Resultados.\n",
    "    \"\"\"\n",
    "    # Escriba aquí el código:\n",
    "    \n",
    "    return None "
   ]
  },
  {
   "cell_type": "markdown",
   "metadata": {},
   "source": [
    "- #### **Prueba :** <a id='prueba'></a>\n",
    "Ejecute la celda de entradas y luego la siguiente celda, finalmente compruebe si la carpeta Resultados esta el archivo Resultados_test_d1.xls con el contenido correcto, si es así pase la función [aquí](../../Programa/Tabla_de_Frecuencias.py)"
   ]
  },
  {
   "cell_type": "code",
   "execution_count": 3,
   "metadata": {},
   "outputs": [],
   "source": [
    "# Prueba de salidas\n",
    "resultados (r_clases,tabla,r_medidas,archivo)"
   ]
  },
  {
   "cell_type": "markdown",
   "metadata": {},
   "source": [
    "## Material de Apoyo <a id='material'></a>"
   ]
  },
  {
   "cell_type": "markdown",
   "metadata": {},
   "source": [
    "- [Crear carpetas](../../../../7_Lectura_y_Escritura/7_Lectura_y_Escritura.ipynb#Carpetas \"Ir a la sección Creación de carpetas de carpetas.\")\n",
    "\n",
    "- [Escribir Archivos.xlsx](../../../../7_Lectura_y_Escritura/7_Lectura_y_Escritura.ipynb#xlsx \"Ir a la sección de creación de archivos en Excel.\")"
   ]
  },
  {
   "cell_type": "markdown",
   "metadata": {},
   "source": [
    "---\n",
    "| [**Plantilla principal**](../Plantilla_TF.ipynb \"Volver a la plantilla del programa principal\")|\n",
    "| :--------: |"
   ]
  }
 ],
 "metadata": {
  "kernelspec": {
   "display_name": "Python 3",
   "language": "python",
   "name": "python3"
  },
  "language_info": {
   "codemirror_mode": {
    "name": "ipython",
    "version": 3
   },
   "file_extension": ".py",
   "mimetype": "text/x-python",
   "name": "python",
   "nbconvert_exporter": "python",
   "pygments_lexer": "ipython3",
   "version": "3.7.4"
  }
 },
 "nbformat": 4,
 "nbformat_minor": 4
}
