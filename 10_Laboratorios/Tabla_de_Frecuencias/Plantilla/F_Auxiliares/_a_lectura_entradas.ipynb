{
 "cells": [
  {
   "cell_type": "markdown",
   "metadata": {},
   "source": [
    "![Fig3_Encabezado.png](../../../../Fig3_Encabezado.png)\n",
    "\n",
    "---"
   ]
  },
  {
   "cell_type": "markdown",
   "metadata": {},
   "source": [
    "## a. Leer y almacenar datos (lectura_entradas)\n",
    "\n",
    "- #### **Objetivo :** \n",
    "    Almacenar el contenido del [archivo de entradas](test_2.txt \"Ver archivo de entradas\") en una lista de archivos, lista de números de clases y lista de colores. Si el color indicado es 'a' el programa debe escoger el color de forma aleatoria.\n",
    "\n",
    "- #### **Entradas :** \n",
    "~~~python\n",
    "archivo_entradas='test_2.txt'\n",
    "~~~\n",
    "\n",
    "- #### **Salidas :** \n",
    "~~~python\n",
    "l_archivos= ['test_d2.txt', 'test_d1.txt']   \n",
    "l_k= [7, 5] \n",
    "l_colores=[aleatorio, 'dodgerblue']  \n",
    "~~~"
   ]
  },
  {
   "cell_type": "markdown",
   "metadata": {},
   "source": [
    "- #### **Código :** \n",
    "Complete la función para convertir las entradas en las salidas, ingrese al [material de apoyo](#material \"Ir al material de apoyo\") para ver los ejemplos que lo pueden guiar, una vez terminada ejecútela y pruébela [aquí](#test)."
   ]
  },
  {
   "cell_type": "code",
   "execution_count": null,
   "metadata": {},
   "outputs": [],
   "source": [
    "# Importar aquí los módulos necesarios\n",
    "\n",
    "# a. Leer y almacenar archivo de entradas\n",
    "def lectura_entradas (archivo_entradas): \n",
    "    \"\"\"\n",
    "    Almacenar el contenido del [archivo de entradas](Ej_Entradas.txt \"Ver archivo de entradas\") \n",
    "    en una lista de archivos, lista de números de clases y lista de colores. \n",
    "    Si el color indicado es 'a' el programa debe escoger el color de forma aleatoria.\n",
    "    \"\"\"\n",
    "    \n",
    "    # Lista de colores\n",
    "    c=['aquamarine', 'bisque', 'blue', 'blueviolet', 'brown', 'burlywood', 'chartreuse', 'chocolate', 'coral', 'cornflowerblue', 'crimson', 'cyan', 'dgreen', 'lightblue', 'lightcoral', 'lightgreen', 'lightgrey', 'lightpink', 'lightsalmon', 'lightseagreen', 'lightslategrey', 'lime', 'limegreen', 'magenta', 'maroon', 'mediumaquamarine', 'mediumblue', 'mediumorchid', 'mediumpurple', 'mediumseagreen', 'mediumslateblue', 'mediumspringgreen', 'mediumturquoise', 'mediumvioletred', 'midnightblue', 'moccasin', 'navajowhite', 'navy', 'olive', 'olivedrab', 'orange', 'orangered', 'orchid', 'palegoldenrod', 'palegreen', 'paleturquoise', 'palevioletred', 'peachpuff', 'peru', 'pink', 'plum', 'purple', 'rebeccapurple', 'red', 'rosybrown', 'royalblue', 'saddlebrown', 'salmon', 'sandybrown', 'seagreen', 'sienna', 'skyblue', 'slateblue', 'slategrey', 'springgreen', 'steelblue', 'tan', 'teal', 'thistle', 'tomato', 'turquoise', 'violet', 'wheat', 'yellow', 'yellowgreen']\n",
    "    \n",
    "    # Escriba aquí el código:\n",
    "    \n",
    "    return (l_archivos,l_k,l_colores)"
   ]
  },
  {
   "cell_type": "markdown",
   "metadata": {},
   "source": [
    "- #### **Prueba :** <a id='test'></a>\n",
    "Ejecute la siguiente celda para probar la función, si es correcta, pásela [aquí](../../Programa/Tabla_de_Frecuencias.py)"
   ]
  },
  {
   "cell_type": "code",
   "execution_count": null,
   "metadata": {},
   "outputs": [],
   "source": [
    "import sys\n",
    "sys.path.append(\"../../Programa/Testing\")\n",
    "from testing_TF import test_lectura_entradas\n",
    "\n",
    "test_lectura_entradas(lectura_entradas)"
   ]
  },
  {
   "cell_type": "markdown",
   "metadata": {},
   "source": [
    "## Material de Apoyo <a id='material'></a>"
   ]
  },
  {
   "cell_type": "markdown",
   "metadata": {},
   "source": [
    "- [Lectura de bases de datos](../../../../7_Lectura_y_Escritura/7_Lectura_y_Escritura.ipynb#ME_BDatos \"Ir al Mini_Ejemplo Almacenar base de datos del capítulo de Lectura de archivos\")\n",
    "\n",
    "- [Manejo de listas y tuplas](../../../../5_Estructura_de_Datos/5_Estructura_de_Datos.ipynb#5_Estructura-de-Datos-Basicas \"Ir al capítulo de Estructuras de datos\")"
   ]
  },
  {
   "cell_type": "markdown",
   "metadata": {},
   "source": [
    "---\n",
    "| [**Plantilla pirncipal**](../Plantilla_TF.ipynb \"Volver a la plantilla del programa principal\")|\n",
    "| :--------: |"
   ]
  }
 ],
 "metadata": {
  "kernelspec": {
   "display_name": "Python 3",
   "language": "python",
   "name": "python3"
  },
  "language_info": {
   "codemirror_mode": {
    "name": "ipython",
    "version": 3
   },
   "file_extension": ".py",
   "mimetype": "text/x-python",
   "name": "python",
   "nbconvert_exporter": "python",
   "pygments_lexer": "ipython3",
   "version": "3.7.4"
  }
 },
 "nbformat": 4,
 "nbformat_minor": 4
}
