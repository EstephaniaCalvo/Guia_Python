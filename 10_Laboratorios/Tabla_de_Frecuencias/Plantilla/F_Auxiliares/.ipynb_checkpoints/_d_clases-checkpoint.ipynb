{
 "cells": [
  {
   "cell_type": "markdown",
   "metadata": {},
   "source": [
    "## d. Definir las clases (clases)\n",
    "\n",
    "- #### **Objetivo :**\n",
    "    Calcular los intervalos de las clases a partir de los datos y número de clases indicados. Tenga en cuenta que los intervalos deben tener un decimal más que los datos originales.\n",
    "\n",
    "- #### **Entradas :** \n",
    "\n",
    "    **1. data:** Lista con los datos convertidos a flotante.     \n",
    "    **2. k:** Número de clases para calcular la tabla de frecuencias.      "
   ]
  },
  {
   "cell_type": "code",
   "execution_count": null,
   "metadata": {},
   "outputs": [],
   "source": [
    "data= [0.27, 4.29, -7.72, 2.87, -1.12, -2.6, 2.97, 3.55, 1.81, -1.33, 2.6, 0.93, 5.07, -1.8, 0.52, 2.7, 5.53, 1.2, 6.64, 0.23, 3.71, 3.61, 2.36, 4.01, 2.23, 4.5, 1.5, 2.84, -2.74, -0.56, 1.74, 3.37, 2.98, 5.27, -0.73, -2.34, 1.89, -4.35, 1.2, 4.07, 2.35, 3.76, -0.73, 2.48, -0.25, 2.13, 0.0, 2.95, -1.87, 5.42, 2.95, 1.14, 3.67, -3.81, -3.13, 3.64, 2.46, 4.55, -3.79, -4.41, -0.29, 4.33, 8.78, 0.26, -0.2, -0.39, 0.57, -0.63, 3.62, -3.6, 0.1, 1.55, 8.24, 4.79, -0.11, 4.54, 6.52, 4.57, 4.29, -0.13, 1.67, 2.56, 1.42, -0.14, 6.27, 3.16, -1.13, 3.74, 4.04, -0.27, 1.78, -1.39, 11.65, 2.94, -2.68, -1.85, 4.17, 2.4, 4.85, 4.61]\n",
    "k=5"
   ]
  },
  {
   "cell_type": "markdown",
   "metadata": {},
   "source": [
    "- #### **Salidas :** \n",
    "\n",
    "    **1. i_clases:** Lista de los intervalos de clase guardados en tuplas.  \n",
    "~~~python\n",
    "i_clases= [[-7.72, -3.846], [-3.846, 0.028], [0.028, 3.902], [3.902, 7.776], [7.776, 11.65]]\n",
    "~~~"
   ]
  },
  {
   "cell_type": "markdown",
   "metadata": {},
   "source": [
    "- #### **Código :** \n",
    "Complete la función para convertir las entradas en las salidas, ingrese al [material de apoyo](#material \"Ir al material de apoyo\") para ver los ejemplos que lo pueden guiar, una vez terminada ejecútela y pruébela [aquí](#test)."
   ]
  },
  {
   "cell_type": "code",
   "execution_count": null,
   "metadata": {},
   "outputs": [],
   "source": [
    "# Importar aquí los módulos necesarios\n",
    "\n",
    "#d. Definir las clases\n",
    "def clases (data, k):\n",
    "    \"\"\"\n",
    "    Calcula los intervalos de las clases a partir de los datos y, rango, y número de clases indicados. \n",
    "    Los intervalos deben tener un decimal más que los datos originales.\n",
    "    \"\"\"\n",
    "    # Escriba aquí el código:\n",
    "\n",
    "    return r_clases"
   ]
  },
  {
   "cell_type": "markdown",
   "metadata": {},
   "source": [
    "- #### **Prueba :** <a id='test'></a>\n",
    "Ejecute la siguiente celda para probar la función, si es correcta, pásela [aquí](../../Programa/Tabla_de_Frecuencias.py)"
   ]
  },
  {
   "cell_type": "code",
   "execution_count": null,
   "metadata": {},
   "outputs": [],
   "source": [
    "import sys\n",
    "sys.path.append(\"../../Programa/Testing\")\n",
    "from testing_TF import test_clases\n",
    "\n",
    "test_clases(clases)"
   ]
  },
  {
   "cell_type": "markdown",
   "metadata": {},
   "source": [
    "## Material de Apoyo <a id='material'></a>"
   ]
  },
  {
   "cell_type": "markdown",
   "metadata": {},
   "source": [
    "- [Histograma](../../../../../8_Graficos/8_Graficos.ipynb#Min-eje_Histograma \"Ir al capitulo de Estructuras de datos\")    \n",
    "- [Matrices](../../../../../5_Estructura_de_Datos/5_Estructura_de_Datos.ipynb#5.1.3.1_Matrices \"Ir al capítulo de Estructuras de datos\")     "
   ]
  },
  {
   "cell_type": "markdown",
   "metadata": {},
   "source": [
    "---\n",
    "| [**Plantilla pirncipal**](../Plantilla_TF.ipynb \"Volver a la plantilla del programa principal\")|\n",
    "| :--------: |"
   ]
  }
 ],
 "metadata": {
  "kernelspec": {
   "display_name": "Python 3",
   "language": "python",
   "name": "python3"
  },
  "language_info": {
   "codemirror_mode": {
    "name": "ipython",
    "version": 3
   },
   "file_extension": ".py",
   "mimetype": "text/x-python",
   "name": "python",
   "nbconvert_exporter": "python",
   "pygments_lexer": "ipython3",
   "version": "3.7.4"
  }
 },
 "nbformat": 4,
 "nbformat_minor": 4
}
