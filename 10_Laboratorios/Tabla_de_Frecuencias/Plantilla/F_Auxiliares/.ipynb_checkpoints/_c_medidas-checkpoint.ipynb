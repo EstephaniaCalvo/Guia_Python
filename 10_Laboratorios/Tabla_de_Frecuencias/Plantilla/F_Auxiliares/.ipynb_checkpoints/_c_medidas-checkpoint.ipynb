{
 "cells": [
  {
   "cell_type": "markdown",
   "metadata": {},
   "source": [
    "![Fig3_Encabezado.png](../../../../Fig3_Encabezado.png)\n",
    "\n",
    "---"
   ]
  },
  {
   "cell_type": "markdown",
   "metadata": {},
   "source": [
    "## c. Calcular las medidas de centramiento y dispersión (medidas)\n",
    "\n",
    "- #### **Objetivo :**\n",
    "    Calcula las medidas de centramiento y dispersión de una lista de datos.\n",
    "    **Nota:** En los casos en que exista una moda múltiple se debe generar una lista que contenga todas las modas.\n",
    "\n",
    "- #### **Entradas :** \n",
    "\n",
    "    **1. data:** Lista con los datos convertidos a flotante."
   ]
  },
  {
   "cell_type": "code",
   "execution_count": null,
   "metadata": {},
   "outputs": [],
   "source": [
    "data= [0.27, 4.29, -7.72, 2.87, -1.12, -2.6, 2.97, 3.55, 1.81, -1.33, 2.6, 0.93, 5.07, -1.8, 0.52, 2.7, 5.53, 1.2, 6.64, 0.23, 3.71, 3.61, 2.36, 4.01, 2.23, 4.5, 1.5, 2.84, -2.74, -0.56, 1.74, 3.37, 2.98, 5.27, -0.73, -2.34, 1.89, -4.35, 1.2, 4.07, 2.35, 3.76, -0.73, 2.48, -0.25, 2.13, 0.0, 2.95, -1.87, 5.42, 2.95, 1.14, 3.67, -3.81, -3.13, 3.64, 2.46, 4.55, -3.79, -4.41, -0.29, 4.33, 8.78, 0.26, -0.2, -0.39, 0.57, -0.63, 3.62, -3.6, 0.1, 1.55, 8.24, 4.79, -0.11, 4.54, 6.52, 4.57, 4.29, -0.13, 1.67, 2.56, 1.42, -0.14, 6.27, 3.16, -1.13, 3.74, 4.04, -0.27, 1.78, -1.39, 11.65, 2.94, -2.68, -1.85, 4.17, 2.4, 4.85, 4.61]"
   ]
  },
  {
   "cell_type": "markdown",
   "metadata": {},
   "source": [
    "- #### **Salidas :** \n",
    "\n",
    "    **1. r_medidas:** Tupla con los resultados de las medidas de centramiento y dispersión, en el siguiente orden: media, mediana, moda, desviacion, rango y varianza.\n",
    "~~~python\n",
    "r_medidas= (1.7529, 2.1799999999999997, [-1.8, -0.73, 2.95, 4.29], 3.107965099644148, 19.37, 9.65944706060606)\n",
    "~~~\n",
    "\n",
    "- #### **Código :** \n",
    "Complete la función para convertir las entradas en las salidas, ingrese al [material de apoyo](#material \"Ir al material de apoyo\") para ver los ejemplos que lo pueden guiar, una vez terminada ejecútela y pruébela [aquí](#test)."
   ]
  },
  {
   "cell_type": "code",
   "execution_count": null,
   "metadata": {},
   "outputs": [],
   "source": [
    "# Importar aquí los módulos necesarios\n",
    "\n",
    "#Calcular las medidas de centramiento y dispersión\n",
    "def medidas (data):\n",
    "    \"Calcular las medidas de centramiento y dispersión de una lista de datos.\"\n",
    "    \n",
    "    # Escriba aquí el código:\n",
    "   \n",
    "    return(r_medidas)"
   ]
  },
  {
   "cell_type": "markdown",
   "metadata": {},
   "source": [
    "- #### **Prueba :** <a id='test'></a>\n",
    "Ejecute la siguiente celda para probar la función, si es correcta, pásela [aquí](../../Programa/Tabla_de_Frecuencias.py)"
   ]
  },
  {
   "cell_type": "code",
   "execution_count": null,
   "metadata": {},
   "outputs": [],
   "source": [
    "import sys\n",
    "sys.path.append(\"../../Programa/Testing\")\n",
    "from testing_TF import test_medidas\n",
    "try:\n",
    "    test_medidas(medidas)\n",
    "except(statistics.StatisticsError):\n",
    "    print(\"Hay un error al calcular la moda múltiple.\\nRecuerde que la función 'statistics.mode' solo funciona para la moda única.\")\n"
   ]
  },
  {
   "cell_type": "markdown",
   "metadata": {},
   "source": [
    "## Material de Apoyo <a id='material'></a>"
   ]
  },
  {
   "cell_type": "markdown",
   "metadata": {},
   "source": [
    "- [Cálculo de medidas](../../../../../9_Modulos/9_Modulos_y_Paquetes.ipynb#Min-eje_Modulos_propios \"Ir al Mini_Ejemplo: Módulos propios\")\n",
    "- [Manejo de listas y tuplas](../../../../../5_Estructura_de_Datos/5_Estructura_de_Datos.ipynb#5_Estructura-de-Datos-Basicas \"Ir al capítulo de Estructuras de datos\")\n",
    "- [Módulo statistics](../../../../../9_Modulos/9_Modulos_y_Paquetes.ipynb#9.3_Libreria-Estandar \"Ir al capítulo de Estructuras de datos\")"
   ]
  },
  {
   "cell_type": "markdown",
   "metadata": {},
   "source": [
    "---\n",
    "| [**Plantilla pirncipal**](../Plantilla_TF.ipynb \"Volver a la plantilla del programa principal\")|\n",
    "| :--------: |"
   ]
  }
 ],
 "metadata": {
  "kernelspec": {
   "display_name": "Python 3",
   "language": "python",
   "name": "python3"
  },
  "language_info": {
   "codemirror_mode": {
    "name": "ipython",
    "version": 3
   },
   "file_extension": ".py",
   "mimetype": "text/x-python",
   "name": "python",
   "nbconvert_exporter": "python",
   "pygments_lexer": "ipython3",
   "version": "3.7.4"
  }
 },
 "nbformat": 4,
 "nbformat_minor": 4
}
