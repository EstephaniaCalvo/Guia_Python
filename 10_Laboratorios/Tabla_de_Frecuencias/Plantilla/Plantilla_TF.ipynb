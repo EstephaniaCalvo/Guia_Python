{
 "cells": [
  {
   "cell_type": "markdown",
   "metadata": {},
   "source": [
    "![Fig3_Encabezado.png](../../../Fig3_Encabezado.png)\n",
    "\n",
    "---"
   ]
  },
  {
   "cell_type": "markdown",
   "metadata": {},
   "source": [
    "## Plantilla - Tabla de Frecuencias <a id=\"plantilla\"></a>"
   ]
  },
  {
   "cell_type": "markdown",
   "metadata": {},
   "source": [
    "### **-2. Importar módulos**"
   ]
  },
  {
   "cell_type": "code",
   "execution_count": 1,
   "metadata": {},
   "outputs": [],
   "source": [
    "# Importe aquí todos los módulos que necesite"
   ]
  },
  {
   "cell_type": "markdown",
   "metadata": {},
   "source": [
    "### **-1. Funciones auxiliares**"
   ]
  },
  {
   "cell_type": "markdown",
   "metadata": {},
   "source": [
    "<a id='lectura_entradas'></a>\n",
    "#### a. Leer y almacenar archivo de entradas ([lectura_entradas](F_Auxiliares/_a_lectura_entradas.ipynb \"Ir a la plantilla de lectura_entradas\"))"
   ]
  },
  {
   "cell_type": "markdown",
   "metadata": {},
   "source": [
    "<a id='lectura_datos'></a>\n",
    "#### b. Leer y almacenar datos ([lectura_datos](F_Auxiliares/_b_lectura_datos.ipynb \"Ir a la plantilla de lectura_datos\"))"
   ]
  },
  {
   "cell_type": "markdown",
   "metadata": {},
   "source": [
    "<a id='medidas'></a>\n",
    "#### c. Calcular las medidas de centramiento y dispersión ([medidas](F_Auxiliares/_c_medidas.ipynb \"Ir a la plantilla de medidas\"))"
   ]
  },
  {
   "cell_type": "markdown",
   "metadata": {},
   "source": [
    "<a id='clases'></a>\n",
    "#### d. Definir las clases ([clases](F_Auxiliares/_d_clases.ipynb \"Ir a la plantilla de clases\"))"
   ]
  },
  {
   "cell_type": "markdown",
   "metadata": {},
   "source": [
    "<a id='resultados'></a>\n",
    "#### e. Calcular las frecuencias ([frecuencias](F_Auxiliares/_e_frecuencias.ipynb \"Ir a la plantilla de frecuencias\"))"
   ]
  },
  {
   "cell_type": "markdown",
   "metadata": {},
   "source": [
    "<a id='resultados'></a>\n",
    "#### f. Guardar archivo de resultados.xlsx ([resultados](F_Auxiliares/_f_resultados.ipynb \"Ir a la plantilla de resultados\"))"
   ]
  },
  {
   "cell_type": "markdown",
   "metadata": {},
   "source": [
    "<a id='histograma'></a>\n",
    "#### g. Hacer el histograma ([histograma](F_Auxiliares/_g_histograma.ipynb \"Ir a la plantilla de histograma\"))"
   ]
  },
  {
   "cell_type": "markdown",
   "metadata": {},
   "source": [
    "<a id='hist_comparativo'></a>\n",
    "#### h. Hacer el histograma comparativo ([hist_comparativo](F_Auxiliares/_h_hist_comparativo.ipynb \"Ir a la plantilla de hist_comparativo\"))"
   ]
  },
  {
   "cell_type": "markdown",
   "metadata": {},
   "source": [
    "### **0. Programa principal** [Tabla_de_Frecuencias](../Programa/Tabla_de_Frecuencias.py)"
   ]
  },
  {
   "cell_type": "code",
   "execution_count": null,
   "metadata": {},
   "outputs": [],
   "source": [
    "def main():\n",
    "    \"\"\"\n",
    "    Hacer un programa que, al ingresar uno o varios archivos de datos, asociados a un número de clase, y a un color, \n",
    "    calcule y guarde para cada paquete de datos las medidas de centramiento y dispersión, la tabla de frecuencias, \n",
    "    y su histograma.\n",
    "    \"\"\"\n",
    "    \n",
    "    \"0. Pedir y leer archivo de entradas\"\n",
    "\n",
    "    # Crear una lista vacía para almacenar las listas de datos.\n",
    "    \n",
    "    \"Realizar el algoritmo de tabla de frecuencias e histograma\"\n",
    "    # Por cada archivo de entradas haga:\n",
    "    \n",
    "        # Crear variable para almacenar el nombre del archivo actual.\n",
    "        # Crear variable para almacenar el número de clase actual.\n",
    "        \n",
    "        \"1. Leer y almacenar los datos.\"\n",
    "        \n",
    "        \"2. Calcular las medidas de centramiento y dispersión\"\n",
    "\n",
    "        # Extraer el rango.\n",
    "        \n",
    "        \"3. Crear la tabla de frecuencias\"  \n",
    "        \n",
    "        \"3.1. Definir las clases\"\n",
    "\n",
    "        \"3.2. Calcular las frecuencias\"\n",
    "\n",
    "        # Extraer la frecuencia absoluta.\n",
    "        \n",
    "        \"4. Crear y guardar el archivo.xlc con los resultados\"\n",
    "\n",
    "        \n",
    "        \"5. Crear y guardar el histograma\"\n",
    "\n",
    "        \n",
    "    \"6. Crear y guardar histograma comparativo\"\n",
    "    \n",
    "    # Si hay más de un archivo de datos:\n",
    "        # Crear, mostrar y guardar histograma comparativo\n",
    "        \n",
    "if __name__=='__main__':\n",
    "    main()"
   ]
  },
  {
   "cell_type": "markdown",
   "metadata": {},
   "source": [
    "---\n",
    "| [**Home**](../Tabla_de_Frecuencias.ipynb \"Ir a la página principal del algoritmo\")| - | [**Prácticas**](../Practicas/Practicas_TF.ipynb \"Ir a la página de las prácticas\")|\n",
    "| :--------: | :-------: | :--------: |"
   ]
  }
 ],
 "metadata": {
  "kernelspec": {
   "display_name": "Python 3",
   "language": "python",
   "name": "python3"
  },
  "language_info": {
   "codemirror_mode": {
    "name": "ipython",
    "version": 3
   },
   "file_extension": ".py",
   "mimetype": "text/x-python",
   "name": "python",
   "nbconvert_exporter": "python",
   "pygments_lexer": "ipython3",
   "version": "3.7.4"
  }
 },
 "nbformat": 4,
 "nbformat_minor": 4
}
