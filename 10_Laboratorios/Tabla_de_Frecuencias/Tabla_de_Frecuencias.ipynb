{
 "cells": [
  {
   "cell_type": "markdown",
   "metadata": {},
   "source": [
    "![Fig3_Encabezado.png](../../Fig3_Encabezado.png)\n",
    "\n",
    "---"
   ]
  },
  {
   "cell_type": "markdown",
   "metadata": {},
   "source": [
    "# **Tabla de Frecuencias**"
   ]
  },
  {
   "cell_type": "markdown",
   "metadata": {},
   "source": [
    "## **Índice**\n",
    "\n",
    "- [Descripción](#descripcion)\n",
    "- [Ejemplo](Ejemplo/Ejemplo_TF.ipynb#ejemplo)\n",
    "- [Análisis del problema](Programa/Analisis.ipynb \"Ir al análisis del problema\")\n",
    "- [Plantilla](Plantilla/Plantilla_TF.ipynb \"Ir a la plantilla del programa\")\n",
    "- [Código del Programa](Programa/Tabla_de_Frecuencias.py \"Ir a archivo del programa\") \n",
    "- [Instrucciones del programa](Programa/Instrucciones.ipynb \"Ir a las instrucciones del programa\")\n",
    "- [Prácticas](Practicas/Practicas_TF.ipynb)\n",
    "- [Testing](Programa/Testing/Testing_TF.ipynb \"Ir archivo de Testing\")"
   ]
  },
  {
   "cell_type": "markdown",
   "metadata": {},
   "source": [
    "### **Descripción** <a id=\"descripcion\"></a>"
   ]
  },
  {
   "cell_type": "markdown",
   "metadata": {},
   "source": [
    "Es una herramienta de la estadística descriptiva que permite organizar un conjunto de datos o muestra mediante la distribución de sus frecuencias absoluta y relativa, tanto para variables cuantitativas como cualitativas ordinales y datos individuales o agrupados.\n",
    "\n",
    "**Nota:** La tabla de frecuncias que debe generar el programa será para variables cuantitativas y datos agrupados.\n",
    "\n",
    "Una tabla de frecuencias está compuesta por:\n",
    "\n",
    "- Calses o intervalos\n",
    "- Frecuencia absoluta ( FA )\n",
    "- Frecuencia absoluta acumulada ( FAA )\n",
    "- Frecuencia relativa acumulada ( FR) \n",
    "- Frecuciena realtiva acumulada ( FRA )\n",
    "\n",
    "El análisis de una tabla de frecuencias normalmente se complementa con el histograma, las medidas de centramiento y dispersión.\n",
    "\n",
    "Las medidas de centramiento más comunes son:\n",
    "- La media\n",
    "- La mediana\n",
    "- La moda\n",
    "\n",
    "    Nota: La moda puede ser múltiple como muestra el siguiente ejemplo.\n",
    "    \n",
    "Las medidas de dispersión más comunes son:\n",
    "- El rango\n",
    "- La desviación estándar\n",
    "- La varianza."
   ]
  },
  {
   "cell_type": "markdown",
   "metadata": {},
   "source": [
    "<a id=\"programa\"></a>\n",
    "### **Programa**"
   ]
  },
  {
   "cell_type": "markdown",
   "metadata": {},
   "source": [
    "\n",
    "- **Recomendación**: Lea las [instrucciones del programa](Programa/Instrucciones.ipynb \"Ir a las instrucciones del programa\") antes de usarlo."
   ]
  },
  {
   "cell_type": "code",
   "execution_count": null,
   "metadata": {},
   "outputs": [],
   "source": [
    "try:\n",
    "    %matplotlib inline\n",
    "    import os\n",
    "\n",
    "    os.chdir(\"Programa\")\n",
    "    from Tabla_de_Frecuencias import main\n",
    "    os.chdir(\"../\")\n",
    "\n",
    "    main()\n",
    "except(FileNotFoundError):\n",
    "    print(\"No se encuentra el archivo indicado.\")\n",
    "except(Exception):\n",
    "    print(\"El programa no se ha podido ejecutar correctamente\")"
   ]
  },
  {
   "cell_type": "markdown",
   "metadata": {},
   "source": [
    "| [**Home**](../../Home.ipynb#Home) <!--(https://www.python.org/Programas-en-Python)--> |\n",
    "| :--------: |"
   ]
  }
 ],
 "metadata": {
  "kernelspec": {
   "display_name": "Python 3",
   "language": "python",
   "name": "python3"
  },
  "language_info": {
   "codemirror_mode": {
    "name": "ipython",
    "version": 3
   },
   "file_extension": ".py",
   "mimetype": "text/x-python",
   "name": "python",
   "nbconvert_exporter": "python",
   "pygments_lexer": "ipython3",
   "version": "3.7.4"
  }
 },
 "nbformat": 4,
 "nbformat_minor": 4
}
