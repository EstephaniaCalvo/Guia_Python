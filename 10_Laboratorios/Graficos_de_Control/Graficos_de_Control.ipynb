{
 "cells": [
  {
   "cell_type": "markdown",
   "metadata": {},
   "source": [
    "![Fig3_Encabezado.png](../../Fig3_Encabezado.png)\n",
    "\n",
    "---"
   ]
  },
  {
   "cell_type": "markdown",
   "metadata": {},
   "source": [
    "# **Gráficos de control (x̄ - σ)**"
   ]
  },
  {
   "cell_type": "markdown",
   "metadata": {},
   "source": [
    "## **Índice**\n",
    "\n",
    "- [Descripción](#descripcion)\n",
    "- [Ejemplo](Ejemplo/Ejemplo_GC.ipynb#ejemplo)\n",
    "- [Análisis del problema](Programa/Analisis.ipynb \"Ir al análisis del problema\")\n",
    "- [Plantilla](Plantilla/Plantilla_GC.ipynb \"Ir a la plantilla del programa\")\n",
    "- [Código del Programa](Programa/Graficos_de_Control.py \"Ir a archivo del programa\") \n",
    "- [Prácticas](Practicas/Practicas_GC.ipynb)"
   ]
  },
  {
   "cell_type": "markdown",
   "metadata": {},
   "source": [
    "### **Descripción** <a id=\"descripcion\"></a>"
   ]
  },
  {
   "cell_type": "markdown",
   "metadata": {},
   "source": [
    "Una gráfica de control es un diagrama que sirve para identificar si un proceso se comporta de una manera estable (bajo control) o está fuera de control. Está compuesto por:\n",
    "-\tLímite de control superior. \n",
    "-\tLínea a +2 sigmas de la línea central.\n",
    "-\tLínea a +1 sigma de la línea central.\n",
    "-\tLínea central.\n",
    "-\tLínea a -2 sigmas de la línea central.\n",
    "-\tLínea a -1 sigma de la línea central.\n",
    "-\tLímite de control inferior.\n",
    "![Descripcion/grafico.png](Descripcion/grafico.png)\n",
    "\n",
    "Existen varios tipos de gráficos de control dependiendo de lo que se necesite evaluar.\n",
    "\n",
    "- **Por Variables:**    \n",
    "    - **x̄:** Promedio.   \n",
    "    - **R:** Rango.   \n",
    "    - **σ:** Desviación estándar.    \n",
    "\n",
    "\n",
    "- **Por Atributos:**\n",
    "    - **p:** Porcentaje de defectuosos.\n",
    "    - **np:** Número de defectuosos por muestra.\n",
    "    - **c:** Número de defectos.\n",
    "    - **u:** Número de defectos por unidad."
   ]
  },
  {
   "cell_type": "markdown",
   "metadata": {},
   "source": [
    "### **Programa** <a id=\"programa\"></a>"
   ]
  },
  {
   "cell_type": "code",
   "execution_count": null,
   "metadata": {},
   "outputs": [],
   "source": [
    "%matplotlib inline\n",
    "try:\n",
    "    import os\n",
    "\n",
    "    os.chdir(\"Programa\")\n",
    "    from Graficos_de_Control import main\n",
    "    os.chdir(\"../\")\n",
    "\n",
    "    main()\n",
    "except(FileNotFoundError):\n",
    "    print(\"No se encuentra el archivo indicado.\")\n",
    "except(Exception):\n",
    "    print(\"El programa no se ha podido ejecutar correctamente\")"
   ]
  },
  {
   "cell_type": "markdown",
   "metadata": {},
   "source": [
    "| [**Home**](../../Home.ipynb#Home) <!--(https://www.python.org/Programas-en-Python)--> |\n",
    "| :--------: |"
   ]
  }
 ],
 "metadata": {
  "kernelspec": {
   "display_name": "Python 3",
   "language": "python",
   "name": "python3"
  },
  "language_info": {
   "codemirror_mode": {
    "name": "ipython",
    "version": 3
   },
   "file_extension": ".py",
   "mimetype": "text/x-python",
   "name": "python",
   "nbconvert_exporter": "python",
   "pygments_lexer": "ipython3",
   "version": "3.7.4"
  }
 },
 "nbformat": 4,
 "nbformat_minor": 4
}
