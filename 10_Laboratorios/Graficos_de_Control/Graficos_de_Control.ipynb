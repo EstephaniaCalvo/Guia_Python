{
 "cells": [
  {
   "cell_type": "markdown",
   "metadata": {},
   "source": [
    "![Fig3_Encabezado.png](../../Fig3_Encabezado.png)\n",
    "\n",
    "---"
   ]
  },
  {
   "cell_type": "markdown",
   "metadata": {},
   "source": [
    "# **Gráficos de control**"
   ]
  },
  {
   "cell_type": "markdown",
   "metadata": {},
   "source": [
    "## **Índice**\n",
    "\n",
    "- [Descripción](#descripcion)\n",
    "- [Ejemplo](Ejemplo/Ejemplo_GC.ipynb#ejemplo)\n",
    "- [Análisis del problema](Programa/Analisis.ipynb \"Ir al análisis del problema\")\n",
    "- [Plantilla](Plantilla/Plantilla_GC.ipynb \"Ir a la plantilla del programa\")\n",
    "- [Código del Programa](Programa/Graficos_de_Control.py \"Ir a archivo del programa\") \n",
    "- [Prácticas](Practicas/Practicas_GC.ipynb)"
   ]
  },
  {
   "cell_type": "markdown",
   "metadata": {},
   "source": [
    "### **Descripción** <a id=\"descripcion\"></a>"
   ]
  },
  {
   "cell_type": "markdown",
   "metadata": {},
   "source": [
    "Una gráfica de control es un diagrama que sirve para identificar si un proceso se comporta de una manera estable (bajo control) o esta fuera de control, está compuesto por los límites de control inferior y superior, el línia central y la medida de la variable que se está evaluando.\n",
    "\n",
    "![Descripcion/grafico.png](Descripcion/grafico.png)\n",
    "\n",
    "En un comporatamiento estable la variación del proceso es debida a causas inherentes al proceso y no por causas asignables, se dice que el proceso está fuera de control no solo cuando hay un punto fuera de los límites sino cuando se cumple alguno de estos casos:\n",
    "\n",
    "1. **Tendencias:** Se presentan cuando una serie de puntos siempre aumenta o disminuye con respecto al anterior, generando tendencias ascendentes o descendentes.\n",
    "\n",
    "**Nota:** La cantidad de puntos consecutivos dependen de cada proceso y del criterio del analísta. \n",
    "\n",
    "2. **Ciclos:** Cada intérvalo de de tiempo se presentan mediciones paracidas o una secuencia con el mismo comportamiento, las cuales se repiten a lo largo del gráfico.  \n",
    "3. **Estratificaciones:** Se presenta cuando los puntos se agrupan alrededor de la línea central o de la línea de control, existen tres casos para identificarlas.    \n",
    "    **A.** 15 puntos consecutivos a menos de una desviación típica\n",
    "    de la línea central.    \n",
    "    **B.** 8 puntos consecutivos entre una y dos desviaciones\n",
    "    típicas de la línea central.    \n",
    "    **C.** 2 puntos consecutivos a más de dos desviaciones típicas de la línea central.    \n",
    "4. **Secuencias:** Es una variación no natural, y que se asocia con la tendencia de del proceso a dar valores a un solo lado de la línea central.    \n",
    "    **I.** 8 puntos consecutivos a un mismo lado de la línea central.    \n",
    "    **II.** 10 de 11 puntos consecutivos a un mismo lado de la línea central.     \n",
    "    **III.** 12 de 14 puntos consecutivos a un mismo lado de la línea central.    \n",
    "    **IV.** 14 de 17 puntos consecutivos a un mismo lado de la línea central.    \n",
    "    **V.** 16 de 20 puntos consecutivos a un mismo lado de la línea central.    \n",
    "5. **Inestabilidad:**   Los puntos se manejan de una manera errática pasando de valores muy alto a muy bajos sin puntos intermiedios.\n",
    "\n",
    "Existen varios tipos de gráficos de control según la variable estadística que se quiera evaluar.\n",
    "\n",
    "- **Por Variables:**    \n",
    "    - **x̄:** Promedio.   \n",
    "    - **R:** Rango.   \n",
    "    - **σ:** Desviación estándar.    \n",
    "\n",
    "\n",
    "- **Por Atributos:**\n",
    "    - **p:** Porcentaje de defectuosos.\n",
    "    - **np:** Número de defectuosos por muestra.\n",
    "    - **c:** Número de defectos.\n",
    "    - **u:** Número de defectos por unidad."
   ]
  },
  {
   "cell_type": "markdown",
   "metadata": {},
   "source": [
    "### **Programa** <a id=\"programa\"></a>"
   ]
  },
  {
   "cell_type": "code",
   "execution_count": null,
   "metadata": {},
   "outputs": [],
   "source": [
    "%matplotlib inline\n",
    "try:\n",
    "    import os\n",
    "\n",
    "    os.chdir(\"Programa\")\n",
    "    from Graficos_de_Control import main\n",
    "    os.chdir(\"../\")\n",
    "\n",
    "    main()\n",
    "except(FileNotFoundError):\n",
    "    print(\"No se encuentra el archivo indicado.\")\n",
    "except(Exception):\n",
    "    print(\"El programa no se ha podido ejecutar correctamente\")"
   ]
  },
  {
   "cell_type": "markdown",
   "metadata": {},
   "source": [
    "| [**Home**](../../Home.ipynb#Home) <!--(https://www.python.org/Programas-en-Python)--> |\n",
    "| :--------: |"
   ]
  }
 ],
 "metadata": {
  "kernelspec": {
   "display_name": "Python 3",
   "language": "python",
   "name": "python3"
  },
  "language_info": {
   "codemirror_mode": {
    "name": "ipython",
    "version": 3
   },
   "file_extension": ".py",
   "mimetype": "text/x-python",
   "name": "python",
   "nbconvert_exporter": "python",
   "pygments_lexer": "ipython3",
   "version": "3.7.4"
  }
 },
 "nbformat": 4,
 "nbformat_minor": 4
}
