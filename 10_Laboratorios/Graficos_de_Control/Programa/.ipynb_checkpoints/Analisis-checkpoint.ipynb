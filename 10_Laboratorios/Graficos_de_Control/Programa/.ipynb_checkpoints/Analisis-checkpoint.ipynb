{
 "cells": [
  {
   "cell_type": "markdown",
   "metadata": {},
   "source": [
    "![Fig3_Encabezado.png](../../../Fig3_Encabezado.png)\n",
    "\n",
    "---------------------"
   ]
  },
  {
   "cell_type": "markdown",
   "metadata": {},
   "source": [
    "# **Análisis - Gráficos de Control**\n",
    "\n",
    "- ### Objetivo\n",
    "Hacer un programa que al ingresar un archivo con los datos históricos de un muestreo de una variable de proceso, calculé los límites y genere un gráfico de control. \n",
    "\n",
    "- ### Entradas\n",
    "    **1.** [EJ_GC_DH.txt](../Ejemplo/Ej_GC_DH.txt \"Ver archivo del ejemplo\") Archivo de texto.txt con los datos historicos de un muestreo de una variable de proceso.     \n",
    "   \n",
    "- ### Salidas\n",
    "    **0. Carpeta Resultados:** Carpeta en la misma ubicación del programa llamada \"Resultados\" para almacenar los resultados del programa.   \n",
    "    \n",
    "    **1. G_Control.png:** Imágen .png con el gráfico de control, listo para llegar.\n",
    "    \n",
    "    **2. Resultados.txt:** Archivos de texto con los límites de control para los gráficos (x̄- σ)\n",
    "    \n",
    "- ### Algoritmo  \n",
    "    1. Pedir y leer archivo con los datos.       \n",
    "    2. Calcular las variables estadísticas (x̄- σ).    \n",
    "    3. Calcular líneas centrales.      \n",
    "    4. Calcular límites de control.    \n",
    "    5. Mientras haya algún valor de x̄- σ por fuera de los límites calculados:    \n",
    "        5.1. Eliminar muestras por fuera de límites.     \n",
    "        5.2. Si la cantidad de datos es mayor o igual 30:     \n",
    "            5.2.1. Recalcular límites.      \n",
    "    6. Calcular líneas intermedias.\n",
    "    7. Crear y guardar el archivo con los límites de control y la líneas cáculadas. \n",
    "    8. Crear y guardar el gráfico de control.   "
   ]
  },
  {
   "cell_type": "markdown",
   "metadata": {},
   "source": [
    "---\n",
    "| [**Home**](../Graficos_de_Control.ipynb \"Ir a la página principal del algoritmo\")|\n",
    "| :--------: |"
   ]
  }
 ],
 "metadata": {
  "kernelspec": {
   "display_name": "Python 3",
   "language": "python",
   "name": "python3"
  },
  "language_info": {
   "codemirror_mode": {
    "name": "ipython",
    "version": 3
   },
   "file_extension": ".py",
   "mimetype": "text/x-python",
   "name": "python",
   "nbconvert_exporter": "python",
   "pygments_lexer": "ipython3",
   "version": "3.7.4"
  }
 },
 "nbformat": 4,
 "nbformat_minor": 4
}
