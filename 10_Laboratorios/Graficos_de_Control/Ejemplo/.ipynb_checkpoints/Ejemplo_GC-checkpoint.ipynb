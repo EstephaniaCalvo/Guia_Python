{
 "cells": [
  {
   "cell_type": "markdown",
   "metadata": {},
   "source": [
    "![Fig3_Encabezado.png](../../../Fig3_Encabezado.png)\n",
    "\n",
    "---"
   ]
  },
  {
   "cell_type": "markdown",
   "metadata": {},
   "source": [
    "## Ejemplo - Gráficos de Control  (x̄- σ) <a id=\"ejemplo\"></a>"
   ]
  },
  {
   "cell_type": "markdown",
   "metadata": {},
   "source": [
    "Suponga el siguiente conjunto de datos históricos\n",
    "[Ej_GC_DH.txt](Ej_GC_DH.txt).\n",
    "\n",
    "- **Datos Históricos:**    \n",
    "    ![datos_historicos.png](datos_historicos.png \"Datos históricos del ejemplo\")"
   ]
  },
  {
   "cell_type": "markdown",
   "metadata": {},
   "source": [
    "- #### **Solución** \n",
    "\n",
    "Los pasos para construir los gráficos de control (x̄- σ) son:\n",
    " \n",
    "**1.Cálculo de la variable.** Calcular el promedio **x̄** y la desviación **σ** de cada muestra.      \n",
    "![cal_variables.png](cal_variables.png)"
   ]
  },
  {
   "cell_type": "markdown",
   "metadata": {},
   "source": [
    "**2.Cálculo de líneas centrales.** Calcular el promedio de los valores de **x̄** y **σ**.  \n",
    "\n",
    "- **LCx̄** = 16.32    \n",
    "- **LCσ** = 1.25   \n",
    "\n",
    "**3.Cálculo de los límites de control.** Calcular los límites de control superior e inferior para cada variable.\n",
    "\n",
    "- Para x̄:\n",
    "\n",
    "    - **LCIx̄** = LCx̄ - ( A1 * LCσ ) = 16.32 - ( 1.427 * 1.25 ) = 14.54\n",
    "    - **LCSx̄** = LCx̄ + ( A1 * LCσ ) = 16.32 + ( 1.427 * 1.25 ) = 18.10\n",
    "    \n",
    "- Para σ:\n",
    "\n",
    "    - **LCIσ** = B3 * LCσ = 0 * 1.25 = 0\n",
    "    - **LCSσ** = B4 * LCσ = 2.089 * 1.25 = 2.60\n",
    "    \n",
    "Los valores A1, B3 y B4 son constantes que dependen del tamaño de muestra (en este caso 5), a continaución se encuentra la tabla hasta para un número de muestra igual a 15.\n",
    "\n",
    "|n|A1|B3|B4|\n",
    "|:---:|:---:|:---:|:---:|\n",
    "|2|2.569|0|3.267|\n",
    "|3|1.954|0|2.568|\n",
    "|4|1.628|0|2.266|\n",
    "|5|1.427|0|2.089|\n",
    "|6|1.287|0.03|1.97|\n",
    "|7|1.182|0.118|1.882|\n",
    "|8|1.099|0.185|1.815|\n",
    "|9|1.032|0.239|1.761|\n",
    "|10|0.975|0.284|1.716|\n",
    "|11|0.927|0.321|1.879|\n",
    "|12|0.886|0.354|1.646|\n",
    "|13|0.85|0.382|1.618|\n",
    "|14|0.817|0.406|1.594|\n",
    "|15|0.789|0.428|1.572|\n",
    "\n",
    "- **Ojo:** No confunda el tamaño de muestra con el número de datos, en el ejemplo el tamaño de muestra es 5 y el número de datos es 40, es decir, se sacaron 40 veces una muestra de tamaño 5.\n",
    "    "
   ]
  },
  {
   "cell_type": "markdown",
   "metadata": {},
   "source": [
    "**4.Recálculo de los Límites de Control.** En caso de que algún **x̄** o **σ** calculados en el punto 1 esté por fuera de los límites de control calculados en el punto 2 y 3, se debe eliminar se conjunto de datos y volver a calcular los límites.\n",
    "\n",
    "En el caso del ejemplo el dato 39 está por fuera de límites en la variable **x̄**, por lo tanto se debe eliminar esta muestra y recalcular los límites de control.\n",
    "\n",
    "![recal_variables.png](recal_variables.png)"
   ]
  },
  {
   "cell_type": "markdown",
   "metadata": {},
   "source": [
    "**Límites recalculados**\n",
    "\n",
    "- **LCx̄** = 16.37    \n",
    "- **LCIx̄** = 14.60\n",
    "- **LCSx̄** = 18.14\n",
    "\n",
    "\n",
    "- **LCσ**=1.24 \n",
    "- **LCIσ** = 0\n",
    "- **LCSσ** = 2.59\n",
    "\n",
    "En esta ronda todos los datos cumplen con los límites.\n",
    "\n",
    "**Nota:** Repetir este paso hasta que todos los datos estén dentro de los límites de control, en caso de solo quedar menos de 30 datos, no se puede construir el gráfico y se debe estabilizar el procesor y sacar nueva data."
   ]
  },
  {
   "cell_type": "markdown",
   "metadata": {},
   "source": [
    "**5.Calcular líneas intermedias**  Calcular líneas de control a una y dos deviaciones estándar.\n",
    "\n",
    "- rx= ( LCSx̄ - LCx̄ ) / 3 = (18.14 - 16.37) = 0.59\n",
    "    - LCIx̄_1σ = LCx̄ - rx = 15.78\n",
    "    - LCSx̄_1σ = LCx̄ + rx = 16.96\n",
    "    - LCIx̄_2σ = LCx̄ - (2 * rx) = 15.19\n",
    "    - LCSx̄_2σ = LCx̄ + (2 * rx) = 17.55\n",
    "    \n",
    "    \n",
    "- rσ= ( LCSσ - LCσ ) / 3 = (2.59 - 1.24) = 0.89\n",
    "    - LCIσ_1σ = LCσ - rσ = 0.79\n",
    "    - LCSσ_1σ = LCσ + rσ = 1.69\n",
    "    - LCIσ_2σ = LCσ - (2 * rσ) = 0.34\n",
    "    - LCSσ_2σ = LCσ + (2 * rσ) = 2.14"
   ]
  },
  {
   "cell_type": "markdown",
   "metadata": {},
   "source": [
    "**6.Trazado del gráfico**  Crear los gráficos de control trazando líneas horizontales en los valores de los límites calculados."
   ]
  },
  {
   "cell_type": "markdown",
   "metadata": {},
   "source": [
    "**7. Utilizar el gráfico** Ingresar datos del proceso para realizar el seguimiento en la producción en tiempo real.\n",
    "\n",
    "Aquí se deben identificar ya sea de manera manual o automática los casos de fura de control que se vayan presentado en el proceso, para hacer las debidas investigaciones de sus causas asignables.\n",
    "\n",
    "Los casos que pueden ser reconocidos fácilmente de forma automática son: \n",
    "\n",
    "1. Tendencias    \n",
    "3. Estratificaciones     \n",
    "4. Secuencias    "
   ]
  },
  {
   "cell_type": "markdown",
   "metadata": {},
   "source": [
    "#### Resultados <a id=\"resultados\"></a>\n",
    "\n",
    "1. **Gráfico de control**.\n",
    "2. **Archivo de texto con los resultados:** Archivo de texto Resultados_Ej_GC_DH.txt con los límites de control de los graficos de (x̄- σ). "
   ]
  },
  {
   "cell_type": "markdown",
   "metadata": {},
   "source": [
    "---\n",
    "| [**Home**](../Graficos_de_Control.ipynb \"Ir a la página principal del algoritmo\")| - | [**Prácticas**](../Practicas/Practicas_GC.ipynb \"Ir a la página de la prácticas\")|\n",
    "| :--------: | :-------: | :--------: |"
   ]
  }
 ],
 "metadata": {
  "kernelspec": {
   "display_name": "Python 3",
   "language": "python",
   "name": "python3"
  },
  "language_info": {
   "codemirror_mode": {
    "name": "ipython",
    "version": 3
   },
   "file_extension": ".py",
   "mimetype": "text/x-python",
   "name": "python",
   "nbconvert_exporter": "python",
   "pygments_lexer": "ipython3",
   "version": "3.7.4"
  }
 },
 "nbformat": 4,
 "nbformat_minor": 4
}
