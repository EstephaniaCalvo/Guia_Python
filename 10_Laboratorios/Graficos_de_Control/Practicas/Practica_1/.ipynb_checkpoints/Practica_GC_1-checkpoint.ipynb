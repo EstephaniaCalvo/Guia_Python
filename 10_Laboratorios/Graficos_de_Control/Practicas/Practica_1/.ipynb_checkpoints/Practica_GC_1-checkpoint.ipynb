{
 "cells": [
  {
   "cell_type": "markdown",
   "metadata": {},
   "source": [
    "# **Práctica 1:** Ancho de Sello <a id='ejemplo'></a>\n",
    "\n",
    "Uno de los clientes principales de la empresa Pechati, ha cambiado su tolerancia en el requerimieto de ancho del sello de bolsa y comunica que apartir de los siguientes dos pedidos necesitará sellos de (1.3 ± 0.05 cm), anteriormente era (1.3 ± 0.12). Sin embargo, aunque con la capacidad de proceso actual se podía cumplir el requerimiento anterior, se debe mejorar la capacidad de proceso para hacerlo con el nuevo.\n",
    "\n",
    "Como parte del proyecto para aumentar la capacidad de proceso y cumplir con la calidad del sello requerida, se instaló un sistema enfriamiento en dos maquinas Emplex y se hizo una prueba piloto durante dos semanas en todos los turnos para corroboar si había una mejora en la variable \"Ancho de sello\" y si se disminuia el defecto \"sello corrido\". \n",
    "\n",
    "Los resultados de la prueba piloto indican que efectivamente la medida si tuvo un impacto positivo en el proceso tanto en la bolsa con calibre mas ancho y mas delgado, ya que se redujo la variabilidad de \"Ancho de sello\" en 57.3% y el defecto sello corrido en 89.3% con las bolsas de calibre 0,045'', 74.1% y 81.8% en las bolsas de calibre 0.0065''. Por lo cual este sistema se va instalar a las 11 máquinas restantes.\n",
    "\n",
    "Debido a lo anterior el analísta de calidad debe recalcular límites de los gráficos de control para hacer seguimiento a la variable Ancho de sello para cada uno de los calibres utilizados en la pureba. Para esto utiliza los datos de las muestras guardadas en los archivos [Ancho_45.txt](Ancho_45.txt) y  [Ancho_65.txt](Ancho_65.txt), y el programa [Graficos_de_control](#prog). "
   ]
  },
  {
   "cell_type": "markdown",
   "metadata": {},
   "source": [
    "---\n",
    "## Informe"
   ]
  },
  {
   "cell_type": "markdown",
   "metadata": {},
   "source": [
    "Analice los resultados obtenidos con el programa y escriba sus conclusiones [aquí](#conclusiones). Las siguientes preguntas le ayudarán a analizar el caso, sin embargo, hay muchos otros puntos sobre los que puede llegar a concluir.\n",
    "\n",
    "**Preguntas guía**\n",
    "- ¿Se cumple con el requerimiento del cliente para la bolsa calibre 0.045?\n",
    "- ¿Se cumple con el requerimiento del cliente para la bolsa calibre 0.065?\n",
    "- ¿En cuál de las bolsas el riesgo de tener incoformidades o rechazo del cliente es mayor?"
   ]
  },
  {
   "cell_type": "markdown",
   "metadata": {},
   "source": [
    "## Conclusiones <a id='conclusiones'></a>\n",
    "*Escriba aquí las conclusiones del análisis basado en los resultados obtenidos* "
   ]
  },
  {
   "cell_type": "markdown",
   "metadata": {},
   "source": [
    "## Programa: Gráficos de Control <a id=\"prog\"></a>"
   ]
  },
  {
   "cell_type": "markdown",
   "metadata": {},
   "source": [
    "#### **Instrucciones**\n",
    "\n",
    "1. Lea el [Análisis del problema](../../Programa/Analisis.ipynb)\n",
    "2. Llenar la [plantilla](../../Plantilla/Plantilla_GC.ipynb) del programa.\n",
    "3. Ejecutar el programa con la siguiente celda.\n"
   ]
  },
  {
   "cell_type": "code",
   "execution_count": null,
   "metadata": {},
   "outputs": [],
   "source": [
    "%matplotlib inline\n",
    "def p1_GC():\n",
    "    try:\n",
    "        import os\n",
    "\n",
    "        os.chdir(\"../../Programa\")\n",
    "        from Graficos_de_Control import main\n",
    "        os.chdir(\"../Practicas/Practica_1\")\n",
    "        \n",
    "        print(\"-------------\\tGráfico de control Bolsa calibre 0.045''\\t-------------\\n\")\n",
    "        main(\"Ancho_45.txt\")\n",
    "        print(\"\\n-------------\\tGráfico de control Bolsa calibre 0.0065''\\t-------------\\n\")\n",
    "        main(\"Ancho_65.txt\")\n",
    "\n",
    "    except(FileNotFoundError):\n",
    "        return print(\"No se encuentra el archivo\",archivo)\n",
    "    except(Exception):\n",
    "        return print(\"El programa no se ha podido ejecutar correctamente\")\n",
    "    \n",
    "p1_GC()"
   ]
  },
  {
   "cell_type": "markdown",
   "metadata": {},
   "source": [
    "---\n",
    "| [**Home**](../../Graficos_de_Control.ipynb \"Ir a la página principal del algoritmo\")| - |[**Prácticas**](../Practicas_GC.ipynb)| - | [**Plantilla**](../../Plantilla/Plantilla_GC.ipynb \"Ir a la página de la plantilla\")|\n",
    "| :--------: | :-------: | :--------: | :--------: | :--------: |"
   ]
  }
 ],
 "metadata": {
  "kernelspec": {
   "display_name": "Python 3",
   "language": "python",
   "name": "python3"
  },
  "language_info": {
   "codemirror_mode": {
    "name": "ipython",
    "version": 3
   },
   "file_extension": ".py",
   "mimetype": "text/x-python",
   "name": "python",
   "nbconvert_exporter": "python",
   "pygments_lexer": "ipython3",
   "version": "3.7.4"
  }
 },
 "nbformat": 4,
 "nbformat_minor": 4
}
