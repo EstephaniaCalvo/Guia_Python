{
 "cells": [
  {
   "cell_type": "markdown",
   "metadata": {},
   "source": [
    "![Fig3_Encabezado.png](../../../../Fig3_Encabezado.png)\n",
    "\n",
    "---------------------"
   ]
  },
  {
   "cell_type": "markdown",
   "metadata": {},
   "source": [
    "## d. Calcular líneas intermedias (lineas)\n",
    "\n",
    "- #### **Objetivo :**\n",
    "    Calcular la líneas de control a una y dos desviaciones estándar.\n",
    "    \n",
    "- #### **Entradas :**    \n",
    "    **1. LCx:** Línea central de x̄.    \n",
    "    **2. LCSx:** Límite de control superior central de x̄.      \n",
    "    **1. LCs:** Línea central de σ.    \n",
    "    **2. LCSs:** Límite de control superior central deσ.    \n",
    "\n",
    "~~~python\n",
    "LCx= 16.368717948717947\n",
    "LCSx= 18.13615647568961\n",
    "LCs= 1.2385693952148993\n",
    "LCSs= 2.5873714666039245\n",
    "~~~~\n",
    "\n",
    "- #### **Salidas :** \n",
    "    **1. lineas_x:** Líneas a 1 y 2 sigmas arriba y abajo de la Línea central de x̄ = [ LCIx̄_1σ, LCSx̄_1σ, LCIx̄_2σ, LCSx̄_2σ]     \n",
    "    **2. lineas_s:** Líneas a 1 y 2 sigmas arriba y abajo de la Línea central de σ = [ LCIσ_1σ, LCSσ_1σ, LCIσ_2σ, LCSσ_2σ]   \n",
    "    \n",
    "~~~python\n",
    "lineas_x = [15.779571773060725, 16.957864124375167, 15.190425597403506, 17.54701030003239]\n",
    "\n",
    "lineas_s = [0.788968704751891, 1.6881700856779076, 0.3393680142888825, 2.137770776140916]\n",
    "~~~"
   ]
  },
  {
   "cell_type": "markdown",
   "metadata": {},
   "source": [
    "- #### **Código :** \n",
    "Complete la función para convertir las entradas en las salidas, ingrese al [material de apoyo](#material \"Ir al material de apoyo\") para ver los ejemplos que lo pueden guiar, una vez terminada ejecútela y pruébela, si es correcta pásela [aquí](../../Programa/Graficos_de_Control.py)."
   ]
  },
  {
   "cell_type": "code",
   "execution_count": null,
   "metadata": {},
   "outputs": [],
   "source": [
    "# Importar aquí los módulos necesarios\n",
    "\n",
    "# d. Calcular líneas intermedias\n",
    "def lineas (LCx, LCSx, LCs, LCSs):\n",
    "    \"\"\"\n",
    "    Calcula la líneas de control a una y dos desviaciones estándar.\n",
    "    \"\"\"\n",
    "    \n",
    "    # Escriba aquí el código:\n",
    "    \n",
    "    return (lineas_x, lineas_s)"
   ]
  },
  {
   "cell_type": "markdown",
   "metadata": {},
   "source": [
    "## Material de Apoyo <a id='material'></a>"
   ]
  },
  {
   "cell_type": "markdown",
   "metadata": {},
   "source": [
    "- [Manejo de listas](../../../../5_Estructura_de_Datos/5_Estructura_de_Datos.ipynb#Listas \"Ir a la sección Métodos de las listas del capítulo de Estructuras de datos\")\n",
    "\n",
    "- [Operaciones Arítmeticas](../../../../2_Elementos_Basicos/2_Elementos_Basicos.ipynb#OpAritmeticos \"Ir al subcapítulo Operadores Arítmeticos del capítulo de Elmentos básicos.\")"
   ]
  },
  {
   "cell_type": "markdown",
   "metadata": {},
   "source": [
    "---\n",
    "| [**Plantilla pirncipal**](../Plantilla_GC.ipynb \"Volver a la plantilla del programa principal\")|\n",
    "| :--------: |"
   ]
  }
 ],
 "metadata": {
  "kernelspec": {
   "display_name": "Python 3",
   "language": "python",
   "name": "python3"
  },
  "language_info": {
   "codemirror_mode": {
    "name": "ipython",
    "version": 3
   },
   "file_extension": ".py",
   "mimetype": "text/x-python",
   "name": "python",
   "nbconvert_exporter": "python",
   "pygments_lexer": "ipython3",
   "version": "3.7.4"
  }
 },
 "nbformat": 4,
 "nbformat_minor": 4
}
