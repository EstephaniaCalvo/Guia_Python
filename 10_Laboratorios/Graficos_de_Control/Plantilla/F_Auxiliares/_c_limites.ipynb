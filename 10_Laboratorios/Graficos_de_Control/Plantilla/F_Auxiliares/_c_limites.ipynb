{
 "cells": [
  {
   "cell_type": "markdown",
   "metadata": {},
   "source": [
    "## c. Calcular límites de control (limites)\n",
    "\n",
    "- #### **Objetivo :**\n",
    "    Calcular los límites de control y línea central.\n",
    "    \n",
    "- #### **Entradas :**    \n",
    "    1. **l_x:** Lista de los promedios de las muestras.\n",
    "    2. **l_s:** Lista de las desviaciones estadar de las muestras. \n",
    "    3. **n:** Tamaño de muestra.\n",
    "    4. **d_constantes:** {\"2\":[2.569, 0, 3.267], \"3\":[1.954, 0, 2.568], \"4\":[1.628, 0, 2.266], \"5\":[1.427, 0, 2.089], \"6\":[1.287, 0.03, 1.97], \"7\":[1.182, 0.118, 1.882], \"8\":[1.099, 0.185, 1.815], \"9\":[1.032, 0.239, 1.761], \"10\":[0.975, 0.284, 1.716], \"11\":[0.927, 0.321, 1.879], \"12\":[0.886, 0.354, 1.646], \"13\":[0.85, 0.382, 1.618], \"14\":[0.817, 0.406, 1.594], \"15\":[0.789, 0.428, 1.572]}\n",
    "    \n",
    "~~~python\n",
    "l_x = [17.62, 15.58, 16.48, 16.18, 17.7, 16.52, 16.419999999999998, 16.36, 17.14, 15.82, 16.78, 15.76, 17.78, 16.14, 15.879999999999999, 15.72, 16.38, 16.18, 16.4, 16.06, 16.66, 15.72, 15.74, 16.02, 17.08, 15.92, 16.4, 15.74, 16.66, 16.96, 16.9, 16.18, 15.52, 16.8, 17.16, 16.4, 16.2, 16.42, 14.5, 15.0]\n",
    "\n",
    "l_s = [1.1840608092492546, 1.188276062201036, 0.4969909455915676, 1.2049896265113655, 1.7734147850968198, 2.070507184242546, 0.8871302046486744, 0.9343446901438462, 1.3352902306240397, 1.2517987058628872, 0.13038404810405196, 1.415273825095342, 1.4096098751072932, 1.4638989036132246, 1.138859078200635, 1.492313639956427, 0.5263078946776314, 0.5890670590009254, 1.294217910554478, 0.9964938534682487, 1.916507239746305, 0.5630275304103693, 1.6592166826547998, 1.95627196473292, 1.6649324310613929, 0.8167006795638171, 0.9721111047611793, 2.058640327983497, 0.8111719916269303, 1.3390294993016398, 0.6324555320336753, 0.9257429448826489, 1.9018412131405718, 1.478174549909448, 1.2739701723352863, 1.756416807025029, 1.649242250247065, 1.575436447464638, 1.466287829861518, 0.5700877125495687]\n",
    "\n",
    "n=5\n",
    "\n",
    "d_constantes = {\"2\":[2.569, 0, 3.267], \"3\":[1.954, 0, 2.568], \"4\":[1.628, 0, 2.266], \"5\":[1.427, 0, 2.089], \"6\":[1.287, 0.03, 1.97], \"7\":[1.182, 0.118, 1.882], \"8\":[1.099, 0.185, 1.815], \"9\":[1.032, 0.239, 1.761], \"10\":[0.975, 0.284, 1.716], \"11\":[0.927, 0.321, 1.879], \"12\":[0.886, 0.354, 1.646], \"13\":[0.85, 0.382, 1.618], \"14\":[0.817, 0.406, 1.594], \"15\":[0.789, 0.428, 1.572]}\n",
    "~~~\n",
    "\n",
    "- #### **Salidas :** \n",
    "    **1. lim_x:** Línea central y límites de control inferior y superior de x̄ = [LCx̄, LCIx̄, LCSx̄]     \n",
    "    **2. lim_s:** Línea central y límites de control inferior y superior de σ = [LCσ, LCIσ, LCSσ]   \n",
    "    \n",
    "~~~python\n",
    "lim_x = [16.322, 14.54643761787232, 18.097562382127677]\n",
    "lim_s = [1.2442623560810648, 0.0, 2.5992640618533445]\n",
    "~~~"
   ]
  },
  {
   "cell_type": "markdown",
   "metadata": {},
   "source": [
    "- #### **Código :** \n",
    "Complete la función para convertir las entradas en las salidas, ingrese al [material de apoyo](#material \"Ir al material de apoyo\") para ver los ejemplos que lo pueden guiar, una vez terminada ejecútela y pruébela, si es correcta pásela [aquí](../../Programa/Graficos_de_Control.py)."
   ]
  },
  {
   "cell_type": "code",
   "execution_count": null,
   "metadata": {},
   "outputs": [],
   "source": [
    "# Importar aquí los módulos necesarios\n",
    "\n",
    "# c. Calcular límites de control\n",
    "def limites (l_x, l_s, n, d_constantes):\n",
    "    \"\"\"\n",
    "    Calcular los límites de control y línea central [LC, LCI, LCS]\n",
    "    \"\"\"\n",
    "    \n",
    "    # Escriba aquí el código:\n",
    "    \n",
    "    return (lim_x, lim_s)"
   ]
  },
  {
   "cell_type": "markdown",
   "metadata": {},
   "source": [
    "## Material de Apoyo <a id='material'></a>"
   ]
  },
  {
   "cell_type": "markdown",
   "metadata": {},
   "source": [
    "- [Almacenamiento de datos](../../../../../7_Lectura_y_Escritura/7_Lectura_y_Escritura.ipynb#Min-eje_A_Archivo_i1.txt \"Ir al capítulo de Lectura de archivos\")\n",
    "- [Manejo de listas y tuplas](../../../../../5_Estructura_de_Datos/5_Estructura_de_Datos.ipynb#5_Estructura-de-Datos-Basicas \"Ir al capítulo de Estructuras de datos\")"
   ]
  },
  {
   "cell_type": "markdown",
   "metadata": {},
   "source": [
    "---\n",
    "| [**Plantilla pirncipal**](../Plantilla_GC.ipynb \"Volver a la plantilla del programa principal\")|\n",
    "| :--------: |"
   ]
  }
 ],
 "metadata": {
  "kernelspec": {
   "display_name": "Python 3",
   "language": "python",
   "name": "python3"
  },
  "language_info": {
   "codemirror_mode": {
    "name": "ipython",
    "version": 3
   },
   "file_extension": ".py",
   "mimetype": "text/x-python",
   "name": "python",
   "nbconvert_exporter": "python",
   "pygments_lexer": "ipython3",
   "version": "3.7.4"
  }
 },
 "nbformat": 4,
 "nbformat_minor": 4
}
