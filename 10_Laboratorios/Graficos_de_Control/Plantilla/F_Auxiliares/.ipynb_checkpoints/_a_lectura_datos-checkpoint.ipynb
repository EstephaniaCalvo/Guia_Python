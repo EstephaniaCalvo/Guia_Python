{
 "cells": [
  {
   "cell_type": "markdown",
   "metadata": {},
   "source": [
    "![Fig3_Encabezado.png](../../../../Fig3_Encabezado.png)\n",
    "\n",
    "---------------------"
   ]
  },
  {
   "cell_type": "markdown",
   "metadata": {},
   "source": [
    "## a. Leer y almacenar datos (lectura_datos)\n",
    "\n",
    "- #### **Objetivo :** \n",
    "    Almacenar el contenido del [archivo](test_1.txt \"Ver archivo de entradas\") con los datos históricos de un muestreo de una variable de proceso.    \n",
    "\n",
    "- #### **Entradas :** \n",
    "~~~python\n",
    "archivo_datos='test_1.txt'\n",
    "~~~\n",
    "\n",
    "- #### **Salidas :** \n",
    "    **1. l_muestras:** Lista con las listas de los datos de las muestras.    \n",
    "    **2. n:** Tamaño de la muestra. \n",
    "    \n",
    "~~~python\n",
    "l_muestras = [[15.6, 18.5, 18.4, 18.0, 17.6], [14.2, 15.6, 16.6, 14.6, 16.9], [16.5, 16.8, 16.4, 15.7, 17.0], [14.8, 16.6, 15.6, 15.9, 18.0], [17.3, 19.6, 19.5, 15.8, 16.3], [17.8, 19.4, 14.5, 16.1, 14.8], [16.4, 17.7, 15.3, 16.0, 16.7], [17.3, 16.4, 15.1, 17.2, 15.8], [18.0, 18.8, 17.3, 15.9, 15.7], [16.7, 17.0, 13.9, 16.2, 15.3], [16.9, 16.8, 16.7, 16.9, 16.6], [14.8, 14.8, 17.1, 17.5, 14.6], [19.7, 15.9, 17.2, 18.4, 17.7], [14.5, 14.9, 16.4, 18.1, 16.8], [15.2, 15.0, 17.7, 15.2, 16.3], [16.8, 14.3, 17.0, 16.6, 13.9], [15.7, 16.1, 16.4, 17.1, 16.6], [15.9, 16.0, 17.2, 16.1, 15.7], [14.8, 15.7, 16.1, 18.0, 17.4], [15.9, 16.2, 14.5, 16.5, 17.2], [18.3, 15.8, 18.8, 14.1, 16.3], [15.8, 16.0, 14.9, 15.5, 16.4], [14.9, 13.9, 18.2, 15.2, 16.5], [14.1, 15.6, 14.9, 19.2, 16.3], [15.2, 16.9, 19.7, 17.3, 16.3], [14.6, 16.3, 16.0, 16.8, 15.9], [15.1, 16.4, 16.1, 16.6, 17.8], [13.1, 15.6, 17.0, 14.6, 18.4], [16.4, 17.8, 16.5, 17.0, 15.6], [18.1, 16.4, 16.8, 15.1, 18.4], [16.5, 16.9, 17.7, 16.1, 17.3], [15.8, 15.5, 17.7, 15.5, 16.4], [18.0, 14.4, 14.4, 13.7, 17.1], [16.2, 14.9, 16.4, 17.8, 18.7], [18.5, 17.0, 18.2, 16.8, 15.3], [18.2, 15.4, 18.4, 15.3, 14.7], [18.1, 15.9, 15.3, 14.1, 17.6], [18.2, 14.4, 16.1, 15.6, 17.8], [12.5, 13.4, 15.8, 15.6, 15.2], [15.0, 14.6, 15.4, 14.3, 15.7]]\n",
    "~~~"
   ]
  },
  {
   "cell_type": "markdown",
   "metadata": {},
   "source": [
    "- #### **Código :** \n",
    "Complete la función para convertir las entradas en las salidas e ingrese al [material de apoyo](#material \"Ir al material de apoyo\") para ver los ejemplos que lo pueden guiar. Una vez terminada ejecútela y pruébela, si es correcta pásela [aquí](../../Programa/Graficos_de_Control.py)."
   ]
  },
  {
   "cell_type": "code",
   "execution_count": null,
   "metadata": {},
   "outputs": [],
   "source": [
    "# Importar aquí los módulos necesarios\n",
    "\n",
    "## a. Leer y almacenar datos\n",
    "def lectura_datos (archivo_datos):\n",
    "    \"\"\"\n",
    "    Leer y almacenar los datos del archivo con los datos de entrada, los datos \n",
    "    históricos de un muestreo y devolver una matriz con los datos de las muestras.\n",
    "    \"\"\"\n",
    "    \n",
    "    # Escriba aquí el código:\n",
    "    \n",
    "    return (l_muestras, n)\n"
   ]
  },
  {
   "cell_type": "markdown",
   "metadata": {},
   "source": [
    "## Material de Apoyo <a id='material'></a>"
   ]
  },
  {
   "cell_type": "markdown",
   "metadata": {},
   "source": [
    "- [Almacenamiento de una matriz](../../../../7_Lectura_y_Escritura/7_Lectura_y_Escritura.ipynb#ME_Coordenadas_x_y \"Ir al Mini_Ejemplo A_Coordenadas_x_y.txt del capítulo de Lectura de archivos\")"
   ]
  },
  {
   "cell_type": "markdown",
   "metadata": {},
   "source": [
    "---\n",
    "| [**Plantilla pirncipal**](../Plantilla_GC.ipynb \"Volver a la plantilla del programa principal\")|\n",
    "| :--------: |"
   ]
  }
 ],
 "metadata": {
  "kernelspec": {
   "display_name": "Python 3",
   "language": "python",
   "name": "python3"
  },
  "language_info": {
   "codemirror_mode": {
    "name": "ipython",
    "version": 3
   },
   "file_extension": ".py",
   "mimetype": "text/x-python",
   "name": "python",
   "nbconvert_exporter": "python",
   "pygments_lexer": "ipython3",
   "version": "3.7.4"
  }
 },
 "nbformat": 4,
 "nbformat_minor": 4
}
