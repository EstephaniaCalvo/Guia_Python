{
 "cells": [
  {
   "cell_type": "markdown",
   "metadata": {},
   "source": [
    "![Fig3_Encabezado.png](../../../../Fig3_Encabezado.png)\n",
    "\n",
    "---------------------"
   ]
  },
  {
   "cell_type": "markdown",
   "metadata": {},
   "source": [
    "## b. Calcular variables estadísticas (cal_variables)\n",
    "\n",
    "- #### **Objetivo :**\n",
    "    Calcular el promedio x̄ y la desviación σ de cada muestra.\n",
    "    \n",
    "- #### **Entradas :** \n",
    "    **1. l_muestras:** Lista con las listas de los datos de las muestras.      \n",
    "    \n",
    "~~~python\n",
    "l_muestras = [[15.6, 18.5, 18.4, 18.0, 17.6], [14.2, 15.6, 16.6, 14.6, 16.9], [16.5, 16.8, 16.4, 15.7, 17.0], [14.8, 16.6, 15.6, 15.9, 18.0], [17.3, 19.6, 19.5, 15.8, 16.3], [17.8, 19.4, 14.5, 16.1, 14.8], [16.4, 17.7, 15.3, 16.0, 16.7], [17.3, 16.4, 15.1, 17.2, 15.8], [18.0, 18.8, 17.3, 15.9, 15.7], [16.7, 17.0, 13.9, 16.2, 15.3], [16.9, 16.8, 16.7, 16.9, 16.6], [14.8, 14.8, 17.1, 17.5, 14.6], [19.7, 15.9, 17.2, 18.4, 17.7], [14.5, 14.9, 16.4, 18.1, 16.8], [15.2, 15.0, 17.7, 15.2, 16.3], [16.8, 14.3, 17.0, 16.6, 13.9], [15.7, 16.1, 16.4, 17.1, 16.6], [15.9, 16.0, 17.2, 16.1, 15.7], [14.8, 15.7, 16.1, 18.0, 17.4], [15.9, 16.2, 14.5, 16.5, 17.2], [18.3, 15.8, 18.8, 14.1, 16.3], [15.8, 16.0, 14.9, 15.5, 16.4], [14.9, 13.9, 18.2, 15.2, 16.5], [14.1, 15.6, 14.9, 19.2, 16.3], [15.2, 16.9, 19.7, 17.3, 16.3], [14.6, 16.3, 16.0, 16.8, 15.9], [15.1, 16.4, 16.1, 16.6, 17.8], [13.1, 15.6, 17.0, 14.6, 18.4], [16.4, 17.8, 16.5, 17.0, 15.6], [18.1, 16.4, 16.8, 15.1, 18.4], [16.5, 16.9, 17.7, 16.1, 17.3], [15.8, 15.5, 17.7, 15.5, 16.4], [18.0, 14.4, 14.4, 13.7, 17.1], [16.2, 14.9, 16.4, 17.8, 18.7], [18.5, 17.0, 18.2, 16.8, 15.3], [18.2, 15.4, 18.4, 15.3, 14.7], [18.1, 15.9, 15.3, 14.1, 17.6], [18.2, 14.4, 16.1, 15.6, 17.8], [12.5, 13.4, 15.8, 15.6, 15.2], [15.0, 14.6, 15.4, 14.3, 15.7]]\n",
    "~~~\n",
    "\n",
    "- #### **Salidas :** \n",
    "    **1. l_x:** Lista de los promedios de las muestras.   \n",
    "    **2. l_s:** Lista de las desviaciones estadar de las muestras.\n",
    "    \n",
    "~~~python\n",
    "l_x=[17.62, 15.58, 16.48, 16.18, 17.7, 16.52, 16.419999999999998, 16.36, 17.14, 15.82, 16.78, 15.76, 17.78, 16.14, 15.879999999999999, 15.72, 16.38, 16.18, 16.4, 16.06, 16.66, 15.72, 15.74, 16.02, 17.08, 15.92, 16.4, 15.74, 16.66, 16.96, 16.9, 16.18, 15.52, 16.8, 17.16, 16.4, 16.2, 16.42, 14.5, 15.0]\n",
    "\n",
    "l_s=[1.1840608092492546, 1.188276062201036, 0.4969909455915676, 1.2049896265113655, 1.7734147850968198, 2.070507184242546, 0.8871302046486744, 0.9343446901438462, 1.3352902306240397, 1.2517987058628872, 0.13038404810405196, 1.415273825095342, 1.4096098751072932, 1.4638989036132246, 1.138859078200635, 1.492313639956427, 0.5263078946776314, 0.5890670590009254, 1.294217910554478, 0.9964938534682487, 1.916507239746305, 0.5630275304103693, 1.6592166826547998, 1.95627196473292, 1.6649324310613929, 0.8167006795638171, 0.9721111047611793, 2.058640327983497, 0.8111719916269303, 1.3390294993016398, 0.6324555320336753, 0.9257429448826489, 1.9018412131405718, 1.478174549909448, 1.2739701723352863, 1.756416807025029, 1.649242250247065, 1.575436447464638, 1.466287829861518, 0.5700877125495687]\n",
    "~~~"
   ]
  },
  {
   "cell_type": "markdown",
   "metadata": {},
   "source": [
    "- #### **Código :** \n",
    "Complete la función para convertir las entradas en las salidas, ingrese al [material de apoyo](#material \"Ir al material de apoyo\") para ver los ejemplos que lo pueden guiar, una vez terminada ejecútela y pruébela, si es correcta pásela [aquí](../../Programa/Graficos_de_Control.py)."
   ]
  },
  {
   "cell_type": "code",
   "execution_count": null,
   "metadata": {},
   "outputs": [],
   "source": [
    "# Importar aquí los módulos necesarios\n",
    "\n",
    "# b.  Calcular variables estadísticas \n",
    "def cal_variables (l_muestras):\n",
    "    \"\"\"\n",
    "    Calcular el promedio x̄ y la desviación σ de cada muestra.\n",
    "    \"\"\"\n",
    "    \n",
    "    # Escriba aquí el código:\n",
    "    \n",
    "    return (l_x, l_s)"
   ]
  },
  {
   "cell_type": "markdown",
   "metadata": {},
   "source": [
    "## Material de Apoyo <a id='material'></a>"
   ]
  },
  {
   "cell_type": "markdown",
   "metadata": {},
   "source": [
    "- [Manejo de listas](../../../../5_Estructura_de_Datos/5_Estructura_de_Datos.ipynb#Listas \"Ir a la sección Métodos de las listas del capítulo de Estructuras de datos\")\n",
    "\n",
    "- [Statistics](../../../../9_Modulos/9_Modulos_y_Paquetes.ipynb#statistics  \"Ir al apartado de Statistics del capítulo Módulos y paquetes.\")"
   ]
  },
  {
   "cell_type": "markdown",
   "metadata": {},
   "source": [
    "---\n",
    "| [**Plantilla pirncipal**](../Plantilla_GC.ipynb \"Volver a la plantilla del programa principal\")|\n",
    "| :--------: |"
   ]
  }
 ],
 "metadata": {
  "kernelspec": {
   "display_name": "Python 3",
   "language": "python",
   "name": "python3"
  },
  "language_info": {
   "codemirror_mode": {
    "name": "ipython",
    "version": 3
   },
   "file_extension": ".py",
   "mimetype": "text/x-python",
   "name": "python",
   "nbconvert_exporter": "python",
   "pygments_lexer": "ipython3",
   "version": "3.7.4"
  }
 },
 "nbformat": 4,
 "nbformat_minor": 4
}
