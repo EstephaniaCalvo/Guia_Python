{
 "cells": [
  {
   "cell_type": "markdown",
   "metadata": {},
   "source": [
    "![Fig3_Encabezado.png](../../../../Fig3_Encabezado.png)\n",
    "\n",
    "---------------------"
   ]
  },
  {
   "cell_type": "markdown",
   "metadata": {},
   "source": [
    "## f. Hacer el gráfico de control (g_control)\n",
    "\n",
    "- #### **Objetivos :** \n",
    "    Mostrar, crear y guardar un gráfico de control para llenar. \n",
    "\n",
    "**Tenga en cuenta que:**\n",
    "- El nombre del archivo debe ser gc_archivo.png, \"archivo\" es el nombre del archivo de datos histórico sin la extensión.txt.\n",
    "- El grafico debe tener como título \"Gráfico de Control (x̄ , σ)\""
   ]
  },
  {
   "cell_type": "markdown",
   "metadata": {},
   "source": [
    "- #### **Entradas :** \n",
    "    **1. lim_x:** Línea central y límites de control inferior y superior de x̄.     \n",
    "    **2. lim_s:** Línea central y límites de control inferior y superior de σ.  \n",
    "    **3. lineas_x** Líneas a 1 y 2 sigmas arriba y abajo de la Línea central de x̄.     \n",
    "    **4. lineas_s** Líneas a 1 y 2 sigmas arriba y abajo de la Línea central de σ.     \n",
    "    **5. archivo:** Archivo con las entradas.   "
   ]
  },
  {
   "cell_type": "code",
   "execution_count": null,
   "metadata": {},
   "outputs": [],
   "source": [
    "# 1. lim_x= [LCx̄, LCIx̄, LCSx̄]\n",
    "lim_x = [16.368717948717947, 14.601279421746286, 18.13615647568961]\n",
    "\n",
    "# 2. lim_s = [LCσ, LCIσ, LCSσ]\n",
    "lim_s = [1.2385693952148993, 0.0, 2.5873714666039245]\n",
    "\n",
    "# 3. lineas_x= [LCIx̄_1σ, LCSx̄_1σ, LCIx̄_2σ, LCSx̄_2σ]\n",
    "lineas_x = [15.779571773060725, 16.957864124375167, 15.190425597403506, 17.54701030003239]\n",
    "\n",
    "# 4.  lineas_s= [LCIσ_1σ, LCSσ_1σ, LCIσ_2σ, LCSσ_2σ]\n",
    "lineas_s = [0.788968704751891, 1.6881700856779076, 0.3393680142888825, 2.137770776140916]\n",
    "\n",
    "# 5. archivo: Nombre del archivo de datos\n",
    "archivo='test_1.txt'"
   ]
  },
  {
   "cell_type": "markdown",
   "metadata": {},
   "source": [
    "- #### **Salidas :** \n",
    "\n",
    "**1. gc_archivo.png:** Imagen .png de los gráficos de control."
   ]
  },
  {
   "cell_type": "markdown",
   "metadata": {},
   "source": [
    "- #### **Código :** \n",
    "Complete la función para convertir las entradas en las salidas e ingrese al [material de apoyo](#material \"Ir al material de apoyo\") para ver los ejemplos que lo pueden guiar. Una vez terminada ejecútela y compare sus resultados con el archivo\n",
    "[RP_gc_test_1.png](R_Pruebas/RP_gc_test_1.png), en la carpeta R_Pruebas. Si el resultado es correcto pase el código [aquí](../../Programa/Graficos_de_Control.py)"
   ]
  },
  {
   "cell_type": "code",
   "execution_count": null,
   "metadata": {},
   "outputs": [],
   "source": [
    "# Importar aquí los módulos necesarios\n",
    "\n",
    "# f. Hacer el gráfico de control\n",
    "def g_control (lim_x, lim_s, lineas_x, lineas_s, archivo):\n",
    "    # Escriba aquí el código:\n",
    "    \n",
    "    return None # No devolver nada"
   ]
  },
  {
   "cell_type": "markdown",
   "metadata": {},
   "source": [
    "## Material de Apoyo <a id='material'></a>"
   ]
  },
  {
   "cell_type": "markdown",
   "metadata": {},
   "source": [
    "- [Grafico 2D](../../../../8_Graficos/8_Graficos.ipynb#2D \"Ir al subcapitulo de Gráficos 2D del capítulo 8. Gráficos.\")"
   ]
  },
  {
   "cell_type": "markdown",
   "metadata": {},
   "source": [
    "---\n",
    "| [**Plantilla pirncipal**](../Plantilla_GC.ipynb \"Volver a la plantilla del programa principal\")|\n",
    "| :--------: |"
   ]
  }
 ],
 "metadata": {
  "kernelspec": {
   "display_name": "Python 3",
   "language": "python",
   "name": "python3"
  },
  "language_info": {
   "codemirror_mode": {
    "name": "ipython",
    "version": 3
   },
   "file_extension": ".py",
   "mimetype": "text/x-python",
   "name": "python",
   "nbconvert_exporter": "python",
   "pygments_lexer": "ipython3",
   "version": "3.7.4"
  }
 },
 "nbformat": 4,
 "nbformat_minor": 4
}
