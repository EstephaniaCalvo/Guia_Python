{
 "cells": [
  {
   "cell_type": "markdown",
   "metadata": {},
   "source": [
    "![Fig3_Encabezado.png](../../../../Fig3_Encabezado.png)\n",
    "\n",
    "---------------------"
   ]
  },
  {
   "cell_type": "markdown",
   "metadata": {},
   "source": [
    "## e. Guardar archivo de resultados.txt\n",
    "\n",
    "- #### **Objetivos :** \n",
    "    1. Crear la carpeta Resultados    \n",
    "    2. Crear un archivo .txt donde estén registrados los límites de control, la linea central y las líneas a 1 y 2 sigmas, tanto de x̄ como de σ.\n",
    "    3. Guardar archivo en la carpeta.\n",
    "    \n",
    "**Tenga en cuenta que:**\n",
    "\n",
    "- El archivo debe llamarser Reultados_archivo.txt."
   ]
  },
  {
   "cell_type": "markdown",
   "metadata": {},
   "source": [
    "- #### **Entradas :** \n",
    "    **1. lim_x:** Línea central y límites de control inferior y superior de x̄.     \n",
    "    **2. lim_s:** Línea central y límites de control inferior y superior de σ.  \n",
    "    **3. lineas_x** Líneas a 1 y 2 sigmas arriba y abajo de la Línea central de x̄.     \n",
    "    **4. lineas_s** Líneas a 1 y 2 sigmas arriba y abajo de la Línea central de σ.     \n",
    "    **5. archivo:** Archivo con las entradas.   "
   ]
  },
  {
   "cell_type": "code",
   "execution_count": null,
   "metadata": {},
   "outputs": [],
   "source": [
    "# 1. lim_x= [LCx̄, LCIx̄, LCSx̄]\n",
    "lim_x = [16.368717948717947, 14.601279421746286, 18.13615647568961]\n",
    "\n",
    "# 2. lim_s = [LCσ, LCIσ, LCSσ]\n",
    "lim_s = [1.2385693952148993, 0.0, 2.5873714666039245]\n",
    "\n",
    "# 3. lineas_x= [LCIx̄_1σ, LCSx̄_1σ, LCIx̄_2σ, LCSx̄_2σ]\n",
    "lineas_x = [15.779571773060725, 16.957864124375167, 15.190425597403506, 17.54701030003239]\n",
    "\n",
    "# 4.  lineas_s= [LCIσ_1σ, LCSσ_1σ, LCIσ_2σ, LCSσ_2σ]\n",
    "lineas_s = [0.788968704751891, 1.6881700856779076, 0.3393680142888825, 2.137770776140916]\n",
    "\n",
    "# 5. archivo: Nombre del archivo de datos\n",
    "archivo='test_1.txt'"
   ]
  },
  {
   "cell_type": "markdown",
   "metadata": {},
   "source": [
    "- #### **Salidas :** \n",
    "\n",
    "**1. Resultados_Archivo.txt:** Archivo de texto con los límites y líneas de los gráficos."
   ]
  },
  {
   "cell_type": "markdown",
   "metadata": {},
   "source": [
    "- #### **Código :** \n",
    "Complete la función para convertir las entradas en las salidas, ingrese al [material de apoyo](#material \"Ir al material de apoyo\") para ver los ejemplos que lo pueden guiar, una vez terminada ejecútela y compare sus resultados con el archivo RP_test_1.txt ubicado en la carpeta R_Pruebas, si es correcta pásela [aquí](../../Programa/Graficos_de_Control.py)."
   ]
  },
  {
   "cell_type": "code",
   "execution_count": null,
   "metadata": {},
   "outputs": [],
   "source": [
    "# Importar aquí los módulos necesarios\n",
    "\n",
    "# e. Guardar archivo de resultados.txt\n",
    "def resultados (lim_x, lim_s, lineas_x, lineas_s, archivo):\n",
    "    \"\"\"\n",
    "    Crear y guardar el archivo.txt con los resultados del programa en la carpeta Resultados.\n",
    "    \"\"\"\n",
    "    # Escriba aquí el código:\n",
    "    \n",
    "    return None "
   ]
  },
  {
   "cell_type": "markdown",
   "metadata": {},
   "source": [
    "## Material de Apoyo <a id='material'></a>"
   ]
  },
  {
   "cell_type": "markdown",
   "metadata": {},
   "source": [
    "- [Crear carpetas](../../../../7_Lectura_y_Escritura/7_Lectura_y_Escritura.ipynb#Carpetas \"Ir a la sección Creación de carpetas de carpetas.\")\n",
    "\n",
    "- [Escribir Archivos.txt](../../../../7_Lectura_y_Escritura/7_Lectura_y_Escritura.ipynb#Escritura \"Ir a la subcapítulo Escritura del capítulo Lectura y Escritura.\")"
   ]
  },
  {
   "cell_type": "markdown",
   "metadata": {},
   "source": [
    "---\n",
    "| [**Plantilla principal**](../Plantilla_GC.ipynb \"Volver a la plantilla del programa principal\")|\n",
    "| :--------: |"
   ]
  }
 ],
 "metadata": {
  "kernelspec": {
   "display_name": "Python 3",
   "language": "python",
   "name": "python3"
  },
  "language_info": {
   "codemirror_mode": {
    "name": "ipython",
    "version": 3
   },
   "file_extension": ".py",
   "mimetype": "text/x-python",
   "name": "python",
   "nbconvert_exporter": "python",
   "pygments_lexer": "ipython3",
   "version": "3.7.4"
  }
 },
 "nbformat": 4,
 "nbformat_minor": 4
}
