{
 "cells": [
  {
   "cell_type": "markdown",
   "metadata": {},
   "source": [
    "## Plantilla - Gráficos de Control<a id=\"plantilla\"></a>"
   ]
  },
  {
   "cell_type": "markdown",
   "metadata": {},
   "source": [
    "### **-2. Importar módulos**"
   ]
  },
  {
   "cell_type": "code",
   "execution_count": null,
   "metadata": {},
   "outputs": [],
   "source": [
    "# Importe aquí todos los módulos que necesite"
   ]
  },
  {
   "cell_type": "markdown",
   "metadata": {},
   "source": [
    "### **-1. Funciones auxiliares**"
   ]
  },
  {
   "cell_type": "markdown",
   "metadata": {},
   "source": [
    "<a id='lectura_entradas'></a>\n",
    "#### a. Leer y almacenar datos ([lectura_datos](F_Auxiliares/_a_lectura_datos.ipynb \"Ir a la plantilla de lectura_datos\"))"
   ]
  },
  {
   "cell_type": "markdown",
   "metadata": {},
   "source": [
    "<a id='sucesoras'></a>\n",
    "#### b. Calcular variables estadísticas ([cal_variables](F_Auxiliares/_b_cal_variables.ipynb \"Ir a la plantilla de cal_variables\"))"
   ]
  },
  {
   "cell_type": "markdown",
   "metadata": {},
   "source": [
    "<a id='limites'></a>\n",
    "#### c. Calcular límites de control ([limites](F_Auxiliares/_C_limites.ipynb \"Ir a la plantilla de limites\"))"
   ]
  },
  {
   "cell_type": "markdown",
   "metadata": {},
   "source": [
    "<a id='lineas'></a>\n",
    "#### d. Calcular líneas intermedias ([lineas](F_Auxiliares/_d_lineas.ipynb \"Ir a la plantilla de lineas\"))"
   ]
  },
  {
   "cell_type": "markdown",
   "metadata": {},
   "source": [
    "<a id='resultados'></a>\n",
    "#### e. Guardar archivo de resultados.txt ([resultados](F_Auxiliares/_e_resultados.ipynb \"Ir a la plantilla de resultados\"))"
   ]
  },
  {
   "cell_type": "markdown",
   "metadata": {},
   "source": [
    "<a id='g_control'></a>\n",
    "#### f. Hacer el gráfico de control ([g_control](F_Auxiliares/_f_g_control.ipynb \"Ir a la plantilla de g_control\"))"
   ]
  },
  {
   "cell_type": "markdown",
   "metadata": {},
   "source": [
    "### **0. Programa principal** [Graficos_de_Control](../Programa/Graficos_de_Control.py)"
   ]
  },
  {
   "cell_type": "code",
   "execution_count": null,
   "metadata": {},
   "outputs": [],
   "source": [
    "# 0. Programa principal\n",
    "def main(ingreso=1):\n",
    "    \"\"\"\n",
    "    Al ingresar un archivo con los datos históricos de un muestreo de una \n",
    "    variable de proceso, calculé los límites y genere un gráfico de control.    \"\"\"\n",
    "\n",
    "    \"0. Pedir y leer archivo de datos\"\n",
    "    # Ingresar archivo de entrada.\n",
    "    \n",
    "    if ingreso==1:\n",
    "        a_entradas=input(\"Por favor ingrese el archivo que contiene las entradas, por ejemplo, 'Entradas.txt':\\n\")\n",
    "    elif ingreso==\"e\":\n",
    "        a_entradas=\"Ej_GC_DH.txt\"\n",
    "    else:\n",
    "        a_entradas=ingreso\n",
    "        \n",
    "    \"1. Leer archivo de datos\"\n",
    "    \n",
    "    \n",
    "    \"2. Calcular variables.\"\n",
    "    \n",
    "    \n",
    "    \"3. Calcular límites\"\n",
    "    \n",
    "    d_constantes = {\"2\":[2.569, 0, 3.267], \"3\":[1.954, 0, 2.568], \"4\":[1.628, 0, 2.266], \"5\":[1.427, 0, 2.089], \"6\":[1.287, 0.03, 1.97], \"7\":[1.182, 0.118, 1.882], \"8\":[1.099, 0.185, 1.815], \"9\":[1.032, 0.239, 1.761], \"10\":[0.975, 0.284, 1.716], \"11\":[0.927, 0.321, 1.879], \"12\":[0.886, 0.354, 1.646], \"13\":[0.85, 0.382, 1.618], \"14\":[0.817, 0.406, 1.594], \"15\":[0.789, 0.428, 1.572]}\n",
    "    \n",
    "    \n",
    "    \"4. Calcular líneas intermedias\"  \n",
    "    \n",
    "    \n",
    "    \"5. Crear y guardar el archivo.txt con los resultados\"\n",
    "    \n",
    "    \n",
    "    \"6. Trazar el gráfico de control\"\n",
    "    \n",
    "    \n",
    "if __name__=='__main__':\n",
    "    main()"
   ]
  },
  {
   "cell_type": "markdown",
   "metadata": {},
   "source": [
    "---\n",
    "| [**Home**](../Graficos_de_Control.ipynb \"Ir a la página principal del algoritmo\")| - | [**Prácticas**](../Practicas/Practicas_GC.ipynb \"Ir a la página de las prácticas\")|\n",
    "| :--------: | :-------: | :--------: |"
   ]
  }
 ],
 "metadata": {
  "kernelspec": {
   "display_name": "Python 3",
   "language": "python",
   "name": "python3"
  },
  "language_info": {
   "codemirror_mode": {
    "name": "ipython",
    "version": 3
   },
   "file_extension": ".py",
   "mimetype": "text/x-python",
   "name": "python",
   "nbconvert_exporter": "python",
   "pygments_lexer": "ipython3",
   "version": "3.7.4"
  }
 },
 "nbformat": 4,
 "nbformat_minor": 4
}
