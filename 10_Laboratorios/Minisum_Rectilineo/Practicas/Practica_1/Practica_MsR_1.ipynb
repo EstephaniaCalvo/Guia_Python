{
 "cells": [
  {
   "cell_type": "markdown",
   "metadata": {},
   "source": [
    "# **Práctica 1:** Maquila JKshoes <a id='practica'></a>\n",
    "\n",
    "JKshoes ha decidido incursionar en el mercado del calzado Colombiano, por lo cual, va a construir una maquila para atender la demanda de la región Andina y pensando en que un futuro pueda expandirse al resto de Latinoamerica.\n",
    "\n",
    "El estudio realizado por el equipo de mercadeo arrojó que cada departamento tiene la siugiente demanda potencial.\n",
    "\n",
    "| Departamento | Cápital | Demanda (millones de won) |\n",
    "| :-------: | :-------: | :-------: |\n",
    "| Antioquia| Medellín | 153.9 |\n",
    "| Boyacá| Tunja | 29.5 |\n",
    "| Caldas| Manizales | 22.9 |\n",
    "| Caquetá| Florencia | 11.1 |\n",
    "| Cauca| Popayán | 32.6 |\n",
    "| Cesar| Valledupar | 24.5 |\n",
    "| Chocó| Quibdó | 11.8 |\n",
    "| Cundinamarca| Bogotá D.C | 165.6 |\n",
    "| Huila| Neiva | 27.9 |\n",
    "| Nariño| Pasto | 41.6 |\n",
    "| Norte de Santander| Cúcuta | 32.0 |\n",
    "| Putumayo| Mocoa | 8.3 |\n",
    "| Quindío| Armenia | 13.2 |\n",
    "| Risaralda| Pereira | 22.3 |\n",
    "| Santander| Bucaramanga | 48.1 |\n",
    "| Tolima| Ibagué | 32.8 |\n",
    "| Valle del Cauca| Cali | 111.6 |\n",
    "\n",
    "###### Nota: Las coordenadas de la capitales y cada demanda se encuentra en el documento [Region_Andina.txt:](Region_Andina.txt \"Ver el documento\").\n",
    "\n",
    "Como posibles ubicaciones de la maquila están las zonas francas de Neiva, Yumbo, Pereira, Funza, y Fontibon.\n",
    "\n",
    "Haga uso del programa [Minisum_Rectilineo](#programa \"Ir al programa\") para obtener los siguientes documentos.\n",
    "\n",
    "1. Resultados_Region_Andina.xlsx\n",
    "2. Grafico_de_Costos_de_Region_Andina.png\n",
    "3. Ubicaciones_de_Region_Andina.png:\n",
    "4. Mapa_CD_Region_Andina.html (Opcional)"
   ]
  },
  {
   "cell_type": "markdown",
   "metadata": {},
   "source": [
    "---\n",
    "## Informe"
   ]
  },
  {
   "cell_type": "markdown",
   "metadata": {},
   "source": [
    "Analice los resultados obtenidos con el [programa](#programa \"Ir a la sección del programa\") y escriba sus conclusiones [aquí](#conclusiones). Las siguientes preguntas le ayudarán a analizar el caso, sin embargo, hay muchos otros puntos sobre los que puede llegar a concluir.\n",
    "\n",
    "**Preguntas guía**\n",
    "- ¿Cuál es el punto o los puntos óptimos para ubicar la maquila?\n",
    "- ¿Hay alguna zona franca mejor que la otra o se puede poner la máquina en cualquiera de ellas?"
   ]
  },
  {
   "cell_type": "markdown",
   "metadata": {},
   "source": [
    "<a id='conclusiones'></a>\n",
    "## Conclusiones \n",
    "*Escriba aquí las conclusiones del análisis basado en los resultados obtenidos*"
   ]
  },
  {
   "cell_type": "markdown",
   "metadata": {},
   "source": [
    "<a id=\"programa\"></a>\n",
    "## Programa: Minisum Rectilíneo"
   ]
  },
  {
   "cell_type": "markdown",
   "metadata": {},
   "source": [
    "#### **Instrucciones**\n",
    "\n",
    "1. Lea el [Análisis del problema](../../Programa/Analisis.ipynb)\n",
    "2. Llenar la [plantilla](../../Plantilla/Plantilla_MsR.ipynb) del programa.\n",
    "3. Ejecutar el programa con la siguiente celda."
   ]
  },
  {
   "cell_type": "code",
   "execution_count": null,
   "metadata": {},
   "outputs": [],
   "source": [
    "def p1_MsR():\n",
    "    try:\n",
    "        %matplotlib inline\n",
    "        import os\n",
    "\n",
    "        os.chdir(\"../../Programa\")\n",
    "        from Minisum_Rectilineo import main\n",
    "        os.chdir(\"../Practicas/Practica_1\")\n",
    "\n",
    "        return main(\"p1\",1)\n",
    "\n",
    "    except(FileNotFoundError):\n",
    "        return print(\"No se encuentra el archivo Region_Andina.txt\")\n",
    "    except(Exception):\n",
    "        return print(\"El programa no se ha podido ejecutar correctamente\")\n",
    "    \n",
    "p1_MsR()"
   ]
  },
  {
   "cell_type": "code",
   "execution_count": null,
   "metadata": {},
   "outputs": [],
   "source": [
    "# Instalar módulo folium\n",
    "pip install folium"
   ]
  },
  {
   "cell_type": "markdown",
   "metadata": {},
   "source": [
    "---\n",
    "| [**Home**](../Minisum_Rectilineo.ipynb \"Ir a la página principal del algoritmo\")| - |[**Prácticas**](../Practicas_MsR.ipynb)| - | [**Plantilla**](../../Plantilla/Plantilla_MsR.ipynb \"Ir a la página de la plantilla\")|\n",
    "| :--------: | :-------: | :--------: | :--------: | :--------: |"
   ]
  }
 ],
 "metadata": {
  "kernelspec": {
   "display_name": "Python 3",
   "language": "python",
   "name": "python3"
  },
  "language_info": {
   "codemirror_mode": {
    "name": "ipython",
    "version": 3
   },
   "file_extension": ".py",
   "mimetype": "text/x-python",
   "name": "python",
   "nbconvert_exporter": "python",
   "pygments_lexer": "ipython3",
   "version": "3.7.4"
  }
 },
 "nbformat": 4,
 "nbformat_minor": 4
}
