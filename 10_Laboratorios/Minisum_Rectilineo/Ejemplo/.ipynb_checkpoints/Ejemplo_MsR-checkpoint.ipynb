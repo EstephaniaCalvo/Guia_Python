{
 "cells": [
  {
   "cell_type": "markdown",
   "metadata": {},
   "source": [
    "![Fig3_Encabezado.png](../../../Fig3_Encabezado.png)\n",
    "\n",
    "---"
   ]
  },
  {
   "cell_type": "markdown",
   "metadata": {},
   "source": [
    "## Ejemplo"
   ]
  },
  {
   "cell_type": "markdown",
   "metadata": {},
   "source": [
    "Suponga las siguientes coordenadas y sus pesos asociados, la cuales se encuentran almacenadas en el archivo [Ej_MsR.txt](Ej_MsR.txt).\n",
    "    \n",
    "   | x | y | w |\n",
    "   | :--------: | :--------: | :--------: |\n",
    "   | 3 | 2 | 34|\n",
    "   | 8 | 4 | 45|\n",
    "   | 1 | 8 | 78|\n",
    "   | 6 | 5 | 56|\n",
    "   | 4 | 3 | 40|\n",
    "\n",
    "Siga los siguientes pasos encontrar la ubicación óptima para poner una instalación que atienda a los puntos anteriores, dando prioridad a los de un peso mayor.\n",
    "\n",
    "**1.** Calcular la mitad del peso total: \n",
    "\n",
    "$W_{total} = 34 + 45 + 78 + 56 + 40 = 253$  \n",
    "\n",
    "$(\\frac{W_{total}}{ 2}) = 126,5$\n",
    "\n",
    "- **Ojo:** Si algún punto tiene un $w_i$ mayor a la mitad del peso total entonces ese es el punto óptimo.\n",
    "\n",
    "\n",
    "**2.** Ordenar la pareja coordenada - peso, en función de la coordenada de menor a mayor.\n",
    "\n",
    "| x | w | \n",
    "| :--------: | :--------: |\n",
    "| 1 | 78 | \n",
    "| 3 | 34 | \n",
    "| 4 | 40 | \n",
    "| 6 | 56 | \n",
    "| 8 | 45 | \n",
    " \n",
    "**4.** Calcular el peso acumulado, hasta que llegue o se pase de $\\frac{W_{total}}2$, la coordenada en la que suceda esto será la coordenada óptima, en este caso $X_1=4$.\n",
    "\n",
    "| x | w | **W** | \n",
    "| :--------: | :--------: | :--------: |\n",
    "| 1 | 78 | 78 | \n",
    "| 3 | 34 | 112 | \n",
    "|**4**|**40**|**152**| \n",
    "| 6 | 56 | N.A | \n",
    "| 8 | 45 | N.A | \n",
    "\n",
    "- **Ojo:** Si el peso de la coordenada óptima es igual a (Wt / 2), entonces existe otra coordenada óptima, por lo tanto, se deben repetir los pasos 3 y 4, pero con los datos organizados de mayor a menor o empezar la sumatoria de arriba a abajo."
   ]
  },
  {
   "cell_type": "markdown",
   "metadata": {},
   "source": [
    "#### Resultados <a id=\"resultados\"></a>\n",
    "\n",
    "Además del punto o segmento óptimo es recomendable generar una matriz con los valores del costo z para los puntos del plano donde están los objetivos, un gráfico de superficies de costos z y un gráfico de densidad con las ubicaciones objetivos y los puntos óptimos.\n",
    "\n",
    "1. **Archivo en Excel con los resultados:** Abra  o descargue el archivo Resultados_Ej_MsR.xlsx guardado en esta carpeta.\n",
    "\n",
    "![Optimo_MsR.png:](Optimo_Ej_MsR.png)\n",
    "\n",
    "![Matriz_MsR.png:](Matriz_Ej_MsR.png)\n",
    "\n",
    "2. **Gráfico de Costos:**   \n",
    "![Grafico_de_Costos_de_Ej_MsR.png:](Resultados/Grafico_de_Costos_de_Ej_MsR.png)\n",
    "\n",
    "3. **Gráfico de Ubicaciones:**  \n",
    "![Ubicaciones_de_Ej_MsR.png:](Resultados/Ubicaciones_de_Ej_MsR.png)"
   ]
  },
  {
   "cell_type": "markdown",
   "metadata": {},
   "source": [
    "---\n",
    "| [**Home**](../Minisum_Rectilineo.ipynb \"Ir a la página principal del algoritmo\")| - | [**Prácticas**](../Practicas/Practicas_MsR.ipynb \"Ir a la página de la prácticas\")|\n",
    "| :--------: | :-------: | :--------: |"
   ]
  }
 ],
 "metadata": {
  "kernelspec": {
   "display_name": "Python 3",
   "language": "python",
   "name": "python3"
  },
  "language_info": {
   "codemirror_mode": {
    "name": "ipython",
    "version": 3
   },
   "file_extension": ".py",
   "mimetype": "text/x-python",
   "name": "python",
   "nbconvert_exporter": "python",
   "pygments_lexer": "ipython3",
   "version": "3.7.4"
  }
 },
 "nbformat": 4,
 "nbformat_minor": 4
}
