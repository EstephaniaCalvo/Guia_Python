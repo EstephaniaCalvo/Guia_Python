{
 "cells": [
  {
   "cell_type": "markdown",
   "metadata": {},
   "source": [
    "![Fig3_Encabezado.png](../../../../Fig3_Encabezado.png)\n",
    "\n",
    "---"
   ]
  },
  {
   "cell_type": "markdown",
   "metadata": {},
   "source": [
    "## e. Guardar archivo de Resultados.xlsx\n",
    "\n",
    "- #### **Objetivos :** \n",
    "    1. Crear la carpeta Resultados\n",
    "    2. Almacenar el punto o los puntos óptimos en la hoja 1, y la matríz z en la hoja 2 de un archivo xlsx.\n",
    "    3. Guardar archivo.xlsx en la carpeta.\n",
    "    \n",
    "**Tenga en cuenta que:** \n",
    "  \n",
    "- El archivo debe tener el nombre del archivo de datos sin la extensión .txt.\n",
    "- Las hojas 1 y 2 deben tener el nombre de \"Óptimos\" y \"Matríz\" respectivamente.\n",
    "- Cada hoja debe tener un enunciado \"Punto óptimo\" o \"Puntos óptimos\" y \"Matríz de costos z\" según corresponda, con tamaño de letra tamaño 16 y en negrita.\n",
    "- La matríz z debe tener un formato condicional de escala."
   ]
  },
  {
   "cell_type": "markdown",
   "metadata": {},
   "source": [
    "- #### **Entradas :** "
   ]
  },
  {
   "cell_type": "code",
   "execution_count": null,
   "metadata": {},
   "outputs": [],
   "source": [
    "# 1. Archivo de datos.\n",
    "archivo='test_5.txt'\n",
    "# 2. opt: Tupla con el punto o segmento optimo y el valor de la función objetivo.\n",
    "opt=(([-5.0, 5.0], [-5.0, 6.0], [-4.0, 5.0], [-4.0, 6.0]), 'c', 371.0)\n",
    "\n",
    "import sys\n",
    "sys.path.append(\"../../Programa/Testing\")\n",
    "from test_var_MsR import mz5,vx5,vy5\n",
    "\n",
    "# 3. v_x: Vector con las coordenadas x de los puntos de la malla.\n",
    "v_x= vx5\n",
    "# 4. v_y: Vector con las coordenadas y de los puntos de la malla.\n",
    "v_y= vy5\n",
    "# 5. m_z: Matriz z con los costos para cada punto de la malla.\n",
    "m_z= mz5"
   ]
  },
  {
   "cell_type": "markdown",
   "metadata": {},
   "source": [
    "- #### **Salidas :** \n",
    "\n",
    "**1. Resultados_Archivo.xlsx:** Archivo de excel con el punto o segmento óptimo en la hoja 1 y la matríz de costos z en la hoja 2."
   ]
  },
  {
   "cell_type": "markdown",
   "metadata": {},
   "source": [
    "- #### **Código :** \n",
    "Complete la función para convertir las entradas en las salidas, ingrese al [material de apoyo](#material \"Ir al material de apoyo\") para ver los ejemplos que lo pueden guiar, una vez terminada ejecútela y compare sus resultados con el archivo R_Prueba_test_5.xlsx ubicado en la carpeta R_Pruebas."
   ]
  },
  {
   "cell_type": "code",
   "execution_count": null,
   "metadata": {},
   "outputs": [],
   "source": [
    "# Importar aquí los módulos necesarios\n",
    "\n",
    "# f. Guardar archivo de resultados.xlsx\n",
    "def resultados (archivo,opt,v_x,v_y,m_z): # Crear la función frecuencias con parámetros de entrada: lista de clases, lista de datos y archivo de datos.\n",
    "    \"\"\"\n",
    "    Crear y guardar el archivo.xls con los resultados del pograma en la carpeta Resultados.\n",
    "    \"\"\"\n",
    "    \n",
    "    # Escriba aquí el código:\n",
    "\n",
    "    return None"
   ]
  },
  {
   "cell_type": "markdown",
   "metadata": {},
   "source": [
    "- #### **Prueba :** <a id='prueba'></a>\n",
    "Ejecute la celda de entradas y luego la siguiente celda, finalmente compruebe si en la carpeta Resultados está el archivo Resultados_test_5.xlsx con el contenido correcto, si es así pase la función [aquí](../../Programa/Minisum_Rectilineo.py)"
   ]
  },
  {
   "cell_type": "code",
   "execution_count": null,
   "metadata": {},
   "outputs": [],
   "source": [
    "# Prueba de salidas\n",
    "resultados (archivo,opt,v_x,v_y,m_z)"
   ]
  },
  {
   "cell_type": "markdown",
   "metadata": {},
   "source": [
    "## Material de Apoyo <a id='material'></a>"
   ]
  },
  {
   "cell_type": "markdown",
   "metadata": {},
   "source": [
    "- [Crear carpetas](../../../../7_Lectura_y_Escritura/7_Lectura_y_Escritura.ipynb#Carpetas \"Ir a la sección Creación de carpetas de carpetas.\")\n",
    "\n",
    "- [Escribir Archivos.xlsx](../../../../7_Lectura_y_Escritura/7_Lectura_y_Escritura.ipynb#xlsx \"Ir a la sección de creación de archivos en Excel.\")"
   ]
  },
  {
   "cell_type": "markdown",
   "metadata": {},
   "source": [
    "---\n",
    "| [**Plantilla principal**](../Plantilla_MsR.ipynb \"Volver a la plantilla del programa principal\")|\n",
    "| :--------: |"
   ]
  }
 ],
 "metadata": {
  "kernelspec": {
   "display_name": "Python 3",
   "language": "python",
   "name": "python3"
  },
  "language_info": {
   "codemirror_mode": {
    "name": "ipython",
    "version": 3
   },
   "file_extension": ".py",
   "mimetype": "text/x-python",
   "name": "python",
   "nbconvert_exporter": "python",
   "pygments_lexer": "ipython3",
   "version": "3.7.4"
  }
 },
 "nbformat": 4,
 "nbformat_minor": 4
}
