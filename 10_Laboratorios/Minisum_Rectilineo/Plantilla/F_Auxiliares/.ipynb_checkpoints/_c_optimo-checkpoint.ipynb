{
 "cells": [
  {
   "cell_type": "markdown",
   "metadata": {},
   "source": [
    "![Fig3_Encabezado.png](../../../../Fig3_Encabezado.png)\n",
    "\n",
    "---"
   ]
  },
  {
   "cell_type": "markdown",
   "metadata": {},
   "source": [
    "## c. Calcular y organizar el o los puntos óptimos (optimo)\n",
    "\n",
    "- #### **Objetivo :**\n",
    "    Calcula y organiza el o los puntos óptimos para ubicar la instalación y el valor de la función objetivo a partir de la lista de coordenadas de los puntos objetivos.\n",
    "\n",
    "- #### **Entradas :** \n",
    "\n",
    "    **1. c_x:** Lista con las coordenadas x.       \n",
    "    **2. c_y:** Lista con las coordenadas y.  \n",
    "    **3. w:** Lista con los pesos de cada punto objetivo.    \n",
    "    **4. nd:** Número de decimales de los datos originales más uno.   "
   ]
  },
  {
   "cell_type": "code",
   "execution_count": null,
   "metadata": {},
   "outputs": [],
   "source": [
    "c_x=[0.0, 0.0, 0.0, 1.0, 2.0, 3.0, 4.0]\n",
    "c_y=[7.0, 8.0, 10.0, 10.0, 10.0, 11.0, 12.0]\n",
    "w= [20.0, 2.0, 3.0, 1.0, 5.0, 1.0, 1.0]\n",
    "nd=1"
   ]
  },
  {
   "cell_type": "markdown",
   "metadata": {},
   "source": [
    "- #### **Salidas :** \n",
    "\n",
    "**1. opt:** Tupla con el punto o puntos óptimos, el tipo de óptimo, y el valor de la función objetivo.\n",
    "\n",
    "Los tipos de óptimo son: \n",
    "\n",
    "a = Un solo punto.\n",
    "b= Dos puntos.\n",
    "c= Cuatro puntos.\n",
    "\n",
    "- Si es un punto\n",
    "~~~python\n",
    "opt=([0.0, 7.0], 'a', 56.0)\n",
    "~~~\n",
    "\n",
    "- Si son dos puntos\n",
    "~~~python\n",
    "opt= (([4.3, 5.6], [5.9, 5.6]), 'b', 165.9)\n",
    "~~~\n",
    "\n",
    "- Si son cuatro puntos\n",
    "~~~python\n",
    "(([-5.0, 5.0], [-5.0, 6.0], [-4.0, 5.0], [-4.0, 6.0]), 'c', 371.0)\n",
    "~~~\n",
    "\n",
    "- #### **Código :** \n",
    "    Complete la función para convertir las entradas en las salidas, ingrese al [material de apoyo](#material \"Ir al material de apoyo\") para ver los ejemplos que lo pueden guiar, una vez terminada ejecútela y pruébela [aquí](#prueba).\n",
    "\n",
    "    Tenga en en cuenta que esta función utiliza a [coord_opt](_b_coord_opt.ipynb \"Ir a la plantilla de la función\")"
   ]
  },
  {
   "cell_type": "code",
   "execution_count": null,
   "metadata": {},
   "outputs": [],
   "source": [
    "# Importar aquí los módulos necesarios\n",
    "\n",
    "# Pase aquí el código de la función coord_opt\n",
    "\n",
    "# c. Calcular y organizar el o los puntos óptimos\n",
    "def optimo(c_x, c_y, w,nd):\n",
    "    \"\"\"\n",
    "    Calcula y organiza el o los puntos óptimos para ubicar la instalación y el valor de la función objetivo\n",
    "    a partir de la lista de coordenadas de los puntos objetivos.\n",
    "    \"\"\"\n",
    "    \n",
    "    # Escriba aquí el código:\n",
    "\n",
    "    return opt,tipo,z"
   ]
  },
  {
   "cell_type": "markdown",
   "metadata": {},
   "source": [
    "- #### **Prueba :** <a id='prueba'></a>\n",
    "Ejecute la siguiente celda para probar la función, si es correcta, pásela [aquí](../../Programa/Minisum_Rectilineo.py)"
   ]
  },
  {
   "cell_type": "code",
   "execution_count": null,
   "metadata": {},
   "outputs": [],
   "source": [
    "import sys\n",
    "sys.path.append(\"../../Programa/Testing\")\n",
    "from testing_MsR import test_optimo\n",
    "\n",
    "t=test_optimo(optimo)"
   ]
  },
  {
   "cell_type": "markdown",
   "metadata": {},
   "source": [
    "## Material de Apoyo <a id='material'></a>"
   ]
  },
  {
   "cell_type": "markdown",
   "metadata": {},
   "source": [
    "- [Estructuras de decisión](../../../../3_Estructuras_Logicas/3_Estructuras_Logicas.ipynb#3_Estructuras_Logicas \"Ir al capítulo de Estructuras de decisión\")"
   ]
  },
  {
   "cell_type": "markdown",
   "metadata": {},
   "source": [
    "---\n",
    "| [**Plantilla principal**](../Plantilla_MsR.ipynb \"Volver a la plantilla del programa principal\")|\n",
    "| :--------: |"
   ]
  }
 ],
 "metadata": {
  "kernelspec": {
   "display_name": "Python 3",
   "language": "python",
   "name": "python3"
  },
  "language_info": {
   "codemirror_mode": {
    "name": "ipython",
    "version": 3
   },
   "file_extension": ".py",
   "mimetype": "text/x-python",
   "name": "python",
   "nbconvert_exporter": "python",
   "pygments_lexer": "ipython3",
   "version": "3.7.4"
  }
 },
 "nbformat": 4,
 "nbformat_minor": 4
}
