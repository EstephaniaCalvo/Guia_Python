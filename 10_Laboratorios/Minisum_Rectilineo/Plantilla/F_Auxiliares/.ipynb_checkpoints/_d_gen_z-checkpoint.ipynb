{
 "cells": [
  {
   "cell_type": "markdown",
   "metadata": {},
   "source": [
    "![Fig3_Encabezado.png](../../../../Fig3_Encabezado.png)\n",
    "\n",
    "---"
   ]
  },
  {
   "cell_type": "markdown",
   "metadata": {},
   "source": [
    "## d. Generar matriz Z (gen_z)\n",
    "\n",
    "- #### **Objetivo :**\n",
    "    Generar una malla 100 * 100 con los vectores 'x', 'y' a partir de las coordenadas, y calcula la matríz z.\n",
    "\n",
    "- #### **Entradas :** \n",
    "\n",
    "    **1. c_x:** Lista con las coordenadas x.         \n",
    "    **2. c_y:** Lista con las coordenadas y.    \n",
    "    **3. w:** Lista con los pesos de cada punto objetivo.    \n",
    "    **4. nd:** Número de decimales de los datos originales más uno.       "
   ]
  },
  {
   "cell_type": "code",
   "execution_count": null,
   "metadata": {},
   "outputs": [],
   "source": [
    "c_x= [3.22, 1.1, 2.2, 1.0, 7.5, 3.0, 9.0, 8.7, 11.0, 5.6]\n",
    "c_y= [1.0, 1.72, 2.01, 3.8, 4.3, 5.9, 6.5, 7.0, 8.91, 10.0]\n",
    "w= [1,2,3,4,5,1,2,3,4,5]\n",
    "nd=3"
   ]
  },
  {
   "cell_type": "markdown",
   "metadata": {},
   "source": [
    "- #### **Salidas :** \n",
    "\n",
    "    **1. v_x:** Vector con las coordenadas x de los puntos de la malla.   \n",
    "    **2. v_y:** Vector con las coordenadas y de los puntos de la malla.   \n",
    "    **3. m_z:** Matriz z con los costos para cada punto de la malla.   \n",
    "    \n",
    "    Puede ver ejemplos de las salidas [aquí](../../Programa/Testing/test_var_MsR.py)"
   ]
  },
  {
   "cell_type": "markdown",
   "metadata": {},
   "source": [
    "- #### **Código :** \n",
    "Complete la función para convertir las entradas en las salidas, ingrese al [material de apoyo](#material \"Ir al material de apoyo\") para ver los ejemplos que lo pueden guiar, una vez terminada ejecútela y pruébela [aquí](#prueba)."
   ]
  },
  {
   "cell_type": "code",
   "execution_count": null,
   "metadata": {},
   "outputs": [],
   "source": [
    "# Importar aquí los módulos necesarios\n",
    "\n",
    "# d. Calcular segmento óptimo    \n",
    "def gen_z(c_x,c_y,w,nd):\n",
    "    \"\"\"\n",
    "    Generar una malla 100 * 100 con los vectores 'x', 'y' a partir de las coordenadas, y calcula la matríz z.\n",
    "    \"\"\"\n",
    "    \n",
    "    # Escriba aquí el código:\n",
    "    \n",
    "    return (v_x,v_y,m_z)"
   ]
  },
  {
   "cell_type": "markdown",
   "metadata": {},
   "source": [
    "- #### **Prueba :** <a id='prueba'></a>\n",
    "Ejecute la siguiente celda para probar la función, si es correcta, pásela [aquí](../../Programa/Minisum_Rectilineo.py)"
   ]
  },
  {
   "cell_type": "code",
   "execution_count": null,
   "metadata": {},
   "outputs": [],
   "source": [
    "import sys\n",
    "sys.path.append(\"../../Programa/Testing\")\n",
    "from testing_MsR import test_gen_z\n",
    "\n",
    "t=test_gen_z(gen_z)"
   ]
  },
  {
   "cell_type": "markdown",
   "metadata": {},
   "source": [
    "## Material de Apoyo <a id='material'></a>"
   ]
  },
  {
   "cell_type": "markdown",
   "metadata": {},
   "source": [
    "- [Crear una malla](../../../../9_Modulos/9_Modulos_y_Paquetes.ipynb#malla  \"Ir al Mini_Ejemplo Crear una malla en apartado de Numpy del capítulo Módulos y paquetes.\")"
   ]
  },
  {
   "cell_type": "markdown",
   "metadata": {},
   "source": [
    "---\n",
    "| [**Plantilla principal**](../Plantilla_MsR.ipynb \"Volver a la plantilla del programa principal\")|\n",
    "| :--------: |"
   ]
  }
 ],
 "metadata": {
  "kernelspec": {
   "display_name": "Python 3",
   "language": "python",
   "name": "python3"
  },
  "language_info": {
   "codemirror_mode": {
    "name": "ipython",
    "version": 3
   },
   "file_extension": ".py",
   "mimetype": "text/x-python",
   "name": "python",
   "nbconvert_exporter": "python",
   "pygments_lexer": "ipython3",
   "version": "3.7.4"
  }
 },
 "nbformat": 4,
 "nbformat_minor": 4
}
