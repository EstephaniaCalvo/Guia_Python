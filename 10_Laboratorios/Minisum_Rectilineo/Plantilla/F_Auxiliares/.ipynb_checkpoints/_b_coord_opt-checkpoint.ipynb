{
 "cells": [
  {
   "cell_type": "markdown",
   "metadata": {},
   "source": [
    "## b. Calcular coordenada óptima (coord_opt)\n",
    "\n",
    "- #### **Objetivo :**\n",
    "    Calcular la o las coordenadas óptimas, apartir de la lista de la coordenada, la de los pesos y el peso total\n",
    "\n",
    "- #### **Entradas :** \n",
    "\n",
    "    **1. coord:** Lista de la coordenada.       \n",
    "    **2. w:** Lista de los pesos.       \n",
    "    **3. w_total:** Peso total.       "
   ]
  },
  {
   "cell_type": "code",
   "execution_count": null,
   "metadata": {},
   "outputs": [],
   "source": [
    "c_x= [0.0, 0.0, 0.0, 1.0, 2.0, 3.0, 4.0]\n",
    "w= [1,2,3,4,5,6,7]\n",
    "w_total= 28"
   ]
  },
  {
   "cell_type": "markdown",
   "metadata": {},
   "source": [
    "- #### **Salidas :** \n",
    "\n",
    "**1. c_opt:** Lista con la coordena o coordenadas óptimas.\n",
    "\n",
    "- Si es una sola:\n",
    "~~~python\n",
    "c_opt=[2.0]\n",
    "~~~\n",
    "- Si son dos:\n",
    "~~~python\n",
    "c_opt=[-5.0, -4.0]\n",
    "~~~\n",
    "\n",
    "- #### **Código :** \n",
    "Complete la función para convertir las entradas en las salidas, ingrese al [material de apoyo](#material \"Ir al material de apoyo\") para ver los ejemplos que lo pueden guiar, una vez terminada ejecútela y pruébela [aquí](#prueba)."
   ]
  },
  {
   "cell_type": "code",
   "execution_count": null,
   "metadata": {},
   "outputs": [],
   "source": [
    "# Importar aquí los módulos necesarios\n",
    "\n",
    "# b. Calcular coordenadas óptimas.\n",
    "def coord_opt(coord, w, w_total):\n",
    "    \"\"\"\n",
    "    Calcular la o las coordenadas óptima, apartir de la lista de la coordenada, la de los pesos y el peso total\n",
    "    \"\"\"\n",
    "    \n",
    "    # Escriba aquí el código:    \n",
    "\n",
    "    return c_opt"
   ]
  },
  {
   "cell_type": "markdown",
   "metadata": {},
   "source": [
    "- #### **Prueba :** <a id='prueba'></a>\n",
    "Ejecute la siguiente celda para probar la función, si es correcta, pásela [aquí](../../Programa/Minisum_Rectilineo.py)"
   ]
  },
  {
   "cell_type": "code",
   "execution_count": null,
   "metadata": {},
   "outputs": [],
   "source": [
    "import sys\n",
    "sys.path.append(\"../../Programa/Testing\")\n",
    "from testing_MsR import test_coord_opt\n",
    "\n",
    "t=test_coord_opt(coord_opt)"
   ]
  },
  {
   "cell_type": "markdown",
   "metadata": {},
   "source": [
    "## Material de Apoyo <a id='material'></a>"
   ]
  },
  {
   "cell_type": "markdown",
   "metadata": {},
   "source": [
    "- [Bloque if - else](../../../../../3_Estructuras_Logicas/3_Estructuras_Logicas.ipynb#Min-eje_Bloque-if-else \"Ir al Mini_Ejemplo: Bloque if - else\")\n",
    "- [Manejo de listas y tuplas](../../../../../5_Estructura_de_Datos/5_Estructura_de_Datos.ipynb#5_Estructura-de-Datos-Basicas \"Ir al capítulo de Estructuras de datos\")\n",
    "- [Operadores aritméticos](../../../../../2_Elementos_Basicos/2_Elementos_Basicos.ipynb#2.2_Operadores-Aritmeticos \"Ir al apartado de operadores artiméticos.\")\n",
    "\n",
    "- list comprehension\n",
    "- método .sort()\n",
    "- bloque while\n",
    "- indexación en matrices."
   ]
  },
  {
   "cell_type": "markdown",
   "metadata": {},
   "source": [
    "---\n",
    "| [**Plantilla principal**](../Plantilla_MsR.ipynb \"Volver a la plantilla del programa principal\")|\n",
    "| :--------: |"
   ]
  }
 ],
 "metadata": {
  "kernelspec": {
   "display_name": "Python 3",
   "language": "python",
   "name": "python3"
  },
  "language_info": {
   "codemirror_mode": {
    "name": "ipython",
    "version": 3
   },
   "file_extension": ".py",
   "mimetype": "text/x-python",
   "name": "python",
   "nbconvert_exporter": "python",
   "pygments_lexer": "ipython3",
   "version": "3.7.4"
  }
 },
 "nbformat": 4,
 "nbformat_minor": 4
}
