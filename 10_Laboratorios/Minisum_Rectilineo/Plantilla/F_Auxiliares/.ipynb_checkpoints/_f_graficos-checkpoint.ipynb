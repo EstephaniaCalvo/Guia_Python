{
 "cells": [
  {
   "cell_type": "markdown",
   "metadata": {},
   "source": [
    "![Fig3_Encabezado.png](../../../../Fig3_Encabezado.png)\n",
    "\n",
    "---"
   ]
  },
  {
   "cell_type": "markdown",
   "metadata": {},
   "source": [
    "## e. Hacer los gráficos (graficos)\n",
    "\n",
    "- #### **Objetivos :** \n",
    "    Mostrar, crear y guardar un gráfico de costos z y un gráfico de ubicaciones. \n",
    "\n",
    "    Tenga en cuenta que:\n",
    "    - El gráfico de costos es un gráfico de supercie en 3D, con un mapa de colores, por ejemplo, \"jet\".\n",
    "    - El gráfico de costos debe tener el título \"Gráfico de costos de Archivo\", sin la extención .txt.\n",
    "    - El gráfico de ubicaciones es un grafico de densidad, con un mapa de colores, las ubicaciones objetivos, y la ubicación optima superpuesta.\n",
    "    - El gráfico de ubicaciones debe tener el título \"Ubicaciones de Archivo\", sin la extención .txt."
   ]
  },
  {
   "cell_type": "markdown",
   "metadata": {},
   "source": [
    "- #### **Entradas :** "
   ]
  },
  {
   "cell_type": "code",
   "execution_count": null,
   "metadata": {},
   "outputs": [],
   "source": [
    "# 1. Archivo de datos.\n",
    "archivo='test_5.txt'\n",
    "# 2. opt: Tupla con el punto o segmento optimo y el valor de la función objetivo.\n",
    "opt=(([-5.0, 5.0], [-5.0, 6.0], [-4.0, 5.0], [-4.0, 6.0]), 'c', 371.0)\n",
    "\n",
    "import sys\n",
    "sys.path.append(\"../../Programa/Testing\")\n",
    "from test_var_MsR import mz5,vx5,vy5\n",
    "\n",
    "# 3. v_x: Vector con las coordenadas x de los puntos de la malla.\n",
    "v_x= vx5\n",
    "# 4. v_y: Vector con las coordenadas y de los puntos de la malla.\n",
    "v_y= vy5\n",
    "# 5. m_z: Matriz z con los costos para cada punto de la malla.\n",
    "m_z= mz5\n",
    "\n",
    "c_x=[-0.0, -0.0, -0.0, -1.0, -2.0, -3.0, -4.0, -5.0, -6.0, -7.0, -8.0, -10.0, -10.0, -10.0]\n",
    "c_y= [0.0, 1.0, 2.0, 2.0, 3.0, 4.0, 5.0, 6.0, 7.0, 8.0, 10.0, 10.0, 10.0, 11.0]"
   ]
  },
  {
   "cell_type": "markdown",
   "metadata": {},
   "source": [
    "- #### **Salidas :** \n",
    "\n",
    "**1. Grafico_de_costos_de_archivo.png:** Imagen .png del grafico de costos.    \n",
    "**2. Ubicaciones_de_archivo.png:** Imagen .png del grafico de ubicaciones.    "
   ]
  },
  {
   "cell_type": "markdown",
   "metadata": {},
   "source": [
    "- #### **Código :** \n",
    "Complete la función para convertir las entradas en las salidas, ingrese al [material de apoyo](#material \"Ir al material de apoyo\") para ver los ejemplos que lo pueden guiar, una vez terminada ejecútela y compare sus resultados con los archivos [RP_test_5_Costos.png](R_Pruebas/RP_test_5_Costos.png) y [RP_test_5_Ubicaciones.png](R_Pruebas/RP_test_5_Ubicaciones.png)."
   ]
  },
  {
   "cell_type": "code",
   "execution_count": null,
   "metadata": {},
   "outputs": [],
   "source": [
    "# Importar aquí los módulos necesarios\n",
    "\n",
    "# e. Hacer los gráficos\n",
    "def graficos (archivo,opt,v_x,v_y,m_z,c_x,c_y):\n",
    "    \"Crea el gráficos de costos y el gráfico de ubicaciones\"\n",
    "\n",
    "    # Escriba aquí el código:\n",
    "    \n",
    "    return None"
   ]
  },
  {
   "cell_type": "markdown",
   "metadata": {},
   "source": [
    "- #### **Prueba :** <a id='prueba'></a>\n",
    "Si la carpeta Resultados no existe créela en la misma ubicación de este notebook, luego ejecute la celda de entradas y la siguiente celda, finalmente compruebe si los archivos Grafico_de_costos_de_test_5.png y Ubicaciones_de_test_5.png fueron creados correctamente, si es así pase la función [aquí](../../Programa/Minisum_Rectilineo.py)"
   ]
  },
  {
   "cell_type": "code",
   "execution_count": null,
   "metadata": {},
   "outputs": [],
   "source": [
    "# Prueba de salidas\n",
    "graficos(archivo,opt,v_x,v_y,m_z,c_x,c_y)"
   ]
  },
  {
   "cell_type": "markdown",
   "metadata": {},
   "source": [
    "## Material de Apoyo <a id='material'></a>"
   ]
  },
  {
   "cell_type": "markdown",
   "metadata": {},
   "source": [
    "- [Grafico 3D](../../../../8_Graficos/8_Graficos.ipynb#3D \"Ir al subcapitulo de Gráficos 3D del capítulo 8. Gráficos.\")\n",
    "\n",
    "- [Gráficos de Densidad](../../../../8_Graficos/8_Graficos.ipynb#Densidad \"Ir al subcapitulo de Gráficos 3D del capítulo 8. Gráficos.\")"
   ]
  },
  {
   "cell_type": "markdown",
   "metadata": {},
   "source": [
    "---\n",
    "| [**Plantilla principal**](../Plantilla_MsR.ipynb \"Volver a la plantilla del programa principal\")|\n",
    "| :--------: |"
   ]
  }
 ],
 "metadata": {
  "kernelspec": {
   "display_name": "Python 3",
   "language": "python",
   "name": "python3"
  },
  "language_info": {
   "codemirror_mode": {
    "name": "ipython",
    "version": 3
   },
   "file_extension": ".py",
   "mimetype": "text/x-python",
   "name": "python",
   "nbconvert_exporter": "python",
   "pygments_lexer": "ipython3",
   "version": "3.7.4"
  }
 },
 "nbformat": 4,
 "nbformat_minor": 4
}
