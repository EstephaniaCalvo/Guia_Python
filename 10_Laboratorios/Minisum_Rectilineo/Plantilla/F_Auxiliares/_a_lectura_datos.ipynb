{
 "cells": [
  {
   "cell_type": "markdown",
   "metadata": {},
   "source": [
    "![Fig3_Encabezado.png](../../../../Fig3_Encabezado.png)\n",
    "\n",
    "---"
   ]
  },
  {
   "cell_type": "markdown",
   "metadata": {},
   "source": [
    "## a. Leer y almacenar datos de entradas (lectura_datos)\n",
    "\n",
    "- #### **Objetivo :** \n",
    "    Lee y almacena las coordenadas y pesos del [archivo](test_1.txt \"Ver archivo de datos\") indicado\"\n",
    "\n",
    "- #### **Entradas :** \n",
    "~~~python\n",
    "archivo='test_1.txt'\n",
    "~~~\n",
    "\n",
    "- #### **Salidas :** \n",
    "\n",
    "**1. c_x:** Lista con las coordenadas x.       \n",
    "**2. c_y:** Lista con las coordenadas y.  \n",
    "**3. w:** Lista con los pesos de cada punto objetivo.    \n",
    "**4. nd:** Número de decimales de los datos originales más uno.   "
   ]
  },
  {
   "cell_type": "code",
   "execution_count": null,
   "metadata": {},
   "outputs": [],
   "source": [
    "c_x=[0.0, 0.0, 0.0, 1.0, 2.0, 3.0, 4.0]\n",
    "c_y=[7.0, 8.0, 10.0, 10.0, 10.0, 11.0, 12.0]\n",
    "w= [20.0, 2.0, 3.0, 1.0, 5.0, 1.0, 1.0]\n",
    "nd=1"
   ]
  },
  {
   "cell_type": "markdown",
   "metadata": {},
   "source": [
    "- #### **Código :** \n",
    "Complete la función para convertir las entradas en las salidas e ingrese al [material de apoyo](#material \"Ir al material de apoyo\") para ver los ejemplos que lo pueden guiar. Una vez terminada ejecútela y pruébela [aquí](#prueba)."
   ]
  },
  {
   "cell_type": "code",
   "execution_count": null,
   "metadata": {},
   "outputs": [],
   "source": [
    "# Importar aquí los módulos necesarios\n",
    "\n",
    "# a. Leer y almacenar datos de entradas\n",
    "def lectura_datos(archivo):\n",
    "    \"Lee y almacena las coordenadas y pesos del archivo indicado\"\n",
    "\n",
    "    # Escriba aquí el código:\n",
    "\n",
    "    return c_x,c_y,w,nd"
   ]
  },
  {
   "cell_type": "markdown",
   "metadata": {},
   "source": [
    "- #### **Prueba :** <a id='prueba'></a>\n",
    "Ejecute la siguiente celda para probar la función, si es correcta, pásela [aquí](../../Programa/Minisum_Rectilineo.py)"
   ]
  },
  {
   "cell_type": "code",
   "execution_count": null,
   "metadata": {},
   "outputs": [],
   "source": [
    "import sys\n",
    "sys.path.append(\"../../Programa/Testing\")\n",
    "from testing_MsR import test_lectura_datos\n",
    "\n",
    "t=test_lectura_datos(lectura_datos)"
   ]
  },
  {
   "cell_type": "markdown",
   "metadata": {},
   "source": [
    "## Material de Apoyo <a id='material'></a>"
   ]
  },
  {
   "cell_type": "markdown",
   "metadata": {},
   "source": [
    "- [Almacenamiento de dos columnas](../../../../7_Lectura_y_Escritura/7_Lectura_y_Escritura.ipynb#DosColumnas \"Ir al Mini_Ejemplo Almacenar Archivo_i3.txt del capítulo de Lectura de archivos\")"
   ]
  },
  {
   "cell_type": "markdown",
   "metadata": {},
   "source": [
    "---\n",
    "| [**Plantilla principal**](../Plantilla_MsR.ipynb \"Volver a la plantilla del programa principal\")|\n",
    "| :--------: |"
   ]
  }
 ],
 "metadata": {
  "kernelspec": {
   "display_name": "Python 3",
   "language": "python",
   "name": "python3"
  },
  "language_info": {
   "codemirror_mode": {
    "name": "ipython",
    "version": 3
   },
   "file_extension": ".py",
   "mimetype": "text/x-python",
   "name": "python",
   "nbconvert_exporter": "python",
   "pygments_lexer": "ipython3",
   "version": "3.7.4"
  }
 },
 "nbformat": 4,
 "nbformat_minor": 4
}
