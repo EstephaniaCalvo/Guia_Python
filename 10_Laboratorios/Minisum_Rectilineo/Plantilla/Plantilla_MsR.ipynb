{
 "cells": [
  {
   "cell_type": "markdown",
   "metadata": {},
   "source": [
    "![Fig3_Encabezado.png](../../../Fig3_Encabezado.png)\n",
    "\n",
    "---"
   ]
  },
  {
   "cell_type": "markdown",
   "metadata": {},
   "source": [
    "# Plantilla - Minisum Rectilineo"
   ]
  },
  {
   "cell_type": "markdown",
   "metadata": {},
   "source": [
    "### **-2. Importar módulos**"
   ]
  },
  {
   "cell_type": "code",
   "execution_count": null,
   "metadata": {},
   "outputs": [],
   "source": [
    "# Importe aquí todos los módulos que necesite"
   ]
  },
  {
   "cell_type": "markdown",
   "metadata": {},
   "source": [
    "### **-1. Funciones auxiliares**"
   ]
  },
  {
   "cell_type": "markdown",
   "metadata": {},
   "source": [
    "<a id='lectura_datos'></a>\n",
    "#### a. Leer y almacenar datos de entradas ([lectura_datos](F_Auxiliares/_a_lectura_datos.ipynb \"Ir a la plantilla de lectura_datos\"))"
   ]
  },
  {
   "cell_type": "markdown",
   "metadata": {},
   "source": [
    "<a id='coord_opt'></a>\n",
    "#### b. Calcular coordenada óptima ([coord_opt](F_Auxiliares/_b_coord_opt.ipynb \"Ir a la plantilla de coord_opt\"))"
   ]
  },
  {
   "cell_type": "markdown",
   "metadata": {},
   "source": [
    "<a id='optimo'></a>\n",
    "#### c. Calcular segmento óptimo ([optimo](F_Auxiliares/_c_optimo.ipynb \"Ir a la plantilla de optimo\"))"
   ]
  },
  {
   "cell_type": "markdown",
   "metadata": {},
   "source": [
    "<a id='gen_z'></a>\n",
    "#### d. Generar matriz Z ([gen_z](F_Auxiliares/_d_gen_z.ipynb \"Ir a la plantilla de gen_z\"))"
   ]
  },
  {
   "cell_type": "markdown",
   "metadata": {},
   "source": [
    "<a id='resultados'></a>\n",
    "#### e. Guardar archivo de resultados.xlsx ([resultados](F_Auxiliares/_e_resultados.ipynb \"Ir a la plantilla de resultados\"))"
   ]
  },
  {
   "cell_type": "markdown",
   "metadata": {},
   "source": [
    "<a id='histograma'></a>\n",
    "#### f. Hacer los gráficos ([graficos](F_Auxiliares/_f_graficos.ipynb \"Ir a la plantilla de graficos\"))"
   ]
  },
  {
   "cell_type": "markdown",
   "metadata": {},
   "source": [
    "### **0. Programa principal** [Minisum_Rectilineo](../Programa/Minisum_Rectilineo.py)"
   ]
  },
  {
   "cell_type": "code",
   "execution_count": null,
   "metadata": {},
   "outputs": [],
   "source": [
    "def main(ingreso=1,cm=0):\n",
    "    \"\"\"\n",
    "    Al ingresar un archivo con las coordenadas (x,y) y con sus peso 'w' asociados a cada punto objetivo, \n",
    "    encuentra el punto o los puntos óptimos para ubicar la instalación, genera una matriz de costos, \n",
    "    devuelve un archivo de Excel con los resultados anteriores y guarda los gráficos de costos y ubicaciones.\n",
    "    \"\"\"\n",
    "\n",
    "    \"1. Leer archivo de coordenadas\"\n",
    "\n",
    "    # Ingresar archivo de coordenadas.\n",
    "    if ingreso==1:\n",
    "        a_coord=input(\"Por favor ingrese el archivo que contiene las coordenadas de los puntos objetivos,\\npor ejemplo, 'Municipios.txt':\\n\")\n",
    "    elif ingreso==\"e\":\n",
    "        a_coord=\"Ej_MsR.txt\"\n",
    "    elif ingreso==\"p1\":\n",
    "        a_coord=\"Region_Andina.txt\"\n",
    "    \n",
    "    # Leer el archivo de coordenadas.\n",
    "    \n",
    "    \"2. Calcular el punto o el segmento óptimo.\"\n",
    "\n",
    "    \"3. Calcular matriz de costos z\"   \n",
    "    \n",
    "    \"4. Crear el archivo de resultados\"\n",
    "    \n",
    "    \"5. Crear gráficos\"\n",
    "    \n",
    "    \"BONUS ---> 6. Crear mapa\"\n",
    "    try:\n",
    "        if cm==1:\n",
    "            m_ubicaciones=c_mapa(opt[0], opt[1], \"Resultados/\", \"Mapa_Maquila_JKshoes.html\")\n",
    "\n",
    "            return m_ubicaciones\n",
    "        else:\n",
    "            return None\n",
    "    except(Exception):\n",
    "        return None\n",
    "        \n",
    "if __name__=='__main__':\n",
    "    main()"
   ]
  },
  {
   "cell_type": "markdown",
   "metadata": {},
   "source": [
    "### **Función c_mapa** (Bonus)\n",
    "\n",
    "En la carpeta Programa se encuentra una carpeta llamada ‘Modulos’ que contiene el módulo [Mapa_Colombia.py](../Programa/Modulos/Mapa_Colombia.py) y en la carpeta de la práctica además del archivo de entradas está el archivo [Colombia.geojson](../Practicas/Practica_1/Modulos/Colombia.geojson).\n",
    "\n",
    "El archivo '.geojson' contiene la información y los datos para representar elementos geográficos.\n",
    "\n",
    "El archivo Mapa_Colombia.py es el módulo que tiene los datos para generar el mapa.\n",
    "\n",
    "Para crear el mapa debe usar el módulo ['folium'](https://python-visualization.github.io/folium/ \"Ir a la documentación oficial del módulo\").\n",
    "\n",
    "Cree una función cuyo objetivo sea generar un mapa de los departamentos de Colombia, con las ciudades de la región andina, las zonas francas, y señalar el o los puntos óptimos. Además, debe guardar el mapa en un archivo .html con la ruta y el nombre indicado.\n",
    "\n",
    "Las capitales de los departamentos deben estar señaladas con un marcador gris, la capital del país con rojo, las zonas francas con amarillo, y el punto o los puntos óptimos con un círculo rojo, además cada ubicación debe tener una pestaña que muestre el nombre cuando se pone el cursor en ellas.\n",
    "\n",
    "![Ej_Mapa_MsR](Ej_Mapa_MsR.png)"
   ]
  },
  {
   "cell_type": "markdown",
   "metadata": {},
   "source": [
    "---\n",
    "| [**Home**](../Minisum_Rectilineo.ipynb \"Ir a la página principal del algoritmo\")| - | [**Prácticas**](../Practicas/Practicas_MsR.ipynb \"Ir a la página de las prácticas\")|\n",
    "| :--------: | :-------: | :--------: |"
   ]
  }
 ],
 "metadata": {
  "kernelspec": {
   "display_name": "Python 3",
   "language": "python",
   "name": "python3"
  },
  "language_info": {
   "codemirror_mode": {
    "name": "ipython",
    "version": 3
   },
   "file_extension": ".py",
   "mimetype": "text/x-python",
   "name": "python",
   "nbconvert_exporter": "python",
   "pygments_lexer": "ipython3",
   "version": "3.7.4"
  }
 },
 "nbformat": 4,
 "nbformat_minor": 4
}
