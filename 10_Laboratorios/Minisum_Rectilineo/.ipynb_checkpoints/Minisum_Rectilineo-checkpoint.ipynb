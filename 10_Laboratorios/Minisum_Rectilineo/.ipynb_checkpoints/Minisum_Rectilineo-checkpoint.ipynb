{
 "cells": [
  {
   "cell_type": "markdown",
   "metadata": {},
   "source": [
    "# **Minisum Rectilíneo**"
   ]
  },
  {
   "cell_type": "markdown",
   "metadata": {},
   "source": [
    "## **Índice**\n",
    "\n",
    "- [Descripción](#descripción)\n",
    "- [Ejemplo](Ejemplo/Ejemplo_MsR.ipynb#ejemplo)\n",
    "- [Análisis del problema](Programa/Analisis.ipynb \"Ir al análisis del problema\")\n",
    "- [Práctica](Practica/Practica_MsR.ipynb)\n",
    "- [Código del Programa](Programa/Minisum_Rectilineo.py \"Ir a archivo del programa\") \n",
    "- [Instrucciones del programa](Programa/Instrucciones.ipynb \"Ir a las instrucciones del programa\")\n",
    "- [Testing](Programa/Testing/Testing_MsR.ipynb \"Ir archivo de Testing\")"
   ]
  },
  {
   "cell_type": "markdown",
   "metadata": {},
   "source": [
    "<a id=\"descripcion\"></a>\n",
    "\n",
    "### **Descripción**\n",
    "\n",
    "Este algoritmo es empleado para resolver problemas de localización de instalaciones bajo un modelo de distancia rectilínea, donde se necesita minizar el costo de transporte a otras instalaciones como clientes, centros de distribución, proveedores, etc, teniendo en cuenta su importancia, la cual se representa con un factor llamado peso.\n",
    "\n",
    "- Lo anterior puede ser modelado como un problema de programación líneal, donde la función objetivo es minizar el costo total de transporte.    \n",
    "    - **Función objetivo:**    \n",
    "    $MinZ=\\sum_{i} w_i( |X−x_i| + |Y−y_i| )$\n",
    "    \n",
    "    - Donde $X,Y$ es la coordenada de la ubicación óptima, $x_i,y_i$ son las coordenadas de cada ubicación que se quire cubrir y $w_i$ es el peso asociado a cada función.\n",
    "    \n",
    "- Para resolver este módelo se puende hallar la coordenada óptima 'x' y 'y' por separdo, el siguiente paso muestra un ejemplo de para econtrar el óptimo de la coordena x, sin embargo, el método es el mismo para la coordena y."
   ]
  },
  {
   "cell_type": "markdown",
   "metadata": {},
   "source": [
    "<a id=\"programa\"></a>\n",
    "### **Programa**"
   ]
  },
  {
   "cell_type": "markdown",
   "metadata": {},
   "source": [
    "\n",
    "**Recomendación**: Lea las [instrucciones del programa](Programa/Instrucciones.ipynb \"Ir a las instrucciones del programa\") antes de usarlo."
   ]
  },
  {
   "cell_type": "code",
   "execution_count": 8,
   "metadata": {},
   "outputs": [
    {
     "name": "stdin",
     "output_type": "stream",
     "text": [
      "Por favor ingrese el archivo que contiene las coordenadas de los puntos objetivos,\n",
      "por ejemplo, 'Municipios.txt':\n",
      " fdafdsfa\n"
     ]
    },
    {
     "name": "stdout",
     "output_type": "stream",
     "text": [
      "No se encuentra el archivo indicado.\n"
     ]
    }
   ],
   "source": [
    "try:\n",
    "    %matplotlib inline\n",
    "    import os\n",
    "\n",
    "    os.chdir(\"Programa\")\n",
    "    from Minisum_Rectilineo import main\n",
    "    os.chdir(\"../\")\n",
    "\n",
    "    main()\n",
    "except(FileNotFoundError):\n",
    "    print(\"No se encuentra el archivo indicado.\")\n",
    "except(Exception):\n",
    "    print(\"El programa no se ha podido ejecutar correctamente\")"
   ]
  }
 ],
 "metadata": {
  "kernelspec": {
   "display_name": "Python 3",
   "language": "python",
   "name": "python3"
  },
  "language_info": {
   "codemirror_mode": {
    "name": "ipython",
    "version": 3
   },
   "file_extension": ".py",
   "mimetype": "text/x-python",
   "name": "python",
   "nbconvert_exporter": "python",
   "pygments_lexer": "ipython3",
   "version": "3.7.4"
  }
 },
 "nbformat": 4,
 "nbformat_minor": 4
}
