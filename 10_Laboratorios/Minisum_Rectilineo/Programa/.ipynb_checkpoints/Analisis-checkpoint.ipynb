{
 "cells": [
  {
   "cell_type": "markdown",
   "metadata": {},
   "source": [
    "![Fig3_Encabezado.png](../../../Fig3_Encabezado.png)\n",
    "\n",
    "---"
   ]
  },
  {
   "cell_type": "markdown",
   "metadata": {},
   "source": [
    "# **Análisis - Minisum Rectilíneo** <a id='analisis'></a>\n",
    "\n",
    "- ### Objetivo\n",
    "Hacer un programa que al ingresar las coordenadas ('x','y') con su peso 'w' asociados a cada punto objetivo, encuentre el punto o los puntos óptimos para ubicar la instalación, genere una matriz de costos, devuelva un archivo de Excel con los resultados anteriores y guarde los gráficos de costos y ubicaciones.\n",
    "\n",
    "- ### Entradas \n",
    "    **1.**  [Datos:](../Ejemplo/Ej_MsR.txt \"Ver archivo de ejemplo\") Archivos de texto.txt, con las coordenadas 'x' y 'y' y los pesos 'w' de los puntos objetivos.    \n",
    "\n",
    "- ### Salidas\n",
    "    **0. Carpeta resultados:** Carpeta en la misma ubicación del programa llamada \"Resultados\" para almacenar los resultados del programa. (Ver la carpeta Resultados del ejemplo)   \n",
    "    **1. Resultados.xlsx:** Archivo de Excel con el punto o segmento de la ubicación óptima y una matriz de costos de 100 x 100. (Ver archivo en la carpeta Resultados del ejemplo)   \n",
    "    **2.**  [Grafico de Costos.png:](../Ejemplo/Resultados/Grafico_de_Costos_de_Ej_MsR.png) Imagen del gráfico de superficie de los costos.   \n",
    "    **3.** [Grafico de Ubicaciones.png:](../Ejemplo/Resultados/Ubicaciones_de_Ej_MsR.png) Imagen del gráfico de densidad de los costos con las ubicaciones de los puntos objetivos y la ubicación óptima de la instalación.   \n",
    "      \n",
    "- ### Algoritmo\n",
    "    1. Leer y almacenar los datos.\n",
    "    2. Calcular la mitad del peso total $W_{total}$\n",
    "    3. Verificar si algún $w_i$ es mayor o igual $\\frac{W_{total}}2$.\n",
    "    4. Si es falso --> Encontrar las coordenadas 'x', 'y' óptimas.\n",
    "        Para cada coordenada haga:   \n",
    "        4.1. Ordenar la pareja coordenada - peso, de menor a mayor en función de la primera.      \n",
    "        4.2. Calcular el peso acumulado, hasta que se pase de $\\frac{W_{total}}2$, la coordenada en la que suceda esto será la coordenada óptima.    \n",
    "        4.3. Si se llega a un peso acumulado exactamente igual $\\frac{W_{total}}2$, puede haber otra coordenada óptima además de esa así que repita los pasos 4.1 y 4.2 pero ordenando de mayor a menor la pareja coordenada - peso.    \n",
    "    5. Crear y guardar archivo de resultados.     \n",
    "    6. Crear y guardar el gráfico de costos. \n",
    "    3. Crear y guardar el gráfico de ubicaciones.  "
   ]
  },
  {
   "cell_type": "markdown",
   "metadata": {},
   "source": [
    "---\n",
    "| [**Home**](../Minisum_Rectilineo.ipynb \"Ir a la página principal del algoritmo\")|\n",
    "| :--------: |"
   ]
  }
 ],
 "metadata": {
  "kernelspec": {
   "display_name": "Python 3",
   "language": "python",
   "name": "python3"
  },
  "language_info": {
   "codemirror_mode": {
    "name": "ipython",
    "version": 3
   },
   "file_extension": ".py",
   "mimetype": "text/x-python",
   "name": "python",
   "nbconvert_exporter": "python",
   "pygments_lexer": "ipython3",
   "version": "3.7.4"
  }
 },
 "nbformat": 4,
 "nbformat_minor": 4
}
