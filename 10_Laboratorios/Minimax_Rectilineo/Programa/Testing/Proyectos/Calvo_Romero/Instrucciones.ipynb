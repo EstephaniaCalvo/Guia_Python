{
 "cells": [
  {
   "cell_type": "markdown",
   "metadata": {},
   "source": [
    "# **Instrucciones - Minimax Rectilíneo** <a id='instrucciones'></a>"
   ]
  },
  {
   "cell_type": "markdown",
   "metadata": {},
   "source": [
    "1. Asegúrese de tener en la misma ubicación del programa o del notebook un archivo de texto con las coordenadas de las ubicaciones objetivo. [Focos_suroeste.txt](../../Ejemplo/Focos_suroeste.txt \"Ver archivo del ejemplo\").\n",
    "2. Si ya existe una carpeta \"Resultados\" y desea conservarla, cámbiele el nombre o cámbiela de ubicación para no perder su contenido.\n",
    "3. Abra el programa Minimax_Rectilíneo.py, o corrarlo en el notebook.\n",
    "4. Escriba el nombre del archivo de datos.\n",
    "5. Una vez el programa se haya cerrado, los resultados estarán guardados en la carpeta \"Resultados\" en la misma ubicación del programa o del notebook.\n",
    "\n",
    "### **Evitar errores:**\n",
    "\n",
    "Para que el programa no presente errores al ejecutarse tenga en cuenta:\n",
    "\n",
    "#### 1. Archivo de datos ingresado:\n",
    "###### (Ver archivo Ej_Temp_Ad.txt)\n",
    "- Debe ser un archivo en de texto. (.txt)\n",
    "- Debe estar ubicado en la misma ruta (carpeta) del programa o notebook.\n",
    "- Los datos deben estar organizados en un vector (un solo dato en cada línea, formando una columna de datos).\n",
    "- No debe tener rótulos. (La primera línea debe tener el primer dato).\n",
    "- Si hay decimales estos deben ser indicados con punto \".\".\n",
    "- Todos los datos deben tener la misma cantidad de decimales.\n",
    "- No deben existir filas vacías, ni saltos de línea al final (la última fila debe tener el último dato).\n",
    "\n",
    "#### 2. Resultados.\n",
    "- En la ruta del programa o notebook no debe existir una carpeta llamada 'Resultados' antes de ejecutarlo, si existe los archivos que contengan pueden ser reemplazados.\n",
    "\n",
    "### **Nota:** \n",
    "- Por el momento el módulo del Mapa sólo funciona para mostrar las ubicaciones de las cuiudades, pueblos, y localizaciones óptimas del hospital de la prefactura de Iwate."
   ]
  }
 ],
 "metadata": {
  "kernelspec": {
   "display_name": "Python 3",
   "language": "python",
   "name": "python3"
  },
  "language_info": {
   "codemirror_mode": {
    "name": "ipython",
    "version": 3
   },
   "file_extension": ".py",
   "mimetype": "text/x-python",
   "name": "python",
   "nbconvert_exporter": "python",
   "pygments_lexer": "ipython3",
   "version": "3.7.4"
  }
 },
 "nbformat": 4,
 "nbformat_minor": 4
}
