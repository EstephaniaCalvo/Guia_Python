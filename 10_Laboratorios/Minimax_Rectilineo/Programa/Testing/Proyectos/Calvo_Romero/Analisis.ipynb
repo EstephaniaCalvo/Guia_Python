{
 "cells": [
  {
   "cell_type": "markdown",
   "metadata": {},
   "source": [
    "<a id='analisis'></a>\n",
    "# **Análisis - Minimax Rectilíneo**\n",
    "\n",
    "- ### Objetivo\n",
    "Hacer un programa que al ingresar las coordenadas 'x' y 'y' asociados a cada punto por cubir, encuentre el punto o los puntos óptimos para ubicar la instalación y guarde el gráfico de costos, manejando un modelo de distancia rectilíneo y sigiendo el método de las constantes.\n",
    "\n",
    "- ### Entradas \n",
    "    **1. Datos:** Archivos de texto.txt, con las coordenadas 'x' y 'y' de cada punto a cubrir.    \n",
    "\n",
    "- ### Salidas\n",
    "    **0. Carpeta resultados:** Carpeta en la misma ubicación del programa llamada \"Resultados\" para almacenar los resultados de este.      \n",
    "    **1. Ubicación óptima:** Archivo.txt que contenga las cordenadas de la ubicación optima o del segmento de ubicaciones optimas encontradas por el programa (debe guardarse en la carpeta \"Resultados\").    \n",
    "    **2.Gráfico de costos:** Imagen .png, con el gráfico de costos (debe guardarse en la carpeta \"Resultados\").    \n",
    "\n",
    "- ### Algoritmo\n",
    "    1. Leer y almacenar los datos.\n",
    "    2. Encontra los puntos optimos.    \n",
    "        2.1. Calcular los valores de suma=(xi + yi) y resta=(-xi yi), para cada coordenada xi, yi.      \n",
    "        2.2. Calcular los valores de las constantes.\n",
    "            2.2.1. Calcular c1= min {suma}     \n",
    "            2.2.2. Calcular c2= max {suma}   \n",
    "            2.2.3. Calcular c3= min {resta}     \n",
    "            2.2.4. Calcular c4= max {resta}   \n",
    "            2.2.5. Calcular c5= = max {(c 2 - c 1) , (c 4 - c 3)}     \n",
    "        2.3. Calcular el valor de la función objetivo Z'= c5 / 2.    \n",
    "        2.4. Econtrar el punto o segmento de puntos óptimos.   \n",
    "    3. Crear y guardar el gráfico de costos.     "
   ]
  }
 ],
 "metadata": {
  "kernelspec": {
   "display_name": "Python 3",
   "language": "python",
   "name": "python3"
  },
  "language_info": {
   "codemirror_mode": {
    "name": "ipython",
    "version": 3
   },
   "file_extension": ".py",
   "mimetype": "text/x-python",
   "name": "python",
   "nbconvert_exporter": "python",
   "pygments_lexer": "ipython3",
   "version": "3.7.4"
  }
 },
 "nbformat": 4,
 "nbformat_minor": 4
}
