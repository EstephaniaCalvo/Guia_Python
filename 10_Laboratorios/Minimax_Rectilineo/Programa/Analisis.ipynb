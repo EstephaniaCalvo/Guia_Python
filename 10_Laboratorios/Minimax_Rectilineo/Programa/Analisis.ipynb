{
 "cells": [
  {
   "cell_type": "markdown",
   "metadata": {},
   "source": [
    "![Fig3_Encabezado.png](../../../Fig3_Encabezado.png)\n",
    "\n",
    "---"
   ]
  },
  {
   "cell_type": "markdown",
   "metadata": {},
   "source": [
    "<a id='analisis'></a>\n",
    "# **Análisis - Minimax Rectilíneo**\n",
    "\n",
    "- ### Objetivo\n",
    "Hacer un programa que al ingresar las coordenadas 'x' y 'y' asociados a cada punto por cubir, encuentre con el método de las constantes el punto o el segmento óptimos para ubicar la instalación manejando un modelo de distancia rectilíneo, genere una matriz de costos, devuelva un archivo de excel con los resultados anteriores y guarde los gráfico de costos y ubicaciones.\n",
    "\n",
    "- ### Entradas \n",
    "    **1.** [Datos:](../Ejemplo/Ej_MR.txt \"Ver archivo de ejemplo\")  Archivos de texto.txt, con las coordenadas 'x' y 'y' de los puntos objetivos.    \n",
    "\n",
    "- ### Salidas   \n",
    "    **0. Carpeta resultados:** Carpeta en la misma ubicación del programa llamada \"Resultados\" para almacenar los resultados de este. (Ver la carpeta Resultados del ejemplo)        \n",
    "    **1. Resultados.xlsx:** Archivo de excel con el punto o segmento de la ubicación óptima y una matríz de costos de 100 x 100. (Ver archivo en la carpeta Resultados del ejemplo)    \n",
    "    **2.** [Grafico de Costos.png](../Ejemplo/Resultados/Grafico_de_Costos_de_Ej_MR.png): Imagén del gráfico de superfice de los costos.    \n",
    "    **3.** [Grafico de Ubicaciones.png:](../Ejemplo/Resultados/Ubicaciones_de_Ej_MR.png) Imagen del gráfico de densidad de los costos con las ubicaciones de los puntos objetivos y la ubicación óptima de la instlación.   \n",
    "\n",
    "- ### Algoritmo\n",
    "    1. Leer y almacenar los datos.\n",
    "    2. Encontra los puntos optimos.    \n",
    "        2.1. Calcular los valores de suma=(xi + yi) y resta=(-xi yi), para cada coordenada xi, yi.      \n",
    "        2.2. Calcular los valores de las constantes.\n",
    "            2.2.1. Calcular c1= min {suma}     \n",
    "            2.2.2. Calcular c2= max {suma}   \n",
    "            2.2.3. Calcular c3= min {resta}     \n",
    "            2.2.4. Calcular c4= max {resta}   \n",
    "            2.2.5. Calcular c5= = max {(c 2 - c 1) , (c 4 - c 3)}     \n",
    "        2.3. Calcular el valor de la función objetivo Z'= c5 / 2.    \n",
    "        2.4. Econtrar el punto o segmento de puntos óptimos.   \n",
    "    3. Crear y guardar archivo de resultados. \n",
    "    4. Crear y guardar el gráfico de costos. \n",
    "    5. Crear y guardar el gráfico de ubicaciones.  "
   ]
  },
  {
   "cell_type": "markdown",
   "metadata": {},
   "source": [
    "---\n",
    "| [**Home**](../Minimax_Rectilineo.ipynb \"Ir a la página principal del algoritmo\")|\n",
    "| :--------: |"
   ]
  }
 ],
 "metadata": {
  "kernelspec": {
   "display_name": "Python 3",
   "language": "python",
   "name": "python3"
  },
  "language_info": {
   "codemirror_mode": {
    "name": "ipython",
    "version": 3
   },
   "file_extension": ".py",
   "mimetype": "text/x-python",
   "name": "python",
   "nbconvert_exporter": "python",
   "pygments_lexer": "ipython3",
   "version": "3.7.4"
  }
 },
 "nbformat": 4,
 "nbformat_minor": 4
}
