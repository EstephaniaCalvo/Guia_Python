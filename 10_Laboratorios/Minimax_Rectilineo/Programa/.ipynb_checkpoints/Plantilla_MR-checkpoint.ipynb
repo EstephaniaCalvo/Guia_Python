{
 "cells": [
  {
   "cell_type": "markdown",
   "metadata": {},
   "source": [
    "### **-2. Importar módulos**"
   ]
  },
  {
   "cell_type": "code",
   "execution_count": null,
   "metadata": {},
   "outputs": [],
   "source": [
    "# Importe aquí todos los módulos que necesite"
   ]
  },
  {
   "cell_type": "markdown",
   "metadata": {},
   "source": [
    "### **-1. Funciones auxiliares**"
   ]
  },
  {
   "cell_type": "markdown",
   "metadata": {},
   "source": [
    "<a id='lectura_datos'></a>\n",
    "#### a. Leer y almacenar datos de entradas ([lectura_datos](F_Auxiliares/_a_lectura_datos.ipynb \"Ir a la plantilla de lectura_datos\"))"
   ]
  },
  {
   "cell_type": "markdown",
   "metadata": {},
   "source": [
    "<a id='optimo'></a>\n",
    "#### b. Calcular segmento óptimo ([optimo](F_Auxiliares/_b_optimo.ipynb \"Ir a la plantilla de optimo\"))"
   ]
  },
  {
   "cell_type": "markdown",
   "metadata": {},
   "source": [
    "<a id='gen_z'></a>\n",
    "#### c. Generar matriz Z ([gen_z](F_Auxiliares/_c_gen_z.ipynb \"Ir a la plantilla de gen_z\"))"
   ]
  },
  {
   "cell_type": "markdown",
   "metadata": {},
   "source": [
    "<a id='resultados'></a>\n",
    "#### d. Guardar archivo de resultados.xlsx ([resultados](F_Auxiliares/_d_resultados.ipynb \"Ir a la plantilla de resultados\"))"
   ]
  },
  {
   "cell_type": "markdown",
   "metadata": {},
   "source": [
    "<a id='histograma'></a>\n",
    "#### e. Hacer los gráficos ([graficos](F_Auxiliares/_e_graficos.ipynb \"Ir a la plantilla de graficos\"))"
   ]
  },
  {
   "cell_type": "markdown",
   "metadata": {},
   "source": [
    "### **0. Programa principal** [Minimax_Rectilineo](Minimax_Rectilineo.py)"
   ]
  },
  {
   "cell_type": "code",
   "execution_count": null,
   "metadata": {},
   "outputs": [],
   "source": [
    "def main(ingreso=1,cm=0):\n",
    "    \"\"\"\n",
    "    Al ingresar un archivo con coordenadas de puntos objetivos, calcula y guarda el punto o \n",
    "    el segmento óptimo para ubicar una instalación que garantice la cobertura de todos los objetivos, \n",
    "    la matríz de costos de 10,000 y guarda los gráficos de costos y de ubicaciones.\n",
    "    \"\"\"\n",
    "\n",
    "    \"1. Leer archivo de coordenadas\"\n",
    "\n",
    "    # Ingresar archivo de coordenadas.\n",
    "    if ingreso==1:\n",
    "        a_coord=input(\"Por favor ingrese el archivo que contiene las coordenadas de los puntos objetivos,\\npor ejemplo, 'Municipios.txt':\\n\")\n",
    "    elif ingreso==2:\n",
    "        a_coord=\"Focos_suroeste.txt\"\n",
    "    else:\n",
    "        a_coord=\"Iwate.txt\"\n",
    "    \n",
    "    # Leer el archivo de coordenadas.\n",
    "    \n",
    "    \"2. Calcular el punto o el segmento óptimo.\"\n",
    "\n",
    "    \"3. Calcular matríz de costos z\"   \n",
    "    \n",
    "    \"4. Crear el archivo de resultados\"\n",
    "    \n",
    "    \"5. Crear gráficos\"\n",
    "    \n",
    "    \"BONUS ---> 6. Crear mapa\"\n",
    "        \n",
    "if __name__=='__main__':\n",
    "    main()"
   ]
  },
  {
   "cell_type": "markdown",
   "metadata": {},
   "source": [
    "### **Módulo Mapa_Iwate** (Bonus)\n",
    "\n",
    "En la carpeta Práctica se encuentra una carpeta llamada Modulos, a su vez en ella están los siguientes archivos:\n",
    "\n",
    "- [Mapa_Iwate.py](../Modulos/Mapa_Iwate.py)\n",
    "- [jp_cities1.geojson](../Modulos/jp_cities1.geojson)\n",
    "- [jp_prefs1.geojson](../Modulos/jp_prefs1.geojson)\n",
    "\n",
    "Los archivos '.geojson' contienen la información y los datos para representar elementos geográficos.\n",
    "\n",
    "El archivo Mapa_Iwate.py es el módulo que genera el mapa, a partir de los archivos '.geojson', el módulo ['folium'](https://python-visualization.github.io/folium/ \"Ir a la documentación oficial del módulo\") y los datos de la prácitca, coordenadas de la ciudades, publos, coordenadas del punto o segmento óptimo.\n",
    "\n",
    "El objetivo principal del módulo es generar un mapa de la prefactura de Iwate Japón, con sus cidudades y pueblos, y señala un punto o segmento índicado. Además guarda el mapa el un archivo .html con la ruta y el nombre indicado, este debe tener la extensión \".html\".\n",
    "\n",
    "Las cuidades están señaladas con un marcador amarillo, los pueblos o villas en en gris, la capital es el markador rojo, y el punto o los puntos optimos están señalado con puntos rojos, además cada ubicación tiene una pestaña que muestra su nombre cuando se pone el cursor en ellas.\n",
    "\n",
    "![Ej_Mapa](Ej_Mapa.png)\n",
    "\n",
    "![Ej_Mapa_2](Ej_Mapa_2.png)"
   ]
  }
 ],
 "metadata": {
  "kernelspec": {
   "display_name": "Python 3",
   "language": "python",
   "name": "python3"
  },
  "language_info": {
   "codemirror_mode": {
    "name": "ipython",
    "version": 3
   },
   "file_extension": ".py",
   "mimetype": "text/x-python",
   "name": "python",
   "nbconvert_exporter": "python",
   "pygments_lexer": "ipython3",
   "version": "3.7.4"
  }
 },
 "nbformat": 4,
 "nbformat_minor": 4
}
