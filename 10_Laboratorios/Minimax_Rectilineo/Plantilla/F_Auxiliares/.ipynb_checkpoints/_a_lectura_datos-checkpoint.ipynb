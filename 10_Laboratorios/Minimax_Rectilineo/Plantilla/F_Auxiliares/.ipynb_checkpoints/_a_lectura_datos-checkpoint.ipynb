{
 "cells": [
  {
   "cell_type": "markdown",
   "metadata": {},
   "source": [
    "## a. Leer y almacenar datos de entradas (lectura_datos)\n",
    "\n",
    "- #### **Objetivo :** \n",
    "    Lee y almacenar las coordenas en el [archivo](test_1.txt \"Ver archivo de datos\") indicado.\n",
    "\n",
    "- #### **Entradas :** \n",
    "~~~python\n",
    "archivo='test_1.txt'\n",
    "~~~\n",
    "\n",
    "- #### **Salidas :** \n",
    "\n",
    "**1. c_x:** Lista con las coordenadas x.       \n",
    "**2. c_y:** Lista con las coordenadas y.       \n",
    "**3. nd:** Número de decimales de los datos originales más uno.   "
   ]
  },
  {
   "cell_type": "code",
   "execution_count": null,
   "metadata": {},
   "outputs": [],
   "source": [
    "c_x=[2.0, 1.0, 3.0, 5.0, 6.0, 10.0, 8.0, 4.0, 0.0, 7.0]\n",
    "c_y=[4.0, 1.0, 2.0, 1.0, 7.0, 3.0, 9.0, 8.0, 11.0, 5.0]\n",
    "nd=1"
   ]
  },
  {
   "cell_type": "markdown",
   "metadata": {},
   "source": [
    "- #### **Código :** \n",
    "Complete la función para convertir las entradas en las salidas, ingrese al [material de apoyo](#material \"Ir al material de apoyo\") para ver los ejemplos que lo pueden guiar, una vez terminada ejecútela y pruébela [aquí](#prueba)."
   ]
  },
  {
   "cell_type": "code",
   "execution_count": null,
   "metadata": {},
   "outputs": [],
   "source": [
    "# Importar aquí los módulos necesarios\n",
    "\n",
    "# a. Leer y almacenar datos de entradas\n",
    "def lectura_datos(archivo):\n",
    "    \"Lee y almacena las coordenas del archivo indicado\"\n",
    "\n",
    "    # Escriba aquí el código:\n",
    "\n",
    "    return c_x,c_y,nd"
   ]
  },
  {
   "cell_type": "markdown",
   "metadata": {},
   "source": [
    "- #### **Prueba :** <a id='prueba'></a>\n",
    "Ejecute la siguiente celda para probar la función, si es correcta, pásela [aquí](../../Programa/Minimax_Rectilineo.py)"
   ]
  },
  {
   "cell_type": "code",
   "execution_count": null,
   "metadata": {},
   "outputs": [],
   "source": [
    "import sys\n",
    "sys.path.append(\"../../Programa/Testing\") \n",
    "from testing_MR import test_lectura_datos\n",
    "\n",
    "test_lectura_datos(lectura_datos)"
   ]
  },
  {
   "cell_type": "markdown",
   "metadata": {},
   "source": [
    "## Material de Apoyo <a id='material'></a>"
   ]
  },
  {
   "cell_type": "markdown",
   "metadata": {},
   "source": [
    "- [Almacenamiento en listas aparte](../../../../../7_Lectura_y_Escritura/7_Lectura_y_Escritura.ipynb#Min-eje_A_Archivo_i3.txt \"Ir al capítulo de Lectura de archivos\")\n",
    "- [Manejo de listas y tuplas](../../../../../5_Estructura_de_Datos/5_Estructura_de_Datos.ipynb#5_Estructura-de-Datos-Basicas \"Ir al capítulo de Estructuras de datos\")\n",
    "- [Métodos de iterables](../../../../../4_Bucles_e_Iterables/4_Bucles_e_Iterables.ipynb#4.1.1_Metodos-Basicos \"Ir al cápitulo de iterables\")"
   ]
  },
  {
   "cell_type": "markdown",
   "metadata": {},
   "source": [
    "---\n",
    "| [**Plantilla pirncipal**](../Plantilla_MR.ipynb \"Volver a la plantilla del programa principal\")|\n",
    "| :--------: |"
   ]
  }
 ],
 "metadata": {
  "kernelspec": {
   "display_name": "Python 3",
   "language": "python",
   "name": "python3"
  },
  "language_info": {
   "codemirror_mode": {
    "name": "ipython",
    "version": 3
   },
   "file_extension": ".py",
   "mimetype": "text/x-python",
   "name": "python",
   "nbconvert_exporter": "python",
   "pygments_lexer": "ipython3",
   "version": "3.7.4"
  }
 },
 "nbformat": 4,
 "nbformat_minor": 4
}
