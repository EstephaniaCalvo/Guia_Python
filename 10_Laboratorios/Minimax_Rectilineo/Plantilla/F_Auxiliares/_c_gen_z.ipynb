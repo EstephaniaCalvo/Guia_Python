{
 "cells": [
  {
   "cell_type": "markdown",
   "metadata": {},
   "source": [
    "## c. Generar matriz Z (gen_z)\n",
    "\n",
    "- #### **Objetivo :**\n",
    "    Generar una malla 100 * 100 con los vectores 'x', 'y' a partir de las coordenadas, y calcula la matríz z.\n",
    "\n",
    "- #### **Entradas :** \n",
    "\n",
    "    **1. c_x:** Lista con las coordenadas x.       \n",
    "    **2. c_y:** Lista con las coordenadas y.       \n",
    "    **3. nd:** Número de decimales de los datos originales más uno.       "
   ]
  },
  {
   "cell_type": "code",
   "execution_count": null,
   "metadata": {},
   "outputs": [],
   "source": [
    "c_x= [2.1, 1.2, 3.8, 5.9, 6.5, 10.0, 8.1, 4.3, 0.0, 7.0]\n",
    "c_y= [4.0, 1.1, 2.2, 1.0, 7.5, 3.0, 9.0, 8.7, 11.0, 5.6]\n",
    "nd= 2"
   ]
  },
  {
   "cell_type": "markdown",
   "metadata": {},
   "source": [
    "- #### **Salidas :** \n",
    "\n",
    "    **1. v_x:** Vector con las coordenadas x de los puntos de la malla.   \n",
    "    **2. v_y:** Vector con las coordenadas y de los puntos de la malla.   \n",
    "    **3. m_z:** Matriz z con los costos para cada punto de la malla.   \n",
    "    \n",
    "    Puede ver ejemplos de las salidas [aquí](../../Programa/Testing/test_var_MR.py)"
   ]
  },
  {
   "cell_type": "markdown",
   "metadata": {},
   "source": [
    "- #### **Código :** \n",
    "Complete la función para convertir las entradas en las salidas, ingrese al [material de apoyo](#material \"Ir al material de apoyo\") para ver los ejemplos que lo pueden guiar, una vez terminada ejecútela y pruébela [aquí](#prueba)."
   ]
  },
  {
   "cell_type": "code",
   "execution_count": null,
   "metadata": {},
   "outputs": [],
   "source": [
    "# Importar aquí los módulos necesarios\n",
    "\n",
    "# c. Calcular segmento óptimo    \n",
    "def gen_z(c_x,c_y,nd):\n",
    "    \"\"\"\n",
    "    Generar una malla 100 * 100 con los vectores 'x', 'y' a partir de las coordenadas, y calcula la matríz z.\n",
    "    \"\"\"\n",
    "    \n",
    "    # Escriba aquí el código:\n",
    "    \n",
    "    return (v_x,v_y,m_z)"
   ]
  },
  {
   "cell_type": "markdown",
   "metadata": {},
   "source": [
    "- #### **Prueba :** <a id='prueba'></a>\n",
    "Ejecute la siguiente celda para probar la función, si es correcta, pásela [aquí](../../Programa/Minimax_Rectilineo.py)"
   ]
  },
  {
   "cell_type": "code",
   "execution_count": null,
   "metadata": {},
   "outputs": [],
   "source": [
    "import sys\n",
    "sys.path.append(\"../../Programa/Testing\")\n",
    "from testing_MR import test_gen_z\n",
    "\n",
    "test_gen_z(gen_z)"
   ]
  },
  {
   "cell_type": "markdown",
   "metadata": {},
   "source": [
    "## Material de Apoyo <a id='material'></a>"
   ]
  },
  {
   "cell_type": "markdown",
   "metadata": {},
   "source": [
    "- [Bloque if - else](../../../../../3_Estructuras_Logicas/3_Estructuras_Logicas.ipynb#Min-eje_Bloque-if-else \"Ir al Mini_Ejemplo: Bloque if - else\")\n",
    "- [Manejo de listas y tuplas](../../../../../5_Estructura_de_Datos/5_Estructura_de_Datos.ipynb#5_Estructura-de-Datos-Basicas \"Ir al capítulo de Estructuras de datos\")\n",
    "- [Operadores aritméticos](../../../../../2_Elementos_Basicos/2_Elementos_Basicos.ipynb#2.2_Operadores-Aritmeticos \"Ir al apartado de operadores artiméticos.\")"
   ]
  },
  {
   "cell_type": "markdown",
   "metadata": {},
   "source": [
    "---\n",
    "| [**Plantilla pirncipal**](../Plantilla_MR.ipynb \"Volver a la plantilla del programa principal\")|\n",
    "| :--------: |"
   ]
  }
 ],
 "metadata": {
  "kernelspec": {
   "display_name": "Python 3",
   "language": "python",
   "name": "python3"
  },
  "language_info": {
   "codemirror_mode": {
    "name": "ipython",
    "version": 3
   },
   "file_extension": ".py",
   "mimetype": "text/x-python",
   "name": "python",
   "nbconvert_exporter": "python",
   "pygments_lexer": "ipython3",
   "version": "3.7.4"
  }
 },
 "nbformat": 4,
 "nbformat_minor": 4
}
