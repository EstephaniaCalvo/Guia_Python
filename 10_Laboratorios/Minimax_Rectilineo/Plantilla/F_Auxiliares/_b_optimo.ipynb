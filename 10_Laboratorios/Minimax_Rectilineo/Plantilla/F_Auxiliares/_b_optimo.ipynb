{
 "cells": [
  {
   "cell_type": "markdown",
   "metadata": {},
   "source": [
    "![Fig3_Encabezado.png](../../../../Fig3_Encabezado.png)\n",
    "\n",
    "---"
   ]
  },
  {
   "cell_type": "markdown",
   "metadata": {},
   "source": [
    "## b. Calcular segmento óptimo (optimo)\n",
    "\n",
    "- #### **Objetivo :**\n",
    "    Calcular el punto óptimo o el segmento óptimo donde ubicar la instalación, y el valor de la función objetivo, a partir de la lista de coordenadas de los objetivos.\n",
    "\n",
    "- #### **Entradas :** \n",
    "\n",
    "    **1. c_x:** Lista con las coordenadas x.       \n",
    "    **2. c_y:** Lista con las coordenadas y.       \n",
    "    **3. nd:** Número de decimales de los datos originales más uno.       "
   ]
  },
  {
   "cell_type": "code",
   "execution_count": null,
   "metadata": {},
   "outputs": [],
   "source": [
    "c_x= [2.1, 1.2, 3.8, 5.9, 6.5, 10.0, 8.1, 4.3, 0.0, 7.0]\n",
    "c_y= [4.0, 1.1, 2.2, 1.0, 7.5, 3.0, 9.0, 8.7, 11.0, 5.6]\n",
    "nd= 2"
   ]
  },
  {
   "cell_type": "markdown",
   "metadata": {},
   "source": [
    "- #### **Salidas :** \n",
    "\n",
    "**1. opt:** Tupla con el punto o segmento optimo y el valor de la función objetivo.\n",
    "\n",
    "\n",
    "- Si es un punto\n",
    "~~~python\n",
    "opt=((5.0, 5.0), 10.0)\n",
    "~~~\n",
    "- Si es un segemento\n",
    "~~~python\n",
    "opt=([(4.65, 6.65), (3.05, 5.05)], 9.0)\n",
    "~~~\n",
    "\n",
    "- #### **Código :** \n",
    "Complete la función para convertir las entradas en las salidas, ingrese al [material de apoyo](#material \"Ir al material de apoyo\") para ver los ejemplos que lo pueden guiar, una vez terminada ejecútela y pruébela [aquí](#prueba)."
   ]
  },
  {
   "cell_type": "code",
   "execution_count": null,
   "metadata": {},
   "outputs": [],
   "source": [
    "# Importar aquí los módulos necesarios\n",
    "\n",
    "# b. Calcular segmento óptimo\n",
    "def optimo(c_x,c_y,nd):\n",
    "    \"\"\"\n",
    "    Calcula el punto óptimo o el segmento óptimo donde ubicar la instalación, y el valor de la función objetivo\n",
    "    a partir de la lista de coordenadas de los objetivos.\n",
    "    \"\"\"\n",
    "    \n",
    "    # Escriba aquí el código:\n",
    "    \n",
    "    ## Si es un punto.\n",
    "        opt=(opt_1,z)\n",
    "    \n",
    "    ## Si es un segmento\n",
    "        opt=(segmento,z)\n",
    "        \n",
    "    return opt"
   ]
  },
  {
   "cell_type": "markdown",
   "metadata": {},
   "source": [
    "- #### **Prueba :** <a id='prueba'></a>\n",
    "Ejecute la siguiente celda para probar la función, si es correcta, pásela [aquí](../../Programa/Minimax_Rectilineo.py)"
   ]
  },
  {
   "cell_type": "code",
   "execution_count": null,
   "metadata": {},
   "outputs": [],
   "source": [
    "import sys\n",
    "sys.path.append(\"../../Programa/Testing\")\n",
    "from testing_MR import test_optimo\n",
    "\n",
    "test_optimo(optimo)"
   ]
  },
  {
   "cell_type": "markdown",
   "metadata": {},
   "source": [
    "## Material de Apoyo <a id='material'></a>"
   ]
  },
  {
   "cell_type": "markdown",
   "metadata": {},
   "source": [
    "- [Manejo de listas y tuplas](../../../../5_Estructura_de_Datos/5_Estructura_de_Datos.ipynb#5_Estructura-de-Datos-Basicas \"Ir al capítulo de Estructuras de datos\")\n",
    "\n",
    "- [Operaciones Arítmeticas](../../../../2_Elementos_Basicos/2_Elementos_Basicos.ipynb#OpAritmeticos \"Ir al subcapítulo Operadores Arítmeticos del capítulo de Elmentos básicos.\")"
   ]
  },
  {
   "cell_type": "markdown",
   "metadata": {},
   "source": [
    "---\n",
    "| [**Plantilla pirncipal**](../Plantilla_MR.ipynb \"Volver a la plantilla del programa principal\")|\n",
    "| :--------: |"
   ]
  }
 ],
 "metadata": {
  "kernelspec": {
   "display_name": "Python 3",
   "language": "python",
   "name": "python3"
  },
  "language_info": {
   "codemirror_mode": {
    "name": "ipython",
    "version": 3
   },
   "file_extension": ".py",
   "mimetype": "text/x-python",
   "name": "python",
   "nbconvert_exporter": "python",
   "pygments_lexer": "ipython3",
   "version": "3.7.4"
  }
 },
 "nbformat": 4,
 "nbformat_minor": 4
}
