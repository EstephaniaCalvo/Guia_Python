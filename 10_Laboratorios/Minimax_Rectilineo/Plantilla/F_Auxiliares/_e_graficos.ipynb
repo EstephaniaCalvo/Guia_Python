{
 "cells": [
  {
   "cell_type": "markdown",
   "metadata": {},
   "source": [
    "![Fig3_Encabezado.png](../../../../Fig3_Encabezado.png)\n",
    "\n",
    "---"
   ]
  },
  {
   "cell_type": "markdown",
   "metadata": {},
   "source": [
    "## e. Hacer los gráficos (graficos)\n",
    "\n",
    "- #### **Objetivos :** \n",
    "    Mostrar, crear y guardar un gráfico de costos z y un gráfico de ubicaciones. \n",
    "\n",
    "**Tenga en cuenta que:**\n",
    "- El gráfico de costos es un gráfico de superficie en 3D, con un mapa de colores, por ejemplo, \"jet\".\n",
    "- El gráfico de costos debe tener el título \"Gráfico de costos de Archivo\", sin la extensión .txt.\n",
    "- El gráfico de ubicaciones es un gráfico de densidad, con un mapa de colores, las ubicaciones objetivas, y la ubicación optima superpuesta.\n",
    "- El gráfico de ubicaciones debe tener el título \"Ubicaciones de Archivo\", sin la extensión .txt."
   ]
  },
  {
   "cell_type": "markdown",
   "metadata": {},
   "source": [
    "- #### **Entradas :** "
   ]
  },
  {
   "cell_type": "code",
   "execution_count": null,
   "metadata": {},
   "outputs": [],
   "source": [
    "# 1. Archivo de datos.\n",
    "archivo='test_1.txt'\n",
    "# 2. opt: Tupla con el punto o segmento optimo y el valor de la función objetivo.\n",
    "opt=([(4.65, 6.65), (3.05, 5.05)], 9.0) \n",
    "\n",
    "import sys\n",
    "sys.path.append(\"../../Programa/Testing\")\n",
    "from test_var_MR import mz1,vx1,vy1\n",
    "\n",
    "# 3. v_x: Vector con las coordenadas x de los puntos de la malla.\n",
    "v_x= vx1\n",
    "# 4. v_y: Vector con las coordenadas y de los puntos de la malla.\n",
    "v_y= vy1\n",
    "# 5. m_z: Matriz z con los costos para cada punto de la malla.\n",
    "m_z= mz1\n",
    "\n",
    "c_x=[2.1, 1.2, 3.8, 5.9, 6.5, 10.0, 8.1, 4.3, 0.0, 7.0]\n",
    "c_y=[4.0, 1.1, 2.2, 1.0, 7.5, 3.0, 9.0, 8.7, 11.0, 5.6]"
   ]
  },
  {
   "cell_type": "markdown",
   "metadata": {},
   "source": [
    "- #### **Salidas :** \n",
    "\n",
    "**1. Grafico_de_costos_de_archivo.png:** Imagen .png del gráfico de costos.    \n",
    "**2. Ubicaciones_de_archivo.png:** Imagen .png del gráfico de ubicaciones.    "
   ]
  },
  {
   "cell_type": "markdown",
   "metadata": {},
   "source": [
    "- #### **Código :** \n",
    "Complete la función para convertir las entradas en las salidas e ingrese al [material de apoyo](#material \"Ir al material de apoyo\") para ver los ejemplos que lo pueden guiar. Una vez terminada ejecútela y compare sus resultados con los archivos\n",
    "[RP_test_1_Costos.png](R_Pruebas/RP_test_1_Costos.png) y [RP_test_1_Ubicaciones.png](R_Pruebas/RP_test_1_Ubicaciones.png)."
   ]
  },
  {
   "cell_type": "code",
   "execution_count": null,
   "metadata": {},
   "outputs": [],
   "source": [
    "# Importar aquí los módulos necesarios\n",
    "\n",
    "# e. Hacer los gráficos\n",
    "def graficos (archivo,opt,v_x,v_y,m_z,c_x,c_y):\n",
    "    \"Crea el gráfico de costos y el gráfico de ubicaciones\"\n",
    "\n",
    "    # Escriba aquí el código:\n",
    "    \n",
    "    return None"
   ]
  },
  {
   "cell_type": "markdown",
   "metadata": {},
   "source": [
    "- #### **Prueba :** <a id='prueba'></a>\n",
    "    Si la carpeta Resultados no existe créela en la misma ubicación de este notebook.\n",
    "\n",
    "    Luego ejecute la celda de entradas y la siguiente celda, finalmente compruebe si los archivos *Grafico_de_costos_de_test_1.png* y *Ubicaciones_de_test_1.png* fueron creados correctamente, si es así pase la función [aquí](../../Programa/Minimax_Rectilineo.py)."
   ]
  },
  {
   "cell_type": "code",
   "execution_count": null,
   "metadata": {},
   "outputs": [],
   "source": [
    "# Prueba de salidas\n",
    "graficos(archivo,opt,v_x,v_y,m_z,c_x,c_y)"
   ]
  },
  {
   "cell_type": "markdown",
   "metadata": {},
   "source": [
    "## Material de Apoyo <a id='material'></a>"
   ]
  },
  {
   "cell_type": "markdown",
   "metadata": {},
   "source": [
    "- [Grafico 3D](../../../../8_Graficos/8_Graficos.ipynb#3D \"Ir al subcapitulo de Gráficos 3D del capítulo 8. Gráficos.\")\n",
    "\n",
    "- [Gráficos de Densidad](../../../../8_Graficos/8_Graficos.ipynb#Densidad \"Ir al subcapitulo de Gráficos 3D del capítulo 8. Gráficos.\")"
   ]
  },
  {
   "cell_type": "markdown",
   "metadata": {},
   "source": [
    "---\n",
    "| [**Plantilla pirncipal**](../Plantilla_MR.ipynb \"Volver a la plantilla del programa principal\")|\n",
    "| :--------: |"
   ]
  }
 ],
 "metadata": {
  "kernelspec": {
   "display_name": "Python 3",
   "language": "python",
   "name": "python3"
  },
  "language_info": {
   "codemirror_mode": {
    "name": "ipython",
    "version": 3
   },
   "file_extension": ".py",
   "mimetype": "text/x-python",
   "name": "python",
   "nbconvert_exporter": "python",
   "pygments_lexer": "ipython3",
   "version": "3.7.4"
  }
 },
 "nbformat": 4,
 "nbformat_minor": 4
}
