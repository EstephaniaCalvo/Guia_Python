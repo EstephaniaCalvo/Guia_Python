{
 "cells": [
  {
   "cell_type": "markdown",
   "metadata": {},
   "source": [
    "## Plantilla - Minimax Rectilineo <a id=\"plantilla\"></a>"
   ]
  },
  {
   "cell_type": "markdown",
   "metadata": {},
   "source": [
    "### **-2. Importar módulos**"
   ]
  },
  {
   "cell_type": "code",
   "execution_count": null,
   "metadata": {},
   "outputs": [],
   "source": [
    "# Importe aquí todos los módulos que necesite"
   ]
  },
  {
   "cell_type": "markdown",
   "metadata": {},
   "source": [
    "### **-1. Funciones auxiliares**"
   ]
  },
  {
   "cell_type": "markdown",
   "metadata": {},
   "source": [
    "<a id='lectura_datos'></a>\n",
    "#### a. Leer y almacenar datos de entradas ([lectura_datos](F_Auxiliares/_a_lectura_datos.ipynb \"Ir a la plantilla de lectura_datos\"))"
   ]
  },
  {
   "cell_type": "markdown",
   "metadata": {},
   "source": [
    "<a id='optimo'></a>\n",
    "#### b. Calcular segmento óptimo ([optimo](F_Auxiliares/_b_optimo.ipynb \"Ir a la plantilla de optimo\"))"
   ]
  },
  {
   "cell_type": "markdown",
   "metadata": {},
   "source": [
    "<a id='gen_z'></a>\n",
    "#### c. Generar matriz Z ([gen_z](F_Auxiliares/_c_gen_z.ipynb \"Ir a la plantilla de gen_z\"))"
   ]
  },
  {
   "cell_type": "markdown",
   "metadata": {},
   "source": [
    "<a id='resultados'></a>\n",
    "#### d. Guardar archivo de resultados.xlsx ([resultados](F_Auxiliares/_d_resultados.ipynb \"Ir a la plantilla de resultados\"))"
   ]
  },
  {
   "cell_type": "markdown",
   "metadata": {},
   "source": [
    "<a id='histograma'></a>\n",
    "#### e. Hacer los gráficos ([graficos](F_Auxiliares/_e_graficos.ipynb \"Ir a la plantilla de graficos\"))"
   ]
  },
  {
   "cell_type": "markdown",
   "metadata": {},
   "source": [
    "### **0. Programa principal** [Minimax_Rectilineo](../Programa/Minimax_Rectilineo.py)"
   ]
  },
  {
   "cell_type": "code",
   "execution_count": null,
   "metadata": {},
   "outputs": [],
   "source": [
    "def main(ingreso=1,cm=0):\n",
    "    \"\"\"\n",
    "    Al ingresar un archivo con las coordenadas (x,y) de puntos objetivos, calcula el punto o segmentos óptimo para ubicar una instlación manejando un modelo de distancia rectilíneo, genera una matriza de costos y devuelve un archivo de excel con los resultados anteriores y guarda los gráricos de costos y ubicaciones.\n",
    "    \"\"\"\n",
    "\n",
    "    \"1. Leer archivo de coordenadas\"\n",
    "\n",
    "    # Ingresar archivo de coordenadas.\n",
    "    if ingreso==1:\n",
    "        a_coord=input(\"Por favor ingrese el archivo que contiene las coordenadas de los puntos objetivos,\\npor ejemplo, 'Municipios.txt':\\n\")\n",
    "    elif ingreso==\"e\":\n",
    "        a_coord=\"Ej_MR.txt\"\n",
    "    elif ingreso==\"p1\":\n",
    "        a_coord=\"Iwate.txt\"\n",
    "    elif ingreso==\"p2\":\n",
    "        a_coord=\"Focos_suroeste.txt\"\n",
    "    \n",
    "    # Leer el archivo de coordenadas.\n",
    "    \n",
    "    \"2. Calcular el punto o el segmento óptimo.\"\n",
    "\n",
    "    \"3. Calcular matríz de costos z\"   \n",
    "    \n",
    "    \"4. Crear el archivo de resultados\"\n",
    "    \n",
    "    \"5. Crear gráficos\"\n",
    "    \n",
    "    \"BONUS ---> 6. Crear mapa\"\n",
    "    try: \n",
    "            if cm==1:\n",
    "                m_ubicaciones= c_mapa(opt[0], \"Resultados/\", \"Mapa_Hospital_Iwate.html\")\n",
    "\n",
    "                return m_ubicaciones\n",
    "            else:\n",
    "                return None\n",
    "        except(Exception):\n",
    "            return None\n",
    "\n",
    "        \n",
    "if __name__=='__main__':\n",
    "    main()"
   ]
  },
  {
   "cell_type": "markdown",
   "metadata": {},
   "source": [
    "### **Función c_mapa** (Bonus)\n",
    "\n",
    "En la carpeta Programa se encuentra una carpeta llamada Modulos que contiene los siguientes archivos:\n",
    "\n",
    "- [Mapa_Iwate.py](../Modulos/Mapa_Iwate.py)\n",
    "- [jp_cities1.geojson](../Modulos/jp_cities1.geojson)\n",
    "- [jp_prefs1.geojson](../Modulos/jp_prefs1.geojson)\n",
    "\n",
    "Los archivos '.geojson' contienen la información y los datos para representar elementos geográficos.\n",
    "\n",
    "El archivo Mapa_Iwate.py es el módulo que genera el mapa, a partir de los archivos '.geojson'.\n",
    "\n",
    "Para crear el mapa debe usar el módulo ['folium'](https://python-visualization.github.io/folium/ \"Ir a la documentación oficial del módulo\")y los datos de la prácitca.\n",
    "\n",
    "Cree una función cuyo objetivo sea generar un mapa de la prefactura de Iwate Japón, con sus cidudades y pueblos, y señalar un punto o segmento índicado. Además debe guardar el mapa el un archivo .html con la ruta y el nombre indicado.\n",
    "\n",
    "Las cuidades están señaladas con un marcador amarillo, los pueblos o villas en en gris, la capital es el markador rojo, y el punto o los puntos optimos están señalado con puntos rojos, además cada ubicación tiene una pestaña que muestra su nombre cuando se pone el cursor en ellas.\n",
    "\n",
    "![Ej_Mapa](Ej_Mapa.png)\n",
    "\n",
    "![Ej_Mapa_2](Ej_Mapa_2.png)"
   ]
  },
  {
   "cell_type": "markdown",
   "metadata": {},
   "source": [
    "---\n",
    "| [**Home**](../Minimax_Rectilineo.ipynb \"Ir a la página principal del algoritmo\")| - | [**Prácticas**](../Practicas/Practicas_MR.ipynb \"Ir a la página de las prácticas\")|\n",
    "| :--------: | :-------: | :--------: |"
   ]
  }
 ],
 "metadata": {
  "kernelspec": {
   "display_name": "Python 3",
   "language": "python",
   "name": "python3"
  },
  "language_info": {
   "codemirror_mode": {
    "name": "ipython",
    "version": 3
   },
   "file_extension": ".py",
   "mimetype": "text/x-python",
   "name": "python",
   "nbconvert_exporter": "python",
   "pygments_lexer": "ipython3",
   "version": "3.7.4"
  }
 },
 "nbformat": 4,
 "nbformat_minor": 4
}
