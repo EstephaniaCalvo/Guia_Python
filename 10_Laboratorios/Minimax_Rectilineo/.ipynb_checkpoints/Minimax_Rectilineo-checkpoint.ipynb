{
 "cells": [
  {
   "cell_type": "markdown",
   "metadata": {},
   "source": [
    "# **Minimax Rectilíneo**"
   ]
  },
  {
   "cell_type": "markdown",
   "metadata": {},
   "source": [
    "Este algoritmo es empleado para resolver problemas de localización de instalaciones donde se debe garantizar la cobertura de ubicaciones bajo el modelo de distancia rectilínea, es decir, que devuelve el punto o segmento óptimo para úbicar una instlación donde pueda llegar a todos los puntos objetivos posibles al menor costo (tiempo - distancia) posible.\n",
    "\n",
    "- Lo anterior puede ser interpretado como un problema de programación líneal, donde la función objetivo es minizar la distancia máxima entre la ubicación de la instalación y la ubicación de los objetivos.\n",
    "\n",
    "    - **Función Objetivo:**    \n",
    "    $Min Z= max( |X−x_i| + |Y−y_i| )= Ω$\n",
    "\n",
    "    - **Sujeto a:**   \n",
    "    $Ω ≥ |X−x_i| + |Y−y_i|$\n",
    "\n",
    "    - Donde $X,Y$ es la coordenada de la ubicación óptima y $x_i,y_i$ son las coordenadas de cada ubicación que se quire cubrir.\n",
    "\n",
    "### **Ejemplo**\n",
    "\n",
    "- Para resolver este módelo se puede usar el método de las constantes, con los siguientes pasos:\n",
    "\n",
    "- #### Coordenadas.\n",
    "![Coordenadas](Descripcion/Coordenadas.png \"Coordenadas del ejemplo\") \n",
    "\n",
    "\n",
    "- #### **1. Calcular la suma $x_i + y_i$ y la resta $-x_i + y_i$**   \n",
    "![Suma_resta](Descripcion/Suma_Resta.png \"Calculo de suma y resta\") \n",
    "    \n",
    "- #### **2. Calcular las constantes:**   \n",
    "    $c_1=min(suma) ; ∀i$\n",
    "    $c_2=max(suma) ; ∀i$    \n",
    "    $c_3=min(resta) ; ∀i$   \n",
    "    $c_4=max(resta) ; ∀i$   \n",
    "    $c_5=max(c_2−c_1,c_4−c_3)$\n",
    "    \n",
    "    ![Constantes](Descripcion/Constantes.png \"Calculo de las constantes\") \n",
    "\n",
    "- #### **3. Calcular la función objetivo:** $z=c_5 / 2$\n",
    "\n",
    "    ![F_objetivo](Descripcion/F_objetivo.png \"Calculo de la función objetivo\") \n",
    "\n",
    "    **4. Calcular el punto o segmento óptimo:**   \n",
    "    Punto 1: $(X_1,Y_1) = \\frac12 (c_1−c_3 , c_1+c_3+c_5)$    \n",
    "    Punto 2: $(X_2,Y_2) = \\frac12 (c2−c4 , c2+c4−c5)$   \n",
    "    \n",
    "    ![p_optimo](Descripcion/p_optimo.png \"Caso: Punto óptimo\")  \n",
    "    \n",
    "- Además del punto o segmento óptimo es recomendable generar una matríz con los valores del costo z para los puntos del plano donde están los objetivos, un gráfico de superficies de costos z, y un gráfico de densidad con las ubcaciones objetivos y óptimas.\n",
    "\n",
    "- #### Matríz de costos Z\n",
    "![Matriz_1](Descripcion/Matriz_1.png \"Imagen matriz de costos z para un punto óptimo \")\n",
    "- #### Gráfico de costos.\n",
    "![Gráfico_de_costos_1](Descripcion/Grafico_de_costos_1.png \"Gráfico de costos para un punto óptimo\")\n",
    "- #### Gráfico de ubicaciones.\n",
    "![Ubicaciones_1](Descripcion/Ubicaciones_1.png \"Gráfico de ubicaciones para un punto óptimo\")"
   ]
  },
  {
   "cell_type": "markdown",
   "metadata": {},
   "source": [
    "## **Índice**\n",
    "\n",
    "- [Ejemplo: Estación de bomberos Suroeste de Vetusta](Ejemplo/Ej_Estacion_Suroeste_Vetusta.ipynb#Ejemplo \"Ir al ejemplo\")\n",
    "- [Práctica: Hospital prefactura de Iwate Japón](Practica/Practica_MR.ipynb)\n",
    "- [Análisis del problema](Practica/Programa/Analisis.ipynb \"Ir al análisis del problema\")\n",
    "- [Instrucciones del programa](Practica/Programa/Instrucciones.ipynb \"Ir a las instrucciones del programa\")\n",
    "- [Código del Programa](Practica/Programa/Minimax_Rectilineo.py \"Ir a archivo del programa\") \n",
    "- [Generación de datos](Generador_de_Datos/Generador_de_Datos.ipynb \"Ir a al notebook de generación de datos.\")\n",
    "- [Testing](Practica/Programa/Testing/test_MR.py \"Ir archivo de Testing\")"
   ]
  }
 ],
 "metadata": {
  "kernelspec": {
   "display_name": "Python 3",
   "language": "python",
   "name": "python3"
  },
  "language_info": {
   "codemirror_mode": {
    "name": "ipython",
    "version": 3
   },
   "file_extension": ".py",
   "mimetype": "text/x-python",
   "name": "python",
   "nbconvert_exporter": "python",
   "pygments_lexer": "ipython3",
   "version": "3.7.4"
  }
 },
 "nbformat": 4,
 "nbformat_minor": 4
}
