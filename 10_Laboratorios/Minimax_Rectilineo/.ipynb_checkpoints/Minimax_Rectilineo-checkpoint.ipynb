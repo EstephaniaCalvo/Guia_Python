{
 "cells": [
  {
   "cell_type": "markdown",
   "metadata": {},
   "source": [
    "# **Minimax Rectilíneo**"
   ]
  },
  {
   "cell_type": "markdown",
   "metadata": {},
   "source": [
    "## **Índice**\n",
    "\n",
    "- [Descripción](#descripcion)\n",
    "- [Ejemplo](Ejemplo/Ejemplo_MR.ipynb#ejemplo)\n",
    "- [Análisis del problema](Programa/Analisis.ipynb \"Ir al análisis del problema\")\n",
    "- [Plantilla](Plantilla/Plantilla_MR.ipynb \"Ir a la plantilla del programa\")\n",
    "- [Código del Programa](Programa/Minimax_Rectilineo.py \"Ir a archivo del programa\") \n",
    "- [Instrucciones del programa](Programa/Instrucciones.ipynb \"Ir a las instrucciones del programa\")\n",
    "- [Prácticas](Practicas/Practicas_MR.ipynb)\n",
    "- [Testing](Programa/Testing/Testing_MR.ipynb \"Ir archivo de Testing\")"
   ]
  },
  {
   "cell_type": "markdown",
   "metadata": {},
   "source": [
    "### **Descripción** <a id=\"descripcion\"></a>"
   ]
  },
  {
   "cell_type": "markdown",
   "metadata": {},
   "source": [
    "Este algoritmo es empleado para resolver problemas de localización de instalaciones donde se debe garantizar la cobertura de ubicaciones bajo el modelo de distancia rectilínea, es decir, que devuelve el punto o segmento óptimo para úbicar una instlación donde pueda llegar a todos los puntos objetivos posibles al menor costo (tiempo - distancia) posible.\n",
    "\n",
    "- Lo anterior puede ser interpretado como un problema de programación líneal, donde la función objetivo es minizar la distancia máxima entre la ubicación de la instalación y la ubicación de los objetivos.\n",
    "\n",
    "    - **Función Objetivo:**    \n",
    "    $Min Z= max( |X−x_i| + |Y−y_i| )= Ω$\n",
    "\n",
    "    - **Sujeto a:**   \n",
    "    $Ω ≥ |X−x_i| + |Y−y_i|$\n",
    "\n",
    "    - Donde $X,Y$ es la coordenada de la ubicación óptima y $x_i,y_i$ son las coordenadas de cada ubicación que se quire cubrir.\n",
    "    \n",
    "Para resolver este módelo se puede usar el método de las constantes, el cual es explicado en con siguiente [ejemplo.](Ejemplo/Ejemplo_MR.ipynb#ejemplo)"
   ]
  },
  {
   "cell_type": "markdown",
   "metadata": {},
   "source": [
    "<a id=\"programa\"></a>\n",
    "### **Programa**"
   ]
  },
  {
   "cell_type": "markdown",
   "metadata": {},
   "source": [
    "\n",
    "- **Recomendación**: Lea las [instrucciones del programa](Programa/Instrucciones.ipynb \"Ir a las instrucciones del programa\") antes de usarlo."
   ]
  },
  {
   "cell_type": "code",
   "execution_count": null,
   "metadata": {},
   "outputs": [],
   "source": [
    "try:\n",
    "    %matplotlib inline\n",
    "    import os\n",
    "\n",
    "    os.chdir(\"Programa\")\n",
    "    from Minimax_Rectilineo import main\n",
    "    os.chdir(\"../\")\n",
    "\n",
    "    main()\n",
    "except(FileNotFoundError):\n",
    "    print(\"No se encuentra el archivo indicado.\")\n",
    "except(Exception):\n",
    "    print(\"El programa no se ha podido ejecutar correctamente\")"
   ]
  },
  {
   "cell_type": "markdown",
   "metadata": {},
   "source": [
    "--------------------------------------\n",
    "\n",
    "| [***Laboratorios***](../10_Laboratorios.ipynb#10_Laboratorios) | - | [**Home**](../../Home.ipynb#Home) |\n",
    "| :--------: | :-------: | :--------: |"
   ]
  }
 ],
 "metadata": {
  "kernelspec": {
   "display_name": "Python 3",
   "language": "python",
   "name": "python3"
  },
  "language_info": {
   "codemirror_mode": {
    "name": "ipython",
    "version": 3
   },
   "file_extension": ".py",
   "mimetype": "text/x-python",
   "name": "python",
   "nbconvert_exporter": "python",
   "pygments_lexer": "ipython3",
   "version": "3.7.4"
  }
 },
 "nbformat": 4,
 "nbformat_minor": 4
}
