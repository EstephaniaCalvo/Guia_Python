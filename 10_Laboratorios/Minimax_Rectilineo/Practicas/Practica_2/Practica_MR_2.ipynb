{
 "cells": [
  {
   "cell_type": "markdown",
   "metadata": {},
   "source": [
    "![Fig3_Encabezado.png](../../../../Fig3_Encabezado.png)\n",
    "\n",
    "---"
   ]
  },
  {
   "cell_type": "markdown",
   "metadata": {},
   "source": [
    "# **Práctica 2:** Estación suroeste de Vetusta<a id='practica'></a>\n",
    "\n",
    "En la cuidad de Vetusta se necesita construir una estación de bomberos para cubrir el área suroeste que ha estado en expansión durante los últimos 10 años y se espera que siga haciéndolo, por tal motivo, actualmente no se puede atender lo suficiente rápido las emergencias. Se espera que con la nueva estación el tiempo máximo de respuesta sea de 5 minutos suponiendo que los bomberos viajan a una velocidad promedio de 75 km/h.\n",
    "\n",
    "Como es una zona en su mayoría industrial la probabilidad de emergencias es más alta. En el siguiente documento están las coordenadas de los puntos con mayor riesgo de incendio:\n",
    "\n",
    "- [Focos_Suroeste.txt:](Focos_Suroeste.txt) Coordenadas de las ubicaciones de potenciales focos de incendios en la zona suroeste.\n",
    "\n",
    "Usted ha sido contratado como asesor para determinar cuál es la mejor ubicación para construir la estación, por lo cual, emplea el [programa Minimax Rectilíneo](#progr \"Ir al programa\") para generar los siguientes documentos.\n",
    "\n",
    "1. Resultados_Focos_suroeste.xlsx\n",
    "2. [Grafico_de_Costos_de_Focos_suroeste.png](Resultados/Grafico_de_Costos_de_Focos_suroeste.png)\n",
    "3. [Ubicaciones_de_Focos_suroeste.png](Resultados/Ubicaciones_de_Focos_suroeste.png)\n",
    "\n",
    "Para la licitación del proyecto se presentaron 3 constructoras que proponen ubicar la estación en tres lugares diferentes, ya que cada una asegura tener el terreno con las condiciones y accesibilidad que permite tener un tiempo de respuesta de al menos 5 min.\n",
    "\n",
    "| Constructora | Coordenada x | Coordenada y |\n",
    "| :-------: | :-------: | :-------: |\n",
    "| ACCIONA | -2.5 | -5 |\n",
    "| ASC | -12.5 | -10 |\n",
    "| CAPITA | -15 | -12.5 |"
   ]
  },
  {
   "cell_type": "markdown",
   "metadata": {},
   "source": [
    "---\n",
    "## Informe"
   ]
  },
  {
   "cell_type": "markdown",
   "metadata": {},
   "source": [
    "Analice los resultados obtenidos con el programa y escriba sus conclusiones [aquí](#conclusiones). Las siguientes preguntas le ayudarán a analizar el caso, sin embargo, hay muchos otros puntos sobre los que puede llegar a concluir.\n",
    "\n",
    "**Preguntas guía**\n",
    "- ¿Cuál es el punto o segmento óptimo para ubicar la estación de bomberos actualmente?\n",
    "- ¿Cuál es el tiempo de respuesta mínimo?\n",
    "- ¿Son ciertas las afirmaciones de las constructoras?\n",
    "- ¿Cuál constructora es la mejor opción pensando en el largo plazo?"
   ]
  },
  {
   "cell_type": "markdown",
   "metadata": {},
   "source": [
    "<a id='conclusiones'></a>\n",
    "## Conclusiones \n",
    "*Escriba aquí las conclusiones del análisis basado en los resultados obtenidos* "
   ]
  },
  {
   "cell_type": "markdown",
   "metadata": {},
   "source": [
    "<a id=\"progr\"></a>\n",
    "## Programa: Minimax_Rectilineo"
   ]
  },
  {
   "cell_type": "markdown",
   "metadata": {},
   "source": [
    "#### **Instrucciones**\n",
    "\n",
    "1. Lea el [Análisis del problema](../../Programa/Analisis.ipynb)\n",
    "2. Llenar la [plantilla](../../Plantilla/Plantilla_MR.ipynb) del programa.\n",
    "3. Ejecutar el programa con la siguiente celda."
   ]
  },
  {
   "cell_type": "code",
   "execution_count": null,
   "metadata": {},
   "outputs": [],
   "source": [
    "def p2_MR():\n",
    "    try:\n",
    "        %matplotlib inline\n",
    "        import os\n",
    "\n",
    "        os.chdir(\"../../Programa\")\n",
    "        from Minimax_Rectilineo import main\n",
    "        os.chdir(\"../Practicas/Practica_2\")\n",
    "\n",
    "        return main(\"p2\",2)\n",
    "\n",
    "    except(FileNotFoundError):\n",
    "        return print(\"No se encuentra el archivo Focos_suroeste.txt\")\n",
    "    except(Exception):\n",
    "        return print(\"El programa no se ha podido ejecutar correctamente\")\n",
    "    \n",
    "p2_MR()"
   ]
  },
  {
   "cell_type": "markdown",
   "metadata": {},
   "source": [
    "---\n",
    "| [**Home**](../../Minimax_Rectilineo.ipynb \"Ir a la página principal del algoritmo\")| - |[**Prácticas**](../Practicas_MR.ipynb)| - | [**Plantilla**](../../Plantilla/Plantilla_MR.ipynb \"Ir a la página de la plantilla\")|\n",
    "| :--------: | :-------: | :--------: | :--------: | :--------: |"
   ]
  }
 ],
 "metadata": {
  "kernelspec": {
   "display_name": "Python 3",
   "language": "python",
   "name": "python3"
  },
  "language_info": {
   "codemirror_mode": {
    "name": "ipython",
    "version": 3
   },
   "file_extension": ".py",
   "mimetype": "text/x-python",
   "name": "python",
   "nbconvert_exporter": "python",
   "pygments_lexer": "ipython3",
   "version": "3.7.4"
  }
 },
 "nbformat": 4,
 "nbformat_minor": 4
}
