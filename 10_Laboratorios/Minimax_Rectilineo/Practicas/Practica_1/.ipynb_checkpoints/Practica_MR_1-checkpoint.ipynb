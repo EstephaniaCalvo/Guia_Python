{
 "cells": [
  {
   "cell_type": "markdown",
   "metadata": {},
   "source": [
    "![Fig3_Encabezado.png](../../../../Fig3_Encabezado.png)\n",
    "\n",
    "---"
   ]
  },
  {
   "cell_type": "markdown",
   "metadata": {},
   "source": [
    "# **Práctica 1:** Hospital prefectura Iwate <a id='practica'></a>\n",
    "\n",
    "La prefectura de Iwate ha decidido construir un Hospital con nivel de atención tipo III para atender a sus ciudades, pueblos y villas que están ubicadas en las siguientes coordenadas.\n",
    "\n",
    "|Ciudad|Coordenada y |Coordenada x|\n",
    "|:-------:|:--------:|:---------:|\n",
    "| Hachimantai |39.926389 | 141.095278 |\n",
    "| Hanamaki |39.388611 | 141.116667 |\n",
    "| Ichinoseki | 38.934722 | 141.126583 |\n",
    "| Kamaishi | 39.275833 | 141.885556 |\n",
    "| Kitakami | 39.286667 | 141.113056 |\n",
    "| Kuji | 40.190278 | 141.775278 |\n",
    "| Miyako | 39.641389 | 141.957222 |\n",
    "| Morioka | 39.683333 | 141.15 |\n",
    "| Ninohe | 40.271111 | 141.304722 |\n",
    "| Ōfunato | 39.082222 | 141.708333 |\n",
    "| Ōshū | 39.144444 | 141.138889 |\n",
    "| Rikuzentakata | 39.015278 | 141.629444 |\n",
    "| Takizawa | 39.734722 | 141.076944 |\n",
    "| Tōno | 39.3275 | 141.533611 |\n",
    "\n",
    "|Pueblos y villas|Coordenada y |Coordenada x|\n",
    "|:-------:|:--------:|:---------:|\n",
    "| Kanegasaki | 39.195556 | 141.116111 |\n",
    "| Kuzumaki | 40.039722 | 141.436389 |\n",
    "| Shizukuishi | 39.696111 | 140.975556 |\n",
    "| Ōtsuchi | 39.359722 | 141.906389 |\n",
    "| Sumita | 39.141944 | 141.575833 |\n",
    "| Hirono | 40.408611 | 141.718056 |\n",
    "| Karumai | 40.326667 | 141.460556 |\n",
    "| Kunohe | 40.211389 | 141.418889 |\n",
    "| Noda | 40.11 | 141.818056 |\n",
    "| Ichinohe | 40.213056 | 141.295278 |\n",
    "| Hiraizumi | 38.986667 | 141.114167 |\n",
    "| Fudai | 40.005278 | 141.886111 |\n",
    "| Iwaizumi | 39.843056 | 141.796667 |\n",
    "| Tanohata | 39.930278 | 141.888889 |\n",
    "| Yamada | 39.4675 | 141.948889 |\n",
    "| Shiwa | 39.554722 | 141.167778 |\n",
    "| Yahaba | 39.605833 | 141.143056 |\n",
    "| Nishiwaga | 39.317778 | 140.779167 |\n",
    "\n",
    "###### Nota: Las coordenadas anteriores se encuentran en el documento [Iwate.txt](Iwate.txt \"Ver el documento\") \n",
    "\n",
    "La administración de la prefectura piensa construir el hospital en la capital Morioka 盛岡市, sin embargo, quieren corroborar si es lo suficientemente central, por lo cual, a usted se le ha contratado como asesor para realizar un estudio que indique cuál de las ciudades es la mejor para construir el hospital, siendo naturalmente la cobertura uno de sus principales criterios de decisión. \n",
    "\n",
    "Haga uso del programa [Minimax_Rectilineo](#progr \"Ir al programa\") para obtener los siguientes documentos.\n",
    "\n",
    "1. Resultados_Iwate.xlsx\n",
    "2. [Grafico_de_Costos_de_Iwate.png](Resultados/Grafico_de_Costos_de_Iwate.png)\n",
    "3. [Ubicaciones_de_Iwate.png](Resultados/Ubicaciones_de_Iwate.png)\n",
    "4. Mapa_Hospital_Iwate.html (Opcional)"
   ]
  },
  {
   "cell_type": "markdown",
   "metadata": {},
   "source": [
    "---\n",
    "## Informe"
   ]
  },
  {
   "cell_type": "markdown",
   "metadata": {},
   "source": [
    "Analice los resultados obtenidos con el [programa](#progr \"Ir a la sección del programa\") y escriba sus conclusiones [aquí](#conclusiones). Las siguientes preguntas le ayudarán a analizar el caso, sin embargo, hay muchos otros puntos sobre los que puede llegar a concluir.\n",
    "\n",
    "**Preguntas guía**\n",
    "- ¿Cuál es el punto o segmento óptimo para ubicar el hospital?\n",
    "- ¿Cuáles son las ciudades o pueblos más alejados del hospital?\n",
    "- ¿Sería correcto construirlo en la capital?\n",
    "- ¿Cuál o cuáles ciudades son candidatas para la construcción?"
   ]
  },
  {
   "cell_type": "markdown",
   "metadata": {},
   "source": [
    "<a id='conclusiones'></a>\n",
    "## Conclusiones \n",
    "*Escriba aquí las conclusiones del análisis basado en los resultados obtenidos*"
   ]
  },
  {
   "cell_type": "markdown",
   "metadata": {},
   "source": [
    "<a id=\"progr\"></a>\n",
    "## Programa: Minimax Rectilíneo"
   ]
  },
  {
   "cell_type": "markdown",
   "metadata": {},
   "source": [
    "#### **Instrucciones**\n",
    "\n",
    "1. Lea el [Análisis del problema](../../Programa/Analisis.ipynb)\n",
    "2. Llenar la [plantilla](../../Plantilla/Plantilla_MR.ipynb) del programa.\n",
    "3. Ejecutar el programa con la siguiente celda."
   ]
  },
  {
   "cell_type": "code",
   "execution_count": null,
   "metadata": {},
   "outputs": [],
   "source": [
    "%matplotlib inline\n",
    "\n",
    "def p1_MR():\n",
    "    try:\n",
    "        import os\n",
    "\n",
    "        os.chdir(\"../../Programa\")\n",
    "        from Minimax_Rectilineo import main\n",
    "        os.chdir(\"../Practicas/Practica_1\")\n",
    "        \n",
    "        return main(\"p1\",1)\n",
    "\n",
    "    except(FileNotFoundError):\n",
    "        return print(\"No se encuentra el archivo Iwate.txt\")\n",
    "    except(Exception):\n",
    "        return print(\"El programa no se ha podido ejecutar correctamente\")\n",
    "\n",
    "p1_MR()"
   ]
  },
  {
   "cell_type": "code",
   "execution_count": null,
   "metadata": {},
   "outputs": [],
   "source": [
    "# Instalar módulo folium\n",
    "pip install folium"
   ]
  },
  {
   "cell_type": "markdown",
   "metadata": {},
   "source": [
    "---\n",
    "| [**Home**](../../Minimax_Rectilineo.ipynb \"Ir a la página principal del algoritmo\")| - |[**Prácticas**](../Practicas_MR.ipynb)| - | [**Plantilla**](../../Plantilla/Plantilla_MR.ipynb \"Ir a la página de la plantilla\")|\n",
    "| :--------: | :-------: | :--------: | :--------: | :--------: |"
   ]
  }
 ],
 "metadata": {
  "kernelspec": {
   "display_name": "Python 3",
   "language": "python",
   "name": "python3"
  },
  "language_info": {
   "codemirror_mode": {
    "name": "ipython",
    "version": 3
   },
   "file_extension": ".py",
   "mimetype": "text/x-python",
   "name": "python",
   "nbconvert_exporter": "python",
   "pygments_lexer": "ipython3",
   "version": "3.7.4"
  }
 },
 "nbformat": 4,
 "nbformat_minor": 4
}
