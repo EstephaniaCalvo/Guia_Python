{
 "cells": [
  {
   "cell_type": "markdown",
   "metadata": {},
   "source": [
    "## Ejemplo - Minimax Rectilineo <a id=\"ejemplo\"></a>"
   ]
  },
  {
   "cell_type": "markdown",
   "metadata": {},
   "source": [
    "Suponga las siguientes coordenadas, las cuales se encuentran almacenadas en el archivo [Ej_MR.txt](Ej_MR.txt).\n",
    "\n",
    "| x | y |\n",
    "| :--------: | :--------: |   \n",
    "|2|4|\n",
    "|1|1|\n",
    "|3|2|\n",
    "|5|0|\n",
    "|6|7|\n",
    "|1|3|\n",
    "|8|6|\n",
    "|4|8|\n",
    "|0|10|\n",
    "|7|5|\n",
    "|0|10|\n",
    "|0|0|\n",
    "|1|10|\n",
    "|1|0|\n",
    "\n",
    "Siga los siguientes pasos encontrar la ubicación óptima para atender a todos los puntos anteriores y garantazar la mayor cobertura.\n",
    "\n",
    "**1.** Calcular la suma $x_i + y_i$ y la resta $-x_i + y_i$\n",
    "\n",
    "| suma | resta |\n",
    "| :--------: | :--------: |  \n",
    "|6|2|\n",
    "|2|0|\n",
    "|5|-1|\n",
    "|5|-5|\n",
    "|13|1|\n",
    "|13|-7|\n",
    "|14|-2|\n",
    "|12|4|\n",
    "|10|10|\n",
    "|12|-2|\n",
    "|10|10|\n",
    "|0|0|\n",
    "|20|0|\n",
    "|10|-10|\n",
    "\n",
    "    \n",
    "**2.** Calcular las constantes:  \n",
    "\n",
    "$c_1=min(suma) ; ∀i=0$   \n",
    "$c_2=max(suma) ; ∀i=20$    \n",
    "$c_3=min(resta) ; ∀i=-10$   \n",
    "$c_4=max(resta) ; ∀i=10$   \n",
    "$c_5=max(c_2−c_1,c_4−c_3)=20$\n",
    "\n",
    "**3.** Calcular la función objetivo:\n",
    "\n",
    "$z=c_5 / 2=10$\n",
    "\n",
    "**4.** Calcular el punto o segmento óptimo:  \n",
    "Punto 1: $(X_1,Y_1) = \\frac12 (c_1−c_3 , c_1+c_3+c_5)=(5,5) $    \n",
    "\n",
    "Punto 2: $(X_2,Y_2) = \\frac12 (c2−c4 , c2+c4−c5)= (5,5)$   \n",
    "\n",
    "- **Ojo:** Como son iguales sólo hay un punto óptimo (5,5)."
   ]
  },
  {
   "cell_type": "markdown",
   "metadata": {},
   "source": [
    "#### Resultados <a id=\"resultados\"></a>\n",
    "\n",
    "Además del punto o segmento óptimo es recomendable generar una matríz con los valores del costo z para los puntos del plano donde están los objetivos, un gráfico de superficies de costos z, y un gráfico de densidad con las ubcaciones objetivos y óptimas.\n",
    "\n",
    "1. **Archivo en excel con los resultados:** Abra el archivo Resultados_Ej_MR.xlsx guardado en esta carpeta resultados.\n",
    "\n",
    "    - **Óptimo**\n",
    "    ![Optimo_Ej_MR.png:](Optimo_Ej_MR.png)\n",
    "    - **Matriz**\n",
    "    ![Matriz_Ej_MR.png:](Matriz_Ej_MR.png)\n",
    "\n",
    "\n",
    "2. **Gráfico de Costos:**   \n",
    "![Grafico_de_Costos_de_Ej_MR.png:](Resultados/Grafico_de_Costos_de_Ej_MR.png)\n",
    "\n",
    "3. **Gráfico de Ubicaciones:**  \n",
    "![Ubicaciones_de_Ej_MsR.png:](Resultados/Ubicaciones_de_Ej_MR.png)"
   ]
  },
  {
   "cell_type": "markdown",
   "metadata": {},
   "source": [
    "---\n",
    "| [**Home**](../Minimax_Rectilineo.ipynb \"Ir a la página principal del algoritmo\")| - | [**Prácticas**](../Practicas/Practicas_MR.ipynb \"Ir a la página de la prácticas\")|\n",
    "| :--------: | :-------: | :--------: |"
   ]
  }
 ],
 "metadata": {
  "kernelspec": {
   "display_name": "Python 3",
   "language": "python",
   "name": "python3"
  },
  "language_info": {
   "codemirror_mode": {
    "name": "ipython",
    "version": 3
   },
   "file_extension": ".py",
   "mimetype": "text/x-python",
   "name": "python",
   "nbconvert_exporter": "python",
   "pygments_lexer": "ipython3",
   "version": "3.7.4"
  }
 },
 "nbformat": 4,
 "nbformat_minor": 4
}
