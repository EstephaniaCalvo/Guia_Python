{
 "cells": [
  {
   "cell_type": "markdown",
   "metadata": {},
   "source": [
    "![Fig3_Encabezado.png](../../../../Fig3_Encabezado.png)\n",
    "\n",
    "---------------------"
   ]
  },
  {
   "cell_type": "markdown",
   "metadata": {},
   "source": [
    "## c. Calcular el vector pesos (vector_peso)\n",
    "\n",
    "- #### **Objetivo :**\n",
    "    Calcular el vector con los pesos de la matriz indicada y devolverlos en una tupla.\n",
    "    \n",
    "- #### **Entradas :** \n",
    "    **1. matriz:** Matriz.\n",
    "~~~python\n",
    "matriz= [[1.0, 0.43, 0.11], \n",
    "         [3.5, 1.0, 0.33], \n",
    "         [7.0, 3.0, 1.0]]\n",
    "~~~\n",
    "\n",
    "- #### **Salidas :** \n",
    "    **1. v_pesos:** Vector pesos de la matriz.    \n",
    "    \n",
    "~~~python\n",
    "v_peso=[0.08680362446065655, 0.25308270902171187, 0.6601136665176316]\n",
    "~~~"
   ]
  },
  {
   "cell_type": "markdown",
   "metadata": {},
   "source": [
    "- #### **Código :** \n",
    "Complete la función para convertir las entradas en las salidas, ingrese al [material de apoyo](#material \"Ir al material de apoyo\") para ver los ejemplos que lo pueden guiar, una vez terminada ejecútela y pruébela [aquí](#test)."
   ]
  },
  {
   "cell_type": "code",
   "execution_count": null,
   "metadata": {},
   "outputs": [],
   "source": [
    "# Importar aquí los módulos necesarios\n",
    "\n",
    "# c. Calcular la matriz normal y el vector pesos\n",
    "def vector_pesos (matriz):\n",
    "    \"Calcula la matriz normal y el vector pesos de la matriz indicada.\"\n",
    "    \n",
    "    # Escriba aquí el código:\n",
    "    \n",
    "    return(v_pesos)"
   ]
  },
  {
   "cell_type": "markdown",
   "metadata": {},
   "source": [
    "- #### **Prueba :** <a id='test'></a>\n",
    "Ejecute la siguiente celda para probar la función, si es correcta pásela [aquí](../../Programa/AHP.py)"
   ]
  },
  {
   "cell_type": "code",
   "execution_count": null,
   "metadata": {},
   "outputs": [],
   "source": [
    "import sys\n",
    "sys.path.append(\"../../Programa/Testing\")\n",
    "from testing_AHP import test_vector_pesos\n",
    "\n",
    "test_vector_pesos(vector_pesos)"
   ]
  },
  {
   "cell_type": "markdown",
   "metadata": {},
   "source": [
    "## Material de Apoyo <a id='material'></a>"
   ]
  },
  {
   "cell_type": "markdown",
   "metadata": {},
   "source": [
    "- [Numpy](../../../../9_Modulos/9_Modulos_y_Paquetes.ipynb#numpy  \"Ir al apartado de Numpy del capítulo Módulos y paquetes.\")\n",
    "\n",
    "- [Cíclo for](../../../../4_Bucles_e_Iterables/4_Bucles_e_Iterables.ipynb#BloqueFor \"Ir a subcapítulo Cíclo For Secciones del capítulo de Bucles e Iterables\")"
   ]
  },
  {
   "cell_type": "markdown",
   "metadata": {},
   "source": [
    "---\n",
    "| [**Plantilla pirncipal**](../Plantilla_AHP.ipynb \"Volver a la plantilla del programa principal\")|\n",
    "| :--------: |"
   ]
  }
 ],
 "metadata": {
  "kernelspec": {
   "display_name": "Python 3",
   "language": "python",
   "name": "python3"
  },
  "language_info": {
   "codemirror_mode": {
    "name": "ipython",
    "version": 3
   },
   "file_extension": ".py",
   "mimetype": "text/x-python",
   "name": "python",
   "nbconvert_exporter": "python",
   "pygments_lexer": "ipython3",
   "version": "3.7.4"
  }
 },
 "nbformat": 4,
 "nbformat_minor": 4
}
