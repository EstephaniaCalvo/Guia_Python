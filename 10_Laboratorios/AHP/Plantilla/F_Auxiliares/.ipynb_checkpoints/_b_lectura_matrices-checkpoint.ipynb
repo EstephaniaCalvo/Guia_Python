{
 "cells": [
  {
   "cell_type": "markdown",
   "metadata": {},
   "source": [
    "![Fig3_Encabezado.png](../../../../Fig3_Encabezado.png)\n",
    "\n",
    "---------------------"
   ]
  },
  {
   "cell_type": "markdown",
   "metadata": {},
   "source": [
    "## b. Leer y almacenar matrices (lectura_matrices)\n",
    "\n",
    "- #### **Objetivo :**\n",
    "    Lee y almacenar la matriz del [archivo](t1_CC.txt \"Ver archivo de entradas\") indicado.\n",
    "    \n",
    "- #### **Entradas :** \n",
    "    **1. m_archivo:** Archivos con la matriz de comparación.\n",
    "~~~python\n",
    "m_archivo= 't1_CC.txt'\n",
    "~~~\n",
    "\n",
    "- #### **Salidas :** \n",
    "    **1. matriz:** matriz del archivo.\n",
    "    \n",
    "~~~python\n",
    "matriz=[[1.0, 7.0, 4.0, 6.0],\n",
    "     [0.14, 1.0, 0.57, 0.86],\n",
    "     [0.25, 1.75, 1.0, 1.5],\n",
    "     [0.17, 1.17, 0.67, 1.0],\n",
    "     [1.56, 10.92, 6.24, 9.36]]\n",
    "~~~"
   ]
  },
  {
   "cell_type": "markdown",
   "metadata": {},
   "source": [
    "- #### **Código :** \n",
    "Complete la función para convertir las entradas en las salidas, ingrese al [material de apoyo](#material \"Ir al material de apoyo\") para ver los ejemplos que lo pueden guiar, una vez terminada ejecútela y pruébela [aquí](#test)."
   ]
  },
  {
   "cell_type": "code",
   "execution_count": null,
   "metadata": {},
   "outputs": [],
   "source": [
    "# Importar aquí los módulos necesarios\n",
    "\n",
    "# b. Leer y almacenar datos\n",
    "def lectura_matrices (m_archivo):\n",
    "    \"Almacena la matriz del archivo indicado.\"\n",
    "    \n",
    "    # Escriba aquí el código:\n",
    "    \n",
    "    return(matriz)"
   ]
  },
  {
   "cell_type": "markdown",
   "metadata": {},
   "source": [
    "- #### **Prueba :** <a id='test'></a>\n",
    "Ejecute la siguiente celda para probar la función, si es correcta pásela [aquí](../../Programa/AHP.py)"
   ]
  },
  {
   "cell_type": "code",
   "execution_count": null,
   "metadata": {},
   "outputs": [],
   "source": [
    "import sys\n",
    "sys.path.append(\"../../Programa/Testing\")\n",
    "from testing_AHP import test_lectura_matrices\n",
    "\n",
    "test_lectura_matrices(lectura_matrices)"
   ]
  },
  {
   "cell_type": "markdown",
   "metadata": {},
   "source": [
    "## Material de Apoyo <a id='material'></a>"
   ]
  },
  {
   "cell_type": "markdown",
   "metadata": {},
   "source": [
    "- [Almacenamiento de una matriz](../../../../7_Lectura_y_Escritura/7_Lectura_y_Escritura.ipynb#ME_Coordenadas_x_y \"Ir al Mini_Ejemplo A_Coordenadas_x_y.txt del capítulo de Lectura de archivos\")"
   ]
  },
  {
   "cell_type": "markdown",
   "metadata": {},
   "source": [
    "---\n",
    "| [**Plantilla pirncipal**](../Plantilla_AHP.ipynb \"Volver a la plantilla del programa principal\")|\n",
    "| :--------: |"
   ]
  }
 ],
 "metadata": {
  "kernelspec": {
   "display_name": "Python 3",
   "language": "python",
   "name": "python3"
  },
  "language_info": {
   "codemirror_mode": {
    "name": "ipython",
    "version": 3
   },
   "file_extension": ".py",
   "mimetype": "text/x-python",
   "name": "python",
   "nbconvert_exporter": "python",
   "pygments_lexer": "ipython3",
   "version": "3.7.4"
  }
 },
 "nbformat": 4,
 "nbformat_minor": 4
}
