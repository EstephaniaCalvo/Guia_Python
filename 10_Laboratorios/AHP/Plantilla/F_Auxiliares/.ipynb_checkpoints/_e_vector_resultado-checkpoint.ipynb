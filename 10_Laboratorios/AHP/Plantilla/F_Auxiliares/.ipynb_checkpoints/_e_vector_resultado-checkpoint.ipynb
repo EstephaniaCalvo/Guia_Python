{
 "cells": [
  {
   "cell_type": "markdown",
   "metadata": {},
   "source": [
    "![Fig3_Encabezado.png](../../../../Fig3_Encabezado.png)\n",
    "\n",
    "---------------------"
   ]
  },
  {
   "cell_type": "markdown",
   "metadata": {},
   "source": [
    "## e. Calcular el vector resultado (vector_resultado)\n",
    "\n",
    "- #### **Objetivo :**\n",
    "    Calcular el vector resultado apartir de los vectores de pesos de las alternativas por cada criterio (vp_alt) y del vector peso de la matriz de comparación de criterios, ordenarlos de mejor a peor y devolver la lista de alternativas y la matriz vp_alt en nuevo orden.    \n",
    "    \n",
    "    **Tenga en cuenta que:**\n",
    "    - En caso de que alguna matriz no sea consistente llenar vp_alt y el vector resultado de ceros.\n",
    "    \n",
    "- #### **Entradas :** \n",
    "    **1. vp_alt:** Matriz con los vectores pesos de cada alternativa para cada criterio.       \n",
    "    **2. vp_crit:** Vector pesos de la matriz de comparación de criterios.    \n",
    "    **3. l_bCR:** Lista de los resultado booleanos de la razón de consistencia.   \n",
    "    **4. l_alternativas:** Lista de alternativas.   \n",
    "    "
   ]
  },
  {
   "cell_type": "code",
   "execution_count": null,
   "metadata": {},
   "outputs": [],
   "source": [
    "vp_alt=[[0.5456205869838782, 0.2728102934919391, 0.18156911952418273] , [0.08680362446065655, 0.25308270902171187, 0.6601136665176316], [0.05210811174448073, 0.5792963465563111, 0.36859554169920816], [0.10601417883037229, 0.633996991149552, 0.2599888300200758]]\n",
    "vp_crit=[0.09113629426129426, 0.16025641025641024, 0.10758165445665446, 0.641025641025641]\n",
    "l_bCR=[True, True, True, True, True]\n",
    "l_alternativas= ['A', 'B', 'C']\n",
    "l_criterios= ['1', '2', '3', '4']"
   ]
  },
  {
   "cell_type": "markdown",
   "metadata": {},
   "source": [
    "- #### **Salidas :** \n",
    "    **1. l_alternativas_ord:** Lista de alternativas ordenadas según el vector resultados.    \n",
    "    **2. vp_alt_ord:** Matriz con los pesos ordenados según el vector resultados.     \n",
    "    **3. v_resultado:** Vector resultado ordenado de mejor a peor.    \n",
    "    \n",
    "~~~python\n",
    "l_alternativas_ord=['B', 'C', 'A']\n",
    "\n",
    "vp_alt_ord=[[0.2728102934919391, 0.18156911952418273, 0.5456205869838782],\n",
    "  [0.25308270902171187, 0.6601136665176316, 0.08680362446065655],\n",
    "  [0.5792963465563111, 0.36859554169920816, 0.05210811174448073],\n",
    "  [0.633996991149552, 0.2599888300200758, 0.10601417883037229]]\n",
    "\n",
    "v_resultado=[0.5341510326741712, 0.32864860788750583, 0.13720035943832296]\n",
    "~~~"
   ]
  },
  {
   "cell_type": "markdown",
   "metadata": {},
   "source": [
    "- #### **Código :** \n",
    "Complete la función para convertir las entradas en las salidas, ingrese al [material de apoyo](#material \"Ir al material de apoyo\") para ver los ejemplos que lo pueden guiar, una vez terminada ejecútela y pruébela [aquí](#test)."
   ]
  },
  {
   "cell_type": "code",
   "execution_count": null,
   "metadata": {},
   "outputs": [],
   "source": [
    "# Importar aquí los módulos necesarios\n",
    "\n",
    "# e. Calcular el vector resultados\n",
    "def vector_resultado (vp_alt, vp_crit, l_bCR, l_alternativas, l_criterios):\n",
    "    \"\"\"Calcula el vector de resultados a partir de los vectores de pesos de las alternativas por cada criterio (vp_alt)\n",
    "    y del vector peso de la matriz de comparación de criterios, devolviendo la lista de alternativas, la matriz vp_alt y \n",
    "    los resultdos ordenados de mejor a peor según estos últimos.\"\"\"\n",
    "    \n",
    "    # Escriba aquí el código:\n",
    "    \n",
    "    return(l_alternativas_ord, vp_alt_ord, v_resultado)"
   ]
  },
  {
   "cell_type": "markdown",
   "metadata": {},
   "source": [
    "- #### **Prueba :** <a id='test'></a>\n",
    "Ejecute la siguiente celda para probar la función, si es correcta pásela [aquí](../../Programa/AHP.py)"
   ]
  },
  {
   "cell_type": "code",
   "execution_count": null,
   "metadata": {},
   "outputs": [],
   "source": [
    "import sys\n",
    "sys.path.append(\"../../Programa/Testing\")\n",
    "from testing_AHP import test_vector_resultado\n",
    "\n",
    "test_vector_resultado(vector_resultado)"
   ]
  },
  {
   "cell_type": "markdown",
   "metadata": {},
   "source": [
    "## Material de Apoyo <a id='material'></a>"
   ]
  },
  {
   "cell_type": "markdown",
   "metadata": {},
   "source": [
    "- [Manejo de índices](../../../../4_Bucles_e_Iterables/4_Bucles_e_Iterables.ipynb#Min-eje_Secciones \"Ir al Mini_Ejemplo Secciones del capítulo de Bucles e Iterables\")\n",
    "\n",
    "- [Estructuras de decisión](../../../../3_Estructuras_Logicas/3_Estructuras_Logicas.ipynb#3_Estructuras_Logicas \"Ir al capítulo de Estructuras de decisión\")\n",
    "\n",
    "- [Manejo de listas](../../../../5_Estructura_de_Datos/5_Estructura_de_Datos.ipynb#Listas \"Ir a la sección Métodos de las listas del capítulo de Estructuras de datos\")\n",
    "\n",
    "- [Ordenar de listas](../../../../5_Estructura_de_Datos/5_Estructura_de_Datos.ipynb#Orden \"Ir a la sección Métodos de orden de listas del capítulo de Estructuras de datos\")\n",
    "\n",
    "- [Numpy](../../../../9_Modulos/9_Modulos_y_Paquetes.ipynb#numpy  \"Ir al apartado de Numpy del capítulo Módulos y paquetes.\")"
   ]
  },
  {
   "cell_type": "markdown",
   "metadata": {},
   "source": [
    "---\n",
    "| [**Plantilla pirncipal**](../Plantilla_AHP.ipynb \"Volver a la plantilla del programa principal\")|\n",
    "| :--------: |"
   ]
  }
 ],
 "metadata": {
  "kernelspec": {
   "display_name": "Python 3",
   "language": "python",
   "name": "python3"
  },
  "language_info": {
   "codemirror_mode": {
    "name": "ipython",
    "version": 3
   },
   "file_extension": ".py",
   "mimetype": "text/x-python",
   "name": "python",
   "nbconvert_exporter": "python",
   "pygments_lexer": "ipython3",
   "version": "3.7.4"
  }
 },
 "nbformat": 4,
 "nbformat_minor": 4
}
