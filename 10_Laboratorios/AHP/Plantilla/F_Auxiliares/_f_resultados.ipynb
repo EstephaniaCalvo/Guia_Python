{
 "cells": [
  {
   "cell_type": "markdown",
   "metadata": {},
   "source": [
    "## f. Guardar archivo de resultados.xlsx\n",
    "\n",
    "- #### **Objetivos :** \n",
    "    1. Crear la carpeta Resultados    \n",
    "    2. Crear un archivo .xlsx donde estén registrados los resultados de la evaluación de consistencia en la hoja 1 y las alternativas con sus respectivos puntajes ordenadas de mejor a peor en la hoja 2.\n",
    "    3. Guardar archivo en la carpeta.\n",
    "    \n",
    "**Tenga en cuenta que:**\n",
    "\n",
    "- El archivo debe tener el nombre del archivo de datos sin la extensión .txt.\n",
    "- Las hojas 1 y 2 deben tener el nombre de \"Consistencias\" y \"Resultados\" respectivamente.\n",
    "- Cada hoja debe tener un enunciado \"Evaluación de consistencia\" y \"AHP de archivo_entradas\" según corresponda, con tamaño de letra tamaño 16 y en negrita."
   ]
  },
  {
   "cell_type": "markdown",
   "metadata": {},
   "source": [
    "- #### **Entradas :** \n",
    "    \n",
    "    **1. l_criterios** Lista de criterios.     \n",
    "    **2. l_alternativas** Lista de alternativas.     \n",
    "    **3. l_archivos:** Lista con los archivos de las matrices.     \n",
    "    **4. vp_alt:** Matriz con los vectores peso de las matrices de comparación de alternativas por criterio.     \n",
    "    **5. l_CR:** Lista con las razones de consistencia de cada vector.     \n",
    "    **6. v_resultado:** Lista con los valores del vector resultados.     \n",
    "    **7. archivo:** Archivo con las entradas.     "
   ]
  },
  {
   "cell_type": "code",
   "execution_count": null,
   "metadata": {},
   "outputs": [],
   "source": [
    "# 1. Lista de criterios\n",
    "l_criterios= ['Precio', 'Calidad', 'Distancia']\n",
    "\n",
    "# 2. Lista de alternativas\n",
    "l_alternativas= ['Alphabet','Bit','Care']\n",
    "\n",
    "# 3. Lista de archivos\n",
    "l_archivos= ['t1_CC.txt', 't1_C1.txt', 't2_C2.txt', 't1_C3.txt']\n",
    "\n",
    "# 4. Vectores pesos\n",
    "vp_alt=[[0, 0, 0], \n",
    "[0, 0, 0], \n",
    "[0, 0, 0]]\n",
    "\n",
    "# 5. Lista razón de consistencias\n",
    "l_CR=[0.0007315215648549592, -0.0012654479705163629, 0.3134100166738678, 0.05231316347373636]\n",
    "\n",
    "# 6. Lista de resultados\n",
    "v_resultado=[0, 0, 0]\n",
    "\n",
    "# 7. archivo de entradas\n",
    "archivo_entradas='test_2.txt'"
   ]
  },
  {
   "cell_type": "markdown",
   "metadata": {},
   "source": [
    "- #### **Salidas :** \n",
    "\n",
    "**1. Resultados_Archivo.xlsx:** Archivo de Excel con la evaluación de consistencia de cada matriz en la hoja 1 y con los resultados del AHP en la hoja 2."
   ]
  },
  {
   "cell_type": "markdown",
   "metadata": {},
   "source": [
    "- #### **Código :** \n",
    "Complete la función para convertir las entradas en las salidas e ingrese al [material de apoyo](#material \"Ir al material de apoyo\") para ver los ejemplos que lo pueden guiar. Una vez terminada ejecútela y compare sus resultados con el archivo R_Prueba_test_2.xlsx ubicado en la carpeta R_Pruebas."
   ]
  },
  {
   "cell_type": "code",
   "execution_count": null,
   "metadata": {},
   "outputs": [],
   "source": [
    "# Importar aquí los módulos necesarios\n",
    "\n",
    "# f. Guardar archivo de resultados.xlsx\n",
    "def resultados (l_criterios, l_alternativas,  l_archivos, vp_alt, l_CR, v_resultado, archivo)\n",
    "    \"\"\"\n",
    "    Crear y guardar el archivo.xls con los resultados del programa en la carpeta Resultados.\n",
    "    \"\"\"\n",
    "    # Escriba aquí el código:\n",
    "    \n",
    "    return None"
   ]
  },
  {
   "cell_type": "markdown",
   "metadata": {},
   "source": [
    "- #### **Prueba :** <a id='prueba'></a>\n",
    "Ejecute la celda de entradas y luego la siguiente celda. Compruebe si en la carpeta Resultados está el archivo Resultados_test_d1.xls con el contenido correcto, si es así pase la función [aquí](../../Programa/Tabla_de_Frecuencias.py)"
   ]
  },
  {
   "cell_type": "code",
   "execution_count": null,
   "metadata": {},
   "outputs": [],
   "source": [
    "# Prueba de salidas\n",
    "\n",
    "resultados(l_criterios, l_alternativas,  l_archivos, vp_alt, l_CR, v_resultado, archivo_entradas)"
   ]
  },
  {
   "cell_type": "markdown",
   "metadata": {},
   "source": [
    "## Material de Apoyo <a id='material'></a>"
   ]
  },
  {
   "cell_type": "markdown",
   "metadata": {},
   "source": [
    "- [Crear carpetas](../../../../7_Lectura_y_Escritura/7_Lectura_y_Escritura.ipynb#Carpetas \"Ir a la sección Creación de carpetas de carpetas.\")\n",
    "\n",
    "- [Escribir Archivos.xlsx](../../../../7_Lectura_y_Escritura/7_Lectura_y_Escritura.ipynb#xlsx \"Ir a la sección de creación de archivos en Excel.\")"
   ]
  },
  {
   "cell_type": "markdown",
   "metadata": {},
   "source": [
    "---\n",
    "| [**Plantilla principal**](../Plantilla_AHP.ipynb \"Volver a la plantilla del programa principal\")|\n",
    "| :--------: |"
   ]
  }
 ],
 "metadata": {
  "kernelspec": {
   "display_name": "Python 3",
   "language": "python",
   "name": "python3"
  },
  "language_info": {
   "codemirror_mode": {
    "name": "ipython",
    "version": 3
   },
   "file_extension": ".py",
   "mimetype": "text/x-python",
   "name": "python",
   "nbconvert_exporter": "python",
   "pygments_lexer": "ipython3",
   "version": "3.7.4"
  }
 },
 "nbformat": 4,
 "nbformat_minor": 4
}
