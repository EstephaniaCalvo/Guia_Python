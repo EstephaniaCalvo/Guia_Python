{
 "cells": [
  {
   "cell_type": "markdown",
   "metadata": {},
   "source": [
    "![Fig3_Encabezado.png](../../../../Fig3_Encabezado.png)\n",
    "\n",
    "---------------------"
   ]
  },
  {
   "cell_type": "markdown",
   "metadata": {},
   "source": [
    "## a. Leer y almacenar entradas (lectura_entradas)\n",
    "\n",
    "- #### **Objetivo :** \n",
    "    Almacenar el contenido del [archivo de entradas](test_1.txt \"Ver archivo de entradas\") en una lista de criterios, lista de alternativas y lista de archivos.\n",
    "    \n",
    "- #### **Entradas :** \n",
    "~~~python\n",
    "archivo_entradas='test_1.txt'\n",
    "~~~\n",
    "\n",
    "- #### **Salidas :** \n",
    "~~~python\n",
    "l_criterios= ['1', '2', '3', '4']\n",
    "l_alternativas= ['A', 'B', 'C']\n",
    "l_archivos= ['t1_CC.txt', 't1_C1.txt', 't1_C2.txt', 't1_C3.txt', 't1_C4.txt']\n",
    "~~~"
   ]
  },
  {
   "cell_type": "markdown",
   "metadata": {},
   "source": [
    "- #### **Código :** \n",
    "Complete la función para convertir las entradas en las salidas, ingrese al [material de apoyo](#material \"Ir al material de apoyo\") para ver los ejemplos que lo pueden guiar, una vez terminada ejecútela y pruébela [aquí](#test)."
   ]
  },
  {
   "cell_type": "code",
   "execution_count": null,
   "metadata": {},
   "outputs": [],
   "source": [
    "# Importar aquí los módulos necesarios\n",
    "\n",
    "# a. Leer y almacenar archivo de entradas\n",
    "def lectura_entradas (archivo_entradas): \n",
    "    \"\"\"\n",
    "    Leer y almarcenar los datos del archivo de entradas, en una  lista para los criterios,\n",
    "    alternativas y archivos con las matrices comparativas.\n",
    "    \"\"\"\n",
    "    \n",
    "    # Escriba aquí el código:\n",
    "    \n",
    "    return (l_criterios,l_alternativas,l_archivos)"
   ]
  },
  {
   "cell_type": "markdown",
   "metadata": {},
   "source": [
    "- #### **Prueba :** <a id='test'></a>\n",
    "Ejecute la siguiente celda para probar la función, si es correcta, pásela [aquí](../../Programa/AHP.py)"
   ]
  },
  {
   "cell_type": "code",
   "execution_count": null,
   "metadata": {},
   "outputs": [],
   "source": [
    "import sys\n",
    "sys.path.append(\"../../Programa/Testing\")\n",
    "from testing_AHP import test_lectura_entradas\n",
    "\n",
    "test_lectura_entradas(lectura_entradas)"
   ]
  },
  {
   "cell_type": "markdown",
   "metadata": {},
   "source": [
    "## Material de Apoyo <a id='material'></a>"
   ]
  },
  {
   "cell_type": "markdown",
   "metadata": {},
   "source": [
    "- [Lectura de bases de datos](../../../../7_Lectura_y_Escritura/7_Lectura_y_Escritura.ipynb#ME_BDatos \"Ir al Mini_Ejemplo Almacenar base de datos del capítulo de Lectura de archivos\")"
   ]
  },
  {
   "cell_type": "markdown",
   "metadata": {},
   "source": [
    "---\n",
    "| [**Plantilla pirncipal**](../Plantilla_AHP.ipynb \"Volver a la plantilla del programa principal\")|\n",
    "| :--------: |"
   ]
  }
 ],
 "metadata": {
  "kernelspec": {
   "display_name": "Python 3",
   "language": "python",
   "name": "python3"
  },
  "language_info": {
   "codemirror_mode": {
    "name": "ipython",
    "version": 3
   },
   "file_extension": ".py",
   "mimetype": "text/x-python",
   "name": "python",
   "nbconvert_exporter": "python",
   "pygments_lexer": "ipython3",
   "version": "3.7.4"
  }
 },
 "nbformat": 4,
 "nbformat_minor": 4
}
