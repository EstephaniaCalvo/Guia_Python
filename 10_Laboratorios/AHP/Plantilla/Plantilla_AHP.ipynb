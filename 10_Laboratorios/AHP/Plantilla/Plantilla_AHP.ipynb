{
 "cells": [
  {
   "cell_type": "markdown",
   "metadata": {},
   "source": [
    "## Plantilla - AHP <a id=\"plantilla\"></a>"
   ]
  },
  {
   "cell_type": "markdown",
   "metadata": {},
   "source": [
    "### **-2. Importar módulos**"
   ]
  },
  {
   "cell_type": "code",
   "execution_count": 1,
   "metadata": {},
   "outputs": [],
   "source": [
    "# Importe aquí todos los módulos que necesite"
   ]
  },
  {
   "cell_type": "markdown",
   "metadata": {},
   "source": [
    "### **-1. Funciones auxiliares**"
   ]
  },
  {
   "cell_type": "markdown",
   "metadata": {},
   "source": [
    "<a id='lectura_entradas'></a>\n",
    "#### a. Leer y almacenar archivo de entradas ([lectura_entradas](F_Auxiliares/_a_lectura_entradas.ipynb \"Ir a la plantilla de lectura_entradas\"))"
   ]
  },
  {
   "cell_type": "markdown",
   "metadata": {},
   "source": [
    "<a id='lectura_matrices'></a>\n",
    "#### b. Leer y almacenar matrices ([lectura_matrices](F_Auxiliares/_b_lectura_matrices.ipynb \"Ir a la plantilla de lectura_matrices\"))"
   ]
  },
  {
   "cell_type": "markdown",
   "metadata": {},
   "source": [
    "<a id='vector_pesos'></a>\n",
    "#### c. Calcular el vector de pesos de la matriz ([vector_peso](F_Auxiliares/_c_vector_peso.ipynb \"Ir a la plantilla de vector_peso\"))"
   ]
  },
  {
   "cell_type": "markdown",
   "metadata": {},
   "source": [
    "<a id='razon'></a>\n",
    "#### d. Calcular la razón de cosisntencia ([razon](F_Auxiliares/_d_razon.ipynb \"Ir a la plantilla de razon\"))"
   ]
  },
  {
   "cell_type": "markdown",
   "metadata": {},
   "source": [
    "<a id='resultados'></a>\n",
    "#### e. Calcular el vector resultados ([vector_resultado](F_Auxiliares/_e_vector_resultado.ipynb \"Ir a la plantilla de vector_resultado\"))"
   ]
  },
  {
   "cell_type": "markdown",
   "metadata": {},
   "source": [
    "<a id='resultados'></a>\n",
    "#### f. Guardar archivo de resultados.xlsx ([resultados](F_Auxiliares/_f_resultados.ipynb \"Ir a la plantilla de resultados\"))"
   ]
  },
  {
   "cell_type": "markdown",
   "metadata": {},
   "source": [
    "### **0. Programa principal** [AHP](../Programa/AHP.py)"
   ]
  },
  {
   "cell_type": "code",
   "execution_count": null,
   "metadata": {},
   "outputs": [],
   "source": [
    "# 0. Programa principal\n",
    "def main(ingreso=1):\n",
    "    \"\"\"\n",
    "    Al ingresar un archivo con los criterios, las alternativas, y los nombres de los archivos que contiene cada matriz de comparación, evalua la consistencia de cada matriz y si lo es devolver la lista de alternativas en orden de mejor a peor en un archivo.xlsx, en caso de no ser consistente indica cual o cuales de las matrices no cumplen.\n",
    "    \"\"\"\n",
    "\n",
    "    \"0. Pedir y leer archivo de entradas\"\n",
    "    # Ingresar archivo de entrada.\n",
    "    \n",
    "    if ingreso==1:\n",
    "        a_entradas=input(\"Por favor ingrese el archivo que contiene las entradas, por ejemplo, 'Entradas.txt':\\n\")\n",
    "    elif ingreso==\"e\":\n",
    "        a_entradas=\"Ej_AHP.txt\"\n",
    "    \n",
    "    # Leer el archivo de entradas\n",
    "    \n",
    "    \n",
    "    \"1. Leer matrices\"\n",
    "    # leer y almacernar las matrices\n",
    "    \n",
    "    \n",
    "    \"2. Calcular el vector de pesos para cada matriz.\"\n",
    "    \n",
    "    \n",
    "    \"3. Calcular la razón de cosisntencia CR para cada matriz.\"\n",
    "    \n",
    "    # Crear lista con el valor númerico del CR\n",
    "    \n",
    "    # Crear lista con el valor booleano del CR\n",
    "    \n",
    "    \n",
    "    \"4. Calcular el vector resultado\"\n",
    "\n",
    "    \n",
    "    \"5. Crear y guardar el archivo.xlsx con los resultados\"          \n",
    "        \n",
    "if __name__=='__main__':\n",
    "    main()"
   ]
  },
  {
   "cell_type": "markdown",
   "metadata": {},
   "source": [
    "---\n",
    "| [**Home**](../AHP.ipynb \"Ir a la página principal del algoritmo\")| - | [**Prácticas**](../Practicas/Practicas_AHP.ipynb \"Ir a la página de las prácticas\")|\n",
    "| :--------: | :-------: | :--------: |"
   ]
  }
 ],
 "metadata": {
  "kernelspec": {
   "display_name": "Python 3",
   "language": "python",
   "name": "python3"
  },
  "language_info": {
   "codemirror_mode": {
    "name": "ipython",
    "version": 3
   },
   "file_extension": ".py",
   "mimetype": "text/x-python",
   "name": "python",
   "nbconvert_exporter": "python",
   "pygments_lexer": "ipython3",
   "version": "3.7.4"
  }
 },
 "nbformat": 4,
 "nbformat_minor": 4
}
