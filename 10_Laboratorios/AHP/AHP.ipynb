{
 "cells": [
  {
   "cell_type": "markdown",
   "metadata": {},
   "source": [
    "# **AHP - Analytic Hierarchy Process**"
   ]
  },
  {
   "cell_type": "markdown",
   "metadata": {},
   "source": [
    "## **Índice**\n",
    "\n",
    "- [Descripción](#descripcion)\n",
    "- [Ejemplo](Ejemplo/Ejemplo_AHP.ipynb#ejemplo)\n",
    "- [Análisis del problema](Programa/Analisis.ipynb \"Ir al análisis del problema\")\n",
    "- [Plantilla](Plantilla/Plantilla_AHP.ipynb \"Ir a la plantilla del programa\")\n",
    "- [Código del Programa](Programa/AHP.py \"Ir a archivo del programa\") \n",
    "- [Instrucciones del programa](Programa/Instrucciones.ipynb \"Ir a las instrucciones del programa\")\n",
    "- [Prácticas](Practicas/Practicas_AHP.ipynb)\n",
    "- [Testing](Programa/Testing/Testing_AHP.ipynb \"Ir archivo de Testing\")"
   ]
  },
  {
   "cell_type": "markdown",
   "metadata": {},
   "source": [
    "### **Descripción** <a id=\"descripcion\"></a>"
   ]
  },
  {
   "cell_type": "markdown",
   "metadata": {},
   "source": [
    "Este algoritmo es empleado como herramienta para apoyar la toma de decisiones cuando se debe seleccionar la mejor de varias alternativas en función de más de dos criterios para evalauarlas, también puede ser utlizado para clasificación, priorización, asignación recursos, comparación entre otras."
   ]
  },
  {
   "cell_type": "markdown",
   "metadata": {},
   "source": [
    "<a id=\"programa\"></a>\n",
    "### **Programa**"
   ]
  },
  {
   "cell_type": "markdown",
   "metadata": {},
   "source": [
    "\n",
    "- **Recomendación**: Lea las [instrucciones del programa](Programa/Instrucciones.ipynb \"Ir a las instrucciones del programa\") antes de usarlo."
   ]
  },
  {
   "cell_type": "code",
   "execution_count": null,
   "metadata": {},
   "outputs": [],
   "source": [
    "try:\n",
    "    %matplotlib inline\n",
    "    import os\n",
    "\n",
    "    os.chdir(\"Programa\")\n",
    "    from AHP import main\n",
    "    os.chdir(\"../\")\n",
    "\n",
    "    main()\n",
    "except(FileNotFoundError):\n",
    "    print(\"No se encuentra el archivo indicado.\")\n",
    "except(Exception):\n",
    "    print(\"El programa no se ha podido ejecutar correctamente\")"
   ]
  }
 ],
 "metadata": {
  "kernelspec": {
   "display_name": "Python 3",
   "language": "python",
   "name": "python3"
  },
  "language_info": {
   "codemirror_mode": {
    "name": "ipython",
    "version": 3
   },
   "file_extension": ".py",
   "mimetype": "text/x-python",
   "name": "python",
   "nbconvert_exporter": "python",
   "pygments_lexer": "ipython3",
   "version": "3.7.4"
  }
 },
 "nbformat": 4,
 "nbformat_minor": 4
}
