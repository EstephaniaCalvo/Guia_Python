{
 "cells": [
  {
   "cell_type": "markdown",
   "metadata": {},
   "source": [
    "## Ejemplo - AHP <a id=\"ejemplo\"></a>"
   ]
  },
  {
   "cell_type": "markdown",
   "metadata": {},
   "source": [
    "Suponga que debe ordenar las alternativas evaluándolas con los criterios, mostrados a continuación.\n",
    "\n",
    "$Alternativas= \\begin{pmatrix}A \\\\ B \\\\ C \\end{pmatrix}$      \n",
    "\n",
    "$Criterios= \\begin{pmatrix}C_1 \\\\ C_2 \\\\ C_3 \\\\ C_4 \\end{pmatrix}$"
   ]
  },
  {
   "cell_type": "markdown",
   "metadata": {},
   "source": [
    "- #### **Solución** \n",
    "\n",
    "##### **1.** Llenar la matríz comparativa de criterios \"MC\" guardada en el archivo [Ej_AHP_CC.txt](Ej_AHP_CC.txt).\n",
    "\n",
    "$MC=\\begin{matrix}\n",
    " Crt &C_1 & C_2 & C_3 & C_4 \\\\ \n",
    " C_1 & 1 & 7 & 4 & 6 \\\\\n",
    " C_2 & 1/7 & 1 & 4/7 & 6/7 \\\\\n",
    " C_3 & 1/4 & 74 & 1 & 6/4 \\\\\n",
    " C_4 & 1/6 & 7/6 & 1/6 & 1 \\\\\n",
    "\\end{matrix}$"
   ]
  },
  {
   "cell_type": "markdown",
   "metadata": {},
   "source": [
    "##### **2.** Normalizar \"MC\"\n",
    "\n",
    "- Sumar cada columna de MC.\n",
    "\n",
    "    $\\begin{matrix}\n",
    "     Crt &C_1 & C_2 & C_3 & C_4 \\\\ \n",
    "     Sum & 1.6 & 10.9 & 6.2 & 9.4 \n",
    "    \\end{matrix}$\n",
    "\n",
    "- Dividir cada valor de las columnas por la sumatoria correspondiente. \n",
    "\n",
    "    $MnC=\\begin{matrix}\n",
    "     0.64 & 0.64 & 0.64 & 0.64 \\\\\n",
    "     0.09 & 0.09 & 0.09 & 0.09 \\\\\n",
    "     0.16 & 0.16 & 0.16 & 0.16 \\\\\n",
    "     0.11 & 0.11 & 0.11 & 0.11 \\\\\n",
    "    \\end{matrix}$"
   ]
  },
  {
   "cell_type": "markdown",
   "metadata": {},
   "source": [
    "##### **3.** Sacar el vector de los pesos de los criterios \"$W_c$\", sacando el promedio de cada fila.\n",
    "\n",
    "$W_C=\\begin{pmatrix} 64.12\\% \\\\ 9.16\\% \\\\ 16.03\\% \\\\ 10.69\\% \\end{pmatrix}$"
   ]
  },
  {
   "cell_type": "markdown",
   "metadata": {},
   "source": [
    "##### **4.** Calcular la razón de consistencia \"$CR$\" para evaluar la consistencia de la matríz.\n",
    "\n",
    "La matriz se considera consisntente si $CR\\leq0.1$\n",
    "\n",
    "- Razón de cosistencia:    \n",
    "    $CR=CI/RI$\n",
    "\n",
    "- Índice de consistencia:      \n",
    "    $CI=\\frac{n_{max}-n}{n-1}$\n",
    "\n",
    "- Consistencia Aleatoria:      \n",
    "    $RI=\\frac{1.98(n-2)}{n}=0.99$\n",
    "\n",
    "**Nota:** $n_{max}$ es la sumatoria del vector resultante del produto entre $W_c$ y $MC$.\n",
    "\n",
    "$MC=\\begin{pmatrix}\n",
    " 1 & 7 & 4 & 6 \\\\\n",
    " 1/7 & 1 & 4/7 & 6/7 \\\\\n",
    " 1/4 & 74 & 1 & 6/4 \\\\\n",
    " 1/6 & 7/6 & 1/6 & 1 \\\\\n",
    "\\end{pmatrix}\n",
    "\\cdot\n",
    "\\begin{pmatrix} 64.12\\% \\\\ 9.16\\% \\\\ 16.03\\% \\\\ 10.69\\% \\end{pmatrix}=\n",
    "\\begin{pmatrix} 2.56 \\\\ 0.37 \\\\ 0.64 \\\\ 0.43 \n",
    "\\end{pmatrix}\n",
    "$\n",
    "\n",
    "$n_{max}=(2.56 + 0.37 + 0.64 + 0.43)≈4$\n",
    "\n",
    "$CI=2.9906*10^{-16}$\n",
    "\n",
    "$CR=\\frac{2.9906*10^{-16}}{0.99}=2.9905*10^{-16}$"
   ]
  },
  {
   "cell_type": "markdown",
   "metadata": {},
   "source": [
    "##### **5.** Llenar la Matriz de comparación de las alternativas para cada criterio, calcular el vector del peso y comprobar la consistencia.\n",
    "\n",
    "- Matriz comparativa para $C_1$ guardada en el archivo [Ej_AHP_C1.txt](Ej_AHP_C1.txt).\n",
    "\n",
    "    $MA_{C_1}=\\begin{matrix}\n",
    "     Alt &A & B & C \\\\ \n",
    "     A & 1 & 2 & 3 \\\\\n",
    "     B & 1/2 & 1 & 3/2 \\\\\n",
    "     C & 1/3 & 2/3 & 1 \\\\\n",
    "    \\end{matrix}$\n",
    "\n",
    "    - Vector pesos $WAc_1$.\n",
    "\n",
    "    $WAc_1=\\begin{pmatrix} 0.55\\% \\\\ 0.27\\% \\\\ 0.18\\% \\end{pmatrix}$\n",
    "\n",
    "    - $Consistencia=CR=0$"
   ]
  },
  {
   "cell_type": "markdown",
   "metadata": {},
   "source": [
    "- Matriz comparativa para $C_2$ guardada en el archivo [Ej_AHP_C2.txt](Ej_AHP_C2.txt).\n",
    "\n",
    "    $MA_{C_2}=\\begin{matrix}\n",
    "     Alt &A & B & C \\\\ \n",
    "     A & 1 & 3/7 & 1/9 \\\\\n",
    "     B & 7/2 & 1 & 1/3 \\\\\n",
    "     C & 7 & 3 & 1 \\\\\n",
    "    \\end{matrix}$\n",
    "\n",
    "    - Vector pesos.\n",
    "\n",
    "    $WAc_2=\\begin{pmatrix} 8.69\\% \\\\ 25.36\\% \\\\ 65.95\\% \\end{pmatrix}$\n",
    "\n",
    "    - $Consistencia=CR=0.05$\n",
    "\n",
    "- Matriz comparativa para $C_3$ guardada en el archivo [Ej_AHP_C3.txt](Ej_AHP_C3.txt).\n",
    "\n",
    "    $MA_{C_3}=\\begin{matrix}\n",
    "     Alt &A & B & C \\\\ \n",
    "     A & 1 & 1/9 & 1/9 \\\\\n",
    "     B & 9 & 1 & 2 \\\\\n",
    "     C & 9 & 1/2 & 1 \\\\\n",
    "    \\end{matrix}$\n",
    "\n",
    "    - Vector pesos.\n",
    "\n",
    "    $WAc_3=\\begin{pmatrix} 5.24\\% \\\\ 57.91\\% \\\\ 36.85\\% \\end{pmatrix}$\n",
    "\n",
    "    - $Consistencia=CR=0.06$\n",
    "\n",
    "- Matriz comparativa para $C_4$ guardada en el archivo [Ej_AHP_C4.txt](Ej_AHP_C4.txt).\n",
    "\n",
    "    $MA_{C_4}=\\begin{matrix}\n",
    "     Alt &A & B & C \\\\ \n",
    "     A & 1 & 1/5 & 1/3 \\\\\n",
    "     B & 5 & 1 & 3 \\\\\n",
    "     C & 3 & 1/3 & 1 \\\\\n",
    "    \\end{matrix}$\n",
    "\n",
    "    - Vector pesos.\n",
    "\n",
    "    $WAc_4=\\begin{pmatrix} 10.62\\% \\\\ 63.33\\% \\\\ 26.05\\% \\end{pmatrix}$\n",
    "\n",
    "    - $Consistencia=CR=0.06$"
   ]
  },
  {
   "cell_type": "markdown",
   "metadata": {},
   "source": [
    "##### **6.** Calcular el vector de resultado $V_R$\n",
    "\n",
    "- Crear una matriz de vectores de peso de alternativas por criterio. \n",
    "\n",
    "    $MAC=\\begin{matrix}\n",
    "      & C_1 & C_2 & C_3 & C_4 \\\\ \n",
    "     A & 54.55\\% & 8.69\\% & 5.24\\% & 10.62\\% \\\\\n",
    "     B & 27.27\\% & 25.36\\% & 57.91\\% & 63.33\\% \\\\\n",
    "     C & 18.18\\% & 65.95\\% & 36.85\\% & 26.05\\% \\\\\n",
    "    \\end{matrix}$\n",
    "\n",
    "- Calcular el producto punto de $MAC$ y $W_C$\n",
    "\n",
    "    $V_R=\\begin{pmatrix}\n",
    "     \\\\ \n",
    "     54.55\\% & 8.69\\% & 5.24\\% & 10.62\\% \\\\\n",
    "     27.27\\% & 25.36\\% & 57.91\\% & 63.33\\% \\\\\n",
    "     18.18\\% & 65.95\\% & 36.85\\% & 26.05\\% \\\\\n",
    "    \\end{pmatrix}\n",
    "    \\cdot\n",
    "    \\begin{pmatrix} 64.12\\% \\\\ 9.16\\% \\\\ 16.03\\% \\\\ 10.69\\% \\end{pmatrix}=\n",
    "    \\begin{pmatrix} 37.72\\% \\\\ 35.28\\% \\\\ 27.00 \\end{pmatrix}$"
   ]
  },
  {
   "cell_type": "markdown",
   "metadata": {},
   "source": [
    "#### Resultados <a id=\"resultados\"></a>\n",
    "\n",
    "1. **Archivos en excel con los resultados:** Abra el archivo Resultados_Ej_AHP.xlsx guardados en la carpeta resultados.\n",
    "\n",
    "![consistencia_Ej_AHP.png](consistencia_Ej_AHP.png)\n",
    "    \n",
    "![resultados_Ej_AHP.png](resultados_Ej_AHP.png)"
   ]
  },
  {
   "cell_type": "markdown",
   "metadata": {},
   "source": [
    "---\n",
    "| [**Home**](../AHP.ipynb \"Ir a la página principal del algoritmo\")| - | [**Prácticas**](../Practicas/Practicas_AHP.ipynb \"Ir a la página de la prácticas\")|\n",
    "| :--------: | :-------: | :--------: |"
   ]
  }
 ],
 "metadata": {
  "kernelspec": {
   "display_name": "Python 3",
   "language": "python",
   "name": "python3"
  },
  "language_info": {
   "codemirror_mode": {
    "name": "ipython",
    "version": 3
   },
   "file_extension": ".py",
   "mimetype": "text/x-python",
   "name": "python",
   "nbconvert_exporter": "python",
   "pygments_lexer": "ipython3",
   "version": "3.7.4"
  }
 },
 "nbformat": 4,
 "nbformat_minor": 4
}
