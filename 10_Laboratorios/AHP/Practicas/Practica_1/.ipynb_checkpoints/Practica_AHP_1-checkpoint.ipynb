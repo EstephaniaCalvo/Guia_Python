{
 "cells": [
  {
   "cell_type": "markdown",
   "metadata": {},
   "source": [
    "![Fig3_Encabezado.png](../../../../Fig3_Encabezado.png)\n",
    "\n",
    "---------------------"
   ]
  },
  {
   "cell_type": "markdown",
   "metadata": {},
   "source": [
    "# **Práctica 1:** Priorización de proyectos <a id='ejemplo'></a>\n",
    "Para mejorar el proceso de control y asguramiento de calidad, dar cumplimiento a las normas ISO y responder a puntos de auditoria de Icontec y de clientes, se deben planear y ejecutar los proyectos que se muestran a continuación.\n",
    "\n",
    "- **6s:** Realizar programa de 6's.\n",
    "- **Auditores:** Implementar un sistema de cacitación de auditores internos.\n",
    "- **Cambios:** Implementar el módulo de control de cambios.\n",
    "- **Capacitaciones:** Implementar el módulo de knowlege management, para realizar el seguimiento de las capacitaciones.\n",
    "- **Exclusa:** Construir exclusa para el área de laminado.\n",
    "- **Filtros:** Reemplazar todos los filtros del sistema de ventilación.\n",
    "- **Laboratorio** Instalar estánterias y separdores para el almacenar muestreo del producto en el laboratorio.\n",
    "- **Limpiabotas:** Instalar limpiabotas en las entradas de la planta.\n",
    "- **Metrología**Implementar el módulo de metrología para el control de instrumentos calibrados.\n",
    "- **Novaflex:** Instalar un sistema de visión automática para la inspección de la instación\n",
    "- **Rodillos:** Reemplazar los rodillos del área de corte que estén en contacto con el producto, por rodillos en acero inoxidable.\n",
    "\n",
    "Debido a que el presupuesto de este año está límitado a 25'000.000, el gerente del área ha decidido priorizar los proyectos de acuerdo con los siguientes criterios, con el fin de conocer cuáles son posibles ejecutarlos este año, y cuales deben cargarse al presupuesto del año siguiente.\n",
    "\n",
    "- **Impacto:** Estimación del impácto positivo en el sistema de calidad si se realiza.\n",
    "- **Costo:** Estimación de la inversión que se necesita para realizar el proyecto.\n",
    "- **Tiempo:** Tiempo que tardaría realizar el proyecto.\n",
    "- **Consecuencia:** Estimación de las consecuencias si no se realiza el proyecto.\n",
    "\n",
    "El coordinador de calidad le ha entregado la siguiente tabla, dónde cada alternativa es evaluda por cada críterio.\n",
    "\n",
    "| Alternativa | Impacto | Costo | Tiempo | Consecuencia |\n",
    "|:------:|:------:|:------:|:------:|:------:|\n",
    "| 6s | Muy Alto | + 15.000.000 | +1 año | Media |\n",
    "| Auditores | Alta | 5'000.000 | 2 meses | Media |\n",
    "| Cambios | Medio | 3'600.000 | 6 meses | Alta |\n",
    "| Capacitaciones | Alto | 4'000.000 | 3 meses | Alta |\n",
    "| Exclusa | Muy Alto | 7'800.000 | 1 mes | Alta |\n",
    "| Filtros | Alto | 5'000.000 | 1 mes | Muy Alta |\n",
    "| Laboratorio | Alto | 1'500.000 | 1 semana | Muy Alta |\n",
    "| Limpiabotas | Bajo | 3'000.000 | 1 semana | Baja |\n",
    "| Metrología | Medio | 2'500.000 | 2 meses | Baja |\n",
    "| Novaflex | Muy Alto | + 120'000.000 | 6 meses | Bajo |\n",
    "| Rodillos | Alto | 10'000.000 | 1 mes | Media |\n",
    "\n",
    "Para realizar la priorización el gerente ha decidido hacer un AHP, por lo cual creó la matríz de comparación de criterios [M_Criterios.txt](M_Criterios.txt) y con la información anterior construyó las matrices de comparación de alternativas para cada criterio [M_Consecuencias.txt](M_Consecuencias.txt), [M_Costos.txt](M_Costos.txt), [M_Impacto.txt](M_Impacto.txt), [M_Tiempo.txt](M_Tiempo.txt), las cuales quedaron indicados en el archivo [Proyectos.txt](Proyectos.txt \"Ir al archivo de entradas\").\n",
    "\n",
    "Con el [programa AHP](#prog \"Ir al programa\") obtendrá el archivo Resultados_Proyectos.txt con los proyectos priorizados, guardado en la carpeta Resultados."
   ]
  },
  {
   "cell_type": "markdown",
   "metadata": {},
   "source": [
    "---\n",
    "## Informe"
   ]
  },
  {
   "cell_type": "markdown",
   "metadata": {},
   "source": [
    "Analice los resultados obtenidos con el programa y escriba sus conclusiones [aquí](#conclusiones). Las siguientes preguntas le ayudarán a analizar el caso, sin embargo, hay muchos otros puntos sobre los que puede llegar a concluir.\n",
    "\n",
    "**Preguntas guía**\n",
    "- ¿Todos los proyectos con una consecuencia de no realizarlo muy alta se pueden realizar este año?\n",
    "- ¿El gerente de calidad debería pedir una extensión extraordinaria de presupuesto?\n",
    "- ¿Cuales son los proyectos que deben quedar para el próximo año?\n",
    "- ¿Aconsejaría replantear el alcance de alguno de los proyectos?"
   ]
  },
  {
   "cell_type": "markdown",
   "metadata": {},
   "source": [
    "## Conclusiones <a id='conclusiones'></a>\n",
    "*Escriba aquí las conclusiones del análisis basado en los resultados obtenidos* "
   ]
  },
  {
   "cell_type": "markdown",
   "metadata": {},
   "source": [
    "## Programa: AHP <a id=\"prog\"></a>"
   ]
  },
  {
   "cell_type": "markdown",
   "metadata": {},
   "source": [
    "#### **Instrucciones**\n",
    "\n",
    "1. Lea el [Análisis del problema](../../Programa/Analisis.ipynb)\n",
    "2. Llenar la [plantilla](../../Plantilla/Plantilla_AHP.ipynb) del programa.\n",
    "3. Ejecutar el programa con la siguiente celda."
   ]
  },
  {
   "cell_type": "code",
   "execution_count": 1,
   "metadata": {},
   "outputs": [],
   "source": [
    "def p1_MR():\n",
    "    try:\n",
    "        %matplotlib inline\n",
    "        import os\n",
    "\n",
    "        os.chdir(\"../../Programa\")\n",
    "        from AHP import main\n",
    "        os.chdir(\"../Practicas/Practica_1\")\n",
    "\n",
    "        return main(\"p1\")\n",
    "\n",
    "    except(FileNotFoundError):\n",
    "        return print(\"No se encuentra el archivo Proyectos.txt\")\n",
    "    except(Exception):\n",
    "        return print(\"El programa no se ha podido ejecutar correctamente\")\n",
    "    \n",
    "p1_MR()"
   ]
  },
  {
   "cell_type": "markdown",
   "metadata": {},
   "source": [
    "---\n",
    "| [**Home**](../../AHP.ipynb \"Ir a la página principal del algoritmo\")| - |[**Prácticas**](../Practicas_AHP.ipynb)| - | [**Plantilla**](../../Plantilla/Plantilla_AHP.ipynb \"Ir a la página de la plantilla\")|\n",
    "| :--------: | :-------: | :--------: | :--------: | :--------: |"
   ]
  }
 ],
 "metadata": {
  "kernelspec": {
   "display_name": "Python 3",
   "language": "python",
   "name": "python3"
  },
  "language_info": {
   "codemirror_mode": {
    "name": "ipython",
    "version": 3
   },
   "file_extension": ".py",
   "mimetype": "text/x-python",
   "name": "python",
   "nbconvert_exporter": "python",
   "pygments_lexer": "ipython3",
   "version": "3.7.4"
  }
 },
 "nbformat": 4,
 "nbformat_minor": 4
}
