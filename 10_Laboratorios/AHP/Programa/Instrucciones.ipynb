{
 "cells": [
  {
   "cell_type": "markdown",
   "metadata": {},
   "source": [
    "# **Instrucciones - AHP** <a id='instrucciones'></a>"
   ]
  },
  {
   "cell_type": "markdown",
   "metadata": {},
   "source": [
    "1. Asegúrese de tener en la misma ubicación del programa o del notebook:\n",
    "    - Archivo de entradas: Un archivo de texto con las entradas, tome como guía la estructura de [Ej_AHP.txt](../Ejemplo/Ej_AHP.txt \"Ver archivo de entradas\").\n",
    "    - Archivo de matrices: El archivo de texto con las matrices de comparación, tome como guía la estructura de [Ej_AHP_CC.txt](../Ejemplo/Ej_AHP_CC.txt \"Ver archivo de datos\"), [Ej_AHP_C1.txt](../Ejemplo/Ej_AHP_C1.txt \"Ver archivo de datos\"), [Ej_AHP_C2.txt](../Ejemplo/Ej_AHP_C2.txt \"Ver archivo de datos\"), [Ej_AHP_C3.txt](../Ejemplo/Ej_AHP_C3.txt \"Ver archivo de datos\") o [Ej_AHP_C4.txt](../Ejemplo/Ej_AHP_C4.txt \"Ver archivo de datos\")   \n",
    "3. Si ya existe una carpeta \"Resultados\" y desea conservarla, cámbiele el nombre o cámbiela de ubicación para no perder su contenido.\n",
    "4. Abra el programa AHP.py\n",
    "5. Escriba el nombre del archivo con las entradas.\n",
    "6. Una vez el programa se haya cerrado, los resultados estarán guardados en la carpeta \"Resultados\" en la misma ubicación del programa o del notebook.\n",
    "\n",
    "### **Evitar errores:**\n",
    "\n",
    "Para que el programa no presente errores al ejecutarse tenga en cuenta:\n",
    "\n",
    "#### 1. Archivo de entradas \n",
    "\n",
    "- Debe ser un archivo en de texto. (.txt)\n",
    "- Debe estar ubicado en la misma ruta (carpeta) del programa o del notebook.\n",
    "- El archivo de entradas debe tener tres líneas:\n",
    "    1. Rótulo \"Criterios:\" y los nombres de los criterios separados con punto y coma ( ; ) **sin espacios**, tenga en cuenta que tampoco debe haber ningún espacio entre \"Criterios:\" y el nombre del primer criterio.\n",
    "    2. Rótulo \"Alternativas:\" y los nombres de las alternativas separadas con punto y coma ( ; ) **sin espacios**, tenga en cuenta que tampoco debe haber ningún espacio entre \"Alternativas:\" y el nombre de la primera alternativa.\n",
    "    3. Rótulo \"Alternativas:\" y los nombres de los archivos de las matrices de comparación separados con punto y coma ( ; ) **sin espacios**, tenga en cuenta que tampoco debe haber ningún espacio entre \"Archivos:\" y el nombre del primer archivo, además que todos deben tener la extención .txt. \n",
    "    \n",
    "- La lista de los archivos de las matrices simpre debe empezar con la matriz de comparación de criterios.\n",
    "- El orden de los archivos de las matrices de comparación de alternativas por criterios deben corresponder con el orden de la lista de criterios de la línea uno.\n",
    "- No debe haber saltos de línea intermedios ni al final del documento, es decir, la última línea debe ser la lista de archivos.\n",
    "\n",
    "**Por ejemplo:**  \n",
    "Criterios:\"Altura\";\"Edad\"; \"Peso\"      \n",
    "Alternativas:\"Travis\";\"Colette\";\"Soleil\"      \n",
    "Archivos:M_Criterios.txt;MA_Altura.txt;MA_Edad.txt;MA_Peso.txt      \n",
    "\n",
    "#### 2. Archivo de matrices:\n",
    "\n",
    "- Debe ser un archivo en de texto. (.txt)\n",
    "- Debe estar ubicado en la misma ruta (carpeta) del programa o del notebook.\n",
    "- Los datos deben estar separos con tabulaciones.\n",
    "- No debe tener rótulos. (La primera línea debe ser la primera fila de la matriz).\n",
    "- Los decimales deben ser indicados con punto \".\".\n",
    "- No deben existir filas vacías, ni saltos de línea al final (la última fila debe tener la última fila de la matriz).\n",
    "\n",
    "#### 3. Resultados.\n",
    "- En la ruta del programa no debe existir una carpeta llamada 'Resultados' antes de ejecutarlo, si existe los archivos que contengan pueden ser reemplazados."
   ]
  },
  {
   "cell_type": "markdown",
   "metadata": {},
   "source": [
    "---\n",
    "| [**Home**](../AHP.ipynb \"Ir a la página principal del algoritmo\")|\n",
    "| :--------: |"
   ]
  }
 ],
 "metadata": {
  "kernelspec": {
   "display_name": "Python 3",
   "language": "python",
   "name": "python3"
  },
  "language_info": {
   "codemirror_mode": {
    "name": "ipython",
    "version": 3
   },
   "file_extension": ".py",
   "mimetype": "text/x-python",
   "name": "python",
   "nbconvert_exporter": "python",
   "pygments_lexer": "ipython3",
   "version": "3.7.4"
  }
 },
 "nbformat": 4,
 "nbformat_minor": 4
}
