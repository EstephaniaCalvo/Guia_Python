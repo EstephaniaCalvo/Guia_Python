{
 "cells": [
  {
   "cell_type": "markdown",
   "metadata": {},
   "source": [
    "# **Análisis - AHP**\n",
    "\n",
    "- ### Objetivo\n",
    "Hacer un programa que al ingresar un archivo con los criterios, las alternativas, y los nombres de los archivos que contiene cada matriz de comparación evalue la consistencia de cada matriz. Si es consistente, devolver la lista de alternativas ordenadas de mejor a peor en un archivo.xlsx. En caso de no ser consistente indique cual o cuales de las matrices no cumplen.\n",
    "\n",
    "**Notas:** \n",
    "- En caso de que hayan dos o mas alternativas con el mismo peso, ordenar alfabeticamente.\n",
    "\n",
    "- ### Entradas\n",
    "    **0.** [Entradas:](../Ejemplo/Ej_AHP.txt \"Ver archivo del ejemplo\") Archivo de texto.txt con la lista de criterios, alternativas y los archivos .txt que contienen los matrices de comparación.        \n",
    "    **1. Lista de criterios:** Lista de criterios separados con punto y coma ( ; ). (Ver [Ej_AHP.txt](../Ejemplo/Ej_AHP_CC.txt \"Ver archivo de ejemplo\") del ejemplo).   \n",
    "    **2. Lista de alternativas:** Lista de alternativas separados con punto y coma ( ; ). (Ver [Ej_AHP.txt](../Ejemplo/Ej_AHP_CC.txt \"Ver archivo de ejemplo\") del ejemplo).     \n",
    "    **3. Matriz de comparación:** Archivos de texto.txt, con la matriz de comparación ya sea de criterios o de alternativas por criterios. (Ver [Ej_AHP_CC](../Ejemplo/Ej_AHP_CC.txt \"Ver archivo de ejemplo\"), [Ej_AHP_C1](../Ejemplo/Ej_AHP_C1.txt \"Ver archivo de ejemplo\"),[Ej_AHP_C2](../Ejemplo/Ej_AHP_C2.txt \"Ver archivo de ejemplo\"), [Ej_AHP_C3](../Ejemplo/Ej_AHP_C3.txt \"Ver archivo de ejemplo\") y [Ej_AHP_C4](../Ejemplo/Ej_AHP_C4.txt \"Ver archivo de ejemplo\") del ejemplo)       \n",
    "\n",
    "- ### Salidas\n",
    "    **0. Carpeta Resultados:** Carpeta en la misma ubicación del programa llamada \"Resultados\" para almacenar los resultados del programa.   \n",
    "    \n",
    "    **1. Resultados.xlsx:** Archivos de excel con la evaluación de consistencia de cada matriz y con la lista de alternativas ordenada de mejor a peor.\n",
    "    \n",
    "- ### Algoritmo\n",
    "    0. Pedir y leer archivo de entradas.   \n",
    "    1. Leer y almacenar las matrices.    \n",
    "    2. Calcular el vector de pesos para cada matriz.\n",
    "    3. Calcular la razón de cosisntencia CR para cada matriz.   \n",
    "    4. Si todas las matrices son consitentes:     \n",
    "       Calcular el vector resultado.     \n",
    "    5. Crear y guardar el archivo.xlsx con los resultados."
   ]
  },
  {
   "cell_type": "markdown",
   "metadata": {},
   "source": [
    "---\n",
    "| [**Home**](../AHP.ipynb \"Ir a la página principal del algoritmo\")|\n",
    "| :--------: |"
   ]
  }
 ],
 "metadata": {
  "kernelspec": {
   "display_name": "Python 3",
   "language": "python",
   "name": "python3"
  },
  "language_info": {
   "codemirror_mode": {
    "name": "ipython",
    "version": 3
   },
   "file_extension": ".py",
   "mimetype": "text/x-python",
   "name": "python",
   "nbconvert_exporter": "python",
   "pygments_lexer": "ipython3",
   "version": "3.7.4"
  }
 },
 "nbformat": 4,
 "nbformat_minor": 4
}
