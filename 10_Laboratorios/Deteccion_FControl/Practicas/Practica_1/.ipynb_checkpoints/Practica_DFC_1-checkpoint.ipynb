{
 "cells": [
  {
   "cell_type": "markdown",
   "metadata": {},
   "source": [
    "![Fig3_Encabezado.png](../../../../Fig3_Encabezado.png)\n",
    "\n",
    "---------------------"
   ]
  },
  {
   "cell_type": "markdown",
   "metadata": {},
   "source": [
    "# **Práctica 1:** Seguimiento peso de bolsa <a id='ejemplo'></a>\n",
    "\n",
    "En la planta C en el proceso de llenado se realiza el seguimiento al peso de la bolsa llena por medio de los gráficos de control (x̄- σ), el procedimiento de cada producto indica cual es el tamaño de muestra que se debe tomar y la frecuencia.  \n",
    "\n",
    "En la línea 3A se está realizando el lote JAB1620 del producto WP4692, el cual debe ser muestreado cada 20 minutos con un tamaño de muestra 4. En el archivo [JAB1620_P.txt](JAB1620_P.txt), se encuentra el [archivo de los datos](MP_JAB1620.txt) de las muestras, los datos de los gráficos de control y los datos de la muestra acabada de tomar. \n",
    "\n",
    "En el informe de producción se indicó que La tripulación de esta línea cuenta con dos operarios en proceso de entramiento, en el turno anterior se hizo cambio de valvulas (que regulan el flujo de la solución) en las boquillas 1 y 3 y se está utilizando una balanza de backup debido a la calibración rutaria de la balanza establecida para la línea.\n",
    "\n",
    "Para interpretar las secuencias y estratificaciones de los gráficos de control se utiliza el programa [Deteccion_FControl](#prog)."
   ]
  },
  {
   "cell_type": "markdown",
   "metadata": {},
   "source": [
    "---\n",
    "## Informe"
   ]
  },
  {
   "cell_type": "markdown",
   "metadata": {},
   "source": [
    "Analice los resultados obtenidos con el programa y escriba sus conclusiones [aquí](#conclusiones). Las siguientes preguntas le ayudarán a analizar el caso, sin embargo, hay muchos otros puntos sobre los que puede llegar a concluir.\n",
    "\n",
    "**Preguntas guía**\n",
    "- ¿El proceso está bajo control?\n",
    "- ¿Si no lo está, que tipo de caso presenta?\n",
    "    - ¿Puede haber una causa asignable?"
   ]
  },
  {
   "cell_type": "markdown",
   "metadata": {},
   "source": [
    "## Conclusiones <a id='conclusiones'></a>\n",
    "*Escriba aquí las conclusiones del análisis basado en los resultados obtenidos* "
   ]
  },
  {
   "cell_type": "markdown",
   "metadata": {},
   "source": [
    "## Programa: Detección Proceso Fuera de Control<a id=\"prog\"></a>"
   ]
  },
  {
   "cell_type": "markdown",
   "metadata": {},
   "source": [
    "#### **Instrucciones**\n",
    "\n",
    "1. Lea el [Análisis del problema](../../Programa/Analisis.ipynb)\n",
    "2. Llenar la [plantilla](../../Plantilla/Plantilla_DFC.ipynb) del programa.\n",
    "3. Ejecutar el programa con la siguiente celda.\n",
    "\n",
    "###### **Nota:** El siguiente bloque tiene un código para escoger un archivo aleatoriamente del conjundo de casos fura de control que evalúa el programa. Por tal motivo no debe modificarlo."
   ]
  },
  {
   "cell_type": "code",
   "execution_count": null,
   "metadata": {},
   "outputs": [],
   "source": [
    "%matplotlib inline\n",
    "def p1_DFC():\n",
    "    try:\n",
    "        import os\n",
    "        import random\n",
    "\n",
    "        os.chdir(\"../../Programa\")\n",
    "        from Deteccion_FControl import main\n",
    "        os.chdir(\"../Practicas/Practica_1\")\n",
    "        \n",
    "        l_casos=['BC', 'EA', 'EB', 'EC1', 'EC2', 'PF', 'SI1', 'SI2', 'SII1', 'SII2', 'SIII1', 'SIV', 'SV']\n",
    "        caso=random.choice(l_casos)\n",
    "\n",
    "        file_e=open(\"Casos/\"+caso+\".txt\"); l_e=[i for i in file_e]; file_e.close()\n",
    "        l_e[0]='Muestras_Anteriores:MP_JAB1620.txt\\n'\n",
    "        file=open(\"JAB1620_P.txt\",\"w\")\n",
    "        for j in l_e:\n",
    "            file.write(j)\n",
    "        file.close()\n",
    "\n",
    "        file_m=open(\"Casos/\"+caso+\"_DH.txt\"); l_m=[i for i in file_m]; file_m.close()\n",
    "        file=open(\"MP_JAB1620.txt\",\"w\")\n",
    "        for j in l_m:\n",
    "            file.write(j)\n",
    "        file.close()\n",
    "        \n",
    "        main(\"JAB1620_P.txt\")\n",
    "\n",
    "    except(FileNotFoundError):\n",
    "        return print(\"No se encuentra el archivo\",archivo)\n",
    "    except(Exception):\n",
    "        return print(\"El programa no se ha podido ejecutar correctamente\")\n",
    "    \n",
    "p1_DFC()"
   ]
  },
  {
   "cell_type": "markdown",
   "metadata": {},
   "source": [
    "---\n",
    "| [**Home**](../../Deteccion_FControl.ipynb \"Ir a la página principal del algoritmo\")| - |[**Prácticas**](../Practicas_DFC.ipynb)| - | [**Plantilla**](../../Plantilla/Plantilla_DFC.ipynb \"Ir a la página de la plantilla\")|\n",
    "| :--------: | :-------: | :--------: | :--------: | :--------: |"
   ]
  }
 ],
 "metadata": {
  "kernelspec": {
   "display_name": "Python 3",
   "language": "python",
   "name": "python3"
  },
  "language_info": {
   "codemirror_mode": {
    "name": "ipython",
    "version": 3
   },
   "file_extension": ".py",
   "mimetype": "text/x-python",
   "name": "python",
   "nbconvert_exporter": "python",
   "pygments_lexer": "ipython3",
   "version": "3.7.4"
  }
 },
 "nbformat": 4,
 "nbformat_minor": 4
}
