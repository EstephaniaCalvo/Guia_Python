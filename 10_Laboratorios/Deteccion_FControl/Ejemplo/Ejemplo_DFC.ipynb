{
 "cells": [
  {
   "cell_type": "markdown",
   "metadata": {},
   "source": [
    "## Ejemplo - Detección Proceso Fuera de Control  (x̄- σ) <a id=\"ejemplo\"></a>"
   ]
  },
  {
   "cell_type": "markdown",
   "metadata": {},
   "source": [
    "Suponga que con los siguientes gráficos de control se realiza el seguiemiento de una variable de un producto al salir de la línea, donde se muestrea cinco productos cada media hora.\n",
    "\n",
    "El archivo [Ej_DFC.txt](Ej_DFC.txt) contine el nombre del [archivo de datos](Ej_DH.txt) con las últimas 40 muestras, los límites y líneas de los gráficos de control de (x̄- σ) y los datos de una muestra recien tomada.\n",
    "\n",
    "**Los límites y líneas son:**\n",
    "\n",
    "- Límite de control inferior **(LCIx)** =14.60      \n",
    "- Línea inferior a dos sigmas de la línea central **(LCIx_2s)** =15.19      \n",
    "- Línea inferior a un sigma de la línea central **(LCIx_1s)** =15.78      \n",
    "- Línea centra **(LCx)** =16.37      \n",
    "- Línea superior a dos sigmas de la línea central **(LCSx_2s)** =17.56      \n",
    "- Línea superior a un sigma de la línea central **(LCSx_1s)** =16.96      \n",
    "- Límite de control superior **(LCSx)** =18.14      \n",
    "\n",
    "**Límites y líneas de σ:**\n",
    "\n",
    "- Límite de control inferior **(LCIs)** =0.0    \n",
    "- Línea inferior a dos sigmas de la línea central **(LCIs_2s)** =0.34    \n",
    "- Línea inferior a un sigma de la línea central **(LCIs_1s)** =0.79    \n",
    "- Línea central **(LCs)** =1.24    \n",
    "- Línea superior a dos sigmas de la línea central **(LCSs_2s)** =2.14    \n",
    "- Línea superior a un sigma de la línea central **(LCSs_1s)** =1.69    \n",
    "- Límite de control superior **(LCSs)** =2.59   \n",
    "\n",
    "##### **Nota:** La medida del peso es en Kg.\n",
    "\n",
    "![Ej_GControl.png](Ej_GControl.png)."
   ]
  },
  {
   "cell_type": "markdown",
   "metadata": {},
   "source": [
    "- #### **Solución** \n",
    "\n",
    "Los pasos para interpretar los gráficos y dectectar secuencias y estratificaciones automáticamente son: \n",
    " \n",
    "**1. Punto por fuera de los límites:** Verificar si el punto está adentro o fuera de los límites de control: \n",
    "\n",
    "**2. Estratificación tipo C:** Verificar si los dos últimos puntos están a más de dos desviaciones típicas de la línea central.\n",
    "\n",
    "**3. Secuencia tipo I:** Si los últimos 8 puntos están entre (LCI y LC) o entre (LC y LCS).\n",
    "\n",
    "**4. Estratificación tipo B:** Si los últimos 8 puntos están entre (LCI_2s y LCI_1s) o (LCS_1s y LCS_2s)\n",
    "\n",
    "**5. Secuencia tipo II:** Si de los últimos 11 puntos 10 están todos entre (LCI y LC) o entre (LC y LCS).\n",
    "\n",
    "**6. Secuencia tipo III:** Si de los últimos 14 puntos 12 están todos entre (LCI y LC) o entre (LC y LCS).\n",
    "\n",
    "**7. Estratificación tipo A:** Si los últimos 15 puntos están entre (LCI_1s y LCS_1s) \n",
    "\n",
    "**8. Secuencia tipo IV:** Si de los últimos 17 puntos 14 están todos entre (LCI y LC) o entre (LC y LCS).\n",
    "\n",
    "**9. Secuencia tipo V:** Si de los últimos 20 puntos 16 están todos entre (LCI y LC) o entre (LC y LCS)."
   ]
  },
  {
   "cell_type": "markdown",
   "metadata": {},
   "source": [
    "#### Resultados <a id=\"resultados\"></a>\n",
    "\n",
    "1. **[Gráfico de control](Resultados/gc_Ej_DFC.png):** Gráfico con los puntos dibujados.\n",
    "2. **[Archivo de datos actualizado](Resultados/act_Ej_DH.txt)** Archivo de datos de las muestras anteriores actualizado con la muestra recien tomada."
   ]
  },
  {
   "cell_type": "markdown",
   "metadata": {},
   "source": [
    "---\n",
    "| [**Home**](../Deteccion_FControl.ipynb \"Ir a la página principal del algoritmo\")| - | [**Prácticas**](../Practicas/Practicas_DFC.ipynb \"Ir a la página de la prácticas\")|\n",
    "| :--------: | :-------: | :--------: |"
   ]
  }
 ],
 "metadata": {
  "kernelspec": {
   "display_name": "Python 3",
   "language": "python",
   "name": "python3"
  },
  "language_info": {
   "codemirror_mode": {
    "name": "ipython",
    "version": 3
   },
   "file_extension": ".py",
   "mimetype": "text/x-python",
   "name": "python",
   "nbconvert_exporter": "python",
   "pygments_lexer": "ipython3",
   "version": "3.7.4"
  }
 },
 "nbformat": 4,
 "nbformat_minor": 4
}
