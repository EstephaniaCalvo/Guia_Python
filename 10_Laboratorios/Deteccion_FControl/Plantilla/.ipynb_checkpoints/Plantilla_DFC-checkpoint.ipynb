{
 "cells": [
  {
   "cell_type": "markdown",
   "metadata": {},
   "source": [
    "![Fig3_Encabezado.png](../../../Fig3_Encabezado.png)\n",
    "\n",
    "---------------------"
   ]
  },
  {
   "cell_type": "markdown",
   "metadata": {},
   "source": [
    "## Plantilla - Gráficos de Control<a id=\"plantilla\"></a>"
   ]
  },
  {
   "cell_type": "markdown",
   "metadata": {},
   "source": [
    "### **-2. Importar módulos**"
   ]
  },
  {
   "cell_type": "code",
   "execution_count": null,
   "metadata": {},
   "outputs": [],
   "source": [
    "# Importe aquí todos los módulos que necesite"
   ]
  },
  {
   "cell_type": "markdown",
   "metadata": {},
   "source": [
    "### **-1. Funciones auxiliares**"
   ]
  },
  {
   "cell_type": "markdown",
   "metadata": {},
   "source": [
    "<a id='lectura_entradas'></a>\n",
    "#### a. Leer y almacenar archivo de entradas ([lectura_entradas](F_Auxiliares/_a_lectura_entradas.ipynb \"Ir a la plantilla de lectura_entradas\"))"
   ]
  },
  {
   "cell_type": "markdown",
   "metadata": {},
   "source": [
    "<a id='lectura_entradas'></a>\n",
    "#### b. Leer y almacenar datos ([lectura_datos](F_Auxiliares/_b_lectura_datos.ipynb \"Ir a la plantilla de lectura_datos\"))"
   ]
  },
  {
   "cell_type": "markdown",
   "metadata": {},
   "source": [
    "<a id='sucesoras'></a>\n",
    "#### c. Calcular variables estadísticas ([cal_variables](F_Auxiliares/_c_cal_variables.ipynb \"Ir a la plantilla de cal_variables\"))"
   ]
  },
  {
   "cell_type": "markdown",
   "metadata": {},
   "source": [
    "<a id='limites'></a>\n",
    "#### d. Buscar casos fuera de control ([f_control](F_Auxiliares/_d_f_control.ipynb \"Ir a la plantilla de f_control\"))"
   ]
  },
  {
   "cell_type": "markdown",
   "metadata": {},
   "source": [
    "<a id='resultados'></a>\n",
    "#### e. Actualizar archivo de datos. ([actualizar](F_Auxiliares/_e_actualizar.ipynb \"Ir a la plantilla de resultados\"))"
   ]
  },
  {
   "cell_type": "markdown",
   "metadata": {},
   "source": [
    "<a id='g_control'></a>\n",
    "#### f. Hacer el gráfico de control ([g_control](F_Auxiliares/_f_g_control.ipynb \"Ir a la plantilla de g_control\"))"
   ]
  },
  {
   "cell_type": "markdown",
   "metadata": {},
   "source": [
    "### **0. Programa principal** [Deteccion_FControl](../Programa/Deteccion_FControl.py)"
   ]
  },
  {
   "cell_type": "code",
   "execution_count": null,
   "metadata": {},
   "outputs": [],
   "source": [
    "%matplotlib inline\n",
    "\n",
    "# 0. Programa principal\n",
    "def main(ingreso=1):\n",
    "    \"\"\"\n",
    "    Al ingresar un archivo de texto que indique el nombre del archivo con las muestras \n",
    "    anteriores, los límites y líneas de los gráficos de control de (x̄- σ), y los datos \n",
    "    de la muestra actual, devuelva el gráfico de control con los puntos, y la \n",
    "    interpretación del gráfico.\n",
    "    \"\"\"\n",
    "\n",
    "    \"0. Pedir y leer archivo de datos\"\n",
    "    # Ingresar archivo de entrada.\n",
    "    \n",
    "    if ingreso==1:\n",
    "        a_entradas=input(\"Por favor ingrese el archivo que contiene las entradas, por ejemplo, 'Entradas.txt':\\n\")\n",
    "    elif ingreso==\"e\":\n",
    "        a_entradas=\"Ej_DFC.txt\"\n",
    "    else:\n",
    "        a_entradas=ingreso\n",
    "        \n",
    "    \"0. Leer archivo de entradas\"\n",
    "    \n",
    "        \n",
    "    \"1. Leer archivo de datos\"\n",
    "    \n",
    "    \n",
    "    \"2. Calcular variables.\"\n",
    "    \n",
    "\n",
    "    \"3. Buscar casos fuera de control\"\n",
    "\n",
    "    \n",
    "    \"4. Actualizar archivo de datos\"  \n",
    "\n",
    "    \n",
    "    \"5. Hacer el gráfico de control\"\n",
    "\n",
    "    \n",
    "if __name__=='__main__':\n",
    "    main()"
   ]
  },
  {
   "cell_type": "markdown",
   "metadata": {},
   "source": [
    "---\n",
    "| [**Home**](../Deteccion_FControl.ipynb \"Ir a la página principal del algoritmo\")| - | [**Prácticas**](../Practicas/Practicas_DFC.ipynb \"Ir a la página de las prácticas\")|\n",
    "| :--------: | :-------: | :--------: |"
   ]
  }
 ],
 "metadata": {
  "kernelspec": {
   "display_name": "Python 3",
   "language": "python",
   "name": "python3"
  },
  "language_info": {
   "codemirror_mode": {
    "name": "ipython",
    "version": 3
   },
   "file_extension": ".py",
   "mimetype": "text/x-python",
   "name": "python",
   "nbconvert_exporter": "python",
   "pygments_lexer": "ipython3",
   "version": "3.7.4"
  }
 },
 "nbformat": 4,
 "nbformat_minor": 4
}
