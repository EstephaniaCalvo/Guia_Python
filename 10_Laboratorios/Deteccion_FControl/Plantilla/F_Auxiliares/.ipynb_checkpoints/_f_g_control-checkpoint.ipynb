{
 "cells": [
  {
   "cell_type": "markdown",
   "metadata": {},
   "source": [
    "![Fig3_Encabezado.png](../../../../Fig3_Encabezado.png)\n",
    "\n",
    "---------------------"
   ]
  },
  {
   "cell_type": "markdown",
   "metadata": {},
   "source": [
    "## f. Hacer el gráfico de control (g_control)\n",
    "\n",
    "- #### **Objetivos :** \n",
    "    Mostrar, crear y guardar un grafico de control con las variables de las muestras tomadas. \n",
    "\n",
    "**Tenga en cuenta que:**\n",
    "- Los puntos que generen el caso fuera de control deben ser rojos y los que cumplan negros.\n",
    "- La interpretación del gráfico debe mostrase en el como nota al píe de página."
   ]
  },
  {
   "cell_type": "markdown",
   "metadata": {},
   "source": [
    "- #### **Entradas :** \n",
    "    **1. lim_lin:** Diccionario de los límites de control y las líneas de los gráficos de control.    \n",
    "    **2. l_x:** Lista de los promedios de las muestras.    \n",
    "    **3. l_s:** Lista de las desviaciones estadar de las muestras.   \n",
    "    **4. mensaje:** Mensaje con la interpretación de cada gráfico de control.     \n",
    "    **5. puntos_fc:** Lista de puntos que se identificaron fuera de control, para cada gráfico.    \n",
    "    **6. a_entradas:** Archivo con las entradas.    "
   ]
  },
  {
   "cell_type": "code",
   "execution_count": null,
   "metadata": {},
   "outputs": [],
   "source": [
    "# 1. Dicionario de límites y líneas\n",
    "lim_lin = {\"LCIx\":14.60, \"LCIx_2s\":15.19, \"LCIx_1s\":15.78, \"LCx\":16.37, \"LCSx_1s\":16.96, \"LCSx_2s\":17.55, \"LCSx\":18.14, \"LCIs\":0.0, \"LCIs_2s\":0.34, \"LCIs_1s\":0.79, \"LCs\":1.24, \"LCSs_1s\":1.69, \"LCSs_2s\":2.14, \"LCSs\":2.59}\n",
    "\n",
    "#2. Valores de x\n",
    "l_x = [17.62, 15.58, 16.48, 16.18, 17.7, 16.52, 16.419999999999998, 16.36, 17.14, 15.82, 16.78, 15.76, 17.78, 16.14, 15.879999999999999, 15.72, 16.38, 16.18, 16.4, 16.06, 16.66, 15.72, 15.74, 16.02, 17.08, 15.92, 16.4, 15.74, 15.42, 17.22, 15.41, 15.23, 17.02, 17.47, 17.19, 17.28]\n",
    "\n",
    "#3. Valores de y\n",
    "l_s = [1.1840608092492546, 1.188276062201036, 0.4969909455915676, 1.2049896265113655, 1.7734147850968198, 2.070507184242546, 0.8871302046486744, 0.9343446901438462, 1.3352902306240397, 1.2517987058628872, 1.415273825095342, 1.4096098751072932, 1.4638989036132246, 1.138859078200635, 1.492313639956427, 1.27, 1.37, 1.74, 1.32, 0.5263078946776314, 2.06, 2.34, 2.0, 0.5890670590009254, 1.28, 1.094217910554478, 2.4, 2.12, 2.41, 1.71, 1.130384048104052, 2.54, 1.89, 2.55, 1.95, 2.26]\n",
    "\n",
    "# 4. Lista de mensajes\n",
    "mensaje = ['Proceso fuera de control: Estratificación tipo B', 'Proceso fuera de control: Secuencia tipo V']\n",
    "\n",
    "# 5. lista de puntos fuera de control\n",
    "puntos_fc = [[15.42, 17.22, 15.41, 15.23, 17.02, 17.47, 17.19, 17.28], [1.37, 1.74, 1.32, 0.5263078946776314, 2.06, 2.34, 2.0, 0.5890670590009254, 1.28, 1.094217910554478, 2.4, 2.12, 2.41, 1.71, 1.130384048104052, 2.54, 1.89, 2.55, 1.95, 2.26]]\n",
    "# 6. archivo: Nombre del archivo de datos\n",
    "a_entradas='test_1.txt'"
   ]
  },
  {
   "cell_type": "markdown",
   "metadata": {},
   "source": [
    "- #### **Salidas :** \n",
    "\n",
    "**1. gc_archivo.png:** Imagen .png de los gráficos de control con los puntos dibujados y la interpretación de cada uno."
   ]
  },
  {
   "cell_type": "markdown",
   "metadata": {},
   "source": [
    "- #### **Código :** \n",
    "Complete la función para convertir las entradas en las salidas, ingrese al [material de apoyo](#material \"Ir al material de apoyo\") para ver los ejemplos que lo pueden guiar, una vez terminada ejecútela y compare sus resultados con el archivo\n",
    "[RP_gc_test_1.png](R_Pruebas/RP_gc_test_1.png), en la carpeta R_Pruebas. Si el resultado es correcto pase el código [aquí](../../Programa/Deteccion_FControl.py)"
   ]
  },
  {
   "cell_type": "code",
   "execution_count": null,
   "metadata": {},
   "outputs": [],
   "source": [
    "# Importar aquí los módulos necesarios\n",
    "\n",
    "# f. Hacer el gráfico de control\n",
    "def g_control (lim_x, lim_s, lineas_x, lineas_s, archivo):\n",
    "    # Escriba aquí el código:\n",
    "    \n",
    "    return None # No devolver nada"
   ]
  },
  {
   "cell_type": "markdown",
   "metadata": {},
   "source": [
    "## Material de Apoyo <a id='material'></a>"
   ]
  },
  {
   "cell_type": "markdown",
   "metadata": {},
   "source": [
    "- [Histograma](../../../../../8_Graficos/8_Graficos.ipynb#Min-eje_Histograma \"Ir al capitulo de Estructuras de datos\")"
   ]
  },
  {
   "cell_type": "markdown",
   "metadata": {},
   "source": [
    "---\n",
    "| [**Plantilla pirncipal**](../Plantilla_DFC.ipynb \"Volver a la plantilla del programa principal\")|\n",
    "| :--------: |"
   ]
  }
 ],
 "metadata": {
  "kernelspec": {
   "display_name": "Python 3",
   "language": "python",
   "name": "python3"
  },
  "language_info": {
   "codemirror_mode": {
    "name": "ipython",
    "version": 3
   },
   "file_extension": ".py",
   "mimetype": "text/x-python",
   "name": "python",
   "nbconvert_exporter": "python",
   "pygments_lexer": "ipython3",
   "version": "3.7.4"
  }
 },
 "nbformat": 4,
 "nbformat_minor": 4
}
