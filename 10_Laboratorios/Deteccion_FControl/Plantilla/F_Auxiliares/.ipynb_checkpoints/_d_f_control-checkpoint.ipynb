{
 "cells": [
  {
   "cell_type": "markdown",
   "metadata": {},
   "source": [
    "![Fig3_Encabezado.png](../../../../Fig3_Encabezado.png)\n",
    "\n",
    "---------------------"
   ]
  },
  {
   "cell_type": "markdown",
   "metadata": {},
   "source": [
    "## d. Buscar casos fuera de control (f_control)\n",
    "\n",
    "- #### **Objetivo :**\n",
    "    Identificar puntos fuera de los límites, estratificaciones y secuencias.\n",
    "    \n",
    "- #### **Entradas :**    \n",
    "    1. l_x: Lista de los promedios de las muestras.    \n",
    "    2. l_s: Lista de las desviaciones estadar de las muestras.    \n",
    "    3. lim_lin: Diccionario de los límites de control y las líneas de los gráficos de control.    \n",
    "    \n",
    "~~~python\n",
    "l_x = [17.62, 15.58, 16.48, 16.18, 17.7, 16.52, 16.419999999999998, 16.36, 17.14, 15.82, 16.78, 15.76, 17.78, 16.14, 15.879999999999999, 15.72, 16.38, 16.18, 16.4, 16.06, 16.66, 15.72, 15.74, 16.02, 17.08, 15.92, 16.4, 15.74, 15.42, 17.22, 15.41, 15.23, 17.02, 17.47, 17.19, 17.28]\n",
    "\n",
    "l_s = [1.1840608092492546, 1.188276062201036, 0.4969909455915676, 1.2049896265113655, 1.7734147850968198, 2.070507184242546, 0.8871302046486744, 0.9343446901438462, 1.3352902306240397, 1.2517987058628872, 1.415273825095342, 1.4096098751072932, 1.4638989036132246, 1.138859078200635, 1.492313639956427, 1.27, 1.37, 1.74, 1.32, 0.5263078946776314, 2.06, 2.34, 2.0, 0.5890670590009254, 1.28, 1.094217910554478, 2.4, 2.12, 2.41, 1.71, 1.130384048104052, 2.54, 1.89, 2.55, 1.95, 2.26]\n",
    "\n",
    "lim_lin = {\"LCIx\":14.60, \"LCIx_2s\":15.19, \"LCIx_1s\":15.78, \"LCx\":16.37, \"LCSx_1s\":16.96, \"LCSx_2s\":17.55, \"LCSx\":18.14, \"LCIs\":0.0, \"LCIs_2s\":0.34, \"LCIs_1s\":0.79, \"LCs\":1.24, \"LCSs_1s\":1.69, \"LCSs_2s\":2.14, \"LCSs\":2.59}\n",
    "~~~\n",
    "\n",
    "- #### **Salidas :** \n",
    "    **1. mensaje:** Mensaje con la interpretación de cada gráfico de control\n",
    "    \n",
    "    **2. puntos_fc:** Lista de puntos que se identificaron fuera de control, para cada gráfico.\n",
    "    \n",
    "~~~python\n",
    "mensaje = ['Proceso fuera de control: Estratificación tipo B', 'Proceso fuera de control: Secuencia tipo V']\n",
    "\n",
    "puntos_fc = [[15.42, 17.22, 15.41, 15.23, 17.02, 17.47, 17.19, 17.28], [1.37, 1.74, 1.32, 0.5263078946776314, 2.06, 2.34, 2.0, 0.5890670590009254, 1.28, 1.094217910554478, 2.4, 2.12, 2.41, 1.71, 1.130384048104052, 2.54, 1.89, 2.55, 1.95, 2.26]]\n",
    "~~~"
   ]
  },
  {
   "cell_type": "markdown",
   "metadata": {},
   "source": [
    "- #### **Código :** \n",
    "Complete la función para convertir las entradas en las salidas, ingrese al [material de apoyo](#material \"Ir al material de apoyo\") para ver los ejemplos que lo pueden guiar, una vez terminada ejecútela y pruébela, aquí encontrará los datos para cada caso [casos_FC.txt](casos_FC.txt) si es correcta pásela [aquí](../../Programa/Deteccion_FControl.py)."
   ]
  },
  {
   "cell_type": "code",
   "execution_count": null,
   "metadata": {},
   "outputs": [],
   "source": [
    "# Importar aquí los módulos necesarios\n",
    "\n",
    "# d. Buscar casos fuera de control\n",
    "def f_controles (l_x, l_s, lim_lin):\n",
    "    \"\"\"\n",
    "    Identificar puntos fuera de los límites, estratificaciones y secuencias,\n",
    "    devolviendo un mensaje con la interpretación y con los puntos fuera de control.\n",
    "    \"\"\"\n",
    "    \n",
    "    # Escriba aquí el código:\n",
    "    \n",
    "    return (mensaje, puntos_fc)"
   ]
  },
  {
   "cell_type": "markdown",
   "metadata": {},
   "source": [
    "## Material de Apoyo <a id='material'></a>"
   ]
  },
  {
   "cell_type": "markdown",
   "metadata": {},
   "source": [
    "- [Estructuras de decisión](../../../../3_Estructuras_Logicas/3_Estructuras_Logicas.ipynb#3_Estructuras_Logicas \"Ir al capítulo de Estructuras de decisión\")\n",
    "\n",
    "- [Manejo de índices](../../../../4_Bucles_e_Iterables/4_Bucles_e_Iterables.ipynb#Min-eje_Secciones \"Ir al Mini_Ejemplo Secciones del capítulo de Bucles e Iterables\")\n",
    "\n",
    "- [Manejo de listas](../../../../5_Estructura_de_Datos/5_Estructura_de_Datos.ipynb#Listas \"Ir a la sección Métodos de las listas del capítulo de Estructuras de datos\")"
   ]
  },
  {
   "cell_type": "markdown",
   "metadata": {},
   "source": [
    "---\n",
    "| [**Plantilla pirncipal**](../Plantilla_DFC.ipynb \"Volver a la plantilla del programa principal\")|\n",
    "| :--------: |"
   ]
  }
 ],
 "metadata": {
  "kernelspec": {
   "display_name": "Python 3",
   "language": "python",
   "name": "python3"
  },
  "language_info": {
   "codemirror_mode": {
    "name": "ipython",
    "version": 3
   },
   "file_extension": ".py",
   "mimetype": "text/x-python",
   "name": "python",
   "nbconvert_exporter": "python",
   "pygments_lexer": "ipython3",
   "version": "3.7.4"
  }
 },
 "nbformat": 4,
 "nbformat_minor": 4
}
