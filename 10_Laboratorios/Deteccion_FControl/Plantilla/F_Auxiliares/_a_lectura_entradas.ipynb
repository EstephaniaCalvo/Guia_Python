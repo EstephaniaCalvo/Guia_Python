{
 "cells": [
  {
   "cell_type": "markdown",
   "metadata": {},
   "source": [
    "![Fig3_Encabezado.png](../../../../Fig3_Encabezado.png)\n",
    "\n",
    "---------------------"
   ]
  },
  {
   "cell_type": "markdown",
   "metadata": {},
   "source": [
    "## a. Leer y almacenar archivo de entradas (lectura_entradas).\n",
    "\n",
    "- #### **Objetivo :** \n",
    "    Almacenar el contenido del archivo [archivo](test_1.txt \"Ver archivo de entradas\") de entradas, actualizar el archivo de datos con la muestra actual y devolver el nombre del archivo de datos, el diccionario de límites y lineas y la lista de datos de la muestra actual en una tupla.\n",
    "\n",
    "- #### **Entradas :** \n",
    "~~~python\n",
    "a_entradas='test_1.txt'\n",
    "~~~\n",
    "\n",
    "- #### **Salidas :** \n",
    "    **1. a_datos:** Nombre del archivo con los datos de las muestras anteriores.       \n",
    "    **2. lim_lin:** Diccionario de los límites de control y las líneas de los gráficos de control. [LCIx̄, LCIx̄_2σ, LCIx̄_1σ, LCx̄, LCSx̄_1σ, LCSx̄_2σ, LCSx̄ , LCIσ, LCIσ_2σ, LCIσ_1σ, LCσ, LCSσ_1σ, LCSσ_2σ, LCSσ]   \n",
    "    **3. m_acutual:** Lista de los datos de la muestra actual.    \n",
    "    \n",
    "~~~python\n",
    "a_datos = \"data_1.txt\"\n",
    "\n",
    "lim_lin = {\"LCIx\":14.60, \"LCIx_2s\":15.19, \"LCIx_1s\":15.78, \"LCx\":16.37, \"LCSx_1s\":16.96, \"LCSx_2s\":17.55, \"LCSx\":18.14, \"LCIs\":0.0, \"LCIs_2s\":0.34, \"LCIs_1s\":0.79, \"LCs\":1.24, \"LCSs_1s\":1.69, \"LCSs_2s\":2.14, \"LCSs\":2.59}\n",
    "\n",
    "m_actual= [12.5, 13.4, 15.8, 15.6, 15.1]\n",
    "~~~"
   ]
  },
  {
   "cell_type": "markdown",
   "metadata": {},
   "source": [
    "- #### **Código :** \n",
    "Complete la función para convertir las entradas en las salidas, ingrese al [material de apoyo](#material \"Ir al material de apoyo\") para ver los ejemplos que lo pueden guiar, una vez terminada ejecútela y pruébela, si es correcta pásela [aquí](../../Programa/Deteccion_FControl.py)."
   ]
  },
  {
   "cell_type": "code",
   "execution_count": null,
   "metadata": {},
   "outputs": [],
   "source": [
    "# Importar aquí los módulos necesarios\n",
    "\n",
    "## a. Leer y almacenar entradas\n",
    "def lectura_entradas (a_entradas):\n",
    "    \"\"\"\n",
    "    Almacenar el contenido del archivo archivo de entradas, actualizar el archivo de datos con la muestra actual y \n",
    "    devolver el nombre del archivo de datos, el diccionario de límites y lineas y la lista de datos de la muestra \n",
    "    actual en una tupla.\n",
    "    \"\"\"\n",
    "    \n",
    "    # Escriba aquí el código:\n",
    "    \n",
    "    return (a_datos, lim_lin, m_actual)"
   ]
  },
  {
   "cell_type": "markdown",
   "metadata": {},
   "source": [
    "## Material de Apoyo <a id='material'></a>"
   ]
  },
  {
   "cell_type": "markdown",
   "metadata": {},
   "source": [
    "- [Lectura de bases de datos](../../../../7_Lectura_y_Escritura/7_Lectura_y_Escritura.ipynb#ME_BDatos \"Ir al Mini_Ejemplo Almacenar base de datos del capítulo de Lectura de archivos\")\n",
    "\n",
    "- [Manejo de índices](../../../../4_Bucles_e_Iterables/4_Bucles_e_Iterables.ipynb#Min-eje_Secciones \"Ir al Mini_Ejemplo Secciones del capítulo de Bucles e Iterables\")\n",
    "\n",
    "- [Manejo de diccionarios](../../../../5_Estructura_de_Datos/5_Estructura_de_Datos.ipynb#MDic \"Ir a la sección Diccionarios del capítulo de Estructuras de datos\")\n",
    "\n",
    "- [Manejo de listas y tuplas](../../../../5_Estructura_de_Datos/5_Estructura_de_Datos.ipynb#5_Estructura-de-Datos-Basicas \"Ir al capítulo de Estructuras de datos\")"
   ]
  },
  {
   "cell_type": "markdown",
   "metadata": {},
   "source": [
    "---\n",
    "| [**Plantilla pirncipal**](../Plantilla_DFC.ipynb \"Volver a la plantilla del programa principal\")|\n",
    "| :--------: |"
   ]
  }
 ],
 "metadata": {
  "kernelspec": {
   "display_name": "Python 3",
   "language": "python",
   "name": "python3"
  },
  "language_info": {
   "codemirror_mode": {
    "name": "ipython",
    "version": 3
   },
   "file_extension": ".py",
   "mimetype": "text/x-python",
   "name": "python",
   "nbconvert_exporter": "python",
   "pygments_lexer": "ipython3",
   "version": "3.7.4"
  }
 },
 "nbformat": 4,
 "nbformat_minor": 4
}
