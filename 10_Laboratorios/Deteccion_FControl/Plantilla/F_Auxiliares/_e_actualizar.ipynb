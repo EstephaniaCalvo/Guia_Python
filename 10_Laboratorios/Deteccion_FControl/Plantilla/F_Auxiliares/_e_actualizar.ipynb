{
 "cells": [
  {
   "cell_type": "markdown",
   "metadata": {},
   "source": [
    "![Fig3_Encabezado.png](../../../../Fig3_Encabezado.png)\n",
    "\n",
    "---------------------"
   ]
  },
  {
   "cell_type": "markdown",
   "metadata": {},
   "source": [
    "## e. Actualizar archivo de datos.txt\n",
    "\n",
    "- #### **Objetivos :** \n",
    "    1. Crear la carpeta Resultados    \n",
    "    2. Copiar el archivo de datos .txt y actualizarlo con la muestra actual.\n",
    "    3. Guardar archivo en la carpeta.\n",
    "    \n",
    "**Tenga en cuenta que:**\n",
    "\n",
    "- El archivo debe llamarse como el archivo de datos con el prefijo \"act_\"."
   ]
  },
  {
   "cell_type": "markdown",
   "metadata": {},
   "source": [
    "- #### **Entradas :** \n",
    "    **1. l_muestras:** Lista con las listas de los datos de las muestras.     \n",
    "    **2. a_datos:** Nombre del archivo con los datos de las muestras anteriores.  \n",
    "    \n",
    "~~~python\n",
    "l_muestras = [[15.6, 18.5, 18.4, 18.0, 17.6], [14.2, 15.6, 16.6, 14.6, 16.9], [16.5, 16.8, 16.4, 15.7, 17.0], [14.8, 16.6, 15.6, 15.9, 18.0], [17.3, 19.6, 19.5, 15.8, 16.3], [17.8, 19.4, 14.5, 16.1, 14.8], [16.4, 17.7, 15.3, 16.0, 16.7], [17.3, 16.4, 15.1, 17.2, 15.8], [18.0, 18.8, 17.3, 15.9, 15.7], [16.7, 17.0, 13.9, 16.2, 15.3], [16.9, 16.8, 16.7, 16.9, 16.6], [14.8, 14.8, 17.1, 17.5, 14.6], [19.7, 15.9, 17.2, 18.4, 17.7], [14.5, 14.9, 16.4, 18.1, 16.8], [15.2, 15.0, 17.7, 15.2, 16.3], [16.8, 14.3, 17.0, 16.6, 13.9], [15.7, 16.1, 16.4, 17.1, 16.6], [15.9, 16.0, 17.2, 16.1, 15.7], [14.8, 15.7, 16.1, 18.0, 17.4], [15.9, 16.2, 14.5, 16.5, 17.2], [18.3, 15.8, 18.8, 14.1, 16.3], [15.8, 16.0, 14.9, 15.5, 16.4], [14.9, 13.9, 18.2, 15.2, 16.5], [14.1, 15.6, 14.9, 19.2, 16.3], [15.2, 16.9, 19.7, 17.3, 16.3], [14.6, 16.3, 16.0, 16.8, 15.9], [15.1, 16.4, 16.1, 16.6, 17.8], [13.1, 15.6, 17.0, 14.6, 18.4], [16.4, 17.8, 16.5, 17.0, 15.6], [18.1, 16.4, 16.8, 15.1, 18.4], [16.5, 16.9, 17.7, 16.1, 17.3], [15.8, 15.5, 17.7, 15.5, 16.4], [18.0, 14.4, 14.4, 13.7, 17.1], [16.2, 14.9, 16.4, 17.8, 18.7], [18.5, 17.0, 18.2, 16.8, 15.3], [18.2, 15.4, 18.4, 15.3, 14.7], [18.1, 15.9, 15.3, 14.1, 17.6], [18.2, 14.4, 16.1, 15.6, 17.8], [12.5, 13.4, 15.8, 15.6, 15.2], [15.0, 14.6, 15.4, 14.3, 15.7], [12.5, 13.4, 15.8, 15.6, 15.1]]\n",
    "\n",
    "a_datos = \"data_1.txt\"\n",
    "~~~"
   ]
  },
  {
   "cell_type": "markdown",
   "metadata": {},
   "source": [
    "- #### **Salidas :** \n",
    "\n",
    "**1. act_Archivo.txt:** Archivo con los datos de las muestras actualizado."
   ]
  },
  {
   "cell_type": "markdown",
   "metadata": {},
   "source": [
    "- #### **Código :** \n",
    "Complete la función para convertir las entradas en las salidas e ingrese al [material de apoyo](#material \"Ir al material de apoyo\") para ver los ejemplos que lo pueden guiar. Una vez terminada ejecútela y compare sus resultados con el archivo RP_act_d1.txt ubicado en la carpeta R_Pruebas, si es correcta pásela [aquí](../../Programa/Deteccion_FControl.py)."
   ]
  },
  {
   "cell_type": "code",
   "execution_count": null,
   "metadata": {},
   "outputs": [],
   "source": [
    "# Importar aquí los módulos necesarios\n",
    "\n",
    "# e. Actulizar archivo de datos.txt\n",
    "def actualizar (l_muestras, a_datos):\n",
    "    \"\"\"\n",
    "    Actualizar y guardar el archivo de datos .txt con la muestra actual en la carpeta Resultados.\n",
    "    \"\"\"\n",
    "    # Escriba aquí el código:\n",
    "    \n",
    "    return None "
   ]
  },
  {
   "cell_type": "markdown",
   "metadata": {},
   "source": [
    "## Material de Apoyo <a id='material'></a>"
   ]
  },
  {
   "cell_type": "markdown",
   "metadata": {},
   "source": [
    "- [Crear carpetas](../../../../7_Lectura_y_Escritura/7_Lectura_y_Escritura.ipynb#Carpetas \"Ir a la sección Creación de carpetas de carpetas.\")\n",
    "\n",
    "- [Escribir Archivos.txt](../../../../7_Lectura_y_Escritura/7_Lectura_y_Escritura.ipynb#Escritura \"Ir a la subcapítulo Escritura del capítulo Lectura y Escritura.\")"
   ]
  },
  {
   "cell_type": "markdown",
   "metadata": {},
   "source": [
    "---\n",
    "| [**Plantilla principal**](../Plantilla_DFC.ipynb \"Volver a la plantilla del programa principal\")|\n",
    "| :--------: |"
   ]
  }
 ],
 "metadata": {
  "kernelspec": {
   "display_name": "Python 3",
   "language": "python",
   "name": "python3"
  },
  "language_info": {
   "codemirror_mode": {
    "name": "ipython",
    "version": 3
   },
   "file_extension": ".py",
   "mimetype": "text/x-python",
   "name": "python",
   "nbconvert_exporter": "python",
   "pygments_lexer": "ipython3",
   "version": "3.7.4"
  }
 },
 "nbformat": 4,
 "nbformat_minor": 4
}
