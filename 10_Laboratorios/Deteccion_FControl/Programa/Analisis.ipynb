{
 "cells": [
  {
   "cell_type": "markdown",
   "metadata": {},
   "source": [
    "# **Análisis - Detección Proceso Fuera de Control (x̄- σ)**\n",
    "\n",
    "- ### Objetivo\n",
    "Hacer un programa que al ingresar un archivo de texto que indique el nombre del archivo con las muestras anteriores, los límites y líneas de los gráficos de control de (x̄- σ), y los datos de la muestra actual, devuelva el gráfico de control con los puntos, y la interpretación del gráfico.\n",
    "\n",
    "**Notas:** \n",
    "- En caso de que el proceso esté fuera de control por secuencia o estratificación debe especificar el tipo.\n",
    "- También de debe reconocer puntos por fuera de los límites. \n",
    "- Los puntos que generen el caso fuera de control deben ser rojos y los que cumplan negros.\n",
    "- La interpretación del gráfico debe mostrase en el como nota al píe de página, si no se detectó ningun caso debe decir que no se identificaron secuencias y estratificaciones.\n",
    "\n",
    "- ### Entradas\n",
    "\n",
    "    **0.** [Entradas:](../Ejemplo/Ej_DFC.txt \"Ver archivo del ejemplo\") Archivo de texto.txt con el nombre del archivo de las muestras anteriores, los límites y líneas de los gráficos de control de (x̄- σ), y los datos de la muestra actual.      \n",
    "    **1.** [Datos](../Ejemplo/Ej_DH.txt \"Ver archivo de ejemplo\"): Archivos de texto.txt, con los datos de las muestras anteriores.       \n",
    "    **2. Límites y línea de los graficos de control de (x̄- σ):** Valores de (LCIx̄, LCIx̄_2σ, LCIx̄_1σ, LCx̄, LCSx̄_2σ, LCSx̄_1σ, LCSx̄) y (LCIσ, LCIσ_2σ, LCIσ_1σ, LCσ, LCSσ_2σ, LCSσ_1σ, LCSσ).      \n",
    "    **3. Muestra actual:** Datos de la muestra actaul separados por tabulaciones.\n",
    "   \n",
    "- ### Salidas\n",
    "    **0. Carpeta Resultados:** Carpeta en la misma ubicación del programa llamada \"Resultados\" para almacenar los resultados del programa.   \n",
    "    \n",
    "    **1. G_Control.png:** Imágen .png del el gráfico de control con los puntos dibujados.\n",
    "    \n",
    "    **2. Ej_DH.txt:** Archivo de las muesras anteriores actualizado con la muestra actual.\n",
    "    \n",
    "- ### Algoritmo  \n",
    "    0. Pedir y leer archivo de entradas.\n",
    "    1. Leer y almacenar los datos de las muestras anteriores.    \n",
    "    2. Calcular las variables estadísticas (x̄- σ).    \n",
    "    3. Buscar casos fuera de control.   \n",
    "        3.1. Punto por fuera de los límites   \n",
    "        3.2. Estratificación tipo C   \n",
    "        3.3. Secuencia tipo I   \n",
    "        3.4. Estratificación tipo B   \n",
    "        3.5. Secuencia tipo II   \n",
    "        3.6. Secuencia tipo III   \n",
    "        3.7. Estratificación tipo A   \n",
    "        3.8. Secuencia tipo IV   \n",
    "        3.9. Secuencia tipo V   \n",
    "    4. Actualizar archivo de datos. \n",
    "    5. Crear y guardar el gráfico de control.   "
   ]
  },
  {
   "cell_type": "markdown",
   "metadata": {},
   "source": [
    "---\n",
    "| [**Home**](../Deteccion_FControl.ipynb \"Ir a la página principal del algoritmo\")|\n",
    "| :--------: |"
   ]
  }
 ],
 "metadata": {
  "kernelspec": {
   "display_name": "Python 3",
   "language": "python",
   "name": "python3"
  },
  "language_info": {
   "codemirror_mode": {
    "name": "ipython",
    "version": 3
   },
   "file_extension": ".py",
   "mimetype": "text/x-python",
   "name": "python",
   "nbconvert_exporter": "python",
   "pygments_lexer": "ipython3",
   "version": "3.7.4"
  }
 },
 "nbformat": 4,
 "nbformat_minor": 4
}
