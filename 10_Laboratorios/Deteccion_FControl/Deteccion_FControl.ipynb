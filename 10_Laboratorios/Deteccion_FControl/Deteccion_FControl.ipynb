{
 "cells": [
  {
   "cell_type": "markdown",
   "metadata": {},
   "source": [
    "![Fig3_Encabezado.png](../../Fig3_Encabezado.png)\n",
    "\n",
    "---"
   ]
  },
  {
   "cell_type": "markdown",
   "metadata": {},
   "source": [
    "# **Detección Proceso Fuera de Control**"
   ]
  },
  {
   "cell_type": "markdown",
   "metadata": {},
   "source": [
    "## **Índice**\n",
    "\n",
    "- [Descripción](#descripcion)\n",
    "- [Ejemplo](Ejemplo/Ejemplo_DFC.ipynb#ejemplo)\n",
    "- [Análisis del problema](Programa/Analisis.ipynb \"Ir al análisis del problema\")\n",
    "- [Plantilla](Plantilla/Plantilla_DFC.ipynb \"Ir a la plantilla del programa\")\n",
    "- [Código del Programa](Programa/Deteccion_FControl.py \"Ir a archivo del programa\") \n",
    "- [Prácticas](Practicas/Practicas_DFC.ipynb)"
   ]
  },
  {
   "cell_type": "markdown",
   "metadata": {},
   "source": [
    "### **Descripción** <a id=\"descripcion\"></a>"
   ]
  },
  {
   "cell_type": "markdown",
   "metadata": {},
   "source": [
    "Cada vez que se agrega un punto en un gráfico de control además de identificar si el punto está fuera de los límites también se deben detectar los siguientes casos:\n",
    "\n",
    "1. **Tendencias:** Se presentan cuando una serie de puntos siempre aumenta o disminuye con respecto al anterior, o un conjunto de puntos en general presenta una pendiente positiva o negatavida generando tendencias ascendentes o descendentes.\n",
    "\n",
    "![tendencias.png](Descripcion/tendencias.png)\n",
    "\n",
    "**Nota:** La cantidad de puntos consecutivos dependen de cada proceso y del criterio del analísta. "
   ]
  },
  {
   "cell_type": "markdown",
   "metadata": {},
   "source": [
    "2. **Ciclos:** Cada intérvalo de de tiempo se presentan mediciones paracidas o una secuencia con el mismo comportamiento, las cuales se repiten a lo largo del gráfico.  \n",
    "\n",
    "![ciclos.pn](Descripcion/ciclos.png)"
   ]
  },
  {
   "cell_type": "markdown",
   "metadata": {},
   "source": [
    "3. **Estratificaciones:** Se presenta cuando los puntos se agrupan alrededor de la línea central o de alguna línea de control, existen tres casos para identificarlas.    \n",
    "\n",
    "    **A.** 15 puntos consecutivos a menos de una desviación típica\n",
    "    de la línea central.    \n",
    "    ![estrat_A.png](Descripcion/estrat_A.png)\n",
    "    \n",
    "    **B.** 8 puntos consecutivos entre una y dos desviaciones\n",
    "    típicas de la línea central.   \n",
    "    ![estrat_B.png](Descripcion/estrat_B.png)\n",
    "    \n",
    "    **C.** 2 puntos consecutivos a más de dos desviaciones típicas de la línea central. \n",
    "    ![estrat_C.png](Descripcion/estrat_C.png)\n",
    "    "
   ]
  },
  {
   "cell_type": "markdown",
   "metadata": {},
   "source": [
    "4. **Secuencias:** Es una variación no natural, y que se asocia con la tendencia de del proceso a dar valores a un solo lado de la línea central.    \n",
    "\n",
    "    **I.** 8 puntos consecutivos a un mismo lado de la línea central.   \n",
    "    ![sec_I.png](Descripcion/sec_I.png)\n",
    "    \n",
    "    **II.** 10 de 11 puntos consecutivos a un mismo lado de la línea central.  \n",
    "    ![sec_II.png](Descripcion/sec_II.png)\n",
    "    \n",
    "    **III.** 12 de 14 puntos consecutivos a un mismo lado de la línea central.  \n",
    "    ![sec_III.png](Descripcion/sec_III.png)\n",
    "    \n",
    "    **IV.** 14 de 17 puntos consecutivos a un mismo lado de la línea central.\n",
    "    ![sec_IV.png](Descripcion/sec_IV.png)\n",
    "    \n",
    "    **V.** 16 de 20 puntos consecutivos a un mismo lado de la línea central.\n",
    "    ![sec_V.png](Descripcion/sec_V.png)\n",
    "    "
   ]
  },
  {
   "cell_type": "markdown",
   "metadata": {},
   "source": [
    "5. **Inestabilidad:**   Los puntos se manejan de una manera errática pasando de valores muy alto a muy bajos sin puntos intermiedios.\n",
    "![inestabilidad.png](Descripcion/inestabilidad.png)"
   ]
  },
  {
   "cell_type": "markdown",
   "metadata": {},
   "source": [
    "### **Programa** <a id=\"programa\"></a>"
   ]
  },
  {
   "cell_type": "code",
   "execution_count": null,
   "metadata": {},
   "outputs": [],
   "source": [
    "%matplotlib inline\n",
    "try:\n",
    "    import os\n",
    "\n",
    "    os.chdir(\"Programa\")\n",
    "    from Deteccion_FControl import main\n",
    "    os.chdir(\"../\")\n",
    "\n",
    "    main()\n",
    "except(FileNotFoundError):\n",
    "    print(\"No se encuentra el archivo indicado.\")\n",
    "except(Exception):\n",
    "    print(\"El programa no se ha podido ejecutar correctamente\")"
   ]
  },
  {
   "cell_type": "markdown",
   "metadata": {},
   "source": [
    "| [**Home**](../../Home.ipynb#Home) <!--(https://www.python.org/Programas-en-Python)--> |\n",
    "| :--------: |"
   ]
  }
 ],
 "metadata": {
  "kernelspec": {
   "display_name": "Python 3",
   "language": "python",
   "name": "python3"
  },
  "language_info": {
   "codemirror_mode": {
    "name": "ipython",
    "version": 3
   },
   "file_extension": ".py",
   "mimetype": "text/x-python",
   "name": "python",
   "nbconvert_exporter": "python",
   "pygments_lexer": "ipython3",
   "version": "3.7.4"
  }
 },
 "nbformat": 4,
 "nbformat_minor": 4
}
