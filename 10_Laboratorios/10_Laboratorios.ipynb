{
 "cells": [
  {
   "cell_type": "markdown",
   "metadata": {},
   "source": [
    "# 10. Laboratorios <a id='10_Laboratorios'></a>"
   ]
  },
  {
   "cell_type": "markdown",
   "metadata": {},
   "source": [
    "---\n",
    "## Quinto semestre:\n",
    "#### - [Algoritmo Dijkstra - Ruta más corta](Dijkstra/Dijkstra.ipynb)\n",
    "#### - [MST - Minimun Spanning Tree](MST/MST.ipynb)\n",
    "#### - [RPW - Ranked Positional Weight](RPW/RPW.ipynb)\n",
    "\n",
    "## Sexto semestre:\n",
    "#### - [AHP - Analytic Hierarchy Process](AHP/AHP.ipynb)\n",
    "#### - [Detección Proceso Fuera de Control](Deteccion_FControl/Deteccion_FControl.ipynb)\n",
    "#### - [Gráficos de Control](Graficos_de_Control/Graficos_de_Control.ipynb)\n",
    "#### - [Tabla de Frecuencias](Tabla_de_Frecuencias/Tabla_de_Frecuencias.ipynb)   \n",
    "\n",
    "## Octavo semestre:\n",
    "#### - [BOA - Binary Ordering Algorithm](BOA/BOA.ipynb)\n",
    "#### - [Minimax Rectilíneo - Facility Location](Minimax_Rectilineo/Minimax_Rectilineo.ipynb)  \n",
    "#### - [Minisum Rectilíneo - Facility Location](Minisum_Rectilineo/Minisum_Rectilineo.ipynb) \n",
    "\n",
    "\n",
    "---"
   ]
  },
  {
   "cell_type": "markdown",
   "metadata": {},
   "source": [
    "| [***Anterior***](../9_Modulos/9_Modulos_y_Paquetes.ipynb#9_Modulos_y_Paquetes) <!--(https://mybinder.org/Introducción)--> | - | [**Home**](../Home.ipynb#Home) <!--(https://www.python.org/Programas-en-Python)--> |\n",
    "| :--------: | :-------: | :--------: |"
   ]
  }
 ],
 "metadata": {
  "kernelspec": {
   "display_name": "Python 3",
   "language": "python",
   "name": "python3"
  },
  "language_info": {
   "codemirror_mode": {
    "name": "ipython",
    "version": 3
   },
   "file_extension": ".py",
   "mimetype": "text/x-python",
   "name": "python",
   "nbconvert_exporter": "python",
   "pygments_lexer": "ipython3",
   "version": "3.7.4"
  }
 },
 "nbformat": 4,
 "nbformat_minor": 4
}
