{
 "cells": [
  {
   "cell_type": "markdown",
   "metadata": {},
   "source": [
    "# 7. Lectura y Escritura <a id='7_Lectura_y_Escritura'></a>"
   ]
  },
  {
   "cell_type": "markdown",
   "metadata": {},
   "source": [
    "---\n",
    "### [8.1. Gráficos 2D](#8.1_Graficos_2D)\n",
    ">[8.1.1. Funciones de Estílo](#8.1.1_Funciones-de-Estilo)    \n",
    "[8.1.2. Tipos de Gráficos](#8.1.2_Tipos-de-Graficos) "
   ]
  },
  {
   "cell_type": "markdown",
   "metadata": {},
   "source": [
    "---"
   ]
  },
  {
   "cell_type": "markdown",
   "metadata": {},
   "source": [
    "## **8.1. Gráficos 2D** <a id='8.1_Graficos_2D'></a>  \n",
    "## 8.1.1. Funciones de Estílo<a id='8.1.1_Funciones-de-Estilo'></a>        \n",
    "## 8.1.2. Tipos de Gráficos <a id='8.1.2_Tipos-de-Graficos'></a>    \n",
    "xxxxxxxxxxxxxxx \n",
    "\n",
    "~~~python\n",
    "\n",
    "~~~\n",
    "\n",
    "<a id='Min-eje_L_Archivo_0.txt'></a>\n",
    "\n",
    "~~~python\n",
    "# Mini_Ejemplo: Lectura Archivo_0.txt\n",
    "\n",
    "~~~\n",
    "\n",
    "## 7.1.1. Ubicación de Archivos <a id='7.1.1_Ubicacion-de-Archivos'></a>  \n",
    "### 7.1.1.1. Ruta Relativa <a id='7.1.1.1_Ruta_Relativa'></a>  \n",
    "\n",
    "Para mas información sobre el manejo de archivos de excel con pandas ingrese [aquí](https://pandas.pydata.org/pandas-docs/stable/reference/io.html#excel \"Ir a la documentación oficial de Pandas\") y para ir la documentación oficial del módulo **xlswriter** de click [aquí](https://xlsxwriter.readthedocs.io/index.html \"Ir a la documentación ofical de XlsxWriter\").\n"
   ]
  },
  {
   "cell_type": "code",
   "execution_count": null,
   "metadata": {},
   "outputs": [],
   "source": [
    "# Pase aquí el mini ejemplo anterior"
   ]
  },
  {
   "cell_type": "code",
   "execution_count": 51,
   "metadata": {},
   "outputs": [],
   "source": [
    "# Pase el código anterior aquí"
   ]
  },
  {
   "cell_type": "code",
   "execution_count": 64,
   "metadata": {},
   "outputs": [],
   "source": [
    "# Pase aquí el mini ejemplo anterior, una vez ejecutado busque en la carpeta Archivos el documento."
   ]
  },
  {
   "cell_type": "markdown",
   "metadata": {},
   "source": [
    "___"
   ]
  },
  {
   "cell_type": "markdown",
   "metadata": {},
   "source": [
    "| [***Anterior***](../7_Lectura_y_Escritura/7_Lectura_y_Escritura.ipynb#7_Lectura_y_Escritura) <!--(https://mybinder.org/Introducción)--> | - | [***Siguiente***](../8_Graficos/8_Graficos.ipynb#8_Graficos) <!--(https://www.python.org/Programas-en-Python)--> |\n",
    "| :--------: | :-------: | :--------: |"
   ]
  },
  {
   "cell_type": "markdown",
   "metadata": {},
   "source": [
    "| [**Home**](../Home.ipynb#Home)<!--(https://mybinder.org/Home)--> |\n",
    "| :--------: |"
   ]
  }
 ],
 "metadata": {
  "kernelspec": {
   "display_name": "Python 3",
   "language": "python",
   "name": "python3"
  },
  "language_info": {
   "codemirror_mode": {
    "name": "ipython",
    "version": 3
   },
   "file_extension": ".py",
   "mimetype": "text/x-python",
   "name": "python",
   "nbconvert_exporter": "python",
   "pygments_lexer": "ipython3",
   "version": "3.7.4"
  }
 },
 "nbformat": 4,
 "nbformat_minor": 4
}
