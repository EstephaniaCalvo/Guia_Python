{
 "cells": [
  {
   "cell_type": "markdown",
   "metadata": {},
   "source": [
    "# 8. Gráficos <a id='8_Graficos'></a>"
   ]
  },
  {
   "cell_type": "markdown",
   "metadata": {},
   "source": [
    "---\n",
    "### [8.1. Gráficos 2D](#8.1_Graficos_2D)\n",
    ">[8.1.1. Propiedades Líneas 2D](#8.1.1_Lineas_2D)    \n",
    "[8.1.2. Modificadores de Estílo](#8.1.2_Modificadores-de-Estilo)    \n",
    "[8.1.3. Líneas y Disperción](#8.1.3_Lineas_y_Dispercion)   \n",
    "[8.1.4. Histograma](#8.1.4_Histograma) "
   ]
  },
  {
   "cell_type": "markdown",
   "metadata": {},
   "source": [
    "---"
   ]
  },
  {
   "cell_type": "markdown",
   "metadata": {},
   "source": [
    "## **8.1. Gráficos 2D** <a id='8.1_Graficos_2D'></a>  \n",
    "\n",
    "En esta guía los gráficos se van a crear con el paquete Matplotlib, como se verá más adelante hay varios tipos de gráficos que se pueden crear, sin embargo aquí sólo se mostrarán algunos de ellos, si quiere investigar más lo invito a entrar a la [galería](https://matplotlib.org/gallery/index.html \"Ir a la documentación del módulo matplotlib\") del módulo.\n",
    "\n",
    "Para crear un gráfico en 2D se usarán la funciones del módulo pyplot, cuya documentación puede encontrar [aquí](https://matplotlib.org/api/_as_gen/matplotlib.pyplot.html#module-matplotlib.pyplot \"Ir a la documentación oficial de Pyplot\"). En los apartados siguientes encontrará una recopilación de las funciones y métodos básicos para modificar el estilo y dos tipos de gráficos.\n",
    "\n",
    "A continuación, el Mini_Ejemplo muestra cómo crear, mostrar y guardar un gráfico, argumento 'block' es False para que el código no deje de ejecutarse mientras se esté mostrando el gráfico. <a id='Min-eje_Grafico_2D'></a>\n",
    "\n",
    "~~~python\n",
    "# Mini_Ejemplo: Grafico_2D\n",
    "\n",
    "import matplotlib.pyplot as plt\n",
    "\n",
    "plt.plot([1,4,2,3,2,6,4,5,2,3,1])\n",
    "plt.show(block=False)\n",
    "plt.savefig(\"Grafico_Ejemplo.png\")\n",
    "plt.close()\n",
    "~~~"
   ]
  },
  {
   "cell_type": "code",
   "execution_count": null,
   "metadata": {},
   "outputs": [],
   "source": [
    "# Pase aquí el mini ejemplo anterior, una vez ejecutado busque en la carpeta del notebook la imagen."
   ]
  },
  {
   "cell_type": "markdown",
   "metadata": {},
   "source": [
    "## 8.1.1. Propiedades Líneas 2D <a id='8.1.1_Lineas_2D'></a>   \n",
    "\n",
    "Las líneas tienen gran cantidad de propiedades con las que se pueden modificar su aspecto, a continuación se mencionaran algunas de ellas, sin embargo, para conocerlas todas diríjase [aquí](https://matplotlib.org/api/_as_gen/matplotlib.lines.Line2D.html#matplotlib.lines.Line2D \"Ir a la documentación de esta clase.\").\n",
    "\n",
    "~~~python\n",
    "class matplotlib.lines.Line2D(xdata, ydata, linewidth=None, linestyle=None, color=None, marker=None, markersize=None, markeredgewidth=None, markeredgecolor=None, markerfacecolor=None, markerfacecoloralt='none', fillstyle=None, antialiased=None, dash_capstyle=None, solid_capstyle=None, dash_joinstyle=None, solid_joinstyle=None, pickradius=5, drawstyle=None, markevery=None, **kwargs)[source]\n",
    "~~~\n",
    "\n",
    "- **linewidth**: Ancho de línea, se representa con un número entero.\n",
    "- **linestyle**: Estilo de línea, puede tomar estos valores ['-', '--', '-.', ':'] entre [otros](https://matplotlib.org/api/_as_gen/matplotlib.lines.Line2D.html#matplotlib.lines.Line2D.set_linestyle \"Ir a la documentación oficial\").\n",
    "- **color**: [Color](https://matplotlib.org/examples/color/named_colors.html \"Lista de colores\") de la línea.\n",
    "- **marker=None**: Pone un marcador en cada punto, algunos de los valores que puede tomar son ['.','o','s','*'], para ver la lista completa ingrese [aquí](https://matplotlib.org/api/markers_api.html#module-matplotlib.markers \"Ir a la lista de marcadores\")\n",
    "    - **markersize**: Tamaño del marcador\n",
    "    - **markeredgecolor**: Color del contorno del marcador\n",
    "    - **markerfacecolor**: Color del relleno del marcador\n",
    "    \n",
    "<a id='Min-eje_Linea_2D'></a>\n",
    "\n",
    "~~~python\n",
    "# Mini_Ejemplo: Linea_2D\n",
    "\n",
    "import matplotlib.pyplot as plt\n",
    "\n",
    "plt.plot([1,4,2,3,2,6,4,5,2,3,1],linewidth=4,linestyle=':',color='lightpink',marker='*',markersize=15,markeredgecolor='darkmagenta',markerfacecolor='orchid')\n",
    "\n",
    "plt.show(block=False)\n",
    "plt.close()\n",
    "~~~"
   ]
  },
  {
   "cell_type": "code",
   "execution_count": null,
   "metadata": {},
   "outputs": [],
   "source": [
    "# Pase aquí el mini ejemplo anterior"
   ]
  },
  {
   "cell_type": "markdown",
   "metadata": {},
   "source": [
    "## 8.1.2. Modificadores de Estilo <a id='8.1.2_Moficadores-de-Estilo'></a>   \n",
    "En esta sección se van a ver las funciones para modificar el estilo del gráfico, como poner títulos, cuadriculas, leyendas, colores etc. \n",
    "\n",
    "\n",
    "- #### [**figure()**](https://matplotlib.org/api/_as_gen/matplotlib.figure.Figure.html#matplotlib.figure.Figure \"Ir a la documentación de la función\")\n",
    "\n",
    "\n",
    "~~~python\n",
    "matplotlib.pyplot.figure(num=None, figsize=None, dpi=None, facecolor=None, edgecolor=None, frameon=True, FigureClass=<class 'matplotlib.figure.Figure'>, clear=False, **kwargs)\n",
    "~~~\n",
    "\n",
    "Con esta función se puede modificar la figura donde se va dibujar el gráfico, los argumentos más importantes son:\n",
    "- **num**: Número de gráficos que contendrá\n",
    "- **figsize**: Tamaño de la figura, se representa como una lista [ancho x alto]\n",
    "- **dpi**: Resolución.\n",
    "- **facecolor**: [color](https://matplotlib.org/examples/color/named_colors.html \"Lista de colores\") de la figura.\n",
    "- **edgecolor**: color del borde\n",
    "- **frameon**: Por defecto está inicializado con True, de lo contrario no se mostraría la figura.\n",
    "\n",
    "~~~python\n",
    "import matplotlib.pyplot as plt\n",
    "\n",
    "plt.figure(figsize=[10,2.5],dpi=150,facecolor=\"ivory\")\n",
    "\n",
    "plt.plot([1,4,2,3,2,6,4,5,2,3,1])\n",
    "plt.show(block=False)\n",
    "plt.close()\n",
    "~~~"
   ]
  },
  {
   "cell_type": "code",
   "execution_count": null,
   "metadata": {},
   "outputs": [],
   "source": [
    "# Pase el código anterior aquí"
   ]
  },
  {
   "cell_type": "markdown",
   "metadata": {},
   "source": [
    "- #### [**axis()**](https://matplotlib.org/api/_as_gen/matplotlib.pyplot.axis.html#matplotlib.pyplot.axis \"Ir a la documentación\")\n",
    "\n",
    "~~~python\n",
    "matplotlib.pyplot.axis(*args, **kwargs)\n",
    "~~~\n",
    "\n",
    "Con esta función se puede modificar los ejes del gráfico, además devuelve los límites de los ejes, sus argumentos son abiertos, entre los más comunes están:\n",
    "\n",
    "- **limites**: lista con los límites de los ejes [xmin, xmax, ymin, ymax]\n",
    "- **option**: Su valor puede ser booleano o str, si es False no se mostrarán los ejes, para conocer los valores que puede adoptar diríjase a la documentación.\n",
    "\n",
    "~~~python\n",
    "import matplotlib.pyplot as plt\n",
    "\n",
    "xmin, xmax, ymin, ymax=plt.axis([-2,15,-4,10])\n",
    "print(\"La función devuelve los límites de los ejes: \",xmin, xmax, ymin, ymax,\"\\n\")\n",
    "\n",
    "plt.plot([1,4,2,3,2,6,4,5,2,3,1])\n",
    "plt.show(block=False)\n",
    "plt.close()\n",
    "~~~"
   ]
  },
  {
   "cell_type": "code",
   "execution_count": null,
   "metadata": {},
   "outputs": [],
   "source": [
    "# Pase el código anterior aquí"
   ]
  },
  {
   "cell_type": "markdown",
   "metadata": {},
   "source": [
    "- #### [**xticks()**](https://matplotlib.org/api/_as_gen/matplotlib.pyplot.xticks.html#matplotlib.pyplot.xticks \"Ir a la documentación de la función\")\n",
    "\n",
    "~~~python\n",
    "matplotlib.pyplot.xticks(ticks=None, labels=None, **kwargs)\n",
    "~~~\n",
    "\n",
    "Con esta función se puede modificar etiquetas de las rejillas de los ejes, para el eje y se utiliza [**yticks()**](https://matplotlib.org/api/_as_gen/matplotlib.pyplot.yticks.html#matplotlib.pyplot.yticks \"Ir a la documentación de la función\"), además devuelve un array con las posiciones y una lista con las etiquetas.\n",
    "\n",
    "- **ticks**: Es una lista con las posiciones de las etiquetas.\n",
    "- **labels**: Es una lista con las etiquetas de la regla.\n",
    "\n",
    "\n",
    "~~~python\n",
    "import matplotlib.pyplot as plt\n",
    "\n",
    "p_x,e_x=plt.xticks(range(12),labels=['Ene', 'Feb', 'Mar', 'Abr', 'May', 'Jun', 'Jul', 'Ago', 'Sep','Oct', 'Nov', 'Dic'])\n",
    "\n",
    "p_y,e_y=plt.yticks([1,1.5, 2, 2.3, 3, 3.3, 4.3, 4.7, 5, 6])\n",
    "\n",
    "plt.plot([1.5,4.3,2,3.2,2,6,4.7,5,2,3,1,2.3])\n",
    "plt.show(block=False)\n",
    "plt.close()\n",
    "~~~"
   ]
  },
  {
   "cell_type": "code",
   "execution_count": null,
   "metadata": {},
   "outputs": [],
   "source": [
    "# Pase el código anterior aquí"
   ]
  },
  {
   "cell_type": "markdown",
   "metadata": {},
   "source": [
    "- #### [**grid()**](https://matplotlib.org/api/_as_gen/matplotlib.pyplot.grid.html#matplotlib.pyplot.grid \"Ir a la documentación de la función\")\n",
    "\n",
    "~~~python\n",
    "matplotlib.pyplot.grid(b=None, which='major', axis='both', **kwargs)\n",
    "~~~\n",
    "\n",
    "Con esta función se puede mostrar y modificar una cuadrícula principal y otra secundaria, para esta última se debe activar los ticks secundarios con la función [**minorticks_on()**](https://matplotlib.org/api/_as_gen/matplotlib.pyplot.minorticks_off.html#matplotlib.pyplot.minorticks_off \"Ir a la documentación de la función\").\n",
    "\n",
    "- **b**: Booleano para activar o desactivar la cuadrícula.\n",
    "- **which**: Tipo de cuadrícula, puede ser 'major' 'minor' o 'both'.\n",
    "- **axis**: El eje al que se le va aplicar las líneas guía, puede ser 'x', 'y' o 'both'.\n",
    "- **otros**: [Propiedades de las líneas 2D](#8.1.1_Lineas_2D \"Ir al apartado de propiedades de líneas 2D\")\n",
    "\n",
    "\n",
    "~~~python\n",
    "import matplotlib.pyplot as plt\n",
    "\n",
    "plt.grid(b=True,color=\"darksalmon\", alpha=0.5)\n",
    "\n",
    "plt.minorticks_on()\n",
    "p_y,e_y=plt.yticks([1,1.5, 2, 2.3, 3, 3.3, 4.3, 4.7, 5, 6])\n",
    "plt.grid(True, which='minor', axis=\"y\", color=\"linen\")\n",
    "\n",
    "plt.plot([1.5,4.3,2,3.2,2,6,4.7,5,2,3,1,2.3])\n",
    "plt.show(block=False)\n",
    "plt.close()\n",
    "~~~"
   ]
  },
  {
   "cell_type": "code",
   "execution_count": null,
   "metadata": {},
   "outputs": [],
   "source": [
    "# Pase el código anterior aquí"
   ]
  },
  {
   "cell_type": "markdown",
   "metadata": {},
   "source": [
    "- #### [**title()**](https://matplotlib.org/api/_as_gen/matplotlib.pyplot.title.html#matplotlib.pyplot.title \"Ir a la documentación de la función\")\n",
    "\n",
    "~~~python\n",
    "matplotlib.pyplot.title(label, fontdict=None, loc='center', pad=None, **kwargs)[source]\n",
    "~~~\n",
    "\n",
    "Con esta función se le puede asignar y mostrar un título al gráfico, para hacer lo mismo con los ejes se utilizan las funciones [**xlabel()**](https://matplotlib.org/api/_as_gen/matplotlib.pyplot.xlabel.html#matplotlib.pyplot.xlabel \"Ir a la documentación de la función\") y [**ylabel()**](https://matplotlib.org/api/_as_gen/matplotlib.pyplot.ylabel.html#matplotlib.pyplot.ylabel \"Ir a la documentación de la función\").\n",
    "\n",
    "~~~python\n",
    "import matplotlib.pyplot as plt\n",
    "\n",
    "plt.title(\"Gráfico de Ejemplo\", fontsize=18)\n",
    "plt.xlabel(\"Eje x\", fontsize=14)\n",
    "plt.ylabel(\"Eje y\", fontsize=14)\n",
    "\n",
    "plt.plot([1.5,4.3,2,3.2,2,6,4.7,5,2,3,1,2.3])\n",
    "plt.show(block=False)\n",
    "plt.close()\n",
    "~~~"
   ]
  },
  {
   "cell_type": "code",
   "execution_count": null,
   "metadata": {},
   "outputs": [],
   "source": [
    "# Pase el código anterior aquí"
   ]
  },
  {
   "cell_type": "markdown",
   "metadata": {},
   "source": [
    "- #### [**legend()**](https://matplotlib.org/api/_as_gen/matplotlib.pyplot.legend.html#matplotlib.pyplot.legend \"Ir a la documentación de la función\")\n",
    "\n",
    "~~~python\n",
    "matplotlib.pyplot.legend(*args, **kwargs)\n",
    "~~~\n",
    "\n",
    "Con esta función se puede mostrar un cuadro con la leyenda de las series que están dibujadas en los gráficos.\n",
    "\n",
    "~~~python\n",
    "import matplotlib.pyplot as plt\n",
    "\n",
    "plt.title(\"Gráfico de Ejemplo\", fontsize=18)\n",
    "plt.xlabel(\"Eje x\", fontsize=14)\n",
    "plt.ylabel(\"Eje y\", fontsize=14)\n",
    "\n",
    "plt.plot([1.5,4.3,2,3.2,2,6,4.7,5,2,3,1,2.3], label=\"Serie 1\")\n",
    "plt.plot([9.91, 5.82, 0.86, 5.12, 9.28, 4.63, 2.61, 6.97, 8.48, 6.15, 4.21, 2.8], label=\"Serie 2\")\n",
    "\n",
    "plt.legend()\n",
    "plt.show(block=False)\n",
    "plt.close()\n",
    "~~~"
   ]
  },
  {
   "cell_type": "code",
   "execution_count": null,
   "metadata": {},
   "outputs": [],
   "source": [
    "# Pase el código anterior aquí"
   ]
  },
  {
   "cell_type": "markdown",
   "metadata": {},
   "source": [
    "- #### [**subplot()**](https://matplotlib.org/api/_as_gen/matplotlib.pyplot.subplot.html#matplotlib.pyplot.subplot \"Ir a la documentación de la función\")\n",
    "\n",
    "~~~python\n",
    "matplotlib.pyplot.subplot(*args, **kwargs)\n",
    "~~~\n",
    "\n",
    "Con esta función se puede dibujar varios gráficos en una sola figura.\n",
    "\n",
    "- ***args**: Número entero de tres dígitos, donde el primero indica el número de filas, el segundo el de columnas y el tercero el índice para ubicar el gráfico.\n",
    "\n",
    "~~~python\n",
    "import matplotlib.pyplot as plt\n",
    "\n",
    "plt.figure(num=2,figsize=[10,4])\n",
    "\n",
    "plt.subplot(121)\n",
    "plt.title(\"Ejemplo Gráfico 1\")\n",
    "plt.plot([1.5,4.3,2,3.2,2,6,4.7,5,2,3,1,2.3])\n",
    "\n",
    "plt.subplot(122)\n",
    "plt.title(\"Ejemplo Gráfico 2\")\n",
    "plt.plot([9.91, 5.82, 0.86, 5.12, 9.28, 4.63, 2.61, 6.97, 8.48, 6.15, 4.21, 2.8],color=\"salmon\")\n",
    "\n",
    "plt.show(block=False)\n",
    "plt.close()\n",
    "~~~"
   ]
  },
  {
   "cell_type": "code",
   "execution_count": null,
   "metadata": {},
   "outputs": [],
   "source": [
    "# Pase el código anterior aquí"
   ]
  },
  {
   "cell_type": "markdown",
   "metadata": {},
   "source": [
    "## 8.1.3. Líneas y Dispersión <a id='8.1.3_Lineas_y_Dispercion'></a>   \n",
    "La función plot() sirve para crear diferentes gráficos entre los más importantes los de línea y dispersión, [aquí](https://matplotlib.org/api/_as_gen/matplotlib.pyplot.plot.html \"Ir a documentación de la función.\") puede encontrar la documentación oficial de esta función.\n",
    "\n",
    "~~~python\n",
    "matplotlib.pyplot.plot(*args, scalex=True, scaley=True, data=None, **kwargs)\n",
    "~~~\n",
    "- ***arg**: Listas de coordenadas 'x' y 'y'. \n",
    "\n",
    "Cuando se ingresan dos listas la función las interpreta como las coordenadas de una serie de puntos, la primera siempre va a ser 'x' y la segunda 'y'. <a id='Min-eje_Cuadrado'></a>\n",
    "\n",
    "~~~python\n",
    "# Mini_Ejemplo: Cuadrado.\n",
    "import matplotlib.pyplot as plt\n",
    "\n",
    "plt.figure(figsize=[5,5])\n",
    "plt.axis([-1,5,-1,5])\n",
    "\n",
    "plt.plot([0,0,4,4,0],[0,4,4,0,0],color='dodgerblue',marker='o')\n",
    "\n",
    "plt.show(block=False)\n",
    "\n",
    "plt.close()\n",
    "~~~"
   ]
  },
  {
   "cell_type": "code",
   "execution_count": null,
   "metadata": {},
   "outputs": [],
   "source": [
    "# Pase aquí el mini ejemplo anterior"
   ]
  },
  {
   "cell_type": "markdown",
   "metadata": {},
   "source": [
    "#### Gráfico de Líneas\n",
    "\n",
    "Cuando solo se ingresa una lista de valores, la función hace de cuenta que se ha ingresado la coordenada 'y' y que la coordenada x está compuesta por una lista de 0 hasta la cantidad de datos que tenga la lista ingresada.\n",
    "\n",
    "<a id='Min-eje_Ventas_Mensuales'></a>\n",
    "\n",
    "~~~python\n",
    "# Mini_Ejemplo: Ventas Mensuales\n",
    "import matplotlib.pyplot as plt\n",
    "\n",
    "plt.title(\"Ventas Mensuales 2006\")\n",
    "plt.ylabel(\"Millones de pesos\")\n",
    "\n",
    "plt.xticks(range(12),labels=['Ene', 'Feb', 'Mar', 'Abr', 'May', 'Jun', 'Jul', 'Ago', 'Sep','Oct', 'Nov', 'Dic'])\n",
    "plt.plot([209,135,181,250,230,300,267,185,148,240,170,310],marker=\"o\",color='darkmagenta')\n",
    "\n",
    "plt.show(block=False)\n",
    "plt.close()\n",
    "~~~"
   ]
  },
  {
   "cell_type": "code",
   "execution_count": null,
   "metadata": {},
   "outputs": [],
   "source": [
    "# Pase aquí el mini ejemplo anterior"
   ]
  },
  {
   "cell_type": "markdown",
   "metadata": {},
   "source": [
    "#### Gráfico de Dispersión\n",
    "Cuando solo se usan los marcadores y se omite la línea, se puede obtener un diagrama de dispersión.\n",
    "\n",
    "<a id='Min-eje_G_Dispersion'></a>\n",
    "\n",
    "~~~python\n",
    "# Mini_Ejemplo: Gráfico de Dispersión\n",
    "\n",
    "import matplotlib.pyplot as plt\n",
    "\n",
    "x=[1.16, 6.43, 8.63, 2.62, 2.91, 9.54, -0.02, 4.75, 6.89, 0.15, 0.98, 4.69, 0.84, 9.54, 0.57, 2.65, 0.26, 8.59, 2.93, 5.96]\n",
    "y=[6.45, 17.72, 21.96, 9.4, 10.47, 23.17, 5.34, 14.45, 18.48, 5.17, 6.33, 13.0, 6.64, 23.69, 6.1, 10.82, 5.37, 20.75, 11.53, 17.1]\n",
    "\n",
    "plt.title(\"Gráfico de Dispersión\")\n",
    "plt.ylabel(\"Eje x\")\n",
    "plt.ylabel(\"Eje y\")\n",
    "\n",
    "plt.plot(x,y,\"bo\",color='darkmagenta')\n",
    "\n",
    "plt.show(block=False)\n",
    "plt.close()\n",
    "~~~"
   ]
  },
  {
   "cell_type": "code",
   "execution_count": null,
   "metadata": {},
   "outputs": [],
   "source": [
    "# Pase aquí el mini ejemplo anterior"
   ]
  },
  {
   "cell_type": "markdown",
   "metadata": {},
   "source": [
    "## 8.1.4. Histograma <a id='8.1.4_Histograma'></a> \n",
    "Con la función hist() se puede crear un histograma, además devuelve las frecuencias , las clases, y una lista usada para crearlo, para más información de la función ingrese [aquí](https://matplotlib.org/api/_as_gen/matplotlib.pyplot.hist.html \"Ir a documentación de la función.\") para ver la documentación oficial.\n",
    "\n",
    "~~~python\n",
    "matplotlib.pyplot.hist(x, bins=None, range=None, density=None, weights=None, cumulative=False, bottom=None, histtype='bar', align='mid', orientation='vertical', rwidth=None, log=False, color=None, label=None, stacked=False, normed=None, *, data=None, **kwargs)\n",
    "~~~\n",
    "\n",
    "- **x**: Lista de datos.\n",
    "- **bins**: Número de clases.\n",
    "- **density**: Si es True se crea un histograma normalizado, es decir, a partir de las frecuencias.\n",
    "- **cumulative**: Si es True se crea un histograma acumulativo.\n",
    "- **color**: Color del histograma.\n",
    "- **label**: Nombre de la serie.\n",
    "\n",
    "<a id='Min-eje_Histograma'></a>\n",
    "\n",
    "~~~python\n",
    "# Mini_Ejemplo: Histograma.\n",
    "import matplotlib.pyplot as plt\n",
    "\n",
    "plt.title(\"Hitograma\",fontsize=18)\n",
    "plt.ylabel(\"Frecuencia\",fontsize=14)\n",
    "plt.xlabel(\"Datos\",fontsize=14)\n",
    "\n",
    "histograma=plt.hist([2,1,3,4,2,3,4,3,5,3],5,edgecolor='dodgerblue',color='dodgerblue',alpha=0.5)\n",
    "\n",
    "frecuencias=histograma[0] \n",
    "clases=histograma[1]\n",
    "print(\"Las frecuencias de los datos son: \",frecuencias)\n",
    "print(\"Las clases del histograma son: \",clases,\"\\n\")\n",
    "\n",
    "plt.xticks(clases)\n",
    "plt.show(block=False)\n",
    "\n",
    "plt.close()\n",
    "~~~"
   ]
  },
  {
   "cell_type": "code",
   "execution_count": null,
   "metadata": {},
   "outputs": [],
   "source": [
    "# Pase aquí el mini ejemplo anterior"
   ]
  },
  {
   "cell_type": "markdown",
   "metadata": {},
   "source": [
    "#### Histograma Normalizado <a id='Min-eje_Histograma_Normalizado'></a>\n",
    "\n",
    "~~~python\n",
    "# Mini_Ejemplo: Histograma Normalizado.\n",
    "import matplotlib.pyplot as plt\n",
    "\n",
    "plt.title(\"Hitograma Normalizado\",fontsize=18)\n",
    "plt.ylabel(\"Frec. Relativa\",fontsize=14)\n",
    "plt.xlabel(\"Datos\",fontsize=14)\n",
    "\n",
    "histograma=plt.hist([2,1,3,4,2,3,4,3,5,3],5,density=True,edgecolor='orange',color='orange',alpha=0.5)\n",
    "\n",
    "clases=histograma[1]\n",
    "\n",
    "plt.xticks(clases)\n",
    "plt.show(block=False)\n",
    "\n",
    "plt.close()\n",
    "~~~"
   ]
  },
  {
   "cell_type": "code",
   "execution_count": null,
   "metadata": {},
   "outputs": [],
   "source": [
    "# Pase aquí el mini ejemplo anterior"
   ]
  },
  {
   "cell_type": "markdown",
   "metadata": {},
   "source": [
    "#### Histograma Acumulativo <a id='Min-eje_Histograma_Acumulativo'></a>\n",
    "\n",
    "~~~python\n",
    "# Mini_Ejemplo: Histograma Acumulativo.\n",
    "import matplotlib.pyplot as plt\n",
    "\n",
    "plt.title(\"Hitograma Acumulativo\",fontsize=18)\n",
    "plt.ylabel(\"Frec. Relativa\",fontsize=14)\n",
    "plt.xlabel(\"Datos\",fontsize=14)\n",
    "\n",
    "histograma=plt.hist([2,1,3,4,2,3,4,3,5,3],5,cumulative=True,edgecolor='g',color='g',alpha=0.5)\n",
    "\n",
    "clases=histograma[1]\n",
    "\n",
    "plt.xticks(clases)\n",
    "plt.show(block=False)\n",
    "\n",
    "plt.close()\n",
    "~~~"
   ]
  },
  {
   "cell_type": "code",
   "execution_count": null,
   "metadata": {},
   "outputs": [],
   "source": [
    "# Pase aquí el mini ejemplo anterior"
   ]
  },
  {
   "cell_type": "markdown",
   "metadata": {},
   "source": [
    "#### Histograma Comparativo <a id='Min-eje_Histograma_Comparativo'></a>\n",
    "\n",
    "~~~python\n",
    "# Mini_Ejemplo: Histograma Comparativo.\n",
    "import matplotlib.pyplot as plt\n",
    "\n",
    "plt.title(\"Hitograma Comparativo\",fontsize=18)\n",
    "plt.ylabel(\"Frec. Relativa\",fontsize=14)\n",
    "plt.xlabel(\"Datos\",fontsize=14)\n",
    "\n",
    "plt.hist([2,1,3,4,2,3,4,3,5,3],5,edgecolor='dodgerblue',color='dodgerblue',alpha=0.5)\n",
    "plt.hist([2,1,3,4,2,3,4,3,5,3],5,cumulative=True,edgecolor='yellowgreen',color='yellowgreen',alpha=0.5)\n",
    "\n",
    "plt.xticks(clases)\n",
    "plt.show(block=False)\n",
    "\n",
    "plt.close()\n",
    "~~~"
   ]
  },
  {
   "cell_type": "code",
   "execution_count": null,
   "metadata": {},
   "outputs": [],
   "source": [
    "# Pase aquí el mini ejemplo anterior"
   ]
  },
  {
   "cell_type": "markdown",
   "metadata": {},
   "source": [
    "___"
   ]
  },
  {
   "cell_type": "markdown",
   "metadata": {},
   "source": [
    "| [***Anterior***](../7_Lectura_y_Escritura/7_Lectura_y_Escritura.ipynb#7_Lectura_y_Escritura) <!--(https://mybinder.org/Introducción)--> | - | [***Siguiente***](../9_Modulos/9_Modulos_y_Paquetes.ipynb#9_Modulos_y_Paquetes) <!--(https://www.python.org/Programas-en-Python)--> |\n",
    "| :--------: | :-------: | :--------: |"
   ]
  },
  {
   "cell_type": "markdown",
   "metadata": {},
   "source": [
    "| [**Home**](../Home.ipynb#Home)<!--(https://mybinder.org/Home)--> |\n",
    "| :--------: |"
   ]
  }
 ],
 "metadata": {
  "kernelspec": {
   "display_name": "Python 3",
   "language": "python",
   "name": "python3"
  },
  "language_info": {
   "codemirror_mode": {
    "name": "ipython",
    "version": 3
   },
   "file_extension": ".py",
   "mimetype": "text/x-python",
   "name": "python",
   "nbconvert_exporter": "python",
   "pygments_lexer": "ipython3",
   "version": "3.7.4"
  }
 },
 "nbformat": 4,
 "nbformat_minor": 4
}
